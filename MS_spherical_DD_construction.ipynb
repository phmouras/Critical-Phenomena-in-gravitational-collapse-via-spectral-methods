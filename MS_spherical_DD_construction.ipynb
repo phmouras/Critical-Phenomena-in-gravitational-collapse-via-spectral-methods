{
  "cells": [
    {
      "cell_type": "markdown",
      "metadata": {
        "id": "view-in-github",
        "colab_type": "text"
      },
      "source": [
        "<a href=\"https://colab.research.google.com/github/phmouras/Critical-Phenomena-in-gravitational-collapse-via-spectral-methods/blob/main/MS_spherical_DD_construction.ipynb\" target=\"_parent\"><img src=\"https://colab.research.google.com/assets/colab-badge.svg\" alt=\"Open In Colab\"/></a>"
      ]
    },
    {
      "cell_type": "code",
      "source": [
        "import numpy as np\n",
        "import pandas as pd\n",
        "import matplotlib.pyplot as plt\n",
        "import math\n",
        "\n",
        "\n",
        "# Truncation ordem\n",
        "N1 = 50             # 1st domain [0, r0]\n",
        "\n",
        "N2 = 50             # 2nd domain [r0, ∞)\n",
        "\n",
        "# Map parameter\n",
        "\n",
        "L0 = 1\n",
        "\n",
        "# Collocation points\n",
        "\n",
        "x0 = 0\n",
        "\n",
        "r0 = L0*(1+x0)/(1-x0)   # r(x)\n",
        "\n",
        "#x0 = (r0 - L0)/(r0 + L0)    # x(r)\n",
        "\n",
        "r0_col = 1/(r0+L0) - (r0-L0)/(r0+L0)**2      # dx0/dr0\n",
        "rr0_col = -2/(r0+L0)**2 + 2*(r0-L0)/(r0+L0)**3    # d²x0/dr0²\n",
        "\n",
        "# 1st domain:\n",
        "col_1 = np.cos(np.arange(2*N1 + 1)*math.pi /(2*N1))   # [0, 1]   # interface not included (verified)\n",
        "\n",
        "x1_col = np.flip(col_1)\n",
        "\n",
        "x1 = x1_col[N1:2*N1]\n",
        "\n",
        "r1 = r0*x1                                    # physical domain (verified); x = r/r0\n",
        "\n",
        "r1_col = 1/r0       # dx1/dr1\n",
        "\n",
        "rr1_col = 0         # d^2 x1/dr1^2\n",
        "\n",
        "# 2st domain:\n",
        "col_2 = np.cos(np.arange(N2 + 2)*math.pi /(N2 + 1))   # [-1, 1]   # interface not included (verified)\n",
        "\n",
        "x2_col = np.flip(col_2)\n",
        "\n",
        "x2 = x2_col[1:N2+1]\n",
        "\n",
        "r2 = r0 + L0*(1+x2)/(1-x2)                    # physical domain (verified)\n",
        "\n",
        "#x2 = (r2-r0-L0)/(r2-r0+L0)\n",
        "\n",
        "r2_col =  1/(r2-r0+L0) - (r2-r0-L0)/(r2-r0+L0)**2   # dx2/dr2\n",
        "\n",
        "rr2_col = -2/(r2-r0+L0)**2 + 2*(r2-r0-L0)/(r2-r0+L0)**3\n",
        "\n",
        "#r_short = np.hstack((r1,r2))\n",
        "r = np.hstack((r1,r2))\n",
        "\n",
        "# Base Functions:\n",
        "\n",
        "# 1st domain:\n",
        "\n",
        "TB1 = np.zeros([2*N1+3,N1])\n",
        "\n",
        "TB1[0,] = 1\n",
        "TB1[1,] = x1\n",
        "\n",
        "for i in range(2,2*N1+3):\n",
        "  TB1[i,] = 2*x1*TB1[i-1,] - TB1[i-2,]\n",
        "\n",
        "TB1_pair = TB1[0:2*N1+1:2,:]\n",
        "TB1_odd = TB1[1:2*N1+2:2,:]\n",
        "\n",
        "# 1st Derivative\n",
        "rTB1 = np.zeros([2*N1+3,N1])\n",
        "colTB1 = np.zeros([2*N1+3,N1])\n",
        "\n",
        "colTB1[0,] = 0\n",
        "colTB1[1,] = 1\n",
        "rTB1[0,] = r1_col*colTB1[0,]\n",
        "rTB1[1,] = r1_col*colTB1[1,]\n",
        "\n",
        "for i in range(2, 2*N1+3):\n",
        "  colTB1[i,] = 2*x1*colTB1[i-1,] + 2*TB1[i-1,] - colTB1[i-2,]\n",
        "  rTB1[i,] = r1_col*colTB1[i,]\n",
        "\n",
        "rTB1_pair = rTB1[0:2*N1+1:2,:]     # Verified\n",
        "rTB1_odd = rTB1[1:2*N1+2:2,:]     # Verified\n",
        "\n",
        "# 2nd Derivative\n",
        "rrTB1 = np.zeros([2*N1+3,N1])\n",
        "ccolTB1 = np.zeros([2*N1+3,N1])\n",
        "\n",
        "ccolTB1[0,] = 0\n",
        "ccolTB1[1,] = 0\n",
        "rrTB1[0,] = rr1_col*colTB1[0,] + (r1_col)**2 * ccolTB1[0,]\n",
        "rrTB1[1,] = rr1_col*colTB1[1,] + (r1_col)**2 * ccolTB1[1,]\n",
        "\n",
        "for i in range(2, 2*N1+3):\n",
        "  ccolTB1[i,] = 2*colTB1[i-1,] + 2*x1*ccolTB1[i-1,] + 2*colTB1[i-1,] - ccolTB1[i-2,]\n",
        "  rrTB1[i,] = rr1_col*colTB1[i,] + (r1_col)**2 * ccolTB1[i,]                         # ccolTB1[i,] = d²TB1[i,]/dcol²\n",
        "\n",
        "rrTB1_pair = rrTB1[0:2*N1+1:2,:]\n",
        "\n",
        "# Basis function for 1st domain:\n",
        "psi_1 = np.hstack((TB1_pair,np.zeros([N1+1,N1])))   # [N1+1, N1+N2+2]      # Verified\n",
        "\n",
        "rpsi_1 = np.hstack((rTB1_pair,np.zeros([N1+1,N1])))   #     # Verified\n",
        "\n",
        "rrpsi_1 = np.hstack((rrTB1_pair,np.zeros([N1+1,N1])))   #     # Verified\n",
        "\n",
        "# Second domain:\n",
        "\n",
        "TL2 = np.zeros([N2+2,N2])\n",
        "\n",
        "TL2[0,] = 1\n",
        "TL2[1,] = x2\n",
        "\n",
        "for i in range(2,N2+2):\n",
        "  TL2[i,] = 2*x2*TL2[i-1,] - TL2[i-2,]\n",
        "\n",
        "# 1st Derivative\n",
        "rTL2 = np.zeros([N2+2,N2])\n",
        "colTL2 = np.zeros([N2+2,N2])\n",
        "\n",
        "colTL2[0,] = 0\n",
        "colTL2[1,] = 1\n",
        "rTL2[0,] = r2_col*colTL2[0,]\n",
        "rTL2[1,] = r2_col*colTL2[1,]\n",
        "\n",
        "for i in range(2, N2+2):\n",
        "  colTL2[i,] = 2*x2*colTL2[i-1,] + 2*TL2[i-1,] - colTL2[i-2,]\n",
        "  rTL2[i,] = r2_col*colTL2[i,]\n",
        "\n",
        "# 2nd Derivative\n",
        "rrTL2 = np.zeros([N2+2,N2])\n",
        "ccolTL2 = np.zeros([N2+2,N2])\n",
        "\n",
        "ccolTL2[0,] = 0\n",
        "ccolTL2[1,] = 0\n",
        "rrTL2[0,] = rr2_col*colTL2[0,] + (r2_col)**2 * ccolTL2[0,]\n",
        "rrTL2[1,] = rr2_col*colTL2[1,] + (r2_col)**2 * ccolTL2[1,]\n",
        "\n",
        "for i in range(2, N2+2):\n",
        "  ccolTL2[i,] = 2*colTL2[i-1,] + 2*x2*ccolTL2[i-1,] + 2*colTL2[i-1,] - ccolTL2[i-2,]\n",
        "  rrTL2[i,] = rr2_col*colTL2[i,] + (r2_col)**2 * ccolTL2[i,]                         # ccolTL2[i,] = d²TL2[i,]/dcol²\n",
        "\n",
        "# Linear combinations of TL2, rTL2 and rrTL2\n",
        "SB2 = 1/2*(TL2[1:N2+2,:] - TL2[0:N2+1,:])\n",
        "rSB2 = 1/2*(rTL2[1:N2+2,:] - rTL2[0:N2+1,:])\n",
        "rrSB2 = 1/2*(rrTL2[1:N2+2,:] - rrTL2[0:N2+1,:])\n",
        "\n",
        "\n",
        "\n",
        "# Basis function for 2st domain:\n",
        "psi_2 = np.hstack((np.zeros([N2+1,N2]), SB2))\n",
        "\n",
        "rpsi_2 = np.hstack((np.zeros([N2+1,N2]), rSB2))\n",
        "\n",
        "rrpsi_2 = np.hstack((np.zeros([N2+1,N2]), rrSB2))\n",
        "\n",
        "\n",
        "# Final Base function: 1 + 2 Subdomains - Interface not included\n",
        "psi_tst = np.vstack((psi_1, psi_2))         # Verified\n",
        "\n",
        "# TRANSMISSION CONDITIONS:\n",
        "\n",
        "\n",
        "# 1st domain: r0 = 1\n",
        "TB1_r0 = np.zeros([2*N1+2])     # TB1(r0)\n",
        "\n",
        "r01 = 1\n",
        "\n",
        "TB1_r0[0] = 1\n",
        "TB1_r0[1] = r01\n",
        "\n",
        "for i in range(2,2*N1+2):\n",
        "  TB1_r0[i] = 2*r01*TB1_r0[i-1] - TB1_r0[i-2]\n",
        "\n",
        "TB1_r0_pair = TB1_r0[0:2*N1+1:2]\n",
        "\n",
        "# 1st Derivative\n",
        "rTB1_r0 = np.zeros([2*N1+2])\n",
        "#colTB1_r0 = np.zeros([2*N1+2])\n",
        "\n",
        "#colTB1_r0[0] = 0\n",
        "#colTB1_r0[1] = 1\n",
        "#rTB1_r0[0] = r0_col*colTB1_r0[0]\n",
        "#rTB1_r0[1] = r0_col*colTB1_r0[1]\n",
        "rTB1_r0[0] = 0\n",
        "rTB1_r0[1] = 1\n",
        "\n",
        "for i in range(2, 2*N1+2):\n",
        "  rTB1_r0[i] = 2*r01*rTB1_r0[i-1] + 2*TB1_r0[i-1] - rTB1_r0[i-2]\n",
        "#  rTB1_r0[i] = r0_col*colTB1_r0[i]\n",
        "\n",
        "rTB1_r0_pair = rTB1_r0[0:2*N1+1:2]     # Verified\n",
        "\n",
        "#blargh0 = max(rTB1_r0_pair_tst)\n",
        "\n",
        "#rTB1_r0_pair = rTB1_r0_pair_tst/blargh0\n",
        "\n",
        "\n",
        "#psi_1_cc = np.hstack((np.ones(N1),TB1_r0_pair))   # [N1+1, N1+N2+2]      # Verified\n",
        "#psi_2_cc\n",
        "\n",
        "# 2nd domain. r0 = -1\n",
        "\n",
        "r02 = -1\n",
        "\n",
        "TL2_r0 = np.zeros([N2+2])     # TL2(r0)\n",
        "\n",
        "TL2_r0[0] = 1\n",
        "TL2_r0[1] = r02\n",
        "\n",
        "for i in range(2,N2+2):\n",
        "  TL2_r0[i] = 2*r02*TL2_r0[i-1] - TL2_r0[i-2]\n",
        "\n",
        "# Derivative\n",
        "rTL2_r0 = np.zeros([N2+2])\n",
        "#colTL2_r0 = np.zeros([N2+2])\n",
        "\n",
        "#colTL2_r0[0] = 0\n",
        "#colTL2_r0[1] = 1\n",
        "#rTL2_r0[0] = r0_col*colTL2_r0[0]\n",
        "#rTL2_r0[1] = r0_col*colTL2_r0[1]\n",
        "rTL2_r0[0] = 0\n",
        "rTL2_r0[1] = 1\n",
        "\n",
        "for i in range(2, N2+2):\n",
        "  #colTL2_r0[i] = 2*x0*colTL2_r0[i-1] + 2*TL2_r0[i-1] - colTL2_r0[i-2]\n",
        "  rTL2_r0[i] =  2*r02*rTL2_r0[i-1] + 2*TL2_r0[i-1] - rTL2_r0[i-2]\n",
        "\n",
        "\n",
        "SB2_r0 = 1/2*(TL2_r0[1:N2+2] - TL2_r0[0:N2+1])\n",
        "#rSB2_r0 = 1/2*(rTL2_r0[1:N2+2] - rTL2_r0[0:N2+1])\n",
        "rSB2_r0 = L0*(2/L0)*1/2*(rTL2_r0[1:N2+2] - rTL2_r0[0:N2+1])\n",
        "\n",
        "\n",
        "blargh0 = max(rTB1_r0_pair)\n",
        "\n",
        "psi_cc = np.hstack((TB1_r0_pair, - SB2_r0))         # psi_1(r0) - psi_2(r0) => phi_1(r0) - phi_2(r0)\n",
        "rpsi_cc = np.hstack((rTB1_r0_pair/blargh0, - rSB2_r0/blargh0))         # rpsi_1(r0) - rpsi_2(r0) => rphi_1(r0) - rphi_2(r0)\n",
        "\n",
        "CC = np.vstack((psi_cc, rpsi_cc))\n",
        "#rCC = np.vstack((rpsi_cc, rrpsi_cc))\n",
        "\n",
        "\n",
        "# Final Base functions:\n",
        "psi = np.hstack((psi_tst, CC.T))\n",
        "rpsi = np.vstack((rpsi_1, rpsi_2))      # Verified\n",
        "rrpsi = np.vstack((rrpsi_1, rrpsi_2))    # Verified\n",
        "#rpsi = np.hstack((rpsi_tst, rCC.T))\n",
        "\n"
      ],
      "metadata": {
        "id": "smyZI2i7iUoh"
      },
      "execution_count": 182,
      "outputs": []
    },
    {
      "cell_type": "code",
      "source": [],
      "metadata": {
        "id": "_R8fdgm9jr_Y"
      },
      "execution_count": 182,
      "outputs": []
    },
    {
      "cell_type": "code",
      "source": [
        "# Field Functions:\n",
        "\n",
        "# Initial conditions of Phi (Scalar field):\n",
        "\n",
        "sigma = 1\n",
        "\n",
        "A0 = 0.05   # 0.085 -> disperses ;\n",
        "\n",
        "#r = np.concatenate((r_short,[0,0]))\n",
        "\n",
        "Phi_init = A0*r**2*(np.exp(-(r-r0)**2/sigma**2)+np.exp(-(r+r0)**2/sigma**2))            # Phi initial data (Verificado)\n",
        "\n",
        "Phi_0 = np.hstack((Phi_init, np.zeros(2)))\n",
        "\n",
        "inv_psi = np.linalg.pinv(psi)\n",
        "\n",
        "a0 = np.dot(Phi_0, inv_psi)  # coeficients a(0)  VERIFICADO\n",
        "\n",
        "Phi = np.dot(a0, psi)\n",
        "\n",
        "rPhi = np.concatenate((np.dot(a0, rpsi),[0,0]))\n",
        "rrPhi = np.concatenate((np.dot(a0, rpsi),[0,0]))\n",
        "\n",
        "\n",
        "\n",
        "# Na interface r = r0 (x=0): Phi_1(r0) = Phi_2(r0)\n",
        "print(\"Verificação na interface:\")\n",
        "print(\"Φ1(r0):\", np.dot(a0[:N1+1], TB1_r0_pair))\n",
        "print(\"Φ2(r0):\", np.dot(a0[N1+1:N1+N2+2], SB2_r0))\n",
        "print(\"Φ1(r0) - Φ2(r0):\", np.dot(psi_cc, a0))  # Deve ser ≈0"
      ],
      "metadata": {
        "id": "421UEwk4hm-2",
        "colab": {
          "base_uri": "https://localhost:8080/"
        },
        "outputId": "15314cf1-33cf-4847-a37a-388445222388"
      },
      "execution_count": 183,
      "outputs": [
        {
          "output_type": "stream",
          "name": "stdout",
          "text": [
            "Verificação na interface:\n",
            "Φ1(r0): 0.05091578189245784\n",
            "Φ2(r0): 0.050915781892457955\n",
            "Φ1(r0) - Φ2(r0): -1.1331020793622097e-16\n"
          ]
        }
      ]
    },
    {
      "cell_type": "code",
      "source": [
        "rPhi.shape"
      ],
      "metadata": {
        "colab": {
          "base_uri": "https://localhost:8080/"
        },
        "id": "yuKR6rFARZQA",
        "outputId": "77d171c0-650f-49eb-d77f-ef5fbd9f4f1c"
      },
      "execution_count": 184,
      "outputs": [
        {
          "output_type": "execute_result",
          "data": {
            "text/plain": [
              "(102,)"
            ]
          },
          "metadata": {},
          "execution_count": 184
        }
      ]
    },
    {
      "cell_type": "code",
      "execution_count": 185,
      "metadata": {
        "colab": {
          "base_uri": "https://localhost:8080/",
          "height": 472
        },
        "id": "uwHk8h0y8ZBF",
        "outputId": "8bc8059b-c672-497d-81cb-41a19c2fbcbf"
      },
      "outputs": [
        {
          "output_type": "display_data",
          "data": {
            "text/plain": [
              "<Figure size 640x480 with 1 Axes>"
            ],
            "image/png": "[encoded data removed]"
          },
          "metadata": {}
        }
      ],
      "source": [
        "\n",
        "########################### Plot: Initial Conditions of Phi\n",
        "\n",
        "M = 1000       # plot truncation\n",
        "\n",
        "rplot1 = np.linspace(0, 0.9999999, M//2)      # Primeiro domínio (0, L0]\n",
        "rplot2 = np.linspace(r0, 10, M//2)            # Segundo domínio  [L0, ∞)\n",
        "rplot = np.concatenate((rplot1, rplot2))\n",
        "\n",
        "xplot1 = rplot1/r0\n",
        "xplot2 = (rplot2 - r0 - L0)/(rplot2 - r0 + L0)\n",
        "\n",
        "TB1_plot = np.zeros([2*N1+2,len(rplot1)])\n",
        "TB1_plot[0,] = 1\n",
        "TB1_plot[1,] = xplot1\n",
        "\n",
        "for i in range(2,2*N1+2):\n",
        "  TB1_plot[i,] = 2*xplot1*TB1_plot[i-1,] - TB1_plot[i-2,]\n",
        "\n",
        "TB1_pair_plot = TB1_plot[0:2*N1+1:2,:]\n",
        "\n",
        "psiplot_1 = np.hstack((TB1_pair_plot,np.zeros([N1+1, len(rplot2)])))   # [N1+1, N1+N2+2]      # Verified\n",
        "\n",
        "TL2_plot = np.zeros([N2+2,len(rplot2)])\n",
        "\n",
        "TL2_plot[0,] = 1\n",
        "TL2_plot[1,] = xplot2\n",
        "\n",
        "for i in range(2,N2+2):\n",
        "  TL2_plot[i,] = 2*xplot2*TL2_plot[i-1,] - TL2_plot[i-2,]\n",
        "\n",
        "SB2_plot = 1/2*(TL2_plot[1:N2+2,:] - TL2_plot[0:N2+1,:])\n",
        "\n",
        "psiplot_2 = np.hstack((np.zeros([N2+1,len(rplot1)]), SB2_plot)) # SB2_plot[0:N2+1, 0:-1] -> Recorte da última coluna de SB2_plot\n",
        "\n",
        "psiplot = np.vstack((psiplot_1, psiplot_2))\n",
        "\n",
        "Phiplot = np.dot(a0, psiplot)\n",
        "\n",
        "Phi_init0 = A0*rplot**2*(np.exp(-(rplot-r0)**2/sigma**2)+np.exp(-(rplot+r0)**2/sigma**2))\n",
        "\n",
        "#erro = abs(Phiplot_0 - Phiplot)\n",
        "\n",
        "#rplot_extended = np.concatenate([rplot, [0, 0]])  # Adiciona a interface duas vezes (para Φ e dΦ/dr)\n",
        "\n",
        "plt.plot(rplot, Phi_init0, label='Condição Inicial')\n",
        "plt.plot(rplot, Phiplot, 'r--', label='Solução Numérica')  # Assegurar mesma dimensão\n",
        "plt.xlabel('r')\n",
        "plt.xlim(0,6)\n",
        "plt.ylabel(r'$\\phi(r)$')\n",
        "plt.title('Campo Escalar Φ - 2 Domínios')\n",
        "plt.axvline(x=r0, color='k', label='Interface em $r=r0$')\n",
        "plt.legend()\n",
        "plt.grid(True)\n",
        "plt.show()\n",
        "\n",
        "\n"
      ]
    },
    {
      "cell_type": "code",
      "source": [],
      "metadata": {
        "id": "VRm9MHQUONig"
      },
      "execution_count": 185,
      "outputs": []
    },
    {
      "cell_type": "code",
      "execution_count": 186,
      "metadata": {
        "id": "N73F-WBYjYIN",
        "colab": {
          "base_uri": "https://localhost:8080/"
        },
        "outputId": "080fceaa-c250-4afa-fb13-31c77960a89c"
      },
      "outputs": [
        {
          "output_type": "stream",
          "name": "stdout",
          "text": [
            "0.032138310558849525\n",
            "0.03383968364959813\n",
            "0.0007217461564557842\n",
            "1.6280424084682762e-07\n",
            "5.788772239334605e-15\n",
            "1.3010426069826053e-18\n",
            "3.0357660829594124e-18\n",
            "1.3010426069826053e-18\n",
            "8.673617379884035e-19\n"
          ]
        }
      ],
      "source": [
        "\n",
        "Pi_0 = np.zeros(N1+N2+2)\n",
        "b0 = np.dot(Pi_0, psi)\n",
        "Pi = np.dot(b0, psi)\n",
        "\n",
        "rPi_tst = np.dot(a0, rpsi)\n",
        "rPi = np.concatenate((rPi_tst[0:N1+N2],[0,0]))\n",
        "\n",
        "# Base functions for Krr: Without transmission condition\n",
        "ck0 = 0\n",
        "\n",
        "# 1st domain: 1/2*(TB1(2*k+2,r)+TB1(2*k,r))\n",
        "\n",
        "SB1_init = 1/2*(TB1[2:2*N1+1:2,:] + TB1_pair[0:N1,:])   #ou\n",
        "rSB1_init = 1/2*(rTB1[2:2*N1+1:2,:] + rTB1_pair[0:N1,:])\n",
        "\n",
        "SB1_r0 = 1/2*(TB1_r0[2:2*N1+1:2] - TB1_r0_pair[0:N1])\n",
        "rSB1_r0 = 1/2*(rTB1_r0[2:2*N1+1:2] - rTB1_r0_pair[0:N1])\n",
        "\n",
        "# 2nd domain: SB2(k,r)\n",
        "\n",
        "SB1_1 = np.hstack((SB1_init, np.zeros([N1,N1])))  #\n",
        "rSB1_1 = np.hstack((rSB1_init, np.zeros([N1,N1])))\n",
        "\n",
        "SB1_2 = np.hstack((np.zeros([N2+1,N2]), SB2[0:N2+1,:]))   #ou\n",
        "rSB1_2 = np.hstack((np.zeros([N2+1,N2]), rSB2[0:N2+1,:]))\n",
        "\n",
        "# Condição de transmissão para Krr:\n",
        "\n",
        "SB1_cc = np.hstack((TB1_r0_pair[0:N1], - SB2_r0))\n",
        "rSB1_cc = np.hstack((rSB1_r0[0:N1]/blargh0, - rSB2_r0/blargh0))\n",
        "\n",
        "CCK = np.vstack((SB1_cc, rSB1_cc))\n",
        "\n",
        "SB1_tst = np.vstack((SB1_1, SB1_2))\n",
        "\n",
        "SB1 = np.hstack((SB1_tst, CCK.T))   # [N1+N2, N1+N2+1]\n",
        "\n",
        "rSB1 = np.vstack((rSB1_1, rSB1_2))\n",
        "\n",
        "\n",
        "#SB1 = np.hstack((SB1_tst, CC.T[0:N1+N2]))   # [N1+N2, N1+N2+1]\n",
        "\n",
        "# Initial data for Chi\n",
        "c0 = np.zeros([N1+N2+2])     # guess value\n",
        "for i in range(N1+N2+2):\n",
        "  c0[i]  =   0.0001\n",
        "\n",
        "Chi = np.dot(c0,psi)\n",
        "rChi = np.concatenate((np.dot(c0, rpsi),[0,0]))\n",
        "rrChi = np.concatenate((np.dot(c0, rrpsi),[0,0]))\n",
        "\n",
        "\n",
        "\n",
        "V = 0\n",
        "\n",
        "coeforigin = np.concatenate([[0],-4*(-1)**np.arange(1, N1+1)*np.arange(1, N1+1)**2/r0**2])\n",
        "\n",
        "tol = 1e-18\n",
        "n = 0\n",
        "nf = 50\n",
        "\n",
        "# Newton Raphson loop\n",
        "while n <= nf:\n",
        "  Chi=np.dot(c0,psi)\n",
        "  rChi = np.concatenate((np.dot(c0, rpsi),[0,0]))\n",
        "  rrChi = np.concatenate((np.dot(c0, rrpsi),[0,0]))\n",
        "  H0_0 = 4*rrChi[0] + 8*np.dot(coeforigin,c0[0:N1+1]) + 1/2*(rPhi[0])**2\n",
        "  H0_int=4*rChi[1:N1+N2]**2 + 4*rrChi[1:N1+N2]+ 8/r[1:N1+N2]*rChi[1:N1+N2] + 1/2*rPhi[1:N1+N2]**2;\n",
        "  H0 = np.hstack((H0_0, H0_int, np.dot(psi_cc,c0), np.dot(rpsi_cc,c0)))\n",
        "  J1 = rChi[0:N1+N2]*rpsi\n",
        "  JH_0 = 8*J1[:,0]+ 4*rrpsi[:,0] + 8*np.concatenate((coeforigin,np.zeros(N2+1)))\n",
        "  JH_int = 8*J1[:,1:N1+N2] + 4*rrpsi[:,1:N1+N2] + 8/r[1:N1+N2]*rpsi[:,1:N1+N2]\n",
        "  JH = np.column_stack((JH_0, JH_int, psi_cc, rpsi_cc))\n",
        "  inv_JH = np.linalg.pinv(JH)\n",
        "  cnew = c0\n",
        "  c0 = c0 - np.dot(H0, inv_JH)\n",
        "  err = abs(c0 - cnew)\n",
        "  print(max(err))\n",
        "  if  max(err) <= tol:\n",
        "    break\n",
        "  n = n + 1\n",
        "#out_c = open('c0_30_L02.txt', 'a')\n",
        "#out_c.write(' ' +' '.join(str('%.18f'%n) for n in c0)+'\\n')\n",
        "#out_c.close()\n"
      ]
    },
    {
      "cell_type": "code",
      "source": [
        "np.dot(SB1_cc,ck0)"
      ],
      "metadata": {
        "colab": {
          "base_uri": "https://localhost:8080/"
        },
        "id": "lwfa0kjpWqTC",
        "outputId": "6d76de67-c3ce-4f0b-dd29-8682e035da31"
      },
      "execution_count": 189,
      "outputs": [
        {
          "output_type": "execute_result",
          "data": {
            "text/plain": [
              "array([0., 0., 0., 0., 0., 0., 0., 0., 0., 0., 0., 0., 0., 0., 0., 0., 0.,\n",
              "       0., 0., 0., 0., 0., 0., 0., 0., 0., 0., 0., 0., 0., 0., 0., 0., 0.,\n",
              "       0., 0., 0., 0., 0., 0., 0., 0., 0., 0., 0., 0., 0., 0., 0., 0., 0.,\n",
              "       0., 0., 0., 0., 0., 0., 0., 0., 0., 0., 0., 0., 0., 0., 0., 0., 0.,\n",
              "       0., 0., 0., 0., 0., 0., 0., 0., 0., 0., 0., 0., 0., 0., 0., 0., 0.,\n",
              "       0., 0., 0., 0., 0., 0., 0., 0., 0., 0., 0., 0., 0., 0., 0., 0.])"
            ]
          },
          "metadata": {},
          "execution_count": 189
        }
      ]
    },
    {
      "cell_type": "code",
      "source": [],
      "metadata": {
        "id": "P807pb5JixLi"
      },
      "execution_count": 189,
      "outputs": []
    },
    {
      "cell_type": "code",
      "source": [
        "Chiplot = np.dot(c0, psiplot)\n",
        "\n",
        "plt.plot(rplot,Chiplot)\n",
        "plt.xlim(0,5)\n",
        "plt.grid()\n",
        "plt.show()"
      ],
      "metadata": {
        "id": "yHxMDMAGhttC",
        "outputId": "e31821f0-9a63-4fe1-dac6-a74fc9af4433",
        "colab": {
          "base_uri": "https://localhost:8080/",
          "height": 435
        }
      },
      "execution_count": 191,
      "outputs": [
        {
          "output_type": "display_data",
          "data": {
            "text/plain": [
              "<Figure size 640x480 with 1 Axes>"
            ],
            "image/png": "[encoded data removed]"
          },
          "metadata": {}
        }
      ]
    },
    {
      "cell_type": "markdown",
      "metadata": {
        "id": "tbh3ulv0VeDU"
      },
      "source": [
        "Quadrature Integration"
      ]
    },
    {
      "cell_type": "code",
      "execution_count": 194,
      "metadata": {
        "id": "fK3MiMX3CeQE",
        "collapsed": true,
        "outputId": "be4a10db-fddf-4076-d807-290d14b370ef",
        "colab": {
          "base_uri": "https://localhost:8080/",
          "height": 211
        }
      },
      "outputs": [
        {
          "output_type": "error",
          "ename": "NameError",
          "evalue": "name 'new_col_2' is not defined",
          "traceback": [
            "\u001b[0;31m---------------------------------------------------------------------------\u001b[0m",
            "\u001b[0;31mNameError\u001b[0m                                 Traceback (most recent call last)",
            "\u001b[0;32m<ipython-input-194-f431a37ed6e7>\u001b[0m in \u001b[0;36m<cell line: 0>\u001b[0;34m()\u001b[0m\n\u001b[1;32m     66\u001b[0m \u001b[0mcoeff\u001b[0m \u001b[0;34m=\u001b[0m \u001b[0;34m[\u001b[0m\u001b[0;36m0\u001b[0m\u001b[0;34m]\u001b[0m \u001b[0;34m*\u001b[0m \u001b[0mNq2\u001b[0m \u001b[0;34m+\u001b[0m \u001b[0;34m[\u001b[0m\u001b[0;36m1\u001b[0m\u001b[0;34m]\u001b[0m  \u001b[0;31m# Coeficientes de P_Nq2(y) = y^Nq2 + ...\u001b[0m\u001b[0;34m\u001b[0m\u001b[0;34m\u001b[0m\u001b[0m\n\u001b[1;32m     67\u001b[0m \u001b[0mpoly\u001b[0m \u001b[0;34m=\u001b[0m \u001b[0mnp\u001b[0m\u001b[0;34m.\u001b[0m\u001b[0mpolynomial\u001b[0m\u001b[0;34m.\u001b[0m\u001b[0mlegendre\u001b[0m\u001b[0;34m.\u001b[0m\u001b[0mLegendre\u001b[0m\u001b[0;34m(\u001b[0m\u001b[0mcoeff\u001b[0m\u001b[0;34m)\u001b[0m\u001b[0;34m\u001b[0m\u001b[0;34m\u001b[0m\u001b[0m\n\u001b[0;32m---> 68\u001b[0;31m \u001b[0mpoly_deriv\u001b[0m \u001b[0;34m=\u001b[0m \u001b[0mpoly\u001b[0m\u001b[0;34m.\u001b[0m\u001b[0mderiv\u001b[0m\u001b[0;34m(\u001b[0m\u001b[0mnew_col_2\u001b[0m\u001b[0;34m)\u001b[0m  \u001b[0;31m# Derivada P'_Nq2(y)\u001b[0m\u001b[0;34m\u001b[0m\u001b[0;34m\u001b[0m\u001b[0m\n\u001b[0m\u001b[1;32m     69\u001b[0m \u001b[0;34m\u001b[0m\u001b[0m\n\u001b[1;32m     70\u001b[0m \u001b[0;34m\u001b[0m\u001b[0m\n",
            "\u001b[0;31mNameError\u001b[0m: name 'new_col_2' is not defined"
          ]
        }
      ],
      "source": [
        "# Base Functions:\n",
        "\n",
        "# 1st domain:\n",
        "\n",
        "Nq1 = int(3/2*N1)           # Quadrature truncation\n",
        "\n",
        "new_col_1, wq1 = np.polynomial.legendre.leggauss(Nq1 + 1)\n",
        "\n",
        "# Legendre Polinomials\n",
        "\n",
        "rq1 = r0/2*(1 + new_col_1)            # Physical quadrature domain\n",
        "\n",
        "qTB1 = np.zeros([2*Nq1+2,Nq1+1])\n",
        "\n",
        "qTB1[0,] = 1\n",
        "qTB1[1,] = new_col_1\n",
        "\n",
        "for i in range(2,2*Nq1+2):\n",
        "  qTB1[i,] = 2*new_col_1*qTB1[i-1,] - qTB1[i-2,]\n",
        "\n",
        "qTB1_pair = qTB1[0:2*Nq1+1:2,:]\n",
        "\n",
        "# 1st Derivative\n",
        "qrTB1 = np.zeros([2*Nq1+2,Nq1+1])\n",
        "qcolTB1 = np.zeros([2*Nq1+2,Nq1+1])\n",
        "\n",
        "qcolTB1[0,] = 0\n",
        "qcolTB1[1,] = 1\n",
        "qrTB1[0,] = r1_col*qcolTB1[0,]\n",
        "qrTB1[1,] = r1_col*qcolTB1[1,]\n",
        "\n",
        "for i in range(2, 2*N1+2):\n",
        "  qcolTB1[i,] = 2*new_col_1*qcolTB1[i-1,] + 2*qTB1[i-1,] - qcolTB1[i-2,]\n",
        "  qrTB1[i,] = r1_col*qcolTB1[i,]\n",
        "\n",
        "qrTB1_pair = rTB1[0:2*Nq1+1:2,:]     # Verified\n",
        "\n",
        "# 2nd Derivative\n",
        "qrrTB1 = np.zeros([2*Nq1+2,Nq1+1])\n",
        "qccolTB1 = np.zeros([2*Nq1+2,Nq1+1])\n",
        "\n",
        "qccolTB1[0,] = 0\n",
        "qccolTB1[1,] = 0\n",
        "qrrTB1[0,] = rr1_col*qcolTB1[0,] + (r1_col)**2 * qccolTB1[0,]\n",
        "qrrTB1[1,] = rr1_col*qcolTB1[1,] + (r1_col)**2 * qccolTB1[1,]\n",
        "\n",
        "for i in range(2, 2*Nq1+2):\n",
        "  qccolTB1[i,] = 2*qcolTB1[i-1,] + 2*new_col_1*qccolTB1[i-1,] + 2*qcolTB1[i-1,] - qccolTB1[i-2,]\n",
        "  qrrTB1[i,] = rr1_col*qcolTB1[i,] + (r1_col)**2 * qccolTB1[i,]                         # ccolTB1[i,] = d²TB1[i,]/dcol²\n",
        "\n",
        "qrrTB1_pair = rrTB1[0:2*N1+1:2,:]\n",
        "\n",
        "# Basis function for 1st domain:\n",
        "qpsi_1 = np.hstack((TB1_pair,np.zeros([N1+1,N1])))   # [N1+1, N1+N2+2]      # Verified\n",
        "\n",
        "qrpsi_1 = np.hstack((rTB1_pair,np.zeros([N1+1,N1])))   #     # Verified\n",
        "\n",
        "qrrpsi_1 = np.hstack((rrTB1_pair,np.zeros([N1+1,N1])))   #     # Verified\n",
        "\n",
        "# Second domain:\n",
        "\n",
        "Nq2 = int(3/2*N2)           # Quadrature truncation\n",
        "\n",
        "\n",
        "# 1. Definir o polinômio de Legendre P_Nq2(y) e sua derivada\n",
        "coeff = [0] * Nq2 + [1]  # Coeficientes de P_Nq2(y) = y^Nq2 + ...\n",
        "poly = np.polynomial.legendre.Legendre(coeff)\n",
        "poly_deriv = poly.deriv(new_col_2)  # Derivada P'_Nq2(y)\n",
        "\n",
        "\n",
        "\n",
        "qTL2 = np.zeros([Nq2+2,Nq2+1])\n",
        "\n",
        "qTL2[0,] = 1\n",
        "qTL2[1,] = new_col_2\n",
        "\n",
        "for i in range(2,N2+2+1):\n",
        "  qTL2[i,] = 2*new_col_2*qTL2[i-1,] - qTL2[i-2,]\n",
        "\n",
        "# 1st Derivative\n",
        "qrTL2 = np.zeros([Nq2+2,Nq2+1])\n",
        "qcolTL2 = np.zeros([Nq2+2,Nq2+1])\n",
        "\n",
        "qcolTL2[0,] = 0\n",
        "qcolTL2[1,] = 1\n",
        "qrTL2[0,] = r2_col*qcolTL2[0,]\n",
        "qrTL2[1,] = r2_col*qcolTL2[1,]\n",
        "\n",
        "for i in range(2, N2+2):\n",
        "  qcolTL2[i,] = 2*new_col_2*qcolTL2[i-1,] + 2*qTL2[i-1,] - qcolTL2[i-2,]\n",
        "  qrTL2[i,] = r2_col*qcolTL2[i,]\n",
        "\n",
        "# 2nd Derivative\n",
        "qrrTL2 = np.zeros([Nq2+2,Nq2+1])\n",
        "qccolTL2 = np.zeros([Nq2+2,Nq2+1])\n",
        "\n",
        "qccolTL2[0,] = 0\n",
        "qccolTL2[1,] = 0\n",
        "qrrTL2[0,] = rr2_col*qcolTL2[0,] + (r2_col)**2 * qccolTL2[0,]\n",
        "qrrTL2[1,] = rr2_col*qcolTL2[1,] + (r2_col)**2 * qccolTL2[1,]\n",
        "\n",
        "for i in range(2, Nq2+2):\n",
        "  qccolTL2[i,] = 2*qcolTL2[i-1,] + 2*new_col_2*qccolTL2[i-1,] + 2*qcolTL2[i-1,] - qccolTL2[i-2,]\n",
        "  qrrTL2[i,] = rr2_col*qcolTL2[i,] + (r2_col)**2 * qccolTL2[i,]                         # ccolTL2[i,] = d²TL2[i,]/dcol²\n",
        "\n",
        "# Linear combinations of TL2, rTL2 and rrTL2\n",
        "qSB2 = 1/2*(qTL2[1:N2+2,:] - qTL2[0:N2+1,:])\n",
        "qrSB2 = 1/2*(qrTL2[1:N2+2,:] - qrTL2[0:N2+1,:])\n",
        "qrrSB2 = 1/2*(qrrTL2[1:N2+2,:] - qrrTL2[0:N2+1,:])\n",
        "\n",
        "\n",
        "# Basis function for 2st domain:\n",
        "qpsi_2 = np.hstack((np.zeros([Nq2+1,Nq2]), qSB2))\n",
        "\n",
        "qrpsi_2 = np.hstack((np.zeros([Nq2+1,Nq2]), qrSB2))\n",
        "\n",
        "qrrpsi_2 = np.hstack((np.zeros([Nq2+1,Nq2]), qrrSB2))\n",
        "\n",
        "\n",
        "# Final Base function: 1 + 2 Subdomains - Interface not included\n",
        "qpsi_tst = np.vstack((qpsi_1, qpsi_2))         # Verified\n",
        "\n",
        "# Initial Phi in quadrature points\n",
        "\n",
        "#qPhi = np.dot(a0, qpsi)\n",
        "#rqPhi= np.dot(a0, rqpsi)\n",
        "\n",
        "# Initial Pi for quadrature points\n",
        "\n",
        "#qPi = np.dot(b0, qpsi)\n",
        "\n",
        "\n",
        "# Initial Chi for quadrature points:\n",
        "\n",
        "#qChi = np.dot(c0, qpsi)   # Verificado todos\n",
        "#rqChi = np.dot(c0, rqpsi)\n",
        "#rrqChi = np.dot(c0, rrqpsi)\n",
        "\n",
        "# Initial values of Krr:\n",
        "\n",
        "#qKrr = np.dot(ck0, qSB1)\n",
        "\n",
        "# Alpha na origem\n",
        "\n",
        "#psi_0 = np.zeros(N+1)\n",
        "\n",
        "#for i in range(N+1):\n",
        "#  psi_0[i,] = np.sin((2*i+1)*math.pi/2)     # arccot(0) = Pi/2\n",
        "\n",
        "#Alpha_0 = 1 + np.dot(al0, psi_0)\n"
      ]
    },
    {
      "cell_type": "code",
      "execution_count": 196,
      "metadata": {
        "id": "J9Xlw9Pagaak",
        "scrolled": true
      },
      "outputs": [],
      "source": [
        "# Base functions for Beta\n",
        "\n",
        "# 1st domain: TB1(2*k+1,r)\n",
        "# 2nd domain: SB2(k,r)\n",
        "\n",
        "\n",
        "SB1_2 = np.hstack((np.zeros([N2+1,N2]), SB2[0:N2+1,:]))   #ou\n",
        "rSB1_2 = np.hstack((np.zeros([N2+1,N2]), rSB2[0:N2+1,:]))\n",
        "\n",
        "SB1_r0 = 1/2*(TB1_r0[2:2*N1+1:2] - TB1_r0_pair[0:N1])\n",
        "rSB1_r0 = 1/2*(rTB1_r0[2:2*N1+1:2] - rTB1_r0_pair[0:N1])\n",
        "\n",
        "SB3_1 = np.hstack((TB1_odd[0:N1], np.zeros([N1,N1])))\n",
        "rSB3_1 = np.hstack((rTB1_odd[0:N1], np.zeros([N1,N1])))\n",
        "\n",
        "SB3_2 = np.hstack((np.zeros([N2+1,N2]), SB2[0:N2+1,:]))\n",
        "rSB3_2 = np.hstack((np.zeros([N2+1,N2]), rSB2[0:N2+1,:]))\n",
        "\n",
        "SB3_tst = np.vstack((SB3_1, SB3_2))\n",
        "\n",
        "SB3 = np.hstack((SB3_tst, CCK.T))   # [N1+N2, N1+N2+1]\n",
        "\n",
        "rSB3 = np.vstack((rSB3_1, rSB3_2))\n",
        "\n",
        "# Runge Kutta 4th order\n",
        "\n",
        "h = 0.001   # step size\n",
        "tf = 7\n",
        "\n",
        "It = int(tf/h)\n",
        "\n",
        "t = 0\n",
        "\n",
        "Alpha_origin = []\n",
        "phi_origin = []\n",
        "L2HC = []\n",
        "phi_set0 = []\n",
        "\n",
        "out_a = open('Alpha_origin.txt', 'a')\n",
        "out_a.truncate(0)                        # arase the old datas and start the new ones\n",
        "\n",
        "out_p = open('phi_origin.txt', 'a')\n",
        "out_p.truncate(0)\n",
        "\n",
        "V = 0\n",
        "\n",
        "# AJEITAR AS DIMENSOES DAS MATRIZES NO INTEGRADOR\n",
        "while t <= tf:\n",
        "\n",
        "  # First step\n",
        "  Phi = np.dot(a0, psi)\n",
        "  rPhi = np.concatenate((np.dot(a0, rpsi),[0,0]))\n",
        "  rrPhi = np.concatenate((np.dot(a0, rrpsi),[0,0]))\n",
        "  Pi = np.dot(b0, psi)\n",
        "  rPi = np.concatenate((np.dot(b0, rpsi),[0,0]))\n",
        "  Chi = np.dot(c0, psi)\n",
        "  rChi = np.concatenate((np.dot(c0, rpsi),[0,0]))\n",
        "  rrChi = np.concatenate((np.dot(c0, rrpsi),[0,0]))\n",
        "  Matrix_Krr_1 = 2*rChi[1:N1+N2]*SB1[:,1:N1+N2] + rSB1[:,1:N1+N2] + 3/r[1:N1+N2]*SB1[:,1:N1+N2] # [N1+N2+1, N1+N2+1]\n",
        "  Matrix_Krr = np.hstack((Matrix_Krr_1,CCK.T))\n",
        "  inv_matrix_krr = np.linalg.inv(Matrix_Krr)\n",
        "  rhsk = - Pi[1:N1+N2+2]*rPhi[1:N1+N2+2]*np.exp(4*Chi[1:N1+N2+2])  # [N1+N2+1]\n",
        "  ck0 = np.dot(rhsk, inv_matrix_krr)  # [N1+N2+1]\n",
        "  Krr = np.dot(ck0, SB1)\n",
        "  rKrr = np.concatenate((np.dot(ck0, rSB1),[0,0]))\n",
        "  Matrix_Alpha_0 = rrpsi[:,0]  - np.exp(4*Chi[0])*Pi[0]**2*psi[:,0]\n",
        "  Matrix_Alpha_int = rrpsi[:,1:N1+N2] + 2*(1/r[1:N1+N2] + rChi[1:N1+N2])*rpsi[:,1:N1+N2] - 3/2*np.exp(-4*Chi[1:N1+N2])*Krr[1:N1+N2]**2*psi[:,1:N1+N2] - np.exp(4*Chi[1:N1+N2])*(Pi[1:N1+N2]**2 - V)*psi[:,1:N1+N2]\n",
        "  Matrix_Alpha = np.column_stack((Matrix_Alpha_0, Matrix_Alpha_int, psi_cc, rpsi_cc))\n",
        "  inv_matrix_alpha = np.linalg.inv(Matrix_Alpha)\n",
        "  rhsal = 3/2*np.exp(-4*Chi)*Krr**2 + np.exp(4*Chi)*(Pi**2-V)\n",
        "  al0 = np.dot(rhsal, inv_matrix_alpha)\n",
        "  Alpha = 1 + np.dot(al0, psi)\n",
        "  rAlpha = np.concatenate((np.dot(al0, rpsi),[0,0]))\n",
        "  rrAlpha = np.concatenate((np.dot(al0, rrpsi),[0,0]))\n",
        "  Matrix_Beta_1 = rSB3[:,1:N1+N2] - SB3[:,1:N1+N2]/r[1:N1+N2]\n",
        "  Matrix_Beta = np.hstack((Matrix_Beta_1,CCK.T))\n",
        "  inv_matrix_beta = np.linalg.inv(Matrix_Beta)\n",
        "  rhsbe = 3/2*Alpha[1:N1+N2+2]*np.exp(-4*Chi[1:N1+N2+2])*Krr[1:N1+N2+2]\n",
        "  be0 = np.dot(rhsbe , inv_matrix_beta)\n",
        "  Beta = np.dot(be0, SB3)\n",
        "  rBeta = np.concatenate((np.dot(be0, rSB3),[0,0]))\n",
        "  db_origin = 2*np.exp(-4*Chi[0])*Alpha[0]*np.dot(a0[0:N1+1], coeforigin) + np.exp(-4*Chi[0])*Alpha[0]*rrPhi[0]\n",
        "  db_int = Beta[1:N1+N2]*rPi[1:N1+N2] + np.exp(-4*Chi[1:N1+N2])*(2*Alpha[1:N1+N2]/r[1:N1+N2] + rAlpha[1:N1+N2] + 2*rChi[1:N1+N2]*Alpha[1:N1+N2])*rPhi[1:N1+N2] + np.exp(-4*Chi[1:N1+N2])*Alpha[1:N1+N2]*rrPhi[1:N1+N2] - Alpha[1:N1+N2]*V\n",
        "  db0 = np.hstack((db_origin, db_int, np.dot(psi_cc,b0), np.dot(rpsi_cc,b0)))\n",
        "  db = np.dot(db0, inv_psi)\n",
        "  dc = np.dot(Beta*rChi + rBeta/2 - Alpha/2*np.exp(-4*Chi)*Krr, inv_psi)\n",
        "  da = np.dot(Alpha*Pi + Beta*rPhi, inv_psi)\n",
        "  K1 = h*(dc)\n",
        "  L1 = h*(da)\n",
        "  F1 = h*(db)\n",
        "\n",
        "  # L2-error associated to the Hamiltonian constraint\n",
        "#  qPhi = np.dot(a0, qpsi)\n",
        "#  rqPhi= np.dot(a0, rqpsi)\n",
        "#  qPi = np.dot(b0, qpsi)\n",
        "#  qChi = np.dot(c0, qpsi)\n",
        "#  rqChi = np.dot(c0, rqpsi)\n",
        "#  rrqChi = np.dot(c0, rrqpsi)\n",
        "#  qKrr = np.dot(ck0, qSB1)\n",
        "#  H = 4*rqChi**2 + 4*rrqChi + 8*rqChi/rq + 3/4*np.exp(-4*qChi)*qKrr**2 + np.exp(4*qChi)*(1/2*qPi**2 + np.exp(-4*qChi)/2*rqPhi**2)   # Hamiltonian constraint (HC)\n",
        "#  L2HC.append((1/2*np.dot(H**2,wq_col))**1/2)    # L2 error of HC\n",
        "\n",
        "  # Alpha origin\n",
        "  Alpha_0 = 1 + np.dot(al0, psi[:,0])\n",
        "  Alpha_origin.append(Alpha_0)                   # = Alphacenter in matlab\n",
        "  out_a.write(str(t) + \" \" + str(Alpha_0))\n",
        "  out_a.write(',\\n')\n",
        "\n",
        "  # Phi origin:\n",
        "  phi_0 = np.dot(a0, psi[:,0])\n",
        "  phi_origin.append(phi_0)\n",
        "  out_p.write(str(t) + \" \" + str(phi_0))\n",
        "  out_p.write(',\\n')\n",
        "\n",
        "  # Second step\n",
        "  Phi = np.dot(a0 + L1/2, psi)\n",
        "  rPhi = np.concatenate((np.dot(a0 + L1/2 , rpsi),[0,0]))\n",
        "  rrPhi = np.concatenate((np.dot(a0 + L1/2 , rrpsi),[0,0]))\n",
        "  Pi = np.dot(b0 + F1/2, psi)\n",
        "  rPi = np.concatenate((np.dot(b0 + F1/2, rpsi),[0,0]))\n",
        "  Chi = np.dot(c0 + K1/2, psi)\n",
        "  rChi = np.concatenate((np.dot(c0 + K1/2, rpsi),[0,0]))\n",
        "  rrChi = np.concatenate((np.dot(c0 + K1/2, rrpsi),[0,0]))\n",
        "  Matrix_Krr_1 = 2*rChi[1:N1+N2]*SB1[:,1:N1+N2] + rSB1[:,1:N1+N2] + 3/r[1:N1+N2]*SB1[:,1:N1+N2] # [N1+N2+1, N1+N2+1]\n",
        "  Matrix_Krr = np.hstack((Matrix_Krr_1,CCK.T))\n",
        "  inv_matrix_krr = np.linalg.inv(Matrix_Krr)\n",
        "  rhsk = - Pi[1:N1+N2+2]*rPhi[1:N1+N2+2]*np.exp(4*Chi[1:N1+N2+2])  # [N1+N2+1]\n",
        "  ck0 = np.dot(rhsk, inv_matrix_krr)  # [N1+N2+1]\n",
        "  Krr = np.dot(ck0, SB1)\n",
        "  rKrr = np.concatenate((np.dot(ck0, rSB1),[0,0]))\n",
        "  Matrix_Alpha_0 = rrpsi[:,0]  - np.exp(4*Chi[0])*Pi[0]**2*psi[:,0]\n",
        "  Matrix_Alpha_int = rrpsi[:,1:N1+N2] + 2*(1/r[1:N1+N2] + rChi[1:N1+N2])*rpsi[:,1:N1+N2] - 3/2*np.exp(-4*Chi[1:N1+N2])*Krr[1:N1+N2]**2*psi[:,1:N1+N2] - np.exp(4*Chi[1:N1+N2])*(Pi[1:N1+N2]**2 - V)*psi[:,1:N1+N2]\n",
        "  Matrix_Alpha = np.column_stack((Matrix_Alpha_0, Matrix_Alpha_int, psi_cc, rpsi_cc))\n",
        "  inv_matrix_alpha = np.linalg.inv(Matrix_Alpha)\n",
        "  rhsal = 3/2*np.exp(-4*Chi)*Krr**2 + np.exp(4*Chi)*(Pi**2-V)\n",
        "  al0 = np.dot(rhsal, inv_matrix_alpha)\n",
        "  Alpha = 1 + np.dot(al0, psi)\n",
        "  rAlpha = np.concatenate((np.dot(al0, rpsi),[0,0]))\n",
        "  rrAlpha = np.concatenate((np.dot(al0, rrpsi),[0,0]))\n",
        "  Matrix_Beta_1 = rSB3[:,1:N1+N2] - SB3[:,1:N1+N2]/r[1:N1+N2]\n",
        "  Matrix_Beta = np.hstack((Matrix_Beta_1,CCK.T))\n",
        "  inv_matrix_beta = np.linalg.inv(Matrix_Beta)\n",
        "  rhsbe = 3/2*Alpha[1:N1+N2+2]*np.exp(-4*Chi[1:N1+N2+2])*Krr[1:N1+N2+2]\n",
        "  be0 = np.dot(rhsbe , inv_matrix_beta)\n",
        "  Beta = np.dot(be0, SB3)\n",
        "  rBeta = np.concatenate((np.dot(be0, rSB3),[0,0]))\n",
        "  db_origin = 2*np.exp(-4*Chi[0])*Alpha[0]*np.dot(a0[0:N1+1], coeforigin) + np.exp(-4*Chi[0])*Alpha[0]*rrPhi[0]\n",
        "  db_int = Beta[1:N1+N2]*rPi[1:N1+N2] + np.exp(-4*Chi[1:N1+N2])*(2*Alpha[1:N1+N2]/r[1:N1+N2] + rAlpha[1:N1+N2] + 2*rChi[1:N1+N2]*Alpha[1:N1+N2])*rPhi[1:N1+N2] + np.exp(-4*Chi[1:N1+N2])*Alpha[1:N1+N2]*rrPhi[1:N1+N2] - Alpha[1:N1+N2]*V\n",
        "  db0 = np.hstack((db_origin, db_int, np.dot(psi_cc,b0), np.dot(rpsi_cc,b0)))\n",
        "  db = np.dot(db0, inv_psi)\n",
        "  dc = np.dot(Beta*rChi + rBeta/2 - Alpha/2*np.exp(-4*Chi)*Krr, inv_psi)\n",
        "  da = np.dot(Alpha*Pi + Beta*rPhi, inv_psi)\n",
        "  K2 = h*(dc)\n",
        "  L2 = h*(da)\n",
        "  F2 = h*(db)\n",
        "\n",
        "  # Third step\n",
        "  Phi = np.dot(a0 + L2/2, psi)\n",
        "  rPhi = np.concatenate((np.dot(a0 + L2/2 , rpsi),[0,0]))\n",
        "  rrPhi = np.concatenate((np.dot(a0 + L2/2, rrpsi),[0,0]))\n",
        "  Pi = np.dot(b0 + F2/2, psi)\n",
        "  rPi = np.concatenate((np.dot(b0 + F2/2, rpsi),[0,0]))\n",
        "  Chi = np.dot(c0 + K2/2, psi)\n",
        "  rChi = np.concatenate((np.dot(c0 + K2/2, rpsi),[0,0]))\n",
        "  rrChi = np.concatenate((np.dot(c0 + K2/2, rrpsi),[0,0]))\n",
        "  Matrix_Krr_1 = 2*rChi[1:N1+N2]*SB1[:,1:N1+N2] + rSB1[:,1:N1+N2] + 3/r[1:N1+N2]*SB1[:,1:N1+N2] # [N1+N2+1, N1+N2+1]\n",
        "  Matrix_Krr = np.hstack((Matrix_Krr_1,CCK.T))\n",
        "  inv_matrix_krr = np.linalg.inv(Matrix_Krr)\n",
        "  rhsk = - Pi[1:N1+N2+2]*rPhi[1:N1+N2+2]*np.exp(4*Chi[1:N1+N2+2])  # [N1+N2+1]\n",
        "  ck0 = np.dot(rhsk, inv_matrix_krr)  # [N1+N2+1]\n",
        "  Krr = np.dot(ck0, SB1)\n",
        "  rKrr = np.concatenate((np.dot(ck0, rSB1),[0,0]))\n",
        "  Matrix_Alpha_0 = rrpsi[:,0]  - np.exp(4*Chi[0])*Pi[0]**2*psi[:,0]\n",
        "  Matrix_Alpha_int = rrpsi[:,1:N1+N2] + 2*(1/r[1:N1+N2] + rChi[1:N1+N2])*rpsi[:,1:N1+N2] - 3/2*np.exp(-4*Chi[1:N1+N2])*Krr[1:N1+N2]**2*psi[:,1:N1+N2] - np.exp(4*Chi[1:N1+N2])*(Pi[1:N1+N2]**2 - V)*psi[:,1:N1+N2]\n",
        "  Matrix_Alpha = np.column_stack((Matrix_Alpha_0, Matrix_Alpha_int, psi_cc, rpsi_cc))\n",
        "  inv_matrix_alpha = np.linalg.inv(Matrix_Alpha)\n",
        "  rhsal = 3/2*np.exp(-4*Chi)*Krr**2 + np.exp(4*Chi)*(Pi**2-V)\n",
        "  al0 = np.dot(rhsal, inv_matrix_alpha)\n",
        "  Alpha = 1 + np.dot(al0, psi)\n",
        "  rAlpha = np.concatenate((np.dot(al0, rpsi),[0,0]))\n",
        "  rrAlpha = np.concatenate((np.dot(al0, rrpsi),[0,0]))\n",
        "  Matrix_Beta_1 = rSB3[:,1:N1+N2] - SB3[:,1:N1+N2]/r[1:N1+N2]\n",
        "  Matrix_Beta = np.hstack((Matrix_Beta_1,CCK.T))\n",
        "  inv_matrix_beta = np.linalg.inv(Matrix_Beta)\n",
        "  rhsbe = 3/2*Alpha[1:N1+N2+2]*np.exp(-4*Chi[1:N1+N2+2])*Krr[1:N1+N2+2]\n",
        "  be0 = np.dot(rhsbe , inv_matrix_beta)\n",
        "  Beta = np.dot(be0, SB3)\n",
        "  rBeta = np.concatenate((np.dot(be0, rSB3),[0,0]))\n",
        "  db_origin = 2*np.exp(-4*Chi[0])*Alpha[0]*np.dot(a0[0:N1+1], coeforigin) + np.exp(-4*Chi[0])*Alpha[0]*rrPhi[0]\n",
        "  db_int = Beta[1:N1+N2]*rPi[1:N1+N2] + np.exp(-4*Chi[1:N1+N2])*(2*Alpha[1:N1+N2]/r[1:N1+N2] + rAlpha[1:N1+N2] + 2*rChi[1:N1+N2]*Alpha[1:N1+N2])*rPhi[1:N1+N2] + np.exp(-4*Chi[1:N1+N2])*Alpha[1:N1+N2]*rrPhi[1:N1+N2] - Alpha[1:N1+N2]*V\n",
        "  db0 = np.hstack((db_origin, db_int, np.dot(psi_cc,b0), np.dot(rpsi_cc,b0)))\n",
        "  db = np.dot(db0, inv_psi)\n",
        "  dc = np.dot(Beta*rChi + rBeta/2 - Alpha/2*np.exp(-4*Chi)*Krr, inv_psi)\n",
        "  da = np.dot(Alpha*Pi + Beta*rPhi, inv_psi)\n",
        "  K3 = h*(dc)\n",
        "  L3 = h*(da)\n",
        "  F3 = h*(db)\n",
        "\n",
        "  # Forth step\n",
        "  Phi = np.dot(a0 + L3, psi)\n",
        "  rPhi = np.concatenate((np.dot(a0 + L3 , rpsi),[0,0]))\n",
        "  rrPhi = np.concatenate((np.dot(a0 + L3, rrpsi),[0,0]))\n",
        "  Pi = np.dot(b0 + F3, psi)\n",
        "  rPi = np.concatenate((np.dot(b0 + F3, rpsi),[0,0]))\n",
        "  Chi = np.dot(c0 + K3, psi)\n",
        "  rChi = np.concatenate((np.dot(c0 + K3, rpsi),[0,0]))\n",
        "  rrChi = np.concatenate((np.dot(c0 + K3, rrpsi),[0,0]))\n",
        "  Matrix_Krr_1 = 2*rChi[1:N1+N2]*SB1[:,1:N1+N2] + rSB1[:,1:N1+N2] + 3/r[1:N1+N2]*SB1[:,1:N1+N2] # [N1+N2+1, N1+N2+1]\n",
        "  Matrix_Krr = np.hstack((Matrix_Krr_1,CCK.T))\n",
        "  inv_matrix_krr = np.linalg.inv(Matrix_Krr)\n",
        "  rhsk = - Pi[1:N1+N2+2]*rPhi[1:N1+N2+2]*np.exp(4*Chi[1:N1+N2+2])  # [N1+N2+1]\n",
        "  ck0 = np.dot(rhsk, inv_matrix_krr)  # [N1+N2+1]\n",
        "  Krr = np.dot(ck0, SB1)\n",
        "  rKrr = np.concatenate((np.dot(ck0, rSB1),[0,0]))\n",
        "  Matrix_Alpha_0 = rrpsi[:,0]  - np.exp(4*Chi[0])*Pi[0]**2*psi[:,0]\n",
        "  Matrix_Alpha_int = rrpsi[:,1:N1+N2] + 2*(1/r[1:N1+N2] + rChi[1:N1+N2])*rpsi[:,1:N1+N2] - 3/2*np.exp(-4*Chi[1:N1+N2])*Krr[1:N1+N2]**2*psi[:,1:N1+N2] - np.exp(4*Chi[1:N1+N2])*(Pi[1:N1+N2]**2 - V)*psi[:,1:N1+N2]\n",
        "  Matrix_Alpha = np.column_stack((Matrix_Alpha_0, Matrix_Alpha_int, psi_cc, rpsi_cc))\n",
        "  inv_matrix_alpha = np.linalg.inv(Matrix_Alpha)\n",
        "  rhsal = 3/2*np.exp(-4*Chi)*Krr**2 + np.exp(4*Chi)*(Pi**2-V)\n",
        "  al0 = np.dot(rhsal, inv_matrix_alpha)\n",
        "  Alpha = 1 + np.dot(al0, psi)\n",
        "  rAlpha = np.concatenate((np.dot(al0, rpsi),[0,0]))\n",
        "  rrAlpha = np.concatenate((np.dot(al0, rrpsi),[0,0]))\n",
        "  Matrix_Beta_1 = rSB3[:,1:N1+N2] - SB3[:,1:N1+N2]/r[1:N1+N2]\n",
        "  Matrix_Beta = np.hstack((Matrix_Beta_1,CCK.T))\n",
        "  inv_matrix_beta = np.linalg.inv(Matrix_Beta)\n",
        "  rhsbe = 3/2*Alpha[1:N1+N2+2]*np.exp(-4*Chi[1:N1+N2+2])*Krr[1:N1+N2+2]\n",
        "  be0 = np.dot(rhsbe , inv_matrix_beta)\n",
        "  Beta = np.dot(be0, SB3)\n",
        "  rBeta = np.concatenate((np.dot(be0, rSB3),[0,0]))\n",
        "  db_origin = 2*np.exp(-4*Chi[0])*Alpha[0]*np.dot(a0[0:N1+1], coeforigin) + np.exp(-4*Chi[0])*Alpha[0]*rrPhi[0]\n",
        "  db_int = Beta[1:N1+N2]*rPi[1:N1+N2] + np.exp(-4*Chi[1:N1+N2])*(2*Alpha[1:N1+N2]/r[1:N1+N2] + rAlpha[1:N1+N2] + 2*rChi[1:N1+N2]*Alpha[1:N1+N2])*rPhi[1:N1+N2] + np.exp(-4*Chi[1:N1+N2])*Alpha[1:N1+N2]*rrPhi[1:N1+N2] - Alpha[1:N1+N2]*V\n",
        "  db0 = np.hstack((db_origin, db_int, np.dot(psi_cc,b0), np.dot(rpsi_cc,b0)))\n",
        "  db = np.dot(db0, inv_psi)\n",
        "  dc = np.dot(Beta*rChi + rBeta/2 - Alpha/2*np.exp(-4*Chi)*Krr, inv_psi)\n",
        "  da = np.dot(Alpha*Pi + Beta*rPhi, inv_psi)\n",
        "  K4 = h*(dc)\n",
        "  L4 = h*(da)\n",
        "  F4 = h*(db)\n",
        "\n",
        "  t = t + h\n",
        "#  print(t)\n",
        "#  if t > 9:\n",
        "#    h=0.0001\n",
        "\n",
        "  # Evolution functions\n",
        "  a0 = a0 + 1/6 * (L1 + 2*L2 + 2*L3 + L4)\n",
        "  b0 = b0 + 1/6 * (F1 + 2*F2 + 2*F3 + F4)\n",
        "  c0 = c0 + 1/6 * (K1 + 2*K2 + 2*K3 + K4)\n",
        "  phi_set0.append(np.dot(a0, psiplot))\n",
        "\n",
        "phi_set = np.array(phi_set0)\n",
        "\n",
        "#  pi_set[i,:] = np.dot(b0, psiplot)\n",
        "#  chi_set[i,:] = np.dot(c0, psiplot)\n",
        "\n",
        "out_a.close()\n",
        "out_p.close()\n",
        "\n",
        "t1 = np.linspace(0, tf, len(Alpha_origin))"
      ]
    },
    {
      "cell_type": "code",
      "source": [
        "psiplot.shape"
      ],
      "metadata": {
        "colab": {
          "base_uri": "https://localhost:8080/"
        },
        "id": "x7U00td4N9NT",
        "outputId": "40918b9c-f9df-46be-b86a-bce01237f8b4"
      },
      "execution_count": 178,
      "outputs": [
        {
          "output_type": "execute_result",
          "data": {
            "text/plain": [
              "(32, 1000)"
            ]
          },
          "metadata": {},
          "execution_count": 178
        }
      ]
    },
    {
      "cell_type": "code",
      "source": [
        "# Scalar Field Phi:\n",
        "\n",
        "plt.plot(rplot, phi_set[0])  # Assegurar mesma dimensão\n",
        "plt.xlabel('r')\n",
        "plt.xlim(0,6)\n",
        "plt.ylabel(r'$\\phi(r)$')\n",
        "#plt.axvline(x=r0, color='k', label='Interface em $r=r0$')\n",
        "plt.legend()\n",
        "plt.grid(True)\n",
        "plt.show()"
      ],
      "metadata": {
        "id": "oE2bbsV1kv5Q",
        "colab": {
          "base_uri": "https://localhost:8080/",
          "height": 484
        },
        "outputId": "86e37e9f-b8a4-4b94-c617-119b4c48e0cd"
      },
      "execution_count": 181,
      "outputs": [
        {
          "output_type": "stream",
          "name": "stderr",
          "text": [
            "<ipython-input-181-9c2d30de8854>:8: UserWarning: No artists with labels found to put in legend.  Note that artists whose label start with an underscore are ignored when legend() is called with no argument.\n",
            "  plt.legend()\n"
          ]
        },
        {
          "output_type": "display_data",
          "data": {
            "text/plain": [
              "<Figure size 640x480 with 1 Axes>"
            ],
            "image/png": "[encoded data removed]"
          },
          "metadata": {}
        }
      ]
    },
    {
      "cell_type": "code",
      "execution_count": 197,
      "metadata": {
        "id": "4xy2x7d4IuWF",
        "outputId": "82c941ae-e27f-4e43-f3a4-aefc5085327a",
        "colab": {
          "base_uri": "https://localhost:8080/",
          "height": 466
        }
      },
      "outputs": [
        {
          "output_type": "execute_result",
          "data": {
            "text/plain": [
              "<matplotlib.legend.Legend at 0x7f0ce49e7e90>"
            ]
          },
          "metadata": {},
          "execution_count": 197
        },
        {
          "output_type": "display_data",
          "data": {
            "text/plain": [
              "<Figure size 640x480 with 1 Axes>"
            ],
            "image/png": "[encoded data removed]"
          },
          "metadata": {}
        }
      ],
      "source": [
        "# Searching for critical amplitude:\n",
        "\n",
        "Alpha_origin_disp = Alpha_origin\n",
        "#Alpha_origin_collapse = Alpha_origin\n",
        "\n",
        "plt.plot(t1, Alpha_origin_disp, color = \"g\", label = f\"$A_0$ = {A0}\")\n",
        "#plt.plot(t1, Alpha_origin_collapse, color = \"y\", label = \"$A_0$ = {:}\".format(A0))\n",
        "plt.ylabel(r\"$\\alpha(t,0)$\")\n",
        "plt.xlabel(\"t\")\n",
        "plt.grid()\n",
        "plt.legend()"
      ]
    },
    {
      "cell_type": "code",
      "execution_count": 198,
      "metadata": {
        "id": "_T2TmgjIkXju",
        "colab": {
          "base_uri": "https://localhost:8080/",
          "height": 489
        },
        "outputId": "566ec3fa-b2f5-4f53-e9a4-2269abefa6e3"
      },
      "outputs": [
        {
          "output_type": "execute_result",
          "data": {
            "text/plain": [
              "<matplotlib.legend.Legend at 0x7f0ce4747010>"
            ]
          },
          "metadata": {},
          "execution_count": 198
        },
        {
          "output_type": "display_data",
          "data": {
            "text/plain": [
              "<Figure size 640x480 with 1 Axes>"
            ],
            "image/png": "[encoded data removed]"
          },
          "metadata": {}
        }
      ],
      "source": [
        "# Phi origin\n",
        "\n",
        "plt.plot(t1, phi_origin, color = \"b\", label = \" = {:}\".format(A0))\n",
        "plt.title(\"Phi na origem para L0 = 2 e N = {:}\".format(N1) )\n",
        "plt.ylabel(\"$\\phi$(t,0)\")\n",
        "plt.xlabel(\"t\")\n",
        "plt.grid()\n",
        "plt.legend()"
      ]
    },
    {
      "cell_type": "code",
      "execution_count": null,
      "metadata": {
        "id": "8OBiYkaKccJW",
        "colab": {
          "base_uri": "https://localhost:8080/",
          "height": 222
        },
        "outputId": "bbdd5dd4-47f0-451f-ba43-78a6ba6c1e9b"
      },
      "outputs": [
        {
          "output_type": "error",
          "ename": "NameError",
          "evalue": "name 't1' is not defined",
          "traceback": [
            "\u001b[0;31m---------------------------------------------------------------------------\u001b[0m",
            "\u001b[0;31mNameError\u001b[0m                                 Traceback (most recent call last)",
            "\u001b[0;32m<ipython-input-53-7b32288040ef>\u001b[0m in \u001b[0;36m<cell line: 0>\u001b[0;34m()\u001b[0m\n\u001b[1;32m      1\u001b[0m \u001b[0;31m# Erro L2 of Hamiltonian constraint\u001b[0m\u001b[0;34m\u001b[0m\u001b[0;34m\u001b[0m\u001b[0m\n\u001b[1;32m      2\u001b[0m \u001b[0;34m\u001b[0m\u001b[0m\n\u001b[0;32m----> 3\u001b[0;31m \u001b[0mplt\u001b[0m\u001b[0;34m.\u001b[0m\u001b[0mplot\u001b[0m\u001b[0;34m(\u001b[0m\u001b[0mt1\u001b[0m\u001b[0;34m,\u001b[0m\u001b[0mL2HC\u001b[0m\u001b[0;34m)\u001b[0m\u001b[0;34m\u001b[0m\u001b[0;34m\u001b[0m\u001b[0m\n\u001b[0m\u001b[1;32m      4\u001b[0m \u001b[0mplt\u001b[0m\u001b[0;34m.\u001b[0m\u001b[0myscale\u001b[0m\u001b[0;34m(\u001b[0m\u001b[0;34m\"log\"\u001b[0m\u001b[0;34m)\u001b[0m\u001b[0;34m\u001b[0m\u001b[0;34m\u001b[0m\u001b[0m\n\u001b[1;32m      5\u001b[0m \u001b[0mplt\u001b[0m\u001b[0;34m.\u001b[0m\u001b[0mylabel\u001b[0m\u001b[0;34m(\u001b[0m\u001b[0;34m\"log(L2HC)\"\u001b[0m\u001b[0;34m)\u001b[0m\u001b[0;34m\u001b[0m\u001b[0;34m\u001b[0m\u001b[0m\n",
            "\u001b[0;31mNameError\u001b[0m: name 't1' is not defined"
          ]
        }
      ],
      "source": [
        "# Erro L2 of Hamiltonian constraint\n",
        "\n",
        "plt.plot(t1,L2HC)\n",
        "plt.yscale(\"log\")\n",
        "plt.ylabel(\"log(L2HC)\")\n",
        "plt.xlabel(\"t\")\n",
        "plt.title(\"log(L2Hc) para $N = 200$, $L_0 = 20$ e $A_0 = $\")"
      ]
    },
    {
      "cell_type": "code",
      "execution_count": null,
      "metadata": {
        "id": "1K6H0vM8al3A"
      },
      "outputs": [],
      "source": [
        "# Erro L2 of momentum constraint\n",
        "\n",
        "plt.plot(t1,L2MC,label = \"$A_0$ = {:}\".format(A0))\n",
        "plt.yscale(\"log\")\n",
        "plt.ylabel(\"log(L2HC)\")\n",
        "plt.xlabel(\"t\")\n",
        "#plt.grid()\n",
        "plt.title(\"log(L2MC) para $N = 50$, $L_0 = 2$\")"
      ]
    },
    {
      "cell_type": "code",
      "execution_count": null,
      "metadata": {
        "id": "NZClsZQ2al3A"
      },
      "outputs": [],
      "source": [
        "#L2HC_50_L02 = max(L2HC)\n",
        "#L2HC_50_L05 = max(L2HC)\n",
        "#L2HC_50_L010 = max(L2HC)\n",
        "\n",
        "#L2HC_100_L02 = max(L2HC)\n",
        "#L2HC_100_L05 = max(L2HC)\n",
        "#L2HC_100_L010 = max(L2HC)\n",
        "\n",
        "#L2HC_150_L02 = max(L2HC)\n",
        "#L2HC_150_L05 = max(L2HC)\n",
        "#L2HC_150_L010 = max(L2HC)\n",
        "\n",
        "#L2HC_200_L02 = max(L2HC)\n",
        "#L2HC_200_L05 = max(L2HC)\n",
        "#L2HC_200_L010 = max(L2HC)\n",
        "\n",
        "#L2HC_250_L02 = max(L2HC)\n",
        "#L2HC_250_L05 = max(L2HC)\n",
        "#L2HC_250_L010 = max(L2HC)"
      ]
    },
    {
      "cell_type": "code",
      "execution_count": null,
      "metadata": {
        "id": "9hHp0c8Zal3A"
      },
      "outputs": [],
      "source": [
        "# Code convergency for momentum contraint:\n",
        "\n",
        "#L2MC_50_L02 = max(L2MC)\n",
        "#L2MC_50_L05 = max(L2MC)\n",
        "#L2MC_50_L010 = max(L2MC)\n",
        "\n",
        "#L2MC_100_L02 = max(L2MC)\n",
        "#L2MC_100_L05 = max(L2MC)\n",
        "#L2MC_100_L010 = max(L2MC)\n",
        "\n",
        "#L2MC_150_L02 = max(L2MC)\n",
        "#L2MC_150_L05 = max(L2MC)\n",
        "#L2MC_150_L010 = max(L2MC)\n",
        "\n",
        "#L2MC_200_L02 = max(L2MC)\n",
        "#L2MC_200_L05 = max(L2MC)\n",
        "#L2MC_200_L010 = max(L2MC)\n",
        "\n",
        "#L2MC_250_L02 = max(L2MC)\n",
        "L2MC_250_L05 = max(L2MC)\n",
        "#L2MC_250_L010 = max(L2MC)"
      ]
    },
    {
      "cell_type": "code",
      "execution_count": null,
      "metadata": {
        "id": "NKlo697kal3B"
      },
      "outputs": [],
      "source": [
        "# Plot 3D from scalar field at t = constant:\n",
        "\n",
        "from mpl_toolkits.mplot3d import Axes3D\n",
        "\n",
        "fig = plt.figure(figsize=(12,6))\n",
        "#ax1 = fig.add_subplot(121)\n",
        "ax2 = fig.add_subplot(122,projection='3d')\n",
        "\n",
        "y = phi_set[] # 5 plots from t = 0, .., 10\n",
        "x = rplot\n",
        "theta = np.linspace(0, 2*np.pi, M)    # Revolution of f(phi,r)\n",
        "\n",
        "xn = np.outer(x, np.cos(theta))\n",
        "yn = np.outer(x, np.sin(theta))\n",
        "zn = np.zeros_like(xn)\n",
        "\n",
        "for i in range(len(x)):\n",
        "    zn[i,:] = np.full_like(zn[0,:], y[i])\n",
        "\n",
        "\n",
        "ax2.plot_surface(xn, yn, zn)\n",
        "\n",
        "\n",
        "#ax1.plot(x, y)\n",
        "#surf = ax2.plot_surface(xn, yn, zn, rstride = 1, cmap = 'viridis', edgecolor = 'none')\n",
        "#fig.colorbar(surf, ax = ax2, shrink = 0.5, aspect = 5)  # adiciona barra de cores para a superfície 3D\n",
        "#ax1.view_init(elev = 30, azim = 30)  # ajusta a perspectiva\n",
        "#ax2.view_init(elev = 30, azim = 30)\n",
        "#ax2.grid(False)\n",
        "#plt.axis('off')\n",
        "plt.show()"
      ]
    },
    {
      "cell_type": "code",
      "execution_count": null,
      "metadata": {
        "id": "5m_SxasJal3B",
        "outputId": "a1714e64-4f3b-4cbd-bb46-114e8d37ec17"
      },
      "outputs": [
        {
          "data": {
            "text/plain": [
              "array([-0.26342508, -0.26149686, -0.25575876, ...,  0.02664143,\n",
              "        0.02649835,  0.02635563])"
            ]
          },
          "execution_count": 48,
          "metadata": {},
          "output_type": "execute_result"
        }
      ],
      "source": [
        "phi_set[49999]"
      ]
    },
    {
      "cell_type": "code",
      "execution_count": 199,
      "metadata": {
        "id": "Iuhi2wrPal3B",
        "outputId": "7c8e0e29-27c3-4376-dafa-b47d39a3274a",
        "colab": {
          "base_uri": "https://localhost:8080/",
          "height": 435
        }
      },
      "outputs": [
        {
          "output_type": "display_data",
          "data": {
            "text/plain": [
              "<Figure size 640x480 with 1 Axes>"
            ],
            "image/png": "[encoded data removed]"
          },
          "metadata": {}
        }
      ],
      "source": [
        "# Animation plot for Phi: Scalar Field\n",
        "\n",
        "from matplotlib.animation import FuncAnimation\n",
        "from IPython.display import HTML\n",
        "import matplotlib as mpl\n",
        "\n",
        "\n",
        "fig = plt.figure()\n",
        "ax = plt.axes(xlim=(0, 10),ylim = (-2, 1.5))\n",
        "line, = ax.plot([], [], lw=2)\n",
        "initA0_text = ax.text(0.02, 0.95, '', transform=ax.transAxes)\n",
        "time_text = ax.text(0.02, 0.9, '', transform=ax.transAxes)\n",
        "x = rplot\n",
        "\n",
        "def init():\n",
        "    line.set_data([], [])\n",
        "    initA0_text.set_text('')\n",
        "    time_text.set_text('')\n",
        "    return line,\n",
        "\n",
        "def animate(i):\n",
        "  y = phi_set[i]\n",
        "  line.set_data(x, y)\n",
        "  initA0_text.set_text(\"$A_0 = {:}$\".format(A0))\n",
        "  time_text.set_text(\"Time =\"+str(round(h+h*i,2)))\n",
        "  return line,\n",
        "\n",
        "anim = FuncAnimation(fig, animate, init_func=init,\n",
        "                               frames=It, interval=0.2, blit=True)\n",
        "\n",
        "HTML(anim.to_html5_video())\n",
        "#if A0 > 0.0819:\n",
        "#    anim.save(\"animation_colapse.mp4\")\n",
        "#else:\n",
        "#    anim.save(\"animation_dispersion.mp4\")\n",
        "\n"
      ]
    },
    {
      "cell_type": "code",
      "execution_count": null,
      "metadata": {
        "id": "F2-32yEaal3B"
      },
      "outputs": [],
      "source": []
    }
  ],
  "metadata": {
    "colab": {
      "provenance": [],
      "include_colab_link": true
    },
    "kernelspec": {
      "display_name": "Python 3 (ipykernel)",
      "language": "python",
      "name": "python3"
    },
    "language_info": {
      "codemirror_mode": {
        "name": "ipython",
        "version": 3
      },
      "file_extension": ".py",
      "mimetype": "text/x-python",
      "name": "python",
      "nbconvert_exporter": "python",
      "pygments_lexer": "ipython3",
      "version": "3.11.4"
    }
  },
  "nbformat": 4,
  "nbformat_minor": 0
}