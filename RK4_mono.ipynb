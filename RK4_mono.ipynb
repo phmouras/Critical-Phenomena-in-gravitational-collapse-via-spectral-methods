{
  "nbformat": 4,
  "nbformat_minor": 0,
  "metadata": {
    "colab": {
      "name": "RK4_mono.ipynb",
      "provenance": [],
      "authorship_tag": "ABX9TyP7PJrwvq1Sh9t1eNy7Sg9b",
      "include_colab_link": true
    },
    "kernelspec": {
      "name": "python3",
      "display_name": "Python 3"
    },
    "language_info": {
      "name": "python"
    }
  },
  "cells": [
    {
      "cell_type": "markdown",
      "metadata": {
        "id": "view-in-github",
        "colab_type": "text"
      },
      "source": [
        "<a href=\"https://colab.research.google.com/github/phmouras/Projeto_Pos/blob/main/RK4_mono.ipynb\" target=\"_parent\"><img src=\"https://colab.research.google.com/assets/colab-badge.svg\" alt=\"Open In Colab\"/></a>"
      ]
    },
    {
      "cell_type": "markdown",
      "source": [
        "Runge-Kutta 4 para a solução a equação da onda"
      ],
      "metadata": {
        "id": "sk5Ix-Jakgf7"
      }
    },
    {
      "cell_type": "code",
      "execution_count": 4,
      "metadata": {
        "id": "3XdzMehkUrTD"
      },
      "outputs": [],
      "source": [
        "import numpy as np\n",
        "import matplotlib.pyplot as plt \n",
        "from scipy.integrate import solve_ivp\n",
        "\n",
        "N = 80\n",
        "sigma0 = (0.3**1/2)\n",
        "x00 = 0\n",
        "exp_u0 = np.exp(-(x - x00)**2 / (sigma0)**2)\n",
        "\n",
        "\n",
        "\n",
        "def func(t,x):\n",
        "  return "
      ]
    }
  ]
}