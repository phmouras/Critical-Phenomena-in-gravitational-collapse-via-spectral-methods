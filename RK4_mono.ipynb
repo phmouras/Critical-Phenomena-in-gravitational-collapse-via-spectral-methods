{
  "nbformat": 4,
  "nbformat_minor": 0,
  "metadata": {
    "colab": {
      "name": "RK4_mono.ipynb",
      "provenance": [],
      "authorship_tag": "ABX9TyPPcaNnBaQEEmu4YTC1jZpq",
      "include_colab_link": true
    },
    "kernelspec": {
      "name": "python3",
      "display_name": "Python 3"
    },
    "language_info": {
      "name": "python"
    }
  },
  "cells": [
    {
      "cell_type": "markdown",
      "metadata": {
        "id": "view-in-github",
        "colab_type": "text"
      },
      "source": [
        "<a href=\"https://colab.research.google.com/github/phmouras/Projeto_Pos/blob/main/RK4_mono.ipynb\" target=\"_parent\"><img src=\"https://colab.research.google.com/assets/colab-badge.svg\" alt=\"Open In Colab\"/></a>"
      ]
    },
    {
      "cell_type": "markdown",
      "source": [
        "Runge-Kutta 4 para a solução a equação da onda"
      ],
      "metadata": {
        "id": "sk5Ix-Jakgf7"
      }
    },
    {
      "cell_type": "code",
      "execution_count": 41,
      "metadata": {
        "id": "3XdzMehkUrTD",
        "outputId": "dda47ad8-b948-48b4-c9c5-f61f211c68f4",
        "colab": {
          "base_uri": "https://localhost:8080/",
          "height": 135
        }
      },
      "outputs": [
        {
          "output_type": "error",
          "ename": "SyntaxError",
          "evalue": "ignored",
          "traceback": [
            "\u001b[0;36m  File \u001b[0;32m\"<ipython-input-41-1686fd117da8>\"\u001b[0;36m, line \u001b[0;32m67\u001b[0m\n\u001b[0;31m    res_weq_1 = exp_du_x_1 + 2*diff(exp_u_x_1,x)\u001b[0m\n\u001b[0m            ^\u001b[0m\n\u001b[0;31mSyntaxError\u001b[0m\u001b[0;31m:\u001b[0m invalid syntax\n"
          ]
        }
      ],
      "source": [
        "import numpy as np\n",
        "import matplotlib.pyplot as plt \n",
        "from scipy.integrate import solve_ivp\n",
        "from scipy.special import eval_chebyt as T\n",
        "from sympy import diff\n",
        "from sympy import *\n",
        "import math\n",
        "N = 80\n",
        "L01 = 2\n",
        "L02 = 2\n",
        "sigma0 = (0.3**1/2)\n",
        "x00 = 0\n",
        "#exp_u0 = np.exp(-(x - x00)**2 / (sigma0)**2) # exact solution\n",
        "x = Symbol('x')\n",
        "\n",
        "\n",
        "xi = (L01 + x)/(L01 - x) # Mapeamento do Domínio 1\n",
        "\n",
        "def TL1(k,x):\n",
        "  return eval_chebyt(k,xi)\n",
        "\n",
        "def psi_1(k,x):\n",
        "  return 1/2 * (TL1(k+1,x) + TL1(k,x))\n",
        "\n",
        "eta = (x - L02) / (x + L02) # Mapeamento do Domínio 2\n",
        "\n",
        "def TL2(k,x):\n",
        "  return eval_chebyt(k,eta)\n",
        "\n",
        "def psi_2(k,x):\n",
        "  return 1/2 * (TL2(k+1,x) - TL2(k,x))\n",
        "\n",
        "# Domínio 1\n",
        "p_1 = 20\n",
        "\n",
        "\n",
        "for j in range(p_1):\n",
        "  exp_u_x_1 = sum(a1[j] * psi_1(j,x))\n",
        "  return exp_u_x_1\n",
        "  \n",
        "\n",
        "for j in range(p_1):\n",
        "  exp_du_x_1 = sum(da[j] * psi_1(j,x))\n",
        "  return exp_u_x_1\n",
        "\n",
        "# Domínio 2\n",
        "p_2 = 20\n",
        "\n",
        "for j in range(p_2):\n",
        "  exp_u_x_2[j] = sum(a2[j] * psi_2(j,x))\n",
        "  return exp_u_x_2\n",
        "\n",
        "for j in range(p_2):\n",
        "  exp_du_x_2 = sum(da2[j] * psi_2(j,x))\n",
        "  return exp_du_x_2\n",
        "\n",
        "# Condições de Contorno\n",
        "\n",
        "x0 = 0\n",
        "\n",
        "constr_u = subs(x = x0, exp_u_x_2 - exp_u_x_1) + subs(x = x0, diff(exp_u_x_1,x)  + subs(x = x0, diff(exp_u_x_2,x))\n",
        "\n",
        "\n",
        "\n",
        "# Eq. da onda residual: Domínio 1\n",
        "\n",
        "res_weq_1 = exp_du_x_1 + 2*diff(exp_u_x_1,x)\n",
        "\n",
        "\n",
        "#pontos de colocação: domínio computacional\n",
        "xi_col = []\n",
        "for k in range(p_1+1):\n",
        "  xi_col.append(math.cos(math.pi * k/(p_1+1)))\n",
        "\n",
        "xi_col[1]\n",
        "\n"
      ]
    },
    {
      "cell_type": "code",
      "source": [
        "import math\n",
        "\n",
        "p_1 = 20\n",
        "xi_col = []\n",
        "for k in range(p_1+1):\n",
        "  xi_col.append(math.cos((math.pi * k)/(p_1+1)))\n",
        "\n",
        "xi_col[2]"
      ],
      "metadata": {
        "id": "UG3pktBAi-SK",
        "outputId": "374dcd7e-f6d4-4ebd-b769-490feca412d8",
        "colab": {
          "base_uri": "https://localhost:8080/"
        }
      },
      "execution_count": 39,
      "outputs": [
        {
          "output_type": "execute_result",
          "data": {
            "text/plain": [
              "0.9555728057861407"
            ]
          },
          "metadata": {},
          "execution_count": 39
        }
      ]
    }
  ]
}