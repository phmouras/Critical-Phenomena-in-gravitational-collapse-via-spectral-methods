{
  "nbformat": 4,
  "nbformat_minor": 0,
  "metadata": {
    "colab": {
      "name": "RK4_mono.ipynb",
      "provenance": [],
      "authorship_tag": "ABX9TyNVFFfavEYzHEct0qBKL/hm",
      "include_colab_link": true
    },
    "kernelspec": {
      "name": "python3",
      "display_name": "Python 3"
    },
    "language_info": {
      "name": "python"
    }
  },
  "cells": [
    {
      "cell_type": "markdown",
      "metadata": {
        "id": "view-in-github",
        "colab_type": "text"
      },
      "source": [
        "<a href=\"https://colab.research.google.com/github/phmouras/Projeto_Pos/blob/main/RK4_mono.ipynb\" target=\"_parent\"><img src=\"https://colab.research.google.com/assets/colab-badge.svg\" alt=\"Open In Colab\"/></a>"
      ]
    },
    {
      "cell_type": "markdown",
      "source": [
        "Runge-Kutta 4 para a solução a equação da onda"
      ],
      "metadata": {
        "id": "sk5Ix-Jakgf7"
      }
    },
    {
      "cell_type": "code",
      "execution_count": 34,
      "metadata": {
        "id": "3XdzMehkUrTD",
        "outputId": "c04ff3de-260e-4a2b-9734-e711c79e6273",
        "colab": {
          "base_uri": "https://localhost:8080/",
          "height": 374
        }
      },
      "outputs": [
        {
          "output_type": "error",
          "ename": "IndexError",
          "evalue": "ignored",
          "traceback": [
            "\u001b[0;31m---------------------------------------------------------------------------\u001b[0m",
            "\u001b[0;31mIndexError\u001b[0m                                Traceback (most recent call last)",
            "\u001b[0;32m<ipython-input-34-5248e15bcd15>\u001b[0m in \u001b[0;36m<module>\u001b[0;34m()\u001b[0m\n\u001b[1;32m     36\u001b[0m \u001b[0;34m\u001b[0m\u001b[0m\n\u001b[1;32m     37\u001b[0m \u001b[0ma1\u001b[0m \u001b[0;34m=\u001b[0m \u001b[0;34m[\u001b[0m\u001b[0;34m]\u001b[0m\u001b[0;34m\u001b[0m\u001b[0;34m\u001b[0m\u001b[0m\n\u001b[0;32m---> 38\u001b[0;31m \u001b[0mexp_u_x_1\u001b[0m \u001b[0;34m=\u001b[0m \u001b[0msum\u001b[0m\u001b[0;34m(\u001b[0m\u001b[0;34m[\u001b[0m\u001b[0;34m(\u001b[0m\u001b[0ma1\u001b[0m\u001b[0;34m[\u001b[0m\u001b[0mj\u001b[0m\u001b[0;34m]\u001b[0m \u001b[0;34m*\u001b[0m \u001b[0mpsi_1\u001b[0m\u001b[0;34m(\u001b[0m\u001b[0mj\u001b[0m\u001b[0;34m,\u001b[0m\u001b[0mx\u001b[0m\u001b[0;34m)\u001b[0m\u001b[0;34m)\u001b[0m \u001b[0;32mfor\u001b[0m \u001b[0mj\u001b[0m \u001b[0;32min\u001b[0m \u001b[0mrange\u001b[0m\u001b[0;34m(\u001b[0m\u001b[0mp_1\u001b[0m\u001b[0;34m)\u001b[0m\u001b[0;34m]\u001b[0m\u001b[0;34m)\u001b[0m\u001b[0;34m\u001b[0m\u001b[0;34m\u001b[0m\u001b[0m\n\u001b[0m\u001b[1;32m     39\u001b[0m \u001b[0;34m\u001b[0m\u001b[0m\n\u001b[1;32m     40\u001b[0m \u001b[0mda1\u001b[0m \u001b[0;34m=\u001b[0m \u001b[0;34m[\u001b[0m\u001b[0;34m]\u001b[0m\u001b[0;34m\u001b[0m\u001b[0;34m\u001b[0m\u001b[0m\n",
            "\u001b[0;32m<ipython-input-34-5248e15bcd15>\u001b[0m in \u001b[0;36m<listcomp>\u001b[0;34m(.0)\u001b[0m\n\u001b[1;32m     36\u001b[0m \u001b[0;34m\u001b[0m\u001b[0m\n\u001b[1;32m     37\u001b[0m \u001b[0ma1\u001b[0m \u001b[0;34m=\u001b[0m \u001b[0;34m[\u001b[0m\u001b[0;34m]\u001b[0m\u001b[0;34m\u001b[0m\u001b[0;34m\u001b[0m\u001b[0m\n\u001b[0;32m---> 38\u001b[0;31m \u001b[0mexp_u_x_1\u001b[0m \u001b[0;34m=\u001b[0m \u001b[0msum\u001b[0m\u001b[0;34m(\u001b[0m\u001b[0;34m[\u001b[0m\u001b[0;34m(\u001b[0m\u001b[0ma1\u001b[0m\u001b[0;34m[\u001b[0m\u001b[0mj\u001b[0m\u001b[0;34m]\u001b[0m \u001b[0;34m*\u001b[0m \u001b[0mpsi_1\u001b[0m\u001b[0;34m(\u001b[0m\u001b[0mj\u001b[0m\u001b[0;34m,\u001b[0m\u001b[0mx\u001b[0m\u001b[0;34m)\u001b[0m\u001b[0;34m)\u001b[0m \u001b[0;32mfor\u001b[0m \u001b[0mj\u001b[0m \u001b[0;32min\u001b[0m \u001b[0mrange\u001b[0m\u001b[0;34m(\u001b[0m\u001b[0mp_1\u001b[0m\u001b[0;34m)\u001b[0m\u001b[0;34m]\u001b[0m\u001b[0;34m)\u001b[0m\u001b[0;34m\u001b[0m\u001b[0;34m\u001b[0m\u001b[0m\n\u001b[0m\u001b[1;32m     39\u001b[0m \u001b[0;34m\u001b[0m\u001b[0m\n\u001b[1;32m     40\u001b[0m \u001b[0mda1\u001b[0m \u001b[0;34m=\u001b[0m \u001b[0;34m[\u001b[0m\u001b[0;34m]\u001b[0m\u001b[0;34m\u001b[0m\u001b[0;34m\u001b[0m\u001b[0m\n",
            "\u001b[0;31mIndexError\u001b[0m: list index out of range"
          ]
        }
      ],
      "source": [
        "import numpy as np\n",
        "import matplotlib.pyplot as plt \n",
        "from scipy.integrate import solve_ivp\n",
        "from scipy.special import eval_chebyt as T\n",
        "from sympy import diff\n",
        "from sympy import *\n",
        "import math\n",
        "\n",
        "N = 80\n",
        "L01 = 2\n",
        "L02 = 2\n",
        "sigma0 = (0.3**1/2)\n",
        "x00 = 0\n",
        "#exp_u0 = np.exp(-(x - x00)**2 / (sigma0)**2) # exact solution\n",
        "x = Symbol('x')\n",
        "\n",
        "\n",
        "xi = (L01 + x)/(L01 - x) # Mapeamento do Domínio 1\n",
        "\n",
        "def TL1(k,x):\n",
        "  return T(k,xi)\n",
        "\n",
        "def psi_1(k,x):\n",
        "  return 1/2 * (TL1(k+1,x) + TL1(k,x))\n",
        "\n",
        "eta = (x - L02) / (x + L02) # Mapeamento do Domínio 2\n",
        "\n",
        "def TL2(k,x):\n",
        "  return T(k,eta)\n",
        "\n",
        "def psi_2(k,x):\n",
        "  return 1/2 * (TL2(k+1,x) - TL2(k,x))\n",
        "\n",
        "# Domínio 1\n",
        "p_1 = 20\n",
        "\n",
        "a1 = []\n",
        "exp_u_x_1 = sum([(a1[j] * psi_1(j,x)) for j in range(p_1)])\n",
        "  \n",
        "da1 = []\n",
        "exp_du_x_1 = sum([(da1[j] * psi_1(j,x)) for j in range(p_1)])\n",
        " \n",
        "\n",
        "# Domínio 2\n",
        "p_2 = 20\n",
        "\n",
        "a2 = []\n",
        "\n",
        "exp_u_x_2 = sum([a2[j] * psi_2(j,x) for j in range(p_2)])\n",
        "\n",
        "da2 = []\n",
        "exp_du_x_2 = sum([da2[j] * psi_2(j,x) for j in range(p_2)])\n",
        "  \n",
        "\n",
        "# Condições de Contorno\n",
        "\n",
        "x0 = 0\n",
        "\n",
        "#constr_u = [subs(x = x0, exp_u_x_2 - exp_u_x_1) + subs(x = x0, diff(exp_u_x_1,x)  + subs(x = x0, diff(exp_u_x_2,x))]\n",
        "\n",
        "\n",
        "\n",
        "# Eq. da onda residual: Domínio 1\n",
        "\n",
        "res_weq_1 = exp_du_x_1 + 2*diff(exp_u_x_1,x)\n",
        "\n",
        "\n",
        "#pontos de colocação: domínio computacional\n",
        "xi_col = []\n",
        "for k in range(p_1+1):\n",
        "  xi_col.append(math.cos(math.pi * k/(p_1+1)))\n",
        "\n",
        "xi_col[1]\n",
        "\n",
        "\n",
        "#pontos de colocação: domínio físico\n",
        "\n",
        "x1_col = []\n",
        "for k in range(p_1):\n",
        "  x1_col.append(L01 * (xi_col[k] - 1)/(xi_col[k] +1))\n",
        "\n",
        "\n"
      ]
    },
    {
      "cell_type": "code",
      "source": [
        "from sympy import *\n",
        "import math\n",
        "\n",
        "L01 = 2\n",
        "p_1 = 20\n",
        "\n",
        "xi_col = []\n",
        "for k in range(p_1+1):\n",
        "  xi_col.append(math.cos(math.pi * k/(p_1+1)))\n",
        "\n",
        "\n",
        "\n",
        "\n",
        "#pontos de colocação: domínio físico\n",
        "\n",
        "x1_col = []\n",
        "for k in range(p_1+1):\n",
        "  x1_col.append(L01 * (xi_col[k] - 1)/(xi_col[k] +1))\n",
        "\n",
        "\n"
      ],
      "metadata": {
        "id": "UG3pktBAi-SK",
        "outputId": "d077ef42-4e3b-4d58-dd1e-501331cbbe46",
        "colab": {
          "base_uri": "https://localhost:8080/"
        }
      },
      "execution_count": 33,
      "outputs": [
        {
          "output_type": "stream",
          "name": "stdout",
          "text": [
            "1.0000000000000009\n"
          ]
        }
      ]
    }
  ]
}