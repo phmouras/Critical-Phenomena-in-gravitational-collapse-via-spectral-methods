{
  "nbformat": 4,
  "nbformat_minor": 0,
  "metadata": {
    "colab": {
      "name": "Untitled3.ipynb",
      "provenance": [],
      "authorship_tag": "ABX9TyPTkJt4YlY2PLMA12mHJIIW",
      "include_colab_link": true
    },
    "kernelspec": {
      "name": "python3",
      "display_name": "Python 3"
    },
    "language_info": {
      "name": "python"
    }
  },
  "cells": [
    {
      "cell_type": "markdown",
      "metadata": {
        "id": "view-in-github",
        "colab_type": "text"
      },
      "source": [
        "<a href=\"https://colab.research.google.com/github/phmouras/Projeto_Pos/blob/main/Matrix_oscilator.ipynb\" target=\"_parent\"><img src=\"https://colab.research.google.com/assets/colab-badge.svg\" alt=\"Open In Colab\"/></a>"
      ]
    },
    {
      "cell_type": "code",
      "execution_count": 1,
      "metadata": {
        "id": "6GGum5DXiC8z"
      },
      "outputs": [],
      "source": [
        "import numpy as np\n",
        "import matplotlib.pyplot as plt\n",
        "\n",
        "h = 0.01\n",
        "tf = 100\n",
        "\n",
        "It = int(tf/h)\n",
        "\n",
        "#k = np.array([0,1],[-1,0])\n",
        "\n",
        "\n",
        "def f(x,y):\n",
        "  return [y, -x]  \n",
        "\n",
        "def g(v):\n",
        "  return v\n",
        "\n",
        "\n",
        "f(1,2)\n",
        "\n",
        "w = 0.1\n",
        "\n",
        "t = np.linspace(0, tf, It + 1)\n",
        "\n",
        "y = np.zeros(It+1)\n",
        "v = np.zeros(It+1)\n",
        "\n",
        "y[0] = 0 ; v[0] = 1  #condição inicial"
      ]
    },
    {
      "cell_type": "code",
      "source": [
        "\n",
        "\n",
        "for i in range(It):  # Runge Kutta 4th order\n",
        "  L1 = h*g(v[i])\n",
        "  K1 = h*f(y[i])\n",
        "  L2 = h*g(v[i] + K1/2)\n",
        "  K2 = h*f(y[i] + L1/2)\n",
        "  L3 = h*g(v[i] + K2)\n",
        "  K3 = h*f(y[i] + K2)\n",
        "  L4 = h*g(v[i] + K3)\n",
        "  K4 = f(y[i] + L3)     \n",
        "  y[i+1] = y[i] + 1/6 * (L1 + 2*L2 + 2*L3 + L4)\n",
        "  v[i+1] = v[i] +1/6 * (K1 + 2*K2 + 2*K3 + K4)\n",
        "\n",
        "  "
      ],
      "metadata": {
        "id": "Lb9XVMhxiFGu"
      },
      "execution_count": null,
      "outputs": []
    },
    {
      "cell_type": "code",
      "source": [
        "plt.plot(t, y)\n",
        "plt.title(\"OHS\")\n",
        "plt.xlabel(\"$t$\")\n",
        "plt.ylabel(\"$y(t)$\")\n",
        "plt.show()"
      ],
      "metadata": {
        "id": "TdAK3NkziGxN"
      },
      "execution_count": null,
      "outputs": []
    }
  ]
}