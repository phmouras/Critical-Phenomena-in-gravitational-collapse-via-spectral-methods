{
  "nbformat": 4,
  "nbformat_minor": 0,
  "metadata": {
    "colab": {
      "name": "Untitled7.ipynb",
      "provenance": [],
      "authorship_tag": "ABX9TyMlT7pLlEt1FFnu4WYtmS12",
      "include_colab_link": true
    },
    "kernelspec": {
      "name": "python3",
      "display_name": "Python 3"
    },
    "language_info": {
      "name": "python"
    }
  },
  "cells": [
    {
      "cell_type": "markdown",
      "metadata": {
        "id": "view-in-github",
        "colab_type": "text"
      },
      "source": [
        "<a href=\"https://colab.research.google.com/github/phmouras/Projeto_Pos/blob/main/tst.ipynb\" target=\"_parent\"><img src=\"https://colab.research.google.com/assets/colab-badge.svg\" alt=\"Open In Colab\"/></a>"
      ]
    },
    {
      "cell_type": "code",
      "execution_count": 46,
      "metadata": {
        "id": "KxHgCp5PuelB",
        "colab": {
          "base_uri": "https://localhost:8080/"
        },
        "outputId": "96b850de-32cd-450a-d7f1-b1ab183c62c7"
      },
      "outputs": [
        {
          "output_type": "stream",
          "name": "stderr",
          "text": [
            "/usr/local/lib/python3.7/dist-packages/ipykernel_launcher.py:20: RuntimeWarning: divide by zero encountered in arctanh\n"
          ]
        }
      ],
      "source": [
        "import numpy as np\n",
        "from scipy import special\n",
        "import matplotlib.pyplot as plt\n",
        "\n",
        "\n",
        "N = 100\n",
        "\n",
        "L0 = 1\n",
        "\n",
        "col = np.cos(np.arange(N)*math.pi / N)\n",
        "\n",
        "T = np.zeros([N,N])\n",
        "\n",
        "T[0,] = 1\n",
        "T[1,] = col\n",
        "\n",
        "for i in (range(2,N)):\n",
        "  T[i,] = 2*col*T[i-1,] - T[i-2,]\n",
        "\n",
        "f = np.exp(- L0 * np.arctanh(col)**2)      ### Função para ajustar f = arcsin(eta)\n",
        "\n",
        "Coef = np.dot( f, np.linalg.inv(T))\n",
        "\n",
        "\n",
        "u_ap = np.dot(Coef, T)\n",
        "\n",
        "\n"
      ]
    },
    {
      "cell_type": "code",
      "source": [
        "plt.plot(col, f, col, u_ap, '--r')\n",
        "plt.show()\n"
      ],
      "metadata": {
        "id": "FnWFCthjrc1r",
        "outputId": "0c558bf1-a579-4f47-e7ce-309a2ff34b29",
        "colab": {
          "base_uri": "https://localhost:8080/",
          "height": 264
        }
      },
      "execution_count": 45,
      "outputs": [
        {
          "output_type": "display_data",
          "data": {
            "text/plain": [
              "<Figure size 432x288 with 1 Axes>"
            ],
            "image/png": "[encoded data removed]"
          },
          "metadata": {
            "needs_background": "light"
          }
        }
      ]
    }
  ]
}