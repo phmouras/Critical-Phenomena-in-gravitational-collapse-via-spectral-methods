{
  "nbformat": 4,
  "nbformat_minor": 0,
  "metadata": {
    "colab": {
      "name": "Untitled7.ipynb",
      "provenance": [],
      "authorship_tag": "ABX9TyPnRQpi7xlP3orZRU4g922W",
      "include_colab_link": true
    },
    "kernelspec": {
      "name": "python3",
      "display_name": "Python 3"
    },
    "language_info": {
      "name": "python"
    }
  },
  "cells": [
    {
      "cell_type": "markdown",
      "metadata": {
        "id": "view-in-github",
        "colab_type": "text"
      },
      "source": [
        "<a href=\"https://colab.research.google.com/github/phmouras/Projeto_Pos/blob/main/tst.ipynb\" target=\"_parent\"><img src=\"https://colab.research.google.com/assets/colab-badge.svg\" alt=\"Open In Colab\"/></a>"
      ]
    },
    {
      "cell_type": "code",
      "execution_count": 9,
      "metadata": {
        "id": "KxHgCp5PuelB",
        "outputId": "5644fa70-4a03-45b0-ea4d-2c96c4b317fb",
        "colab": {
          "base_uri": "https://localhost:8080/"
        }
      },
      "outputs": [
        {
          "output_type": "stream",
          "name": "stdout",
          "text": [
            "<_csv.reader object at 0x7eff176caad0>\n"
          ]
        }
      ],
      "source": [
        "import scipy.io as spio\n",
        "import scipy\n",
        "import os\n",
        "import numpy as np\n",
        "import matplotlib.pyplot as plt\n",
        "import csv\n",
        "\n",
        "A = csv.reader(\"H33Hz.csv\", dialect = \"excel\")\n",
        "\n",
        "\n",
        "\n",
        "\n"
      ]
    },
    {
      "cell_type": "code",
      "source": [
        "import numpy as np\n",
        "import matplotlib.pyplot as plt\n",
        "\n",
        "h = 0.01\n",
        "tf = 100\n",
        "\n",
        "It = int(tf/h)\n",
        "\n",
        "y0 = 1\n",
        "x0 = 0\n",
        "\n",
        "A = np.array([[0,1],[-1,0]]) #importar do maple\n",
        "\n",
        "\n",
        "def f(B):\n",
        "  return np.dot(B,A)  \n",
        "\n",
        "Bset = np.zeros([2, It+1]) # generalizar para x[n]\n",
        "\n",
        "B = np.array([x0,y0])       #condições iniciais\n",
        "\n",
        "Bset[:,0] = B\n",
        "\n",
        "\n",
        "\n",
        "\n",
        "\n",
        "t = np.linspace(0, tf, It + 1)\n",
        "\n",
        "#f(np.array([2,1]))\n",
        "\n",
        "print(Bset)"
      ],
      "metadata": {
        "id": "BW5gMCrKdcg7",
        "outputId": "3d9342ee-da98-4e14-bca0-58fb8297d1f7",
        "colab": {
          "base_uri": "https://localhost:8080/"
        }
      },
      "execution_count": null,
      "outputs": [
        {
          "output_type": "stream",
          "name": "stdout",
          "text": [
            "[[0. 0. 0. ... 0. 0. 0.]\n",
            " [1. 0. 0. ... 0. 0. 0.]]\n"
          ]
        }
      ]
    },
    {
      "cell_type": "code",
      "source": [
        "for i in range(It):  # Runge Kutta 4th order  \n",
        "  K1 = h*f(B);\n",
        "  K2 = h*f(B + K1/2);\n",
        "  K3 = h*f(B + K2/2);\n",
        "  K4 = h*f(B + K3);    \n",
        "  Bset[:, i+1] = B;\n",
        "  B = B + 1/6 * (K1 + 2*K2 + 2*K3 + K4);"
      ],
      "metadata": {
        "id": "j9VRtBSGddLz"
      },
      "execution_count": null,
      "outputs": []
    },
    {
      "cell_type": "code",
      "source": [
        "plt.plot(t, Bset[0,:])\n",
        "plt.show()"
      ],
      "metadata": {
        "id": "tkhLkgredgu7"
      },
      "execution_count": null,
      "outputs": []
    }
  ]
}