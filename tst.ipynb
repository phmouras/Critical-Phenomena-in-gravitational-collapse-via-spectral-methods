{
  "nbformat": 4,
  "nbformat_minor": 0,
  "metadata": {
    "colab": {
      "name": "Untitled7.ipynb",
      "provenance": [],
      "authorship_tag": "ABX9TyMx8HISrlGkcr4NImcknAwR",
      "include_colab_link": true
    },
    "kernelspec": {
      "name": "python3",
      "display_name": "Python 3"
    },
    "language_info": {
      "name": "python"
    }
  },
  "cells": [
    {
      "cell_type": "markdown",
      "metadata": {
        "id": "view-in-github",
        "colab_type": "text"
      },
      "source": [
        "<a href=\"https://colab.research.google.com/github/phmouras/Projeto_Pos/blob/main/tst.ipynb\" target=\"_parent\"><img src=\"https://colab.research.google.com/assets/colab-badge.svg\" alt=\"Open In Colab\"/></a>"
      ]
    },
    {
      "cell_type": "code",
      "execution_count": 16,
      "metadata": {
        "id": "KxHgCp5PuelB",
        "colab": {
          "base_uri": "https://localhost:8080/"
        },
        "outputId": "65f78003-a270-4c03-954f-2bcb58858f64"
      },
      "outputs": [
        {
          "output_type": "stream",
          "name": "stdout",
          "text": [
            "[[ 1.          1.          1.          1.          1.        ]\n",
            " [ 1.          0.54030231 -0.41614684 -0.9899925  -0.65364362]\n",
            " [ 1.         -0.41614684 -0.65364362  0.96017029 -0.14550003]\n",
            " [ 1.         -0.9899925   0.96017029 -0.91113026  0.84385396]\n",
            " [ 1.         -0.65364362 -0.14550003  0.84385396 -0.95765948]]\n"
          ]
        },
        {
          "output_type": "execute_result",
          "data": {
            "text/plain": [
              "array([[ 0.15805561,  0.32195104,  0.28432257,  0.17732142,  0.05834935],\n",
              "       [ 0.32195104,  0.33232853, -0.1688679 , -0.32980935, -0.15560231],\n",
              "       [ 0.28432257, -0.1688679 , -0.93255365,  0.13994567,  0.67715332],\n",
              "       [ 0.17732142, -0.32980935,  0.13994567, -0.2001239 ,  0.21266616],\n",
              "       [ 0.05834935, -0.15560231,  0.67715332,  0.21266616, -0.79256652]])"
            ]
          },
          "metadata": {},
          "execution_count": 16
        }
      ],
      "source": [
        "import numpy as np\n",
        "from scipy import special\n",
        "\n",
        "N = 5\n",
        "\n",
        "col = np.cos(range(N))\n",
        "\n",
        "T = np.zeros([N,N])\n",
        "\n",
        "T[0,] = 1\n",
        "T[1,] = col\n",
        "\n",
        "for i in (range(2,N)):\n",
        "  T[i,] = 2*col*T[i-1,] - T[i-2,]\n",
        "\n",
        "f = np.arcsin(col)      ### Função para ajustar f = arcsin(eta)\n",
        "\n",
        "Coef = np.dot( np.linalg.inv(T), f)\n",
        "\n",
        "print (T)\n",
        "\n",
        "np.linalg.inv(T)\n",
        "\n"
      ]
    }
  ]
}