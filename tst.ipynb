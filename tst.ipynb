{
  "nbformat": 4,
  "nbformat_minor": 0,
  "metadata": {
    "colab": {
      "name": "Untitled7.ipynb",
      "provenance": [],
      "authorship_tag": "ABX9TyOTZfOuX5ms/3HnbaiPqkOx",
      "include_colab_link": true
    },
    "kernelspec": {
      "name": "python3",
      "display_name": "Python 3"
    },
    "language_info": {
      "name": "python"
    }
  },
  "cells": [
    {
      "cell_type": "markdown",
      "metadata": {
        "id": "view-in-github",
        "colab_type": "text"
      },
      "source": [
        "<a href=\"https://colab.research.google.com/github/phmouras/Projeto_Pos/blob/main/tst.ipynb\" target=\"_parent\"><img src=\"https://colab.research.google.com/assets/colab-badge.svg\" alt=\"Open In Colab\"/></a>"
      ]
    },
    {
      "cell_type": "code",
      "execution_count": 3,
      "metadata": {
        "id": "KxHgCp5PuelB"
      },
      "outputs": [],
      "source": [
        "import numpy as np\n",
        "from scipy import special\n",
        "import matplotlib.pyplot as plt\n",
        "import math\n",
        "from numpy import exp\n",
        "\n",
        "# Resolver a equação através dos métodos pseudoespectrais:\n",
        "\n",
        "\n",
        "N = 100\n",
        "\n",
        "L0 = 2\n",
        "\n",
        "col = np.cos(np.arange(N)*math.pi / N)\n",
        "\n",
        "T = np.zeros([N+2,N])\n",
        "xT = np.zeros([N+2,N])\n",
        "xxT = np.zeros([N+2,N])\n",
        "\n",
        "\n",
        "T[0,] = 1\n",
        "T[1,] = col\n",
        "\n",
        "\n",
        "for i in (range(2,N+2)):\n",
        "  T[i,] = 2*col*T[i-1,] - T[i-2,]\n",
        "\n",
        "xT[0,] = 0\n",
        "xT[1,] = 1\n",
        "\n",
        "for i in (range(2,N+2)):\n",
        "  xT[i,] = 2*col*xT[i-1,] + 2*T[i-1,] - xT[i-2,]\n",
        "\n",
        "\n",
        "xxT[0,] = 0\n",
        "xxT[1,] = 0\n",
        "\n",
        "for i in (range(2,N+2)):\n",
        "  xxT[i,] = 2*xT[i-1,] + 2*col*xxT[i-1,] + 2*xT[i-1] - xxT[i-2,]\n",
        "\n",
        "\n",
        "psi = T[2:N+2,:] - T[0:N,:] \n",
        "\n",
        "xpsi = xT[2:N+2,:] - xT[0:N,:] \n",
        "\n",
        "xxpsi = xxT[2:N+2,:] - xxT[0:N,:]\n",
        "\n",
        "\n",
        "\n",
        "K = exp(col) - (4*exp(1))/(1+exp(2))\n",
        "\n",
        "eq = xxpsi - 4*xpsi + 4*psi\n",
        "\n",
        "alpha = np.dot(K, np.linalg.inv(eq))  # coeficientes modais (depende da equação a ser solucionada aplicada à psi, e de K)\n",
        "\n",
        "#f = (exp(x) + exp(x+2) - exp(2*x+1))/(1+exp(2)) - exp(1)/(1 + exp(2))\n",
        "\n",
        "\n"
      ]
    },
    {
      "cell_type": "code",
      "source": [
        "# plot\n",
        "\n",
        "M = 300\n",
        "\n",
        "xplot = np.linspace(-1,1,M)\n",
        "\n",
        "colplot = np.linspace(-1,1,M)\n",
        "\n",
        "\n",
        "\n",
        "Tplot = np.zeros([N+2,M])\n",
        "xTplot = np.zeros([N+2,M])\n",
        "xxTplot = np.zeros([N+2,M])\n",
        "\n",
        "\n",
        "\n",
        "Tplot[0,] = 1\n",
        "Tplot[1,] = colplot\n",
        "\n",
        "\n",
        "\n",
        "for i in (range(2,N+2)):\n",
        "  Tplot[i,] = 2*colplot*Tplot[i-1,] - Tplot[i-2,]\n",
        "\n",
        "\n",
        "\n",
        "psiplot = Tplot[2:N+2,:] - Tplot[0:N,:] \n",
        "\n",
        "np.shape(psiplot)\n",
        "\n",
        "u_ap = np.dot(alpha, psiplot)   # solução aproximada\n",
        "\n",
        "f = (exp(xplot)+exp(xplot+2)-exp(2*xplot+1))/(1+exp(2)) - exp(1)/(1+exp(2))\n",
        "\n",
        "\n",
        "erro = abs(u_ap - f)\n",
        "\n",
        "\n",
        "\n"
      ],
      "metadata": {
        "id": "M0LctItSZ0f7"
      },
      "execution_count": 4,
      "outputs": []
    },
    {
      "cell_type": "code",
      "source": [
        "plt.plot(xplot, f)\n",
        "plt.plot(xplot, u_ap, \"--r\")\n",
        "plt.title(\"Gráfico da solução exata e aproximada para N = 5\")\n",
        "plt.show()\n"
      ],
      "metadata": {
        "colab": {
          "base_uri": "https://localhost:8080/",
          "height": 281
        },
        "id": "FnWFCthjrc1r",
        "outputId": "7a631e6e-67ca-4553-c0c3-68a7deedda8d"
      },
      "execution_count": 5,
      "outputs": [
        {
          "output_type": "display_data",
          "data": {
            "text/plain": [
              "<Figure size 432x288 with 1 Axes>"
            ],
            "image/png": "[encoded data removed]"
          },
          "metadata": {
            "needs_background": "light"
          }
        }
      ]
    },
    {
      "cell_type": "code",
      "source": [
        "plt.plot(xplot, erro)\n",
        "plt.show()"
      ],
      "metadata": {
        "id": "FTDaxqF_CE3_",
        "outputId": "a7dd2558-caad-43bc-9344-536e894a0ffe",
        "colab": {
          "base_uri": "https://localhost:8080/",
          "height": 276
        }
      },
      "execution_count": 6,
      "outputs": [
        {
          "output_type": "display_data",
          "data": {
            "text/plain": [
              "<Figure size 432x288 with 1 Axes>"
            ],
            "image/png": "[encoded data removed]"
          },
          "metadata": {
            "needs_background": "light"
          }
        }
      ]
    }
  ]
}