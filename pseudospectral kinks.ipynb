{
  "nbformat": 4,
  "nbformat_minor": 0,
  "metadata": {
    "colab": {
      "name": "Untitled9.ipynb",
      "provenance": [],
      "include_colab_link": true
    },
    "kernelspec": {
      "name": "python3",
      "display_name": "Python 3"
    },
    "language_info": {
      "name": "python"
    }
  },
  "cells": [
    {
      "cell_type": "markdown",
      "metadata": {
        "id": "view-in-github",
        "colab_type": "text"
      },
      "source": [
        "<a href=\"https://colab.research.google.com/github/phmouras/Projeto_Pos/blob/main/pseudospectral%20kinks.ipynb\" target=\"_parent\"><img src=\"https://colab.research.google.com/assets/colab-badge.svg\" alt=\"Open In Colab\"/></a>"
      ]
    },
    {
      "cell_type": "code",
      "execution_count": 23,
      "metadata": {
        "colab": {
          "base_uri": "https://localhost:8080/"
        },
        "id": "o4peGHHreGzo",
        "outputId": "2b9abd59-d274-4c9d-a6fe-3a912d8a8f53"
      },
      "outputs": [
        {
          "output_type": "stream",
          "name": "stderr",
          "text": [
            "/usr/local/lib/python3.7/dist-packages/ipykernel_launcher.py:18: RuntimeWarning: divide by zero encountered in arctanh\n"
          ]
        }
      ],
      "source": [
        "import numpy as np\n",
        "import matplotlib.pyplot as plt\n",
        "from matplotlib.animation import FuncAnimation\n",
        "import math\n",
        "from numpy import exp\n",
        "\n",
        "# Método pseudoespectral para ondas kinks\n",
        "\n",
        "\n",
        "# ttpsi - colpsi + dV/dpsi = 0;  unidimensional\n",
        "\n",
        "\n",
        "N = 300\n",
        "\n",
        "L0 = 20\n",
        "\n",
        "col = np.cos(np.arange(N)*math.pi / (N-1))     # pontos de colocação\n",
        "x = L0 * np.arctanh(col)                       # mapeamento   \n",
        "\n",
        "xcol = (1 - np.tanh(x/L0)**2)/L0              # dcol/dx\n",
        "xxcol = -(2*np.tanh(x/L0)*(1-np.tanh(x/L0)**2))/L0**2   # d^2 col / dx^2\n",
        "\n",
        "# Matriz base:\n",
        "\n",
        "T = np.zeros([N+2,N])\n",
        "xT = np.zeros([N+2,N])\n",
        "xxT = np.zeros([N+2,N])\n",
        "colT = np.zeros([N+2,N])\n",
        "ccolT = np.zeros([N+2,N])\n",
        "\n",
        "\n",
        "T[0,] = 1\n",
        "T[1,] = col\n",
        "\n",
        "for i in range(2,N+2):\n",
        "  T[i,] = 2*col*T[i-1,] - T[i-2,]\n",
        "\n",
        "# Derivada Matriz Base:\n",
        "\n",
        "colT[0,] = 0\n",
        "colT[1,] = 1\n",
        "xT[0,] = xcol*colT[0,]\n",
        "xT[1,] = xcol*colT[1,]\n",
        "\n",
        "for i in range(2, N+2):\n",
        "  colT[i,] = 2*col*colT[i-1,] + 2*T[i-1,] - colT[i-2,]\n",
        "  xT[i,] = xcol*colT[i,]                                                    # colT[i,] = dT[i,]/dcol, xcol = dcol/dx\n",
        "\n",
        "\n",
        "ccolT[0,] = 0\n",
        "ccolT[1,] = 0\n",
        "xxT[0,] = xxcol*colT[0,] + (xcol)**2 * ccolT[0,]\n",
        "xxT[1,] = xxcol*colT[1,] + (xcol)**2 * ccolT[1,]\n",
        "\n",
        "for i in range(2, N+2):\n",
        "  ccolT[i,] = 2*colT[i-1,] + 2*col*ccolT[i-1,] + 2*colT[i-1,] - ccolT[i-2,]\n",
        "  xxT[i,] = xxcol*colT[i,] + (xcol)**2 * ccolT[i,]                         # ccolT[i,] = d²T[i,]/dcol²\n",
        "\n",
        "\n",
        "\n",
        "psi = T[0:N,:]   \n",
        "xpsi = xT[0:N,:]\n",
        "xxpsi = xxT[0:N,:]\n",
        "\n",
        "\n",
        "# Condicoes iniciais\n",
        "\n",
        "x0 = 5\n",
        "u = 0.19125\n",
        "\n",
        "\n",
        "f_colisao0 = -1+np.tanh((x+x0)/np.sqrt(-u**2+1))-np.tanh((x-x0)/np.sqrt(-u**2+1))                 # dado inicial da colisão de um kink com um antikink\n",
        "\n",
        "\n",
        "\n",
        "inv_psi = np.linalg.inv(psi)\n",
        "  \n",
        "\n",
        "a0 = np.dot(f_colisao0, inv_psi)  # coeficientes a(0)\n",
        "\n",
        "phi = np.dot(a0, psi)      # solução exata em t=0\n",
        "\n",
        "\n",
        "\n",
        "# Derivada temporal de psi para t = 0\n",
        "\n",
        "\n",
        "dtf_colisao0 = -(1-np.tanh((x+x0)/np.sqrt(-u**2+1))**2)*u/np.sqrt(-u**2+1)-(1-np.tanh((x-x0)/np.sqrt(-u**2+1))**2)*u/np.sqrt(-u**2+1) \n",
        "\n",
        "da = np.dot(dtf_colisao0, inv_psi)\n",
        "\n"
      ]
    },
    {
      "cell_type": "code",
      "source": [
        "xxpsi"
      ],
      "metadata": {
        "colab": {
          "base_uri": "https://localhost:8080/"
        },
        "id": "-So5bvkG1XsB",
        "outputId": "3f06a64f-3800-435c-c8a9-d8a80899ae8c"
      },
      "execution_count": 13,
      "outputs": [
        {
          "output_type": "execute_result",
          "data": {
            "text/plain": [
              "array([[ 0.00000000e+00,  0.00000000e+00,  0.00000000e+00,\n",
              "         0.00000000e+00,  0.00000000e+00],\n",
              "       [ 0.00000000e+00, -1.76776695e-01, -3.06161700e-17,\n",
              "         1.76776695e-01,  0.00000000e+00],\n",
              "       [ 0.00000000e+00, -2.50000000e-01,  1.00000000e+00,\n",
              "        -2.50000000e-01,  0.00000000e+00],\n",
              "       [ 0.00000000e+00,  5.30330086e-01,  4.59242550e-16,\n",
              "        -5.30330086e-01,  0.00000000e+00],\n",
              "       [ 0.00000000e+00,  2.00000000e+00, -4.00000000e+00,\n",
              "         2.00000000e+00,  0.00000000e+00]])"
            ]
          },
          "metadata": {},
          "execution_count": 13
        }
      ]
    },
    {
      "cell_type": "code",
      "source": [
        "# Plot: Condições Iniciais\n",
        "\n",
        "M = 3000\n",
        "\n",
        "xplot = np.linspace(-15,15,M)\n",
        "\n",
        "colplot = np.tanh(xplot/L0)\n",
        "\n",
        "Tplot = np.zeros([N+2,M])\n",
        "\n",
        "Tplot[0,] = 1\n",
        "Tplot[1,] = colplot\n",
        "\n",
        "\n",
        "for i in range(2,N+2):\n",
        "  Tplot[i,] = 2*colplot*Tplot[i-1,] - Tplot[i-2,]\n",
        "\n",
        "\n",
        "psiplot = Tplot[0:N,:] \n",
        "\n",
        "\n",
        "\n",
        "xplot0 = 5\n",
        "u = 0.2\n",
        "\n",
        "f_coliplot0 = -1+np.tanh((xplot+x0)/np.sqrt(-u**2+1))-np.tanh((xplot-x0)/np.sqrt(-u**2+1)) \n",
        "\n",
        "dtf_coliplot0 = -(1-np.tanh((xplot+x0)/np.sqrt(-u**2+1))**2)*u/np.sqrt(-u**2+1)-(1-np.tanh((xplot-x0)/np.sqrt(-u**2+1))**2)*u/np.sqrt(-u**2+1) \n",
        "\n",
        "phiplot = np.dot(a0, psiplot)\n",
        "\n",
        "erro = abs(phiplot - f_coliplot0)\n",
        "\n",
        "dtphiplot = np.dot(da, psiplot)\n",
        "#da01 = np.dot(dtf_k0, inv_psi)\n",
        "\n",
        "#dtfplot = (1-np.tanh((xplot-x0)/np.sqrt(-u**2+1))**2)*u/np.sqrt(-u**2+1)\n",
        "\n",
        "#dtphiplot = np.dot(da01, psiplot)\n",
        "\n",
        "np.shape(f_coliplot0)\n",
        "\n"
      ],
      "metadata": {
        "id": "aGXTh1NYH3VO",
        "colab": {
          "base_uri": "https://localhost:8080/"
        },
        "outputId": "b409bc24-9955-424f-9acb-8c13fd3cca46"
      },
      "execution_count": 24,
      "outputs": [
        {
          "output_type": "execute_result",
          "data": {
            "text/plain": [
              "(3000,)"
            ]
          },
          "metadata": {},
          "execution_count": 24
        }
      ]
    },
    {
      "cell_type": "code",
      "source": [
        "plt.plot(xplot, dtphiplot)"
      ],
      "metadata": {
        "id": "2yC2QWqSb9Uc",
        "outputId": "ea5ff6e2-0f5a-403d-8e68-a41a56dcd9ef",
        "colab": {
          "base_uri": "https://localhost:8080/",
          "height": 283
        }
      },
      "execution_count": null,
      "outputs": [
        {
          "output_type": "execute_result",
          "data": {
            "text/plain": [
              "[<matplotlib.lines.Line2D at 0x7ff54819e410>]"
            ]
          },
          "metadata": {},
          "execution_count": 41
        },
        {
          "output_type": "display_data",
          "data": {
            "text/plain": [
              "<Figure size 432x288 with 1 Axes>"
            ],
            "image/png": "[encoded data removed]"
          },
          "metadata": {
            "needs_background": "light"
          }
        }
      ]
    },
    {
      "cell_type": "code",
      "source": [
        "plt.plot(xplot, phiplot, xplot, f_coliplot0, \"--r\")\n",
        "plt.show()"
      ],
      "metadata": {
        "colab": {
          "base_uri": "https://localhost:8080/",
          "height": 265
        },
        "id": "SmHt1ku9T4WV",
        "outputId": "2d031886-9871-47d5-f819-aad6e80d1d4d"
      },
      "execution_count": null,
      "outputs": [
        {
          "output_type": "display_data",
          "data": {
            "text/plain": [
              "<Figure size 432x288 with 1 Axes>"
            ],
            "image/png": "[encoded data removed]"
          },
          "metadata": {
            "needs_background": "light"
          }
        }
      ]
    },
    {
      "cell_type": "code",
      "source": [
        "plt.plot(colplot, erro)"
      ],
      "metadata": {
        "colab": {
          "base_uri": "https://localhost:8080/",
          "height": 294
        },
        "id": "QjgQAedEXDLi",
        "outputId": "d9a2d10e-0574-46f3-9f1a-58a88b6e1739"
      },
      "execution_count": null,
      "outputs": [
        {
          "output_type": "execute_result",
          "data": {
            "text/plain": [
              "[<matplotlib.lines.Line2D at 0x7ff5483df9d0>]"
            ]
          },
          "metadata": {},
          "execution_count": 25
        },
        {
          "output_type": "display_data",
          "data": {
            "text/plain": [
              "<Figure size 432x288 with 1 Axes>"
            ],
            "image/png": "[encoded data removed]"
          },
          "metadata": {
            "needs_background": "light"
          }
        }
      ]
    },
    {
      "cell_type": "code",
      "source": [
        "\n",
        "h = 0.001\n",
        "tf = 100\n",
        "\n",
        "It = int(tf/h)\n",
        "\n",
        "t = np.linspace(0, tf, It + 1)\n",
        "\n",
        "phi_set = np.zeros([It,M])\n",
        "\n",
        "phi0_set = np.zeros([0,It])\n",
        "\n",
        "\n",
        "def dV(phi):\n",
        "  return phi**3 - phi\n",
        "\n",
        "\n",
        "for i in range(It):  # Runge Kutta 4th order\n",
        "\n",
        "  phi = np.dot(a0, psi)\n",
        "  dda = np.dot(np.dot(a0, xxpsi) - dV(phi), inv_psi) \n",
        "  L1 = h*(da)\n",
        "  K1 = h*(dda)\n",
        "\n",
        "  phi = np.dot(a0 + L1/2, psi)\n",
        "  dda = np.dot(np.dot(a0 + L1/2, xxpsi) - dV(phi), inv_psi) \n",
        "  L2 = h*(da + K1/2)\n",
        "  K2 = h*(dda)\n",
        "\n",
        "  phi = np.dot(a0 + L2/2, psi)\n",
        "  dda = np.dot(np.dot(a0 + L2/2, xxpsi) - dV(phi), inv_psi)  \n",
        "  L3 = h*(da + K2/2)\n",
        "  K3 = h*(dda)\n",
        "\n",
        "  phi = np.dot(a0 + L3, psi)\n",
        "  dda = np.dot(np.dot(a0 + L3, xxpsi) - dV(phi), inv_psi) \n",
        "  L4 = h*(da + K3)\n",
        "  K4 = h*(dda) \n",
        "  \n",
        "  da = da + 1/6 * (K1 + 2*K2 + 2*K3 + K4)\n",
        "  a0 = a0 + 1/6 * (L1 + 2*L2 + 2*L3 + L4)\n",
        "  phi_set[i,:] = np.dot(a0, psiplot)\n",
        " \n",
        "\n"
      ],
      "metadata": {
        "id": "1fLA0_yVseTr"
      },
      "execution_count": 25,
      "outputs": []
    },
    {
      "cell_type": "code",
      "source": [
        "#Campo na origem\n",
        "\n",
        "plt.plot(phi_set[:,M//2])"
      ],
      "metadata": {
        "colab": {
          "base_uri": "https://localhost:8080/",
          "height": 283
        },
        "id": "28oQTVm8xaY9",
        "outputId": "60bf3408-c4b7-4190-f6da-c2b541a8cf8d"
      },
      "execution_count": 26,
      "outputs": [
        {
          "output_type": "execute_result",
          "data": {
            "text/plain": [
              "[<matplotlib.lines.Line2D at 0x7f8aa3c6ccd0>]"
            ]
          },
          "metadata": {},
          "execution_count": 26
        },
        {
          "output_type": "display_data",
          "data": {
            "text/plain": [
              "<Figure size 432x288 with 1 Axes>"
            ],
            "image/png": "[encoded data removed]"
          },
          "metadata": {
            "needs_background": "light"
          }
        }
      ]
    },
    {
      "cell_type": "code",
      "source": [
        "y_values = []\n",
        "\n",
        "def func(i):\n",
        "  for i in range(M):\n",
        "    y_values.append(phi_set[i,:])\n",
        "\n",
        "\n",
        "\n"
      ],
      "metadata": {
        "id": "wdJIlXn7Awzb",
        "colab": {
          "base_uri": "https://localhost:8080/",
          "height": 246
        },
        "outputId": "31ac4fad-4cd2-40b5-9fd8-c93a2627f304"
      },
      "execution_count": 33,
      "outputs": [
        {
          "output_type": "error",
          "ename": "IndexError",
          "evalue": "ignored",
          "traceback": [
            "\u001b[0;31m---------------------------------------------------------------------------\u001b[0m",
            "\u001b[0;31mIndexError\u001b[0m                                Traceback (most recent call last)",
            "\u001b[0;32m<ipython-input-33-e35f6dd49a28>\u001b[0m in \u001b[0;36m<module>\u001b[0;34m()\u001b[0m\n\u001b[1;32m      1\u001b[0m \u001b[0mplt\u001b[0m\u001b[0;34m.\u001b[0m\u001b[0mfigure\u001b[0m\u001b[0;34m(\u001b[0m\u001b[0mfigsize\u001b[0m\u001b[0;34m=\u001b[0m\u001b[0;34m(\u001b[0m\u001b[0;36m8\u001b[0m\u001b[0;34m,\u001b[0m\u001b[0;36m3\u001b[0m\u001b[0;34m)\u001b[0m\u001b[0;34m)\u001b[0m\u001b[0;34m\u001b[0m\u001b[0;34m\u001b[0m\u001b[0m\n\u001b[0;32m----> 2\u001b[0;31m \u001b[0mplt\u001b[0m\u001b[0;34m.\u001b[0m\u001b[0mplot\u001b[0m\u001b[0;34m(\u001b[0m\u001b[0mphi_set\u001b[0m\u001b[0;34m[\u001b[0m\u001b[0;36m1\u001b[0m\u001b[0;34m,\u001b[0m\u001b[0mM\u001b[0m\u001b[0;34m]\u001b[0m\u001b[0;34m)\u001b[0m\u001b[0;34m\u001b[0m\u001b[0;34m\u001b[0m\u001b[0m\n\u001b[0m\u001b[1;32m      3\u001b[0m \u001b[0;34m\u001b[0m\u001b[0m\n\u001b[1;32m      4\u001b[0m \u001b[0;34m\u001b[0m\u001b[0m\n",
            "\u001b[0;31mIndexError\u001b[0m: index 3000 is out of bounds for axis 1 with size 3000"
          ]
        },
        {
          "output_type": "display_data",
          "data": {
            "text/plain": [
              "<Figure size 576x216 with 0 Axes>"
            ]
          },
          "metadata": {}
        }
      ]
    },
    {
      "cell_type": "code",
      "source": [
        "x_values = []\n",
        "y_values = []\n",
        "\n",
        "fig = plt.figure()\n",
        "l, = plt.plot(x_values, y_values, \"k-\")\n",
        "\n",
        "plt.xlim(-15, 15)\n",
        "\n",
        "def func(i):\n",
        "  for i in range(M):\n",
        "    y_values.append(phi_set[i,:])\n",
        "\n",
        "\n",
        "plt.show()\n",
        "\n",
        "\n",
        "\n",
        "\n"
      ],
      "metadata": {
        "id": "cauU-cT-5xxF",
        "colab": {
          "base_uri": "https://localhost:8080/",
          "height": 265
        },
        "outputId": "678648e1-f065-4ddd-ab96-c1fd5a14eed7"
      },
      "execution_count": 16,
      "outputs": [
        {
          "output_type": "display_data",
          "data": {
            "text/plain": [
              "<Figure size 432x288 with 1 Axes>"
            ],
            "image/png": "[encoded data removed]"
          },
          "metadata": {
            "needs_background": "light"
          }
        }
      ]
    },
    {
      "cell_type": "code",
      "source": [
        ""
      ],
      "metadata": {
        "colab": {
          "base_uri": "https://localhost:8080/",
          "height": 486
        },
        "id": "NCqylSV0ehBB",
        "outputId": "d3590e6a-18fc-45f2-fedf-16d6585049b3"
      },
      "execution_count": null,
      "outputs": [
        {
          "output_type": "stream",
          "name": "stderr",
          "text": [
            "Traceback (most recent call last):\n",
            "  File \"/usr/local/lib/python3.7/dist-packages/matplotlib/cbook/__init__.py\", line 196, in process\n",
            "    func(*args, **kwargs)\n",
            "  File \"/usr/local/lib/python3.7/dist-packages/matplotlib/animation.py\", line 951, in _start\n",
            "    self._init_draw()\n",
            "  File \"/usr/local/lib/python3.7/dist-packages/matplotlib/animation.py\", line 1743, in _init_draw\n",
            "    self._draw_frame(next(self.new_frame_seq()))\n",
            "  File \"/usr/local/lib/python3.7/dist-packages/matplotlib/animation.py\", line 1766, in _draw_frame\n",
            "    self._drawn_artists = self._func(framedata, *self._args)\n",
            "  File \"<ipython-input-89-50e7e372bde6>\", line 9, in animation_function\n",
            "    sol = phi_set[i,:]\n",
            "IndexError: only integers, slices (`:`), ellipsis (`...`), numpy.newaxis (`None`) and integer or boolean arrays are valid indices\n"
          ]
        },
        {
          "output_type": "display_data",
          "data": {
            "text/plain": [
              "<Figure size 432x288 with 1 Axes>"
            ],
            "image/png": "[encoded data removed]"
          },
          "metadata": {
            "needs_background": "light"
          }
        }
      ]
    }
  ]
}