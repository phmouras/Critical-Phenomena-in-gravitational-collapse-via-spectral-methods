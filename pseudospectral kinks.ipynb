{
  "nbformat": 4,
  "nbformat_minor": 0,
  "metadata": {
    "colab": {
      "name": "Untitled9.ipynb",
      "provenance": [],
      "authorship_tag": "ABX9TyNcoZb7MV8quhE2gIStpIrv",
      "include_colab_link": true
    },
    "kernelspec": {
      "name": "python3",
      "display_name": "Python 3"
    },
    "language_info": {
      "name": "python"
    }
  },
  "cells": [
    {
      "cell_type": "markdown",
      "metadata": {
        "id": "view-in-github",
        "colab_type": "text"
      },
      "source": [
        "<a href=\"https://colab.research.google.com/github/phmouras/Projeto_Pos/blob/main/pseudospectral%20kinks.ipynb\" target=\"_parent\"><img src=\"https://colab.research.google.com/assets/colab-badge.svg\" alt=\"Open In Colab\"/></a>"
      ]
    },
    {
      "cell_type": "code",
      "execution_count": 31,
      "metadata": {
        "colab": {
          "base_uri": "https://localhost:8080/"
        },
        "id": "o4peGHHreGzo",
        "outputId": "6b416e14-bcb6-4567-a06d-2ad0249e32dd"
      },
      "outputs": [
        {
          "output_type": "stream",
          "name": "stderr",
          "text": [
            "/usr/local/lib/python3.7/dist-packages/ipykernel_launcher.py:18: RuntimeWarning: divide by zero encountered in arctanh\n",
            "/usr/local/lib/python3.7/dist-packages/ipykernel_launcher.py:20: RuntimeWarning: invalid value encountered in tan\n",
            "/usr/local/lib/python3.7/dist-packages/ipykernel_launcher.py:21: RuntimeWarning: invalid value encountered in tan\n"
          ]
        },
        {
          "output_type": "execute_result",
          "data": {
            "text/plain": [
              "array([[ 1.        ,  1.        ,  1.        , ...,  1.        ,\n",
              "         1.        ,  1.        ],\n",
              "       [ 1.        ,  0.99994517,  0.99978068, ..., -0.99950656,\n",
              "        -0.99978068, -0.99994517],\n",
              "       [ 1.        ,  0.99978068,  0.99912283, ...,  0.99802673,\n",
              "         0.99912283,  0.99978068],\n",
              "       ...,\n",
              "       [ 1.        , -0.99950656,  0.99802673, ...,  0.99556196,\n",
              "        -0.99802673,  0.99950656],\n",
              "       [ 1.        , -0.99978068,  0.99912283, ..., -0.99802673,\n",
              "         0.99912283, -0.99978068],\n",
              "       [ 1.        , -0.99994517,  0.99978068, ...,  0.99950656,\n",
              "        -0.99978068,  0.99994517]])"
            ]
          },
          "metadata": {},
          "execution_count": 31
        }
      ],
      "source": [
        "import numpy as np\n",
        "import matplotlib.pyplot as plt\n",
        "import math\n",
        "from numpy import exp\n",
        "\n",
        "# Método pseudoespectral para ondas kinks\n",
        "\n",
        "\n",
        "# ttpsi - colpsi + dV/dpsi = 0;  unidimensional\n",
        "\n",
        "\n",
        "\n",
        "N = 300\n",
        "\n",
        "L0 = 10\n",
        "\n",
        "col = np.cos(np.arange(N)*math.pi / N)     # pontos de colocação\n",
        "x = L0 * np.arctanh(col)                   # mapeamento   \n",
        "\n",
        "xcol = (1+np.tan(x/L0)**2)/L0              # dcol/dx\n",
        "xxcol = 2*np.tan(x/L0)*(1+np.tan(x/L0)**2)/L0**2   # d^2 col / dx^2\n",
        "\n",
        "\n",
        "T = np.zeros([N+2,N])\n",
        "xT = np.zeros([N+2,N])\n",
        "xxT = np.zeros([N+2,N])\n",
        "colT = np.zeros([N+2,N])\n",
        "ccolT = np.zeros([N+2,N])\n",
        "\n",
        "T[0,] = 1\n",
        "T[1,] = col\n",
        "\n",
        "for i in (range(2,N+2)):\n",
        "  T[i,] = 2*col*T[i-1,] - T[i-2,]\n",
        "\n",
        "xT[0,] = 0\n",
        "xT[1,] = xcol\n",
        "\n",
        "for i in range(2, N+2):\n",
        "  colT[i,] = 2*col*colT[i-1,] + 2*T[i-1,] - colT[i-2,]\n",
        "  xT[i,] = xcol*colT[i,]      # colT[i,] = dT[i,]/dcol, xcol = dcol/dx\n",
        "\n",
        "xxT[0,] = 0\n",
        "xxT[1,] = xxcol\n",
        "\n",
        "for i in range(2, N+2):\n",
        "  ccolT[i,] = 2*colT[i-1,] + 2*col*ccolT[i-1,] + 2*colT[i-1] - ccolT[i-2,]\n",
        "  xxT[i,] = xxcol*colT[i,] + (xcol)**2 * ccolT[i,]   #ccolT[i,] = d²T[i,]/dcol²\n",
        "\n",
        "\n",
        "psi = T[0:N,:]   \n",
        "xpsi = xT[0:N,:]\n",
        "xxpsi = xxT[0:N,:]\n",
        "\n",
        "#xphi = np.dot(alpha, phi)\n",
        "\n",
        "# Condicoes iniciais\n",
        "\n",
        "x0 = 0\n",
        "u = 0.1\n",
        "\n",
        "\n",
        "f_k0 = np.tanh((x + x0)/np.sqrt(1 - u**2))        # dado inicial da solução viajante do kink \n",
        "\n",
        "f_antik0 = - np.tanh((x - x0)/np.sqrt(1 - u**2))  # dado inicial da solução viajante do antikink \n",
        "\n",
        "f_colisao0 = -1 + f_k0 - f_antik0                  # dado inicial da colisão de um kink com um antikink\n",
        "\n",
        "\n",
        "\n",
        "psi0 = T[0:N,:]\n",
        "\n",
        "inv_psi = np.linalg.inv(psi)\n",
        "\n",
        "#a0 = np.dot(f_k0, inv_psi)   \n",
        "\n",
        "a0 = np.dot(f_colisao0, inv_psi)  # coeficientes a(0)\n",
        "\n",
        "phi = np.dot(a0, psi)      # solução exata em t=0\n",
        "\n",
        "\n",
        "\n",
        "# Derivada temporal de psi para t = 0\n",
        "\n",
        "dtf_k0 = -(1-np.tanh((x+x0)/np.sqrt(-u**2+1))**2)*u/np.sqrt(-u**2+1)\n",
        "\n",
        "dtf_antik0 = -(1-np.tanh((x-x0)/np.sqrt(-u**2+1))**2)*u/np.sqrt(-u**2+1) \n",
        "\n",
        "#da0 = np.dot(dtf_k0, inv_psi)  # da(0)\n",
        "\n",
        "\n",
        "\n",
        "#dtphi = np.dot(da0, psi)\n",
        "\n",
        "dtf_colisao0 = -1 + dtf_k0 - dtf_antik0\n",
        "\n",
        "da0 = np.dot(dtf_colisao0, inv_psi)\n",
        "\n",
        "psi"
      ]
    },
    {
      "cell_type": "code",
      "source": [
        "# Plot: Condições Iniciais\n",
        "M = 300\n",
        "\n",
        "xplot = np.linspace(-30,30,M)\n",
        "\n",
        "colplot = np.tanh(xplot/L0)\n",
        "\n",
        "Tplot = np.zeros([N+2,M])\n",
        "\n",
        "Tplot[0,] = 1\n",
        "Tplot[1,] = colplot\n",
        "\n",
        "\n",
        "for i in (range(2,N+2)):\n",
        "  Tplot[i,] = 2*colplot*Tplot[i-1,] - Tplot[i-2,]\n",
        "\n",
        "\n",
        "psiplot = Tplot[0:N,:] \n",
        "\n",
        "xplot0 = 0\n",
        "u = 0.1\n",
        "\n",
        "f_kplot = np.tanh((xplot + xplot0)/np.sqrt(1 - u**2))\n",
        "\n",
        "f_antikplot =  - np.tanh((xplot - xplot0)/np.sqrt(1 - u**2))\n",
        "\n",
        "f_coliplot0 = -1 + f_kplot - f_antikplot\n",
        "\n",
        "a01 = np.dot(f_k0, inv_psi)\n",
        "\n",
        "phiplot = np.dot(a01, psiplot)\n",
        "\n",
        "erro = abs(phiplot - f_kplot)\n",
        "\n",
        "da01 = np.dot(dtf_k0, inv_psi)\n",
        "\n",
        "dtfplot = (1-np.tanh((xplot-x0)/np.sqrt(-u**2+1))**2)*u/np.sqrt(-u**2+1)\n",
        "\n",
        "dtphiplot = np.dot(da01, psiplot)\n",
        "\n",
        "\n",
        "\n",
        "\n"
      ],
      "metadata": {
        "id": "aGXTh1NYH3VO"
      },
      "execution_count": 32,
      "outputs": []
    },
    {
      "cell_type": "code",
      "source": [
        "plt.plot(colplot, f_kplot)\n",
        "plt.plot(colplot, f_antikplot, \"--r\")\n",
        "plt.title(\"Perfil inicial campo do kink e antikink\")\n",
        "plt.show()"
      ],
      "metadata": {
        "colab": {
          "base_uri": "https://localhost:8080/",
          "height": 281
        },
        "id": "r0ARJTZxMZKP",
        "outputId": "737f1427-05fc-4306-e9a7-d6cc9498456a"
      },
      "execution_count": 38,
      "outputs": [
        {
          "output_type": "display_data",
          "data": {
            "text/plain": [
              "<Figure size 432x288 with 1 Axes>"
            ],
            "image/png": "[encoded data removed]"
          },
          "metadata": {
            "needs_background": "light"
          }
        }
      ]
    },
    {
      "cell_type": "code",
      "source": [
        ""
      ],
      "metadata": {
        "id": "9K71kRvCYV9d"
      },
      "execution_count": null,
      "outputs": []
    },
    {
      "cell_type": "code",
      "source": [
        "plt.plot(colplot, phiplot, colplot, f_kplot, \"--r\")\n",
        "plt.show()"
      ],
      "metadata": {
        "colab": {
          "base_uri": "https://localhost:8080/",
          "height": 264
        },
        "id": "SmHt1ku9T4WV",
        "outputId": "78236286-67b4-4094-e8b8-75cef96ca916"
      },
      "execution_count": 42,
      "outputs": [
        {
          "output_type": "display_data",
          "data": {
            "text/plain": [
              "<Figure size 432x288 with 1 Axes>"
            ],
            "image/png": "[encoded data removed]"
          },
          "metadata": {
            "needs_background": "light"
          }
        }
      ]
    },
    {
      "cell_type": "code",
      "source": [
        "\n",
        "h = 0.01\n",
        "tf = 100\n",
        "\n",
        "It = int(tf/h)\n",
        "\n",
        "t = np.linspace(0, tf, It + 1)\n",
        "\n",
        "#f_k = np.tanh((x + x0 - u*t)/np.sqrt(1 - u**2))    # solução viajante do kink f_k(t)\n",
        "\n",
        "#f_antik = - np.tanh((x - x0 + u*t)/np.sqrt(1 - u**2))  # solução viajante do antikink f_antik(t)\n",
        "\n",
        "#f_colisao = -1 + f_k - f_antik                   # solução da colisão do kink e antikink\n",
        "\n",
        "V_phi = 1/4*(1 - phi**2)**2\n",
        "\n",
        "dxV_phi =  -(-phi**2+1)*phi\n",
        "\n",
        "eq0 =np.dot(a0, xxpsi) - dxV_phi\n",
        "\n",
        "dda = np.dot(eq0, inv_psi)\n",
        "\n",
        "\n",
        "for i in range(It):  # Runge Kutta 4th order\n",
        "  L1 = h*(da0)\n",
        "  K1 = h*(a0)\n",
        "\n",
        "  L2 = h*(da0 + K1/2)\n",
        "  K2 = h*dda*(a0 + L1/2)\n",
        "\n",
        "  L3 = h*(da0 + K2/2)\n",
        "  K3 = h*dda*(a0 + K2/2)\n",
        "\n",
        "  L4 = h*(da0 + K3)\n",
        "  K4 = h*dda*(a0 + L3)   \n",
        "  \n",
        "  da = 1/6 * (K1 + 2*K2 + 2*K3 + K4)\n",
        "  a = 1/6 * (L1 + 2*L2 + 2*L3 + L4)\n",
        "\n",
        "eq = np.dot(a,xxpsi) - dxV_phi\n",
        "\n",
        "sol = np.dot(a,psi)\n",
        "\n"
      ],
      "metadata": {
        "id": "1fLA0_yVseTr"
      },
      "execution_count": 37,
      "outputs": []
    },
    {
      "cell_type": "code",
      "source": [
        ""
      ],
      "metadata": {
        "id": "IsfPhOaxfuQs"
      },
      "execution_count": null,
      "outputs": []
    },
    {
      "cell_type": "code",
      "source": [
        "plt.plot(colplot, a)\n",
        "plt.show()"
      ],
      "metadata": {
        "colab": {
          "base_uri": "https://localhost:8080/",
          "height": 264
        },
        "id": "9eUF7_JkjKRf",
        "outputId": "b99583b9-e35c-42e5-a528-55e564855e7a"
      },
      "execution_count": 35,
      "outputs": [
        {
          "output_type": "display_data",
          "data": {
            "text/plain": [
              "<Figure size 432x288 with 1 Axes>"
            ],
            "image/png": "[encoded data removed]"
          },
          "metadata": {
            "needs_background": "light"
          }
        }
      ]
    }
  ]
}