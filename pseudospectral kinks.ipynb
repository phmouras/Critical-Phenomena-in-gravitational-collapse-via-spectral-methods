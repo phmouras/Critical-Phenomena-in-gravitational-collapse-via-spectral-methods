{
  "nbformat": 4,
  "nbformat_minor": 0,
  "metadata": {
    "colab": {
      "name": "Untitled9.ipynb",
      "provenance": [],
      "include_colab_link": true
    },
    "kernelspec": {
      "name": "python3",
      "display_name": "Python 3"
    },
    "language_info": {
      "name": "python"
    }
  },
  "cells": [
    {
      "cell_type": "markdown",
      "metadata": {
        "id": "view-in-github",
        "colab_type": "text"
      },
      "source": [
        "<a href=\"https://colab.research.google.com/github/phmouras/Projeto_Pos/blob/main/pseudospectral%20kinks.ipynb\" target=\"_parent\"><img src=\"https://colab.research.google.com/assets/colab-badge.svg\" alt=\"Open In Colab\"/></a>"
      ]
    },
    {
      "cell_type": "code",
      "execution_count": 1,
      "metadata": {
        "colab": {
          "base_uri": "https://localhost:8080/"
        },
        "id": "o4peGHHreGzo",
        "outputId": "1136fa1c-b777-4745-fa97-73837a855700"
      },
      "outputs": [
        {
          "output_type": "stream",
          "name": "stderr",
          "text": [
            "/usr/local/lib/python3.7/dist-packages/ipykernel_launcher.py:17: RuntimeWarning: divide by zero encountered in arctanh\n"
          ]
        }
      ],
      "source": [
        "import numpy as np\n",
        "import matplotlib.pyplot as plt\n",
        "import math\n",
        "from numpy import exp\n",
        "\n",
        "# Método pseudoespectral para ondas kinks\n",
        "\n",
        "\n",
        "# ttpsi - colpsi + dV/dpsi = 0;  unidimensional\n",
        "\n",
        "\n",
        "N = 300\n",
        "\n",
        "L0 = 20\n",
        "\n",
        "col = np.cos(np.arange(N)*math.pi / (N-1))     # pontos de colocação\n",
        "x = L0 * np.arctanh(col)                       # mapeamento   \n",
        "\n",
        "xcol = (1 - np.tanh(x/L0)**2)/L0              # dcol/dx\n",
        "xxcol = -(2*np.tanh(x/L0)*(1-np.tanh(x/L0)**2))/L0**2   # d^2 col / dx^2\n",
        "\n",
        "# Matriz base:\n",
        "\n",
        "T = np.zeros([N+2,N])\n",
        "xT = np.zeros([N+2,N])\n",
        "xxT = np.zeros([N+2,N])\n",
        "colT = np.zeros([N+2,N])\n",
        "ccolT = np.zeros([N+2,N])\n",
        "\n",
        "\n",
        "T[0,] = 1\n",
        "T[1,] = col\n",
        "\n",
        "for i in range(2,N+2):\n",
        "  T[i,] = 2*col*T[i-1,] - T[i-2,]\n",
        "\n",
        "# Derivada Matriz Base:\n",
        "\n",
        "colT[0,] = 0\n",
        "colT[1,] = 1\n",
        "xT[0,] = xcol*colT[0,]\n",
        "xT[1,] = xcol*colT[1,]\n",
        "\n",
        "for i in range(2, N+2):\n",
        "  colT[i,] = 2*col*colT[i-1,] + 2*T[i-1,] - colT[i-2,]\n",
        "  xT[i,] = xcol*colT[i,]                                                    # colT[i,] = dT[i,]/dcol, xcol = dcol/dx\n",
        "\n",
        "\n",
        "ccolT[0,] = 0\n",
        "ccolT[1,] = 0\n",
        "xxT[0,] = xxcol*colT[0,] + (xcol)**2 * ccolT[0,]\n",
        "xxT[1,] = xxcol*colT[1,] + (xcol)**2 * ccolT[1,]\n",
        "\n",
        "for i in range(2, N+2):\n",
        "  ccolT[i,] = 2*colT[i-1,] + 2*col*ccolT[i-1,] + 2*colT[i-1,] - ccolT[i-2,]\n",
        "  xxT[i,] = xxcol*colT[i,] + (xcol)**2 * ccolT[i,]                         # ccolT[i,] = d²T[i,]/dcol²\n",
        "\n",
        "\n",
        "\n",
        "psi = T[0:N,:]   \n",
        "xpsi = xT[0:N,:]\n",
        "xxpsi = xxT[0:N,:]\n",
        "\n",
        "\n",
        "# Condicoes iniciais\n",
        "\n",
        "x0 = 5\n",
        "u = 0.19125\n",
        "\n",
        "\n",
        "f_colisao0 = -1+np.tanh((x+x0)/np.sqrt(-u**2+1))-np.tanh((x-x0)/np.sqrt(-u**2+1))                 # dado inicial da colisão de um kink com um antikink\n",
        "\n",
        "\n",
        "\n",
        "inv_psi = np.linalg.inv(psi)\n",
        "  \n",
        "\n",
        "a0 = np.dot(f_colisao0, inv_psi)  # coeficientes a(0)\n",
        "\n",
        "phi = np.dot(a0, psi)      # solução exata em t=0\n",
        "\n",
        "\n",
        "\n",
        "# Derivada temporal de psi para t = 0\n",
        "\n",
        "\n",
        "dtf_colisao0 = -(1-np.tanh((x+x0)/np.sqrt(-u**2+1))**2)*u/np.sqrt(-u**2+1)-(1-np.tanh((x-x0)/np.sqrt(-u**2+1))**2)*u/np.sqrt(-u**2+1) \n",
        "\n",
        "da = np.dot(dtf_colisao0, inv_psi)\n",
        "\n"
      ]
    },
    {
      "cell_type": "code",
      "source": [
        "# Plot: Condições Iniciais\n",
        "\n",
        "M = 3000\n",
        "\n",
        "xplot = np.linspace(-15,15,M)\n",
        "\n",
        "colplot = np.tanh(xplot/L0)\n",
        "\n",
        "Tplot = np.zeros([N+2,M])\n",
        "\n",
        "Tplot[0,] = 1\n",
        "Tplot[1,] = colplot\n",
        "\n",
        "\n",
        "for i in range(2,N+2):\n",
        "  Tplot[i,] = 2*colplot*Tplot[i-1,] - Tplot[i-2,]\n",
        "\n",
        "\n",
        "psiplot = Tplot[0:N,:] \n",
        "\n",
        "\n",
        "\n",
        "xplot0 = 5\n",
        "u = 0.2\n",
        "\n",
        "f_coliplot0 = -1+np.tanh((xplot+x0)/np.sqrt(-u**2+1))-np.tanh((xplot-x0)/np.sqrt(-u**2+1)) \n",
        "\n",
        "dtf_coliplot0 = -(1-np.tanh((xplot+x0)/np.sqrt(-u**2+1))**2)*u/np.sqrt(-u**2+1)-(1-np.tanh((xplot-x0)/np.sqrt(-u**2+1))**2)*u/np.sqrt(-u**2+1) \n",
        "\n",
        "phiplot = np.dot(a0, psiplot)\n",
        "\n",
        "erro = abs(phiplot - f_coliplot0)\n",
        "\n",
        "dtphiplot = np.dot(da, psiplot)\n",
        "#da01 = np.dot(dtf_k0, inv_psi)\n",
        "\n",
        "#dtfplot = (1-np.tanh((xplot-x0)/np.sqrt(-u**2+1))**2)*u/np.sqrt(-u**2+1)\n",
        "\n",
        "#dtphiplot = np.dot(da01, psiplot)\n",
        "\n",
        "np.shape(f_coliplot0)\n",
        "\n"
      ],
      "metadata": {
        "id": "aGXTh1NYH3VO",
        "colab": {
          "base_uri": "https://localhost:8080/"
        },
        "outputId": "b09d743d-d321-4fa6-a6aa-f0648565cd9f"
      },
      "execution_count": 2,
      "outputs": [
        {
          "output_type": "execute_result",
          "data": {
            "text/plain": [
              "(3000,)"
            ]
          },
          "metadata": {},
          "execution_count": 2
        }
      ]
    },
    {
      "cell_type": "code",
      "source": [
        "plt.plot(xplot, dtphiplot)"
      ],
      "metadata": {
        "id": "2yC2QWqSb9Uc",
        "outputId": "ea5ff6e2-0f5a-403d-8e68-a41a56dcd9ef",
        "colab": {
          "base_uri": "https://localhost:8080/",
          "height": 283
        }
      },
      "execution_count": null,
      "outputs": [
        {
          "output_type": "execute_result",
          "data": {
            "text/plain": [
              "[<matplotlib.lines.Line2D at 0x7ff54819e410>]"
            ]
          },
          "metadata": {},
          "execution_count": 41
        },
        {
          "output_type": "display_data",
          "data": {
            "text/plain": [
              "<Figure size 432x288 with 1 Axes>"
            ],
            "image/png": "[encoded data removed]"
          },
          "metadata": {
            "needs_background": "light"
          }
        }
      ]
    },
    {
      "cell_type": "code",
      "source": [
        "plt.plot(xplot, phiplot, xplot, f_coliplot0, \"--r\")\n",
        "plt.show()"
      ],
      "metadata": {
        "colab": {
          "base_uri": "https://localhost:8080/",
          "height": 265
        },
        "id": "SmHt1ku9T4WV",
        "outputId": "2d031886-9871-47d5-f819-aad6e80d1d4d"
      },
      "execution_count": null,
      "outputs": [
        {
          "output_type": "display_data",
          "data": {
            "text/plain": [
              "<Figure size 432x288 with 1 Axes>"
            ],
            "image/png": "[encoded data removed]"
          },
          "metadata": {
            "needs_background": "light"
          }
        }
      ]
    },
    {
      "cell_type": "code",
      "source": [
        "plt.plot(colplot, erro)"
      ],
      "metadata": {
        "colab": {
          "base_uri": "https://localhost:8080/",
          "height": 294
        },
        "id": "QjgQAedEXDLi",
        "outputId": "d9a2d10e-0574-46f3-9f1a-58a88b6e1739"
      },
      "execution_count": null,
      "outputs": [
        {
          "output_type": "execute_result",
          "data": {
            "text/plain": [
              "[<matplotlib.lines.Line2D at 0x7ff5483df9d0>]"
            ]
          },
          "metadata": {},
          "execution_count": 25
        },
        {
          "output_type": "display_data",
          "data": {
            "text/plain": [
              "<Figure size 432x288 with 1 Axes>"
            ],
            "image/png": "[encoded data removed]"
          },
          "metadata": {
            "needs_background": "light"
          }
        }
      ]
    },
    {
      "cell_type": "code",
      "source": [
        "\n",
        "h = 0.01\n",
        "tf = 100\n",
        "\n",
        "It = int(tf/h)\n",
        "\n",
        "t = np.linspace(0, tf, It + 1)\n",
        "\n",
        "phi_set = np.zeros([It,M])\n",
        "\n",
        "phi0_set = np.zeros([0,It])\n",
        "\n",
        "\n",
        "def dV(phi):\n",
        "  return phi**3 - phi\n",
        "\n",
        "\n",
        "for i in range(It):  # Runge Kutta 4th order\n",
        "\n",
        "  phi = np.dot(a0, psi)\n",
        "  dda = np.dot(np.dot(a0, xxpsi) - dV(phi), inv_psi) \n",
        "  L1 = h*(da)\n",
        "  K1 = h*(dda)\n",
        "\n",
        "  phi = np.dot(a0 + L1/2, psi)\n",
        "  dda = np.dot(np.dot(a0 + L1/2, xxpsi) - dV(phi), inv_psi) \n",
        "  L2 = h*(da + K1/2)\n",
        "  K2 = h*(dda)\n",
        "\n",
        "  phi = np.dot(a0 + L2/2, psi)\n",
        "  dda = np.dot(np.dot(a0 + L2/2, xxpsi) - dV(phi), inv_psi)  \n",
        "  L3 = h*(da + K2/2)\n",
        "  K3 = h*(dda)\n",
        "\n",
        "  phi = np.dot(a0 + L3, psi)\n",
        "  dda = np.dot(np.dot(a0 + L3, xxpsi) - dV(phi), inv_psi) \n",
        "  L4 = h*(da + K3)\n",
        "  K4 = h*(dda) \n",
        "  \n",
        "  da = da + 1/6 * (K1 + 2*K2 + 2*K3 + K4)\n",
        "  a0 = a0 + 1/6 * (L1 + 2*L2 + 2*L3 + L4)\n",
        "  phi_set[i,:] = np.dot(a0, psiplot)\n",
        " \n",
        "\n"
      ],
      "metadata": {
        "id": "1fLA0_yVseTr"
      },
      "execution_count": 4,
      "outputs": []
    },
    {
      "cell_type": "code",
      "source": [
        "phi_set[0,:]"
      ],
      "metadata": {
        "colab": {
          "base_uri": "https://localhost:8080/"
        },
        "id": "BowfO4c4lZpq",
        "outputId": "d906edfb-4bea-45de-bf85-05a9ebeecfd2"
      },
      "execution_count": null,
      "outputs": [
        {
          "output_type": "execute_result",
          "data": {
            "text/plain": [
              "array([[-1.        , -1.        , -1.        , ..., -1.        ,\n",
              "        -1.        , -1.        ],\n",
              "       [-1.        , -1.        , -1.        , ..., -1.        ,\n",
              "        -1.        , -1.        ],\n",
              "       [-1.        , -1.        , -1.        , ..., -1.        ,\n",
              "        -1.        , -1.        ],\n",
              "       ...,\n",
              "       [-0.98333632, -0.98341905, -0.98350134, ..., -0.98350134,\n",
              "        -0.98341905, -0.98333632],\n",
              "       [-0.98332531, -0.9834078 , -0.98348984, ..., -0.98348984,\n",
              "        -0.9834078 , -0.98332531],\n",
              "       [-0.98331433, -0.98339657, -0.98347838, ..., -0.98347838,\n",
              "        -0.98339657, -0.98331433]])"
            ]
          },
          "metadata": {},
          "execution_count": 5
        }
      ]
    },
    {
      "cell_type": "code",
      "source": [
        "#Campo na origem\n",
        "\n",
        "plt.plot(phi_set[:,M//2])"
      ],
      "metadata": {
        "colab": {
          "base_uri": "https://localhost:8080/",
          "height": 283
        },
        "id": "28oQTVm8xaY9",
        "outputId": "2ccf99a7-cfa6-49cd-da8b-a9979f80cf02"
      },
      "execution_count": 7,
      "outputs": [
        {
          "output_type": "execute_result",
          "data": {
            "text/plain": [
              "[<matplotlib.lines.Line2D at 0x7ff734122450>]"
            ]
          },
          "metadata": {},
          "execution_count": 7
        },
        {
          "output_type": "display_data",
          "data": {
            "text/plain": [
              "<Figure size 432x288 with 1 Axes>"
            ],
            "image/png": "[encoded data removed]"
          },
          "metadata": {
            "needs_background": "light"
          }
        }
      ]
    },
    {
      "cell_type": "code",
      "source": [
        "for i in range(It):\n",
        "  plt.plot(xplot, phi_set[i,:])\n"
      ],
      "metadata": {
        "id": "_U23erHBp9uW"
      },
      "execution_count": null,
      "outputs": []
    },
    {
      "cell_type": "code",
      "source": [
        "from matplotlib import animation\n",
        "\n",
        "fig = plt.figure()\n",
        "ax = plt.axes(xlim = (-15,15), ylim = (-2,2))\n",
        "line, = ax.plot([], [], lw=2)\n",
        "\n",
        "def init():\n",
        "  line.set_data([], [])\n",
        "  return line,\n",
        "\n",
        "def animate(i):\n",
        "  x = xplot\n",
        "  for i in range(It):\n",
        "    y = phi_set[i,:]\n",
        "  line.set_data(x,y)\n",
        "  return line,\n",
        "\n",
        "anim = animation.FuncAnimation(fig, animate, init_func = init, frames = 100, interval=20, blit=True )"
      ],
      "metadata": {
        "id": "6S9_ahbJtwJX"
      },
      "execution_count": null,
      "outputs": []
    }
  ]
}