{
  "nbformat": 4,
  "nbformat_minor": 0,
  "metadata": {
    "colab": {
      "name": "Untitled9.ipynb",
      "provenance": [],
      "authorship_tag": "ABX9TyOXyKMaxdQNn31il2zS1Mnc",
      "include_colab_link": true
    },
    "kernelspec": {
      "name": "python3",
      "display_name": "Python 3"
    },
    "language_info": {
      "name": "python"
    }
  },
  "cells": [
    {
      "cell_type": "markdown",
      "metadata": {
        "id": "view-in-github",
        "colab_type": "text"
      },
      "source": [
        "<a href=\"https://colab.research.google.com/github/phmouras/Projeto_Pos/blob/main/pseudospectral%20kinks.ipynb\" target=\"_parent\"><img src=\"https://colab.research.google.com/assets/colab-badge.svg\" alt=\"Open In Colab\"/></a>"
      ]
    },
    {
      "cell_type": "code",
      "execution_count": 67,
      "metadata": {
        "colab": {
          "base_uri": "https://localhost:8080/"
        },
        "id": "o4peGHHreGzo",
        "outputId": "7d1e7c1d-c3f4-42b1-d56e-43240a5149b9"
      },
      "outputs": [
        {
          "output_type": "stream",
          "name": "stderr",
          "text": [
            "/usr/local/lib/python3.7/dist-packages/ipykernel_launcher.py:18: RuntimeWarning: divide by zero encountered in arctanh\n"
          ]
        },
        {
          "output_type": "execute_result",
          "data": {
            "text/plain": [
              "array([-1.00000000e-02,  4.27886544e-04, -1.17961196e-17,  4.27725015e-04,\n",
              "       -7.77156117e-18,  4.27410409e-04, -1.13797860e-17,  4.26952323e-04,\n",
              "       -7.91033905e-18,  4.26360212e-04, -5.82867088e-18,  4.25643366e-04,\n",
              "       -9.50628465e-18,  4.24810890e-04, -6.59194921e-18,  4.23871703e-04,\n",
              "       -6.31439345e-18,  4.22834523e-04, -1.06858966e-17,  4.21707872e-04,\n",
              "       -9.50628465e-18,  4.20500068e-04, -1.11022302e-17,  4.19219226e-04,\n",
              "       -1.08246745e-17,  4.17873254e-04, -9.78384040e-18,  4.16469852e-04,\n",
              "       -9.92261828e-18,  4.15016515e-04, -1.11022302e-17,  4.13520529e-04,\n",
              "       -1.14838694e-17,  4.11988970e-04, -1.24900090e-17,  4.10428706e-04,\n",
              "       -1.30451205e-17,  4.08846399e-04, -1.46757606e-17,  4.07248499e-04,\n",
              "       -1.13797860e-17,  4.05641249e-04, -1.14491749e-17,  4.04030686e-04,\n",
              "       -1.03389519e-17,  4.02422636e-04, -1.12410081e-17,  4.00822719e-04,\n",
              "       -6.69603262e-18,  3.99236349e-04, -6.10622664e-18,  3.97668733e-04,\n",
              "       -8.88178420e-18,  3.96124872e-04, -3.81639165e-18,  3.94609561e-04,\n",
              "       -5.89805982e-18,  3.93127391e-04, -5.06539255e-18,  3.91682749e-04,\n",
              "       -9.57567359e-18,  3.90279817e-04, -1.22124533e-17,  3.88922575e-04,\n",
              "       -1.49186219e-17,  3.87614798e-04, -1.33920652e-17,  3.86360060e-04,\n",
              "       -6.66133815e-18,  3.85161736e-04, -1.16573418e-17,  3.84022994e-04,\n",
              "       -1.12757026e-17,  3.82946807e-04, -9.43689571e-18,  3.81935944e-04,\n",
              "       -1.25247035e-17,  3.80992975e-04, -1.46063717e-17,  3.80120272e-04,\n",
              "       -1.74860126e-17,  3.79320006e-04, -1.39818712e-17,  3.78594151e-04,\n",
              "       -1.40512602e-17,  3.77944481e-04, -1.16226473e-17,  3.77372574e-04,\n",
              "       -1.22124533e-17,  3.76879808e-04, -1.16399945e-17,  3.76467365e-04,\n",
              "       -7.60676244e-18,  3.76136231e-04, -6.03250089e-18,  3.75887191e-04,\n",
              "       -8.11633746e-18,  3.75720837e-04, -2.77223719e-18,  3.75637561e-04])"
            ]
          },
          "metadata": {},
          "execution_count": 67
        }
      ],
      "source": [
        "import numpy as np\n",
        "import matplotlib.pyplot as plt\n",
        "import math\n",
        "from numpy import exp\n",
        "\n",
        "# Método pseudoespectral para ondas kinks\n",
        "\n",
        "\n",
        "# ttpsi - colpsi + dV/dpsi = 0;  unidimensional\n",
        "\n",
        "\n",
        "\n",
        "N = 100\n",
        "\n",
        "L0 = 2\n",
        "\n",
        "col = np.cos(np.arange(N)*math.pi / N)     # pontos de colocação\n",
        "x = L0 * np.arctanh(col)                   # mapeamento   \n",
        "\n",
        "xcol = (1+np.tanh(x/L0)**2)/L0              # dcol/dx\n",
        "xxcol = (2*np.tanh(x/L0)*(1+np.tanh(x/L0)**2))/L0**2   # d^2 col / dx^2\n",
        "\n",
        "\n",
        "T = np.zeros([N+2,N])\n",
        "xT = np.zeros([N+2,N])\n",
        "xxT = np.zeros([N+2,N])\n",
        "colT = np.zeros([N+2,N])\n",
        "ccolT = np.zeros([N+2,N])\n",
        "\n",
        "\n",
        "T[0,] = 1\n",
        "T[1,] = col\n",
        "\n",
        "for i in (range(2,N+2)):\n",
        "  T[i,] = 2*col*T[i-1,] - T[i-2,]\n",
        "\n",
        "xT[0,] = 0\n",
        "xT[1,] = xcol\n",
        "\n",
        "for i in range(2, N+2):\n",
        "  colT[i,] = 2*col*colT[i-1,] + 2*T[i-1,] - colT[i-2,]\n",
        "  xT[i,] = xcol*colT[i,]      # colT[i,] = dT[i,]/dcol, xcol = dcol/dx\n",
        "\n",
        "xxT[0,] = 0\n",
        "xxT[1,] = xxcol\n",
        "\n",
        "for i in range(2, N+2):\n",
        "  ccolT[i,] = 2*colT[i-1,] + 2*col*ccolT[i-1,] + 2*colT[i-1] - ccolT[i-2,]\n",
        "  xxT[i,] = xxcol*colT[i,] + (xcol)**2 * ccolT[i,]   #ccolT[i,] = d²T[i,]/dcol²\n",
        "\n",
        "\n",
        "psi = T[0:N,:]   \n",
        "xpsi = xT[0:N,:]\n",
        "xxpsi = xxT[0:N,:]\n",
        "\n",
        "#xphi = np.dot(alpha, phi)\n",
        "\n",
        "# Condicoes iniciais\n",
        "\n",
        "x0 = 10\n",
        "u = 0.1\n",
        "\n",
        "\n",
        "f_k0 = np.tanh((x + x0)/np.sqrt(1 - u**2))        # dado inicial da solução viajante do kink \n",
        "\n",
        "f_antik0 = - np.tanh((x - x0)/np.sqrt(1 - u**2))  # dado inicial da solução viajante do antikink \n",
        "\n",
        "f_colisao0 = -1 + f_k0 - f_antik0                  # dado inicial da colisão de um kink com um antikink\n",
        "\n",
        "\n",
        "\n",
        "psi0 = T[0:N,:]\n",
        "\n",
        "inv_psi = np.linalg.inv(psi)\n",
        "\n",
        "#a0 = np.dot(f_k0, inv_psi)   \n",
        "\n",
        "a0 = np.dot(f_colisao0, inv_psi)  # coeficientes a(0)\n",
        "\n",
        "phi = np.dot(a0, psi)      # solução exata em t=0\n",
        "\n",
        "\n",
        "\n",
        "# Derivada temporal de psi para t = 0\n",
        "\n",
        "dtf_k0 = -(1-np.tanh((x+x0)/np.sqrt(-u**2+1))**2)*u/np.sqrt(-u**2+1)\n",
        "\n",
        "dtf_antik0 = -(1-np.tanh((x-x0)/np.sqrt(-u**2+1))**2)*u/np.sqrt(-u**2+1) \n",
        "\n",
        "#da0 = np.dot(dtf_k0, inv_psi)  # da(0)\n",
        "\n",
        "\n",
        "\n",
        "#dtphi = np.dot(da0, psi)\n",
        "\n",
        "dtf_colisao0 = -1 + dtf_k0 - dtf_antik0\n",
        "\n",
        "da0 = np.dot(dtf_k0, inv_psi)\n",
        "\n",
        "h*a0"
      ]
    },
    {
      "cell_type": "code",
      "source": [
        "# Plot: Condições Iniciais\n",
        "M = 300\n",
        "\n",
        "xplot = np.linspace(-30,30,M)\n",
        "\n",
        "colplot = np.tanh(xplot/L0)\n",
        "\n",
        "Tplot = np.zeros([N+2,M])\n",
        "\n",
        "Tplot[0,] = 1\n",
        "Tplot[1,] = colplot\n",
        "\n",
        "\n",
        "for i in (range(2,N+2)):\n",
        "  Tplot[i,] = 2*colplot*Tplot[i-1,] - Tplot[i-2,]\n",
        "\n",
        "\n",
        "psiplot = Tplot[0:N,:] \n",
        "\n",
        "xplot0 = 0\n",
        "u = 0.1\n",
        "\n",
        "f_kplot = np.tanh((xplot + xplot0)/np.sqrt(1 - u**2))\n",
        "\n",
        "f_antikplot =  - np.tanh((xplot - xplot0)/np.sqrt(1 - u**2))\n",
        "\n",
        "f_coliplot0 = -1 + f_kplot - f_antikplot\n",
        "\n",
        "a01 = np.dot(f_kplot, inv_psi)\n",
        "\n",
        "phiplot = np.dot(a01, psiplot)\n",
        "\n",
        "erro = abs(phiplot - f_kplot)\n",
        "\n",
        "da01 = np.dot(dtf_k0, inv_psi)\n",
        "\n",
        "dtfplot = (1-np.tanh((xplot-x0)/np.sqrt(-u**2+1))**2)*u/np.sqrt(-u**2+1)\n",
        "\n",
        "dtphiplot = np.dot(da01, psiplot)\n",
        "\n",
        "\n",
        "\n"
      ],
      "metadata": {
        "id": "aGXTh1NYH3VO",
        "colab": {
          "base_uri": "https://localhost:8080/",
          "height": 282
        },
        "outputId": "9dc6323a-e87d-4912-86a6-6c146ce0e9ae"
      },
      "execution_count": 62,
      "outputs": [
        {
          "output_type": "error",
          "ename": "ValueError",
          "evalue": "ignored",
          "traceback": [
            "\u001b[0;31m---------------------------------------------------------------------------\u001b[0m",
            "\u001b[0;31mValueError\u001b[0m                                Traceback (most recent call last)",
            "\u001b[0;32m<ipython-input-62-a8fefca8293a>\u001b[0m in \u001b[0;36m<module>\u001b[0;34m()\u001b[0m\n\u001b[1;32m     27\u001b[0m \u001b[0mf_coliplot0\u001b[0m \u001b[0;34m=\u001b[0m \u001b[0;34m-\u001b[0m\u001b[0;36m1\u001b[0m \u001b[0;34m+\u001b[0m \u001b[0mf_kplot\u001b[0m \u001b[0;34m-\u001b[0m \u001b[0mf_antikplot\u001b[0m\u001b[0;34m\u001b[0m\u001b[0;34m\u001b[0m\u001b[0m\n\u001b[1;32m     28\u001b[0m \u001b[0;34m\u001b[0m\u001b[0m\n\u001b[0;32m---> 29\u001b[0;31m \u001b[0ma01\u001b[0m \u001b[0;34m=\u001b[0m \u001b[0mnp\u001b[0m\u001b[0;34m.\u001b[0m\u001b[0mdot\u001b[0m\u001b[0;34m(\u001b[0m\u001b[0mf_kplot\u001b[0m\u001b[0;34m,\u001b[0m \u001b[0minv_psi\u001b[0m\u001b[0;34m)\u001b[0m\u001b[0;34m\u001b[0m\u001b[0;34m\u001b[0m\u001b[0m\n\u001b[0m\u001b[1;32m     30\u001b[0m \u001b[0;34m\u001b[0m\u001b[0m\n\u001b[1;32m     31\u001b[0m \u001b[0mphiplot\u001b[0m \u001b[0;34m=\u001b[0m \u001b[0mnp\u001b[0m\u001b[0;34m.\u001b[0m\u001b[0mdot\u001b[0m\u001b[0;34m(\u001b[0m\u001b[0ma01\u001b[0m\u001b[0;34m,\u001b[0m \u001b[0mpsiplot\u001b[0m\u001b[0;34m)\u001b[0m\u001b[0;34m\u001b[0m\u001b[0;34m\u001b[0m\u001b[0m\n",
            "\u001b[0;32m<__array_function__ internals>\u001b[0m in \u001b[0;36mdot\u001b[0;34m(*args, **kwargs)\u001b[0m\n",
            "\u001b[0;31mValueError\u001b[0m: shapes (300,) and (100,100) not aligned: 300 (dim 0) != 100 (dim 0)"
          ]
        }
      ]
    },
    {
      "cell_type": "code",
      "source": [
        "plt.plot(colplot, f_kplot)\n",
        "plt.plot(colplot, f_antikplot, \"--r\")\n",
        "plt.title(\"Perfil inicial campo do kink e antikink\")\n",
        "plt.show()"
      ],
      "metadata": {
        "colab": {
          "base_uri": "https://localhost:8080/",
          "height": 281
        },
        "id": "r0ARJTZxMZKP",
        "outputId": "d8c9e78c-d87d-49f8-b4ce-b99a186c6d36"
      },
      "execution_count": 33,
      "outputs": [
        {
          "output_type": "display_data",
          "data": {
            "text/plain": [
              "<Figure size 432x288 with 1 Axes>"
            ],
            "image/png": "[encoded data removed]"
          },
          "metadata": {
            "needs_background": "light"
          }
        }
      ]
    },
    {
      "cell_type": "code",
      "source": [
        "plt.plot(colplot, phiplot, colplot, f_kplot, \"--r\")\n",
        "plt.show()"
      ],
      "metadata": {
        "colab": {
          "base_uri": "https://localhost:8080/",
          "height": 264
        },
        "id": "SmHt1ku9T4WV",
        "outputId": "78236286-67b4-4094-e8b8-75cef96ca916"
      },
      "execution_count": null,
      "outputs": [
        {
          "output_type": "display_data",
          "data": {
            "text/plain": [
              "<Figure size 432x288 with 1 Axes>"
            ],
            "image/png": "[encoded data removed]"
          },
          "metadata": {
            "needs_background": "light"
          }
        }
      ]
    },
    {
      "cell_type": "code",
      "source": [
        "plt.plot(colplot, erro)"
      ],
      "metadata": {
        "colab": {
          "base_uri": "https://localhost:8080/",
          "height": 283
        },
        "id": "4JspTRD7Qsf1",
        "outputId": "4c164f3a-ae9f-460b-dd50-693464bd606e"
      },
      "execution_count": 38,
      "outputs": [
        {
          "output_type": "execute_result",
          "data": {
            "text/plain": [
              "[<matplotlib.lines.Line2D at 0x7f91e7280f50>]"
            ]
          },
          "metadata": {},
          "execution_count": 38
        },
        {
          "output_type": "display_data",
          "data": {
            "text/plain": [
              "<Figure size 432x288 with 1 Axes>"
            ],
            "image/png": "[encoded data removed]"
          },
          "metadata": {
            "needs_background": "light"
          }
        }
      ]
    },
    {
      "cell_type": "code",
      "source": [
        "\n",
        "h = 0.01\n",
        "tf = 100\n",
        "\n",
        "It = int(tf/h)\n",
        "\n",
        "t = np.linspace(0, tf, It + 1)\n",
        "\n",
        "phi_set = np.zeros([It,M])\n",
        "\n",
        "\n",
        "#f_k = np.tanh((x + x0 - u*t)/np.sqrt(1 - u**2))    # solução viajante do kink f_k(t)\n",
        "\n",
        "#f_antik = - np.tanh((x - x0 + u*t)/np.sqrt(1 - u**2))  # solução viajante do antikink f_antik(t)\n",
        "\n",
        "#f_colisao = -1 + f_k - f_antik                   # solução da colisão do kink e antikink\n",
        "\n",
        "def dV(phi):\n",
        "    return -phi**3+phi\n",
        "\n",
        "\n",
        "for i in range(It):  # Runge Kutta 4th order\n",
        "\n",
        "  phi = np.dot(a0, psi)\n",
        "  dda = np.dot(a0, xxpsi) - dV(phi) \n",
        "  L1 = h*(da0)\n",
        "  K1 = h*(dda)\n",
        "\n",
        "  phi = np.dot(a0 + L1/2, psi)\n",
        "  dda = np.dot(a0 + L1/2, xxpsi) - dV(phi) \n",
        "  L2 = h*(da0 + K1/2)\n",
        "  K2 = h*(dda)\n",
        "\n",
        "  phi = np.dot(a0 + L2/2, psi)\n",
        "  dda = np.dot(a0 + L2/2, xxpsi) - dV(phi) \n",
        "  L3 = h*(da0 + K2/2)\n",
        "  K3 = h*(dda)\n",
        "\n",
        "  phi = np.dot(a0 + L3, psi)\n",
        "  dda = np.dot(a0 + L3, xxpsi) - dV(phi) \n",
        "  L4 = h*(da0 + K3)\n",
        "  K4 = h*(dda) \n",
        "  \n",
        "  da0 = da0 + 1/6 * (K1 + 2*K2 + 2*K3 + K4)\n",
        "  a0 = a0 + 1/6 * (L1 + 2*L2 + 2*L3 + L4)\n",
        "  phi_set[i,:] = np.dot(a0, psiplot)\n",
        "\n"
      ],
      "metadata": {
        "id": "1fLA0_yVseTr",
        "colab": {
          "base_uri": "https://localhost:8080/"
        },
        "outputId": "5021e43a-afe3-49ec-c972-470f9dd9d390"
      },
      "execution_count": 63,
      "outputs": [
        {
          "output_type": "execute_result",
          "data": {
            "text/plain": [
              "array([[nan, nan, nan, ..., nan, nan, nan],\n",
              "       [nan, nan, nan, ..., nan, nan, nan],\n",
              "       [nan, nan, nan, ..., nan, nan, nan],\n",
              "       ...,\n",
              "       [nan, nan, nan, ..., nan, nan, nan],\n",
              "       [nan, nan, nan, ..., nan, nan, nan],\n",
              "       [nan, nan, nan, ..., nan, nan, nan]])"
            ]
          },
          "metadata": {},
          "execution_count": 63
        }
      ]
    },
    {
      "cell_type": "code",
      "source": [
        ""
      ],
      "metadata": {
        "colab": {
          "base_uri": "https://localhost:8080/"
        },
        "id": "Z3Q7iQ6vrShn",
        "outputId": "21abec1f-9dca-4edc-cb0e-0a1e967bde22"
      },
      "execution_count": 65,
      "outputs": [
        {
          "output_type": "execute_result",
          "data": {
            "text/plain": [
              "array([nan, nan, nan, nan, nan, nan, nan, nan, nan, nan, nan, nan, nan,\n",
              "       nan, nan, nan, nan, nan, nan, nan, nan, nan, nan, nan, nan, nan,\n",
              "       nan, nan, nan, nan, nan, nan, nan, nan, nan, nan, nan, nan, nan,\n",
              "       nan, nan, nan, nan, nan, nan, nan, nan, nan, nan, nan, nan, nan,\n",
              "       nan, nan, nan, nan, nan, nan, nan, nan, nan, nan, nan, nan, nan,\n",
              "       nan, nan, nan, nan, nan, nan, nan, nan, nan, nan, nan, nan, nan,\n",
              "       nan, nan, nan, nan, nan, nan, nan, nan, nan, nan, nan, nan, nan,\n",
              "       nan, nan, nan, nan, nan, nan, nan, nan, nan])"
            ]
          },
          "metadata": {},
          "execution_count": 65
        }
      ]
    }
  ]
}