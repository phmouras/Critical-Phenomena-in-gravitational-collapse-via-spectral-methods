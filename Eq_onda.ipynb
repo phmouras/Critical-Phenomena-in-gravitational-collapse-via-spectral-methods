{
  "nbformat": 4,
  "nbformat_minor": 0,
  "metadata": {
    "colab": {
      "name": "Eq_onda.ipynb",
      "provenance": [],
      "authorship_tag": "ABX9TyPkzsDr8hv9suuVHwWGo7zU",
      "include_colab_link": true
    },
    "kernelspec": {
      "name": "python3",
      "display_name": "Python 3"
    },
    "language_info": {
      "name": "python"
    }
  },
  "cells": [
    {
      "cell_type": "markdown",
      "metadata": {
        "id": "view-in-github",
        "colab_type": "text"
      },
      "source": [
        "<a href=\"https://colab.research.google.com/github/phmouras/Projeto_Pos/blob/main/Eq_onda.ipynb\" target=\"_parent\"><img src=\"https://colab.research.google.com/assets/colab-badge.svg\" alt=\"Open In Colab\"/></a>"
      ]
    },
    {
      "cell_type": "code",
      "execution_count": 5,
      "metadata": {
        "colab": {
          "base_uri": "https://localhost:8080/"
        },
        "id": "s2RUSsazBXbV",
        "outputId": "d09e1f87-9e11-46fb-a1ff-c3e682c68b49"
      },
      "outputs": [
        {
          "output_type": "stream",
          "name": "stdout",
          "text": [
            "[0. 0. 0. 0. 0. 0. 0. 0. 0. 0. 0. 0. 0. 0. 0. 0. 0. 0. 0.]\n"
          ]
        }
      ],
      "source": [
        "import math\n",
        "import numpy as np\n",
        "import matplotlib.pyplot as plt\n",
        "\n",
        "N = 20\n",
        "Nt = 100\n",
        "h = 2*np.pi / N   #stepsize in the space x\n",
        "k = 1/Nt          #stepzise in the time t, k= 0.01\n",
        "time_steps = 100\n",
        "t = np.arange(0, (time_steps + 5.)*k, k)\n",
        "x = np.arange(0, 2*np.pi + h/2, h)        #Domínio\n",
        "\n",
        "w = np.zeros((time_steps + 1, N+1))\n",
        "b = np.zeros(N - 1)\n",
        "\n",
        "#Initial conditions\n",
        "\n",
        "for j in range(N + 1):\n",
        "  w[0, j] = 1 - np.cos(x[j])\n",
        "\n",
        "\n"
      ]
    }
  ]
}