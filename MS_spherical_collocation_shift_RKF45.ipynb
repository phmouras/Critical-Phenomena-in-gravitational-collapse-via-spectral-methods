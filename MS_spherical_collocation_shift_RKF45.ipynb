{
  "nbformat": 4,
  "nbformat_minor": 0,
  "metadata": {
    "colab": {
      "name": "MS_spherical_collocation_shift_2.ipynb",
      "provenance": [],
      "include_colab_link": true
    },
    "kernelspec": {
      "name": "python3",
      "display_name": "Python 3"
    },
    "language_info": {
      "name": "python"
    }
  },
  "cells": [
    {
      "cell_type": "markdown",
      "metadata": {
        "id": "view-in-github",
        "colab_type": "text"
      },
      "source": [
        "<a href=\"https://colab.research.google.com/github/phmouras/Projeto_Pos/blob/main/MS_spherical_collocation_shift_RKF45.ipynb\" target=\"_parent\"><img src=\"https://colab.research.google.com/assets/colab-badge.svg\" alt=\"Open In Colab\"/></a>"
      ]
    },
    {
      "cell_type": "code",
      "execution_count": 32,
      "metadata": {
        "id": "uwHk8h0y8ZBF",
        "colab": {
          "base_uri": "https://localhost:8080/",
          "height": 279
        },
        "outputId": "7dfda0ca-b784-4dee-aa2d-fad5495d1cf3"
      },
      "outputs": [
        {
          "output_type": "display_data",
          "data": {
            "text/plain": [
              "<Figure size 432x288 with 1 Axes>"
            ],
            "image/png": "[encoded data removed]"
          },
          "metadata": {
            "needs_background": "light"
          }
        }
      ],
      "source": [
        "import numpy as np\n",
        "import pandas as pd\n",
        "import matplotlib.pyplot as plt\n",
        "import math\n",
        "\n",
        "N = 30                                                  # Truncation ordem\n",
        "\n",
        "L0 = 2                                               # Map parameter \n",
        "\n",
        "col = np.cos(np.arange(2*N + 4)*math.pi /(2*N + 3))      # collocation points (Verificado)\n",
        "\n",
        "colr = col[1:N+2]\n",
        "\n",
        "r = L0 * colr/(np.sqrt(1-colr**2))                       # physical domain (Verificado)             \n",
        "\n",
        "out_r = open('r_30_L02.txt', 'a')\n",
        "out_r.write(' ' +' '.join(str('%.18f'%n) for n in r)+'\\n')\n",
        "out_r.close()\n",
        "\n",
        "\n",
        "# Base Matrix (Tchebyshev Polinomials): \n",
        "\n",
        "SB = np.zeros([N+2,N+1])\n",
        "rSB = np.zeros([N+2,N+1])\n",
        "rrSB = np.zeros([N+2,N+1])\n",
        "\n",
        "\n",
        "for i in range(N+1+1):\n",
        "  SB[i,] = np.sin((2*i+1)*np.arctan(L0/r))                                                  \n",
        "\n",
        "for i in range(N+1+1):\n",
        "  rSB[i,] = -np.cos((2*i+1)*np.arctan(L0/r))*(2*i+1)*L0/(r**2*(1+L0**2/r**2)) \n",
        "\n",
        "for i in range(N+1+1):\n",
        "  rrSB[i,] = -np.sin((2*i+1)*np.arctan(L0/r))*(2*i+1)**2*L0**2/(r**4*(1+L0**2/r**2)**2)+2*np.cos((2*i+1)*np.arctan(L0/r))*(2*i+1)*L0/(r**3*(1+L0**2/r**2))-2*np.cos((2*i+1)*np.arctan(L0/r))*(2*i+1)*L0**3/(r**5*(1+L0**2/r**2)**2)                     \n",
        "\n",
        "\n",
        "psi = SB[0:N+1,:]        # Base function\n",
        "rpsi = rSB[0:N+1,:]\n",
        "rrpsi = rrSB[0:N+1,:]\n",
        "\n",
        "# Initial conditions of Phi                                     \n",
        "\n",
        "r0 = 2\n",
        "\n",
        "A0 = 0.05\n",
        "\n",
        "sigma = 1\n",
        "\n",
        "Phi_0 = A0*r**2*(np.exp(-(r-r0)**2/sigma**2)+np.exp(-(r+r0)**2/sigma**2))            # Phi initial data (Verificado)\n",
        "\n",
        "inv_psi = np.linalg.inv(psi)\n",
        "  \n",
        "a0 = np.dot(Phi_0, inv_psi)  # coeficients a(0)  (Verificado)\n",
        "\n",
        "out_a0 = open('a0_30_L02.txt', 'a')\n",
        "out_a0.write(' ' +' '.join(str('%.18f'%n) for n in a0)+'\\n')\n",
        "out_a0.close()\n",
        "\n",
        "\n",
        "Phi = np.dot(a0, psi)        # approximative solution in t = 0\n",
        "rPhi= np.dot(a0, rpsi)\n",
        "\n",
        "########################### Plot: Initial Conditions ph Phi\n",
        "\n",
        "M = 3000       # plot truncation\n",
        "\n",
        "rplot = np.linspace(0.000001,10,M)\n",
        "\n",
        "colplot = rplot/np.sqrt(L0**2 + rplot**2)\n",
        "\n",
        "SBplot = np.zeros([N+1,M])\n",
        "rSBplot = np.zeros([N+1,M])\n",
        "rrSBplot = np.zeros([N+1,M])\n",
        "\n",
        "for i in range(N+1):\n",
        "  SBplot[i,] = np.sin((2*i+1)*np.arctan(L0/rplot))\n",
        "\n",
        "for i in range(N+1):\n",
        "  rSBplot[i,] = -np.cos((2*i+1)*np.arctan(L0/rplot))*(2*i+1)*L0/(rplot**2*(1+L0**2/rplot**2)) \n",
        "\n",
        "for i in range(N+1):\n",
        "  rrSBplot[i,] = -np.sin((2*i+1)*np.arctan(L0/rplot))*(2*i+1)**2*L0**2/(rplot**4*(1+L0**2/rplot**2)**2)+2*np.cos((2*i+1)*np.arctan(L0/rplot))*(2*i+1)*L0/(rplot**3*(1+L0**2/rplot**2))-2*np.cos((2*i+1)*np.arctan(L0/rplot))*(2*i+1)*L0**3/(rplot**5*(1+L0**2/rplot**2)**2)                     \n",
        "\n",
        "psiplot = SBplot[0:(N+1),:] \n",
        "rpsiplot = rSBplot[0:(N+1),:]\n",
        "rrpsiplot = rrSBplot[0:(N+1),:]\n",
        "\n",
        "Phi_plot0 = A0*rplot**2*(np.exp(-(rplot-r0)**2/sigma**2)+np.exp(-(rplot+r0)**2/sigma**2))      \n",
        "\n",
        "\n",
        "Phiplot = np.dot(a0, psiplot)\n",
        "\n",
        "\n",
        "erro = Phi_plot0 - Phiplot\n",
        "\n",
        "plt.plot(rplot, Phiplot, rplot, Phi_plot0, \"--r\")   #(Verificado)\n",
        "plt.xlabel('r')\n",
        "plt.xlim(0,8)\n",
        "plt.show()\n",
        "\n"
      ]
    },
    {
      "cell_type": "code",
      "source": [
        "plt.plot(rplot, erro)\n",
        "plt.xlabel('r')\n",
        "plt.xlim(0,8)\n",
        "plt.ylabel(\"$|\\phi_N - \\phi_0|$\")\n",
        "plt.show()"
      ],
      "metadata": {
        "colab": {
          "base_uri": "https://localhost:8080/",
          "height": 290
        },
        "id": "RMLSnl3l2lkH",
        "outputId": "745bb45b-b0da-4c2a-efca-55ca32dce773"
      },
      "execution_count": null,
      "outputs": [
        {
          "output_type": "display_data",
          "data": {
            "text/plain": [
              "<Figure size 432x288 with 1 Axes>"
            ],
            "image/png": "[encoded data removed]"
          },
          "metadata": {
            "needs_background": "light"
          }
        }
      ]
    },
    {
      "cell_type": "code",
      "source": [
        "Pi_0 = np.zeros(N+1)\n",
        "b0 = np.dot(Pi_0, psi)\n",
        "Pi = np.dot(b0, psi)\n",
        "\n",
        "c0 = np.zeros([N+1])     # guess value\n",
        "for i in range(N+1):\n",
        "  c0[i]  =   0.001\n",
        "  \n",
        "Chi=np.dot(c0,psi)    \n",
        "rChi=np.dot(c0,rpsi)\n",
        "rrChi=np.dot(c0,rrpsi)     \n",
        "\n",
        "H0 = 4*rChi**2 + 4*rrChi + 8/r*rChi + 1/2*(rPhi)**2\n",
        "\n",
        "JH = 8*np.dot(c0,rpsi)*rpsi + 4*rrpsi + 8/r*rpsi     # Jacobian Matrix\n",
        "\n",
        "inv_JH = np.linalg.inv(JH)\n",
        "\n",
        "N_int = 50\n",
        "\n",
        "tolerance = 1e-40    # tolerance\n",
        "\n",
        "N_int = 10\n",
        "\n",
        "#tol = 1e-29     # tolerance\n",
        "#while min(abs(np.dot(H0, inv_JH))) >= tol:\n",
        "\n",
        "# Newton Raphson loop\n",
        "for i in range(N_int):\n",
        "  Chi=np.dot(c0,psi)\n",
        "  rChi=np.dot(c0,rpsi)\n",
        "  rrChi=np.dot(c0,rrpsi)\n",
        "  H0 = 4*rChi**2 + 4*rrChi + 8/r*rChi + 1/2*(rPhi)**2\n",
        "  JH = 8*np.dot(c0,rpsi)*rpsi + 4*rrpsi + 8/r*rpsi\n",
        "  cnew = c0 - np.dot(H0, inv_JH)\n",
        "  if min(abs(cnew-c0)) < tolerance:\n",
        "    break\n",
        "  print(min(abs(cnew-c0)), end=' ')\n",
        "  c0 = cnew\n",
        "\n",
        "out_c0 = open('c0_30_L02.txt', 'a')\n",
        "out_c0.write(' ' +' '.join(str('%.18f'%n) for n in c0)+'\\n')\n",
        "out_c0.close()\n",
        "\n",
        "c0"
      ],
      "metadata": {
        "id": "N73F-WBYjYIN",
        "colab": {
          "base_uri": "https://localhost:8080/"
        },
        "outputId": "5a4deff5-3d7c-438f-d323-2f2342b2fe09"
      },
      "execution_count": 33,
      "outputs": [
        {
          "output_type": "stream",
          "name": "stdout",
          "text": [
            "0.0008965797417883843 2.9417180389946674e-08 3.646405050237357e-10 1.2002957819903946e-10 3.547875026951817e-12 8.248221346764373e-14 1.6574095113947664e-15 3.0288415886156085e-17 5.176165401111826e-19 1.224227306578481e-20 "
          ]
        },
        {
          "output_type": "execute_result",
          "data": {
            "text/plain": [
              "array([ 2.90044240e-02,  3.94795537e-03, -4.78285208e-04, -6.57470625e-04,\n",
              "       -2.36869504e-04, -1.75291711e-05,  1.21520275e-04,  1.35279328e-04,\n",
              "        9.29402262e-06, -8.63394963e-05, -5.48655352e-05,  2.13227506e-05,\n",
              "        4.31543202e-05,  1.23911412e-05, -1.60777057e-05, -1.58248575e-05,\n",
              "       -1.09139953e-06,  7.43809822e-06,  5.22103825e-06, -3.58077008e-07,\n",
              "       -2.82258990e-06, -1.69750436e-06,  2.35866331e-07,  1.01250846e-06,\n",
              "        6.03170931e-07, -5.92132626e-08, -3.51525619e-07, -2.28069191e-07,\n",
              "        1.08007366e-08,  1.47987269e-07,  1.14014395e-07])"
            ]
          },
          "metadata": {},
          "execution_count": 33
        }
      ]
    },
    {
      "cell_type": "markdown",
      "source": [
        "Field equations"
      ],
      "metadata": {
        "id": "q_B1C2AB5TiO"
      }
    },
    {
      "cell_type": "code",
      "source": [
        "# Equation for Krr: momentum constraint\n",
        "\n",
        "# Initial values of Krr: Base functions of Krr\n",
        "\n",
        "SB1 = 1/2*(SB[1:(N+2),:] + SB[0:(N+1),:])          # VERIFICADO\n",
        "rSB1 = 1/2*(rSB[1:(N+2),:] + rSB[0:(N+1),:])\n",
        "rrSB1 = 1/2*(rrSB[1:(N+2),:] + rrSB[0:(N+1),:])\n",
        "\n",
        "\n",
        "# Base functions for Beta\n",
        "\n",
        "SB2 = np.zeros([N+1,N+1])      \n",
        "rSB2 = np.zeros([N+1,N+1])\n",
        "rrSB2 = np.zeros([N+1,N+1])\n",
        "\n",
        "for i in range(N+1):                                                   # VERIFICADO\n",
        "  SB2[i,] = np.sin((2*(i+1/2)+1)*np.arctan(L0/r))                                                  \n",
        "\n",
        "for i in range(N+1):\n",
        "  rSB2[i,] = -np.cos((2*i+2)*np.arctan(L0/r))*(2*i+2)*L0/(r**2*(1+L0**2/r**2))\n",
        "\n",
        "for i in range(N+1):\n",
        "  rrSB2[i,] = -np.sin((2*i+2)*np.arctan(L0/r))*(2*i+2)**2*L0**2/(r**4*(1+L0**2/r**2)**2)+2*np.cos((2*i+2)*np.arctan(L0/r))*(2*i+2)*L0/(r**3*(1+L0**2/r**2))-2*np.cos((2*i+2)*np.arctan(L0/r))*(2*i+2)*L0**3/(r**5*(1+L0**2/r**2)**2)\n",
        "\n",
        "\n",
        "    "
      ],
      "metadata": {
        "id": "xUP2_j8OoEWy"
      },
      "execution_count": 34,
      "outputs": []
    },
    {
      "cell_type": "markdown",
      "source": [
        "Quadrature Integration"
      ],
      "metadata": {
        "id": "tbh3ulv0VeDU"
      }
    },
    {
      "cell_type": "code",
      "source": [
        "Nq = int(3/2*N)           # Quadrature truncation\n",
        "\n",
        "gauss_quadrature = np.polynomial.legendre.leggauss(Nq + 1) \n",
        "\n",
        "new_col = gauss_quadrature[0]            # Legendre quadrature points\n",
        "\n",
        "\n",
        "# Legendre Polinomials\n",
        "\n",
        "P = np.zeros([Nq+3,Nq+1])\n",
        "colP = np.zeros([Nq+3,Nq+1])\n",
        "\n",
        "P[0,] = 1\n",
        "P[1,] = new_col\n",
        "\n",
        "colP[0,] = 0\n",
        "colP[1,] = 1\n",
        "\n",
        "for i in range(2,Nq+3):\n",
        "  P[i,] = ((2*i-1)*new_col*P[i-1,] - (i-1)*P[i-2,])/(i)   \n",
        "\n",
        "for i in range(2,Nq+3):\n",
        "  colP[i,] = i*P[i-1] + new_col*colP[i-1]\n",
        "\n",
        "P_max = P[Nq+1]\n",
        "\n",
        "colP_max = colP[Nq+1]\n",
        "\n",
        "wq_col = 2/((1-new_col**2)*colP_max**2)    # Legendre weight (Verificado)\n",
        "\n",
        "rq = L0*(1+new_col)/(1-new_col)            # Physical quadrature domain\n",
        "\n",
        "qSB = np.zeros([Nq+3,Nq+1])                # Base function in quadrature points\n",
        "qrSB = np.zeros([Nq+3,Nq+1])\n",
        "qrrSB = np.zeros([Nq+3,Nq+1])\n",
        "\n",
        "\n",
        "\n",
        "\n",
        "for i in range(Nq+1+1+1):\n",
        "  qSB[i,] = np.sin((2*i+1)*np.arctan(L0/rq))                                                  \n",
        "\n",
        "for i in range(Nq+1+1+1):\n",
        "  qrSB[i,] = -np.cos((2*i+1)*np.arctan(L0/rq))*(2*i+1)*L0/(rq**2*(1+L0**2/rq**2))\n",
        "\n",
        "for i in range(Nq+1+1+1):\n",
        "  qrrSB[i,] = -np.sin((2*i+1)*np.arctan(L0/rq))*(2*i+1)**2*L0**2/(rq**4*(1+L0**2/rq**2)**2)+2*np.cos((2*i+1)*np.arctan(L0/rq))*(2*i+1)*L0/(rq**3*(1+L0**2/rq**2))-2*np.cos((2*i+1)*np.arctan(L0/rq))*(2*i+1)*L0**3/(rq**5*(1+L0**2/rq**2)**2)                                         \n",
        "\n",
        "\n",
        "qpsi = qSB[0:N+1,:]\n",
        "rqpsi = qrSB[0:N+1,:]\n",
        "rrqpsi = qrrSB[0:N+1,:]\n",
        "\n",
        "# Initial values of Krr:\n",
        "\n",
        "\n",
        "qSB1 = 1/2*(qSB[1:(N+2),:] + qSB[0:(N+1),:])          # VERIFICADO\n",
        "qrSB1 = 1/2*(qrSB[1:(N+2),:] + qrSB[0:(N+1),:])\n",
        "qrrSB1 = 1/2*(qrrSB[1:(N+2),:] + qrrSB[0:(N+1),:])\n",
        "\n",
        "\n",
        "#qKrr = np.dot(ck0, qSB1) \n",
        "\n",
        "# Alpha na origem\n",
        "\n",
        "psi_0 = np.zeros(N+1)\n",
        "\n",
        "for i in range(N+1):\n",
        "  psi_0[i,] = np.sin((2*i+1)*math.pi/2)     # arccot(0) = Pi/2  \n",
        "\n",
        "#Alpha_0 = 1 + np.dot(al0, psi_0) "
      ],
      "metadata": {
        "id": "fK3MiMX3CeQE"
      },
      "execution_count": 35,
      "outputs": []
    },
    {
      "cell_type": "code",
      "source": [
        "# Runge Kutta Fehlberg : adaptative step\n",
        "\n",
        "h = 0.001   # step size\n",
        "tf = 7\n",
        "\n",
        "h_max = 0.0001\n",
        "h_min = 0.000001\n",
        "tol = 1e-5        # Tolerance\n",
        "h = h_min\n",
        "\n",
        "It = int(tf/h)\n",
        "\n",
        "\n",
        "#phi_set = np.zeros([It,M])   \n",
        "#chi_set = np.zeros([It,M])\n",
        "#pi_set = np.zeros([It,M])\n",
        "L2HC = np.zeros([It])  \n",
        "Alpha_origin = np.zeros([It])\n",
        "phi_origin = np.zeros([It]) \n",
        "\n",
        "V = 0\n",
        "\n",
        "#print 'Time step:', h\n",
        "#print 'Steps:', It\n",
        "\n",
        "for i in range(It): \n",
        "\n",
        "  # First step\n",
        "  Phi = np.dot(a0, psi)      \n",
        "  rPhi = np.dot(a0, rpsi)\n",
        "  rrPhi = np.dot(a0, rrpsi)      \n",
        "  Pi = np.dot(b0, psi) \n",
        "  rPi= np.dot(b0, rpsi)\n",
        "  Chi = np.dot(c0, psi) \n",
        "  rChi = np.dot(c0, rpsi)\n",
        "  rrChi = np.dot(c0, rrpsi)   \n",
        "  Matrix_Krr = 2*rChi*SB1 + rSB1 + 3/r*SB1 \n",
        "  inv_matrix_krr = np.linalg.inv(Matrix_Krr)\n",
        "  rhsk = - Pi*rPhi*np.exp(4*Chi)\n",
        "  ck0 = np.dot(rhsk, inv_matrix_krr)\n",
        "  Krr = np.dot(ck0, SB1) \n",
        "  rKrr = np.dot(ck0, rSB1)\n",
        "  Matrix_Alpha = rrpsi + 2*(1/r + rChi)*rpsi - 3/2*np.exp(-4*Chi)*Krr**2*psi - np.exp(4*Chi)*(Pi**2 - V)*psi \n",
        "  inv_matrix_alpha = np.linalg.inv(Matrix_Alpha)\n",
        "  rhsal = 3/2*np.exp(-4*Chi)*Krr**2 + np.exp(4*Chi)*(Pi**2-V)\n",
        "  al0 = np.dot(rhsal, inv_matrix_alpha)\n",
        "  Alpha = 1 + np.dot(al0, psi)\n",
        "  rAlpha = np.dot(al0, rpsi)\n",
        "  rrAlpha = np.dot(al0, rrpsi)\n",
        "  Matrix_Beta = rSB2/r - SB2/r**2\n",
        "  inv_matrix_beta = np.linalg.inv(Matrix_Beta)\n",
        "  rhsbe = 3/2*Alpha*np.exp(-4*Chi)*Krr/r\n",
        "  be0 = np.dot(rhsbe , inv_matrix_beta)\n",
        "  Beta = np.dot(be0, SB2)\n",
        "  rBeta = np.dot(be0, rSB2)\n",
        "  db = np.dot(Beta*rPi + np.exp(-4*Chi)*(2*Alpha/r + rAlpha + 2*rChi*Alpha)*rPhi + np.exp(-4*Chi)*Alpha*rrPhi - Alpha* V, inv_psi)\n",
        "  dc = np.dot(Beta*rChi + Beta/2/r + Alpha/4*np.exp(-4*Chi)*Krr, inv_psi)   \n",
        "  da = np.dot(Alpha*Pi + Beta*rPhi, inv_psi)   \n",
        "  K1 = h*(dc)\n",
        "  L1 = h*(da)\n",
        "  N1 = h*(db)\n",
        "  \n",
        "  # L2-error associated to the Hamiltonian constraint\n",
        "  qPhi = np.dot(a0, qpsi)      \n",
        "  rqPhi= np.dot(a0, rqpsi)\n",
        "  qPi = np.dot(b0, qpsi) \n",
        "  qChi = np.dot(c0, qpsi)\n",
        "  rqChi = np.dot(c0, rqpsi)\n",
        "  rrqChi = np.dot(c0, rrqpsi) \n",
        "  qKrr = np.dot(ck0, qSB1)\n",
        "  H = 4*rqChi**2 + 4*rrqChi + 8*rqChi/rq + 3/4*np.exp(-4*qChi)*qKrr**2 + np.exp(4*qChi)*(1/2*qPi**2 + np.exp(-4*qChi)/2*rqPhi**2)   # Hamiltonian constraint (HC)\n",
        "  L2HC[i,] = (1/2*np.dot(H**2,wq_col))**(1/2)     # L2 error of HC \n",
        "  \n",
        "  # Alpha in r=0\n",
        "  Alpha_origin[i] = 1 + np.dot(al0, psi_0)\n",
        "\n",
        "  #Phi origin:\n",
        "  phi_origin[i] = np.dot(a0, psi_0)\n",
        "\n",
        "  # Second step\n",
        "  Phi = np.dot(a0 + L1/4, psi)     \n",
        "  rPhi= np.dot(a0 + L1/4 , rpsi)\n",
        "  rrPhi = np.dot(a0 + L1/4, rrpsi) \n",
        "  Pi = np.dot(b0 + N1/4, psi)\n",
        "  rPi= np.dot(b0 + N1/4, rpsi)\n",
        "  Chi = np.dot(c0 + K1/4, psi)\n",
        "  rChi = np.dot(c0 + K1/4, rpsi)\n",
        "  rrChi = np.dot(c0 + K1/4, rrpsi)\n",
        "  Matrix_Krr = 2*rChi*SB1 + rSB1 + 3/r*SB1 \n",
        "  inv_matrix_krr = np.linalg.inv(Matrix_Krr)\n",
        "  rhsk = - Pi*rPhi*np.exp(4*Chi)\n",
        "  ck0 = np.dot(rhsk, inv_matrix_krr)\n",
        "  Krr = np.dot(ck0, SB1) \n",
        "  rKrr = np.dot(ck0, rSB1)\n",
        "  Matrix_Alpha = rrpsi + 2*(1/r + rChi)*rpsi - 3/2*np.exp(-4*Chi)*Krr**2*psi - np.exp(4*Chi)*(Pi**2 - V)*psi \n",
        "  inv_matrix_alpha = np.linalg.inv(Matrix_Alpha)\n",
        "  rhsal = 3/2*np.exp(-4*Chi)*Krr**2 + np.exp(4*Chi)*(Pi**2-V)\n",
        "  al0 = np.dot(rhsal, inv_matrix_alpha)\n",
        "  Alpha = 1 + np.dot(al0, psi)\n",
        "  rAlpha = np.dot(al0, rpsi)\n",
        "  rrAlpha = np.dot(al0, rrpsi)\n",
        "  Matrix_Beta = rSB2/r - SB2/r**2\n",
        "  inv_matrix_beta = np.linalg.inv(Matrix_Beta)\n",
        "  rhsbe = 3/2*Alpha*np.exp(-4*Chi)*Krr/r\n",
        "  be0 = np.dot(rhsbe , inv_matrix_beta)\n",
        "  Beta = np.dot(be0, SB2)\n",
        "  rBeta = np.dot(be0, rSB2)\n",
        "  db = np.dot(Beta*rPi + np.exp(-4*Chi)*(2*Alpha/r + rAlpha + 2*rChi*Alpha)*rPhi + np.exp(-4*Chi)*Alpha*rrPhi - Alpha* V, inv_psi)   \n",
        "  dc = np.dot(Beta*rChi + Beta/2/r + Alpha/4*np.exp(-4*Chi)*Krr, inv_psi)    \n",
        "  da = np.dot(Alpha*Pi + Beta*rPhi, inv_psi)   \n",
        "  K2 = h*(dc)\n",
        "  L2 = h*(da)\n",
        "  N2 = h*(db)\n",
        "\n",
        "  # Third step\n",
        "  Phi = np.dot(a0 + 3/(32)*L1 + 9/(32)*L2, psi)     \n",
        "  rPhi = np.dot(a0 + 3/(32)*L1 + 9/(32)*L2 , rpsi)\n",
        "  rrPhi = np.dot(a0 + 3/(32)*L1 + 9/(32)*L2, rrpsi) \n",
        "  Pi = np.dot(b0 + 3/(32)*N1 + 9/(32)*N2, psi)\n",
        "  rPi= np.dot(b0 + 3/(32)*N1 + 9/(32)*N2, rpsi)\n",
        "  Chi = np.dot(c0 + 3/(32)*K1 + 9/(32)*K2, psi)\n",
        "  rChi = np.dot(c0 + 3/(32)*K1 + 9/(32)*K2, rpsi)\n",
        "  rrChi = np.dot(c0 +3/(32)*K1 + 9/(32)*K2, rrpsi)\n",
        "  Matrix_Krr = 2*rChi*SB1 + rSB1 + 3/r*SB1\n",
        "  inv_matrix_krr = np.linalg.inv(Matrix_Krr)\n",
        "  rhsk = - Pi*rPhi*np.exp(4*Chi)\n",
        "  ck0 = np.dot(rhsk, inv_matrix_krr)\n",
        "  Krr = np.dot(ck0, SB1) \n",
        "  rKrr = np.dot(ck0, rSB1)\n",
        "  Matrix_Alpha = rrpsi + 2*(1/r + rChi)*rpsi - 3/2*np.exp(-4*Chi)*Krr**2*psi - np.exp(4*Chi)*(Pi**2 - V)*psi \n",
        "  inv_matrix_alpha = np.linalg.inv(Matrix_Alpha)\n",
        "  rhsal = 3/2*np.exp(-4*Chi)*Krr**2 + np.exp(4*Chi)*(Pi**2-V)\n",
        "  al0 = np.dot(rhsal, inv_matrix_alpha)\n",
        "  Alpha = 1 + np.dot(al0, psi)\n",
        "  rAlpha = np.dot(al0, rpsi)\n",
        "  rrAlpha = np.dot(al0, rrpsi)\n",
        "  Matrix_Beta = rSB2/r - SB2/r**2\n",
        "  inv_matrix_beta = np.linalg.inv(Matrix_Beta)\n",
        "  rhsbe = 3/2*Alpha*np.exp(-4*Chi)*Krr/r\n",
        "  be0 = np.dot(rhsbe , inv_matrix_beta)\n",
        "  Beta = np.dot(be0, SB2)\n",
        "  rBeta = np.dot(be0, rSB2)\n",
        "  db = np.dot(Beta*rPi + np.exp(-4*Chi)*(2*Alpha/r + rAlpha + 2*rChi*Alpha)*rPhi + np.exp(-4*Chi)*Alpha*rrPhi - Alpha* V, inv_psi)   \n",
        "  dc = np.dot(Beta*rChi + Beta/2/r + Alpha/4*np.exp(-4*Chi)*Krr, inv_psi)    \n",
        "  da = np.dot(Alpha*Pi + Beta*rPhi, inv_psi)   \n",
        "  K3 = h*(dc)\n",
        "  L3 = h*(da)\n",
        "  N3 = h*(db) \n",
        "\n",
        "  # Forth step\n",
        "  Phi = np.dot(a0 + (1932)/(2197)*L3 - (7200)/(2197)*L2 + (7296)/(2197)*L3, psi)     \n",
        "  rPhi= np.dot(a0 + (1932)/(2197)*L3 - (7200)/(2197)*L2 + (7296)/(2197)*L3 , rpsi)\n",
        "  rrPhi = np.dot(a0 + (1932)/(2197)*L3 - (7200)/(2197)*L2 + (7296)/(2197)*L3, rrpsi) \n",
        "  Pi = np.dot(b0 + (1932)/(2197)*N3 - (7200)/(2197)*N2 + (7296)/(2197)*N3, psi)\n",
        "  rPi= np.dot(b0 + (1932)/(2197)*N3 - (7200)/(2197)*N2 + (7296)/(2197)*N3, rpsi)\n",
        "  Chi = np.dot(c0 + (1932)/(2197)*K3 - (7200)/(2197)*K2 + (7296)/(2197)*K3, psi)\n",
        "  rChi = np.dot(c0 + (1932)/(2197)*K3 - (7200)/(2197)*K2 + (7296)/(2197)*K3, rpsi)\n",
        "  rrChi = np.dot(c0 + (1932)/(2197)*K3 - (7200)/(2197)*K2 + (7296)/(2197)*K3, rrpsi)\n",
        "  Matrix_Krr = 2*rChi*SB1 + rSB1 + 3/r*SB1 \n",
        "  inv_matrix_krr = np.linalg.inv(Matrix_Krr)\n",
        "  rhsk = - Pi*rPhi*np.exp(4*Chi)\n",
        "  ck0 = np.dot(rhsk, inv_matrix_krr)\n",
        "  Krr = np.dot(ck0, SB1) \n",
        "  rKrr = np.dot(ck0, rSB1)\n",
        "  Matrix_Alpha = rrpsi + 2*(1/r + rChi)*rpsi - 3/2*np.exp(-4*Chi)*Krr**2*psi - np.exp(4*Chi)*(Pi**2 - V)*psi \n",
        "  inv_matrix_alpha = np.linalg.inv(Matrix_Alpha)\n",
        "  rhsal = 3/2*np.exp(-4*Chi)*Krr**2 + np.exp(4*Chi)*(Pi**2-V)\n",
        "  al0 = np.dot(rhsal, inv_matrix_alpha)\n",
        "  Alpha = 1 + np.dot(al0, psi)\n",
        "  rAlpha = np.dot(al0, rpsi)\n",
        "  rrAlpha = np.dot(al0, rrpsi)\n",
        "  Matrix_Beta = rSB2/r - SB2/r**2\n",
        "  inv_matrix_beta = np.linalg.inv(Matrix_Beta)\n",
        "  rhsbe = 3/2*Alpha*np.exp(-4*Chi)*Krr/r\n",
        "  be0 = np.dot(rhsbe , inv_matrix_beta)\n",
        "  Beta = np.dot(be0, SB2)\n",
        "  rBeta = np.dot(be0, rSB2)\n",
        "  db = np.dot(Beta*rPi + np.exp(-4*Chi)*(2*Alpha/r + rAlpha + 2*rChi*Alpha)*rPhi + np.exp(-4*Chi)*Alpha*rrPhi - Alpha* V, inv_psi)   \n",
        "  dc = np.dot(Beta*rChi + Beta/2/r + Alpha/4*np.exp(-4*Chi)*Krr, inv_psi)    \n",
        "  da = np.dot(Alpha*Pi + Beta*rPhi, inv_psi)   \n",
        "  K4 = h*(dc)\n",
        "  L4 = h*(da)\n",
        "  N4 = h*(db)  \n",
        "  \n",
        "  # Fifth step\n",
        "  Phi = np.dot(a0 + (439)/(216)*L1 - 8*L2 + (3680)/(513)*L3 - (845)/(4104)*L4, psi)     \n",
        "  rPhi= np.dot(a0 + (439)/(216)*L1 - 8*L2 + (3680)/(513)*L3 - (845)/(4104)*L4 , rpsi)\n",
        "  rrPhi = np.dot(a0 + (439)/(216)*L1 - 8*L2 + (3680)/(513)*L3 - (845)/(4104)*L4, rrpsi) \n",
        "  Pi = np.dot(b0 + (439)/(216)*N1 - 8*N2 + (3680)/(513)*N3 - (845)/(4104)*N4, psi)\n",
        "  rPi= np.dot(b0 + (439)/(216)*N1 - 8*N2 + (3680)/(513)*N3 - (845)/(4104)*N4, rpsi)\n",
        "  Chi = np.dot(c0 + (439)/(216)*K1 - 8*K2 + (3680)/(513)*K3 - (845)/(4104)*K4, psi)\n",
        "  rChi = np.dot(c0 + (439)/(216)*K1 - 8*K2 + (3680)/(513)*K3 - (845)/(4104)*K4, rpsi)\n",
        "  rrChi = np.dot(c0 + (439)/(216)*K1 - 8*K2 + (3680)/(513)*K3 - (845)/(4104)*K4, rrpsi)\n",
        "  Matrix_Krr = 2*rChi*SB1 + rSB1 + 3/r*SB1 \n",
        "  inv_matrix_krr = np.linalg.inv(Matrix_Krr)\n",
        "  rhsk = - Pi*rPhi*np.exp(4*Chi)\n",
        "  ck0 = np.dot(rhsk, inv_matrix_krr)\n",
        "  Krr = np.dot(ck0, SB1) \n",
        "  rKrr = np.dot(ck0, rSB1)\n",
        "  Matrix_Alpha = rrpsi + 2*(1/r + rChi)*rpsi - 3/2*np.exp(-4*Chi)*Krr**2*psi - np.exp(4*Chi)*(Pi**2 - V)*psi \n",
        "  inv_matrix_alpha = np.linalg.inv(Matrix_Alpha)\n",
        "  rhsal = 3/2*np.exp(-4*Chi)*Krr**2 + np.exp(4*Chi)*(Pi**2-V)\n",
        "  al0 = np.dot(rhsal, inv_matrix_alpha)\n",
        "  Alpha = 1 + np.dot(al0, psi)\n",
        "  rAlpha = np.dot(al0, rpsi)\n",
        "  rrAlpha = np.dot(al0, rrpsi)\n",
        "  Matrix_Beta = rSB2/r - SB2/r**2\n",
        "  inv_matrix_beta = np.linalg.inv(Matrix_Beta)\n",
        "  rhsbe = 3/2*Alpha*np.exp(-4*Chi)*Krr/r\n",
        "  be0 = np.dot(rhsbe , inv_matrix_beta)\n",
        "  Beta = np.dot(be0, SB2)\n",
        "  rBeta = np.dot(be0, rSB2)\n",
        "  db = np.dot(Beta*rPi + np.exp(-4*Chi)*(2*Alpha/r + rAlpha + 2*rChi*Alpha)*rPhi + np.exp(-4*Chi)*Alpha*rrPhi - Alpha* V, inv_psi)   \n",
        "  dc = np.dot(Beta*rChi + Beta/2/r + Alpha/4*np.exp(-4*Chi)*Krr, inv_psi)    \n",
        "  da = np.dot(Alpha*Pi + Beta*rPhi, inv_psi)   \n",
        "  K5 = h*(dc)\n",
        "  L5 = h*(da)\n",
        "  N5 = h*(db)  \n",
        "  \n",
        "  # Sixth step\n",
        "  Phi = np.dot(a0 - (8)/(27)*L1 - 2*L2 - (3544)/(2565)*L3 + (1859)/(4104)*L4 - (11)/(40)*L5, psi)     \n",
        "  rPhi= np.dot(a0 + (8)/(27)*L1 - 2*L2 - (3544)/(2565)*L3 + (1859)/(4104)*L4 - (11)/(40)*L5 , rpsi)\n",
        "  rrPhi = np.dot(a0 + (8)/(27)*L1 - 2*L2 - (3544)/(2565)*L3 + (1859)/(4104)*L4 - (11)/(40)*L5, rrpsi) \n",
        "  Pi = np.dot(b0 + (8)/(27)*N1 - 2*N2 - (3544)/(2565)*N3 + (1859)/(4104)*N4 - (11)/(40)*N5, psi)\n",
        "  rPi= np.dot(b0 + (8)/(27)*N1 - 2*N2 - (3544)/(2565)*N3 + (1859)/(4104)*N4 - (11)/(40)*N5, rpsi)\n",
        "  Chi = np.dot(c0 + (8)/(27)*K1 - 2*K2 - (3544)/(2565)*K3 + (1859)/(4104)*K4 - (11)/(40)*K5, psi)\n",
        "  rChi = np.dot(c0 + (8)/(27)*K1 - 2*K2 - (3544)/(2565)*K3 + (1859)/(4104)*K4 - (11)/(40)*K5, rpsi)\n",
        "  rrChi = np.dot(c0 + (8)/(27)*K1 - 2*K2 - (3544)/(2565)*K3 + (1859)/(4104)*K4 - (11)/(40)*K5, rrpsi)\n",
        "  Matrix_Krr = 2*rChi*SB1 + rSB1 + 3/r*SB1 \n",
        "  inv_matrix_krr = np.linalg.inv(Matrix_Krr)\n",
        "  rhsk = - Pi*rPhi*np.exp(4*Chi)\n",
        "  ck0 = np.dot(rhsk, inv_matrix_krr)\n",
        "  Krr = np.dot(ck0, SB1) \n",
        "  rKrr = np.dot(ck0, rSB1)\n",
        "  Matrix_Alpha = rrpsi + 2*(1/r + rChi)*rpsi - 3/2*np.exp(-4*Chi)*Krr**2*psi - np.exp(4*Chi)*(Pi**2 - V)*psi \n",
        "  inv_matrix_alpha = np.linalg.inv(Matrix_Alpha)\n",
        "  rhsal = 3/2*np.exp(-4*Chi)*Krr**2 + np.exp(4*Chi)*(Pi**2-V)\n",
        "  al0 = np.dot(rhsal, inv_matrix_alpha)\n",
        "  Alpha = 1 + np.dot(al0, psi)\n",
        "  rAlpha = np.dot(al0, rpsi)\n",
        "  rrAlpha = np.dot(al0, rrpsi)\n",
        "  Matrix_Beta = rSB2/r - SB2/r**2\n",
        "  inv_matrix_beta = np.linalg.inv(Matrix_Beta)\n",
        "  rhsbe = 3/2*Alpha*np.exp(-4*Chi)*Krr/r\n",
        "  be0 = np.dot(rhsbe , inv_matrix_beta)\n",
        "  Beta = np.dot(be0, SB2)\n",
        "  rBeta = np.dot(be0, rSB2)\n",
        "  db = np.dot(Beta*rPi + np.exp(-4*Chi)*(2*Alpha/r + rAlpha + 2*rChi*Alpha)*rPhi + np.exp(-4*Chi)*Alpha*rrPhi - Alpha* V, inv_psi)   \n",
        "  dc = np.dot(Beta*rChi + Beta/2/r + Alpha/4*np.exp(-4*Chi)*Krr, inv_psi)    \n",
        "  da = np.dot(Alpha*Pi + Beta*rPhi, inv_psi)   \n",
        "  K6 = h*(dc)\n",
        "  L6 = h*(da)\n",
        "  N6 = h*(db) \n",
        "\n",
        "  print (i)\n",
        "\n",
        "  if max(L2HC) <= tol or h == h_min:\n",
        "      a = []\n",
        "      b = []\n",
        "      c = []\n",
        "      for i in range(N+1):\n",
        "        a.append(a0[i] + (16)/(135)*L1[i] + (6656)/(12825)*L3[i] + (28561)/(56430)*L4[i] - 9/(50)*L5[i] + 2/(55)*L6[i])\n",
        "      for i in range(N+1):\n",
        "        b.append(b0[i] + (16)/(135)*N1[i] + (6656)/(12825)*N3[i] + (28561)/(56430)*N4[i] - 9/(50)*N5[i] + 2/(55)*N6[i])\n",
        "      for i in range(N+1):\n",
        "        c.append(c0[i] + (16)/(135)*K1[i] + (6656)/(12825)*K3[i] + (28561)/(56430)*K4[i] - 9/(50)*K5[i] + 2/(55)*K6[i])\n",
        "      t4=str(t)\n",
        "      t = t + h\n",
        "      a0 = a\n",
        "      b0 = b\n",
        "      c0 = c\n",
        "      t3=str(t)\n",
        "      print(a0)\n",
        "      out_a = open('a_30_L02.txt', 'a')\n",
        "      out_a.write(t3 +' ' +' '.join(str('%.18f'%n) for n in a0)+'\\n')\n",
        "      out_b = open('b_30_L02.txt', 'a')\n",
        "      out_b.write(t3 +' ' +' '.join(str('%.18f'%n) for n in b0)+'\\n')\n",
        "      out_c = open('c_30_L02.txt', 'a')\n",
        "      out_c.write(t4 +' ' +' '.join(str('%.18f'%n) for n in c0)+'\\n')\n",
        " #     out_c.write(t4 +' ' +' '.join(str('%.18f'%n) for n in res_constr_co)+'\\n')\n",
        "      dt = h_max\n",
        "      h = h_max\n",
        "  else:\n",
        "    h = h*0.01*(tol/(max(L2HC)))**(1/4)\n",
        "    if h >= h_max:\n",
        "      h = h_max\n",
        "    if h < h_min:\n",
        "      h = h_min\n",
        "\n",
        "\n",
        "\n",
        "  # Evolution functions  \n",
        "  #phi_set[i,:] = np.dot(a0, psiplot)\n",
        "  #pi_set[i,:] = np.dot(b0, psiplot)\n",
        "  #chi_set[i,:] = np.dot(c0, psiplot)\n",
        "  \n",
        "  "
      ],
      "metadata": {
        "id": "oXpGHAGL1Fww",
        "outputId": "04f0723c-ba2a-48a3-a066-129e8c1f31bd",
        "colab": {
          "base_uri": "https://localhost:8080/"
        }
      },
      "execution_count": null,
      "outputs": [
        {
          "output_type": "stream",
          "name": "stdout",
          "text": [
            "0\n",
            "[0.07221830085070963, 0.07682280045990227, -0.04365633918771498, -0.060214298315558364, 0.009798982691903938, 0.035325702048001166, 0.009063596622756152, -0.01293811366808742, -0.010832040016406879, 4.420301956571484e-05, 0.005031480188966757, 0.003142168911621628, -0.0002361638151813682, -0.0016084506033718763, -0.0010450242427010403, -3.230825610191105e-05, 0.0004597256794830407, 0.00037642550928242304, 8.859414010469495e-05, -0.00010353452399919381, -0.00012887311093317456, -6.160666818411177e-05, 7.377567319697342e-06, 3.588774198963964e-05, 2.881467491170895e-05, 9.200989316808752e-06, -5.143305607216513e-06, -9.019098137193797e-06, -6.016452033305822e-06, -1.8258688254219739e-06, 1.7686748919993185e-07]\n",
            "1\n",
            "2\n",
            "[0.07221830085087763, 0.07682280045980282, -0.04365633918786329, -0.06021429831529053, 0.009798982691944104, 0.03532570204777182, 0.009063596622706933, -0.012938113667948425, -0.0108320400163268, 4.42030195194007e-05, 0.0050314801888969715, 0.0031421689116073164, -0.00023616381515205372, -0.0016084506033444744, -0.0010450242426975256, -3.230825611396082e-05, 0.00045972567947190015, 0.0003764255092800861, 8.859414010867531e-05, -0.00010353452399462661, -0.00012887311093145827, -6.160666818498512e-05, 7.3775673180067616e-06, 3.588774198863645e-05, 2.881467491163443e-05, 9.200989317297333e-06, -5.143305606763415e-06, -9.019098136976387e-06, -6.016452033386954e-06, -1.8258688255974556e-06, 1.7686748900679444e-07]\n",
            "3\n",
            "4\n",
            "[0.07221830085116772, 0.07682280045963111, -0.04365633918811938, -0.06021429831482806, 0.009798982692013456, 0.03532570204737581, 0.009063596622621949, -0.012938113667708421, -0.010832040016188527, 4.4203019439430334e-05, 0.005031480188776474, 0.0031421689115826053, -0.00023616381510143663, -0.0016084506032971603, -0.0010450242426914569, -3.2308256134767106e-05, 0.00045972567945266397, 0.0003764255092760509, 8.859414011554818e-05, -0.00010353452398674046, -0.00012887311092849474, -6.160666818649313e-05, 7.377567315087646e-06, 3.588774198690424e-05, 2.8814674911505754e-05, 9.200989318140959e-06, -5.143305605981056e-06, -9.019098136600984e-06, -6.016452033527044e-06, -1.825868825900459e-06, 1.7686748867330515e-07]\n",
            "5\n",
            "6\n",
            "[0.07221830085157989, 0.07682280045938711, -0.04365633918848324, -0.06021429831417096, 0.009798982692111996, 0.03532570204681314, 0.009063596622501202, -0.012938113667367409, -0.01083204001599206, 4.4203019325803744e-05, 0.005031480188605265, 0.003142168911547495, -0.00023616381502951695, -0.0016084506032299332, -0.001045024242682834, -3.23082561643299e-05, 0.000459725679425332, 0.0003764255092703175, 8.859414012531355e-05, -0.00010353452397553535, -0.00012887311092428397, -6.160666818863582e-05, 7.377567310939996e-06, 3.588774198444302e-05, 2.8814674911322923e-05, 9.200989319339636e-06, -5.143305604869433e-06, -9.01909813606759e-06, -6.016452033726093e-06, -1.8258688263309838e-06, 1.76867488199464e-07]\n",
            "7\n",
            "8\n",
            "[0.07221830085211414, 0.07682280045907085, -0.043656339188954875, -0.060214298313319224, 0.00979898269223972, 0.03532570204608379, 0.00906359662234469, -0.012938113666925391, -0.010832040015737399, 4.4203019178520924e-05, 0.005031480188383342, 0.0031421689115019844, -0.00023616381493629462, -0.0016084506031427935, -0.0010450242426716572, -3.23082562026492e-05, 0.00045972567938990444, 0.00037642550926288577, 8.85941401379714e-05, -0.00010353452396101127, -0.00012887311091882601, -6.160666819141316e-05, 7.377567305563811e-06, 3.5887741981252776e-05, 2.8814674911085937e-05, 9.20098932089336e-06, -5.1433056034285475e-06, -9.019098135376207e-06, -6.016452033984099e-06, -1.8258688268890305e-06, 1.7686748758527093e-07]\n",
            "9\n",
            "10\n",
            "[0.07221830085277046, 0.07682280045868231, -0.043656339189534286, -0.06021429831227286, 0.009798982692396634, 0.035325702045187785, 0.009063596622152411, -0.012938113666382367, -0.010832040015424546, 4.420301899758188e-05, 0.00503148018811071, 0.003142168911446074, -0.00023616381482176958, -0.0016084506030357411, -0.0010450242426579262, -3.230825624972501e-05, 0.00045972567934638115, 0.0003764255092537558, 8.859414015352176e-05, -0.00010353452394316826, -0.00012887311091212082, -6.160666819482516e-05, 7.37756729895909e-06, 3.588774197733353e-05, 2.88146749107948e-05, 9.200989322802134e-06, -5.143305601658398e-06, -9.019098134526829e-06, -6.016452034301065e-06, -1.8258688275745986e-06, 1.76867486830726e-07]\n",
            "11\n",
            "12\n",
            "[0.07221830085354888, 0.07682280045822153, -0.04365633919022147, -0.06021429831103185, 0.009798982692582735, 0.035325702044125114, 0.009063596621924366, -0.012938113665738335, -0.0108320400150535, 4.420301878298661e-05, 0.005031480187787364, 0.003142168911379763, -0.00023616381468594193, -0.0016084506029087763, -0.001045024242641641, -3.230825630555733e-05, 0.0004597256792947621, 0.0003764255092429276, 8.859414017196464e-05, -0.0001035345239220063, -0.00012887311090416841, -6.160666819887181e-05, 7.377567291125835e-06, 3.588774197268525e-05, 2.8814674910449507e-05, 9.200989325065951e-06, -5.143305599558986e-06, -9.019098133519465e-06, -6.016452034676989e-06, -1.8258688283876884e-06, 1.7686748593582921e-07]\n",
            "13\n",
            "14\n",
            "[0.07221830085444937, 0.07682280045768847, -0.043656339191016434, -0.060214298309596216, 0.009798982692798025, 0.03532570204289577, 0.009063596621660557, -0.012938113664993298, -0.01083204001462426, 4.420301853473512e-05, 0.005031480187413307, 0.0031421689113030533, -0.00023616381452881165, -0.0016084506027618988, -0.0010450242426228017, -3.230825637014615e-05, 0.00045972567923504735, 0.0003764255092304012, 8.859414019329999e-05, -0.00010353452389752537, -0.0001288731108949688, -6.160666820355312e-05, 7.377567282064043e-06, 3.588774196730796e-05, 2.8814674910050057e-05, 9.20098932768482e-06, -5.14330559713031e-06, -9.019098132354107e-06, -6.016452035111871e-06, -1.8258688293283e-06, 1.7686748490058057e-07]\n",
            "15\n",
            "16\n",
            "[0.07221830085547194, 0.07682280045708312, -0.04365633919191917, -0.060214298307965944, 0.009798982693042503, 0.03532570204149976, 0.00906359662136098, -0.012938113664147249, -0.010832040014136827, 4.420301825282739e-05, 0.005031480186988537, 0.0031421689112159433, -0.0002361638143503787, -0.0016084506025951083, -0.0010450242426014084, -3.230825644349148e-05, 0.0004597256791672369, 0.0003764255092161765, 8.859414021752784e-05, -0.00010353452386972549, -0.00012887311088452194, -6.160666820886913e-05, 7.377567271773716e-06, 3.5887741961201656e-05, 2.881467490959645e-05, 9.200989330658736e-06, -5.143305594372373e-06, -9.019098131030756e-06, -6.01645203560571e-06, -1.825868830396433e-06, 1.7686748372498008e-07]\n",
            "17\n",
            "18\n",
            "[0.0722183008566166, 0.07682280045640552, -0.04365633919292968, -0.060214298306141036, 0.009798982693316168, 0.0353257020399371, 0.009063596621025637, -0.012938113663200194, -0.010832040013591202, 4.4203017937263433e-05, 0.0050314801865130555, 0.003142168911118434, -0.00023616381415064312, -0.0016084506024084055, -0.001045024242577461, -3.2308256525593325e-05, 0.0004597256790913307, 0.0003764255092002536, 8.85941402446482e-05, -0.00010353452383860665, -0.00012887311087282787, -6.160666821481979e-05, 7.377567260254854e-06, 3.5887741954366344e-05, 2.881467490908869e-05, 9.2009893339877e-06, -5.1433055912851714e-06, -9.019098129549416e-06, -6.016452036158509e-06, -1.8258688315920878e-06, 1.7686748240902773e-07]\n",
            "19\n",
            "20\n",
            "[0.07221830085788333, 0.07682280045565565, -0.04365633919404796, -0.06021429830412149, 0.009798982693619018, 0.03532570203820777, 0.009063596620654533, -0.012938113662152135, -0.010832040012987385, 4.4203017588043255e-05, 0.005031480185986861, 0.0031421689110105243, -0.00023616381392960493, -0.0016084506022017897, -0.0010450242425509594, -3.2308256616451677e-05, 0.0004597256790073288, 0.0003764255091826325, 8.859414027466105e-05, -0.00010353452380416884, -0.00012887311085988656, -6.160666822140512e-05, 7.377567247507456e-06, 3.588774194680202e-05, 2.8814674908526783e-05, 9.200989337671711e-06, -5.143305587868708e-06, -9.019098127910086e-06, -6.0164520367702655e-06, -1.8258688329152642e-06, 1.7686748095272348e-07]\n",
            "21\n",
            "22\n",
            "[0.07221830085927217, 0.0768228004548335, -0.04365633919527403, -0.06021429830190731, 0.009798982693951054, 0.035325702036311774, 0.009063596620247662, -0.012938113661003066, -0.010832040012325374, 4.420301720516685e-05, 0.005031480185409954, 0.0031421689108922153, -0.00023616381368726411, -0.0016084506019752615, -0.001045024242521904, -3.230825671606653e-05, 0.0004597256789152312, 0.0003764255091633131, 8.859414030756641e-05, -0.0001035345237664121, -0.00012887311084569802, -6.160666822862511e-05, 7.377567233531523e-06, 3.588774193850868e-05, 2.8814674907910716e-05, 9.20098934171077e-06, -5.143305584122981e-06, -9.019098126112763e-06, -6.01645203744098e-06, -1.825868834365962e-06, 1.7686747935606738e-07]\n",
            "23\n",
            "24\n",
            "[0.07221830086078307, 0.07682280045393909, -0.04365633919660787, -0.060214298299498495, 0.009798982694312279, 0.035325702034249104, 0.009063596619805023, -0.012938113659752991, -0.01083204001160517, 4.420301678863422e-05, 0.005031480184782335, 0.003142168910763506, -0.00023616381342362062, -0.0016084506017288204, -0.001045024242490294, -3.2308256824437906e-05, 0.00045972567881503784, 0.0003764255091422954, 8.859414034336426e-05, -0.0001035345237253364, -0.00012887311083026226, -6.160666823647976e-05, 7.377567218327055e-06, 3.588774192948633e-05, 2.8814674907240496e-05, 9.20098934610488e-06, -5.143305580047992e-06, -9.019098124157448e-06, -6.016452038170653e-06, -1.8258688359441814e-06, 1.7686747761905938e-07]\n",
            "25\n",
            "26\n",
            "[0.07221830086241608, 0.0768228004529724, -0.04365633919804948, -0.06021429829689506, 0.009798982694702694, 0.03532570203201978, 0.00906359661932662, -0.012938113658401909, -0.010832040010826771, 4.4203016338445364e-05, 0.0050314801841040025, 0.0031421689106243974, -0.0002361638131386745, -0.0016084506014624668, -0.0010450242424561301, -3.2308256941565785e-05, 0.0004597256787067488, 0.0003764255091195795, 8.859414038205463e-05, -0.00010353452368094174, -0.0001288731108135793, -6.160666824496909e-05, 7.377567201894053e-06, 3.5887741919734955e-05, 2.881467490651612e-05, 9.200989350854037e-06, -5.143305575643739e-06, -9.019098122044142e-06, -6.016452038959284e-06, -1.8258688376499223e-06, 1.7686747574169952e-07]\n",
            "27\n",
            "28\n",
            "[0.07221830086417115, 0.07682280045193343, -0.04365633919959887, -0.06021429829409697, 0.009798982695122296, 0.03532570202962379, 0.009063596618812451, -0.012938113656949819, -0.01083204000999018, 4.420301585460028e-05, 0.005031480183374959, 0.0031421689104748885, -0.00023616381283242575, -0.0016084506011762006, -0.001045024242419412, -3.2308257067450175e-05, 0.0004597256785903641, 0.00037642550909516533, 8.859414042363749e-05, -0.00010353452363322812, -0.0001288731107956491, -6.160666825409307e-05, 7.377567184232515e-06, 3.588774190925457e-05, 2.881467490573759e-05, 9.200989355958241e-06, -5.143305570910223e-06, -9.019098119772845e-06, -6.016452039806874e-06, -1.825868839483185e-06, 1.768674737239878e-07]\n",
            "29\n",
            "30\n",
            "[0.07221830086604832, 0.07682280045082221, -0.04365633920125604, -0.06021429829110425, 0.009798982695571086, 0.03532570202706114, 0.009063596618262518, -0.012938113655396722, -0.010832040009095396, 4.4203015337098985e-05, 0.0050314801825952025, 0.0031421689103149795, -0.00023616381250487434, -0.0016084506008700217, -0.0010450242423801403, -3.230825720209106e-05, 0.00045972567846588365, 0.00037642550906905286, 8.859414046811286e-05, -0.00010353452358219556, -0.0001288731107764717, -6.160666826385172e-05, 7.377567165342441e-06, 3.5887741898045165e-05, 2.881467490490491e-05, 9.200989361417494e-06, -5.143305565847445e-06, -9.019098117343556e-06, -6.016452040713422e-06, -1.825868841443969e-06, 1.7686747156592419e-07]\n",
            "31\n",
            "32\n",
            "[0.07221830086804755, 0.07682280044963873, -0.043656339203020984, -0.06021429828791689, 0.009798982696049062, 0.03532570202433182, 0.009063596617676816, -0.012938113653742618, -0.010832040008142418, 4.420301478594145e-05, 0.005031480181764735, 0.003142168910144671, -0.0002361638121560203, -0.00160845060054393, -0.0010450242423383142, -3.230825734548847e-05, 0.0004597256783333075, 0.00037642550904124216, 8.859414051548072e-05, -0.00010353452352784403, -0.00012887311075604707, -6.160666827424502e-05, 7.377567145223833e-06, 3.588774188610675e-05, 2.881467490401807e-05, 9.200989367231792e-06, -5.143305560455403e-06, -9.019098114756277e-06, -6.016452041678929e-06, -1.825868843532275e-06, 1.768674692675087e-07]\n",
            "33\n",
            "34\n",
            "[0.07221830087016887, 0.07682280044838297, -0.0436563392048937, -0.0602142982845349, 0.009798982696556224, 0.03532570202143583, 0.009063596617055351, -0.012938113651987507, -0.010832040007131248, 4.420301420112769e-05, 0.005031480180883555, 0.0031421689099639626, -0.0002361638117858636, -0.001608450600197926, -0.001045024242293934, -3.230825749764238e-05, 0.0004597256781926356, 0.00037642550901173326, 8.859414056574108e-05, -0.00010353452347017355, -0.0001288731107343752, -6.160666828527298e-05, 7.377567123876689e-06, 3.588774187343932e-05, 2.8814674903077078e-05, 9.20098937340114e-06, -5.143305554734099e-06, -9.019098112011004e-06, -6.016452042703393e-06, -1.8258688457481026e-06, 1.7686746682874134e-07]\n",
            "35\n",
            "36\n",
            "[0.07221830087241227, 0.07682280044705495, -0.04365633920687419, -0.06021429828095827, 0.009798982697092572, 0.035325702018373185, 0.00906359661639812, -0.012938113650131387, -0.010832040006061885, 4.4203013582657714e-05, 0.0050314801799516634, 0.003142168909772855, -0.00023616381139440428, -0.0016084505998320091, -0.0010450242422469997, -3.23082576585528e-05, 0.000459725678043868, 0.00037642550898052613, 8.859414061889394e-05, -0.00010353452340918412, -0.0001288731107114561, -6.16066682969356e-05, 7.3775671013010095e-06, 3.588774186004287e-05, 2.8814674902081933e-05, 9.200989379925534e-06, -5.143305548683532e-06, -9.019098109107743e-06, -6.016452043786815e-06, -1.8258688480914516e-06, 1.768674642496221e-07]\n",
            "37\n",
            "38\n",
            "[0.07221830087477776, 0.07682280044565463, -0.04365633920896246, -0.06021429827718701, 0.00979898269765811, 0.035325702015143866, 0.009063596615705124, -0.01293811364817426, -0.010832040004934327, 4.420301293053151e-05, 0.00503148017896906, 0.0031421689095713474, -0.00023616381098164228, -0.0016084505994461795, -0.001045024242197511, -3.230825782821972e-05, 0.00045972567788700463, 0.00037642550894762076, 8.85941406749393e-05, -0.00010353452334487572, -0.00012887311068728976, -6.160666830923288e-05, 7.377567077496795e-06, 3.588774184591741e-05, 2.881467490103263e-05, 9.200989386804979e-06, -5.1433055423037015e-06, -9.019098106046491e-06, -6.016452044929197e-06, -1.8258688505623223e-06, 1.76867461530151e-07]\n",
            "39\n",
            "40\n",
            "[0.07221830087726534, 0.07682280044418206, -0.04365633921115851, -0.06021429827322112, 0.009798982698252835, 0.03532570201174789, 0.009063596614976362, -0.012938113646116125, -0.010832040003748574, 4.420301224474906e-05, 0.005031480177935744, 0.00314216890935944, -0.00023616381054757766, -0.0016084505990404375, -0.0010450242421454685, -3.230825800664316e-05, 0.0004597256777220456, 0.00037642550891301714, 8.859414073387715e-05, -0.00010353452327724838, -0.00012887311066187623, -6.160666832216483e-05, 7.377567052464047e-06, 3.588774183106293e-05, 2.881467489992917e-05, 9.20098939403947e-06, -5.1433055355946085e-06, -9.019098102827248e-06, -6.016452046130536e-06, -1.825868853160715e-06, 1.7686745867032802e-07]\n",
            "41\n",
            "42\n",
            "[0.072218300879875, 0.07682280044263723, -0.043656339213462333, -0.060214298269060586, 0.00979898269887675, 0.03532570200818525, 0.009063596614211834, -0.012938113643956983, -0.010832040002504631, 4.42030115253104e-05, 0.005031480176851716, 0.0031421689091371326, -0.00023616381009221044, -0.0016084505986147825, -0.001045024242090872, -3.23082581938231e-05, 0.0004597256775489909, 0.0003764255088767152, 8.859414079570753e-05, -0.00010353452320630208, -0.00012887311063521548, -6.160666833573144e-05, 7.377567026202763e-06, 3.588774181547943e-05, 2.8814674898771562e-05, 9.200989401629009e-06, -5.143305528556252e-06, -9.019098099450012e-06, -6.016452047390833e-06, -1.8258688558866287e-06, 1.768674556701532e-07]\n",
            "43\n",
            "44\n",
            "[0.07221830088260675, 0.07682280044102012, -0.043656339215873925, -0.06021429826470543, 0.00979898269952985, 0.035325702004455936, 0.009063596613411542, -0.012938113641696834, -0.010832040001202496, 4.4203010772215514e-05, 0.005031480175716975, 0.0031421689089044256, -0.00023616380961554058, -0.0016084505981692149, -0.0010450242420337213, -3.230825838975955e-05, 0.00045972567736784044, 0.000376425508838715, 8.859414086043039e-05, -0.00010353452313203682, -0.00012887311060730752, -6.160666834993271e-05, 7.377566998712943e-06, 3.588774179916692e-05, 2.8814674897559797e-05, 9.200989409573597e-06, -5.143305521188632e-06, -9.019098095914786e-06, -6.016452048710089e-06, -1.8258688587400644e-06, 1.768674525296265e-07]\n",
            "45\n",
            "46\n",
            "[0.07221830088546057, 0.07682280043933074, -0.043656339218393285, -0.06021429826015563, 0.009798982700212138, 0.03532570200055996, 0.009063596612575482, -0.01293811363933568, -0.010832039999842166, 4.4203009985464404e-05, 0.0050314801745315225, 0.0031421689086613184, -0.00023616380911756804, -0.0016084505977037348, -0.0010450242419740164, -3.230825859445251e-05, 0.0004597256771785943, 0.0003764255087990166, 8.859414092804575e-05, -0.00010353452305445262, -0.0001288731105781523, -6.160666836476865e-05, 7.377566969994587e-06, 3.58877417821254e-05, 2.8814674896293876e-05, 9.200989417873234e-06, -5.1433055134917496e-06, -9.019098092221567e-06, -6.0164520500883034e-06, -1.8258688617210215e-06, 1.7686744924874796e-07]\n",
            "47\n",
            "48\n",
            "[0.07221830088843648, 0.07682280043756909, -0.043656339221020427, -0.060214298255411206, 0.009798982700923614, 0.035325701996497316, 0.009063596611703655, -0.012938113636873515, -0.010832039998423642, 4.4203009165057056e-05, 0.005031480173295356, 0.003142168908407812, -0.00023616380859829285, -0.0016084505972183418, -0.0010450242419117576, -3.230825880790198e-05, 0.00045972567698125244, 0.00037642550875761996, 8.859414099855363e-05, -0.00010353452297354945, -0.00012887311054774988, -6.160666838023928e-05, 7.3775669400476975e-06, 3.588774176435486e-05, 2.8814674894973805e-05, 9.200989426527918e-06, -5.143305505465605e-06, -9.019098088370359e-06, -6.016452051525476e-06, -1.8258688648295003e-06, 1.7686744582751754e-07]\n",
            "49\n",
            "50\n",
            "[0.07221830089153446, 0.07682280043573515, -0.04365633922375534, -0.060214298250472136, 0.009798982701664275, 0.03532570199226802, 0.009063596610796065, -0.012938113634310345, -0.010832039996946926, 4.4203008310993485e-05, 0.005031480172008477, 0.003142168908143905, -0.00023616380805771504, -0.0016084505967130362, -0.0010450242418469445, -3.2308259030107954e-05, 0.0004597256767758149, 0.0003764255087145251, 8.859414107195399e-05, -0.00010353452288932732, -0.00012887311051610023, -6.160666839634456e-05, 7.377566908872272e-06, 3.5887741745855306e-05, 2.8814674893599576e-05, 9.20098943553765e-06, -5.143305497110197e-06, -9.019098084361159e-06, -6.016452053021607e-06, -1.8258688680655007e-06, 1.7686744226593526e-07]\n",
            "51\n",
            "52\n",
            "[0.07221830089475453, 0.07682280043382896, -0.04365633922659804, -0.060214298245338436, 0.009798982702434124, 0.03532570198787205, 0.00906359660985271, -0.012938113631646167, -0.010832039995412015, 4.420300742327369e-05, 0.005031480170670887, 0.0031421689078695984, -0.0002361638074958346, -0.001608450596187818, -0.0010450242417795771, -3.2308259261070426e-05, 0.0004597256765622816, 0.000376425508669732, 8.859414114824686e-05, -0.00010353452280178624, -0.0001288731104832033, -6.160666841308449e-05, 7.377566876468312e-06, 3.588774172662674e-05, 2.8814674892171193e-05, 9.20098944490243e-06, -5.1433054884255264e-06, -9.019098080193965e-06, -6.0164520545766954e-06, -1.8258688714290228e-06, 1.768674385640011e-07]\n",
            "53\n",
            "54\n",
            "[0.07221830089809668, 0.07682280043185051, -0.043656339229548514, -0.0602142982400101, 0.009798982703233162, 0.03532570198330941, 0.009063596608873589, -0.012938113628880981, -0.010832039993818909, 4.420300650189767e-05, 0.005031480169282585, 0.003142168907584892, -0.0002361638069126515, -0.001608450595642687, -0.001045024241709656, -3.230825950078941e-05, 0.00045972567634065256, 0.0003764255086232406, 8.859414122743224e-05, -0.0001035345227109262, -0.00012887311044905924, -6.160666843045909e-05, 7.377566842835817e-06, 3.588774170666915e-05, 2.8814674890688655e-05, 9.200989454622258e-06, -5.143305479411592e-06, -9.019098075868783e-06, -6.016452056190743e-06, -1.8258688749200666e-06, 1.7686743472171506e-07]\n",
            "55\n",
            "56\n",
            "[0.07221830090156092, 0.07682280042979979, -0.043656339232606756, -0.06021429823448713, 0.009798982704061385, 0.035325701978580114, 0.009063596607858703, -0.01293811362601479, -0.010832039992167615, 4.420300554686543e-05, 0.005031480167843571, 0.003142168907289786, -0.00023616380630816578, -0.0016084505950776436, -0.0010450242416371806, -3.23082597492649e-05, 0.0004597256761109278, 0.00037642550857505094, 8.859414130951011e-05, -0.00010353452261674719, -0.0001288731104136679, -6.160666844846835e-05, 7.377566807974786e-06, 3.588774168598255e-05, 2.881467488915196e-05, 9.200989464697134e-06, -5.143305470068396e-06, -9.019098071385608e-06, -6.016452057863748e-06, -1.8258688785386318e-06, 1.768674307390772e-07]\n",
            "57\n",
            "58\n",
            "[0.07221830090514725, 0.07682280042767678, -0.04365633923577278, -0.060214298228769524, 0.009798982704918798, 0.03532570197368415, 0.009063596606808052, -0.012938113623047589, -0.010832039990458127, 4.420300455817695e-05, 0.005031480166353845, 0.0031421689069842805, -0.00023616380568237743, -0.0016084505944926875, -0.0010450242415621512, -3.2308260006496906e-05, 0.00045972567587310734, 0.00037642550852516306, 8.859414139448049e-05, -0.00010353452251924924, -0.00012887311037702937, -6.160666846711228e-05, 7.37756677188522e-06, 3.5887741664566944e-05, 2.8814674887561115e-05, 9.200989475127057e-06, -5.1433054603959365e-06, -9.019098066744444e-06, -6.016452059595711e-06, -1.8258688822847188e-06, 1.7686742661608748e-07]\n",
            "59\n",
            "60\n",
            "[0.07221830090885566, 0.07682280042548151, -0.04365633923904658, -0.06021429822285728, 0.009798982705805398, 0.03532570196862152, 0.009063596605721634, -0.012938113619979381, -0.010832039988690444, 4.420300353583226e-05, 0.005031480164813407, 0.003142168906668375, -0.00023616380503528646, -0.001608450593887819, -0.0010450242414845677, -3.230826027248541e-05, 0.0004597256756271912, 0.00037642550847357694, 8.859414148234336e-05, -0.00010353452241843234, -0.00012887311033914358, -6.160666848639086e-05, 7.377566734567119e-06, 3.588774164242231e-05, 2.8814674885916116e-05, 9.200989485912028e-06, -5.143305450394214e-06, -9.019098061945286e-06, -6.016452061386634e-06, -1.8258688861583274e-06, 1.768674223527459e-07]\n",
            "61\n",
            "62\n",
            "[0.07221830091268615, 0.07682280042321397, -0.04365633924242815, -0.0602142982167504, 0.009798982706721186, 0.03532570196339222, 0.009063596604599449, -0.01293811361681017, -0.010832039986864567, 4.420300247983134e-05, 0.0050314801632222565, 0.003142168906342069, -0.0002361638043668928, -0.0016084505932630372, -0.00104502424140443, -3.2308260547230434e-05, 0.00045972567537317933, 0.0003764255084202926, 8.859414157309873e-05, -0.00010353452231429647, -0.00012887311030001058, -6.16066685063041e-05, 7.377566696020483e-06, 3.5887741619548674e-05, 2.8814674884216958e-05, 9.20098949705205e-06, -5.143305440063228e-06, -9.019098056988139e-06, -6.016452063236514e-06, -1.8258688901594575e-06, 1.7686741794905248e-07]\n",
            "63\n",
            "64\n",
            "[0.07221830091663871, 0.07682280042087417, -0.0436563392459175, -0.060214298210448894, 0.00979898270766616, 0.03532570195799627, 0.0090635966034415, -0.012938113613539949, -0.010832039984980498, 4.4203001390174193e-05, 0.0050314801615803945, 0.0031421689060053635, -0.0002361638036771965, -0.0016084505926183433, -0.001045024241321738, -3.230826083073196e-05, 0.00045972567511107183, 0.00037642550836531, 8.859414166674661e-05, -0.00010353452220684165, -0.00012887311025963036, -6.160666852685202e-05, 7.3775666562453105e-06, 3.588774159594601e-05, 2.8814674882463647e-05, 9.200989508547117e-06, -5.14330542940298e-06, -9.019098051873e-06, -6.016452065145353e-06, -1.8258688942881094e-06, 1.7686741340500717e-07]\n",
            "65\n",
            "66\n",
            "[0.07221830092071334, 0.07682280041846208, -0.04365633924951463, -0.06021429820395275, 0.009798982708640323, 0.03532570195243365, 0.009063596602247787, -0.012938113610168722, -0.010832039983038234, 4.4203000266860824e-05, 0.00503148015988782, 0.0031421689056582588, -0.0002361638029661976, -0.0016084505919537364, -0.0010450242412364922, -3.2308261122989994e-05, 0.0004597256748408685, 0.0003764255083086291, 8.859414176328698e-05, -0.00010353452209606789, -0.00012887311021800296, -6.160666854803459e-05, 7.377566615241604e-06, 3.588774157161434e-05, 2.881467488065618e-05, 9.200989520397233e-06, -5.1433054184134685e-06, -9.019098046599871e-06, -6.01645206711315e-06, -1.8258688985442826e-06, 1.7686740872061e-07]\n",
            "67\n",
            "68\n",
            "[0.07221830092491008, 0.07682280041597774, -0.04365633925321953, -0.06021429819726198, 0.009798982709643671, 0.035325701946704355, 0.009063596601018306, -0.012938113606696486, -0.010832039981037777, 4.420299910989123e-05, 0.005031480158144533, 0.003142168905300754, -0.00023616380223389602, -0.0016084505912692165, -0.0010450242411486925, -3.230826142400453e-05, 0.0004597256745625695, 0.00037642550825024994, 8.859414186271984e-05, -0.00010353452198197517, -0.0001288731101751283, -6.160666856985183e-05, 7.377566573009363e-06, 3.588774154655365e-05, 2.8814674878794564e-05, 9.200989532602397e-06, -5.143305407094694e-06, -9.01909804116875e-06, -6.016452069139905e-06, -1.8258689029279776e-06, 1.7686740389586095e-07]\n",
            "69\n",
            "70\n",
            "[0.07221830092922887, 0.07682280041342111, -0.0436563392570322, -0.06021429819037656, 0.009798982710676207, 0.035325701940808404, 0.00906359659975306, -0.012938113603123242, -0.010832039978979129, 4.42029979192654e-05, 0.005031480156350533, 0.0031421689049328494, -0.0002361638014802918, -0.0016084505905647843, -0.0010450242410583383, -3.230826173377558e-05, 0.00045972567427617474, 0.00037642550819017256, 8.859414196504521e-05, -0.00010353452186456349, -0.0001288731101310064, -6.160666859230372e-05, 7.3775665295485855e-06, 3.588774152076395e-05, 2.8814674876878793e-05, 9.20098954516261e-06, -5.143305395446658e-06, -9.019098035579637e-06, -6.0164520712256185e-06, -1.8258689074391941e-06, 1.7686739893076004e-07]\n",
            "71\n",
            "72\n",
            "[0.07221830093366978, 0.07682280041079222, -0.04365633926095265, -0.060214298183296516, 0.00979898271173793, 0.03532570193474578, 0.009063596598452048, -0.012938113599448992, -0.010832039976862287, 4.420299669498334e-05, 0.005031480154505821, 0.003142168904554545, -0.00023616380070538495, -0.0016084505898404393, -0.0010450242409654302, -3.230826205230314e-05, 0.00045972567398168434, 0.000376425508128397, 8.859414207026309e-05, -0.00010353452174383286, -0.0001288731100856373, -6.160666861539027e-05, 7.377566484859273e-06, 3.588774149424524e-05, 2.8814674874908865e-05, 9.200989558077868e-06, -5.143305383469358e-06, -9.019098029832532e-06, -6.01645207337029e-06, -1.8258689120779324e-06, 1.7686739382530728e-07]\n",
            "73\n",
            "74\n",
            "[0.07221830093823275, 0.07682280040809106, -0.04365633926498089, -0.060214298176021835, 0.00979898271282884, 0.03532570192851651, 0.009063596597115272, -0.012938113595673734, -0.010832039974687251, 4.4202995437045063e-05, 0.005031480152610396, 0.0031421689041658406, -0.00023616379990917547, -0.0016084505890961815, -0.0010450242408699682, -3.23082623795872e-05, 0.00045972567367909815, 0.0003764255080649232, 8.859414217837346e-05, -0.00010353452161978326, -0.00012887311003902097, -6.160666863911149e-05, 7.377566438941426e-06, 3.5887741466997505e-05, 2.8814674872884785e-05, 9.200989571348175e-06, -5.143305371162795e-06, -9.019098023927438e-06, -6.01645207557392e-06, -1.825868916844192e-06, 1.7686738857950262e-07]\n",
            "75\n",
            "76\n",
            "[0.07221830094291783, 0.07682280040531764, -0.043656339269116884, -0.06021429816855252, 0.009798982713948941, 0.03532570192212056, 0.009063596595742728, -0.012938113591797468, -0.010832039972454022, 4.420299414545056e-05, 0.00503148015066426, 0.0031421689037667367, -0.00023616379909166332, -0.0016084505883320111, -0.001045024240771952, -3.230826271562777e-05, 0.0004597256733684164, 0.0003764255079997511, 8.859414228937631e-05, -0.00010353452149241471, -0.0001288731099911574, -6.160666866346738e-05, 7.377566391795044e-06, 3.588774143902076e-05, 2.881467487080655e-05, 9.20098958497353e-06, -5.1433053585269685e-06, -9.019098017864351e-06, -6.0164520778365065e-06, -1.8258689217379734e-06, 1.7686738319334613e-07]\n",
            "77\n",
            "78\n",
            "[0.07221830094772498, 0.07682280040247194, -0.043656339273360656, -0.06021429816088857, 0.009798982715098227, 0.03532570191555794, 0.00906359659433442, -0.012938113587820195, -0.010832039970162598, 4.420299282019983e-05, 0.005031480148667412, 0.003142168903357233, -0.00023616379825284857, -0.0016084505875479283, -0.0010450242406713818, -3.230826306042485e-05, 0.0004597256730496388, 0.0003764255079328807, 8.859414240327168e-05, -0.00010353452136172722, -0.00012887310994204662, -6.160666868845792e-05, 7.377566343420125e-06, 3.5887741410314995e-05, 2.8814674868674157e-05, 9.200989598953935e-06, -5.14330534556188e-06, -9.019098011643274e-06, -6.016452080158052e-06, -1.8258689267592764e-06, 1.7686737766683776e-07]\n",
            "79\n",
            "80\n",
            "[0.0722183009526542, 0.07682280039955397, -0.04365633927771221, -0.060214298153029984, 0.0097989827162767, 0.035325701908828666, 0.009063596592890348, -0.012938113583741915, -0.010832039967812982, 4.420299146129288e-05, 0.005031480146619851, 0.003142168902937329, -0.00023616379739273117, -0.0016084505867439323, -0.0010450242405682577, -3.230826341397844e-05, 0.00045972567272276554, 0.0003764255078643121, 8.859414252005954e-05, -0.00010353452122772075, -0.00012887310989168863, -6.160666871408315e-05, 7.377566293816671e-06, 3.588774138088022e-05, 2.8814674866487613e-05, 9.200989613289386e-06, -5.1433053322675275e-06, -9.019098005264204e-06, -6.016452082538556e-06, -1.825868931908101e-06, 1.7686737199997757e-07]\n",
            "81\n",
            "82\n",
            "[0.07221830095770551, 0.07682280039656374, -0.04365633928217153, -0.06021429814497677, 0.009798982717484361, 0.035325701901932724, 0.00906359659141051, -0.012938113579562628, -0.010832039965405174, 4.4202990068729706e-05, 0.005031480144521579, 0.003142168902507025, -0.00023616379651131115, -0.001608450585920024, -0.0010450242404625792, -3.2308263776288534e-05, 0.00045972567238779656, 0.0003764255077940452, 8.859414263973993e-05, -0.00010353452109039532, -0.00012887310984008342, -6.160666874034303e-05, 7.377566242984683e-06, 3.588774135071642e-05, 2.8814674864246916e-05, 9.200989627979887e-06, -5.143305318643913e-06, -9.019097998727143e-06, -6.016452084978018e-06, -1.8258689371844472e-06, 1.768673661927655e-07]\n",
            "83\n",
            "84\n",
            "[0.0722183009628789, 0.07682280039350124, -0.043656339286738635, -0.06021429813672892, 0.009798982718721209, 0.035325701894870117, 0.009063596589894904, -0.012938113575282333, -0.010832039962939173, 4.4202988642510294e-05, 0.005031480142372594, 0.0031421689020663217, -0.00023616379560858846, -0.0016084505850762032, -0.0010450242403543465, -3.230826414735514e-05, 0.0004597256720447319, 0.0003764255077220801, 8.859414276231282e-05, -0.00010353452094975098, -0.00012887310978723098, -6.160666876723759e-05, 7.3775661909241585e-06, 3.588774131982362e-05, 2.881467486195206e-05, 9.200989643025435e-06, -5.143305304691034e-06, -9.01909799203209e-06, -6.0164520874764385e-06, -1.8258689425883152e-06, 1.7686736024520156e-07]\n",
            "85\n",
            "86\n",
            "[0.07221830096817439, 0.07682280039036647, -0.04365633929141351, -0.060214298128286436, 0.009798982719987245, 0.035325701887640844, 0.009063596588343534, -0.012938113570901032, -0.010832039960414977, 4.4202987182634664e-05, 0.005031480140172897, 0.0031421689016152186, -0.00023616379468456312, -0.0016084505842124696, -0.00104502424024356, -3.230826452717826e-05, 0.0004597256716935715, 0.0003764255076484168, 8.85941428877782e-05, -0.00010353452080578766, -0.0001288731097331313, -6.160666879476679e-05, 7.377566137635099e-06, 3.5887741288201785e-05, 2.881467485960305e-05, 9.20098965842603e-06, -5.143305290408893e-06, -9.019097985179049e-06, -6.016452090033817e-06, -1.8258689481197048e-06, 1.7686735415728576e-07]\n",
            "87\n",
            "88\n",
            "[0.07221830097359194, 0.0768228003871594, -0.04365633929619616, -0.060214298119649304, 0.009798982721282467, 0.035325701880244906, 0.009063596586756399, -0.012938113566418724, -0.010832039957832587, 4.420298568910281e-05, 0.005031480137922489, 0.0031421689011537158, -0.00023616379373923515, -0.0016084505833288234, -0.001045024240130219, -3.230826491575788e-05, 0.0004597256713343153, 0.0003764255075730552, 8.859414301613608e-05, -0.00010353452065850538, -0.0001288731096777844, -6.160666882293067e-05, 7.377566083117505e-06, 3.588774125585094e-05, 2.881467485719989e-05, 9.200989674181673e-06, -5.1433052757974884e-06, -9.019097978168015e-06, -6.016452092650154e-06, -1.8258689537786159e-06, 1.7686734792901815e-07]\n",
            "89\n",
            "90\n",
            "[0.0722183009791316, 0.07682280038388009, -0.04365633930108659, -0.06021429811081754, 0.009798982722606878, 0.03532570187268231, 0.009063596585133496, -0.012938113561835406, -0.010832039955192005, 4.4202984161914725e-05, 0.005031480135621368, 0.003142168900681813, -0.00023616379277260457, -0.0016084505824252645, -0.001045024240014324, -3.230826531309401e-05, 0.00045972567096696343, 0.00037642550749599537, 8.859414314738647e-05, -0.00010353452050790414, -0.0001288731096211903, -6.16066688517292e-05, 7.3775660273713765e-06, 3.5887741222771086e-05, 2.8814674854742573e-05, 9.200989690292365e-06, -5.143305260856821e-06, -9.01909797099899e-06, -6.016452095325449e-06, -1.8258689595650488e-06, 1.7686734156039865e-07]\n",
            "91\n",
            "92\n",
            "[0.07221830098479332, 0.07682280038052851, -0.0436563393060848, -0.060214298101791144, 0.009798982723960474, 0.035325701864953034, 0.00906359658347483, -0.012938113557151082, -0.010832039952493232, 4.420298260107041e-05, 0.005031480133269535, 0.0031421689001995107, -0.0002361637917846713, -0.0016084505815017929, -0.0010450242398958752, -3.230826571918664e-05, 0.0004597256705915159, 0.0003764255074172373, 8.859414328152935e-05, -0.00010353452035398396, -0.00012887310956334892, -6.16066688811624e-05, 7.3775659703967124e-06, 3.588774118896221e-05, 2.88146748522311e-05, 9.200989706758105e-06, -5.1433052455868895e-06, -9.019097963671976e-06, -6.016452098059703e-06, -1.8258689654790032e-06, 1.7686733505142728e-07]\n",
            "93\n",
            "94\n",
            "[0.07221830099057715, 0.07682280037710464, -0.04365633931119078, -0.06021429809257011, 0.00979898272534326, 0.035325701857057114, 0.009063596581780397, -0.012938113552365748, -0.010832039949736263, 4.420298100656987e-05, 0.00503148013086699, 0.0031421688997068085, -0.00023616379077543543, -0.0016084505805584086, -0.0010450242397748721, -3.2308266134035785e-05, 0.00045972567020797264, 0.00037642550733678093, 8.859414341856474e-05, -0.00010353452019674481, -0.0001288731095042604, -6.160666891123026e-05, 7.3775659121935135e-06, 3.588774115442433e-05, 2.881467484966547e-05, 9.200989723578892e-06, -5.143305229987696e-06, -9.01909795618697e-06, -6.016452100852914e-06, -1.8258689715204793e-06, 1.7686732840210408e-07]\n",
            "95\n",
            "96\n",
            "[0.07221830099648303, 0.07682280037360853, -0.04365633931640453, -0.06021429808315444, 0.009798982726755234, 0.035325701848994515, 0.009063596580050199, -0.012938113547479412, -0.010832039946921104, 4.420297937841311e-05, 0.0050314801284137315, 0.003142168899203707, -0.00023616378974489693, -0.0016084505795951117, -0.001045024239651315, -3.2308266557641434e-05, 0.00045972566981633366, 0.0003764255072546263, 8.859414355849262e-05, -0.00010353452003618672, -0.00012887310944392462, -6.160666894193278e-05, 7.37756585276178e-06, 3.5887741119157435e-05, 2.881467484704569e-05, 9.200989740754726e-06, -5.14330521405924e-06, -9.019097948543971e-06, -6.016452103705083e-06, -1.8258689776894765e-06, 1.7686732161242903e-07]\n",
            "97\n",
            "98\n",
            "[0.07221830100251102, 0.07682280037004013, -0.04365633932172606, -0.060214298073544135, 0.009798982728196393, 0.03532570184076525, 0.009063596578284235, -0.012938113542492068, -0.010832039944047751, 4.420297771660013e-05, 0.005031480125909762, 0.003142168898690205, -0.00023616378869305575, -0.001608450578611902, -0.0010450242395252036, -3.230826699000359e-05, 0.00045972566941659894, 0.00037642550717077353, 8.859414370131299e-05, -0.00010353451987230967, -0.00012887310938234164, -6.160666897326995e-05, 7.377565792101511e-06, 3.588774108316153e-05, 2.8814674844371755e-05, 9.20098975828561e-06, -5.143305197801521e-06, -9.01909794074298e-06, -6.016452106616212e-06, -1.825868983985996e-06, 1.7686731468240213e-07]\n",
            "99\n",
            "100\n",
            "[0.07221830100866107, 0.07682280036639946, -0.04365633932715537, -0.0602142980637392, 0.009798982729666741, 0.03532570183236933, 0.009063596576482508, -0.012938113537403715, -0.010832039941116204, 4.420297602113092e-05, 0.00503148012335508, 0.003142168898166303, -0.00023616378761991193, -0.0016084505776087798, -0.0010450242393965383, -3.2308267431122254e-05, 0.00045972566900876854, 0.0003764255070852225, 8.859414384702587e-05, -0.00010353451970511365, -0.0001288731093195114, -6.160666900524178e-05, 7.377565730212706e-06, 3.58877410464366e-05, 2.8814674841643666e-05, 9.200989776171542e-06, -5.143305181214539e-06, -9.019097932784001e-06, -6.016452109586299e-06, -1.825868990410037e-06, 1.7686730761202338e-07]\n",
            "101\n",
            "102\n",
            "[0.0722183010149332, 0.07682280036268653, -0.04365633933269246, -0.06021429805373963, 0.009798982731166276, 0.03532570182380674, 0.009063596574645014, -0.012938113532214355, -0.010832039938126464, 4.420297429200548e-05, 0.005031480120749685, 0.003142168897632001, -0.0002361637865254655, -0.0016084505765857448, -0.0010450242392653186, -3.2308267880997424e-05, 0.0004597256685928424, 0.0003764255069979732, 8.859414399563125e-05, -0.0001035345195345987, -0.00012887310925543393, -6.160666903784828e-05, 7.377565667095367e-06, 3.588774100898266e-05, 2.881467483886142e-05, 9.200989794412522e-06, -5.143305164298294e-06, -9.019097924667029e-06, -6.016452112615343e-06, -1.8258689969615992e-06, 1.7686730040129276e-07]\n",
            "103\n",
            "104\n",
            "[0.07221830102132744, 0.07682280035890134, -0.043656339338337326, -0.06021429804354543, 0.009798982732694998, 0.035325701815077486, 0.009063596572771754, -0.012938113526923986, -0.010832039935078532, 4.420297252922382e-05, 0.005031480118093579, 0.0031421688970872997, -0.00023616378540971647, -0.0016084505755427972, -0.0010450242391315452, -3.23082683396291e-05, 0.0004597256681688206, 0.0003764255069090256, 8.859414414712913e-05, -0.00010353451936076478, -0.00012887310919010926, -6.160666907108946e-05, 7.377565602749492e-06, 3.58877409707997e-05, 2.8814674836025018e-05, 9.200989813008549e-06, -5.143305147052786e-06, -9.019097916392066e-06, -6.0164521157033465e-06, -1.8258690036406835e-06, 1.768672930502103e-07]\n",
            "105\n",
            "106\n",
            "[0.07221830102784374, 0.07682280035504387, -0.04365633934408995, -0.060214298033156595, 0.009798982734252908, 0.03532570180618156, 0.009063596570862727, -0.012938113521532612, -0.010832039931972405, 4.420297073278594e-05, 0.0050314801153867605, 0.0031421688965321986, -0.00023616378427266475, -0.001608450574479937, -0.0010450242389952176, -3.2308268807017284e-05, 0.00045972566773670303, 0.0003764255068183798, 8.859414430151949e-05, -0.0001035345191836119, -0.00012887310912353733, -6.16066691049653e-05, 7.377565537175083e-06, 3.588774093188773e-05, 2.8814674833134464e-05, 9.200989831959625e-06, -5.143305129478014e-06, -9.01909790795911e-06, -6.016452118850307e-06, -1.8258690104472893e-06, 1.7686728555877603e-07]\n",
            "107\n",
            "108\n",
            "[0.07221830103448214, 0.07682280035111413, -0.04365633934995035, -0.06021429802257312, 0.009798982735840006, 0.03532570179711897, 0.009063596568917935, -0.01293811351604023, -0.010832039928808084, 4.4202968902691824e-05, 0.005031480112629229, 0.003142168895966698, -0.00023616378311431036, -0.001608450573397164, -0.0010450242388563358, -3.230826928316198e-05, 0.0004597256672964898, 0.00037642550672603575, 8.859414445880237e-05, -0.00010353451900314008, -0.00012887310905571823, -6.16066691394758e-05, 7.377565470372138e-06, 3.588774089224674e-05, 2.8814674830189754e-05, 9.20098985126575e-06, -5.14330511157398e-06, -9.019097899368164e-06, -6.0164521220562266e-06, -1.8258690173814165e-06, 1.7686727792698988e-07]\n",
            "109\n",
            "110\n",
            "[0.0722183010412426, 0.0768228003471121, -0.04365633935591853, -0.060214298011795016, 0.009798982737456292, 0.03532570178788972, 0.00906359656693738, -0.01293811351044684, -0.01083203992558557, 4.4202967038941486e-05, 0.005031480109820987, 0.003142168895390797, -0.00023616378193465335, -0.0016084505722944783, -0.0010450242387149, -3.2308269768063184e-05, 0.0004597256668481808, 0.00037642550663199347, 8.859414461897774e-05, -0.00010353451881934929, -0.00012887310898665187, -6.160666917462095e-05, 7.377565402340656e-06, 3.588774085187674e-05, 2.881467482719089e-05, 9.20098987092692e-06, -5.143305093340683e-06, -9.019097890619226e-06, -6.016452125321104e-06, -1.8258690244430658e-06, 1.7686727015485188e-07]\n",
            "111\n",
            "112\n",
            "[0.07221830104812516, 0.07682280034303782, -0.04365633936199449, -0.06021429800082227, 0.009798982739101764, 0.0353257017784938, 0.009063596564921056, -0.012938113504752442, -0.010832039922304864, 4.4202965141534924e-05, 0.005031480106962032, 0.0031421688948044964, -0.00023616378073369371, -0.0016084505711718804, -0.00104502423857091, -3.23082702617209e-05, 0.00045972566639177615, 0.00037642550653625294, 8.859414478204562e-05, -0.00010353451863223955, -0.00012887310891633832, -6.16066692104008e-05, 7.37756533308064e-06, 3.5887740810777716e-05, 2.881467482413787e-05, 9.200989890943139e-06, -5.143305074778123e-06, -9.0190978817123e-06, -6.016452128644939e-06, -1.8258690316322366e-06, 1.7686726224236206e-07]\n",
            "113\n",
            "114\n",
            "[0.0722183010551298, 0.07682280033889127, -0.043656339368178226, -0.06021429798965489, 0.009798982740776424, 0.035325701768931225, 0.009063596562868969, -0.01293811349895704, -0.010832039918965964, 4.420296321047214e-05, 0.0050314801040523644, 0.0031421688942077962, -0.00023616377951143146, -0.0016084505700293694, -0.0010450242384243658, -3.2308270764135115e-05, 0.00045972566592727575, 0.0003764255064388141, 8.859414494800602e-05, -0.00010353451844181085, -0.0001288731088447775, -6.160666924681531e-05, 7.377565262592089e-06, 3.5887740768949684e-05, 2.88146748210307e-05, 9.200989911314407e-06, -5.1433050558862995e-06, -9.019097872647381e-06, -6.016452132027734e-06, -1.8258690389489288e-06, 1.7686725418952038e-07]\n",
            "115\n",
            "116\n",
            "[0.07221830106225652, 0.07682280033467244, -0.04365633937446973, -0.060214297978292884, 0.00979898274248027, 0.03532570175920197, 0.009063596560781116, -0.012938113493060628, -0.010832039915568872, 4.420296124575313e-05, 0.005031480101091985, 0.003142168893600696, -0.00023616377826786653, -0.001608450568866946, -0.0010450242382752677, -3.2308271275305845e-05, 0.00045972566545467966, 0.00037642550633967706, 8.859414511685889e-05, -0.00010353451824806319, -0.00012887310877196946, -6.160666928386446e-05, 7.377565190875002e-06, 3.5887740726392635e-05, 2.8814674817869375e-05, 9.20098993204072e-06, -5.1433050366652135e-06, -9.019097863424471e-06, -6.016452135469486e-06, -1.8258690463931428e-06, 1.7686724599632688e-07]\n",
            "117\n",
            "118\n",
            "[0.07221830106950533, 0.07682280033038136, -0.04365633938086901, -0.06021429796673623, 0.009798982744213303, 0.03532570174930607, 0.009063596558657497, -0.01293811348706321, -0.010832039912113588, 4.4202959247377895e-05, 0.005031480098080894, 0.0031421688929831955, -0.00023616377700299898, -0.0016084505676846098, -0.0010450242381236155, -3.230827179523307e-05, 0.0004597256649739879, 0.00037642550623884176, 8.859414528860427e-05, -0.00010353451805099658, -0.00012887310869791422, -6.160666932154826e-05, 7.37756511792938e-06, 3.5887740683106574e-05, 2.8814674814653896e-05, 9.200989953122085e-06, -5.143305017114865e-06, -9.01909785404357e-06, -6.016452138970197e-06, -1.8258690539648786e-06, 1.7686723766278155e-07]\n",
            "119\n",
            "120\n",
            "[0.0722183010768762, 0.076822800326018, -0.04365633938737607, -0.06021429795498496, 0.009798982745975526, 0.035325701739243494, 0.00906359655649811, -0.012938113480964785, -0.010832039908600108, 4.420295721534643e-05, 0.00503148009501909, 0.0031421688923552954, -0.0002361637757168288, -0.001608450566482361, -0.001045024237969409, -3.230827232391681e-05, 0.00045972566448520034, 0.0003764255061363082, 8.859414546324215e-05, -0.00010353451785061101, -0.00012887310862261172, -6.160666935986673e-05, 7.377565043755224e-06, 3.588774063909149e-05, 2.8814674811384264e-05, 9.200989974558496e-06, -5.143304997235253e-06, -9.019097844504677e-06, -6.016452142529866e-06, -1.8258690616641357e-06, 1.7686722918888433e-07]\n",
            "121\n",
            "122\n",
            "[0.07221830108436918, 0.07682280032158237, -0.043656339393990905, -0.06021429794303904, 0.009798982747766935, 0.03532570172901425, 0.009063596554302961, -0.01293811347476535, -0.010832039905028436, 4.420295514965874e-05, 0.005031480091906575, 0.003142168891716996, -0.00023616377440935599, -0.0016084505652601993, -0.0010450242378126486, -3.230827286135706e-05, 0.0004597256639883171, 0.0003764255060320764, 8.859414564077253e-05, -0.0001035345176469065, -0.00012887310854606203, -6.160666939881988e-05, 7.377564968352534e-06, 3.5887740594347394e-05, 2.8814674808060476e-05, 9.200989996349957e-06, -5.1433049770263776e-06, -9.019097834807792e-06, -6.016452146148493e-06, -1.8258690694909146e-06, 1.768672205746353e-07]\n",
            "123\n",
            "124\n",
            "[0.07221830109198422, 0.07682280031707446, -0.04365633940071352, -0.0602142979308985, 0.00979898274958753, 0.035325701718618346, 0.009063596552072046, -0.012938113468464909, -0.010832039901398569, 4.420295305031483e-05, 0.0050314800887433465, 0.0031421688910682967, -0.0002361637730805805, -0.0016084505640181252, -0.001045024237653334, -3.230827340755382e-05, 0.0004597256634833381, 0.0003764255059261464, 8.859414582119542e-05, -0.00010353451743988302, -0.0001288731084682651, -6.160666943840768e-05, 7.377564891721307e-06, 3.588774054887429e-05, 2.881467480468253e-05, 9.200990018496463e-06, -5.143304956488239e-06, -9.019097824952917e-06, -6.016452149826078e-06, -1.8258690774452153e-06, 1.768672118200344e-07]\n",
            "125\n",
            "126\n",
            "[0.07221830109972137, 0.07682280031249429, -0.043656339407543904, -0.06021429791856331, 0.009798982751437315, 0.03532570170805578, 0.009063596549805365, -0.01293811346206346, -0.01083203989771051, 4.420295091731469e-05, 0.005031480085529405, 0.0031421688904091976, -0.00023616377173050237, -0.0016084505627561383, -0.0010450242374914652, -3.230827396250708e-05, 0.00045972566297026345, 0.00037642550581851815, 8.859414600451081e-05, -0.0001035345172295406, -0.00012887310838922096, -6.160666947863015e-05, 7.377564813861546e-06, 3.5887740502672165e-05, 2.8814674801250433e-05, 9.200990040998017e-06, -5.143304935620838e-06, -9.019097814940051e-06, -6.016452153562622e-06, -1.8258690855270372e-06, 1.768672029250817e-07]\n",
            "127\n",
            "128\n",
            "[0.07221830110758058, 0.07682280030784186, -0.04365633941448207, -0.06021429790603349, 0.009798982753316286, 0.03532570169732655, 0.009063596547502918, -0.012938113455561003, -0.010832039893964258, 4.420294875065833e-05, 0.005031480082264753, 0.0031421688897396985, -0.00023616377035912164, -0.0016084505614742386, -0.0010450242373270426, -3.230827452621686e-05, 0.0004597256624490931, 0.00037642550570919154, 8.859414619071868e-05, -0.00010353451701587921, -0.0001288731083089296, -6.160666951948727e-05, 7.377564734773249e-06, 3.5887740455741024e-05, 2.8814674797764184e-05, 9.20099006385462e-06, -5.143304914424174e-06, -9.019097804769193e-06, -6.016452157358124e-06, -1.8258690937363808e-06, 1.7686719388977714e-07]\n",
            "129\n",
            "130\n",
            "[0.07221830111556188, 0.07682280030311715, -0.04365633942152801, -0.06021429789330904, 0.009798982755224443, 0.03532570168643065, 0.009063596545164705, -0.012938113448957539, -0.010832039890159814, 4.420294655034574e-05, 0.0050314800789493875, 0.0031421688890597996, -0.00023616376896643825, -0.0016084505601724267, -0.001045024237160066, -3.2308275098683135e-05, 0.000459725661919827, 0.00037642550559816674, 8.859414637981907e-05, -0.00010353451679889887, -0.00012887310822739102, -6.160666956097905e-05, 7.377564654456418e-06, 3.588774040808087e-05, 2.8814674794223776e-05, 9.20099008706627e-06, -5.143304892898247e-06, -9.019097794440346e-06, -6.016452161212583e-06, -1.8258691020732462e-06, 1.7686718471412077e-07]\n",
            "131\n",
            "132\n",
            "[0.07221830112366527, 0.07682280029832017, -0.043656339428681724, -0.06021429788038995, 0.009798982757161791, 0.03532570167536808, 0.009063596542790727, -0.01293811344225307, -0.010832039886297174, 4.4202944316376926e-05, 0.00503148007558331, 0.0031421688883695002, -0.00023616376755245222, -0.0016084505588507016, -0.0010450242369905351, -3.230827567990592e-05, 0.0004597256613824652, 0.0003764255054854437, 8.859414657181196e-05, -0.00010353451657859959, -0.0001288731081446052, -6.160666960310553e-05, 7.377564572911051e-06, 3.58877403596917e-05, 2.8814674790629212e-05, 9.200990110632969e-06, -5.143304871043057e-06, -9.019097783953504e-06, -6.016452165126002e-06, -1.8258691105376333e-06, 1.7686717539811254e-07]\n",
            "133\n",
            "134\n",
            "[0.07221830113189075, 0.07682280029345093, -0.043656339435943214, -0.06021429786727622, 0.009798982759128326, 0.03532570166413886, 0.009063596540380983, -0.012938113435447594, -0.010832039882376342, 4.4202942048751894e-05, 0.005031480072166521, 0.003142168887668801, -0.00023616376611716353, -0.001608450557509064, -0.0010450242368184501, -3.2308276269885213e-05, 0.00045972566083700764, 0.00037642550537102243, 8.859414676669735e-05, -0.00010353451635498133, -0.00012887310806057213, -6.160666964586665e-05, 7.377564490137149e-06, 3.5887740310573515e-05, 2.88146747869805e-05, 9.200990134554716e-06, -5.1433048488586044e-06, -9.019097773308673e-06, -6.016452169098378e-06, -1.825869119129542e-06, 1.7686716594175252e-07]\n",
            "135\n",
            "136\n",
            "[0.0722183011402383, 0.07682280028850942, -0.04365633944331248, -0.06021429785396786, 0.009798982761124047, 0.035325701652742965, 0.009063596537935474, -0.01293811342854111, -0.010832039878397317, 4.420293974747064e-05, 0.005031480068699019, 0.0031421688869577025, -0.00023616376466057223, -0.0016084505561475139, -0.0010450242366438112, -3.230827686862102e-05, 0.00045972566028345445, 0.00037642550525490297, 8.859414696447524e-05, -0.00010353451612804411, -0.0001288731079752919, -6.160666968926242e-05, 7.3775644061347114e-06, 3.5887740260726324e-05, 2.881467478327763e-05, 9.20099015883151e-06, -5.143304826344889e-06, -9.019097762505852e-06, -6.016452173129713e-06, -1.8258691278489721e-06, 1.7686715634504062e-07]\n",
            "137\n",
            "138\n",
            "[0.07221830114870793, 0.07682280028349563, -0.04365633945078952, -0.06021429784046488, 0.009798982763148955, 0.03532570164118041, 0.0090635965354542, -0.01293811342153362, -0.010832039874360096, 4.420293741253315e-05, 0.005031480065180805, 0.0031421688862362037, -0.00023616376318267828, -0.0016084505547660512, -0.001045024236466618, -3.230827747611333e-05, 0.00045972565972180547, 0.0003764255051370852, 8.859414716514563e-05, -0.00010353451589778796, -0.0001288731078887644, -6.160666973329286e-05, 7.377564320903739e-06, 3.588774021015011e-05, 2.881467477952061e-05, 9.200990183463353e-06, -5.1433048035019095e-06, -9.01909775154504e-06, -6.016452177220006e-06, -1.8258691366959242e-06, 1.768671466079769e-07]\n",
            "139\n",
            "140\n",
            "[0.07221830115729964, 0.07682280027840957, -0.043656339458374334, -0.06021429782676725, 0.009798982765203048, 0.03532570162945118, 0.009063596532937162, -0.012938113414425122, -0.010832039870264685, 4.420293504393944e-05, 0.005031480061611879, 0.003142168885504305, -0.0002361637616834817, -0.0016084505533646757, -0.001045024236286871, -3.230827809236214e-05, 0.00045972565915206086, 0.0003764255050175692, 8.85941473687085e-05, -0.00010353451566421286, -0.0001288731078009897, -6.160666977795796e-05, 7.3775642344442315e-06, 3.588774015884488e-05, 2.8814674775709428e-05, 9.200990208450244e-06, -5.143304780329667e-06, -9.019097740426236e-06, -6.016452181369257e-06, -1.8258691456703977e-06, 1.7686713673056137e-07]\n",
            "141\n",
            "142\n",
            "[0.07221830116601344, 0.07682280027325125, -0.043656339466066924, -0.060214297812874996, 0.009798982767286331, 0.03532570161755529, 0.009063596530384355, -0.012938113407215616, -0.010832039866111082, 4.4202932641689505e-05, 0.005031480057992243, 0.003142168884762007, -0.00023616376016298248, -0.0016084505519433877, -0.0010450242361045698, -3.230827871736746e-05, 0.0004597256585742204, 0.000376425504896355, 8.85941475751639e-05, -0.00010353451542731879, -0.0001288731077119678, -6.160666982325772e-05, 7.377564146756189e-06, 3.588774010681064e-05, 2.8814674771844092e-05, 9.200990233792184e-06, -5.143304756828162e-06, -9.01909772914944e-06, -6.016452185577467e-06, -1.8258691547723927e-06, 1.7686712671279403e-07]\n",
            "143\n",
            "144\n",
            "[0.07221830117484931, 0.07682280026802066, -0.04365633947386728, -0.060214297798788105, 0.009798982769398801, 0.03532570160549273, 0.009063596527795785, -0.012938113399905103, -0.010832039861899284, 4.420293020578335e-05, 0.005031480054321893, 0.003142168884009309, -0.00023616375862118064, -0.001608450550502187, -0.0010450242359197146, -3.230827935112929e-05, 0.0004597256579882844, 0.0003764255047734425, 8.85941477845118e-05, -0.00010353451518710576, -0.00012887310762169863, -6.160666986919217e-05, 7.377564057839612e-06, 3.5887740054047385e-05, 2.8814674767924606e-05, 9.20099025948917e-06, -5.143304732997395e-06, -9.019097717714652e-06, -6.016452189844634e-06, -1.8258691640019098e-06, 1.7686711655467483e-07]\n",
            "145\n",
            "146\n",
            "[0.07221830118380727, 0.0768228002627178, -0.04365633948177542, -0.06021429778450658, 0.009798982771540461, 0.035325701593263516, 0.009063596525171448, -0.01293811339249358, -0.010832039857629292, 4.4202927736220964e-05, 0.005031480050600832, 0.0031421688832462117, -0.00023616375705807612, -0.0016084505490410734, -0.001045024235732305, -3.2308279993647635e-05, 0.00045972565739425255, 0.00037642550464883173, 8.85941479967522e-05, -0.00010353451494357379, -0.00012887310753018224, -6.160666991576127e-05, 7.377563967694499e-06, 3.5887740000555106e-05, 2.881467476395096e-05, 9.200990285541205e-06, -5.143304708837364e-06, -9.019097706121874e-06, -6.016452194170759e-06, -1.825869173358948e-06, 1.7686710625620378e-07]\n",
            "147\n",
            "148\n",
            "[0.07221830119288733, 0.07682280025734267, -0.043656339489791335, -0.06021429777003041, 0.009798982773711308, 0.03532570158086764, 0.009063596522511345, -0.012938113384981053, -0.010832039853301105, 4.420292523300235e-05, 0.005031480046829058, 0.003142168882472714, -0.00023616375547366896, -0.0016084505475600474, -0.0010450242355423414, -3.230828064492248e-05, 0.0004597256567921251, 0.0003764255045225227, 8.859414821188508e-05, -0.00010353451469672284, -0.00012887310743741866, -6.160666996296503e-05, 7.37756387632085e-06, 3.588773994633382e-05, 2.881467475992316e-05, 9.200990311948289e-06, -5.143304684348071e-06, -9.019097694371105e-06, -6.016452198555843e-06, -1.8258691828435082e-06, 1.7686709581738094e-07]\n",
            "149\n",
            "150\n",
            "[0.07221830120208947, 0.07682280025189527, -0.043656339497915024, -0.0602142977553596, 0.009798982775911342, 0.03532570156830509, 0.009063596519815477, -0.01293811337736752, -0.010832039848914727, 4.4202922696127526e-05, 0.00503148004300657, 0.0031421688816888164, -0.00023616375386795917, -0.0016084505460591087, -0.0010450242353498237, -3.230828130495384e-05, 0.00045972565618190186, 0.0003764255043945154, 8.859414842991047e-05, -0.00010353451444655296, -0.00012887310734340784, -6.160667001080345e-05, 7.377563783718667e-06, 3.5887739891383516e-05, 2.8814674755841207e-05, 9.20099033871042e-06, -5.143304659529515e-06, -9.019097682462343e-06, -6.016452202999886e-06, -1.8258691924555902e-06, 1.7686708523820627e-07]\n",
            "151\n",
            "152\n",
            "[0.07221830121141369, 0.07682280024637558, -0.04365633950614649, -0.06021429774049416, 0.00979898277814056, 0.03532570155557588, 0.009063596517083845, -0.012938113369652978, -0.010832039844470155, 4.420292012559648e-05, 0.005031480039133371, 0.003142168880894519, -0.00023616375224094676, -0.0016084505445382571, -0.0010450242351547519, -3.23082819737417e-05, 0.000459725655563583, 0.0003764255042648099, 8.859414865082835e-05, -0.00010353451419306412, -0.0001288731072481498, -6.160667005927654e-05, 7.377563689887948e-06, 3.588773983570419e-05, 2.8814674751705097e-05, 9.200990365827599e-06, -5.143304634381695e-06, -9.01909767039559e-06, -6.016452207502887e-06, -1.8258692021951935e-06, 1.768670745186798e-07]\n",
            "153\n",
            "154\n",
            "[0.07221830122086, 0.07682280024078364, -0.04365633951448574, -0.06021429772543408, 0.009798982780398965, 0.03532570154268, 0.009063596514316445, -0.012938113361837427, -0.01083203983996739, 4.42029175214092e-05, 0.005031480035209459, 0.003142168880089822, -0.0002361637505926317, -0.001608450542997493, -0.001045024234957126, -3.2308282651286074e-05, 0.0004597256549371683, 0.0003764255041334062, 8.859414887463874e-05, -0.0001035345139362563, -0.00012887310715164454, -6.16066701083843e-05, 7.377563594828695e-06, 3.5887739779295863e-05, 2.8814674747514836e-05, 9.200990393299825e-06, -5.143304608904611e-06, -9.019097658170846e-06, -6.016452212064846e-06, -1.8258692120623186e-06, 1.7686706365880146e-07]\n",
            "155\n",
            "156\n",
            "[0.07221830123042837, 0.07682280023511943, -0.04365633952293276, -0.06021429771017937, 0.00979898278268656, 0.035325701529617455, 0.00906359651151328, -0.01293811335392087, -0.010832039835406433, 4.420291488356569e-05, 0.005031480031234835, 0.0031421688792747254, -0.000236163748923014, -0.0016084505414368164, -0.0010450242347569462, -3.230828333758694e-05, 0.000459725654302658, 0.00037642550400030417, 8.859414910134164e-05, -0.00010353451367612955, -0.00012887310705389203, -6.16066701581267e-05, 7.377563498540907e-06, 3.588773972215851e-05, 2.881467474327042e-05, 9.200990421127102e-06, -5.143304583098265e-06, -9.019097645788112e-06, -6.016452216685763e-06, -1.8258692220569654e-06, 1.7686705265857134e-07]\n",
            "157\n",
            "158\n",
            "[0.07221830124011883, 0.07682280022938295, -0.04365633953148755, -0.06021429769473003, 0.009798982785003341, 0.03532570151638826, 0.00906359650867435, -0.012938113345903304, -0.010832039830787283, 4.4202912212065957e-05, 0.005031480027209499, 0.0031421688784492286, -0.00023616374723209367, -0.0016084505398562268, -0.0010450242345542123, -3.230828403264434e-05, 0.0004597256536600519, 0.00037642550386550396, 8.859414933093702e-05, -0.00010353451341268384, -0.00012887310695489234, -6.160667020850376e-05, 7.377563401024583e-06, 3.588773966429215e-05, 2.8814674738971848e-05, 9.200990449309425e-06, -5.143304556962656e-06, -9.019097633247386e-06, -6.016452221365638e-06, -1.8258692321791336e-06, 1.7686704151798943e-07]\n",
            "159\n",
            "160\n",
            "[0.07221830124993138, 0.0768228002235742, -0.043656339540150114, -0.06021429767908605, 0.009798982787349314, 0.035325701502992385, 0.009063596505799654, -0.012938113337784732, -0.010832039826109937, 4.4202909506910006e-05, 0.005031480023133451, 0.003142168877613332, -0.0002361637455198707, -0.0016084505382557247, -0.0010450242343489242, -3.230828473645823e-05, 0.0004597256530093501, 0.0003764255037290055, 8.85941495634249e-05, -0.00010353451314591918, -0.0001288731068546454, -6.16066702595155e-05, 7.377563302279724e-06, 3.5887739605696766e-05, 2.8814674734619125e-05, 9.200990477846795e-06, -5.143304530497784e-06, -9.01909762054867e-06, -6.016452226104471e-06, -1.8258692424288238e-06, 1.7686703023705566e-07]\n",
            "161\n",
            "162\n"
          ]
        }
      ]
    },
    {
      "cell_type": "code",
      "source": [
        "# Erro L2 of Hamiltonian constraint\n",
        "\n",
        "plt.plot(t,L2HC)\n",
        "plt.yscale(\"log\")\n",
        "plt.ylabel(\"log(Error RMS)\")\n",
        "plt.xlabel(\"t\")\n",
        "plt.title(\"log(L2Hc) para $N = 30$, $L_0 = 6$ e $A_0 = 0.05$\")"
      ],
      "metadata": {
        "colab": {
          "base_uri": "https://localhost:8080/",
          "height": 314
        },
        "id": "8OBiYkaKccJW",
        "outputId": "f6a180bb-c686-4f8c-8beb-df34dcd19eb5"
      },
      "execution_count": null,
      "outputs": [
        {
          "output_type": "execute_result",
          "data": {
            "text/plain": [
              "Text(0.5, 1.0, 'log(L2Hc) para $N = 30$, $L_0 = 6$ e $A_0 = 0.05$')"
            ]
          },
          "metadata": {},
          "execution_count": 74
        },
        {
          "output_type": "display_data",
          "data": {
            "text/plain": [
              "<Figure size 432x288 with 1 Axes>"
            ],
            "image/png": "[encoded data removed]"
          },
          "metadata": {
            "needs_background": "light"
          }
        }
      ]
    },
    {
      "cell_type": "code",
      "source": [
        "L2HC_30max_L06 = max(L2HC)\n",
        "\n",
        "\n",
        "L2HC_30max_L06"
      ],
      "metadata": {
        "colab": {
          "base_uri": "https://localhost:8080/"
        },
        "id": "mOYk-J4bRiCu",
        "outputId": "6a595dc5-2b87-47a4-c175-d5d00aa64932"
      },
      "execution_count": null,
      "outputs": [
        {
          "output_type": "execute_result",
          "data": {
            "text/plain": [
              "0.002484056936002491"
            ]
          },
          "metadata": {},
          "execution_count": 118
        }
      ]
    },
    {
      "cell_type": "code",
      "source": [
        "L2HC_60max_L06 = max(L2HC)\n",
        "\n",
        "L2HC_60max_L06"
      ],
      "metadata": {
        "colab": {
          "base_uri": "https://localhost:8080/"
        },
        "id": "KyXxZSEm4-GO",
        "outputId": "cfab43e9-e9ce-4040-f027-4027bdc00214"
      },
      "execution_count": null,
      "outputs": [
        {
          "output_type": "execute_result",
          "data": {
            "text/plain": [
              "4.2354407714815734e-05"
            ]
          },
          "metadata": {},
          "execution_count": 130
        }
      ]
    },
    {
      "cell_type": "code",
      "source": [
        "L2HC_90max_L06 = max(L2HC)\n",
        "\n",
        "L2HC_90max_L06"
      ],
      "metadata": {
        "colab": {
          "base_uri": "https://localhost:8080/"
        },
        "id": "LhcjVTF54-19",
        "outputId": "4cb7980b-7e1b-4cf0-fa64-788d04fd7f28"
      },
      "execution_count": null,
      "outputs": [
        {
          "output_type": "execute_result",
          "data": {
            "text/plain": [
              "8.707534373859146e-07"
            ]
          },
          "metadata": {},
          "execution_count": 136
        }
      ]
    },
    {
      "cell_type": "code",
      "source": [
        "L2HC_120max_L06 = max(L2HC)\n",
        "\n",
        "L2HC_120max_L06"
      ],
      "metadata": {
        "colab": {
          "base_uri": "https://localhost:8080/"
        },
        "id": "8B2yS6Bm4-ue",
        "outputId": "2a87041d-6275-43e8-96b8-6f9dc768580a"
      },
      "execution_count": null,
      "outputs": [
        {
          "output_type": "execute_result",
          "data": {
            "text/plain": [
              "1.1946556397992398e-08"
            ]
          },
          "metadata": {},
          "execution_count": 142
        }
      ]
    },
    {
      "cell_type": "code",
      "source": [
        "L2HC_150max_L06 = max(L2HC)\n",
        "\n",
        "L2HC_150max_L06 "
      ],
      "metadata": {
        "colab": {
          "base_uri": "https://localhost:8080/"
        },
        "id": "5ohPF2RQ4-ju",
        "outputId": "a25e3021-8637-462a-ce67-7db434fb88da"
      },
      "execution_count": null,
      "outputs": [
        {
          "output_type": "execute_result",
          "data": {
            "text/plain": [
              "3.0319088210686514e-09"
            ]
          },
          "metadata": {},
          "execution_count": 148
        }
      ]
    },
    {
      "cell_type": "code",
      "source": [
        "L2HC_180max_L06 = max(L2HC)\n",
        "\n",
        "L2HC_180max_L06"
      ],
      "metadata": {
        "colab": {
          "base_uri": "https://localhost:8080/"
        },
        "id": "OoGpGCVL4-e9",
        "outputId": "1df23417-9c06-4f96-b835-e9261da22286"
      },
      "execution_count": null,
      "outputs": [
        {
          "output_type": "execute_result",
          "data": {
            "text/plain": [
              "1.8609523773245208e-09"
            ]
          },
          "metadata": {},
          "execution_count": 157
        }
      ]
    },
    {
      "cell_type": "code",
      "source": [
        "L2HC_210max_L06 = max(L2HC)\n",
        "\n",
        "L2HC_210max_L06"
      ],
      "metadata": {
        "colab": {
          "base_uri": "https://localhost:8080/"
        },
        "id": "DONT3wwo5eYu",
        "outputId": "9fcfcd61-2a90-49dc-b706-4d92d3e09f7a"
      },
      "execution_count": null,
      "outputs": [
        {
          "output_type": "execute_result",
          "data": {
            "text/plain": [
              "1.2751386846020075e-09"
            ]
          },
          "metadata": {},
          "execution_count": 163
        }
      ]
    },
    {
      "cell_type": "code",
      "source": [
        "L2HC_30max_L02"
      ],
      "metadata": {
        "id": "dNGH2kRQJwaK",
        "outputId": "cd994d96-37ce-4075-f880-ab861f4c315f",
        "colab": {
          "base_uri": "https://localhost:8080/"
        }
      },
      "execution_count": null,
      "outputs": [
        {
          "output_type": "execute_result",
          "data": {
            "text/plain": [
              "0.08368416315314683"
            ]
          },
          "metadata": {},
          "execution_count": 164
        }
      ]
    },
    {
      "cell_type": "code",
      "source": [
        "\n",
        "\n",
        "L2HC_L02 = [L2HC_30max_L02, L2HC_60max_L02,L2HC_90max_L02, L2HC_120max_L02,L2HC_150max_L02, L2HC_180max_L02,L2HC_210max_L02]\n",
        "\n",
        "\n",
        "\n",
        "L2HC_L04 = [L2HC_30max_L04, L2HC_60max_L04,L2HC_90max_L04, L2HC_120max_L04,L2HC_150max_L04, L2HC_180max_L04,L2HC_210max_L04]\n",
        "\n",
        "\n",
        "\n",
        "L2HC_L06 = [L2HC_30max_L06, L2HC_60max_L06,L2HC_90max_L06, L2HC_120max_L06,L2HC_150max_L06, L2HC_180max_L06,L2HC_210max_L06]\n",
        "\n",
        "N = [30,60,90,120,150,180,210]\n",
        "\n",
        "N_max = 210\n",
        "\n",
        "plt.plot(N, L2HC_L02, '-b^', label = \"L0 = 2\")\n",
        "plt.plot(N, L2HC_L04, '-rs',label = \"L0 = 4\")\n",
        "plt.plot(N, L2HC_L06, '-ko',label = \"L0 = 6\")\n",
        "plt.xticks(N)\n",
        "plt.xlabel('N')\n",
        "plt.ylabel('$log(L_2 H)max$')\n",
        "plt.yscale('log')\n",
        "plt.legend()\n",
        "plt.show()"
      ],
      "metadata": {
        "id": "x0PqsWlxSa4H",
        "outputId": "e3ad3117-cb4d-4815-bdba-eb4cfee3157c",
        "colab": {
          "base_uri": "https://localhost:8080/",
          "height": 279
        }
      },
      "execution_count": null,
      "outputs": [
        {
          "output_type": "display_data",
          "data": {
            "text/plain": [
              "<Figure size 432x288 with 1 Axes>"
            ],
            "image/png": "[encoded data removed]"
          },
          "metadata": {
            "needs_background": "light"
          }
        }
      ]
    }
  ]
}