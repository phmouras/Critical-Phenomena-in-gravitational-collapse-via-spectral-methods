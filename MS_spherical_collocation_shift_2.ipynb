{
  "nbformat": 4,
  "nbformat_minor": 0,
  "metadata": {
    "colab": {
      "name": "MS_spherical_collocation_shift_2.ipynb",
      "provenance": [],
      "authorship_tag": "ABX9TyNJ17laJ4D1Ph0IsNXKTyGk",
      "include_colab_link": true
    },
    "kernelspec": {
      "name": "python3",
      "display_name": "Python 3"
    },
    "language_info": {
      "name": "python"
    }
  },
  "cells": [
    {
      "cell_type": "markdown",
      "metadata": {
        "id": "view-in-github",
        "colab_type": "text"
      },
      "source": [
        "<a href=\"https://colab.research.google.com/github/phmouras/Projeto_Pos/blob/main/MS_spherical_collocation_shift_2.ipynb\" target=\"_parent\"><img src=\"https://colab.research.google.com/assets/colab-badge.svg\" alt=\"Open In Colab\"/></a>"
      ]
    },
    {
      "cell_type": "code",
      "execution_count": 80,
      "metadata": {
        "id": "uwHk8h0y8ZBF"
      },
      "outputs": [],
      "source": [
        "import numpy as np\n",
        "import matplotlib.pyplot as plt\n",
        "import math\n",
        "from numpy import exp\n",
        "\n",
        "\n",
        "\n",
        "N = 30\n",
        "\n",
        "L0 = 2\n",
        "\n",
        "col = np.cos(np.arange(2*N + 4)*math.pi /(2*N + 3))     # collocation points\n",
        "\n",
        "colr = col[1:N+2]\n",
        "\n",
        "r = L0 * colr/(np.sqrt(1-colr**2))                     \n",
        "\n",
        "\n",
        "\n",
        "# Base Matrix (Tchebyshev Polinomials):\n",
        "\n",
        "SB = np.zeros([N+1,N+1])\n",
        "rSB = np.zeros([N+1,N+1])\n",
        "Phi = np.zeros([N+1,N+1])\n",
        "Pi = np.zeros([N+1,N+1])\n",
        "Krr = np.zeros([N+1,N+1])\n",
        "Chi = np.zeros([N+1,N+1])\n",
        "#alpha = np.zeros([N,N])\n",
        "#beta = np.zeros([N,N])\n",
        "\n",
        "for i in range(N+1):\n",
        "  SB[i,] = np.sin((2*i+1)*np.arctan(L0/r))\n",
        "  rSB[i,] = -np.cos((2*i+1)*np.arctan(L0/r))*(2*i+1)*L0/(r**2*(1+L0**2/r**2))\n",
        "\n",
        "# Derivada Matriz Base:\n",
        "\n",
        "#colT[0,] = 0\n",
        "#colT[1,] = 1\n",
        "\n",
        "#xT[0,] = xcol*colT[0,]\n",
        "#xT[1,] = xcol*colT[1,]\n",
        "\n",
        "#for i in range(2, N+2):\n",
        " # colT[i,] = 2*col*colT[i-1,] + 2*T[i-1,] - colT[i-2,]\n",
        "  #xT[i,] = xcol*colT[i,]                                                    # colT[i,] = dT[i,]/dcol, xcol = dcol/dx\n",
        "\n",
        "#psi = T[0:N,:]   \n",
        "#xpsi = xT[0:N,:]\n",
        "\n",
        "\n",
        "# Initial conditions                                         # PI initial\n",
        "\n",
        "Phi_0 = 0.0001*r**2*np.exp(-(r-0.5)**2)            # Phi initial\n",
        "\n",
        "inv_SB = np.linalg.inv(SB)\n",
        "  \n",
        "a0 = np.dot(Phi_0, inv_SB)  # coeficients a(0)\n",
        "\n",
        "\n",
        "\n",
        "phi = np.dot(a0, SB)      # approximative solution in t=0\n",
        "\n",
        "\n",
        "\n"
      ]
    },
    {
      "cell_type": "code",
      "source": [
        "# Plot: Initial Conditions\n",
        "\n",
        "M = 3000\n",
        "\n",
        "rplot = np.linspace(0,30,M)\n",
        "\n",
        "colplot = rplot/np.sqrt(L0**2 + rplot**2)\n",
        "\n",
        "SBplot = np.zeros([N+1,M])\n",
        "\n",
        "for i in range(N+1):\n",
        "  SBplot[i,] = np.sin((2*i+1)*np.arctan(L0/rplot))\n",
        "\n",
        "Phi_plot0 = 0.0001*rplot**2*np.exp(-(rplot-0.5)**2)     \n",
        "\n",
        "#dtf_plot0 = (2*(xplot))*np.exp(-(xplot)**2/u**2)/u**2 \n",
        "\n",
        "phiplot = np.dot(a0, SBplot)\n",
        "\n",
        "erro = abs(phiplot - Phi_plot0)\n",
        "\n",
        "#dtphiplot = np.dot(da, psiplot)\n",
        "#da01 = np.dot(dtf_k0, inv_psi)\n",
        "\n",
        "#dtfplot = (1-np.tanh((xplot-x0)/np.sqrt(-u**2+1))**2)*u/np.sqrt(-u**2+1)\n",
        "\n",
        "#dtphiplot = np.dot(da01, psiplot)\n"
      ],
      "metadata": {
        "colab": {
          "base_uri": "https://localhost:8080/"
        },
        "id": "g01SlunZmufp",
        "outputId": "ee04d3a7-1055-4351-b25d-23dbedef4779"
      },
      "execution_count": 59,
      "outputs": [
        {
          "output_type": "stream",
          "name": "stderr",
          "text": [
            "/usr/local/lib/python3.7/dist-packages/ipykernel_launcher.py:12: RuntimeWarning: divide by zero encountered in true_divide\n",
            "  if sys.path[0] == '':\n"
          ]
        }
      ]
    },
    {
      "cell_type": "code",
      "source": [
        "plt.plot(colplot, phiplot, colplot, Phi_plot0, \"--r\")"
      ],
      "metadata": {
        "id": "fEGkSYtUnTm4",
        "outputId": "d761dd48-32f7-4fde-e660-15b3123abbf6",
        "colab": {
          "base_uri": "https://localhost:8080/",
          "height": 313
        }
      },
      "execution_count": 4,
      "outputs": [
        {
          "output_type": "execute_result",
          "data": {
            "text/plain": [
              "[<matplotlib.lines.Line2D at 0x7fd501da3b50>,\n",
              " <matplotlib.lines.Line2D at 0x7fd501dbe050>]"
            ]
          },
          "metadata": {},
          "execution_count": 4
        },
        {
          "output_type": "display_data",
          "data": {
            "text/plain": [
              "<Figure size 432x288 with 1 Axes>"
            ],
            "image/png": "[encoded data removed]"
          },
          "metadata": {
            "needs_background": "light"
          }
        }
      ]
    },
    {
      "cell_type": "code",
      "source": [
        "plt.plot(colplot, erro)"
      ],
      "metadata": {
        "id": "aICP6HuQwuZx",
        "outputId": "bf5656c1-a43d-42ed-85b3-caae0411e431",
        "colab": {
          "base_uri": "https://localhost:8080/",
          "height": 294
        }
      },
      "execution_count": null,
      "outputs": [
        {
          "output_type": "execute_result",
          "data": {
            "text/plain": [
              "[<matplotlib.lines.Line2D at 0x7f4338eeff10>]"
            ]
          },
          "metadata": {},
          "execution_count": 93
        },
        {
          "output_type": "display_data",
          "data": {
            "text/plain": [
              "<Figure size 432x288 with 1 Axes>"
            ],
            "image/png": "[encoded data removed]"
          },
          "metadata": {
            "needs_background": "light"
          }
        }
      ]
    },
    {
      "cell_type": "code",
      "source": [
        "# Initial values of PI:\n",
        "\n",
        "Pi_0 = 0\n",
        "\n",
        "b0 = np.dot(Pi_0, inv_SB)\n",
        "\n",
        "Pi = np.dot(b0, SB) "
      ],
      "metadata": {
        "id": "xLjAafiixRWv"
      },
      "execution_count": 60,
      "outputs": []
    },
    {
      "cell_type": "code",
      "source": [
        "SB[0,]"
      ],
      "metadata": {
        "colab": {
          "base_uri": "https://localhost:8080/"
        },
        "id": "ug4di7fsfTA1",
        "outputId": "c1fb3149-b08a-494c-a652-f7acd0b6cd33"
      },
      "execution_count": 61,
      "outputs": [
        {
          "output_type": "execute_result",
          "data": {
            "text/plain": [
              "array([0.04984589, 0.09956785, 0.14904227, 0.19814614, 0.2467574 ,\n",
              "       0.29475517, 0.34202014, 0.3884348 , 0.43388374, 0.47825398,\n",
              "       0.5214352 , 0.56332006, 0.60380441, 0.64278761, 0.68017274,\n",
              "       0.71586685, 0.7497812 , 0.78183148, 0.81193801, 0.84002592,\n",
              "       0.8660254 , 0.88987181, 0.91150585, 0.93087375, 0.94792735,\n",
              "       0.96262425, 0.97492791, 0.98480775, 0.99223921, 0.9972038 ,\n",
              "       0.99968918])"
            ]
          },
          "metadata": {},
          "execution_count": 61
        }
      ]
    },
    {
      "cell_type": "code",
      "source": [
        "# Initial values of Krr:\n",
        "\n",
        "Krr_0 = 0\n",
        "\n",
        "\n",
        "#for i in range(2,N+1):\n",
        "#  SB[i,] = 2*SB[i-1,] - SB[i-2,]\n",
        "\n",
        "psi =  SB[0:N+1,:] \n",
        "\n",
        "inv_psi = np.linalg.inv(psi)\n",
        "\n",
        "ck0 = np.dot(Krr_0, inv_psi)\n",
        "\n",
        "Krr = np.dot(ck0, SB) "
      ],
      "metadata": {
        "id": "6DoQLlGJykeO"
      },
      "execution_count": 77,
      "outputs": []
    },
    {
      "cell_type": "code",
      "source": [
        "# Initial values of CHI:\n",
        "\n",
        "Chi_0 = 0.001\n",
        "\n",
        "c0 = np.dot(Chi_0, inv_SB)\n",
        "\n",
        "Chi = np.dot(b0, SB) \n"
      ],
      "metadata": {
        "id": "btQxt2NwWoTw"
      },
      "execution_count": 49,
      "outputs": []
    },
    {
      "cell_type": "code",
      "source": [
        "# Initial values of alpha:\n",
        "\n",
        "alpha_0 = \n",
        "\n",
        "al0 = np.dot(alpha_0, inv_SB)\n",
        "\n",
        "alpha = 1 + np.dot(al0, SB)"
      ],
      "metadata": {
        "id": "8kDnGNapXo8t"
      },
      "execution_count": null,
      "outputs": []
    },
    {
      "cell_type": "code",
      "source": [
        "# Initial values of beta:\n",
        "\n",
        "beta_0 = \n",
        "\n",
        "be0 = np.dot(beta_0, inv_SB)\n",
        "\n",
        "beta = np.dot(be0, SB)"
      ],
      "metadata": {
        "id": "AOE8N312YIa7"
      },
      "execution_count": null,
      "outputs": []
    }
  ]
}