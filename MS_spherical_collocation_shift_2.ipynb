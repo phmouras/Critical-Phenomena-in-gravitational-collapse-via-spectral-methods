{
  "nbformat": 4,
  "nbformat_minor": 0,
  "metadata": {
    "colab": {
      "name": "MS_spherical_collocation_shift_2.ipynb",
      "provenance": [],
      "authorship_tag": "ABX9TyNJmM8hJ7RPU71tKyO/8E64",
      "include_colab_link": true
    },
    "kernelspec": {
      "name": "python3",
      "display_name": "Python 3"
    },
    "language_info": {
      "name": "python"
    }
  },
  "cells": [
    {
      "cell_type": "markdown",
      "metadata": {
        "id": "view-in-github",
        "colab_type": "text"
      },
      "source": [
        "<a href=\"https://colab.research.google.com/github/phmouras/Projeto_Pos/blob/main/MS_spherical_collocation_shift_2.ipynb\" target=\"_parent\"><img src=\"https://colab.research.google.com/assets/colab-badge.svg\" alt=\"Open In Colab\"/></a>"
      ]
    },
    {
      "cell_type": "code",
      "execution_count": 66,
      "metadata": {
        "id": "uwHk8h0y8ZBF"
      },
      "outputs": [],
      "source": [
        "import numpy as np\n",
        "import pandas as pd\n",
        "import matplotlib.pyplot as plt\n",
        "import math\n",
        "from numpy import exp\n",
        "\n",
        "\n",
        "\n",
        "N = 30\n",
        "\n",
        "L0 = 2                                                 # Map parameter\n",
        "\n",
        "col = np.cos(np.arange(2*N + 4)*math.pi /(2*N + 3))     # collocation points\n",
        "\n",
        "colr = col[1:N+2]\n",
        "\n",
        "r = L0 * colr/(np.sqrt(1-colr**2))                      # physical domain              \n",
        "\n",
        "rcol = 1/np.sqrt(L0**2+r**2)-r**2/(L0**2+r**2)**(3/2)          # dcol/dr\n",
        "\n",
        "rrcol = -3*r/(L0**2+r**2)**(3/2)+3*r**3/(L0**2+r**2)**(5/2)     # d^2 col/dr^2\n",
        "\n",
        "\n",
        "# Base Matrix (Tchebyshev Polinomials):\n",
        "\n",
        "SB = np.zeros([N+1,N+1])\n",
        "rSB = np.zeros([N+1,N+1])\n",
        "rrSB = np.zeros([N+1,N+1])\n",
        "colSB = np.zeros([N+1,N+1])\n",
        "ccolSB = np.zeros([N+1,N+1])\n",
        "\n",
        "\n",
        "Phi = np.zeros([N+1,N+1])\n",
        "rPhi = np.zeros([N+1,N+1])\n",
        "rrPhi = np.zeros([N+1,N+1])\n",
        "\n",
        "Pi = np.zeros([N+1,N+1])\n",
        "rPi = np.zeros([N+1,N+1])\n",
        "rrPi = np.zeros([N+1,N+1])\n",
        "\n",
        "Krr = np.zeros([N+1,N+1])\n",
        "rKrr = np.zeros([N+1,N+1])\n",
        "rrKrr = np.zeros([N+1,N+1])\n",
        "\n",
        "Chi = np.zeros([N+1,N+1])\n",
        "rChi = np.zeros([N+1,N+1])\n",
        "rrChi = np.zeros([N+1,N+1])\n",
        "\n",
        "Alpha = np.zeros([N,N])\n",
        "rAlpha = np.zeros([N,N])\n",
        "rrAlpha = np.zeros([N,N])\n",
        "\n",
        "Beta = np.zeros([N,N])\n",
        "rBeta = np.zeros([N,N])\n",
        "rrBeta = np.zeros([N,N])\n",
        "rBeta_r = np.zeros([N,N])\n",
        "\n",
        "#SB[0,] = 1\n",
        "#SB[1,] = colr\n",
        "\n",
        "for i in range(N+1):\n",
        "  SB[i,] = np.sin((2*i+1)*np.arctan(L0/r))\n",
        "\n",
        "#colSB[0,] = 0\n",
        "#colSB[1,] = 1\n",
        "#rSB[0,] = rcol*colSB[0,]\n",
        "#rSB[1,] = rcol*colSB[1,]\n",
        "\n",
        "#for i in range(1, N+1):\n",
        "#  colSB[i,] = 2*colr*colSB[i-1,] + 2*SB[i-1,] - colSB[i-2,]\n",
        "#  rSB[i,] = rcol*colSB[i,]                                                    # colSB[i,] = dSB[i,]/dcol, rcol = dcol/dr\n",
        "\n",
        "for i in range(N+1):\n",
        "#  colSB[i,] = 2*colr*colSB[i-1,] + 2*SB[i-1,] - colSB[i-2,]\n",
        "  rSB[i,] = -np.cos((2*i+1)*np.arctan(L0/r))*(2*i+1)*L0/(r**2*(1+L0**2/r**2)) \n",
        "\n",
        "#ccolSB[0,] = 0\n",
        "#ccolSB[1,] = 0\n",
        "#rrSB[0,] = rrcol*colSB[0,] + (rcol)**2 * ccolSB[0,]\n",
        "#rrSB[1,] = rrcol*colSB[1,] + (rcol)**2 * ccolSB[1,]\n",
        "\n",
        "for i in range(N+1):\n",
        "#  ccolSB[i,] = 2*colSB[i-1,] + 2*colr*ccolSB[i-1,] + 2*colSB[i-1,] - ccolSB[i-2,]\n",
        "  rrSB[i,] = np.sin((2*i+1)*np.arctan(L0/r))*(2*i+1)**2*L0**2/(r**4*(1+L0**2/r**2)**2)+2*np.cos((2*i+1)*np.arctan(L0/r))*(2*i+1)*L0/(r**3*(1+L0**2/r**2))-2*np.cos((2*i+1)*np.arctan(L0/r))*(2*i+1)*L0**3/(r**5*(1+L0**2/r**2)**2)                       # ccolSB[i,] = d²SB[i,]/dcol²\n",
        "\n",
        "\n",
        "# Derivada Matriz Base:\n",
        "\n",
        "#colT[0,] = 0\n",
        "#colT[1,] = 1\n",
        "\n",
        "#xT[0,] = xcol*colT[0,]\n",
        "#xT[1,] = xcol*colT[1,]\n",
        "\n",
        "#for i in range(2, N+2):\n",
        " # colT[i,] = 2*col*colT[i-1,] + 2*T[i-1,] - colT[i-2,]\n",
        "  #xT[i,] = xcol*colT[i,]                                                    # colT[i,] = dT[i,]/dcol, xcol = dcol/dx\n",
        "\n",
        "#psi = T[0:N,:]   \n",
        "#xpsi = xT[0:N,:]\n",
        "\n",
        "\n",
        "# Initial conditions of Phi                                       # PhI initial\n",
        "\n",
        "r0 = 0.5\n",
        "\n",
        "A0 = 0.0001\n",
        "\n",
        "sigma = 1\n",
        "\n",
        "Phi_0 = A0*r**2*np.exp(-(r-r0)**2/sigma**2)            # Phi initial\n",
        "\n",
        "rPhi_0 = 2*A0*r*np.exp(-(r-r0)**2/sigma**2)-2*A0*r**2*(r-r0)*np.exp(-(r-r0)**2/sigma**2)/sigma**2\n",
        "\n",
        "inv_SB = np.linalg.inv(SB)\n",
        "  \n",
        "a0 = np.dot(Phi_0, inv_SB)  # coeficients a(0)\n",
        "\n",
        "\n",
        "\n",
        "Phi = np.dot(a0, SB)      # approximative solution in t=0\n",
        "\n",
        "rPhi= np.dot(a0, rSB)\n",
        "\n",
        "rrPhi = np.dot(a0, rrSB)\n"
      ]
    },
    {
      "cell_type": "code",
      "source": [
        "# Plot: Initial Conditions\n",
        "\n",
        "M = 3000\n",
        "\n",
        "rplot = np.linspace(0,30,M)\n",
        "\n",
        "colplot = rplot/np.sqrt(L0**2 + rplot**2)\n",
        "\n",
        "SBplot = np.zeros([N+1,M])\n",
        "\n",
        "for i in range(N+1):\n",
        "  SBplot[i,] = np.sin((2*i+1)*np.arctan(L0/rplot))\n",
        "\n",
        "Phi_plot0 = 0.0001*rplot**2*np.exp(-(rplot-0.5)**2)     \n",
        "\n",
        "#dtf_plot0 = (2*(xplot))*np.exp(-(xplot)**2/u**2)/u**2 \n",
        "\n",
        "Phiplot = np.dot(a0, SBplot)\n",
        "\n",
        "erro = (Phiplot - Phi_plot0)\n",
        "\n",
        "#dtphiplot = np.dot(da, psiplot)\n",
        "#da01 = np.dot(dtf_k0, inv_psi)\n",
        "\n",
        "#dtfplot = (1-np.tanh((xplot-x0)/np.sqrt(-u**2+1))**2)*u/np.sqrt(-u**2+1)\n",
        "\n",
        "#dtphiplot = np.dot(da01, psiplot)\n"
      ],
      "metadata": {
        "colab": {
          "base_uri": "https://localhost:8080/"
        },
        "id": "g01SlunZmufp",
        "outputId": "0b04a852-2ffa-4808-e314-c6f7d6c9f1a0"
      },
      "execution_count": 67,
      "outputs": [
        {
          "output_type": "stream",
          "name": "stderr",
          "text": [
            "/usr/local/lib/python3.7/dist-packages/ipykernel_launcher.py:12: RuntimeWarning: divide by zero encountered in true_divide\n",
            "  if sys.path[0] == '':\n"
          ]
        }
      ]
    },
    {
      "cell_type": "code",
      "source": [
        "plt.plot(colplot, Phiplot, colplot, Phi_plot0, \"--r\")\n",
        "plt.xlim(0,8)\n",
        "plt.xlabel('r')\n",
        "plt.show()"
      ],
      "metadata": {
        "id": "fEGkSYtUnTm4",
        "outputId": "9554d857-8dbf-4a8a-a6e3-f6ea39bfa904",
        "colab": {
          "base_uri": "https://localhost:8080/",
          "height": 290
        }
      },
      "execution_count": null,
      "outputs": [
        {
          "output_type": "display_data",
          "data": {
            "text/plain": [
              "<Figure size 432x288 with 1 Axes>"
            ],
            "image/png": "[encoded data removed]"
          },
          "metadata": {
            "needs_background": "light"
          }
        }
      ]
    },
    {
      "cell_type": "code",
      "source": [
        "plt.plot(colplot, erro)\n",
        "plt.xlim(0,8)\n",
        "plt.xlabel('r')\n",
        "plt.show()"
      ],
      "metadata": {
        "id": "aICP6HuQwuZx",
        "outputId": "fd6903ac-db73-4caa-ebea-efd605feb331",
        "colab": {
          "base_uri": "https://localhost:8080/",
          "height": 290
        }
      },
      "execution_count": null,
      "outputs": [
        {
          "output_type": "display_data",
          "data": {
            "text/plain": [
              "<Figure size 432x288 with 1 Axes>"
            ],
            "image/png": "[encoded data removed]"
          },
          "metadata": {
            "needs_background": "light"
          }
        }
      ]
    },
    {
      "cell_type": "code",
      "source": [
        "# Initial values of PI:\n",
        "\n",
        "Pi_0 = np.zeros([N+1])\n",
        "\n",
        "b0 = np.dot(Pi_0, inv_SB)\n",
        "\n",
        "Pi = np.dot(b0, SB) \n",
        "\n",
        "rPi= np.dot(b0, rSB)\n",
        "\n",
        "rrPi = np.dot(b0, rrSB)"
      ],
      "metadata": {
        "id": "xLjAafiixRWv"
      },
      "execution_count": null,
      "outputs": []
    },
    {
      "cell_type": "code",
      "source": [
        "# Initial values of Krr:\n",
        "\n",
        "Krr_0 = 0\n",
        "\n",
        "SB1 = np.zeros([N+1,N+1])\n",
        "\n",
        "for i in range(2,N+1):\n",
        "  SB1[i,] = 2*colr*SB[i-1,] - SB[i-2,]\n",
        "\n",
        "\n",
        "# Derivada Matriz Base:\n",
        "\n",
        "#colSB1[0,] = 0\n",
        "#colSB1[1,] = 1\n",
        "#rSB1[0,] = rcol*colSB[0,]\n",
        "#rSB1[1,] = rcol*colSB[1,]\n",
        "\n",
        "#for i in range(2, N+1):\n",
        " # colSB1[i,] = 2*colr*colSB1[i-1,] + 2*SB1[i-1,] - colSB1[i-2,]\n",
        "  #rSB1[i,] = rcol*colSB1[i,]                                                    # colSB[i,] = dSB[i,]/dcol, rcol = dcol/dr\n",
        "\n",
        "\n",
        "#ccolSB1[0,] = 0\n",
        "#ccolSB1[1,] = 0\n",
        "#rrSB1[0,] = rrcol*colSB1[0,] + (rcol)**2 * ccolSB1[0,]\n",
        "#rrSB1[1,] = rrcol*colSB1[1,] + (rcol)**2 * ccolSB1[1,]\n",
        "\n",
        "#for i in range(2, N+1):\n",
        " # ccolSB1[i,] = 2*colSB1[i-1,] + 2*colr*ccolSB1[i-1,] + 2*colSB1[i-1,] - ccolSB1[i-2,]\n",
        "  #rrSB1[i,] = rrcol*colSB1[i,] + (rcol)**2 * ccolSB1[i,]                         # ccolSB[i,] = d²SB[i,]/dcol²\n",
        "\n",
        "\n",
        "\n",
        "#rpsi = rSB1[0:N,:]\n",
        "#rrpsi = rrSB1[0:N,:]\n",
        "\n",
        "inv_SB1 = np.linalg.inv(SB1)\n",
        "\n",
        "ck0 = np.dot(Krr_0, inv_SB1)\n",
        "\n",
        "Krr = np.dot(ck0, SB1) \n",
        "\n",
        "rKrr = np.dot(ck0, rSB1)\n",
        "\n",
        "rrKrr = np.dot(ck0, rrSB1)"
      ],
      "metadata": {
        "id": "6DoQLlGJykeO",
        "colab": {
          "base_uri": "https://localhost:8080/",
          "height": 436
        },
        "outputId": "0a67fb41-0521-479d-f481-efee5a4aeb8f"
      },
      "execution_count": null,
      "outputs": [
        {
          "output_type": "error",
          "ename": "LinAlgError",
          "evalue": "ignored",
          "traceback": [
            "\u001b[0;31m---------------------------------------------------------------------------\u001b[0m",
            "\u001b[0;31mLinAlgError\u001b[0m                               Traceback (most recent call last)",
            "\u001b[0;32m<ipython-input-6-2345ff2b4575>\u001b[0m in \u001b[0;36m<module>\u001b[0;34m\u001b[0m\n\u001b[1;32m     35\u001b[0m \u001b[0;31m#rrpsi = rrSB1[0:N,:]\u001b[0m\u001b[0;34m\u001b[0m\u001b[0;34m\u001b[0m\u001b[0;34m\u001b[0m\u001b[0m\n\u001b[1;32m     36\u001b[0m \u001b[0;34m\u001b[0m\u001b[0m\n\u001b[0;32m---> 37\u001b[0;31m \u001b[0minv_SB1\u001b[0m \u001b[0;34m=\u001b[0m \u001b[0mnp\u001b[0m\u001b[0;34m.\u001b[0m\u001b[0mlinalg\u001b[0m\u001b[0;34m.\u001b[0m\u001b[0minv\u001b[0m\u001b[0;34m(\u001b[0m\u001b[0mSB1\u001b[0m\u001b[0;34m)\u001b[0m\u001b[0;34m\u001b[0m\u001b[0;34m\u001b[0m\u001b[0m\n\u001b[0m\u001b[1;32m     38\u001b[0m \u001b[0;34m\u001b[0m\u001b[0m\n\u001b[1;32m     39\u001b[0m \u001b[0mck0\u001b[0m \u001b[0;34m=\u001b[0m \u001b[0mnp\u001b[0m\u001b[0;34m.\u001b[0m\u001b[0mdot\u001b[0m\u001b[0;34m(\u001b[0m\u001b[0mKrr_0\u001b[0m\u001b[0;34m,\u001b[0m \u001b[0minv_SB1\u001b[0m\u001b[0;34m)\u001b[0m\u001b[0;34m\u001b[0m\u001b[0;34m\u001b[0m\u001b[0m\n",
            "\u001b[0;32m<__array_function__ internals>\u001b[0m in \u001b[0;36minv\u001b[0;34m(*args, **kwargs)\u001b[0m\n",
            "\u001b[0;32m/usr/local/lib/python3.7/dist-packages/numpy/linalg/linalg.py\u001b[0m in \u001b[0;36minv\u001b[0;34m(a)\u001b[0m\n\u001b[1;32m    543\u001b[0m     \u001b[0msignature\u001b[0m \u001b[0;34m=\u001b[0m \u001b[0;34m'D->D'\u001b[0m \u001b[0;32mif\u001b[0m \u001b[0misComplexType\u001b[0m\u001b[0;34m(\u001b[0m\u001b[0mt\u001b[0m\u001b[0;34m)\u001b[0m \u001b[0;32melse\u001b[0m \u001b[0;34m'd->d'\u001b[0m\u001b[0;34m\u001b[0m\u001b[0;34m\u001b[0m\u001b[0m\n\u001b[1;32m    544\u001b[0m     \u001b[0mextobj\u001b[0m \u001b[0;34m=\u001b[0m \u001b[0mget_linalg_error_extobj\u001b[0m\u001b[0;34m(\u001b[0m\u001b[0m_raise_linalgerror_singular\u001b[0m\u001b[0;34m)\u001b[0m\u001b[0;34m\u001b[0m\u001b[0;34m\u001b[0m\u001b[0m\n\u001b[0;32m--> 545\u001b[0;31m     \u001b[0mainv\u001b[0m \u001b[0;34m=\u001b[0m \u001b[0m_umath_linalg\u001b[0m\u001b[0;34m.\u001b[0m\u001b[0minv\u001b[0m\u001b[0;34m(\u001b[0m\u001b[0ma\u001b[0m\u001b[0;34m,\u001b[0m \u001b[0msignature\u001b[0m\u001b[0;34m=\u001b[0m\u001b[0msignature\u001b[0m\u001b[0;34m,\u001b[0m \u001b[0mextobj\u001b[0m\u001b[0;34m=\u001b[0m\u001b[0mextobj\u001b[0m\u001b[0;34m)\u001b[0m\u001b[0;34m\u001b[0m\u001b[0;34m\u001b[0m\u001b[0m\n\u001b[0m\u001b[1;32m    546\u001b[0m     \u001b[0;32mreturn\u001b[0m \u001b[0mwrap\u001b[0m\u001b[0;34m(\u001b[0m\u001b[0mainv\u001b[0m\u001b[0;34m.\u001b[0m\u001b[0mastype\u001b[0m\u001b[0;34m(\u001b[0m\u001b[0mresult_t\u001b[0m\u001b[0;34m,\u001b[0m \u001b[0mcopy\u001b[0m\u001b[0;34m=\u001b[0m\u001b[0;32mFalse\u001b[0m\u001b[0;34m)\u001b[0m\u001b[0;34m)\u001b[0m\u001b[0;34m\u001b[0m\u001b[0;34m\u001b[0m\u001b[0m\n\u001b[1;32m    547\u001b[0m \u001b[0;34m\u001b[0m\u001b[0m\n",
            "\u001b[0;32m/usr/local/lib/python3.7/dist-packages/numpy/linalg/linalg.py\u001b[0m in \u001b[0;36m_raise_linalgerror_singular\u001b[0;34m(err, flag)\u001b[0m\n\u001b[1;32m     86\u001b[0m \u001b[0;34m\u001b[0m\u001b[0m\n\u001b[1;32m     87\u001b[0m \u001b[0;32mdef\u001b[0m \u001b[0m_raise_linalgerror_singular\u001b[0m\u001b[0;34m(\u001b[0m\u001b[0merr\u001b[0m\u001b[0;34m,\u001b[0m \u001b[0mflag\u001b[0m\u001b[0;34m)\u001b[0m\u001b[0;34m:\u001b[0m\u001b[0;34m\u001b[0m\u001b[0;34m\u001b[0m\u001b[0m\n\u001b[0;32m---> 88\u001b[0;31m     \u001b[0;32mraise\u001b[0m \u001b[0mLinAlgError\u001b[0m\u001b[0;34m(\u001b[0m\u001b[0;34m\"Singular matrix\"\u001b[0m\u001b[0;34m)\u001b[0m\u001b[0;34m\u001b[0m\u001b[0;34m\u001b[0m\u001b[0m\n\u001b[0m\u001b[1;32m     89\u001b[0m \u001b[0;34m\u001b[0m\u001b[0m\n\u001b[1;32m     90\u001b[0m \u001b[0;32mdef\u001b[0m \u001b[0m_raise_linalgerror_nonposdef\u001b[0m\u001b[0;34m(\u001b[0m\u001b[0merr\u001b[0m\u001b[0;34m,\u001b[0m \u001b[0mflag\u001b[0m\u001b[0;34m)\u001b[0m\u001b[0;34m:\u001b[0m\u001b[0;34m\u001b[0m\u001b[0;34m\u001b[0m\u001b[0m\n",
            "\u001b[0;31mLinAlgError\u001b[0m: Singular matrix"
          ]
        }
      ]
    },
    {
      "cell_type": "code",
      "source": [
        "# Initial chi: import from maple csv file\n",
        "\n",
        "url = 'https://raw.githubusercontent.com/phmouras/Projeto_Pos/main/c0.csv'\n",
        "\n",
        "df = pd.read_csv(url)\n"
      ],
      "metadata": {
        "id": "yazse8Ni5DTZ"
      },
      "execution_count": 72,
      "outputs": []
    },
    {
      "cell_type": "code",
      "source": [
        "df\n"
      ],
      "metadata": {
        "id": "Hy08elWNg-ky",
        "outputId": "cdb3f81b-5e28-480c-b4c4-46e2d3d16528",
        "colab": {
          "base_uri": "https://localhost:8080/",
          "height": 177
        }
      },
      "execution_count": 73,
      "outputs": [
        {
          "output_type": "execute_result",
          "data": {
            "text/plain": [
              "Empty DataFrame\n",
              "Columns: [[c[0] = .211244880841937696943103e-8, c[1] = -.442284024660632476355385e-10, c[2] = -.769005646073457343074340e-10, c[3] = -.159616706013650932169404e-10, c[4] = .133880980719994920318739e-10, c[5] = .190868466309229515111930e-10, c[6] = -.138684232287542219591718e-10, c[7] = -.463913559129446223343159e-11, c[8] = .634900108648669015193247e-11, c[9] = .428748873838026027088403e-12, c[10] = -.188058182690879910935067e-11, c[11] = -.135566100691295087108735e-12, c[12] = .546289003463635924637502e-12, c[13] = .819022919277214804028210e-13, c[14] = -.138819768617832896064132e-12, c[15] = -.519562172073425266152664e-13, c[16] = .316778225264732246017755e-13, c[17] = .211131521805786455422721e-13, c[18] = -.221775251634662586166648e-14, c[19] = -.790529270635326410483837e-14, c[20] = -.123255877167334267672437e-14, c[21] = .143612283376596627960960e-14, c[22] = .132346214126697423708185e-14, c[23] = -.228348377622647423102175e-15, c[24] = -.271610210905355248047529e-15, c[25] = -.231127417588522442577641e-15, c[26] = .123462539704696859177453e-15, c[27] = .272337209824629825382307e-16, c[28] = .502535191663513072176667e-16, c[29] = -.398340467196735966839526e-16, c[30] = -.749513687569356856869926e-17]]\n",
              "Index: []\n",
              "\n",
              "[0 rows x 31 columns]"
            ],
            "text/html": [
              "\n",
              "  <div id=\"df-d096fe6d-0a58-45f2-b12b-678d696c9a32\">\n",
              "    <div class=\"colab-df-container\">\n",
              "      <div>\n",
              "<style scoped>\n",
              "    .dataframe tbody tr th:only-of-type {\n",
              "        vertical-align: middle;\n",
              "    }\n",
              "\n",
              "    .dataframe tbody tr th {\n",
              "        vertical-align: top;\n",
              "    }\n",
              "\n",
              "    .dataframe thead th {\n",
              "        text-align: right;\n",
              "    }\n",
              "</style>\n",
              "<table border=\"1\" class=\"dataframe\">\n",
              "  <thead>\n",
              "    <tr style=\"text-align: right;\">\n",
              "      <th></th>\n",
              "      <th>[c[0] = .211244880841937696943103e-8</th>\n",
              "      <th>c[1] = -.442284024660632476355385e-10</th>\n",
              "      <th>c[2] = -.769005646073457343074340e-10</th>\n",
              "      <th>c[3] = -.159616706013650932169404e-10</th>\n",
              "      <th>c[4] = .133880980719994920318739e-10</th>\n",
              "      <th>c[5] = .190868466309229515111930e-10</th>\n",
              "      <th>c[6] = -.138684232287542219591718e-10</th>\n",
              "      <th>c[7] = -.463913559129446223343159e-11</th>\n",
              "      <th>c[8] = .634900108648669015193247e-11</th>\n",
              "      <th>c[9] = .428748873838026027088403e-12</th>\n",
              "      <th>...</th>\n",
              "      <th>c[21] = .143612283376596627960960e-14</th>\n",
              "      <th>c[22] = .132346214126697423708185e-14</th>\n",
              "      <th>c[23] = -.228348377622647423102175e-15</th>\n",
              "      <th>c[24] = -.271610210905355248047529e-15</th>\n",
              "      <th>c[25] = -.231127417588522442577641e-15</th>\n",
              "      <th>c[26] = .123462539704696859177453e-15</th>\n",
              "      <th>c[27] = .272337209824629825382307e-16</th>\n",
              "      <th>c[28] = .502535191663513072176667e-16</th>\n",
              "      <th>c[29] = -.398340467196735966839526e-16</th>\n",
              "      <th>c[30] = -.749513687569356856869926e-17]</th>\n",
              "    </tr>\n",
              "  </thead>\n",
              "  <tbody>\n",
              "  </tbody>\n",
              "</table>\n",
              "<p>0 rows × 31 columns</p>\n",
              "</div>\n",
              "      <button class=\"colab-df-convert\" onclick=\"convertToInteractive('df-d096fe6d-0a58-45f2-b12b-678d696c9a32')\"\n",
              "              title=\"Convert this dataframe to an interactive table.\"\n",
              "              style=\"display:none;\">\n",
              "        \n",
              "  <svg xmlns=\"http://www.w3.org/2000/svg\" height=\"24px\"viewBox=\"0 0 24 24\"\n",
              "       width=\"24px\">\n",
              "    <path d=\"M0 0h24v24H0V0z\" fill=\"none\"/>\n",
              "    <path d=\"M18.56 5.44l.94 2.06.94-2.06 2.06-.94-2.06-.94-.94-2.06-.94 2.06-2.06.94zm-11 1L8.5 8.5l.94-2.06 2.06-.94-2.06-.94L8.5 2.5l-.94 2.06-2.06.94zm10 10l.94 2.06.94-2.06 2.06-.94-2.06-.94-.94-2.06-.94 2.06-2.06.94z\"/><path d=\"M17.41 7.96l-1.37-1.37c-.4-.4-.92-.59-1.43-.59-.52 0-1.04.2-1.43.59L10.3 9.45l-7.72 7.72c-.78.78-.78 2.05 0 2.83L4 21.41c.39.39.9.59 1.41.59.51 0 1.02-.2 1.41-.59l7.78-7.78 2.81-2.81c.8-.78.8-2.07 0-2.86zM5.41 20L4 18.59l7.72-7.72 1.47 1.35L5.41 20z\"/>\n",
              "  </svg>\n",
              "      </button>\n",
              "      \n",
              "  <style>\n",
              "    .colab-df-container {\n",
              "      display:flex;\n",
              "      flex-wrap:wrap;\n",
              "      gap: 12px;\n",
              "    }\n",
              "\n",
              "    .colab-df-convert {\n",
              "      background-color: #E8F0FE;\n",
              "      border: none;\n",
              "      border-radius: 50%;\n",
              "      cursor: pointer;\n",
              "      display: none;\n",
              "      fill: #1967D2;\n",
              "      height: 32px;\n",
              "      padding: 0 0 0 0;\n",
              "      width: 32px;\n",
              "    }\n",
              "\n",
              "    .colab-df-convert:hover {\n",
              "      background-color: #E2EBFA;\n",
              "      box-shadow: 0px 1px 2px rgba(60, 64, 67, 0.3), 0px 1px 3px 1px rgba(60, 64, 67, 0.15);\n",
              "      fill: #174EA6;\n",
              "    }\n",
              "\n",
              "    [theme=dark] .colab-df-convert {\n",
              "      background-color: #3B4455;\n",
              "      fill: #D2E3FC;\n",
              "    }\n",
              "\n",
              "    [theme=dark] .colab-df-convert:hover {\n",
              "      background-color: #434B5C;\n",
              "      box-shadow: 0px 1px 3px 1px rgba(0, 0, 0, 0.15);\n",
              "      filter: drop-shadow(0px 1px 2px rgba(0, 0, 0, 0.3));\n",
              "      fill: #FFFFFF;\n",
              "    }\n",
              "  </style>\n",
              "\n",
              "      <script>\n",
              "        const buttonEl =\n",
              "          document.querySelector('#df-d096fe6d-0a58-45f2-b12b-678d696c9a32 button.colab-df-convert');\n",
              "        buttonEl.style.display =\n",
              "          google.colab.kernel.accessAllowed ? 'block' : 'none';\n",
              "\n",
              "        async function convertToInteractive(key) {\n",
              "          const element = document.querySelector('#df-d096fe6d-0a58-45f2-b12b-678d696c9a32');\n",
              "          const dataTable =\n",
              "            await google.colab.kernel.invokeFunction('convertToInteractive',\n",
              "                                                     [key], {});\n",
              "          if (!dataTable) return;\n",
              "\n",
              "          const docLinkHtml = 'Like what you see? Visit the ' +\n",
              "            '<a target=\"_blank\" href=https://colab.research.google.com/notebooks/data_table.ipynb>data table notebook</a>'\n",
              "            + ' to learn more about interactive tables.';\n",
              "          element.innerHTML = '';\n",
              "          dataTable['output_type'] = 'display_data';\n",
              "          await google.colab.output.renderOutput(dataTable, element);\n",
              "          const docLink = document.createElement('div');\n",
              "          docLink.innerHTML = docLinkHtml;\n",
              "          element.appendChild(docLink);\n",
              "        }\n",
              "      </script>\n",
              "    </div>\n",
              "  </div>\n",
              "  "
            ]
          },
          "metadata": {},
          "execution_count": 73
        }
      ]
    },
    {
      "cell_type": "code",
      "source": [
        "c"
      ],
      "metadata": {
        "id": "ydxmJnzRgOpN",
        "outputId": "f4d38583-a180-467c-ae9b-aacb9672a8c9",
        "colab": {
          "base_uri": "https://localhost:8080/"
        }
      },
      "execution_count": 42,
      "outputs": [
        {
          "output_type": "execute_result",
          "data": {
            "text/plain": [
              "array([0., 0., 0., 0., 0., 0., 0., 0., 0., 0., 0., 0., 0., 0., 0., 0., 0.,\n",
              "       0., 0., 0., 0., 0., 0., 0., 0., 0., 0., 0., 0., 0., 0.])"
            ]
          },
          "metadata": {},
          "execution_count": 42
        }
      ]
    },
    {
      "cell_type": "code",
      "source": [
        "## Initial chi: solving the Hamiltonian constraint:\n",
        "# Newton-Raphson\n",
        "V=0\n",
        "\n",
        "#c0 = np.zeros([N+1])\n",
        "#for i in range(N+1):\n",
        "#  c0[i] = 0.001\n",
        "\n",
        "Chi = np.dot(c0, SB)\n",
        "\n",
        "rChi = np.dot(c0, rSB)\n",
        "\n",
        "rrChi = np.dot(c0, rrSB)\n",
        "\n",
        "test_C = 4*rChi**2 + rrChi + 2*rChi/r + 3/4*np.exp(-4*Chi)*Krr_0**2 + np.exp(4*Chi)*(1/2*Pi_0**2 + rPhi_0**2/2/np.exp(4*Chi)+0*V)\n",
        "#init_chi  = 4*(c0*SB)^2 + (c0*rrSB) + 2*(c0*rSB)/r + 3/4*np.exp(-4*c0*SB)*Krr_0**2 + np.exp(4*c0*SB)*(1/2*Pi_0**2 + rPhi_0**2/2/np.exp(4*c0*SB)+0*V) \n",
        "\n",
        "test_J = 8*Chi**2 + rrSB + 2*rSB/r - 3*SB*np.exp(-4*Chi)*Krr_0**2 + 4*SB*np.exp(4*Chi)*((1/2)*Pi_0**2 + (1/2)*rPhi_0**2/np.exp(4*Chi)-2*rPhi_0**2*SB) # Jacobian\n",
        "\n",
        "# Newton-Raphson Method\n",
        "\n",
        "N_int = 5\n",
        "\n",
        "for i,j in range(N_int):\n",
        "  B2 = np.dot(test_J, c0) - test_C\n",
        "  B_aum = \n",
        "  c0[j+1] = \n",
        "\n",
        "c[k-1] = B2[i]\n",
        " \n",
        "\n"
      ],
      "metadata": {
        "id": "8f65L15B2ss5",
        "colab": {
          "base_uri": "https://localhost:8080/",
          "height": 135
        },
        "outputId": "1e7352c5-fb95-443e-8b78-70b9052c3425"
      },
      "execution_count": null,
      "outputs": [
        {
          "output_type": "error",
          "ename": "SyntaxError",
          "evalue": "ignored",
          "traceback": [
            "\u001b[0;36m  File \u001b[0;32m\"<ipython-input-130-fc0be6746c20>\"\u001b[0;36m, line \u001b[0;32m24\u001b[0m\n\u001b[0;31m    B_aum =\u001b[0m\n\u001b[0m            ^\u001b[0m\n\u001b[0;31mSyntaxError\u001b[0m\u001b[0;31m:\u001b[0m invalid syntax\n"
          ]
        }
      ]
    },
    {
      "cell_type": "code",
      "source": [],
      "metadata": {
        "id": "NCmuJJVRRUQo"
      },
      "execution_count": null,
      "outputs": []
    },
    {
      "cell_type": "code",
      "source": [
        "# Initial values of alpha:\n",
        "\n",
        "Alpha_0 = 0\n",
        "\n",
        "al0 = np.dot(Alpha_0, inv_SB)\n",
        "\n",
        "Alpha = 1 + np.dot(al0, SB)\n",
        "\n",
        "rAlpha = np.dot(al0, rSB)\n",
        "\n",
        "rrAlpha = np.dot(al0, rrSB)"
      ],
      "metadata": {
        "id": "8kDnGNapXo8t"
      },
      "execution_count": null,
      "outputs": []
    },
    {
      "cell_type": "code",
      "source": [
        "# Initial values of beta:\n",
        "\n",
        "Beta_0 = 0\n",
        "\n",
        "be0 = np.dot(Beta_0, inv_SB)\n",
        "\n",
        "Beta = np.dot(be0, SB)\n",
        "\n",
        "rBeta = np.dot(be0, rSB)\n",
        "\n",
        "rrBeta = np.dot(be0, rrSB)\n",
        "\n",
        "rBeta_r = np.dot(be0, rSB/r)"
      ],
      "metadata": {
        "id": "AOE8N312YIa7"
      },
      "execution_count": null,
      "outputs": []
    },
    {
      "cell_type": "markdown",
      "source": [
        "Field  Equations"
      ],
      "metadata": {
        "id": "0UQQ067HVHxb"
      }
    },
    {
      "cell_type": "code",
      "source": [
        "# Equation for Alpha:\n",
        "\n",
        "#dAlpha = rrAlpha + 2*(1/r + rrChi)*rAlpha - 3/2*Alpha*np.exp(-4*Chi)*Krr**2 - Alpha*np.exp(4*Chi)*(Pi*2-V)"
      ],
      "metadata": {
        "id": "AWNUEzyEU3FL"
      },
      "execution_count": null,
      "outputs": []
    },
    {
      "cell_type": "code",
      "source": [
        "# Equation for Beta:\n",
        "\n",
        "dBeta = rBeta_r-3/2/r*Alpha*np.exp(-4*Chi)*Krr "
      ],
      "metadata": {
        "id": "dKjTFN8rZinE"
      },
      "execution_count": null,
      "outputs": []
    },
    {
      "cell_type": "code",
      "source": [
        "# Equation for Chi:\n",
        "\n",
        "#dChi = np.dot(Beta,rChi) + Beta/2/r + Alpha/4*np.exp(-4*Chi)*Krr   # diff(Chi, t)\n",
        "\n",
        "#dChi = np.dot(np.dot(be0, SB),np.dot(c0, rSB)) + np.dot(be0,SB)/2/r + (1 + np.dot(al0, SB))/4*np.exp(-4*np.dot(c0, SB))*np.dot(ck0, SB)\n",
        "\n"
      ],
      "metadata": {
        "id": "AozARDD1afQP"
      },
      "execution_count": null,
      "outputs": []
    },
    {
      "cell_type": "code",
      "source": [
        "# Equation for Krr: momentum constraint\n",
        "\n",
        "res_eq_Krr = 2*np.dot(rChi,Krr) + rKrr + 3/r*Krr + np.dot(Pi,rPhi)*np.exp(4*Chi)"
      ],
      "metadata": {
        "id": "7VqUfSfebHKZ"
      },
      "execution_count": null,
      "outputs": []
    },
    {
      "cell_type": "code",
      "source": [
        "# Equation for Phi: \n",
        "\n",
        "dPhi = np.dot(Alpha,Pi) + np.dot(Beta, rPhi)\n",
        "\n"
      ],
      "metadata": {
        "id": "YxvdWpTedvnE",
        "outputId": "15975d35-093e-4829-e192-09e4997e16d7",
        "colab": {
          "base_uri": "https://localhost:8080/"
        }
      },
      "execution_count": null,
      "outputs": [
        {
          "output_type": "execute_result",
          "data": {
            "text/plain": [
              "array([0., 0., 0., 0., 0., 0., 0., 0., 0., 0., 0., 0., 0., 0., 0., 0., 0.,\n",
              "       0., 0., 0., 0., 0., 0., 0., 0., 0., 0., 0., 0., 0., 0.])"
            ]
          },
          "metadata": {},
          "execution_count": 13
        }
      ]
    },
    {
      "cell_type": "code",
      "source": [
        "# Equation for Pi: KG equation\n",
        "\n",
        "#dPI = np.dot(Beta, rPI) + np.exp(-4*Chi)*(2*Alpha/r + rAlpha + 2*rChi*Alpha)*rPhi + np.exp(-4*Chi)*Alpha*rrPhi - Alpha* V\n"
      ],
      "metadata": {
        "id": "myO4EkdhftUy"
      },
      "execution_count": null,
      "outputs": []
    },
    {
      "cell_type": "code",
      "source": [
        "# Runge Kutta 4th order\n",
        "\n",
        "h = 0.01\n",
        "tf = 100\n",
        "\n",
        "It = int(tf/h)\n",
        "\n",
        "t = np.linspace(0, tf, It) \n",
        "\n",
        "phi_set = np.zeros([It,M])\n",
        "chi_set = np.zeros([It,M])\n",
        "Pi_set = np.zeros([It,M])\n",
        "\n",
        "V = 0\n",
        "\n",
        "for i in range(It):\n",
        "\n",
        "  db = np.dot(np.dot(Beta, rPi) + np.exp(-4*Chi)*(2*Alpha/r + rAlpha + 2*rChi*Alpha)*rPhi + np.exp(-4*Chi)*Alpha*rrPhi - Alpha* 0, inv_SB)\n",
        "  dc = np.dot(np.dot(Beta,rChi) + Beta/2/r + Alpha/4*np.exp(-4*Chi)*Krr, inv_SB)    \n",
        "  da = np.dot(np.dot(Alpha,Pi) + np.dot(Beta, rPhi), inv_SB)\n",
        "  K1 = h*(dc)\n",
        "  L1 = h*(da)\n",
        "  N1 = h*(db)\n",
        "\n",
        "\n",
        "########################################################################\n",
        "\n",
        "  Phi = np.dot(a0 + L1, SB)     \n",
        "  rPhi= np.dot(a0 + L1 , rSB)\n",
        "  rrPhi = np.dot(a0 + L1, rrSB)\n",
        "  \n",
        "  Pi = np.dot(b0 + N1, SB)\n",
        "  rPi= np.dot(b0 + N1, rSB)\n",
        "  rrPi = np.dot(b0 + N1, rrSB)\n",
        "\n",
        "  Chi = np.dot(c0 + K1, SB)\n",
        "  rChi = np.dot(c0 + K1, rSB)\n",
        "  rrChi = np.dot(c0 + K1, rrSB\n",
        "\n",
        "  db = np.dot(np.dot(Beta, rPi) + np.exp(-4*Chi)*(2*Alpha/r + rAlpha + 2*rChi*Alpha)*rPhi + np.exp(-4*Chi)*Alpha*rrPhi - Alpha* 0, inv_SB)\n",
        "  dc = np.dot(np.dot(Beta,rChi) + Beta/2/r + Alpha/4*np.exp(-4*Chi)*Krr, inv_SB)    \n",
        "  da = np.dot(np.dot(Alpha,Pi) + np.dot(Beta, rPhi), inv_SB)\n",
        "  K2 = h*(dc)\n",
        "  L2 = h*(da)\n",
        "  N2 = h*(db)\n",
        "\n",
        "\n",
        "########################################################################\n",
        "  Phi = np.dot(a0 + L2, SB)     \n",
        "  rPhi = np.dot(a0 + L2 , rSB)\n",
        "  rrPhi = np.dot(a0 + L2, rrSB)\n",
        "  \n",
        "  Pi = np.dot(b0 + N2, SB)\n",
        "  rPi= np.dot(b0 + N2, rSB)\n",
        "  rrPi = np.dot(b0 + N2, rrSB)\n",
        "\n",
        "  Chi = np.dot(c0 + K2, SB)\n",
        "  rChi = np.dot(c0 + K2, rSB)\n",
        "  rrChi = np.dot(c0 + K2, rrSB)\n",
        "\n",
        "  db = np.dot(np.dot(Beta, rPi) + np.exp(-4*Chi)*(2*Alpha/r + rAlpha + 2*rChi*Alpha)*rPhi + np.exp(-4*Chi)*Alpha*rrPhi - Alpha* 0, inv_SB)\n",
        "  dc = np.dot(np.dot(Beta,rChi) + Beta/2/r + Alpha/4*np.exp(-4*Chi)*Krr, inv_SB)    \n",
        "  da = np.dot(np.dot(Alpha,Pi) + np.dot(Beta, rPhi), inv_SB)\n",
        "  K3 = h*(dc)\n",
        "  L3 = h*(da)\n",
        "  N3 = h*(db)\n",
        "\n",
        "\n",
        "#####################################################################\n",
        "  \n",
        "  Phi = np.dot(a0 + L3, SB)     \n",
        "  rPhi= np.dot(a0 + L3 , rSB)\n",
        "  rrPhi = np.dot(a0 + L3, rrSB)\n",
        "  \n",
        "  Pi = np.dot(b0 + N3, SB)\n",
        "  rPi= np.dot(b0 + N3, rSB)\n",
        "  rrPi = np.dot(b0 + N3, rrSB)\n",
        "\n",
        "  Chi = np.dot(c0 + K3, SB)\n",
        "  rChi = np.dot(c0 + K3, rSB)\n",
        "  rrChi = np.dot(c0 + K3, rrSB)\n",
        "\n",
        "  db = np.dot(np.dot(Beta, rPi) + np.exp(-4*Chi)*(2*Alpha/r + rAlpha + 2*rChi*Alpha)*rPhi + np.exp(-4*Chi)*Alpha*rrPhi - Alpha* 0, inv_SB)\n",
        "  dc = np.dot(np.dot(Beta,rChi) + Beta/2/r + Alpha/4*np.exp(-4*Chi)*Krr, inv_SB)    \n",
        "  da = np.dot(np.dot(Alpha,Pi) + np.dot(Beta, rPhi), inv_SB)\n",
        "  K4 = h*(dc)\n",
        "  L4 = h*(da)\n",
        "  N4 = h*(db)\n",
        "\n",
        "  a0 = a0 + 1/6 * (L1 + 2*L2 + 2*L3 + L4)\n",
        "  b0 = b0 + 1/6 * (N1 + 2*N2 + 2*N3 + N4)\n",
        "  c0 = c0 + 1/6 * (K1 + 2*K2 + 2*K3 + K4)\n",
        "  \n",
        "  \n",
        "# phi_set[i,:] = np.dot(a0, psiplot)\n",
        "\n",
        "  \n",
        "\n",
        "\n",
        " \n",
        "  \n"
      ],
      "metadata": {
        "id": "J9Xlw9Pagaak",
        "colab": {
          "base_uri": "https://localhost:8080/",
          "height": 283
        },
        "outputId": "f73a6576-09bf-4d72-8b72-cea8ed56c8fc"
      },
      "execution_count": null,
      "outputs": [
        {
          "output_type": "error",
          "ename": "ValueError",
          "evalue": "ignored",
          "traceback": [
            "\u001b[0;31m---------------------------------------------------------------------------\u001b[0m",
            "\u001b[0;31mValueError\u001b[0m                                Traceback (most recent call last)",
            "\u001b[0;32m<ipython-input-132-c3018cc0e9d2>\u001b[0m in \u001b[0;36m<module>\u001b[0;34m\u001b[0m\n\u001b[1;32m     16\u001b[0m \u001b[0;32mfor\u001b[0m \u001b[0mi\u001b[0m \u001b[0;32min\u001b[0m \u001b[0mrange\u001b[0m\u001b[0;34m(\u001b[0m\u001b[0mIt\u001b[0m\u001b[0;34m)\u001b[0m\u001b[0;34m:\u001b[0m\u001b[0;34m\u001b[0m\u001b[0;34m\u001b[0m\u001b[0m\n\u001b[1;32m     17\u001b[0m \u001b[0;34m\u001b[0m\u001b[0m\n\u001b[0;32m---> 18\u001b[0;31m   \u001b[0mdb\u001b[0m \u001b[0;34m=\u001b[0m \u001b[0mnp\u001b[0m\u001b[0;34m.\u001b[0m\u001b[0mdot\u001b[0m\u001b[0;34m(\u001b[0m\u001b[0mnp\u001b[0m\u001b[0;34m.\u001b[0m\u001b[0mdot\u001b[0m\u001b[0;34m(\u001b[0m\u001b[0mBeta\u001b[0m\u001b[0;34m,\u001b[0m \u001b[0mrPi\u001b[0m\u001b[0;34m)\u001b[0m \u001b[0;34m+\u001b[0m \u001b[0mnp\u001b[0m\u001b[0;34m.\u001b[0m\u001b[0mexp\u001b[0m\u001b[0;34m(\u001b[0m\u001b[0;34m-\u001b[0m\u001b[0;36m4\u001b[0m\u001b[0;34m*\u001b[0m\u001b[0mChi\u001b[0m\u001b[0;34m)\u001b[0m\u001b[0;34m*\u001b[0m\u001b[0;34m(\u001b[0m\u001b[0;36m2\u001b[0m\u001b[0;34m*\u001b[0m\u001b[0mAlpha\u001b[0m\u001b[0;34m/\u001b[0m\u001b[0mr\u001b[0m \u001b[0;34m+\u001b[0m \u001b[0mrAlpha\u001b[0m \u001b[0;34m+\u001b[0m \u001b[0;36m2\u001b[0m\u001b[0;34m*\u001b[0m\u001b[0mrChi\u001b[0m\u001b[0;34m*\u001b[0m\u001b[0mAlpha\u001b[0m\u001b[0;34m)\u001b[0m\u001b[0;34m*\u001b[0m\u001b[0mrPhi\u001b[0m \u001b[0;34m+\u001b[0m \u001b[0mnp\u001b[0m\u001b[0;34m.\u001b[0m\u001b[0mexp\u001b[0m\u001b[0;34m(\u001b[0m\u001b[0;34m-\u001b[0m\u001b[0;36m4\u001b[0m\u001b[0;34m*\u001b[0m\u001b[0mChi\u001b[0m\u001b[0;34m)\u001b[0m\u001b[0;34m*\u001b[0m\u001b[0mAlpha\u001b[0m\u001b[0;34m*\u001b[0m\u001b[0mrrPhi\u001b[0m \u001b[0;34m-\u001b[0m \u001b[0mAlpha\u001b[0m\u001b[0;34m*\u001b[0m \u001b[0;36m0\u001b[0m\u001b[0;34m,\u001b[0m \u001b[0minv_SB\u001b[0m\u001b[0;34m)\u001b[0m\u001b[0;34m\u001b[0m\u001b[0;34m\u001b[0m\u001b[0m\n\u001b[0m\u001b[1;32m     19\u001b[0m   \u001b[0mdc\u001b[0m \u001b[0;34m=\u001b[0m \u001b[0mnp\u001b[0m\u001b[0;34m.\u001b[0m\u001b[0mdot\u001b[0m\u001b[0;34m(\u001b[0m\u001b[0mnp\u001b[0m\u001b[0;34m.\u001b[0m\u001b[0mdot\u001b[0m\u001b[0;34m(\u001b[0m\u001b[0mBeta\u001b[0m\u001b[0;34m,\u001b[0m\u001b[0mrChi\u001b[0m\u001b[0;34m)\u001b[0m \u001b[0;34m+\u001b[0m \u001b[0mBeta\u001b[0m\u001b[0;34m/\u001b[0m\u001b[0;36m2\u001b[0m\u001b[0;34m/\u001b[0m\u001b[0mr\u001b[0m \u001b[0;34m+\u001b[0m \u001b[0mAlpha\u001b[0m\u001b[0;34m/\u001b[0m\u001b[0;36m4\u001b[0m\u001b[0;34m*\u001b[0m\u001b[0mnp\u001b[0m\u001b[0;34m.\u001b[0m\u001b[0mexp\u001b[0m\u001b[0;34m(\u001b[0m\u001b[0;34m-\u001b[0m\u001b[0;36m4\u001b[0m\u001b[0;34m*\u001b[0m\u001b[0mChi\u001b[0m\u001b[0;34m)\u001b[0m\u001b[0;34m*\u001b[0m\u001b[0mKrr\u001b[0m\u001b[0;34m,\u001b[0m \u001b[0minv_SB\u001b[0m\u001b[0;34m)\u001b[0m\u001b[0;34m\u001b[0m\u001b[0;34m\u001b[0m\u001b[0m\n\u001b[1;32m     20\u001b[0m   \u001b[0mda\u001b[0m \u001b[0;34m=\u001b[0m \u001b[0mnp\u001b[0m\u001b[0;34m.\u001b[0m\u001b[0mdot\u001b[0m\u001b[0;34m(\u001b[0m\u001b[0mnp\u001b[0m\u001b[0;34m.\u001b[0m\u001b[0mdot\u001b[0m\u001b[0;34m(\u001b[0m\u001b[0mAlpha\u001b[0m\u001b[0;34m,\u001b[0m\u001b[0mPi\u001b[0m\u001b[0;34m)\u001b[0m \u001b[0;34m+\u001b[0m \u001b[0mnp\u001b[0m\u001b[0;34m.\u001b[0m\u001b[0mdot\u001b[0m\u001b[0;34m(\u001b[0m\u001b[0mBeta\u001b[0m\u001b[0;34m,\u001b[0m \u001b[0mrPhi\u001b[0m\u001b[0;34m)\u001b[0m\u001b[0;34m,\u001b[0m \u001b[0minv_SB\u001b[0m\u001b[0;34m)\u001b[0m\u001b[0;34m\u001b[0m\u001b[0;34m\u001b[0m\u001b[0m\n",
            "\u001b[0;32m<__array_function__ internals>\u001b[0m in \u001b[0;36mdot\u001b[0;34m(*args, **kwargs)\u001b[0m\n",
            "\u001b[0;31mValueError\u001b[0m: shapes (30,30) and (31,31) not aligned: 30 (dim 1) != 31 (dim 0)"
          ]
        }
      ]
    },
    {
      "cell_type": "code",
      "source": [
        "Alpha"
      ],
      "metadata": {
        "id": "EZXzXbe53oIh",
        "outputId": "9dad1d49-a4f1-436f-fdf3-742b02465a69",
        "colab": {
          "base_uri": "https://localhost:8080/"
        }
      },
      "execution_count": null,
      "outputs": [
        {
          "output_type": "execute_result",
          "data": {
            "text/plain": [
              "array([[nan, nan, nan, nan, nan, nan, nan, nan, nan, nan, nan, nan, nan,\n",
              "        nan, nan, nan, nan, nan, nan, nan, nan, nan, nan, nan, nan, nan,\n",
              "        nan, nan, nan, nan, nan],\n",
              "       [nan, nan, nan, nan, nan, nan, nan, nan, nan, nan, nan, nan, nan,\n",
              "        nan, nan, nan, nan, nan, nan, nan, nan, nan, nan, nan, nan, nan,\n",
              "        nan, nan, nan, nan, nan],\n",
              "       [nan, nan, nan, nan, nan, nan, nan, nan, nan, nan, nan, nan, nan,\n",
              "        nan, nan, nan, nan, nan, nan, nan, nan, nan, nan, nan, nan, nan,\n",
              "        nan, nan, nan, nan, nan],\n",
              "       [nan, nan, nan, nan, nan, nan, nan, nan, nan, nan, nan, nan, nan,\n",
              "        nan, nan, nan, nan, nan, nan, nan, nan, nan, nan, nan, nan, nan,\n",
              "        nan, nan, nan, nan, nan],\n",
              "       [nan, nan, nan, nan, nan, nan, nan, nan, nan, nan, nan, nan, nan,\n",
              "        nan, nan, nan, nan, nan, nan, nan, nan, nan, nan, nan, nan, nan,\n",
              "        nan, nan, nan, nan, nan],\n",
              "       [nan, nan, nan, nan, nan, nan, nan, nan, nan, nan, nan, nan, nan,\n",
              "        nan, nan, nan, nan, nan, nan, nan, nan, nan, nan, nan, nan, nan,\n",
              "        nan, nan, nan, nan, nan],\n",
              "       [nan, nan, nan, nan, nan, nan, nan, nan, nan, nan, nan, nan, nan,\n",
              "        nan, nan, nan, nan, nan, nan, nan, nan, nan, nan, nan, nan, nan,\n",
              "        nan, nan, nan, nan, nan],\n",
              "       [nan, nan, nan, nan, nan, nan, nan, nan, nan, nan, nan, nan, nan,\n",
              "        nan, nan, nan, nan, nan, nan, nan, nan, nan, nan, nan, nan, nan,\n",
              "        nan, nan, nan, nan, nan],\n",
              "       [nan, nan, nan, nan, nan, nan, nan, nan, nan, nan, nan, nan, nan,\n",
              "        nan, nan, nan, nan, nan, nan, nan, nan, nan, nan, nan, nan, nan,\n",
              "        nan, nan, nan, nan, nan],\n",
              "       [nan, nan, nan, nan, nan, nan, nan, nan, nan, nan, nan, nan, nan,\n",
              "        nan, nan, nan, nan, nan, nan, nan, nan, nan, nan, nan, nan, nan,\n",
              "        nan, nan, nan, nan, nan],\n",
              "       [nan, nan, nan, nan, nan, nan, nan, nan, nan, nan, nan, nan, nan,\n",
              "        nan, nan, nan, nan, nan, nan, nan, nan, nan, nan, nan, nan, nan,\n",
              "        nan, nan, nan, nan, nan],\n",
              "       [nan, nan, nan, nan, nan, nan, nan, nan, nan, nan, nan, nan, nan,\n",
              "        nan, nan, nan, nan, nan, nan, nan, nan, nan, nan, nan, nan, nan,\n",
              "        nan, nan, nan, nan, nan],\n",
              "       [nan, nan, nan, nan, nan, nan, nan, nan, nan, nan, nan, nan, nan,\n",
              "        nan, nan, nan, nan, nan, nan, nan, nan, nan, nan, nan, nan, nan,\n",
              "        nan, nan, nan, nan, nan],\n",
              "       [nan, nan, nan, nan, nan, nan, nan, nan, nan, nan, nan, nan, nan,\n",
              "        nan, nan, nan, nan, nan, nan, nan, nan, nan, nan, nan, nan, nan,\n",
              "        nan, nan, nan, nan, nan],\n",
              "       [nan, nan, nan, nan, nan, nan, nan, nan, nan, nan, nan, nan, nan,\n",
              "        nan, nan, nan, nan, nan, nan, nan, nan, nan, nan, nan, nan, nan,\n",
              "        nan, nan, nan, nan, nan],\n",
              "       [nan, nan, nan, nan, nan, nan, nan, nan, nan, nan, nan, nan, nan,\n",
              "        nan, nan, nan, nan, nan, nan, nan, nan, nan, nan, nan, nan, nan,\n",
              "        nan, nan, nan, nan, nan],\n",
              "       [nan, nan, nan, nan, nan, nan, nan, nan, nan, nan, nan, nan, nan,\n",
              "        nan, nan, nan, nan, nan, nan, nan, nan, nan, nan, nan, nan, nan,\n",
              "        nan, nan, nan, nan, nan],\n",
              "       [nan, nan, nan, nan, nan, nan, nan, nan, nan, nan, nan, nan, nan,\n",
              "        nan, nan, nan, nan, nan, nan, nan, nan, nan, nan, nan, nan, nan,\n",
              "        nan, nan, nan, nan, nan],\n",
              "       [nan, nan, nan, nan, nan, nan, nan, nan, nan, nan, nan, nan, nan,\n",
              "        nan, nan, nan, nan, nan, nan, nan, nan, nan, nan, nan, nan, nan,\n",
              "        nan, nan, nan, nan, nan],\n",
              "       [nan, nan, nan, nan, nan, nan, nan, nan, nan, nan, nan, nan, nan,\n",
              "        nan, nan, nan, nan, nan, nan, nan, nan, nan, nan, nan, nan, nan,\n",
              "        nan, nan, nan, nan, nan],\n",
              "       [nan, nan, nan, nan, nan, nan, nan, nan, nan, nan, nan, nan, nan,\n",
              "        nan, nan, nan, nan, nan, nan, nan, nan, nan, nan, nan, nan, nan,\n",
              "        nan, nan, nan, nan, nan],\n",
              "       [nan, nan, nan, nan, nan, nan, nan, nan, nan, nan, nan, nan, nan,\n",
              "        nan, nan, nan, nan, nan, nan, nan, nan, nan, nan, nan, nan, nan,\n",
              "        nan, nan, nan, nan, nan],\n",
              "       [nan, nan, nan, nan, nan, nan, nan, nan, nan, nan, nan, nan, nan,\n",
              "        nan, nan, nan, nan, nan, nan, nan, nan, nan, nan, nan, nan, nan,\n",
              "        nan, nan, nan, nan, nan],\n",
              "       [nan, nan, nan, nan, nan, nan, nan, nan, nan, nan, nan, nan, nan,\n",
              "        nan, nan, nan, nan, nan, nan, nan, nan, nan, nan, nan, nan, nan,\n",
              "        nan, nan, nan, nan, nan],\n",
              "       [nan, nan, nan, nan, nan, nan, nan, nan, nan, nan, nan, nan, nan,\n",
              "        nan, nan, nan, nan, nan, nan, nan, nan, nan, nan, nan, nan, nan,\n",
              "        nan, nan, nan, nan, nan],\n",
              "       [nan, nan, nan, nan, nan, nan, nan, nan, nan, nan, nan, nan, nan,\n",
              "        nan, nan, nan, nan, nan, nan, nan, nan, nan, nan, nan, nan, nan,\n",
              "        nan, nan, nan, nan, nan],\n",
              "       [nan, nan, nan, nan, nan, nan, nan, nan, nan, nan, nan, nan, nan,\n",
              "        nan, nan, nan, nan, nan, nan, nan, nan, nan, nan, nan, nan, nan,\n",
              "        nan, nan, nan, nan, nan],\n",
              "       [nan, nan, nan, nan, nan, nan, nan, nan, nan, nan, nan, nan, nan,\n",
              "        nan, nan, nan, nan, nan, nan, nan, nan, nan, nan, nan, nan, nan,\n",
              "        nan, nan, nan, nan, nan],\n",
              "       [nan, nan, nan, nan, nan, nan, nan, nan, nan, nan, nan, nan, nan,\n",
              "        nan, nan, nan, nan, nan, nan, nan, nan, nan, nan, nan, nan, nan,\n",
              "        nan, nan, nan, nan, nan],\n",
              "       [nan, nan, nan, nan, nan, nan, nan, nan, nan, nan, nan, nan, nan,\n",
              "        nan, nan, nan, nan, nan, nan, nan, nan, nan, nan, nan, nan, nan,\n",
              "        nan, nan, nan, nan, nan],\n",
              "       [nan, nan, nan, nan, nan, nan, nan, nan, nan, nan, nan, nan, nan,\n",
              "        nan, nan, nan, nan, nan, nan, nan, nan, nan, nan, nan, nan, nan,\n",
              "        nan, nan, nan, nan, nan]])"
            ]
          },
          "metadata": {},
          "execution_count": 47
        }
      ]
    }
  ]
}