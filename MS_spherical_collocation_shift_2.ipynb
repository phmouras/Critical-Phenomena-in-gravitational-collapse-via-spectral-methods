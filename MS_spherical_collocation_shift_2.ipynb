{
  "nbformat": 4,
  "nbformat_minor": 0,
  "metadata": {
    "colab": {
      "name": "MS_spherical_collocation_shift_2.ipynb",
      "provenance": [],
      "authorship_tag": "ABX9TyOHZjPUjBluRojqYdYteVyd",
      "include_colab_link": true
    },
    "kernelspec": {
      "name": "python3",
      "display_name": "Python 3"
    },
    "language_info": {
      "name": "python"
    }
  },
  "cells": [
    {
      "cell_type": "markdown",
      "metadata": {
        "id": "view-in-github",
        "colab_type": "text"
      },
      "source": [
        "<a href=\"https://colab.research.google.com/github/phmouras/Projeto_Pos/blob/main/MS_spherical_collocation_shift_2.ipynb\" target=\"_parent\"><img src=\"https://colab.research.google.com/assets/colab-badge.svg\" alt=\"Open In Colab\"/></a>"
      ]
    },
    {
      "cell_type": "code",
      "execution_count": null,
      "metadata": {
        "id": "CsraC3QMBA2H"
      },
      "outputs": [],
      "source": [
        ""
      ]
    },
    {
      "cell_type": "code",
      "execution_count": 16,
      "metadata": {
        "colab": {
          "base_uri": "https://localhost:8080/"
        },
        "id": "uwHk8h0y8ZBF",
        "outputId": "50455ea3-4567-40c1-cf70-3493394bb962"
      },
      "outputs": [
        {
          "output_type": "stream",
          "name": "stderr",
          "text": [
            "/usr/local/lib/python3.7/dist-packages/ipykernel_launcher.py:18: RuntimeWarning: divide by zero encountered in true_divide\n"
          ]
        }
      ],
      "source": [
        "import numpy as np\n",
        "import matplotlib.pyplot as plt\n",
        "import math\n",
        "from numpy import exp\n",
        "\n",
        "# Pseudoespectral method for one dimensional wave equation \n",
        "\n",
        "\n",
        "# tpsi + colpsi = 0;  unidimensional\n",
        "\n",
        "\n",
        "N = 30\n",
        "\n",
        "L0 = 2\n",
        "\n",
        "col = np.cos(np.arange(2*N)*math.pi /2*(2*N-1))     # collocation points\n",
        "\n",
        "r = L0 * col/(np.sqrt(1-col**2))                     \n",
        "\n",
        "#xcol = (1 - np.tanh(x/L0)**2)/L0 \n",
        "\n",
        "# Base Matrix (Tchebyshev Polinomials):\n",
        "\n",
        "SB = np.zeros([N,N])\n",
        "\n",
        "#for i in range(0,N):\n",
        "#  SB[i,] = np.sin((2*i+1)*np.arctan(L0/r))\n",
        "\n",
        "# Derivada Matriz Base:\n",
        "\n",
        "#colT[0,] = 0\n",
        "#colT[1,] = 1\n",
        "\n",
        "#xT[0,] = xcol*colT[0,]\n",
        "#xT[1,] = xcol*colT[1,]\n",
        "\n",
        "#for i in range(2, N+2):\n",
        " # colT[i,] = 2*col*colT[i-1,] + 2*T[i-1,] - colT[i-2,]\n",
        "  #xT[i,] = xcol*colT[i,]                                                    # colT[i,] = dT[i,]/dcol, xcol = dcol/dx\n",
        "\n",
        "#psi = T[0:N,:]   \n",
        "#xpsi = xT[0:N,:]\n",
        "\n",
        "\n",
        "# Initial conditions\n",
        "\n",
        "\n",
        "#f_0 = np.exp(-(x**2)/(u**2))              # exact solution in t=0\n",
        "\n",
        "\n",
        "\n",
        "#inv_psi = np.linalg.inv(psi)\n",
        "  \n",
        "\n",
        "#a0 = np.dot(f_0, inv_psi)  # coeficients a(0)\n",
        "\n",
        "#phi = np.dot(a0, psi)      # exact solution in t=0\n",
        "\n",
        "\n",
        "\n"
      ]
    },
    {
      "cell_type": "code",
      "source": [
        "col"
      ],
      "metadata": {
        "colab": {
          "base_uri": "https://localhost:8080/"
        },
        "id": "7JeTWCs2Gtof",
        "outputId": "17731b23-fd5c-42c4-a102-85ff073bdea1"
      },
      "execution_count": 17,
      "outputs": [
        {
          "output_type": "execute_result",
          "data": {
            "text/plain": [
              "array([ 1.00000000e+00, -5.38906490e-15, -1.00000000e+00, -1.22545147e-14,\n",
              "        1.00000000e+00,  1.47638495e-15, -1.00000000e+00,  9.30174485e-15,\n",
              "        1.00000000e+00, -7.69232935e-14, -1.00000000e+00,  1.44544842e-13,\n",
              "        1.00000000e+00,  1.52072846e-14, -1.00000000e+00,  5.24142640e-14,\n",
              "        1.00000000e+00,  1.07337863e-13, -1.00000000e+00,  1.87657361e-13,\n",
              "        1.00000000e+00, -2.79052345e-14, -1.00000000e+00,  9.55267832e-14,\n",
              "        1.00000000e+00, -1.63148332e-13, -1.00000000e+00,  2.30769881e-13,\n",
              "        1.00000000e+00,  1.56355922e-13, -1.00000000e+00,  3.66012978e-13,\n",
              "        1.00000000e+00,  2.11128244e-14, -1.00000000e+00,  4.65087242e-14,\n",
              "        1.00000000e+00, -1.14130273e-13, -1.00000000e+00,  1.81751822e-13,\n",
              "        1.00000000e+00, -2.49373370e-13, -1.00000000e+00,  3.16994919e-13,\n",
              "        1.00000000e+00,  7.01308834e-14, -1.00000000e+00, -4.57256686e-13,\n",
              "        1.00000000e+00, -6.51122139e-14, -1.00000000e+00,  5.87481113e-13,\n",
              "        1.00000000e+00, -2.00355311e-13, -1.00000000e+00, -1.86770491e-13,\n",
              "        1.00000000e+00, -3.35598409e-13, -1.00000000e+00, -5.15273937e-14])"
            ]
          },
          "metadata": {},
          "execution_count": 17
        }
      ]
    }
  ]
}