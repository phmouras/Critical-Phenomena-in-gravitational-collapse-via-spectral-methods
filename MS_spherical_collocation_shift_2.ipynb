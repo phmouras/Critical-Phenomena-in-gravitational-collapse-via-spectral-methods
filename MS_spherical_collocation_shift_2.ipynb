{
  "nbformat": 4,
  "nbformat_minor": 0,
  "metadata": {
    "colab": {
      "name": "MS_spherical_collocation_shift_2.ipynb",
      "provenance": [],
      "authorship_tag": "ABX9TyP8zExDcGa7Co4aRan0TUBX",
      "include_colab_link": true
    },
    "kernelspec": {
      "name": "python3",
      "display_name": "Python 3"
    },
    "language_info": {
      "name": "python"
    }
  },
  "cells": [
    {
      "cell_type": "markdown",
      "metadata": {
        "id": "view-in-github",
        "colab_type": "text"
      },
      "source": [
        "<a href=\"https://colab.research.google.com/github/phmouras/Projeto_Pos/blob/main/MS_spherical_collocation_shift_2.ipynb\" target=\"_parent\"><img src=\"https://colab.research.google.com/assets/colab-badge.svg\" alt=\"Open In Colab\"/></a>"
      ]
    },
    {
      "cell_type": "code",
      "execution_count": 19,
      "metadata": {
        "id": "uwHk8h0y8ZBF"
      },
      "outputs": [],
      "source": [
        "import numpy as np\n",
        "import matplotlib.pyplot as plt\n",
        "import math\n",
        "from numpy import exp\n",
        "\n",
        "\n",
        "\n",
        "N = 30\n",
        "\n",
        "L0 = 2\n",
        "\n",
        "col = np.cos(np.arange(2*N + 4)*math.pi /(2*N + 3))     # collocation points\n",
        "\n",
        "colr = col[1:N+2]\n",
        "\n",
        "r = L0 * colr/(np.sqrt(1-colr**2))                     \n",
        "\n",
        "rcol = L0/np.sqrt(-colr**2+1)+L0*colr**2/(-colr**2+1)**(3/2)\n",
        "\n",
        "rrcol = 3*L0*colr/(-colr**2+1)**(3/2)+3*L0*colr**3/(-colr**2+1)**(5/2)\n",
        "\n",
        "\n",
        "# Base Matrix (Tchebyshev Polinomials):\n",
        "\n",
        "SB = np.zeros([N+1,N+1])\n",
        "rSB = np.zeros([N+1,N+1])\n",
        "rrSB = np.zeros([N+1,N+1])\n",
        "colSB = np.zeros([N+1,N+1])\n",
        "ccolSB = np.zeros([N+1,N+1])\n",
        "\n",
        "\n",
        "Phi = np.zeros([N+1,N+1])\n",
        "Pi = np.zeros([N+1,N+1])\n",
        "Krr = np.zeros([N+1,N+1])\n",
        "Chi = np.zeros([N+1,N+1])\n",
        "alpha = np.zeros([N,N])\n",
        "beta = np.zeros([N,N])\n",
        "\n",
        "for i in range(N+1):\n",
        "  SB[i,] = np.sin((2*i+1)*np.arctan(L0/r))\n",
        "\n",
        "colSB[0,] = 0\n",
        "colSB[1,] = 1\n",
        "rSB[0,] = rcol*colSB[0,]\n",
        "rSB[1,] = rcol*colSB[1,]\n",
        "\n",
        "for i in range(1, N+1):\n",
        "  colSB[i,] = 2*colr*colSB[i-1,] + 2*SB[i-1,] - colSB[i-2,]\n",
        "  rSB[i,] = rcol*colSB[i,]                                                    # colSB[i,] = dSB[i,]/dcol, rcol = dcol/dr\n",
        "\n",
        "\n",
        "ccolSB[0,] = 0\n",
        "ccolSB[1,] = 0\n",
        "rrSB[0,] = rrcol*colSB[0,] + (rcol)**2 * ccolSB[0,]\n",
        "rrSB[1,] = rrcol*colSB[1,] + (rcol)**2 * ccolSB[1,]\n",
        "\n",
        "for i in range(1, N+1):\n",
        "  ccolSB[i,] = 2*colSB[i-1,] + 2*colr*ccolSB[i-1,] + 2*colSB[i-1,] - ccolSB[i-2,]\n",
        "  rrSB[i,] = rrcol*colSB[i,] + (rcol)**2 * ccolSB[i,]                         # ccolSB[i,] = d²SB[i,]/dcol²\n",
        "\n",
        "\n",
        "#rSB[i,] = -np.cos((2*i+1)*np.arctan(L0/r))*(2*i+1)*L0/(r**2*(1+L0**2/r**2))\n",
        "\n",
        "\n",
        "#rrSB[i,] = np.sin((2*i+1)*np.arctan(L0/r))*(2*i+1)**2*L0**2/(r**4*(1+L0**2/r**2)**2)+2*np.cos((2*i+1)*np.arctan(L0/r))*(2*i+1)*L0/(r**3*(1+L0**2/r**2))-2*np.cos((2*i+1)*np.arctan(L0/r))*(2*i+1)*L0**3/(r**5*(1+L0**2/r**2)*2)\n",
        "\n",
        "\n",
        "\n",
        "# Derivada Matriz Base:\n",
        "\n",
        "#colT[0,] = 0\n",
        "#colT[1,] = 1\n",
        "\n",
        "#xT[0,] = xcol*colT[0,]\n",
        "#xT[1,] = xcol*colT[1,]\n",
        "\n",
        "#for i in range(2, N+2):\n",
        " # colT[i,] = 2*col*colT[i-1,] + 2*T[i-1,] - colT[i-2,]\n",
        "  #xT[i,] = xcol*colT[i,]                                                    # colT[i,] = dT[i,]/dcol, xcol = dcol/dx\n",
        "\n",
        "#psi = T[0:N,:]   \n",
        "#xpsi = xT[0:N,:]\n",
        "\n",
        "\n",
        "# Initial conditions of Phi                                       # PhI initial\n",
        "\n",
        "r0 = 0.5\n",
        "\n",
        "A0 = 0.0001\n",
        "\n",
        "Phi_0 = A0*r**2*np.exp(-(r-r0)**2)            # Phi initial\n",
        "\n",
        "\n",
        "\n",
        "inv_SB = np.linalg.inv(SB)\n",
        "  \n",
        "a0 = np.dot(Phi_0, inv_SB)  # coeficients a(0)\n",
        "\n",
        "\n",
        "\n",
        "Phi = np.dot(a0, SB)      # approximative solution in t=0\n",
        "\n",
        "rPhi= np.dot(a0, rSB)\n",
        "\n",
        "rrPhi = np.dot(a0, rrSB)\n"
      ]
    },
    {
      "cell_type": "code",
      "source": [
        "a0"
      ],
      "metadata": {
        "id": "E5viFhzL7Z-N",
        "outputId": "06088ef5-3ea1-48e1-f581-2df7d77598e0",
        "colab": {
          "base_uri": "https://localhost:8080/"
        }
      },
      "execution_count": 44,
      "outputs": [
        {
          "output_type": "execute_result",
          "data": {
            "text/plain": [
              "array([ 4.41972193e-05,  3.06914923e-06, -3.28346338e-05,  1.80421021e-05,\n",
              "        4.40701527e-06, -6.30267467e-06, -3.78923648e-07,  1.29529468e-06,\n",
              "        4.43917105e-07, -3.28952492e-07, -1.59805988e-07, -7.93504613e-10,\n",
              "        7.42604275e-08,  1.13806961e-08, -1.99719475e-09, -1.63668189e-08,\n",
              "        1.18387912e-09, -1.26198105e-09,  4.66003336e-09, -1.41006969e-09,\n",
              "        1.30447618e-09, -1.75659757e-09,  8.99503922e-10, -8.35786224e-10,\n",
              "        7.90846522e-10, -5.11759679e-10,  4.48230350e-10, -3.52596991e-10,\n",
              "        2.31169609e-10, -1.64243585e-10,  7.75567187e-11])"
            ]
          },
          "metadata": {},
          "execution_count": 44
        }
      ]
    },
    {
      "cell_type": "code",
      "source": [
        "# Plot: Initial Conditions\n",
        "\n",
        "M = 3000\n",
        "\n",
        "rplot = np.linspace(0,30,M)\n",
        "\n",
        "colplot = rplot/np.sqrt(L0**2 + rplot**2)\n",
        "\n",
        "SBplot = np.zeros([N+1,M])\n",
        "\n",
        "for i in range(N+1):\n",
        "  SBplot[i,] = np.sin((2*i+1)*np.arctan(L0/rplot))\n",
        "\n",
        "Phi_plot0 = 0.0001*rplot**2*np.exp(-(rplot-0.5)**2)     \n",
        "\n",
        "#dtf_plot0 = (2*(xplot))*np.exp(-(xplot)**2/u**2)/u**2 \n",
        "\n",
        "Phiplot = np.dot(a0, SBplot)\n",
        "\n",
        "erro = (Phiplot - Phi_plot0)\n",
        "\n",
        "#dtphiplot = np.dot(da, psiplot)\n",
        "#da01 = np.dot(dtf_k0, inv_psi)\n",
        "\n",
        "#dtfplot = (1-np.tanh((xplot-x0)/np.sqrt(-u**2+1))**2)*u/np.sqrt(-u**2+1)\n",
        "\n",
        "#dtphiplot = np.dot(da01, psiplot)\n"
      ],
      "metadata": {
        "colab": {
          "base_uri": "https://localhost:8080/"
        },
        "id": "g01SlunZmufp",
        "outputId": "983d48bf-fe6f-4fa3-eeb3-6f499f8b20cc"
      },
      "execution_count": 8,
      "outputs": [
        {
          "output_type": "stream",
          "name": "stderr",
          "text": [
            "/usr/local/lib/python3.7/dist-packages/ipykernel_launcher.py:12: RuntimeWarning: divide by zero encountered in true_divide\n",
            "  if sys.path[0] == '':\n"
          ]
        }
      ]
    },
    {
      "cell_type": "code",
      "source": [
        "plt.plot(colplot, Phiplot, colplot, Phi_plot0, \"--r\")\n",
        "plt.xlim(0,8)\n",
        "plt.show()"
      ],
      "metadata": {
        "id": "fEGkSYtUnTm4",
        "outputId": "4e5e23b2-d368-4b1d-ef64-e69bd3cc522b",
        "colab": {
          "base_uri": "https://localhost:8080/",
          "height": 276
        }
      },
      "execution_count": 24,
      "outputs": [
        {
          "output_type": "display_data",
          "data": {
            "text/plain": [
              "<Figure size 432x288 with 1 Axes>"
            ],
            "image/png": "[encoded data removed]"
          },
          "metadata": {
            "needs_background": "light"
          }
        }
      ]
    },
    {
      "cell_type": "code",
      "source": [
        "plt.plot(colplot, erro)\n",
        "plt.xlim(0,8)\n",
        "plt.show()"
      ],
      "metadata": {
        "id": "aICP6HuQwuZx",
        "outputId": "21dec80f-44e4-4ff1-eeb1-dec048103065",
        "colab": {
          "base_uri": "https://localhost:8080/",
          "height": 276
        }
      },
      "execution_count": 25,
      "outputs": [
        {
          "output_type": "display_data",
          "data": {
            "text/plain": [
              "<Figure size 432x288 with 1 Axes>"
            ],
            "image/png": "[encoded data removed]"
          },
          "metadata": {
            "needs_background": "light"
          }
        }
      ]
    },
    {
      "cell_type": "code",
      "source": [
        "# Field equations:\n",
        "\n"
      ],
      "metadata": {
        "id": "nt0hCuQsNr9n"
      },
      "execution_count": null,
      "outputs": []
    },
    {
      "cell_type": "code",
      "source": [
        "# Initial values of PI:\n",
        "\n",
        "Pi_0 = 0\n",
        "\n",
        "b0 = np.dot(Pi_0, inv_SB)\n",
        "\n",
        "Pi = np.dot(b0, SB) "
      ],
      "metadata": {
        "id": "xLjAafiixRWv"
      },
      "execution_count": 63,
      "outputs": []
    },
    {
      "cell_type": "code",
      "source": [
        "Pi_0"
      ],
      "metadata": {
        "colab": {
          "base_uri": "https://localhost:8080/"
        },
        "id": "ug4di7fsfTA1",
        "outputId": "5225798b-2b85-4bd7-8d55-57031fb00276"
      },
      "execution_count": 62,
      "outputs": [
        {
          "output_type": "execute_result",
          "data": {
            "text/plain": [
              "0"
            ]
          },
          "metadata": {},
          "execution_count": 62
        }
      ]
    },
    {
      "cell_type": "code",
      "source": [
        "# Initial values of Krr:\n",
        "\n",
        "Krr_0 = 0\n",
        "\n",
        "\n",
        "#for i in range(2,N+1):\n",
        "#  SB[i,] = 2*SB[i-1,] - SB[i-2,]\n",
        "\n",
        "psi =  SB[0:N+1,:] \n",
        "\n",
        "inv_psi = np.linalg.inv(psi)\n",
        "\n",
        "ck0 = np.dot(Krr_0, inv_psi)\n",
        "\n",
        "Krr = np.dot(ck0, SB) "
      ],
      "metadata": {
        "id": "6DoQLlGJykeO"
      },
      "execution_count": 46,
      "outputs": []
    },
    {
      "cell_type": "code",
      "source": [
        "# Initial chi: solving the Hamiltonian constraint:\n",
        "\n",
        "\n",
        "\n",
        "for i in range(N+1):\n",
        "  c0[i] = 0.001\n",
        "\n",
        "Nt = 5\n",
        "\n",
        "for i in range(N+1):\n",
        "  \n",
        "\n",
        "\n",
        "Chi = np.dot(c0, SB) \n",
        "\n",
        "rChi = np.dot(c0, rSB)\n",
        "\n",
        "rrChi = np.dot(c0, rrSB)\n",
        "\n",
        "# We obtain the modes first and the values.\n",
        "\n"
      ],
      "metadata": {
        "id": "btQxt2NwWoTw"
      },
      "execution_count": 58,
      "outputs": []
    },
    {
      "cell_type": "code",
      "source": [
        "Chi"
      ],
      "metadata": {
        "id": "-naeVhbFGR6e",
        "outputId": "89be518e-6aee-4b0f-8488-3cac6aaf9e30",
        "colab": {
          "base_uri": "https://localhost:8080/"
        }
      },
      "execution_count": 64,
      "outputs": [
        {
          "output_type": "execute_result",
          "data": {
            "text/plain": [
              "array([2.00493671e-02, 2.49539626e-05, 6.67203632e-03, 5.00325463e-05,\n",
              "       3.98990528e-03, 7.53628741e-05, 2.83564091e-03, 1.01077181e-04,\n",
              "       2.19064313e-03, 1.27315644e-04, 1.77710564e-03, 1.54229574e-04,\n",
              "       1.48817438e-03, 1.81985117e-04, 1.27397922e-03, 2.10767674e-04,\n",
              "       1.10811383e-03, 2.40787309e-04, 9.75286082e-04, 2.72285488e-04,\n",
              "       8.66025404e-04, 3.05543640e-04, 7.74151422e-04, 3.40894228e-04,\n",
              "       6.95457651e-04, 3.78735282e-04, 6.26980169e-04, 4.19549816e-04,\n",
              "       5.66568876e-04, 4.63932202e-04, 5.12624679e-04])"
            ]
          },
          "metadata": {},
          "execution_count": 64
        }
      ]
    },
    {
      "cell_type": "code",
      "source": [
        "# Initial values of alpha:\n",
        "\n",
        "alpha_0 = \n",
        "\n",
        "al0 = np.dot(alpha_0, inv_SB)\n",
        "\n",
        "alpha = 1 + np.dot(al0, SB)"
      ],
      "metadata": {
        "id": "8kDnGNapXo8t"
      },
      "execution_count": null,
      "outputs": []
    },
    {
      "cell_type": "code",
      "source": [
        "# Initial values of beta:\n",
        "\n",
        "beta_0 = \n",
        "\n",
        "be0 = np.dot(beta_0, inv_SB)\n",
        "\n",
        "beta = np.dot(be0, SB)"
      ],
      "metadata": {
        "id": "AOE8N312YIa7"
      },
      "execution_count": null,
      "outputs": []
    }
  ]
}