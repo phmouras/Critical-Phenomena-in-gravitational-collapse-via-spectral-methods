{
  "nbformat": 4,
  "nbformat_minor": 0,
  "metadata": {
    "colab": {
      "name": "MS_spherical_collocation_shift_2.ipynb",
      "provenance": [],
      "include_colab_link": true
    },
    "kernelspec": {
      "name": "python3",
      "display_name": "Python 3"
    },
    "language_info": {
      "name": "python"
    }
  },
  "cells": [
    {
      "cell_type": "markdown",
      "metadata": {
        "id": "view-in-github",
        "colab_type": "text"
      },
      "source": [
        "<a href=\"https://colab.research.google.com/github/phmouras/Projeto_Pos/blob/main/MS_spherical_collocation_shift_2.ipynb\" target=\"_parent\"><img src=\"https://colab.research.google.com/assets/colab-badge.svg\" alt=\"Open In Colab\"/></a>"
      ]
    },
    {
      "cell_type": "code",
      "execution_count": 102,
      "metadata": {
        "id": "uwHk8h0y8ZBF"
      },
      "outputs": [],
      "source": [
        "import numpy as np\n",
        "import pandas as pd\n",
        "import matplotlib.pyplot as plt\n",
        "import math\n",
        "from numpy import exp\n",
        "\n",
        "\n",
        "\n",
        "N = 30\n",
        "\n",
        "L0 = 2                                                 # Map parameter\n",
        "\n",
        "col = np.cos(np.arange(2*N + 4)*math.pi /(2*N + 3))     # collocation points\n",
        "\n",
        "colr = col[1:N+2]\n",
        "\n",
        "r = L0 * colr/(np.sqrt(1-colr**2))                      # physical domain              \n",
        "\n",
        "rcol = 1/np.sqrt(L0**2+r**2)-r**2/(L0**2+r**2)**(3/2)          # dcol/dr\n",
        "\n",
        "rrcol = -3*r/(L0**2+r**2)**(3/2)+3*r**3/(L0**2+r**2)**(5/2)     # d^2 col/dr^2\n",
        "\n",
        "\n",
        "# Base Matrix (Tchebyshev Polinomials):\n",
        "\n",
        "SB = np.zeros([N+2,N+1])\n",
        "rSB = np.zeros([N+2,N+1])\n",
        "rrSB = np.zeros([N+2,N+1])\n",
        "\n",
        "\n",
        "\n",
        "\n",
        "for i in range(N+1+1):\n",
        "  SB[i,] = np.sin((2*i+1)*np.arctan(L0/r))                                                  \n",
        "\n",
        "for i in range(N+1+1):\n",
        "  rSB[i,] = -np.cos((2*i+1)*np.arctan(L0/r))*(2*i+1)*L0/(r**2*(1+L0**2/r**2)) \n",
        "\n",
        "for i in range(N+1+1):\n",
        "  rrSB[i,] = np.sin((2*i+1)*np.arctan(L0/r))*(2*i+1)**2*L0**2/(r**4*(1+L0**2/r**2)**2)+2*np.cos((2*i+1)*np.arctan(L0/r))*(2*i+1)*L0/(r**3*(1+L0**2/r**2))-2*np.cos((2*i+1)*np.arctan(L0/r))*(2*i+1)*L0**3/(r**5*(1+L0**2/r**2)**2)                     \n",
        "\n",
        "\n",
        "psi = SB[0:N+1,:]\n",
        "rpsi = rSB[0:N+1,:]\n",
        "rrpsi = rrSB[0:N+1,:]\n",
        "\n",
        "\n",
        "\n",
        "# Initial conditions of Phi                                     \n",
        "\n",
        "r0 = 0.5\n",
        "\n",
        "A0 = 0.0001\n",
        "\n",
        "sigma = 1\n",
        "\n",
        "Phi_0 = A0*r**2*np.exp(-(r-r0)**2/sigma**2)            # Phi initial\n",
        "\n",
        "rPhi_0 = 2*A0*r*np.exp(-(r-r0)**2/sigma**2)-2*A0*r**2*(r-r0)*np.exp(-(r-r0)**2/sigma**2)/sigma**2\n",
        "\n",
        "inv_psi = np.linalg.inv(psi)\n",
        "  \n",
        "a0 = np.dot(Phi_0, inv_psi)  # coeficients a(0)\n",
        "\n",
        "\n",
        "\n",
        "Phi = np.dot(a0, psi)      # approximative solution in t=0\n",
        "\n",
        "rPhi= np.dot(a0, rpsi)\n",
        "\n",
        "rrPhi = np.dot(a0, rrpsi)\n"
      ]
    },
    {
      "cell_type": "code",
      "source": [
        "np.shape(Phi)"
      ],
      "metadata": {
        "id": "A-C7w7bq5n_Z",
        "outputId": "2c5e0995-2ee8-4b06-9ee8-534252537a65",
        "colab": {
          "base_uri": "https://localhost:8080/"
        }
      },
      "execution_count": 103,
      "outputs": [
        {
          "output_type": "execute_result",
          "data": {
            "text/plain": [
              "(31,)"
            ]
          },
          "metadata": {},
          "execution_count": 103
        }
      ]
    },
    {
      "cell_type": "code",
      "source": [
        "# Plot: Initial Conditions\n",
        "\n",
        "M = 3000\n",
        "\n",
        "rplot = np.linspace(0,30,M)\n",
        "\n",
        "colplot = rplot/np.sqrt(L0**2 + rplot**2)\n",
        "\n",
        "SBplot = np.zeros([N+1,M])\n",
        "\n",
        "for i in range(N+1):\n",
        "  SBplot[i,] = np.sin((2*i+1)*np.arctan(L0/rplot))\n",
        "\n",
        "psiplot = SBplot[0:N+1,:] \n",
        "\n",
        "Phi_plot0 = 0.0001*rplot**2*np.exp(-(rplot-0.5)**2)     \n",
        "\n",
        "#dtf_plot0 = (2*(xplot))*np.exp(-(xplot)**2/u**2)/u**2 \n",
        "\n",
        "Phiplot = np.dot(a0, psiplot)\n",
        "\n",
        "erro = (Phiplot - Phi_plot0)\n",
        "\n",
        "#dtphiplot = np.dot(da, psiplot)\n",
        "#da01 = np.dot(dtf_k0, inv_psi)\n",
        "\n",
        "#dtfplot = (1-np.tanh((xplot-x0)/np.sqrt(-u**2+1))**2)*u/np.sqrt(-u**2+1)\n",
        "\n",
        "#dtphiplot = np.dot(da01, psiplot)\n"
      ],
      "metadata": {
        "colab": {
          "base_uri": "https://localhost:8080/"
        },
        "id": "g01SlunZmufp",
        "outputId": "9931d012-9980-4478-a202-e8bf265cf3a5"
      },
      "execution_count": 104,
      "outputs": [
        {
          "output_type": "stream",
          "name": "stderr",
          "text": [
            "/usr/local/lib/python3.7/dist-packages/ipykernel_launcher.py:12: RuntimeWarning: divide by zero encountered in true_divide\n",
            "  if sys.path[0] == '':\n"
          ]
        }
      ]
    },
    {
      "cell_type": "code",
      "source": [
        "np.shape(SBplot)"
      ],
      "metadata": {
        "id": "oR8hphsuHZgg",
        "outputId": "49495635-8d1c-41f4-ed67-b09941f502aa",
        "colab": {
          "base_uri": "https://localhost:8080/"
        }
      },
      "execution_count": 105,
      "outputs": [
        {
          "output_type": "execute_result",
          "data": {
            "text/plain": [
              "(31, 3000)"
            ]
          },
          "metadata": {},
          "execution_count": 105
        }
      ]
    },
    {
      "cell_type": "code",
      "source": [
        "plt.plot(colplot, Phiplot, colplot, Phi_plot0, \"--r\")\n",
        "plt.xlim(0,8)\n",
        "plt.xlabel('r')\n",
        "plt.show()"
      ],
      "metadata": {
        "id": "fEGkSYtUnTm4",
        "outputId": "a3009ca2-d1fa-400d-f2ba-53dcfef726c1",
        "colab": {
          "base_uri": "https://localhost:8080/",
          "height": 290
        }
      },
      "execution_count": 106,
      "outputs": [
        {
          "output_type": "display_data",
          "data": {
            "text/plain": [
              "<Figure size 432x288 with 1 Axes>"
            ],
            "image/png": "[encoded data removed]"
          },
          "metadata": {
            "needs_background": "light"
          }
        }
      ]
    },
    {
      "cell_type": "code",
      "source": [
        "plt.plot(colplot, erro)\n",
        "plt.xlim(0,8)\n",
        "plt.xlabel('r')\n",
        "plt.show()"
      ],
      "metadata": {
        "id": "aICP6HuQwuZx",
        "outputId": "6ba8c11b-215b-49df-878f-53ba394ad73f",
        "colab": {
          "base_uri": "https://localhost:8080/",
          "height": 290
        }
      },
      "execution_count": 107,
      "outputs": [
        {
          "output_type": "display_data",
          "data": {
            "text/plain": [
              "<Figure size 432x288 with 1 Axes>"
            ],
            "image/png": "[encoded data removed]"
          },
          "metadata": {
            "needs_background": "light"
          }
        }
      ]
    },
    {
      "cell_type": "code",
      "source": [
        "# Initial values of PI:\n",
        "\n",
        "Pi_0 = np.zeros([N+1])\n",
        "\n",
        "b0 = np.dot(Pi_0, inv_psi)\n",
        "\n",
        "Pi = np.dot(b0, psi) \n",
        "\n",
        "rPi= np.dot(b0, rpsi)\n",
        "\n",
        "rrPi = np.dot(b0, rrpsi)"
      ],
      "metadata": {
        "id": "xLjAafiixRWv"
      },
      "execution_count": 108,
      "outputs": []
    },
    {
      "cell_type": "code",
      "source": [
        "Pi_0"
      ],
      "metadata": {
        "id": "tvxM0lrmHL_t",
        "outputId": "4f77f884-b4d0-4609-9fba-35a8f0ee9bce",
        "colab": {
          "base_uri": "https://localhost:8080/"
        }
      },
      "execution_count": null,
      "outputs": [
        {
          "output_type": "execute_result",
          "data": {
            "text/plain": [
              "array([0., 0., 0., 0., 0., 0., 0., 0., 0., 0., 0., 0., 0., 0., 0., 0., 0.,\n",
              "       0., 0., 0., 0., 0., 0., 0., 0., 0., 0., 0., 0., 0., 0.])"
            ]
          },
          "metadata": {},
          "execution_count": 33
        }
      ]
    },
    {
      "cell_type": "code",
      "source": [
        "# Initial Chi: import from maple csv file\n",
        "\n",
        "url = 'https://raw.githubusercontent.com/phmouras/Projeto_Pos/main/c0.csv'\n",
        "\n",
        "df = pd.read_csv(url)\n",
        "\n",
        "c0 = np.array(list(map(float,df)))\n",
        " \n",
        "Chi = np.dot(c0, psi)\n",
        "\n",
        "rChi = np.dot(c0, rpsi)\n",
        "\n",
        "rrChi = np.dot(c0, rrpsi)"
      ],
      "metadata": {
        "id": "yazse8Ni5DTZ"
      },
      "execution_count": 109,
      "outputs": []
    },
    {
      "cell_type": "code",
      "source": [
        "c0"
      ],
      "metadata": {
        "id": "CxgxuXzZNVmb",
        "outputId": "a4ff283b-6630-49fe-bfd8-26e30d299e5d",
        "colab": {
          "base_uri": "https://localhost:8080/"
        }
      },
      "execution_count": null,
      "outputs": [
        {
          "output_type": "execute_result",
          "data": {
            "text/plain": [
              "array([ 2.11244881e-09, -4.42284025e-11, -7.69005646e-11, -1.59616706e-11,\n",
              "        1.33880981e-11,  1.90868466e-11, -1.38684232e-11, -4.63913559e-12,\n",
              "        6.34900109e-12,  4.28748874e-13, -1.88058183e-12, -1.35566101e-13,\n",
              "        5.46289003e-13,  8.19022919e-14, -1.38819769e-13, -5.19562172e-14,\n",
              "        3.16778225e-14,  2.11131522e-14, -2.21775252e-15, -7.90529271e-15,\n",
              "       -1.23255877e-15,  1.43612283e-15,  1.32346214e-15, -2.28348378e-16,\n",
              "       -2.71610211e-16, -2.31127418e-16,  1.23462540e-16,  2.72337210e-17,\n",
              "        5.02535192e-17, -3.98340467e-17, -7.49513688e-18])"
            ]
          },
          "metadata": {},
          "execution_count": 35
        }
      ]
    },
    {
      "cell_type": "code",
      "source": [
        "# Initial values of Krr:\n",
        "\n",
        "#Krr_0 = np.zeros([N+1])\n",
        "\n",
        "\n",
        "SB1 = 1/2*(SB[1:(N+2),:] + SB[0:(N+1),:])\n",
        "\n",
        "rSB1 = 1/2*(rSB[1:(N+2),:] + rSB[0:(N+1),:])\n",
        "\n",
        "rrSB1 = 1/2*(rrSB[1:(N+2),:] + rrSB[0:(N+1),:])\n",
        "\n",
        "\n",
        "#inv_SB1 = np.linalg.inv(SB1)\n",
        "\n",
        "#ck0 = np.dot(Krr_0, inv_SB1)\n",
        "\n",
        "\n",
        "# Equation for Krr: momentum constraint\n",
        "\n",
        "#res_krr = 2*np.dot(rChi,Krr) + rKrr + 3/r*Krr + np.dot(Pi,rPhi)*np.exp(4*Chi)\n",
        "\n",
        "Matrix_Krr = 2*np.dot(rChi, SB1) + rSB1 + (3/r)*SB1 \n",
        "\n",
        "inv_matrix_krr = np.linalg.inv(Matrix_Krr)\n",
        "\n",
        "ck0 = np.dot(- np.dot(Pi,rPhi)*np.exp(4*Chi), inv_matrix_krr)\n",
        "\n",
        "Krr = np.dot(ck0, SB1) \n",
        "\n",
        "rKrr = np.dot(ck0, rSB1)\n",
        "\n",
        "rrKrr = np.dot(ck0, rrSB1)"
      ],
      "metadata": {
        "id": "xUP2_j8OoEWy"
      },
      "execution_count": 110,
      "outputs": []
    },
    {
      "cell_type": "code",
      "source": [
        "ck0"
      ],
      "metadata": {
        "colab": {
          "base_uri": "https://localhost:8080/"
        },
        "id": "Kh9MKHeK4uwa",
        "outputId": "55e2c695-ffbd-484d-d8f9-32e7c18bcbc6"
      },
      "execution_count": null,
      "outputs": [
        {
          "output_type": "execute_result",
          "data": {
            "text/plain": [
              "array([0., 0., 0., 0., 0., 0., 0., 0., 0., 0., 0., 0., 0., 0., 0., 0., 0.,\n",
              "       0., 0., 0., 0., 0., 0., 0., 0., 0., 0., 0., 0., 0., 0.])"
            ]
          },
          "metadata": {},
          "execution_count": 37
        }
      ]
    },
    {
      "cell_type": "code",
      "source": [
        "# Equation for Alpha:\n",
        "\n",
        "\n",
        "# Initial values of alpha:\n",
        "\n",
        "#Alpha_0 = np.zeros([N+1])\n",
        "\n",
        "V = 0\n",
        "\n",
        "#res_alpha = rrAlpha + 2*(1/r + rrChi)*rAlpha - 3/2*Alpha*np.exp(-4*Chi)*Krr**2 - Alpha*np.exp(4*Chi)*(Pi*2-V)\n",
        "\n",
        "Matrix_Alpha = rrpsi + 2*np.dot(1/r + rrChi, rpsi) - np.dot(3/2*np.exp(-4*Chi)*Krr**2,psi) - np.dot(np.exp(4*Chi)*(Pi**2 - V),psi) \n",
        "\n",
        "inv_matrix_alpha = np.linalg.inv(Matrix_Alpha)\n",
        "\n",
        "al0 = np.dot(3/2*np.exp(-4*Chi)*Krr**2 + np.exp(4*Chi)*(Pi*2-V), inv_matrix_alpha)\n",
        "\n",
        "Alpha = 1 + np.dot(al0, psi)\n",
        "\n",
        "rAlpha = np.dot(al0, rpsi)\n",
        "\n",
        "rrAlpha = np.dot(al0, rrpsi)\n"
      ],
      "metadata": {
        "id": "pEhhIvr3miwi"
      },
      "execution_count": 111,
      "outputs": []
    },
    {
      "cell_type": "code",
      "source": [
        "Alpha"
      ],
      "metadata": {
        "id": "V3nnoUSqNg6e",
        "outputId": "762dabf1-6b70-42b8-cc9f-dd0d0fc1985e",
        "colab": {
          "base_uri": "https://localhost:8080/"
        }
      },
      "execution_count": null,
      "outputs": [
        {
          "output_type": "execute_result",
          "data": {
            "text/plain": [
              "array([1., 1., 1., 1., 1., 1., 1., 1., 1., 1., 1., 1., 1., 1., 1., 1., 1.,\n",
              "       1., 1., 1., 1., 1., 1., 1., 1., 1., 1., 1., 1., 1., 1.])"
            ]
          },
          "metadata": {},
          "execution_count": 39
        }
      ]
    },
    {
      "cell_type": "code",
      "source": [
        "\n",
        "# Initial values of beta:\n",
        "\n",
        "#Beta_0 = np.zeros([N+1])\n",
        "\n",
        "#be0 = np.dot(Beta_0, inv_psi)\n",
        "\n",
        "#Beta = np.dot(be0, psi)\n",
        "#rBeta = np.dot(be0, rpsi)\n",
        "#rrBeta = np.dot(be0, rrpsi)\n",
        "#rBeta_r = np.dot(be0, rpsi/r)\n",
        "\n",
        "# Equation for Beta:\n",
        "\n",
        "#res_beta = rBeta_r-3/2/r*Alpha*np.exp(-4*Chi)*Krr\n",
        "\n",
        "Matrix_Beta = rpsi/r - psi/r**2\n",
        "\n",
        "inv_matrix_beta = np.linalg.inv(Matrix_Beta)\n",
        "\n",
        "be0 = np.dot(np.dot(3*Alpha*np.exp(-4*Chi),Krr)/(2*r) , inv_matrix_beta)\n",
        "\n",
        "Beta = np.dot(be0, psi)\n",
        "\n",
        "rBeta = np.dot(be0, rpsi)\n",
        "\n",
        "rrBeta = np.dot(be0, rrpsi)"
      ],
      "metadata": {
        "id": "AOE8N312YIa7"
      },
      "execution_count": 112,
      "outputs": []
    },
    {
      "cell_type": "code",
      "source": [
        "Pi"
      ],
      "metadata": {
        "id": "DelUERQjNleP",
        "outputId": "d6ce04d6-add5-45b7-febe-91a642821754",
        "colab": {
          "base_uri": "https://localhost:8080/"
        }
      },
      "execution_count": null,
      "outputs": [
        {
          "output_type": "execute_result",
          "data": {
            "text/plain": [
              "array([0., 0., 0., 0., 0., 0., 0., 0., 0., 0., 0., 0., 0., 0., 0., 0., 0.,\n",
              "       0., 0., 0., 0., 0., 0., 0., 0., 0., 0., 0., 0., 0., 0.])"
            ]
          },
          "metadata": {},
          "execution_count": 41
        }
      ]
    },
    {
      "cell_type": "markdown",
      "source": [
        "Field  Equations"
      ],
      "metadata": {
        "id": "0UQQ067HVHxb"
      }
    },
    {
      "cell_type": "code",
      "source": [
        "# Equation for Phi: \n",
        "\n",
        "da = np.dot(np.dot(Alpha,Pi)*np.exp(-6*Chi) + np.dot(Beta, rPhi), inv_psi)\n",
        "\n",
        "da"
      ],
      "metadata": {
        "id": "YxvdWpTedvnE",
        "outputId": "74c2271c-ef18-478c-b75e-a3452f438a2e",
        "colab": {
          "base_uri": "https://localhost:8080/"
        }
      },
      "execution_count": null,
      "outputs": [
        {
          "output_type": "execute_result",
          "data": {
            "text/plain": [
              "array([0., 0., 0., 0., 0., 0., 0., 0., 0., 0., 0., 0., 0., 0., 0., 0., 0.,\n",
              "       0., 0., 0., 0., 0., 0., 0., 0., 0., 0., 0., 0., 0., 0.])"
            ]
          },
          "metadata": {},
          "execution_count": 42
        }
      ]
    },
    {
      "cell_type": "code",
      "source": [
        "# Equation for Pi: KG equation\n",
        "\n",
        "db = np.dot(np.dot(Beta, rPi) + np.exp(-4*Chi)*(2*Alpha/r + rAlpha + 2*rChi*Alpha)*rPhi + np.exp(-4*Chi)*Alpha*rrPhi - Alpha* V, inv_psi)\n",
        "\n",
        "db"
      ],
      "metadata": {
        "id": "myO4EkdhftUy",
        "outputId": "04e42f81-06db-4a0d-9ca4-11d98ddc6cea",
        "colab": {
          "base_uri": "https://localhost:8080/"
        }
      },
      "execution_count": 113,
      "outputs": [
        {
          "output_type": "execute_result",
          "data": {
            "text/plain": [
              "array([ 1.72891094e-04, -9.14324705e-05, -3.91324051e-05,  9.43190243e-05,\n",
              "       -2.42130993e-05, -4.29939132e-05,  2.21612909e-05,  1.25658892e-05,\n",
              "       -5.34292421e-06, -6.32180775e-06,  1.23072463e-06,  1.62905982e-06,\n",
              "        1.04806194e-06, -9.75827538e-07,  1.48900480e-08, -4.65125824e-07,\n",
              "        5.58811108e-07, -3.20494874e-07,  4.00060072e-07, -4.18554905e-07,\n",
              "        3.52855584e-07, -3.61694772e-07,  3.50708086e-07, -3.20045692e-07,\n",
              "        3.05515516e-07, -2.80441583e-07,  2.48373336e-07, -2.15569292e-07,\n",
              "        1.73567821e-07, -1.23478505e-07,  6.55683417e-08])"
            ]
          },
          "metadata": {},
          "execution_count": 113
        }
      ]
    },
    {
      "cell_type": "code",
      "source": [
        "# Equation for Chi:\n",
        "\n",
        "dc = np.dot(np.dot(Beta,rChi) + Beta/2/r + Alpha/4*np.exp(-4*Chi)*Krr, inv_psi)    \n",
        "\n",
        "dc"
      ],
      "metadata": {
        "id": "Jodpxft0LQJm",
        "outputId": "19cff110-390b-4c58-9b5a-1c8aa26ad63b",
        "colab": {
          "base_uri": "https://localhost:8080/"
        }
      },
      "execution_count": 114,
      "outputs": [
        {
          "output_type": "execute_result",
          "data": {
            "text/plain": [
              "array([0., 0., 0., 0., 0., 0., 0., 0., 0., 0., 0., 0., 0., 0., 0., 0., 0.,\n",
              "       0., 0., 0., 0., 0., 0., 0., 0., 0., 0., 0., 0., 0., 0.])"
            ]
          },
          "metadata": {},
          "execution_count": 114
        }
      ]
    },
    {
      "cell_type": "code",
      "source": [
        "# Runge Kutta 4th order\n",
        "\n",
        "h = 0.01\n",
        "tf = 100\n",
        "\n",
        "It = int(tf/h)\n",
        "\n",
        "t = np.linspace(0, tf, It) \n",
        "\n",
        "phi_set = np.zeros([It,M])\n",
        "chi_set = np.zeros([It,M])\n",
        "pi_set = np.zeros([It,M])\n",
        "\n",
        "\n",
        "\n",
        "for i in range(It):\n",
        "  db = np.dot(np.dot(Beta, rPi) + np.exp(-4*Chi)*(2*Alpha/r + rAlpha + 2*rChi*Alpha)*rPhi + np.exp(-4*Chi)*Alpha*rrPhi - Alpha* V, inv_psi)   # Pi\n",
        "  dc = np.dot(np.dot(Beta,rChi) + Beta/2/r + Alpha/4*np.exp(-4*Chi)*Krr, inv_psi)    # Chi\n",
        "  da = np.dot(np.dot(Alpha,Pi)*np.exp(-6*Chi) + np.dot(Beta, rPhi), inv_psi)   # Phi\n",
        "  K1 = h*(dc)\n",
        "  L1 = h*(da)\n",
        "  N1 = h*(db)\n",
        "  Phi = np.dot(a0 + L1/2, psi)     \n",
        "  rPhi= np.dot(a0 + L1/2 , rpsi)\n",
        "  rrPhi = np.dot(a0 + L1/2, rrpsi)  \n",
        "  Pi = np.dot(b0 + N1/2, psi)\n",
        "  rPi= np.dot(b0 + N1/2, rpsi)\n",
        "  rrPi = np.dot(b0 + N1/2, rrpsi)\n",
        "  Chi = np.dot(c0 + K1/2, psi)\n",
        "  rChi = np.dot(c0 + K1/2, rpsi)\n",
        "  rrChi = np.dot(c0 + K1/2, rrpsi)\n",
        "  Matrix_Krr = 2*np.dot(rChi, SB1) + rSB1 + (3/r)*SB1 \n",
        "  ck0 = np.dot(- np.dot(Pi,rPhi)*np.exp(4*Chi), inv_matrix_krr)\n",
        "  Matrix_Alpha = rrpsi + 2*np.dot(1/r + rrChi, rpsi) - np.dot(3/2*np.exp(-4*Chi)*Krr**2,psi) - np.dot(np.exp(4*Chi)*(Pi**2 - V),psi) \n",
        "  al0 = np.dot(3/2*np.exp(-4*Chi)*Krr**2 + np.exp(4*Chi)*(Pi*2-V), inv_matrix_alpha)\n",
        "  Matrix_Beta = rpsi/r - psi/r**2\n",
        "  be0 = np.dot(np.dot(3*Alpha*np.exp(-4*Chi),Krr)/(2*r) , inv_matrix_beta)\n",
        "  Krr = np.dot(ck0, SB1) \n",
        "  rKrr = np.dot(ck0, rSB1)\n",
        "  rrKrr = np.dot(ck0, rrSB1)\n",
        "  Alpha = 1 + np.dot(al0, psi)\n",
        "  rAlpha = np.dot(al0, rpsi)\n",
        "  rrAlpha = np.dot(al0, rrpsi)\n",
        "  Beta = np.dot(be0, psi)\n",
        "  rBeta = np.dot(be0, rpsi)\n",
        "  rrBeta = np.dot(be0, rrpsi)\n",
        "  db = np.dot(np.dot(Beta, rPi) + np.exp(-4*Chi)*(2*Alpha/r + rAlpha + 2*rChi*Alpha)*rPhi + np.exp(-4*Chi)*Alpha*rrPhi - Alpha* V, inv_psi)\n",
        "  dc = np.dot(np.dot(Beta,rChi) + Beta/2/r + Alpha/4*np.exp(-4*Chi)*Krr, inv_psi)    \n",
        "  da = np.dot(np.dot(Alpha,Pi)*np.exp(-6*Chi) + np.dot(Beta, rPhi), inv_psi)\n",
        "  K2 = h*(dc)\n",
        "  L2 = h*(da)\n",
        "  N2 = h*(db)\n",
        "  Phi = np.dot(a0 + L2/2, psi)     \n",
        "  rPhi = np.dot(a0 + L2/2 , rpsi)\n",
        "  rrPhi = np.dot(a0 + L2/2, rrpsi) \n",
        "  Pi = np.dot(b0 + N2/2, psi)\n",
        "  rPi= np.dot(b0 + N2/2, rpsi)\n",
        "  rrPi = np.dot(b0 + N2/2, rrpsi)\n",
        "  Chi = np.dot(c0 + K2/2, psi)\n",
        "  rChi = np.dot(c0 + K2/2, rpsi)\n",
        "  rrChi = np.dot(c0 + K2/2, rrpsi)\n",
        "  Matrix_Krr = 2*np.dot(rChi, SB1) + rSB1 + (3/r)*SB1 \n",
        "  ck0 = np.dot(- np.dot(Pi,rPhi)*np.exp(4*Chi), inv_matrix_krr)\n",
        "  Matrix_Alpha = rrpsi + 2*np.dot(1/r + rrChi, rpsi) - np.dot(3/2*np.exp(-4*Chi)*Krr**2,psi) - np.dot(np.exp(4*Chi)*(Pi**2 - V),psi) \n",
        "  al0 = np.dot(3/2*np.exp(-4*Chi)*Krr**2 + np.exp(4*Chi)*(Pi*2-V), inv_matrix_alpha)\n",
        "  Matrix_Beta = rpsi/r - psi/r**2\n",
        "  be0 = np.dot(np.dot(3*Alpha*np.exp(-4*Chi),Krr)/(2*r) , inv_matrix_beta)\n",
        "  Krr = np.dot(ck0, SB1) \n",
        "  rKrr = np.dot(ck0, rSB1)\n",
        "  rrKrr = np.dot(ck0, rrSB1)\n",
        "  Alpha = 1 + np.dot(al0, psi)\n",
        "  rAlpha = np.dot(al0, rpsi)\n",
        "  rrAlpha = np.dot(al0, rrpsi)\n",
        "  Beta = np.dot(be0, psi)\n",
        "  rBeta = np.dot(be0, rpsi)\n",
        "  rrBeta = np.dot(be0, rrpsi)\n",
        "  db = np.dot(np.dot(Beta, rPi) + np.exp(-4*Chi)*(2*Alpha/r + rAlpha + 2*rChi*Alpha)*rPhi + np.exp(-4*Chi)*Alpha*rrPhi - Alpha* V, inv_psi)\n",
        "  dc = np.dot(np.dot(Beta,rChi) + Beta/2/r + Alpha/4*np.exp(-4*Chi)*Krr, inv_psi)    \n",
        "  da = np.dot(np.dot(Alpha,Pi)*np.exp(-6*Chi) + np.dot(Beta, rPhi), inv_psi)\n",
        "  K3 = h*(dc)\n",
        "  L3 = h*(da)\n",
        "  N3 = h*(db) \n",
        "  Phi = np.dot(a0 + L3, psi)     \n",
        "  rPhi= np.dot(a0 + L3 , rpsi)\n",
        "  rrPhi = np.dot(a0 + L3, rrpsi) \n",
        "  Pi = np.dot(b0 + N3, psi)\n",
        "  rPi= np.dot(b0 + N3, rpsi)\n",
        "  rrPi = np.dot(b0 + N3, rrpsi)\n",
        "  Chi = np.dot(c0 + K3, psi)\n",
        "  rChi = np.dot(c0 + K3, rpsi)\n",
        "  rrChi = np.dot(c0 + K3, rrpsi)\n",
        "  Matrix_Krr = 2*np.dot(rChi, SB1) + rSB1 + (3/r)*SB1 \n",
        "  ck0 = np.dot(- np.dot(Pi,rPhi)*np.exp(4*Chi), inv_matrix_krr)\n",
        "  Matrix_Alpha = rrpsi + 2*np.dot(1/r + rrChi, rpsi) - np.dot(3/2*np.exp(-4*Chi)*Krr**2,psi) - np.dot(np.exp(4*Chi)*(Pi**2 - V),psi) \n",
        "  al0 = np.dot(3/2*np.exp(-4*Chi)*Krr**2 + np.exp(4*Chi)*(Pi*2-V), inv_matrix_alpha)\n",
        "  Matrix_Beta = rpsi/r - psi/r**2\n",
        "  be0 = np.dot(np.dot(3*Alpha*np.exp(-4*Chi),Krr)/(2*r) , inv_matrix_beta)\n",
        "  Krr = np.dot(ck0, SB1) \n",
        "  rKrr = np.dot(ck0, rSB1)\n",
        "  rrKrr = np.dot(ck0, rrSB1)\n",
        "  Alpha = 1 + np.dot(al0, psi)\n",
        "  rAlpha = np.dot(al0, rpsi)\n",
        "  rrAlpha = np.dot(al0, rrpsi)\n",
        "  Beta = np.dot(be0, psi)\n",
        "  rBeta = np.dot(be0, rpsi)\n",
        "  rrBeta = np.dot(be0, rrpsi)\n",
        "  db = np.dot(np.dot(Beta, rPi) + np.exp(-4*Chi)*(2*Alpha/r + rAlpha + 2*rChi*Alpha)*rPhi + np.exp(-4*Chi)*Alpha*rrPhi - Alpha* V, inv_psi)\n",
        "  dc = np.dot(np.dot(Beta,rChi) + Beta/2/r + Alpha/4*np.exp(-4*Chi)*Krr, inv_psi)    \n",
        "  da = np.dot(np.dot(Alpha,Pi)*np.exp(-6*Chi) + np.dot(Beta, rPhi), inv_psi)\n",
        "  K4 = h*(dc)\n",
        "  L4 = h*(da)\n",
        "  N4 = h*(db)\n",
        "  c0 = c0 + 1/6 * (K1 + 2*K2 + 2*K3 + K4)\n",
        "  chi_set[i,:] = np.dot(c0, psiplot)"
      ],
      "metadata": {
        "id": "J9Xlw9Pagaak"
      },
      "execution_count": 132,
      "outputs": []
    },
    {
      "cell_type": "code",
      "source": [
        "a0 = a0 + 1/6 * (L1 + 2*L2 + 2*L3 + L4)\n",
        "b0 = b0 + 1/6 * (N1 + 2*N2 + 2*N3 + N4)\n",
        "c0 = c0 + 1/6 * (K1 + 2*K2 + 2*K3 + K4)  \n",
        "phi_set[i,:] = np.dot(a0, psiplot)\n",
        "pi_set[i,:] = np.dot(b0, psiplot)\n",
        "chi_set[i,:] = np.dot(c0, psiplot)"
      ],
      "metadata": {
        "id": "ZUn-aIsa_vvV"
      },
      "execution_count": 129,
      "outputs": []
    },
    {
      "cell_type": "code",
      "source": [
        "c0"
      ],
      "metadata": {
        "id": "eR26VPBM7MnO",
        "outputId": "45fe1869-70c3-476a-e467-0eb87551da87",
        "colab": {
          "base_uri": "https://localhost:8080/"
        }
      },
      "execution_count": 138,
      "outputs": [
        {
          "output_type": "execute_result",
          "data": {
            "text/plain": [
              "array([ 9.84713534e-05,  4.25893969e-06,  1.24943073e-05, -7.21181958e-08,\n",
              "        4.88385131e-06, -5.09544880e-07,  2.33575147e-06, -4.99391224e-07,\n",
              "        1.13050251e-06, -4.02061356e-07,  4.58352577e-07, -2.91359778e-07,\n",
              "        4.76144930e-08, -1.86529518e-07, -2.16213691e-07, -9.29292792e-08,\n",
              "       -3.88546868e-07, -1.19847462e-08, -4.98562583e-07,  5.57994559e-08,\n",
              "       -5.62109760e-07,  1.09717674e-07, -5.87259906e-07,  1.48217262e-07,\n",
              "       -5.76553634e-07,  1.68130488e-07, -5.27129001e-07,  1.63035946e-07,\n",
              "       -4.27950730e-07,  1.17914950e-07, -2.47178286e-07])"
            ]
          },
          "metadata": {},
          "execution_count": 138
        }
      ]
    },
    {
      "cell_type": "code",
      "source": [
        "for i in range(It):\n",
        "  plt.plot(colplot, chi_set[i,:])"
      ],
      "metadata": {
        "id": "UHX-Bjic4y9W",
        "outputId": "3052f7f2-71d4-44f2-fae7-fb495b305899",
        "colab": {
          "base_uri": "https://localhost:8080/",
          "height": 265
        }
      },
      "execution_count": 139,
      "outputs": [
        {
          "output_type": "display_data",
          "data": {
            "text/plain": [
              "<Figure size 432x288 with 1 Axes>"
            ],
            "image/png": "[encoded data removed]"
          },
          "metadata": {
            "needs_background": "light"
          }
        }
      ]
    },
    {
      "cell_type": "code",
      "source": [
        "np.shape(chi_set)"
      ],
      "metadata": {
        "id": "KHcum0YvoY4a",
        "outputId": "6e216725-1726-4a12-bf4b-86cd8221712e",
        "colab": {
          "base_uri": "https://localhost:8080/"
        }
      },
      "execution_count": null,
      "outputs": [
        {
          "output_type": "execute_result",
          "data": {
            "text/plain": [
              "(10000, 3000)"
            ]
          },
          "metadata": {},
          "execution_count": 20
        }
      ]
    },
    {
      "cell_type": "code",
      "source": [
        "# Animation plot\n",
        "\n",
        "from matplotlib.animation import FuncAnimation\n",
        "from IPython.display import HTML\n",
        "\n",
        "fig = plt.figure()\n",
        "ax = plt.axes(xlim=(0, 15), ylim = (0, 0.0002))\n",
        "line, = ax.plot([], [], lw=2)\n",
        "\n",
        "x = rplot\n",
        "\n",
        "def init():\n",
        "    line.set_data([], [])\n",
        "    return line,\n",
        "\n",
        "def animate(i):\n",
        "  y = chi_set[i,:]\n",
        "  line.set_data(x, y)\n",
        "  return line,\n",
        "\n",
        "anim = FuncAnimation(fig, animate, init_func=init,\n",
        "                               frames=20000, interval=2, blit=True)\n",
        "\n",
        "HTML(anim.to_html5_video())"
      ],
      "metadata": {
        "id": "uGKy-EA20cfX",
        "outputId": "8577c945-6f26-4df2-a10d-993dee28f1fc",
        "colab": {
          "base_uri": "https://localhost:8080/",
          "height": 588
        }
      },
      "execution_count": null,
      "outputs": [
        {
          "output_type": "error",
          "ename": "IndexError",
          "evalue": "ignored",
          "traceback": [
            "\u001b[0;31m---------------------------------------------------------------------------\u001b[0m",
            "\u001b[0;31mIndexError\u001b[0m                                Traceback (most recent call last)",
            "\u001b[0;32m<ipython-input-22-98f5bcd8b782>\u001b[0m in \u001b[0;36m<module>\u001b[0;34m\u001b[0m\n\u001b[1;32m     22\u001b[0m                                frames=20000, interval=2, blit=True)\n\u001b[1;32m     23\u001b[0m \u001b[0;34m\u001b[0m\u001b[0m\n\u001b[0;32m---> 24\u001b[0;31m \u001b[0mHTML\u001b[0m\u001b[0;34m(\u001b[0m\u001b[0manim\u001b[0m\u001b[0;34m.\u001b[0m\u001b[0mto_html5_video\u001b[0m\u001b[0;34m(\u001b[0m\u001b[0;34m)\u001b[0m\u001b[0;34m)\u001b[0m\u001b[0;34m\u001b[0m\u001b[0;34m\u001b[0m\u001b[0m\n\u001b[0m",
            "\u001b[0;32m/usr/local/lib/python3.7/dist-packages/matplotlib/animation.py\u001b[0m in \u001b[0;36mto_html5_video\u001b[0;34m(self, embed_limit)\u001b[0m\n\u001b[1;32m   1330\u001b[0m                                 \u001b[0mbitrate\u001b[0m\u001b[0;34m=\u001b[0m\u001b[0mrcParams\u001b[0m\u001b[0;34m[\u001b[0m\u001b[0;34m'animation.bitrate'\u001b[0m\u001b[0;34m]\u001b[0m\u001b[0;34m,\u001b[0m\u001b[0;34m\u001b[0m\u001b[0;34m\u001b[0m\u001b[0m\n\u001b[1;32m   1331\u001b[0m                                 fps=1000. / self._interval)\n\u001b[0;32m-> 1332\u001b[0;31m                 \u001b[0mself\u001b[0m\u001b[0;34m.\u001b[0m\u001b[0msave\u001b[0m\u001b[0;34m(\u001b[0m\u001b[0mstr\u001b[0m\u001b[0;34m(\u001b[0m\u001b[0mpath\u001b[0m\u001b[0;34m)\u001b[0m\u001b[0;34m,\u001b[0m \u001b[0mwriter\u001b[0m\u001b[0;34m=\u001b[0m\u001b[0mwriter\u001b[0m\u001b[0;34m)\u001b[0m\u001b[0;34m\u001b[0m\u001b[0;34m\u001b[0m\u001b[0m\n\u001b[0m\u001b[1;32m   1333\u001b[0m                 \u001b[0;31m# Now open and base64 encode.\u001b[0m\u001b[0;34m\u001b[0m\u001b[0;34m\u001b[0m\u001b[0;34m\u001b[0m\u001b[0m\n\u001b[1;32m   1334\u001b[0m                 \u001b[0mvid64\u001b[0m \u001b[0;34m=\u001b[0m \u001b[0mbase64\u001b[0m\u001b[0;34m.\u001b[0m\u001b[0mencodebytes\u001b[0m\u001b[0;34m(\u001b[0m\u001b[0mpath\u001b[0m\u001b[0;34m.\u001b[0m\u001b[0mread_bytes\u001b[0m\u001b[0;34m(\u001b[0m\u001b[0;34m)\u001b[0m\u001b[0;34m)\u001b[0m\u001b[0;34m\u001b[0m\u001b[0;34m\u001b[0m\u001b[0m\n",
            "\u001b[0;32m/usr/local/lib/python3.7/dist-packages/matplotlib/animation.py\u001b[0m in \u001b[0;36msave\u001b[0;34m(self, filename, writer, fps, dpi, codec, bitrate, extra_args, metadata, extra_anim, savefig_kwargs, progress_callback)\u001b[0m\n\u001b[1;32m   1146\u001b[0m                     \u001b[0;32mfor\u001b[0m \u001b[0manim\u001b[0m\u001b[0;34m,\u001b[0m \u001b[0md\u001b[0m \u001b[0;32min\u001b[0m \u001b[0mzip\u001b[0m\u001b[0;34m(\u001b[0m\u001b[0mall_anim\u001b[0m\u001b[0;34m,\u001b[0m \u001b[0mdata\u001b[0m\u001b[0;34m)\u001b[0m\u001b[0;34m:\u001b[0m\u001b[0;34m\u001b[0m\u001b[0;34m\u001b[0m\u001b[0m\n\u001b[1;32m   1147\u001b[0m                         \u001b[0;31m# TODO: See if turning off blit is really necessary\u001b[0m\u001b[0;34m\u001b[0m\u001b[0;34m\u001b[0m\u001b[0;34m\u001b[0m\u001b[0m\n\u001b[0;32m-> 1148\u001b[0;31m                         \u001b[0manim\u001b[0m\u001b[0;34m.\u001b[0m\u001b[0m_draw_next_frame\u001b[0m\u001b[0;34m(\u001b[0m\u001b[0md\u001b[0m\u001b[0;34m,\u001b[0m \u001b[0mblit\u001b[0m\u001b[0;34m=\u001b[0m\u001b[0;32mFalse\u001b[0m\u001b[0;34m)\u001b[0m\u001b[0;34m\u001b[0m\u001b[0;34m\u001b[0m\u001b[0m\n\u001b[0m\u001b[1;32m   1149\u001b[0m                         \u001b[0;32mif\u001b[0m \u001b[0mprogress_callback\u001b[0m \u001b[0;32mis\u001b[0m \u001b[0;32mnot\u001b[0m \u001b[0;32mNone\u001b[0m\u001b[0;34m:\u001b[0m\u001b[0;34m\u001b[0m\u001b[0;34m\u001b[0m\u001b[0m\n\u001b[1;32m   1150\u001b[0m                             \u001b[0mprogress_callback\u001b[0m\u001b[0;34m(\u001b[0m\u001b[0mframe_number\u001b[0m\u001b[0;34m,\u001b[0m \u001b[0mtotal_frames\u001b[0m\u001b[0;34m)\u001b[0m\u001b[0;34m\u001b[0m\u001b[0;34m\u001b[0m\u001b[0m\n",
            "\u001b[0;32m/usr/local/lib/python3.7/dist-packages/matplotlib/animation.py\u001b[0m in \u001b[0;36m_draw_next_frame\u001b[0;34m(self, framedata, blit)\u001b[0m\n\u001b[1;32m   1186\u001b[0m         \u001b[0;31m# post- draw, as well as the drawing of the frame itself.\u001b[0m\u001b[0;34m\u001b[0m\u001b[0;34m\u001b[0m\u001b[0;34m\u001b[0m\u001b[0m\n\u001b[1;32m   1187\u001b[0m         \u001b[0mself\u001b[0m\u001b[0;34m.\u001b[0m\u001b[0m_pre_draw\u001b[0m\u001b[0;34m(\u001b[0m\u001b[0mframedata\u001b[0m\u001b[0;34m,\u001b[0m \u001b[0mblit\u001b[0m\u001b[0;34m)\u001b[0m\u001b[0;34m\u001b[0m\u001b[0;34m\u001b[0m\u001b[0m\n\u001b[0;32m-> 1188\u001b[0;31m         \u001b[0mself\u001b[0m\u001b[0;34m.\u001b[0m\u001b[0m_draw_frame\u001b[0m\u001b[0;34m(\u001b[0m\u001b[0mframedata\u001b[0m\u001b[0;34m)\u001b[0m\u001b[0;34m\u001b[0m\u001b[0;34m\u001b[0m\u001b[0m\n\u001b[0m\u001b[1;32m   1189\u001b[0m         \u001b[0mself\u001b[0m\u001b[0;34m.\u001b[0m\u001b[0m_post_draw\u001b[0m\u001b[0;34m(\u001b[0m\u001b[0mframedata\u001b[0m\u001b[0;34m,\u001b[0m \u001b[0mblit\u001b[0m\u001b[0;34m)\u001b[0m\u001b[0;34m\u001b[0m\u001b[0;34m\u001b[0m\u001b[0m\n\u001b[1;32m   1190\u001b[0m \u001b[0;34m\u001b[0m\u001b[0m\n",
            "\u001b[0;32m/usr/local/lib/python3.7/dist-packages/matplotlib/animation.py\u001b[0m in \u001b[0;36m_draw_frame\u001b[0;34m(self, framedata)\u001b[0m\n\u001b[1;32m   1764\u001b[0m         \u001b[0;31m# Call the func with framedata and args. If blitting is desired,\u001b[0m\u001b[0;34m\u001b[0m\u001b[0;34m\u001b[0m\u001b[0;34m\u001b[0m\u001b[0m\n\u001b[1;32m   1765\u001b[0m         \u001b[0;31m# func needs to return a sequence of any artists that were modified.\u001b[0m\u001b[0;34m\u001b[0m\u001b[0;34m\u001b[0m\u001b[0;34m\u001b[0m\u001b[0m\n\u001b[0;32m-> 1766\u001b[0;31m         \u001b[0mself\u001b[0m\u001b[0;34m.\u001b[0m\u001b[0m_drawn_artists\u001b[0m \u001b[0;34m=\u001b[0m \u001b[0mself\u001b[0m\u001b[0;34m.\u001b[0m\u001b[0m_func\u001b[0m\u001b[0;34m(\u001b[0m\u001b[0mframedata\u001b[0m\u001b[0;34m,\u001b[0m \u001b[0;34m*\u001b[0m\u001b[0mself\u001b[0m\u001b[0;34m.\u001b[0m\u001b[0m_args\u001b[0m\u001b[0;34m)\u001b[0m\u001b[0;34m\u001b[0m\u001b[0;34m\u001b[0m\u001b[0m\n\u001b[0m\u001b[1;32m   1767\u001b[0m         \u001b[0;32mif\u001b[0m \u001b[0mself\u001b[0m\u001b[0;34m.\u001b[0m\u001b[0m_blit\u001b[0m\u001b[0;34m:\u001b[0m\u001b[0;34m\u001b[0m\u001b[0;34m\u001b[0m\u001b[0m\n\u001b[1;32m   1768\u001b[0m             \u001b[0;32mif\u001b[0m \u001b[0mself\u001b[0m\u001b[0;34m.\u001b[0m\u001b[0m_drawn_artists\u001b[0m \u001b[0;32mis\u001b[0m \u001b[0;32mNone\u001b[0m\u001b[0;34m:\u001b[0m\u001b[0;34m\u001b[0m\u001b[0;34m\u001b[0m\u001b[0m\n",
            "\u001b[0;32m<ipython-input-22-98f5bcd8b782>\u001b[0m in \u001b[0;36manimate\u001b[0;34m(i)\u001b[0m\n\u001b[1;32m     15\u001b[0m \u001b[0;34m\u001b[0m\u001b[0m\n\u001b[1;32m     16\u001b[0m \u001b[0;32mdef\u001b[0m \u001b[0manimate\u001b[0m\u001b[0;34m(\u001b[0m\u001b[0mi\u001b[0m\u001b[0;34m)\u001b[0m\u001b[0;34m:\u001b[0m\u001b[0;34m\u001b[0m\u001b[0;34m\u001b[0m\u001b[0m\n\u001b[0;32m---> 17\u001b[0;31m   \u001b[0my\u001b[0m \u001b[0;34m=\u001b[0m \u001b[0mchi_set\u001b[0m\u001b[0;34m[\u001b[0m\u001b[0mi\u001b[0m\u001b[0;34m,\u001b[0m\u001b[0;34m:\u001b[0m\u001b[0;34m]\u001b[0m\u001b[0;34m\u001b[0m\u001b[0;34m\u001b[0m\u001b[0m\n\u001b[0m\u001b[1;32m     18\u001b[0m   \u001b[0mline\u001b[0m\u001b[0;34m.\u001b[0m\u001b[0mset_data\u001b[0m\u001b[0;34m(\u001b[0m\u001b[0mx\u001b[0m\u001b[0;34m,\u001b[0m \u001b[0my\u001b[0m\u001b[0;34m)\u001b[0m\u001b[0;34m\u001b[0m\u001b[0;34m\u001b[0m\u001b[0m\n\u001b[1;32m     19\u001b[0m   \u001b[0;32mreturn\u001b[0m \u001b[0mline\u001b[0m\u001b[0;34m,\u001b[0m\u001b[0;34m\u001b[0m\u001b[0;34m\u001b[0m\u001b[0m\n",
            "\u001b[0;31mIndexError\u001b[0m: index 10000 is out of bounds for axis 0 with size 10000"
          ]
        },
        {
          "output_type": "display_data",
          "data": {
            "text/plain": [
              "<Figure size 432x288 with 1 Axes>"
            ],
            "image/png": "[encoded data removed]"
          },
          "metadata": {
            "needs_background": "light"
          }
        }
      ]
    }
  ]
}