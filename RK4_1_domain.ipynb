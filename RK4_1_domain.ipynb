{
  "nbformat": 4,
  "nbformat_minor": 0,
  "metadata": {
    "colab": {
      "name": "RK4_1_domain.ipynb",
      "provenance": [],
      "authorship_tag": "ABX9TyMQsR0bUdVwycW7XfYliNKB",
      "include_colab_link": true
    },
    "kernelspec": {
      "name": "python3",
      "display_name": "Python 3"
    },
    "language_info": {
      "name": "python"
    }
  },
  "cells": [
    {
      "cell_type": "markdown",
      "metadata": {
        "id": "view-in-github",
        "colab_type": "text"
      },
      "source": [
        "<a href=\"https://colab.research.google.com/github/phmouras/Projeto_Pos/blob/main/RK4_1_domain.ipynb\" target=\"_parent\"><img src=\"https://colab.research.google.com/assets/colab-badge.svg\" alt=\"Open In Colab\"/></a>"
      ]
    },
    {
      "cell_type": "code",
      "execution_count": 15,
      "metadata": {
        "colab": {
          "base_uri": "https://localhost:8080/"
        },
        "id": "8M5r8zd0269r",
        "outputId": "765814b0-6ae9-4880-fcbf-62aea1814d53"
      },
      "outputs": [
        {
          "output_type": "stream",
          "name": "stdout",
          "text": [
            "[0. 1. 2. 3. 4. 5. 6.]\n"
          ]
        }
      ],
      "source": [
        "import math\n",
        "import numpy as np\n",
        "from scipy.special import eval_chebyt as T\n",
        "N = 5\n",
        "\n",
        "eta = [] # pontos de colocação\n",
        "for k in range(N):\n",
        "  eta.append(math.cos(math.pi * k/(N)))\n",
        "\n",
        "x = np.array()\n",
        "\n",
        "T_0 = T(0,0)\n",
        "\n",
        "\n",
        "T_1 = T(1,x)\n",
        "\n",
        "\n",
        "print(T_1)"
      ]
    }
  ]
}