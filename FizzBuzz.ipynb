{
  "nbformat": 4,
  "nbformat_minor": 0,
  "metadata": {
    "colab": {
      "provenance": [],
      "authorship_tag": "ABX9TyPogRFSAnsZPU5dzAPsizSF",
      "include_colab_link": true
    },
    "kernelspec": {
      "name": "python3",
      "display_name": "Python 3"
    },
    "language_info": {
      "name": "python"
    }
  },
  "cells": [
    {
      "cell_type": "markdown",
      "metadata": {
        "id": "view-in-github",
        "colab_type": "text"
      },
      "source": [
        "<a href=\"https://colab.research.google.com/github/phmouras/Critical-Phenomena-in-gravitational-collapse-via-spectral-methods/blob/main/FizzBuzz.ipynb\" target=\"_parent\"><img src=\"https://colab.research.google.com/assets/colab-badge.svg\" alt=\"Open In Colab\"/></a>"
      ]
    },
    {
      "cell_type": "code",
      "execution_count": 12,
      "metadata": {
        "colab": {
          "base_uri": "https://localhost:8080/"
        },
        "id": "DGUJCs7krrx8",
        "outputId": "e55bdd45-9b16-4cd8-9db5-ec1e6cec6b9e"
      },
      "outputs": [
        {
          "output_type": "stream",
          "name": "stdout",
          "text": [
            "FizzBuzz\n",
            "1\n",
            "2\n",
            "Fizz\n",
            "4\n",
            "Fizz\n",
            "7\n",
            "8\n",
            "Fizz\n",
            "11\n",
            "Fizz\n",
            "13\n",
            "14\n",
            "FizzBuzz\n"
          ]
        }
      ],
      "source": [
        "\n",
        "\n",
        "def fizzBuzz(n):\n",
        "  for i in range(n + 1):\n",
        "    if i%3 == 0 and i%5 == 0:\n",
        "      print('FizzBuzz')\n",
        "\n",
        "    if i%3 == 0 and i%5 != 0:\n",
        "      print('Fizz')\n",
        "\n",
        "    if i%3 != 0 and i%5 != 0:\n",
        "      print(i)\n",
        "\n",
        "\n",
        "\n",
        "fizzBuzz(n)"
      ]
    }
  ]
}