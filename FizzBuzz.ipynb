{
  "nbformat": 4,
  "nbformat_minor": 0,
  "metadata": {
    "colab": {
      "provenance": [],
      "authorship_tag": "ABX9TyMeM0X/AeXBpowMK9xFmXdJ",
      "include_colab_link": true
    },
    "kernelspec": {
      "name": "python3",
      "display_name": "Python 3"
    },
    "language_info": {
      "name": "python"
    }
  },
  "cells": [
    {
      "cell_type": "markdown",
      "metadata": {
        "id": "view-in-github",
        "colab_type": "text"
      },
      "source": [
        "<a href=\"https://colab.research.google.com/github/phmouras/Critical-Phenomena-in-gravitational-collapse-via-spectral-methods/blob/main/FizzBuzz.ipynb\" target=\"_parent\"><img src=\"https://colab.research.google.com/assets/colab-badge.svg\" alt=\"Open In Colab\"/></a>"
      ]
    },
    {
      "cell_type": "code",
      "execution_count": 17,
      "metadata": {
        "colab": {
          "base_uri": "https://localhost:8080/"
        },
        "id": "DGUJCs7krrx8",
        "outputId": "e238a134-53dd-4375-d24c-bb40a27ecae8"
      },
      "outputs": [
        {
          "output_type": "stream",
          "name": "stdout",
          "text": [
            "1\n",
            "2\n",
            "Fizz\n",
            "4\n",
            "Buzz\n",
            "Fizz\n",
            "7\n",
            "8\n",
            "Fizz\n",
            "Buzz\n",
            "11\n",
            "Fizz\n",
            "13\n",
            "14\n",
            "FizzBuzz\n"
          ]
        }
      ],
      "source": [
        "n = 15\n",
        "\n",
        "def fizzBuzz(n):\n",
        "  for i in range(1, n + 1):\n",
        "\n",
        "    if i%3 == 0 and i%5 == 0:\n",
        "      print('FizzBuzz')\n",
        "\n",
        "    if i%3 == 0 and i%5 != 0:\n",
        "      print('Fizz')\n",
        "\n",
        "    if i%3 != 0 and i%5 == 0:\n",
        "      print('Buzz')\n",
        "\n",
        "    if i%3 != 0 and i%5 != 0:\n",
        "      print(i)\n",
        "\n",
        "\n",
        "\n",
        "fizzBuzz(n)"
      ]
    },
    {
      "cell_type": "code",
      "source": [],
      "metadata": {
        "id": "AXgxvqwUuv8k"
      },
      "execution_count": null,
      "outputs": []
    }
  ]
}