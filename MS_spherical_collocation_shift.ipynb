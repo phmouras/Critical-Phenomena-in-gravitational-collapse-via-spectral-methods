{
  "nbformat": 4,
  "nbformat_minor": 0,
  "metadata": {
    "colab": {
      "name": "MS_spherical_collocation_shift_2.ipynb",
      "provenance": [],
      "include_colab_link": true
    },
    "kernelspec": {
      "name": "python3",
      "display_name": "Python 3"
    },
    "language_info": {
      "name": "python"
    }
  },
  "cells": [
    {
      "cell_type": "markdown",
      "metadata": {
        "id": "view-in-github",
        "colab_type": "text"
      },
      "source": [
        "<a href=\"https://colab.research.google.com/github/phmouras/Projeto_Pos/blob/main/MS_spherical_collocation_shift.ipynb\" target=\"_parent\"><img src=\"https://colab.research.google.com/assets/colab-badge.svg\" alt=\"Open In Colab\"/></a>"
      ]
    },
    {
      "cell_type": "code",
      "execution_count": 1,
      "metadata": {
        "id": "uwHk8h0y8ZBF",
        "colab": {
          "base_uri": "https://localhost:8080/",
          "height": 279
        },
        "outputId": "10f18bf5-0f48-4c94-f709-e660fecb603e"
      },
      "outputs": [
        {
          "output_type": "display_data",
          "data": {
            "text/plain": [
              "<Figure size 432x288 with 1 Axes>"
            ],
            "image/png": "[encoded data removed]"
          },
          "metadata": {
            "needs_background": "light"
          }
        }
      ],
      "source": [
        "import numpy as np\n",
        "import pandas as pd\n",
        "import matplotlib.pyplot as plt\n",
        "import math\n",
        "\n",
        "N = 30                                                  # Truncation ordem\n",
        "\n",
        "L0 = 2                                               # Map parameter \n",
        "\n",
        "col = np.cos(np.arange(2*N + 4)*math.pi /(2*N + 3))      # collocation points (Verificado)\n",
        "\n",
        "colr = col[1:N+2]\n",
        "\n",
        "r = L0 * colr/(np.sqrt(1-colr**2))                       # physical domain (Verificado)             \n",
        "\n",
        "out_r = open('r_30_L02.txt', 'a')\n",
        "out_r.write(' ' +' '.join(str('%.18f'%n) for n in r)+'\\n')\n",
        "out_r.close()\n",
        "\n",
        "\n",
        "# Base Matrix (Tchebyshev Polinomials): \n",
        "\n",
        "SB = np.zeros([N+2,N+1])\n",
        "rSB = np.zeros([N+2,N+1])\n",
        "rrSB = np.zeros([N+2,N+1])\n",
        "\n",
        "\n",
        "for i in range(N+1+1):\n",
        "  SB[i,] = np.sin((2*i+1)*np.arctan(L0/r))                                                  \n",
        "\n",
        "for i in range(N+1+1):\n",
        "  rSB[i,] = -np.cos((2*i+1)*np.arctan(L0/r))*(2*i+1)*L0/(r**2*(1+L0**2/r**2)) \n",
        "\n",
        "for i in range(N+1+1):\n",
        "  rrSB[i,] = -np.sin((2*i+1)*np.arctan(L0/r))*(2*i+1)**2*L0**2/(r**4*(1+L0**2/r**2)**2)+2*np.cos((2*i+1)*np.arctan(L0/r))*(2*i+1)*L0/(r**3*(1+L0**2/r**2))-2*np.cos((2*i+1)*np.arctan(L0/r))*(2*i+1)*L0**3/(r**5*(1+L0**2/r**2)**2)                     \n",
        "\n",
        "\n",
        "psi = SB[0:N+1,:]        # Base function\n",
        "rpsi = rSB[0:N+1,:]\n",
        "rrpsi = rrSB[0:N+1,:]\n",
        "\n",
        "# Initial conditions of Phi                                     \n",
        "\n",
        "r0 = 2\n",
        "\n",
        "A0 = 0.05\n",
        "\n",
        "sigma = 1\n",
        "\n",
        "Phi_0 = A0*r**2*(np.exp(-(r-r0)**2/sigma**2)+np.exp(-(r+r0)**2/sigma**2))            # Phi initial data (Verificado)\n",
        "\n",
        "inv_psi = np.linalg.inv(psi)\n",
        "  \n",
        "a0 = np.dot(Phi_0, inv_psi)  # coeficients a(0)  (Verificado)\n",
        "\n",
        "out_a = open('a0_30_L02.txt', 'a')\n",
        "out_a.write(' ' +' '.join(str('%.18f'%n) for n in a0)+'\\n')\n",
        "out_a.close()\n",
        "\n",
        "\n",
        "Phi = np.dot(a0, psi)        # approximative solution in t = 0\n",
        "rPhi= np.dot(a0, rpsi)\n",
        "\n",
        "########################### Plot: Initial Conditions ph Phi\n",
        "\n",
        "M = 3000       # plot truncation\n",
        "\n",
        "rplot = np.linspace(0.000001,10,M)\n",
        "\n",
        "colplot = rplot/np.sqrt(L0**2 + rplot**2)\n",
        "\n",
        "SBplot = np.zeros([N+1,M])\n",
        "rSBplot = np.zeros([N+1,M])\n",
        "rrSBplot = np.zeros([N+1,M])\n",
        "\n",
        "for i in range(N+1):\n",
        "  SBplot[i,] = np.sin((2*i+1)*np.arctan(L0/rplot))\n",
        "\n",
        "for i in range(N+1):\n",
        "  rSBplot[i,] = -np.cos((2*i+1)*np.arctan(L0/rplot))*(2*i+1)*L0/(rplot**2*(1+L0**2/rplot**2)) \n",
        "\n",
        "for i in range(N+1):\n",
        "  rrSBplot[i,] = -np.sin((2*i+1)*np.arctan(L0/rplot))*(2*i+1)**2*L0**2/(rplot**4*(1+L0**2/rplot**2)**2)+2*np.cos((2*i+1)*np.arctan(L0/rplot))*(2*i+1)*L0/(rplot**3*(1+L0**2/rplot**2))-2*np.cos((2*i+1)*np.arctan(L0/rplot))*(2*i+1)*L0**3/(rplot**5*(1+L0**2/rplot**2)**2)                     \n",
        "\n",
        "psiplot = SBplot[0:(N+1),:] \n",
        "rpsiplot = rSBplot[0:(N+1),:]\n",
        "rrpsiplot = rrSBplot[0:(N+1),:]\n",
        "\n",
        "Phi_plot0 = A0*rplot**2*(np.exp(-(rplot-r0)**2/sigma**2)+np.exp(-(rplot+r0)**2/sigma**2))      \n",
        "\n",
        "\n",
        "Phiplot = np.dot(a0, psiplot)\n",
        "\n",
        "\n",
        "erro = Phi_plot0 - Phiplot\n",
        "\n",
        "plt.plot(rplot, Phiplot, rplot, Phi_plot0, \"--r\")   #(Verificado)\n",
        "plt.xlabel('r')\n",
        "plt.xlim(0,8)\n",
        "plt.show()\n",
        "\n"
      ]
    },
    {
      "cell_type": "code",
      "source": [
        "plt.plot(rplot, erro)\n",
        "plt.xlabel('r')\n",
        "plt.xlim(0,8)\n",
        "plt.ylabel(\"$|\\phi_N - \\phi_0|$\")\n",
        "plt.show()"
      ],
      "metadata": {
        "colab": {
          "base_uri": "https://localhost:8080/",
          "height": 290
        },
        "id": "RMLSnl3l2lkH",
        "outputId": "2e2dbf76-1048-4f14-9142-38f69dd9eb83"
      },
      "execution_count": 2,
      "outputs": [
        {
          "output_type": "display_data",
          "data": {
            "text/plain": [
              "<Figure size 432x288 with 1 Axes>"
            ],
            "image/png": "[encoded data removed]"
          },
          "metadata": {
            "needs_background": "light"
          }
        }
      ]
    },
    {
      "cell_type": "code",
      "source": [
        "Pi_0 = np.zeros(N+1)\n",
        "b0 = np.dot(Pi_0, psi)\n",
        "Pi = np.dot(b0, psi)\n",
        "\n",
        "c0 = np.zeros([N+1])     # guess value\n",
        "for i in range(N+1):\n",
        "  c0[i]  =   0.001\n",
        "  \n",
        "Chi=np.dot(c0,psi)    \n",
        "rChi=np.dot(c0,rpsi)\n",
        "rrChi=np.dot(c0,rrpsi)     \n",
        "\n",
        "H0 = 4*rChi**2 + 4*rrChi + 8/r*rChi + 1/2*(rPhi)**2\n",
        "\n",
        "JH = 8*np.dot(c0,rpsi)*rpsi + 4*rrpsi + 8/r*rpsi     # Jacobian Matrix\n",
        "\n",
        "inv_JH = np.linalg.inv(JH)\n",
        "\n",
        "N_int = 50\n",
        "\n",
        "tolerance = 1e-40    # tolerance\n",
        "\n",
        "N_int = 10\n",
        "\n",
        "#tol = 1e-29     # tolerance\n",
        "#while min(abs(np.dot(H0, inv_JH))) >= tol:\n",
        "\n",
        "# Newton Raphson loop\n",
        "for i in range(N_int):\n",
        "  Chi=np.dot(c0,psi)\n",
        "  rChi=np.dot(c0,rpsi)\n",
        "  rrChi=np.dot(c0,rrpsi)\n",
        "  H0 = 4*rChi**2 + 4*rrChi + 8/r*rChi + 1/2*(rPhi)**2\n",
        "  JH = 8*np.dot(c0,rpsi)*rpsi + 4*rrpsi + 8/r*rpsi\n",
        "  cnew = c0 - np.dot(H0, inv_JH)\n",
        "  if min(abs(cnew-c0)) < tolerance:\n",
        "    break\n",
        "  print(min(abs(cnew-c0)), end=' ')\n",
        "  c0 = cnew\n",
        "\n",
        "out_c = open('c0_30_L02.txt', 'a')\n",
        "out_c.write(' ' +' '.join(str('%.18f'%n) for n in c0)+'\\n')\n",
        "out_c.close()\n",
        "\n",
        "c0"
      ],
      "metadata": {
        "id": "N73F-WBYjYIN",
        "colab": {
          "base_uri": "https://localhost:8080/"
        },
        "outputId": "7c4b096d-a256-4cbe-c4e6-7c41d3dfe217"
      },
      "execution_count": 2,
      "outputs": [
        {
          "output_type": "stream",
          "name": "stdout",
          "text": [
            "0.0008965797417883843 2.9417180389946674e-08 3.646405050237357e-10 1.2002957819903946e-10 3.547875026951817e-12 8.248221346764373e-14 1.6574095113947664e-15 3.0288415886156085e-17 5.176165401111826e-19 1.224227306578481e-20 "
          ]
        },
        {
          "output_type": "execute_result",
          "data": {
            "text/plain": [
              "array([ 2.90044240e-02,  3.94795537e-03, -4.78285208e-04, -6.57470625e-04,\n",
              "       -2.36869504e-04, -1.75291711e-05,  1.21520275e-04,  1.35279328e-04,\n",
              "        9.29402262e-06, -8.63394963e-05, -5.48655352e-05,  2.13227506e-05,\n",
              "        4.31543202e-05,  1.23911412e-05, -1.60777057e-05, -1.58248575e-05,\n",
              "       -1.09139953e-06,  7.43809822e-06,  5.22103825e-06, -3.58077008e-07,\n",
              "       -2.82258990e-06, -1.69750436e-06,  2.35866331e-07,  1.01250846e-06,\n",
              "        6.03170931e-07, -5.92132626e-08, -3.51525619e-07, -2.28069191e-07,\n",
              "        1.08007366e-08,  1.47987269e-07,  1.14014395e-07])"
            ]
          },
          "metadata": {},
          "execution_count": 2
        }
      ]
    },
    {
      "cell_type": "markdown",
      "source": [
        "Field equations"
      ],
      "metadata": {
        "id": "q_B1C2AB5TiO"
      }
    },
    {
      "cell_type": "code",
      "source": [
        "# Equation for Krr: momentum constraint\n",
        "\n",
        "# Initial values of Krr: Base functions of Krr\n",
        "\n",
        "SB1 = 1/2*(SB[1:(N+2),:] + SB[0:(N+1),:])          # VERIFICADO\n",
        "rSB1 = 1/2*(rSB[1:(N+2),:] + rSB[0:(N+1),:])\n",
        "rrSB1 = 1/2*(rrSB[1:(N+2),:] + rrSB[0:(N+1),:])\n",
        "\n",
        "\n",
        "# Base functions for Beta\n",
        "\n",
        "SB2 = np.zeros([N+1,N+1])      \n",
        "rSB2 = np.zeros([N+1,N+1])\n",
        "rrSB2 = np.zeros([N+1,N+1])\n",
        "\n",
        "for i in range(N+1):                                                   # VERIFICADO\n",
        "  SB2[i,] = np.sin((2*(i+1/2)+1)*np.arctan(L0/r))                                                  \n",
        "\n",
        "for i in range(N+1):\n",
        "  rSB2[i,] = -np.cos((2*i+2)*np.arctan(L0/r))*(2*i+2)*L0/(r**2*(1+L0**2/r**2))\n",
        "\n",
        "for i in range(N+1):\n",
        "  rrSB2[i,] = -np.sin((2*i+2)*np.arctan(L0/r))*(2*i+2)**2*L0**2/(r**4*(1+L0**2/r**2)**2)+2*np.cos((2*i+2)*np.arctan(L0/r))*(2*i+2)*L0/(r**3*(1+L0**2/r**2))-2*np.cos((2*i+2)*np.arctan(L0/r))*(2*i+2)*L0**3/(r**5*(1+L0**2/r**2)**2)\n",
        "\n",
        "\n",
        "    "
      ],
      "metadata": {
        "id": "xUP2_j8OoEWy"
      },
      "execution_count": 3,
      "outputs": []
    },
    {
      "cell_type": "markdown",
      "source": [
        "Quadrature Integration"
      ],
      "metadata": {
        "id": "tbh3ulv0VeDU"
      }
    },
    {
      "cell_type": "code",
      "source": [
        "Nq = int(3/2*N)           # Quadrature truncation\n",
        "\n",
        "gauss_quadrature = np.polynomial.legendre.leggauss(Nq + 1) \n",
        "\n",
        "new_col = gauss_quadrature[0]            # Legendre quadrature points\n",
        "\n",
        "\n",
        "# Legendre Polinomials\n",
        "\n",
        "P = np.zeros([Nq+3,Nq+1])\n",
        "colP = np.zeros([Nq+3,Nq+1])\n",
        "\n",
        "P[0,] = 1\n",
        "P[1,] = new_col\n",
        "\n",
        "colP[0,] = 0\n",
        "colP[1,] = 1\n",
        "\n",
        "for i in range(2,Nq+3):\n",
        "  P[i,] = ((2*i-1)*new_col*P[i-1,] - (i-1)*P[i-2,])/(i)   \n",
        "\n",
        "for i in range(2,Nq+3):\n",
        "  colP[i,] = i*P[i-1] + new_col*colP[i-1]\n",
        "\n",
        "P_max = P[Nq+1]\n",
        "\n",
        "colP_max = colP[Nq+1]\n",
        "\n",
        "wq_col = 2/((1-new_col**2)*colP_max**2)    # Legendre weight (Verificado)\n",
        "\n",
        "rq = L0*(1+new_col)/(1-new_col)            # Physical quadrature domain\n",
        "\n",
        "qSB = np.zeros([Nq+3,Nq+1])                # Base function in quadrature points\n",
        "qrSB = np.zeros([Nq+3,Nq+1])\n",
        "qrrSB = np.zeros([Nq+3,Nq+1])\n",
        "\n",
        "\n",
        "\n",
        "\n",
        "for i in range(Nq+1+1+1):\n",
        "  qSB[i,] = np.sin((2*i+1)*np.arctan(L0/rq))                                                  \n",
        "\n",
        "for i in range(Nq+1+1+1):\n",
        "  qrSB[i,] = -np.cos((2*i+1)*np.arctan(L0/rq))*(2*i+1)*L0/(rq**2*(1+L0**2/rq**2))\n",
        "\n",
        "for i in range(Nq+1+1+1):\n",
        "  qrrSB[i,] = -np.sin((2*i+1)*np.arctan(L0/rq))*(2*i+1)**2*L0**2/(rq**4*(1+L0**2/rq**2)**2)+2*np.cos((2*i+1)*np.arctan(L0/rq))*(2*i+1)*L0/(rq**3*(1+L0**2/rq**2))-2*np.cos((2*i+1)*np.arctan(L0/rq))*(2*i+1)*L0**3/(rq**5*(1+L0**2/rq**2)**2)                                         \n",
        "\n",
        "\n",
        "qpsi = qSB[0:N+1,:]\n",
        "rqpsi = qrSB[0:N+1,:]\n",
        "rrqpsi = qrrSB[0:N+1,:]\n",
        "\n",
        "# Initial values of Krr:\n",
        "\n",
        "\n",
        "qSB1 = 1/2*(qSB[1:(N+2),:] + qSB[0:(N+1),:])          # VERIFICADO\n",
        "qrSB1 = 1/2*(qrSB[1:(N+2),:] + qrSB[0:(N+1),:])\n",
        "qrrSB1 = 1/2*(qrrSB[1:(N+2),:] + qrrSB[0:(N+1),:])\n",
        "\n",
        "\n",
        "#qKrr = np.dot(ck0, qSB1) \n",
        "\n",
        "# Alpha na origem\n",
        "\n",
        "psi_0 = np.zeros(N+1)\n",
        "\n",
        "for i in range(N+1):\n",
        "  psi_0[i,] = np.sin((2*i+1)*math.pi/2)     # arccot(0) = Pi/2  \n",
        "\n",
        "#Alpha_0 = 1 + np.dot(al0, psi_0) "
      ],
      "metadata": {
        "id": "fK3MiMX3CeQE"
      },
      "execution_count": 4,
      "outputs": []
    },
    {
      "cell_type": "code",
      "source": [
        "# Runge Kutta 4th order\n",
        "\n",
        "h = 0.001   # step size\n",
        "tf = 7\n",
        "\n",
        "It = int(tf/h)\n",
        "\n",
        "t = np.linspace(0, tf, It) \n",
        "\n",
        "phi_set = np.zeros([It,M])   \n",
        "chi_set = np.zeros([It,M])\n",
        "pi_set = np.zeros([It,M])\n",
        "L2HC = np.zeros([It])  \n",
        "#Alpha0_a005 = np.zeros([It])\n",
        "#Alpha0_a007 = np.zeros([It])\n",
        "#Alpha0_a0081 = np.zeros([It])\n",
        "#Alpha0_a002 = np.zeros([It])\n",
        "Alpha_origin = np.zeros([It])\n",
        "phi_origin = np.zeros([It])\n",
        "\n",
        "\n",
        "V = 0\n",
        "\n",
        "for i in range(It): \n",
        "\n",
        "  # First step\n",
        "  Phi = np.dot(a0, psi)      \n",
        "  rPhi = np.dot(a0, rpsi)\n",
        "  rrPhi = np.dot(a0, rrpsi)      \n",
        "  Pi = np.dot(b0, psi) \n",
        "  rPi= np.dot(b0, rpsi)\n",
        "  Chi = np.dot(c0, psi) \n",
        "  rChi = np.dot(c0, rpsi)\n",
        "  rrChi = np.dot(c0, rrpsi)   \n",
        "  Matrix_Krr = 2*rChi*SB1 + rSB1 + 3/r*SB1 \n",
        "  inv_matrix_krr = np.linalg.inv(Matrix_Krr)\n",
        "  rhsk = - Pi*rPhi*np.exp(4*Chi)\n",
        "  ck0 = np.dot(rhsk, inv_matrix_krr)\n",
        "  Krr = np.dot(ck0, SB1) \n",
        "  rKrr = np.dot(ck0, rSB1)\n",
        "  Matrix_Alpha = rrpsi + 2*(1/r + rChi)*rpsi - 3/2*np.exp(-4*Chi)*Krr**2*psi - np.exp(4*Chi)*(Pi**2 - V)*psi \n",
        "  inv_matrix_alpha = np.linalg.inv(Matrix_Alpha)\n",
        "  rhsal = 3/2*np.exp(-4*Chi)*Krr**2 + np.exp(4*Chi)*(Pi**2-V)\n",
        "  al0 = np.dot(rhsal, inv_matrix_alpha)\n",
        "  Alpha = 1 + np.dot(al0, psi)\n",
        "  rAlpha = np.dot(al0, rpsi)\n",
        "  rrAlpha = np.dot(al0, rrpsi)\n",
        "  Matrix_Beta = rSB2/r - SB2/r**2\n",
        "  inv_matrix_beta = np.linalg.inv(Matrix_Beta)\n",
        "  rhsbe = 3/2*Alpha*np.exp(-4*Chi)*Krr/r\n",
        "  be0 = np.dot(rhsbe , inv_matrix_beta)\n",
        "  Beta = np.dot(be0, SB2)\n",
        "  rBeta = np.dot(be0, rSB2)\n",
        "  db = np.dot(Beta*rPi + np.exp(-4*Chi)*(2*Alpha/r + rAlpha + 2*rChi*Alpha)*rPhi + np.exp(-4*Chi)*Alpha*rrPhi - Alpha* V, inv_psi)\n",
        "  dc = np.dot(Beta*rChi + Beta/2/r + Alpha/4*np.exp(-4*Chi)*Krr, inv_psi)   \n",
        "  da = np.dot(Alpha*Pi + Beta*rPhi, inv_psi)   \n",
        "  K1 = h*(dc)\n",
        "  L1 = h*(da)\n",
        "  N1 = h*(db)\n",
        "  \n",
        "  # L2-error associated to the Hamiltonian constraint\n",
        "  qPhi = np.dot(a0, qpsi)      \n",
        "  rqPhi= np.dot(a0, rqpsi)\n",
        "  qPi = np.dot(b0, qpsi) \n",
        "  qChi = np.dot(c0, qpsi)\n",
        "  rqChi = np.dot(c0, rqpsi)\n",
        "  rrqChi = np.dot(c0, rrqpsi) \n",
        "  qKrr = np.dot(ck0, qSB1)\n",
        "  H = 4*rqChi**2 + 4*rrqChi + 8*rqChi/rq + 3/4*np.exp(-4*qChi)*qKrr**2 + np.exp(4*qChi)*(1/2*qPi**2 + np.exp(-4*qChi)/2*rqPhi**2)   # Hamiltonian constraint (HC)\n",
        "  L2HC[i,] = (1/2*np.dot(H**2,wq_col))**(1/2)     # L2 error of HC \n",
        "  \n",
        "  # Alpha in r=0\n",
        "  Alpha_origin[i] = 1 + np.dot(al0, psi_0)\n",
        "\n",
        "  #Phi origin:\n",
        "  phi_origin[i] = np.dot(a0, psi_0)\n",
        "\n",
        "  # Second step\n",
        "  Phi = np.dot(a0 + L1/2, psi)     \n",
        "  rPhi= np.dot(a0 + L1/2 , rpsi)\n",
        "  rrPhi = np.dot(a0 + L1/2, rrpsi) \n",
        "  Pi = np.dot(b0 + N1/2, psi)\n",
        "  rPi= np.dot(b0 + N1/2, rpsi)\n",
        "  Chi = np.dot(c0 + K1/2, psi)\n",
        "  rChi = np.dot(c0 + K1/2, rpsi)\n",
        "  rrChi = np.dot(c0 + K1/2, rrpsi)\n",
        "  Matrix_Krr = 2*rChi*SB1 + rSB1 + 3/r*SB1 \n",
        "  inv_matrix_krr = np.linalg.inv(Matrix_Krr)\n",
        "  rhsk = - Pi*rPhi*np.exp(4*Chi)\n",
        "  ck0 = np.dot(rhsk, inv_matrix_krr)\n",
        "  Krr = np.dot(ck0, SB1) \n",
        "  rKrr = np.dot(ck0, rSB1)\n",
        "  Matrix_Alpha = rrpsi + 2*(1/r + rChi)*rpsi - 3/2*np.exp(-4*Chi)*Krr**2*psi - np.exp(4*Chi)*(Pi**2 - V)*psi \n",
        "  inv_matrix_alpha = np.linalg.inv(Matrix_Alpha)\n",
        "  rhsal = 3/2*np.exp(-4*Chi)*Krr**2 + np.exp(4*Chi)*(Pi**2-V)\n",
        "  al0 = np.dot(rhsal, inv_matrix_alpha)\n",
        "  Alpha = 1 + np.dot(al0, psi)\n",
        "  rAlpha = np.dot(al0, rpsi)\n",
        "  rrAlpha = np.dot(al0, rrpsi)\n",
        "  Matrix_Beta = rSB2/r - SB2/r**2\n",
        "  inv_matrix_beta = np.linalg.inv(Matrix_Beta)\n",
        "  rhsbe = 3/2*Alpha*np.exp(-4*Chi)*Krr/r\n",
        "  be0 = np.dot(rhsbe , inv_matrix_beta)\n",
        "  Beta = np.dot(be0, SB2)\n",
        "  rBeta = np.dot(be0, rSB2)\n",
        "  db = np.dot(Beta*rPi + np.exp(-4*Chi)*(2*Alpha/r + rAlpha + 2*rChi*Alpha)*rPhi + np.exp(-4*Chi)*Alpha*rrPhi - Alpha* V, inv_psi)   \n",
        "  dc = np.dot(Beta*rChi + Beta/2/r + Alpha/4*np.exp(-4*Chi)*Krr, inv_psi)    \n",
        "  da = np.dot(Alpha*Pi + Beta*rPhi, inv_psi)   \n",
        "  K2 = h*(dc)\n",
        "  L2 = h*(da)\n",
        "  N2 = h*(db)\n",
        "\n",
        "  # Third step\n",
        "  Phi = np.dot(a0 + L2/2, psi)     \n",
        "  rPhi = np.dot(a0 + L2/2 , rpsi)\n",
        "  rrPhi = np.dot(a0 + L2/2, rrpsi) \n",
        "  Pi = np.dot(b0 + N2/2, psi)\n",
        "  rPi= np.dot(b0 + N2/2, rpsi)\n",
        "  Chi = np.dot(c0 + K2/2, psi)\n",
        "  rChi = np.dot(c0 + K2/2, rpsi)\n",
        "  rrChi = np.dot(c0 + K2/2, rrpsi)\n",
        "  Matrix_Krr = 2*rChi*SB1 + rSB1 + 3/r*SB1\n",
        "  inv_matrix_krr = np.linalg.inv(Matrix_Krr)\n",
        "  rhsk = - Pi*rPhi*np.exp(4*Chi)\n",
        "  ck0 = np.dot(rhsk, inv_matrix_krr)\n",
        "  Krr = np.dot(ck0, SB1) \n",
        "  rKrr = np.dot(ck0, rSB1)\n",
        "  Matrix_Alpha = rrpsi + 2*(1/r + rChi)*rpsi - 3/2*np.exp(-4*Chi)*Krr**2*psi - np.exp(4*Chi)*(Pi**2 - V)*psi \n",
        "  inv_matrix_alpha = np.linalg.inv(Matrix_Alpha)\n",
        "  rhsal = 3/2*np.exp(-4*Chi)*Krr**2 + np.exp(4*Chi)*(Pi**2-V)\n",
        "  al0 = np.dot(rhsal, inv_matrix_alpha)\n",
        "  Alpha = 1 + np.dot(al0, psi)\n",
        "  rAlpha = np.dot(al0, rpsi)\n",
        "  rrAlpha = np.dot(al0, rrpsi)\n",
        "  Matrix_Beta = rSB2/r - SB2/r**2\n",
        "  inv_matrix_beta = np.linalg.inv(Matrix_Beta)\n",
        "  rhsbe = 3/2*Alpha*np.exp(-4*Chi)*Krr/r\n",
        "  be0 = np.dot(rhsbe , inv_matrix_beta)\n",
        "  Beta = np.dot(be0, SB2)\n",
        "  rBeta = np.dot(be0, rSB2)\n",
        "  db = np.dot(Beta*rPi + np.exp(-4*Chi)*(2*Alpha/r + rAlpha + 2*rChi*Alpha)*rPhi + np.exp(-4*Chi)*Alpha*rrPhi - Alpha* V, inv_psi)   \n",
        "  dc = np.dot(Beta*rChi + Beta/2/r + Alpha/4*np.exp(-4*Chi)*Krr, inv_psi)    \n",
        "  da = np.dot(Alpha*Pi + Beta*rPhi, inv_psi)   \n",
        "  K3 = h*(dc)\n",
        "  L3 = h*(da)\n",
        "  N3 = h*(db) \n",
        "\n",
        "  # Forth step\n",
        "  Phi = np.dot(a0 + L3, psi)     \n",
        "  rPhi= np.dot(a0 + L3 , rpsi)\n",
        "  rrPhi = np.dot(a0 + L3, rrpsi) \n",
        "  Pi = np.dot(b0 + N3, psi)\n",
        "  rPi= np.dot(b0 + N3, rpsi)\n",
        "  Chi = np.dot(c0 + K3, psi)\n",
        "  rChi = np.dot(c0 + K3, rpsi)\n",
        "  rrChi = np.dot(c0 + K3, rrpsi)\n",
        "  Matrix_Krr = 2*rChi*SB1 + rSB1 + 3/r*SB1 \n",
        "  inv_matrix_krr = np.linalg.inv(Matrix_Krr)\n",
        "  rhsk = - Pi*rPhi*np.exp(4*Chi)\n",
        "  ck0 = np.dot(rhsk, inv_matrix_krr)\n",
        "  Krr = np.dot(ck0, SB1) \n",
        "  rKrr = np.dot(ck0, rSB1)\n",
        "  Matrix_Alpha = rrpsi + 2*(1/r + rChi)*rpsi - 3/2*np.exp(-4*Chi)*Krr**2*psi - np.exp(4*Chi)*(Pi**2 - V)*psi \n",
        "  inv_matrix_alpha = np.linalg.inv(Matrix_Alpha)\n",
        "  rhsal = 3/2*np.exp(-4*Chi)*Krr**2 + np.exp(4*Chi)*(Pi**2-V)\n",
        "  al0 = np.dot(rhsal, inv_matrix_alpha)\n",
        "  Alpha = 1 + np.dot(al0, psi)\n",
        "  rAlpha = np.dot(al0, rpsi)\n",
        "  rrAlpha = np.dot(al0, rrpsi)\n",
        "  Matrix_Beta = rSB2/r - SB2/r**2\n",
        "  inv_matrix_beta = np.linalg.inv(Matrix_Beta)\n",
        "  rhsbe = 3/2*Alpha*np.exp(-4*Chi)*Krr/r\n",
        "  be0 = np.dot(rhsbe , inv_matrix_beta)\n",
        "  Beta = np.dot(be0, SB2)\n",
        "  rBeta = np.dot(be0, rSB2)\n",
        "  db = np.dot(Beta*rPi + np.exp(-4*Chi)*(2*Alpha/r + rAlpha + 2*rChi*Alpha)*rPhi + np.exp(-4*Chi)*Alpha*rrPhi - Alpha* V, inv_psi)   \n",
        "  dc = np.dot(Beta*rChi + Beta/2/r + Alpha/4*np.exp(-4*Chi)*Krr, inv_psi)    \n",
        "  da = np.dot(Alpha*Pi + Beta*rPhi, inv_psi)   \n",
        "  K4 = h*(dc)\n",
        "  L4 = h*(da)\n",
        "  N4 = h*(db)  \n",
        "\n",
        "  \n",
        "  # Evolution functions\n",
        "  a0 = a0 + 1/6 * (L1 + 2*L2 + 2*L3 + L4)\n",
        "  b0 = b0 + 1/6 * (N1 + 2*N2 + 2*N3 + N4)\n",
        "  c0 = c0 + 1/6 * (K1 + 2*K2 + 2*K3 + K4)  \n",
        "  out_a = open('a_30_L02.txt', 'a')\n",
        "  out_a.write(' ' +' '.join(str('%.18f'%n) for n in a0)+'\\n')\n",
        "  phi_set[i,:] = np.dot(a0, psiplot)\n",
        "  pi_set[i,:] = np.dot(b0, psiplot)\n",
        "  chi_set[i,:] = np.dot(c0, psiplot)\n",
        "  \n",
        "  \n",
        "a = np.loadtxt(\"a_30_L02.txt\", dtype = \"float\")\n",
        "\n",
        "\n"
      ],
      "metadata": {
        "id": "J9Xlw9Pagaak"
      },
      "execution_count": 5,
      "outputs": []
    },
    {
      "cell_type": "code",
      "source": [
        "It"
      ],
      "metadata": {
        "id": "vD-i5tfJyI_o",
        "outputId": "99cec0e3-7ac5-4348-b2f7-8174c3ab352c",
        "colab": {
          "base_uri": "https://localhost:8080/"
        }
      },
      "execution_count": 6,
      "outputs": [
        {
          "output_type": "execute_result",
          "data": {
            "text/plain": [
              "7000"
            ]
          },
          "metadata": {},
          "execution_count": 6
        }
      ]
    },
    {
      "cell_type": "code",
      "source": [
        "np.shape(a)"
      ],
      "metadata": {
        "id": "tZg48YYlGMXk",
        "outputId": "e3bb9772-a8d0-4137-ae0e-3e271bba62f5",
        "colab": {
          "base_uri": "https://localhost:8080/"
        }
      },
      "execution_count": 8,
      "outputs": [
        {
          "output_type": "execute_result",
          "data": {
            "text/plain": [
              "(6999, 31)"
            ]
          },
          "metadata": {},
          "execution_count": 8
        }
      ]
    },
    {
      "cell_type": "code",
      "source": [
        "for i in range(It):\n",
        "  plt.plot(rplot, phi_set[i,:])"
      ],
      "metadata": {
        "id": "phx6YIMmD-dy",
        "outputId": "5461d147-1c09-4949-e10f-fbf3e022641a",
        "colab": {
          "base_uri": "https://localhost:8080/",
          "height": 265
        }
      },
      "execution_count": null,
      "outputs": [
        {
          "output_type": "display_data",
          "data": {
            "text/plain": [
              "<Figure size 432x288 with 1 Axes>"
            ],
            "image/png": "[encoded data removed]"
          },
          "metadata": {
            "needs_background": "light"
          }
        }
      ]
    },
    {
      "cell_type": "code",
      "source": [
        "# Erro L2 of Hamiltonian constraint\n",
        "\n",
        "plt.plot(t,L2HC)\n",
        "plt.yscale(\"log\")\n",
        "plt.ylabel(\"log(Error RMS)\")\n",
        "plt.xlabel(\"t\")\n",
        "plt.title(\"log(L2Hc) para $N = 30$, $L_0 = 6$ e $A_0 = 0.05$\")"
      ],
      "metadata": {
        "colab": {
          "base_uri": "https://localhost:8080/",
          "height": 314
        },
        "id": "8OBiYkaKccJW",
        "outputId": "f6a180bb-c686-4f8c-8beb-df34dcd19eb5"
      },
      "execution_count": null,
      "outputs": [
        {
          "output_type": "execute_result",
          "data": {
            "text/plain": [
              "Text(0.5, 1.0, 'log(L2Hc) para $N = 30$, $L_0 = 6$ e $A_0 = 0.05$')"
            ]
          },
          "metadata": {},
          "execution_count": 74
        },
        {
          "output_type": "display_data",
          "data": {
            "text/plain": [
              "<Figure size 432x288 with 1 Axes>"
            ],
            "image/png": "[encoded data removed]"
          },
          "metadata": {
            "needs_background": "light"
          }
        }
      ]
    },
    {
      "cell_type": "code",
      "source": [
        "L2HC_30max_L06 = max(L2HC)\n",
        "\n",
        "\n",
        "L2HC_30max_L06"
      ],
      "metadata": {
        "colab": {
          "base_uri": "https://localhost:8080/"
        },
        "id": "mOYk-J4bRiCu",
        "outputId": "6a595dc5-2b87-47a4-c175-d5d00aa64932"
      },
      "execution_count": null,
      "outputs": [
        {
          "output_type": "execute_result",
          "data": {
            "text/plain": [
              "0.002484056936002491"
            ]
          },
          "metadata": {},
          "execution_count": 118
        }
      ]
    },
    {
      "cell_type": "code",
      "source": [
        "L2HC_60max_L06 = max(L2HC)\n",
        "\n",
        "L2HC_60max_L06"
      ],
      "metadata": {
        "colab": {
          "base_uri": "https://localhost:8080/"
        },
        "id": "KyXxZSEm4-GO",
        "outputId": "cfab43e9-e9ce-4040-f027-4027bdc00214"
      },
      "execution_count": null,
      "outputs": [
        {
          "output_type": "execute_result",
          "data": {
            "text/plain": [
              "4.2354407714815734e-05"
            ]
          },
          "metadata": {},
          "execution_count": 130
        }
      ]
    },
    {
      "cell_type": "code",
      "source": [
        "L2HC_90max_L06 = max(L2HC)\n",
        "\n",
        "L2HC_90max_L06"
      ],
      "metadata": {
        "colab": {
          "base_uri": "https://localhost:8080/"
        },
        "id": "LhcjVTF54-19",
        "outputId": "4cb7980b-7e1b-4cf0-fa64-788d04fd7f28"
      },
      "execution_count": null,
      "outputs": [
        {
          "output_type": "execute_result",
          "data": {
            "text/plain": [
              "8.707534373859146e-07"
            ]
          },
          "metadata": {},
          "execution_count": 136
        }
      ]
    },
    {
      "cell_type": "code",
      "source": [
        "L2HC_120max_L06 = max(L2HC)\n",
        "\n",
        "L2HC_120max_L06"
      ],
      "metadata": {
        "colab": {
          "base_uri": "https://localhost:8080/"
        },
        "id": "8B2yS6Bm4-ue",
        "outputId": "2a87041d-6275-43e8-96b8-6f9dc768580a"
      },
      "execution_count": null,
      "outputs": [
        {
          "output_type": "execute_result",
          "data": {
            "text/plain": [
              "1.1946556397992398e-08"
            ]
          },
          "metadata": {},
          "execution_count": 142
        }
      ]
    },
    {
      "cell_type": "code",
      "source": [
        "L2HC_150max_L06 = max(L2HC)\n",
        "\n",
        "L2HC_150max_L06 "
      ],
      "metadata": {
        "colab": {
          "base_uri": "https://localhost:8080/"
        },
        "id": "5ohPF2RQ4-ju",
        "outputId": "a25e3021-8637-462a-ce67-7db434fb88da"
      },
      "execution_count": null,
      "outputs": [
        {
          "output_type": "execute_result",
          "data": {
            "text/plain": [
              "3.0319088210686514e-09"
            ]
          },
          "metadata": {},
          "execution_count": 148
        }
      ]
    },
    {
      "cell_type": "code",
      "source": [
        "L2HC_180max_L06 = max(L2HC)\n",
        "\n",
        "L2HC_180max_L06"
      ],
      "metadata": {
        "colab": {
          "base_uri": "https://localhost:8080/"
        },
        "id": "OoGpGCVL4-e9",
        "outputId": "1df23417-9c06-4f96-b835-e9261da22286"
      },
      "execution_count": null,
      "outputs": [
        {
          "output_type": "execute_result",
          "data": {
            "text/plain": [
              "1.8609523773245208e-09"
            ]
          },
          "metadata": {},
          "execution_count": 157
        }
      ]
    },
    {
      "cell_type": "code",
      "source": [
        "L2HC_210max_L06 = max(L2HC)\n",
        "\n",
        "L2HC_210max_L06"
      ],
      "metadata": {
        "colab": {
          "base_uri": "https://localhost:8080/"
        },
        "id": "DONT3wwo5eYu",
        "outputId": "9fcfcd61-2a90-49dc-b706-4d92d3e09f7a"
      },
      "execution_count": null,
      "outputs": [
        {
          "output_type": "execute_result",
          "data": {
            "text/plain": [
              "1.2751386846020075e-09"
            ]
          },
          "metadata": {},
          "execution_count": 163
        }
      ]
    },
    {
      "cell_type": "code",
      "source": [
        "L2HC_30max_L02"
      ],
      "metadata": {
        "id": "dNGH2kRQJwaK",
        "outputId": "cd994d96-37ce-4075-f880-ab861f4c315f",
        "colab": {
          "base_uri": "https://localhost:8080/"
        }
      },
      "execution_count": null,
      "outputs": [
        {
          "output_type": "execute_result",
          "data": {
            "text/plain": [
              "0.08368416315314683"
            ]
          },
          "metadata": {},
          "execution_count": 164
        }
      ]
    },
    {
      "cell_type": "code",
      "source": [
        "\n",
        "\n",
        "L2HC_L02 = [L2HC_30max_L02, L2HC_60max_L02,L2HC_90max_L02, L2HC_120max_L02,L2HC_150max_L02, L2HC_180max_L02,L2HC_210max_L02]\n",
        "\n",
        "\n",
        "\n",
        "L2HC_L04 = [L2HC_30max_L04, L2HC_60max_L04,L2HC_90max_L04, L2HC_120max_L04,L2HC_150max_L04, L2HC_180max_L04,L2HC_210max_L04]\n",
        "\n",
        "\n",
        "\n",
        "L2HC_L06 = [L2HC_30max_L06, L2HC_60max_L06,L2HC_90max_L06, L2HC_120max_L06,L2HC_150max_L06, L2HC_180max_L06,L2HC_210max_L06]\n",
        "\n",
        "N = [30,60,90,120,150,180,210]\n",
        "\n",
        "N_max = 210\n",
        "\n",
        "plt.plot(N, L2HC_L02, '-b^', label = \"L0 = 2\")\n",
        "plt.plot(N, L2HC_L04, '-rs',label = \"L0 = 4\")\n",
        "plt.plot(N, L2HC_L06, '-ko',label = \"L0 = 6\")\n",
        "plt.xticks(N)\n",
        "plt.xlabel('N')\n",
        "plt.ylabel('$log(L_2 H)max$')\n",
        "plt.yscale('log')\n",
        "plt.legend()\n",
        "plt.show()"
      ],
      "metadata": {
        "id": "x0PqsWlxSa4H",
        "outputId": "e3ad3117-cb4d-4815-bdba-eb4cfee3157c",
        "colab": {
          "base_uri": "https://localhost:8080/",
          "height": 279
        }
      },
      "execution_count": null,
      "outputs": [
        {
          "output_type": "display_data",
          "data": {
            "text/plain": [
              "<Figure size 432x288 with 1 Axes>"
            ],
            "image/png": "[encoded data removed]"
          },
          "metadata": {
            "needs_background": "light"
          }
        }
      ]
    }
  ]
}