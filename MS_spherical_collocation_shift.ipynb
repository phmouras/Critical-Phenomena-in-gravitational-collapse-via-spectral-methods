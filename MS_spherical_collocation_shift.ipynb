{
  "nbformat": 4,
  "nbformat_minor": 0,
  "metadata": {
    "colab": {
      "name": "MS_spherical_collocation_shift_2.ipynb",
      "provenance": [],
      "include_colab_link": true
    },
    "kernelspec": {
      "name": "python3",
      "display_name": "Python 3"
    },
    "language_info": {
      "name": "python"
    }
  },
  "cells": [
    {
      "cell_type": "markdown",
      "metadata": {
        "id": "view-in-github",
        "colab_type": "text"
      },
      "source": [
        "<a href=\"https://colab.research.google.com/github/phmouras/Projeto_Pos/blob/main/MS_spherical_collocation_shift.ipynb\" target=\"_parent\"><img src=\"https://colab.research.google.com/assets/colab-badge.svg\" alt=\"Open In Colab\"/></a>"
      ]
    },
    {
      "cell_type": "code",
      "execution_count": 1,
      "metadata": {
        "id": "uwHk8h0y8ZBF",
        "colab": {
          "base_uri": "https://localhost:8080/",
          "height": 279
        },
        "outputId": "7226259c-4e0b-420d-b55c-26f91380063c"
      },
      "outputs": [
        {
          "output_type": "display_data",
          "data": {
            "text/plain": [
              "<Figure size 432x288 with 1 Axes>"
            ],
            "image/png": "[encoded data removed]"
          },
          "metadata": {
            "needs_background": "light"
          }
        }
      ],
      "source": [
        "import numpy as np\n",
        "import pandas as pd\n",
        "import matplotlib.pyplot as plt\n",
        "import math\n",
        "\n",
        "N = 30                                                  # Truncation ordem\n",
        "\n",
        "L0 = 5                                               # Map parameter \n",
        "\n",
        "col = np.cos(np.arange(2*N + 4)*math.pi /(2*N + 3))      # collocation points (Verificado)\n",
        "\n",
        "colr = col[1:N+2]\n",
        "                                                         # physical domain (Verificado)             \n",
        "\n",
        "r1 = L0 * colr/(np.sqrt(1-colr**2))                       # physical domain (Verificado)             \n",
        "\n",
        "r = np.flip(r1)\n",
        "\n",
        "\n",
        "#out_r = open('r_30_L02.txt', 'a')\n",
        "#out_r.write(' ' +' '.join(str('%.18f'%n) for n in r)+'\\n')\n",
        "#out_r.close()\n",
        "\n",
        "\n",
        "# Base Matrix (Tchebyshev Polinomials): \n",
        "\n",
        "SB = np.zeros([N+2,N+1])\n",
        "rSB = np.zeros([N+2,N+1])\n",
        "rrSB = np.zeros([N+2,N+1])\n",
        "\n",
        "\n",
        "for i in range(N+1+1):\n",
        "  SB[i,] = np.sin((2*i+1)*np.arctan(L0/r))                                                  \n",
        "\n",
        "for i in range(N+1+1):\n",
        "  rSB[i,] = -np.cos((2*i+1)*np.arctan(L0/r))*(2*i+1)*L0/(r**2*(1+L0**2/r**2)) \n",
        "\n",
        "for i in range(N+1+1):\n",
        "  rrSB[i,] = -np.sin((2*i+1)*np.arctan(L0/r))*(2*i+1)**2*L0**2/(r**4*(1+L0**2/r**2)**2)+2*np.cos((2*i+1)*np.arctan(L0/r))*(2*i+1)*L0/(r**3*(1+L0**2/r**2))-2*np.cos((2*i+1)*np.arctan(L0/r))*(2*i+1)*L0**3/(r**5*(1+L0**2/r**2)**2)                     \n",
        "\n",
        "\n",
        "psi = SB[0:N+1,:]        # Base function\n",
        "rpsi = rSB[0:N+1,:]\n",
        "rrpsi = rrSB[0:N+1,:]\n",
        "\n",
        "# Initial conditions of Phi                                     \n",
        "\n",
        "r0 = 0\n",
        "\n",
        "A0 = 0.05\n",
        "\n",
        "sigma = 1\n",
        "\n",
        "Phi_0 = A0*r**2*(np.exp(-(r-r0)**2/sigma**2)+np.exp(-(r+r0)**2/sigma**2))            # Phi initial data (Verificado)\n",
        "\n",
        "inv_psi = np.linalg.inv(psi)\n",
        "  \n",
        "a0 = np.dot(Phi_0, inv_psi)  # coeficients a(0)  (Verificado)\n",
        "\n",
        "#out_a = open('a0_30_L02.txt', 'a')\n",
        "#out_a.write(' ' +' '.join(str('%.18f'%n) for n in a0)+'\\n')\n",
        "#out_a.close()\n",
        "\n",
        "\n",
        "Phi = np.dot(a0, psi)        # approximative solution in t = 0\n",
        "rPhi= np.dot(a0, rpsi)\n",
        "\n",
        "########################### Plot: Initial Conditions ph Phi\n",
        "\n",
        "M = 3000       # plot truncation\n",
        "\n",
        "rplot = np.linspace(0.000001,10,M)\n",
        "\n",
        "colplot = rplot/np.sqrt(L0**2 + rplot**2)\n",
        "\n",
        "SBplot = np.zeros([N+1,M])\n",
        "rSBplot = np.zeros([N+1,M])\n",
        "rrSBplot = np.zeros([N+1,M])\n",
        "\n",
        "for i in range(N+1):\n",
        "  SBplot[i,] = np.sin((2*i+1)*np.arctan(L0/rplot))\n",
        "\n",
        "for i in range(N+1):\n",
        "  rSBplot[i,] = -np.cos((2*i+1)*np.arctan(L0/rplot))*(2*i+1)*L0/(rplot**2*(1+L0**2/rplot**2)) \n",
        "\n",
        "for i in range(N+1):\n",
        "  rrSBplot[i,] = -np.sin((2*i+1)*np.arctan(L0/rplot))*(2*i+1)**2*L0**2/(rplot**4*(1+L0**2/rplot**2)**2)+2*np.cos((2*i+1)*np.arctan(L0/rplot))*(2*i+1)*L0/(rplot**3*(1+L0**2/rplot**2))-2*np.cos((2*i+1)*np.arctan(L0/rplot))*(2*i+1)*L0**3/(rplot**5*(1+L0**2/rplot**2)**2)                     \n",
        "\n",
        "psiplot = SBplot[0:(N+1),:] \n",
        "rpsiplot = rSBplot[0:(N+1),:]\n",
        "rrpsiplot = rrSBplot[0:(N+1),:]\n",
        "\n",
        "Phi_plot0 = A0*rplot**2*(np.exp(-(rplot-r0)**2/sigma**2)+np.exp(-(rplot+r0)**2/sigma**2))      \n",
        "\n",
        "\n",
        "Phiplot = np.dot(a0, psiplot)\n",
        "\n",
        "\n",
        "erro = Phi_plot0 - Phiplot\n",
        "\n",
        "plt.plot(rplot, Phiplot, rplot, Phi_plot0, \"--r\")   #(Verificado)\n",
        "plt.xlabel('r')\n",
        "plt.xlim(0,8)\n",
        "plt.show()\n",
        "\n"
      ]
    },
    {
      "cell_type": "code",
      "source": [
        "plt.plot(rplot, erro)\n",
        "plt.xlabel('r')\n",
        "plt.xlim(0,8)\n",
        "plt.ylabel(\"$|\\phi_N - \\phi_0|$\")\n",
        "plt.show()"
      ],
      "metadata": {
        "colab": {
          "base_uri": "https://localhost:8080/",
          "height": 290
        },
        "id": "RMLSnl3l2lkH",
        "outputId": "32d709d4-9f71-4819-c2a4-c787e3bad069"
      },
      "execution_count": 2,
      "outputs": [
        {
          "output_type": "display_data",
          "data": {
            "text/plain": [
              "<Figure size 432x288 with 1 Axes>"
            ],
            "image/png": "[encoded data removed]"
          },
          "metadata": {
            "needs_background": "light"
          }
        }
      ]
    },
    {
      "cell_type": "code",
      "source": [
        "Pi_0 = np.zeros(N+1)\n",
        "b0 = np.dot(Pi_0, psi)\n",
        "Pi = np.dot(b0, psi)\n",
        "\n",
        "c0 = np.zeros([N+1])     # guess value\n",
        "for i in range(N+1):\n",
        "  c0[i]  =   0.001\n",
        "\n",
        "tol = 1e-19\n",
        "\n",
        "cnew = 0\n",
        "\n",
        "err = abs(cnew - c0)\n",
        "\n",
        "# Newton Raphson loop\n",
        "while max(err) > tol:\n",
        "  Chi = np.dot(c0, psi)\n",
        "  rChi = np.dot(c0 ,rpsi)\n",
        "  rrChi = np.dot(c0, rrpsi)\n",
        "  H0 = 4*rChi**2 + 4*rrChi + 8/r*rChi + 1/2*(rPhi)**2\n",
        "  JH = 8*rChi*rpsi + 4*rrpsi + 8/r*rpsi\n",
        "  inv_JH = np.linalg.inv(JH)\n",
        "  cnew = c0 - np.dot(H0, inv_JH)\n",
        "  err = abs(cnew - c0)\n",
        "  print(max(err))\n",
        "  c0 = cnew\n",
        "else:\n",
        "  print(c0)\n",
        "\n",
        "\n",
        "\n",
        "#out_c = open('c0_30_L02.txt', 'a')\n",
        "#out_c.write(' ' +' '.join(str('%.18f'%n) for n in c0)+'\\n')\n",
        "#out_c.close()\n",
        "\n"
      ],
      "metadata": {
        "id": "N73F-WBYjYIN",
        "colab": {
          "base_uri": "https://localhost:8080/"
        },
        "outputId": "fc9b8d0f-19c7-43a5-b73e-f611145031ee"
      },
      "execution_count": 10,
      "outputs": [
        {
          "output_type": "stream",
          "name": "stdout",
          "text": [
            "0.001840581168021993\n",
            "0.0008871029349022243\n",
            "9.596496306667809e-08\n",
            "1.1519512557386924e-15\n",
            "6.776263578034403e-21\n",
            "[ 4.66177318e-05  1.92213135e-06 -2.77856673e-06 -2.92599889e-07\n",
            "  5.04341970e-07  2.96009308e-08 -4.72973536e-08  1.18416020e-08\n",
            " -3.46036258e-08 -2.22532364e-08  2.14878050e-08  3.53439124e-08\n",
            " -8.19960280e-10 -4.48382904e-08 -6.46431763e-09  4.49045659e-08\n",
            "  1.97406821e-09 -3.48090180e-08  5.23578389e-09  2.09688823e-08\n",
            " -1.10014959e-08 -7.77884062e-09  1.28136097e-08 -6.80370227e-10\n",
            " -1.24362947e-08  4.99048619e-09  1.00666636e-08 -4.96619635e-09\n",
            " -7.99688179e-09  3.12387835e-09  6.07153927e-09]\n"
          ]
        }
      ]
    },
    {
      "cell_type": "code",
      "source": [
        "c0"
      ],
      "metadata": {
        "id": "aQB6IqCidd_N",
        "outputId": "3dae19a9-ffe2-4622-ca15-b09a1b97c670",
        "colab": {
          "base_uri": "https://localhost:8080/"
        }
      },
      "execution_count": 11,
      "outputs": [
        {
          "output_type": "execute_result",
          "data": {
            "text/plain": [
              "array([ 4.66177318e-05,  1.92213135e-06, -2.77856673e-06, -2.92599889e-07,\n",
              "        5.04341970e-07,  2.96009308e-08, -4.72973536e-08,  1.18416020e-08,\n",
              "       -3.46036258e-08, -2.22532364e-08,  2.14878050e-08,  3.53439124e-08,\n",
              "       -8.19960280e-10, -4.48382904e-08, -6.46431763e-09,  4.49045659e-08,\n",
              "        1.97406821e-09, -3.48090180e-08,  5.23578389e-09,  2.09688823e-08,\n",
              "       -1.10014959e-08, -7.77884062e-09,  1.28136097e-08, -6.80370227e-10,\n",
              "       -1.24362947e-08,  4.99048619e-09,  1.00666636e-08, -4.96619635e-09,\n",
              "       -7.99688179e-09,  3.12387835e-09,  6.07153927e-09])"
            ]
          },
          "metadata": {},
          "execution_count": 11
        }
      ]
    },
    {
      "cell_type": "markdown",
      "source": [
        "Field equations"
      ],
      "metadata": {
        "id": "q_B1C2AB5TiO"
      }
    },
    {
      "cell_type": "code",
      "source": [
        "Chiplot = np.dot(c0, psiplot)\n",
        "\n",
        "rrChiplot = np.dot(c0, rrpsiplot)\n",
        "\n",
        "plt.plot(rplot,Chiplot)\n",
        "plt.xlim(0,5)\n",
        "plt.show()"
      ],
      "metadata": {
        "id": "ghabrC8yhkmD",
        "outputId": "9af8da18-3722-49cb-f005-c50f45592078",
        "colab": {
          "base_uri": "https://localhost:8080/",
          "height": 265
        }
      },
      "execution_count": 5,
      "outputs": [
        {
          "output_type": "display_data",
          "data": {
            "text/plain": [
              "<Figure size 432x288 with 1 Axes>"
            ],
            "image/png": "[encoded data removed]"
          },
          "metadata": {
            "needs_background": "light"
          }
        }
      ]
    },
    {
      "cell_type": "code",
      "source": [
        "# Equation for Krr: momentum constraint\n",
        "\n",
        "# Initial values of Krr: Base functions of Krr\n",
        "\n",
        "SB1 = 1/2*(SB[1:(N+2),:] + SB[0:(N+1),:])          # VERIFICADO\n",
        "rSB1 = 1/2*(rSB[1:(N+2),:] + rSB[0:(N+1),:])\n",
        "rrSB1 = 1/2*(rrSB[1:(N+2),:] + rrSB[0:(N+1),:])\n",
        "\n",
        "\n",
        "# Base functions for Beta\n",
        "\n",
        "SB2 = np.zeros([N+1,N+1])      \n",
        "rSB2 = np.zeros([N+1,N+1])\n",
        "rrSB2 = np.zeros([N+1,N+1])\n",
        "\n",
        "for i in range(N+1):                                                   # VERIFICADO\n",
        "  SB2[i,] = np.sin((2*(i+1/2)+1)*np.arctan(L0/r))                                                  \n",
        "\n",
        "for i in range(N+1):\n",
        "  rSB2[i,] = -np.cos((2*i+2)*np.arctan(L0/r))*(2*i+2)*L0/(r**2*(1+L0**2/r**2))\n",
        "\n",
        "for i in range(N+1):\n",
        "  rrSB2[i,] = -np.sin((2*i+2)*np.arctan(L0/r))*(2*i+2)**2*L0**2/(r**4*(1+L0**2/r**2)**2)+2*np.cos((2*i+2)*np.arctan(L0/r))*(2*i+2)*L0/(r**3*(1+L0**2/r**2))-2*np.cos((2*i+2)*np.arctan(L0/r))*(2*i+2)*L0**3/(r**5*(1+L0**2/r**2)**2)\n",
        "\n",
        "\n",
        "    "
      ],
      "metadata": {
        "id": "xUP2_j8OoEWy"
      },
      "execution_count": 6,
      "outputs": []
    },
    {
      "cell_type": "markdown",
      "source": [
        "Quadrature Integration"
      ],
      "metadata": {
        "id": "tbh3ulv0VeDU"
      }
    },
    {
      "cell_type": "code",
      "source": [
        "Nq = int(3/2*N)           # Quadrature truncation\n",
        "\n",
        "gauss_quadrature = np.polynomial.legendre.leggauss(Nq + 1) \n",
        "\n",
        "new_col = gauss_quadrature[0]            # Legendre quadrature points\n",
        "\n",
        "\n",
        "# Legendre Polinomials\n",
        "\n",
        "P = np.zeros([Nq+3,Nq+1])\n",
        "colP = np.zeros([Nq+3,Nq+1])\n",
        "\n",
        "P[0,] = 1\n",
        "P[1,] = new_col\n",
        "\n",
        "colP[0,] = 0\n",
        "colP[1,] = 1\n",
        "\n",
        "for i in range(2,Nq+3):\n",
        "  P[i,] = ((2*i-1)*new_col*P[i-1,] - (i-1)*P[i-2,])/(i)   \n",
        "\n",
        "for i in range(2,Nq+3):\n",
        "  colP[i,] = i*P[i-1] + new_col*colP[i-1]\n",
        "\n",
        "P_max = P[Nq+1]\n",
        "\n",
        "colP_max = colP[Nq+1]\n",
        "\n",
        "wq_col = 2/((1-new_col**2)*colP_max**2)    # Legendre weight (Verificado)\n",
        "\n",
        "rq = L0*(1+new_col)/(1-new_col)            # Physical quadrature domain\n",
        "\n",
        "qSB = np.zeros([Nq+3,Nq+1])                # Base function in quadrature points\n",
        "qrSB = np.zeros([Nq+3,Nq+1])\n",
        "qrrSB = np.zeros([Nq+3,Nq+1])\n",
        "\n",
        "\n",
        "\n",
        "\n",
        "for i in range(Nq+1+1+1):\n",
        "  qSB[i,] = np.sin((2*i+1)*np.arctan(L0/rq))                                                  \n",
        "\n",
        "for i in range(Nq+1+1+1):\n",
        "  qrSB[i,] = -np.cos((2*i+1)*np.arctan(L0/rq))*(2*i+1)*L0/(rq**2*(1+L0**2/rq**2))\n",
        "\n",
        "for i in range(Nq+1+1+1):\n",
        "  qrrSB[i,] = -np.sin((2*i+1)*np.arctan(L0/rq))*(2*i+1)**2*L0**2/(rq**4*(1+L0**2/rq**2)**2)+2*np.cos((2*i+1)*np.arctan(L0/rq))*(2*i+1)*L0/(rq**3*(1+L0**2/rq**2))-2*np.cos((2*i+1)*np.arctan(L0/rq))*(2*i+1)*L0**3/(rq**5*(1+L0**2/rq**2)**2)                                         \n",
        "\n",
        "\n",
        "qpsi = qSB[0:N+1,:]\n",
        "rqpsi = qrSB[0:N+1,:]\n",
        "rrqpsi = qrrSB[0:N+1,:]\n",
        "\n",
        "# Initial values of Krr:\n",
        "\n",
        "\n",
        "qSB1 = 1/2*(qSB[1:(N+2),:] + qSB[0:(N+1),:])          # VERIFICADO\n",
        "qrSB1 = 1/2*(qrSB[1:(N+2),:] + qrSB[0:(N+1),:])\n",
        "qrrSB1 = 1/2*(qrrSB[1:(N+2),:] + qrrSB[0:(N+1),:])\n",
        "\n",
        "\n",
        "#qKrr = np.dot(ck0, qSB1) \n",
        "\n",
        "# Alpha na origem\n",
        "\n",
        "psi_0 = np.zeros(N+1)\n",
        "\n",
        "for i in range(N+1):\n",
        "  psi_0[i,] = np.sin((2*i+1)*math.pi/2)     # arccot(0) = Pi/2  \n",
        "\n",
        "#Alpha_0 = 1 + np.dot(al0, psi_0) "
      ],
      "metadata": {
        "id": "fK3MiMX3CeQE"
      },
      "execution_count": 7,
      "outputs": []
    },
    {
      "cell_type": "code",
      "source": [
        "# Runge Kutta 4th order\n",
        "\n",
        "h = 0.001   # step size\n",
        "tf = 5\n",
        "\n",
        "It = int(tf/h)\n",
        "\n",
        "t = np.linspace(0, tf, It) \n",
        "\n",
        "phi_set = np.zeros([It,M])   \n",
        "chi_set = np.zeros([It,M])\n",
        "pi_set = np.zeros([It,M])\n",
        "L2HC = np.zeros([It])  \n",
        "#Alpha0_a005 = np.zeros([It])\n",
        "#Alpha0_a007 = np.zeros([It])\n",
        "#Alpha0_a0081 = np.zeros([It])\n",
        "#Alpha0_a002 = np.zeros([It])\n",
        "Alpha_origin = np.zeros([It])\n",
        "phi_origin = np.zeros([It])\n",
        "\n",
        "\n",
        "V = 0\n",
        "\n",
        "for i in range(It): \n",
        "\n",
        "  # First step\n",
        "  Phi = np.dot(a0, psi)      \n",
        "  rPhi = np.dot(a0, rpsi)\n",
        "  rrPhi = np.dot(a0, rrpsi)      \n",
        "  Pi = np.dot(b0, psi) \n",
        "  rPi= np.dot(b0, rpsi)\n",
        "  Chi = np.dot(c0, psi) \n",
        "  rChi = np.dot(c0, rpsi)\n",
        "  rrChi = np.dot(c0, rrpsi)   \n",
        "  Matrix_Krr = 2*rChi*SB1 + rSB1 + 3/r*SB1 \n",
        "  inv_matrix_krr = np.linalg.inv(Matrix_Krr)\n",
        "  rhsk = - Pi*rPhi*np.exp(4*Chi)\n",
        "  ck0 = np.dot(rhsk, inv_matrix_krr)\n",
        "  Krr = np.dot(ck0, SB1) \n",
        "  rKrr = np.dot(ck0, rSB1)\n",
        "  Matrix_Alpha = rrpsi + 2*(1/r + rChi)*rpsi - 3/2*np.exp(-4*Chi)*Krr**2*psi - np.exp(4*Chi)*(Pi**2 - V)*psi \n",
        "  inv_matrix_alpha = np.linalg.inv(Matrix_Alpha)\n",
        "  rhsal = 3/2*np.exp(-4*Chi)*Krr**2 + np.exp(4*Chi)*(Pi**2-V)\n",
        "  al0 = np.dot(rhsal, inv_matrix_alpha)\n",
        "  Alpha = 1 + np.dot(al0, psi)\n",
        "  rAlpha = np.dot(al0, rpsi)\n",
        "  rrAlpha = np.dot(al0, rrpsi)\n",
        "  Matrix_Beta = rSB2/r - SB2/r**2\n",
        "  inv_matrix_beta = np.linalg.inv(Matrix_Beta)\n",
        "  rhsbe = 3/2*Alpha*np.exp(-4*Chi)*Krr/r\n",
        "  be0 = np.dot(rhsbe , inv_matrix_beta)\n",
        "  Beta = np.dot(be0, SB2)\n",
        "  rBeta = np.dot(be0, rSB2)\n",
        "  db = np.dot(Beta*rPi + np.exp(-4*Chi)*(2*Alpha/r + rAlpha + 2*rChi*Alpha)*rPhi + np.exp(-4*Chi)*Alpha*rrPhi - Alpha* V, inv_psi)\n",
        "  dc = np.dot(Beta*rChi + Beta/2/r + Alpha/4*np.exp(-4*Chi)*Krr, inv_psi)   \n",
        "  da = np.dot(Alpha*Pi + Beta*rPhi, inv_psi)   \n",
        "  K1 = h*(dc)\n",
        "  L1 = h*(da)\n",
        "  N1 = h*(db)\n",
        "  \n",
        "  # L2-error associated to the Hamiltonian constraint\n",
        "  qPhi = np.dot(a0, qpsi)      \n",
        "  rqPhi= np.dot(a0, rqpsi)\n",
        "  qPi = np.dot(b0, qpsi) \n",
        "  qChi = np.dot(c0, qpsi)\n",
        "  rqChi = np.dot(c0, rqpsi)\n",
        "  rrqChi = np.dot(c0, rrqpsi) \n",
        "  qKrr = np.dot(ck0, qSB1)\n",
        "  H = 4*rqChi**2 + 4*rrqChi + 8*rqChi/rq + 3/4*np.exp(-4*qChi)*qKrr**2 + np.exp(4*qChi)*(1/2*qPi**2 + np.exp(-4*qChi)/2*rqPhi**2)   # Hamiltonian constraint (HC)\n",
        "  L2HC[i,] = (1/2*np.dot(H**2,wq_col))**(1/2)     # L2 error of HC \n",
        "  \n",
        "  # Alpha in r=0\n",
        "  Alpha_origin[i] = 1 + np.dot(al0, psi_0)\n",
        "\n",
        "  #Phi origin:\n",
        "  phi_origin[i] = np.dot(a0, psi_0)\n",
        "\n",
        "  # Second step\n",
        "  Phi = np.dot(a0 + L1/2, psi)     \n",
        "  rPhi= np.dot(a0 + L1/2 , rpsi)\n",
        "  rrPhi = np.dot(a0 + L1/2, rrpsi) \n",
        "  Pi = np.dot(b0 + N1/2, psi)\n",
        "  rPi= np.dot(b0 + N1/2, rpsi)\n",
        "  Chi = np.dot(c0 + K1/2, psi)\n",
        "  rChi = np.dot(c0 + K1/2, rpsi)\n",
        "  rrChi = np.dot(c0 + K1/2, rrpsi)\n",
        "  Matrix_Krr = 2*rChi*SB1 + rSB1 + 3/r*SB1 \n",
        "  inv_matrix_krr = np.linalg.inv(Matrix_Krr)\n",
        "  rhsk = - Pi*rPhi*np.exp(4*Chi)\n",
        "  ck0 = np.dot(rhsk, inv_matrix_krr)\n",
        "  Krr = np.dot(ck0, SB1) \n",
        "  rKrr = np.dot(ck0, rSB1)\n",
        "  Matrix_Alpha = rrpsi + 2*(1/r + rChi)*rpsi - 3/2*np.exp(-4*Chi)*Krr**2*psi - np.exp(4*Chi)*(Pi**2 - V)*psi \n",
        "  inv_matrix_alpha = np.linalg.inv(Matrix_Alpha)\n",
        "  rhsal = 3/2*np.exp(-4*Chi)*Krr**2 + np.exp(4*Chi)*(Pi**2-V)\n",
        "  al0 = np.dot(rhsal, inv_matrix_alpha)\n",
        "  Alpha = 1 + np.dot(al0, psi)\n",
        "  rAlpha = np.dot(al0, rpsi)\n",
        "  rrAlpha = np.dot(al0, rrpsi)\n",
        "  Matrix_Beta = rSB2/r - SB2/r**2\n",
        "  inv_matrix_beta = np.linalg.inv(Matrix_Beta)\n",
        "  rhsbe = 3/2*Alpha*np.exp(-4*Chi)*Krr/r\n",
        "  be0 = np.dot(rhsbe , inv_matrix_beta)\n",
        "  Beta = np.dot(be0, SB2)\n",
        "  rBeta = np.dot(be0, rSB2)\n",
        "  db = np.dot(Beta*rPi + np.exp(-4*Chi)*(2*Alpha/r + rAlpha + 2*rChi*Alpha)*rPhi + np.exp(-4*Chi)*Alpha*rrPhi - Alpha* V, inv_psi)   \n",
        "  dc = np.dot(Beta*rChi + Beta/2/r + Alpha/4*np.exp(-4*Chi)*Krr, inv_psi)    \n",
        "  da = np.dot(Alpha*Pi + Beta*rPhi, inv_psi)   \n",
        "  K2 = h*(dc)\n",
        "  L2 = h*(da)\n",
        "  N2 = h*(db)\n",
        "\n",
        "  # Third step\n",
        "  Phi = np.dot(a0 + L2/2, psi)     \n",
        "  rPhi = np.dot(a0 + L2/2 , rpsi)\n",
        "  rrPhi = np.dot(a0 + L2/2, rrpsi) \n",
        "  Pi = np.dot(b0 + N2/2, psi)\n",
        "  rPi= np.dot(b0 + N2/2, rpsi)\n",
        "  Chi = np.dot(c0 + K2/2, psi)\n",
        "  rChi = np.dot(c0 + K2/2, rpsi)\n",
        "  rrChi = np.dot(c0 + K2/2, rrpsi)\n",
        "  Matrix_Krr = 2*rChi*SB1 + rSB1 + 3/r*SB1\n",
        "  inv_matrix_krr = np.linalg.inv(Matrix_Krr)\n",
        "  rhsk = - Pi*rPhi*np.exp(4*Chi)\n",
        "  ck0 = np.dot(rhsk, inv_matrix_krr)\n",
        "  Krr = np.dot(ck0, SB1) \n",
        "  rKrr = np.dot(ck0, rSB1)\n",
        "  Matrix_Alpha = rrpsi + 2*(1/r + rChi)*rpsi - 3/2*np.exp(-4*Chi)*Krr**2*psi - np.exp(4*Chi)*(Pi**2 - V)*psi \n",
        "  inv_matrix_alpha = np.linalg.inv(Matrix_Alpha)\n",
        "  rhsal = 3/2*np.exp(-4*Chi)*Krr**2 + np.exp(4*Chi)*(Pi**2-V)\n",
        "  al0 = np.dot(rhsal, inv_matrix_alpha)\n",
        "  Alpha = 1 + np.dot(al0, psi)\n",
        "  rAlpha = np.dot(al0, rpsi)\n",
        "  rrAlpha = np.dot(al0, rrpsi)\n",
        "  Matrix_Beta = rSB2/r - SB2/r**2\n",
        "  inv_matrix_beta = np.linalg.inv(Matrix_Beta)\n",
        "  rhsbe = 3/2*Alpha*np.exp(-4*Chi)*Krr/r\n",
        "  be0 = np.dot(rhsbe , inv_matrix_beta)\n",
        "  Beta = np.dot(be0, SB2)\n",
        "  rBeta = np.dot(be0, rSB2)\n",
        "  db = np.dot(Beta*rPi + np.exp(-4*Chi)*(2*Alpha/r + rAlpha + 2*rChi*Alpha)*rPhi + np.exp(-4*Chi)*Alpha*rrPhi - Alpha* V, inv_psi)   \n",
        "  dc = np.dot(Beta*rChi + Beta/2/r + Alpha/4*np.exp(-4*Chi)*Krr, inv_psi)    \n",
        "  da = np.dot(Alpha*Pi + Beta*rPhi, inv_psi)   \n",
        "  K3 = h*(dc)\n",
        "  L3 = h*(da)\n",
        "  N3 = h*(db) \n",
        "\n",
        "  # Forth step\n",
        "  Phi = np.dot(a0 + L3, psi)     \n",
        "  rPhi= np.dot(a0 + L3 , rpsi)\n",
        "  rrPhi = np.dot(a0 + L3, rrpsi) \n",
        "  Pi = np.dot(b0 + N3, psi)\n",
        "  rPi= np.dot(b0 + N3, rpsi)\n",
        "  Chi = np.dot(c0 + K3, psi)\n",
        "  rChi = np.dot(c0 + K3, rpsi)\n",
        "  rrChi = np.dot(c0 + K3, rrpsi)\n",
        "  Matrix_Krr = 2*rChi*SB1 + rSB1 + 3/r*SB1 \n",
        "  inv_matrix_krr = np.linalg.inv(Matrix_Krr)\n",
        "  rhsk = - Pi*rPhi*np.exp(4*Chi)\n",
        "  ck0 = np.dot(rhsk, inv_matrix_krr)\n",
        "  Krr = np.dot(ck0, SB1) \n",
        "  rKrr = np.dot(ck0, rSB1)\n",
        "  Matrix_Alpha = rrpsi + 2*(1/r + rChi)*rpsi - 3/2*np.exp(-4*Chi)*Krr**2*psi - np.exp(4*Chi)*(Pi**2 - V)*psi \n",
        "  inv_matrix_alpha = np.linalg.inv(Matrix_Alpha)\n",
        "  rhsal = 3/2*np.exp(-4*Chi)*Krr**2 + np.exp(4*Chi)*(Pi**2-V)\n",
        "  al0 = np.dot(rhsal, inv_matrix_alpha)\n",
        "  Alpha = 1 + np.dot(al0, psi)\n",
        "  rAlpha = np.dot(al0, rpsi)\n",
        "  rrAlpha = np.dot(al0, rrpsi)\n",
        "  Matrix_Beta = rSB2/r - SB2/r**2\n",
        "  inv_matrix_beta = np.linalg.inv(Matrix_Beta)\n",
        "  rhsbe = 3/2*Alpha*np.exp(-4*Chi)*Krr/r\n",
        "  be0 = np.dot(rhsbe , inv_matrix_beta)\n",
        "  Beta = np.dot(be0, SB2)\n",
        "  rBeta = np.dot(be0, rSB2)\n",
        "  db = np.dot(Beta*rPi + np.exp(-4*Chi)*(2*Alpha/r + rAlpha + 2*rChi*Alpha)*rPhi + np.exp(-4*Chi)*Alpha*rrPhi - Alpha* V, inv_psi)   \n",
        "  dc = np.dot(Beta*rChi + Beta/2/r + Alpha/4*np.exp(-4*Chi)*Krr, inv_psi)    \n",
        "  da = np.dot(Alpha*Pi + Beta*rPhi, inv_psi)   \n",
        "  K4 = h*(dc)\n",
        "  L4 = h*(da)\n",
        "  N4 = h*(db)  \n",
        "\n",
        "  # Evolution functions\n",
        "  a0 = a0 + 1/6 * (L1 + 2*L2 + 2*L3 + L4)\n",
        "  b0 = b0 + 1/6 * (N1 + 2*N2 + 2*N3 + N4)\n",
        "  c0 = c0 + 1/6 * (K1 + 2*K2 + 2*K3 + K4)  \n",
        "  #out_a = open('a_30_L02.txt', 'a')\n",
        "  #out_a.write(' ' +' '.join(str('%.18f'%n) for n in a0)+'\\n')\n",
        "  phi_set[i,:] = np.dot(a0, psiplot)\n",
        "  pi_set[i,:] = np.dot(b0, psiplot)\n",
        "  chi_set[i,:] = np.dot(c0, psiplot)\n",
        "  \n",
        "\n",
        "\n",
        "\n"
      ],
      "metadata": {
        "id": "J9Xlw9Pagaak",
        "colab": {
          "base_uri": "https://localhost:8080/",
          "height": 381
        },
        "outputId": "e53be2d3-0149-4633-a879-564c099e97e8"
      },
      "execution_count": 8,
      "outputs": [
        {
          "output_type": "error",
          "ename": "FileNotFoundError",
          "evalue": "ignored",
          "traceback": [
            "\u001b[0;31m---------------------------------------------------------------------------\u001b[0m",
            "\u001b[0;31mFileNotFoundError\u001b[0m                         Traceback (most recent call last)",
            "\u001b[0;32m<ipython-input-8-3fac753fc259>\u001b[0m in \u001b[0;36m<module>\u001b[0;34m\u001b[0m\n\u001b[1;32m    192\u001b[0m \u001b[0;34m\u001b[0m\u001b[0m\n\u001b[1;32m    193\u001b[0m \u001b[0;34m\u001b[0m\u001b[0m\n\u001b[0;32m--> 194\u001b[0;31m \u001b[0ma\u001b[0m \u001b[0;34m=\u001b[0m \u001b[0mnp\u001b[0m\u001b[0;34m.\u001b[0m\u001b[0mloadtxt\u001b[0m\u001b[0;34m(\u001b[0m\u001b[0;34m\"a_30_L02.txt\"\u001b[0m\u001b[0;34m,\u001b[0m \u001b[0mdtype\u001b[0m \u001b[0;34m=\u001b[0m \u001b[0;34m\"float\"\u001b[0m\u001b[0;34m)\u001b[0m\u001b[0;34m\u001b[0m\u001b[0;34m\u001b[0m\u001b[0m\n\u001b[0m\u001b[1;32m    195\u001b[0m \u001b[0;34m\u001b[0m\u001b[0m\n\u001b[1;32m    196\u001b[0m \u001b[0;34m\u001b[0m\u001b[0m\n",
            "\u001b[0;32m/usr/local/lib/python3.8/dist-packages/numpy/lib/npyio.py\u001b[0m in \u001b[0;36mloadtxt\u001b[0;34m(fname, dtype, comments, delimiter, converters, skiprows, usecols, unpack, ndmin, encoding, max_rows, like)\u001b[0m\n\u001b[1;32m   1040\u001b[0m             \u001b[0mfname\u001b[0m \u001b[0;34m=\u001b[0m \u001b[0mos_fspath\u001b[0m\u001b[0;34m(\u001b[0m\u001b[0mfname\u001b[0m\u001b[0;34m)\u001b[0m\u001b[0;34m\u001b[0m\u001b[0;34m\u001b[0m\u001b[0m\n\u001b[1;32m   1041\u001b[0m         \u001b[0;32mif\u001b[0m \u001b[0m_is_string_like\u001b[0m\u001b[0;34m(\u001b[0m\u001b[0mfname\u001b[0m\u001b[0;34m)\u001b[0m\u001b[0;34m:\u001b[0m\u001b[0;34m\u001b[0m\u001b[0;34m\u001b[0m\u001b[0m\n\u001b[0;32m-> 1042\u001b[0;31m             \u001b[0mfh\u001b[0m \u001b[0;34m=\u001b[0m \u001b[0mnp\u001b[0m\u001b[0;34m.\u001b[0m\u001b[0mlib\u001b[0m\u001b[0;34m.\u001b[0m\u001b[0m_datasource\u001b[0m\u001b[0;34m.\u001b[0m\u001b[0mopen\u001b[0m\u001b[0;34m(\u001b[0m\u001b[0mfname\u001b[0m\u001b[0;34m,\u001b[0m \u001b[0;34m'rt'\u001b[0m\u001b[0;34m,\u001b[0m \u001b[0mencoding\u001b[0m\u001b[0;34m=\u001b[0m\u001b[0mencoding\u001b[0m\u001b[0;34m)\u001b[0m\u001b[0;34m\u001b[0m\u001b[0;34m\u001b[0m\u001b[0m\n\u001b[0m\u001b[1;32m   1043\u001b[0m             \u001b[0mfencoding\u001b[0m \u001b[0;34m=\u001b[0m \u001b[0mgetattr\u001b[0m\u001b[0;34m(\u001b[0m\u001b[0mfh\u001b[0m\u001b[0;34m,\u001b[0m \u001b[0;34m'encoding'\u001b[0m\u001b[0;34m,\u001b[0m \u001b[0;34m'latin1'\u001b[0m\u001b[0;34m)\u001b[0m\u001b[0;34m\u001b[0m\u001b[0;34m\u001b[0m\u001b[0m\n\u001b[1;32m   1044\u001b[0m             \u001b[0mline_iter\u001b[0m \u001b[0;34m=\u001b[0m \u001b[0miter\u001b[0m\u001b[0;34m(\u001b[0m\u001b[0mfh\u001b[0m\u001b[0;34m)\u001b[0m\u001b[0;34m\u001b[0m\u001b[0;34m\u001b[0m\u001b[0m\n",
            "\u001b[0;32m/usr/local/lib/python3.8/dist-packages/numpy/lib/_datasource.py\u001b[0m in \u001b[0;36mopen\u001b[0;34m(path, mode, destpath, encoding, newline)\u001b[0m\n\u001b[1;32m    191\u001b[0m \u001b[0;34m\u001b[0m\u001b[0m\n\u001b[1;32m    192\u001b[0m     \u001b[0mds\u001b[0m \u001b[0;34m=\u001b[0m \u001b[0mDataSource\u001b[0m\u001b[0;34m(\u001b[0m\u001b[0mdestpath\u001b[0m\u001b[0;34m)\u001b[0m\u001b[0;34m\u001b[0m\u001b[0;34m\u001b[0m\u001b[0m\n\u001b[0;32m--> 193\u001b[0;31m     \u001b[0;32mreturn\u001b[0m \u001b[0mds\u001b[0m\u001b[0;34m.\u001b[0m\u001b[0mopen\u001b[0m\u001b[0;34m(\u001b[0m\u001b[0mpath\u001b[0m\u001b[0;34m,\u001b[0m \u001b[0mmode\u001b[0m\u001b[0;34m,\u001b[0m \u001b[0mencoding\u001b[0m\u001b[0;34m=\u001b[0m\u001b[0mencoding\u001b[0m\u001b[0;34m,\u001b[0m \u001b[0mnewline\u001b[0m\u001b[0;34m=\u001b[0m\u001b[0mnewline\u001b[0m\u001b[0;34m)\u001b[0m\u001b[0;34m\u001b[0m\u001b[0;34m\u001b[0m\u001b[0m\n\u001b[0m\u001b[1;32m    194\u001b[0m \u001b[0;34m\u001b[0m\u001b[0m\n\u001b[1;32m    195\u001b[0m \u001b[0;34m\u001b[0m\u001b[0m\n",
            "\u001b[0;32m/usr/local/lib/python3.8/dist-packages/numpy/lib/_datasource.py\u001b[0m in \u001b[0;36mopen\u001b[0;34m(self, path, mode, encoding, newline)\u001b[0m\n\u001b[1;32m    530\u001b[0m                                       encoding=encoding, newline=newline)\n\u001b[1;32m    531\u001b[0m         \u001b[0;32melse\u001b[0m\u001b[0;34m:\u001b[0m\u001b[0;34m\u001b[0m\u001b[0;34m\u001b[0m\u001b[0m\n\u001b[0;32m--> 532\u001b[0;31m             \u001b[0;32mraise\u001b[0m \u001b[0mFileNotFoundError\u001b[0m\u001b[0;34m(\u001b[0m\u001b[0;34mf\"{path} not found.\"\u001b[0m\u001b[0;34m)\u001b[0m\u001b[0;34m\u001b[0m\u001b[0;34m\u001b[0m\u001b[0m\n\u001b[0m\u001b[1;32m    533\u001b[0m \u001b[0;34m\u001b[0m\u001b[0m\n\u001b[1;32m    534\u001b[0m \u001b[0;34m\u001b[0m\u001b[0m\n",
            "\u001b[0;31mFileNotFoundError\u001b[0m: a_30_L02.txt not found."
          ]
        }
      ]
    },
    {
      "cell_type": "code",
      "source": [
        "psi[0,:]"
      ],
      "metadata": {
        "id": "r-iFmm3jr7bZ"
      },
      "execution_count": null,
      "outputs": []
    },
    {
      "cell_type": "code",
      "source": [
        "t1 = np.linspace(0, tf, len(Alpha_origin)) \n",
        "\n",
        "plt.plot(t1, Alpha_origin, color = \"g\", label = \"$A_0$ = {:}\".format(A0))\n",
        "plt.title(\"Alpha na origem para L0 = 2, N = {:}\".format(N))\n",
        "plt.ylabel(r\"$\\alpha(t,0)$\")\n",
        "plt.xlabel(\"t\")\n",
        "plt.legend()"
      ],
      "metadata": {
        "id": "vD-i5tfJyI_o",
        "outputId": "5f679e25-a46b-4f5b-f65c-62d17ba9254d",
        "colab": {
          "base_uri": "https://localhost:8080/",
          "height": 312
        }
      },
      "execution_count": 9,
      "outputs": [
        {
          "output_type": "execute_result",
          "data": {
            "text/plain": [
              "<matplotlib.legend.Legend at 0x7fad93ffb340>"
            ]
          },
          "metadata": {},
          "execution_count": 9
        },
        {
          "output_type": "display_data",
          "data": {
            "text/plain": [
              "<Figure size 432x288 with 1 Axes>"
            ],
            "image/png": "[encoded data removed]"
          },
          "metadata": {
            "needs_background": "light"
          }
        }
      ]
    },
    {
      "cell_type": "code",
      "source": [
        "plt.plot(t1, phi_origin, color = \"b\", label = \" = {:}\".format(A0))\n",
        "plt.title(\"Phi na origem para L0 = 2 e N = {:}\".format(N) )\n",
        "plt.ylabel(\"$\\phi$(t,0)\")\n",
        "plt.xlabel(\"t\")  \n",
        "#plt.xlim(7.2,8.2)\n",
        "plt.legend() "
      ],
      "metadata": {
        "id": "jkp7bYY4rrJ1"
      },
      "execution_count": null,
      "outputs": []
    },
    {
      "cell_type": "code",
      "source": [
        "\n",
        "# Plot 3D from Phi initial:\n",
        "\n",
        "\n",
        "from matplotlib import cm\n",
        "from mpl_toolkits.mplot3d import Axes3D\n",
        "\n",
        "fig = plt.figure(figsize=(18,6))\n",
        "ax1 = fig.add_subplot(121)\n",
        "ax2 = fig.add_subplot(122,projection='3d')\n",
        "\n",
        "y = phi_set[900,:]\n",
        "x = rplot\n",
        "theta = np.linspace(0, 2*np.pi, M)    # Revolution of f(phi,r)\n",
        "\n",
        "xn = np.outer(x, np.cos(theta))\n",
        "yn = np.outer(x, np.sin(theta))\n",
        "zn = np.zeros_like(xn)\n",
        "\n",
        "for i in range(len(x)):\n",
        "    zn[i,:] = np.full_like(zn[i,:], y[i])\n",
        "\n",
        "ax1.plot(x, y)\n",
        "ax2.plot_surface(xn, yn, zn,cmap='viridis')\n",
        "ax2.set_xlim(-9,9)\n",
        "ax2.set_ylim(-9,9)\n",
        "ax2.set_zlim(0,0.5)\n",
        "plt.show()"
      ],
      "metadata": {
        "id": "phx6YIMmD-dy"
      },
      "execution_count": null,
      "outputs": []
    },
    {
      "cell_type": "code",
      "source": [
        "\n",
        "\n",
        "# Animation plot for Phi: Scalar Field\n",
        "\n",
        "#from matplotlib.animation import FuncAnimation\n",
        "#from IPython.display import HTML\n",
        "\n",
        "#fig = plt.figure()\n",
        "#ax = plt.axes(xlim=(0, 15),ylim = (-0.5, 1))\n",
        "#line, = ax.plot([], [], lw=2)\n",
        "\n",
        "x = rplot\n",
        "\n",
        "def init():\n",
        "    line.set_data([], [])\n",
        "    return line,\n",
        "\n",
        "def animate(i):\n",
        "  y = phi_set[i]\n",
        "  line.set_data(x, y)\n",
        "  return line,\n",
        "\n",
        "anim = FuncAnimation(fig, animate, init_func=init,\n",
        "                               frames=It, interval=0.2, blit=True)\n",
        "\n",
        "HTML(anim.to_html5_video())"
      ],
      "metadata": {
        "id": "lZLkCsJ5U6ap"
      },
      "execution_count": null,
      "outputs": []
    },
    {
      "cell_type": "code",
      "source": [
        "# Erro L2 of Hamiltonian constraint\n",
        "\n",
        "plt.plot(t,L2HC)\n",
        "plt.yscale(\"log\")\n",
        "plt.ylabel(\"log(Error RMS)\")\n",
        "plt.xlabel(\"t\")\n",
        "plt.title(\"log(L2Hc) para $N = 30$, $L_0 = 6$ e $A_0 = 0.05$\")"
      ],
      "metadata": {
        "id": "8OBiYkaKccJW"
      },
      "execution_count": null,
      "outputs": []
    },
    {
      "cell_type": "code",
      "source": [
        "L2HC_30max_L06 = max(L2HC)\n",
        "\n",
        "\n",
        "L2HC_30max_L06"
      ],
      "metadata": {
        "id": "mOYk-J4bRiCu"
      },
      "execution_count": null,
      "outputs": []
    },
    {
      "cell_type": "code",
      "source": [
        "L2HC_60max_L06 = max(L2HC)\n",
        "\n",
        "L2HC_60max_L06"
      ],
      "metadata": {
        "id": "KyXxZSEm4-GO"
      },
      "execution_count": null,
      "outputs": []
    },
    {
      "cell_type": "code",
      "source": [
        "L2HC_90max_L06 = max(L2HC)\n",
        "\n",
        "L2HC_90max_L06"
      ],
      "metadata": {
        "id": "LhcjVTF54-19"
      },
      "execution_count": null,
      "outputs": []
    },
    {
      "cell_type": "code",
      "source": [
        "L2HC_120max_L06 = max(L2HC)\n",
        "\n",
        "L2HC_120max_L06"
      ],
      "metadata": {
        "id": "8B2yS6Bm4-ue"
      },
      "execution_count": null,
      "outputs": []
    },
    {
      "cell_type": "code",
      "source": [
        "L2HC_150max_L06 = max(L2HC)\n",
        "\n",
        "L2HC_150max_L06 "
      ],
      "metadata": {
        "id": "5ohPF2RQ4-ju"
      },
      "execution_count": null,
      "outputs": []
    },
    {
      "cell_type": "code",
      "source": [
        "L2HC_180max_L06 = max(L2HC)\n",
        "\n",
        "L2HC_180max_L06"
      ],
      "metadata": {
        "id": "OoGpGCVL4-e9"
      },
      "execution_count": null,
      "outputs": []
    },
    {
      "cell_type": "code",
      "source": [
        "L2HC_210max_L06 = max(L2HC)\n",
        "\n",
        "L2HC_210max_L06"
      ],
      "metadata": {
        "id": "DONT3wwo5eYu"
      },
      "execution_count": null,
      "outputs": []
    },
    {
      "cell_type": "code",
      "source": [
        "L2HC_30max_L02"
      ],
      "metadata": {
        "id": "dNGH2kRQJwaK"
      },
      "execution_count": null,
      "outputs": []
    },
    {
      "cell_type": "code",
      "source": [
        "\n",
        "\n",
        "L2HC_L02 = [L2HC_30max_L02, L2HC_60max_L02,L2HC_90max_L02, L2HC_120max_L02,L2HC_150max_L02, L2HC_180max_L02,L2HC_210max_L02]\n",
        "\n",
        "\n",
        "\n",
        "L2HC_L04 = [L2HC_30max_L04, L2HC_60max_L04,L2HC_90max_L04, L2HC_120max_L04,L2HC_150max_L04, L2HC_180max_L04,L2HC_210max_L04]\n",
        "\n",
        "\n",
        "\n",
        "L2HC_L06 = [L2HC_30max_L06, L2HC_60max_L06,L2HC_90max_L06, L2HC_120max_L06,L2HC_150max_L06, L2HC_180max_L06,L2HC_210max_L06]\n",
        "\n",
        "N = [30,60,90,120,150,180,210]\n",
        "\n",
        "N_max = 210\n",
        "\n",
        "plt.plot(N, L2HC_L02, '-b^', label = \"L0 = 2\")\n",
        "plt.plot(N, L2HC_L04, '-rs',label = \"L0 = 4\")\n",
        "plt.plot(N, L2HC_L06, '-ko',label = \"L0 = 6\")\n",
        "plt.xticks(N)\n",
        "plt.xlabel('N')\n",
        "plt.ylabel('$log(L_2 H)max$')\n",
        "plt.yscale('log')\n",
        "plt.legend()\n",
        "plt.show()"
      ],
      "metadata": {
        "id": "x0PqsWlxSa4H"
      },
      "execution_count": null,
      "outputs": []
    }
  ]
}