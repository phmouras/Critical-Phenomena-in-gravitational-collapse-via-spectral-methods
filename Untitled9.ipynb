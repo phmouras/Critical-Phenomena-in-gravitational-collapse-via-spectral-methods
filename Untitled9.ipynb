{
  "nbformat": 4,
  "nbformat_minor": 0,
  "metadata": {
    "colab": {
      "name": "Untitled9.ipynb",
      "provenance": [],
      "authorship_tag": "ABX9TyPiXVcoaEp7Lyv8gZgwUyUl",
      "include_colab_link": true
    },
    "kernelspec": {
      "name": "python3",
      "display_name": "Python 3"
    },
    "language_info": {
      "name": "python"
    }
  },
  "cells": [
    {
      "cell_type": "markdown",
      "metadata": {
        "id": "view-in-github",
        "colab_type": "text"
      },
      "source": [
        "<a href=\"https://colab.research.google.com/github/phmouras/Projeto_Pos/blob/main/Untitled9.ipynb\" target=\"_parent\"><img src=\"https://colab.research.google.com/assets/colab-badge.svg\" alt=\"Open In Colab\"/></a>"
      ]
    },
    {
      "cell_type": "code",
      "execution_count": 10,
      "metadata": {
        "colab": {
          "base_uri": "https://localhost:8080/"
        },
        "id": "o4peGHHreGzo",
        "outputId": "728385b3-3dfc-4c42-b4e8-9a5f0670c743"
      },
      "outputs": [
        {
          "output_type": "stream",
          "name": "stderr",
          "text": [
            "/usr/local/lib/python3.7/dist-packages/ipykernel_launcher.py:15: RuntimeWarning: divide by zero encountered in arctanh\n",
            "  from ipykernel import kernelapp as app\n"
          ]
        }
      ],
      "source": [
        "import numpy as np\n",
        "import matplotlib.pyplot as plt\n",
        "import math\n",
        "from numpy import exp\n",
        "\n",
        "# ttpsi - colpsi + dV/dpsi = 0;  unidimensional\n",
        "\n",
        "# \n",
        "\n",
        "N = 100\n",
        "\n",
        "L0 = 2\n",
        "\n",
        "col = np.cos(np.arange(N)*math.pi / N)\n",
        "x = L0 * np.arctanh(col)\n",
        "\n",
        "xcol = 1/(L0*(np.cosh(x))**2)\n",
        "xxcol = -2*np.tanh(x)/((np.cosh(x))**2) \n",
        "\n",
        "\n",
        "T = np.zeros([N+2,N])\n",
        "xT = np.zeros([N+2,N])\n",
        "xxT = np.zeros([N+2,N])\n",
        "colT = np.zeros([N+2,N])\n",
        "ccolT = np.zeros([N+2,N])\n",
        "\n",
        "xT[0,] = 0\n",
        "xT[1,] = xcol\n",
        "\n",
        "for i in range(2, N+2):\n",
        "  colT[i,] = 2*col*colT[i-1,] + 2*T[i-1,] - colT[i-2,]\n",
        "  xT[i,] = xcol*colT[i,]      # colT[i,] = dT[i,]/dcol, xcol = dcol/dx\n",
        "\n",
        "xxT[0,] = 0\n",
        "xxT[1,] = xxcol\n",
        "\n",
        "for i in range(2, N+2):\n",
        "  ccolT[i,] = 2*colT[i-1,] + 2*col*ccolT[i-1,] + 2*colT[i-1] - ccolT[i-2,]\n",
        "  xxT[i,] = xxcol*colT[i,] + (xcol)**2 * ccolT[i,]   #ccolT[i,] = d²T[i,]/dcol²\n",
        "\n",
        "\n",
        "psi = T[2:N+2,:]\n",
        "xpsi = xT[2:N+2,:]\n",
        "xxpsi = xxT[2:N+2,:]\n",
        "\n",
        "\n",
        "\n",
        "\n",
        "#eq = np.dot((np.dot(a[i],xxpsi)),np.linalg.inv(psi))\n",
        "\n",
        "#da = np.dot()\n",
        "\n"
      ]
    },
    {
      "cell_type": "code",
      "source": [
        "\n",
        "h = 0.01\n",
        "tf = 100\n",
        "\n",
        "It = int(tf/h)\n",
        "\n",
        "t = np.linspace(0, tf, It + 1)\n",
        "\n",
        "a = np.zeros([N])\n",
        "a[0] = 1\n",
        "\n",
        "\n",
        "\n",
        "for i in range(It):  # Runge Kutta 4th order\n",
        "  L1 = h*(da[i])\n",
        "  K1 = h*(a[i])\n",
        "\n",
        "  L2 = h*(da[i] + K1/2)\n",
        "  K2 = h*dda*(a[i] + L1/2)\n",
        "\n",
        "  L3 = h*(da[i] + K2/2)\n",
        "  K3 = h*daa*(a[i] + K2/2)\n",
        "\n",
        "  L4 = h*(da[i] + K3)\n",
        "  K4 = h*daa(a[i] + L3)   \n",
        "  \n",
        "  da[i+1] = 1/6 * (K1 + 2*K2 + 2*K3 + K4)\n",
        "  a[i+1] = 1/6*(L1 + 2*L2 + 2*L3 + L4)\n",
        "  \n",
        "\n"
      ],
      "metadata": {
        "colab": {
          "base_uri": "https://localhost:8080/",
          "height": 237
        },
        "id": "1fLA0_yVseTr",
        "outputId": "16c09ae3-fb74-43e5-ceb9-c9e3ce9a2fa2"
      },
      "execution_count": 11,
      "outputs": [
        {
          "output_type": "error",
          "ename": "NameError",
          "evalue": "ignored",
          "traceback": [
            "\u001b[0;31m---------------------------------------------------------------------------\u001b[0m",
            "\u001b[0;31mNameError\u001b[0m                                 Traceback (most recent call last)",
            "\u001b[0;32m<ipython-input-11-3ee1596d291c>\u001b[0m in \u001b[0;36m<module>\u001b[0;34m()\u001b[0m\n\u001b[1;32m      8\u001b[0m \u001b[0;34m\u001b[0m\u001b[0m\n\u001b[1;32m      9\u001b[0m \u001b[0;32mfor\u001b[0m \u001b[0mi\u001b[0m \u001b[0;32min\u001b[0m \u001b[0mrange\u001b[0m\u001b[0;34m(\u001b[0m\u001b[0mIt\u001b[0m\u001b[0;34m)\u001b[0m\u001b[0;34m:\u001b[0m  \u001b[0;31m# Runge Kutta 4th order\u001b[0m\u001b[0;34m\u001b[0m\u001b[0;34m\u001b[0m\u001b[0m\n\u001b[0;32m---> 10\u001b[0;31m   \u001b[0mL1\u001b[0m \u001b[0;34m=\u001b[0m \u001b[0mh\u001b[0m\u001b[0;34m*\u001b[0m\u001b[0;34m(\u001b[0m\u001b[0mda\u001b[0m\u001b[0;34m[\u001b[0m\u001b[0mi\u001b[0m\u001b[0;34m]\u001b[0m\u001b[0;34m)\u001b[0m\u001b[0;34m\u001b[0m\u001b[0;34m\u001b[0m\u001b[0m\n\u001b[0m\u001b[1;32m     11\u001b[0m   \u001b[0mK1\u001b[0m \u001b[0;34m=\u001b[0m \u001b[0mh\u001b[0m\u001b[0;34m*\u001b[0m\u001b[0;34m(\u001b[0m\u001b[0ma\u001b[0m\u001b[0;34m[\u001b[0m\u001b[0mi\u001b[0m\u001b[0;34m]\u001b[0m\u001b[0;34m)\u001b[0m\u001b[0;34m\u001b[0m\u001b[0;34m\u001b[0m\u001b[0m\n\u001b[1;32m     12\u001b[0m \u001b[0;34m\u001b[0m\u001b[0m\n",
            "\u001b[0;31mNameError\u001b[0m: name 'da' is not defined"
          ]
        }
      ]
    }
  ]
}