{
  "nbformat": 4,
  "nbformat_minor": 0,
  "metadata": {
    "colab": {
      "name": "MS_spherical_collocation_shift_2.ipynb",
      "provenance": [],
      "include_colab_link": true
    },
    "kernelspec": {
      "name": "python3",
      "display_name": "Python 3"
    },
    "language_info": {
      "name": "python"
    }
  },
  "cells": [
    {
      "cell_type": "markdown",
      "metadata": {
        "id": "view-in-github",
        "colab_type": "text"
      },
      "source": [
        "<a href=\"https://colab.research.google.com/github/phmouras/Projeto_Pos/blob/main/MS_spherical_collocation_shift_L04.ipynb\" target=\"_parent\"><img src=\"https://colab.research.google.com/assets/colab-badge.svg\" alt=\"Open In Colab\"/></a>"
      ]
    },
    {
      "cell_type": "code",
      "execution_count": 4,
      "metadata": {
        "id": "uwHk8h0y8ZBF",
        "colab": {
          "base_uri": "https://localhost:8080/",
          "height": 279
        },
        "outputId": "9cd469a6-9a46-4c22-d297-bae3a441da69"
      },
      "outputs": [
        {
          "output_type": "display_data",
          "data": {
            "text/plain": [
              "<Figure size 432x288 with 1 Axes>"
            ],
            "image/png": "[encoded data removed]"
          },
          "metadata": {
            "needs_background": "light"
          }
        }
      ],
      "source": [
        "import numpy as np\n",
        "import pandas as pd\n",
        "import matplotlib.pyplot as plt\n",
        "import math\n",
        "\n",
        "N = 30                                                  # Truncation ordem\n",
        "\n",
        "L0 = 5                                               # Map parameter \n",
        "\n",
        "col = np.cos(np.arange(2*N + 4)*math.pi /(2*N + 3))      # collocation points (Verificado)\n",
        "\n",
        "colr = col[1:N+2]\n",
        "\n",
        "r = L0 * colr/(np.sqrt(1-colr**2))                       # physical domain (Verificado)             \n",
        "\n",
        "#out_r = open('r_30_L02.txt', 'a')\n",
        "#out_r.write(' ' +' '.join(str('%.18f'%n) for n in r)+'\\n')\n",
        "#out_r.close()\n",
        "\n",
        "\n",
        "# Base Matrix (Tchebyshev Polinomials): \n",
        "\n",
        "SB = np.zeros([N+3,N+1])\n",
        "rSB = np.zeros([N+3,N+1])\n",
        "rrSB = np.zeros([N+3,N+1])\n",
        "\n",
        "\n",
        "for i in range(N+1+1+1):\n",
        "  SB[i,] = np.sin((2*i+1)*np.arctan(L0/r))                                                  \n",
        "\n",
        "for i in range(N+1+1+1):\n",
        "  rSB[i,] = -np.cos((2*i+1)*np.arctan(L0/r))*(2*i+1)*L0/(r**2*(1+L0**2/r**2)) \n",
        "\n",
        "for i in range(N+1+1+1):\n",
        "  rrSB[i,] = -np.sin((2*i+1)*np.arctan(L0/r))*(2*i+1)**2*L0**2/(r**4*(1+L0**2/r**2)**2)+2*np.cos((2*i+1)*np.arctan(L0/r))*(2*i+1)*L0/(r**3*(1+L0**2/r**2))-2*np.cos((2*i+1)*np.arctan(L0/r))*(2*i+1)*L0**3/(r**5*(1+L0**2/r**2)**2)                     \n",
        "\n",
        "\n",
        "psi = SB[0:N+1,:]        # Base function\n",
        "rpsi = rSB[0:N+1,:]\n",
        "rrpsi = rrSB[0:N+1,:]\n",
        "\n",
        "# Initial conditions of Phi                                     \n",
        "\n",
        "r0 = 0\n",
        "\n",
        "A0 = 0.05\n",
        "\n",
        "sigma = 1\n",
        "\n",
        "Phi_0 = A0*r**2*(np.exp(-(r-r0)**2/sigma**2)+np.exp(-(r+r0)**2/sigma**2))            # Phi initial data (Verificado)\n",
        "\n",
        "inv_psi = np.linalg.inv(psi)\n",
        "  \n",
        "a0 = np.dot(Phi_0, inv_psi)  # coeficients a(0)  (Verificado)\n",
        "\n",
        "#out_a = open('a0_30_L02.txt', 'a')\n",
        "#out_a.write(' ' +' '.join(str('%.18f'%n) for n in a0)+'\\n')\n",
        "#out_a.close()\n",
        "\n",
        "\n",
        "Phi = np.dot(a0, psi)        # approximative solution in t = 0\n",
        "rPhi= np.dot(a0, rpsi)\n",
        "\n",
        "########################### Plot: Initial Conditions ph Phi\n",
        "\n",
        "M = 3000       # plot truncation\n",
        "\n",
        "rplot = np.linspace(0.000001,10,M)\n",
        "\n",
        "colplot = rplot/np.sqrt(L0**2 + rplot**2)\n",
        "\n",
        "SBplot = np.zeros([N+1,M])\n",
        "rSBplot = np.zeros([N+1,M])\n",
        "rrSBplot = np.zeros([N+1,M])\n",
        "\n",
        "for i in range(N+1):\n",
        "  SBplot[i,] = np.sin((2*i+1)*np.arctan(L0/rplot))\n",
        "\n",
        "for i in range(N+1):\n",
        "  rSBplot[i,] = -np.cos((2*i+1)*np.arctan(L0/rplot))*(2*i+1)*L0/(rplot**2*(1+L0**2/rplot**2)) \n",
        "\n",
        "for i in range(N+1):\n",
        "  rrSBplot[i,] = -np.sin((2*i+1)*np.arctan(L0/rplot))*(2*i+1)**2*L0**2/(rplot**4*(1+L0**2/rplot**2)**2)+2*np.cos((2*i+1)*np.arctan(L0/rplot))*(2*i+1)*L0/(rplot**3*(1+L0**2/rplot**2))-2*np.cos((2*i+1)*np.arctan(L0/rplot))*(2*i+1)*L0**3/(rplot**5*(1+L0**2/rplot**2)**2)                     \n",
        "\n",
        "psiplot = SBplot[0:(N+1),:] \n",
        "rpsiplot = rSBplot[0:(N+1),:]\n",
        "rrpsiplot = rrSBplot[0:(N+1),:]\n",
        "\n",
        "Phi_plot0 = A0*rplot**2*(np.exp(-(rplot-r0)**2/sigma**2)+np.exp(-(rplot+r0)**2/sigma**2))      \n",
        "\n",
        "\n",
        "Phiplot = np.dot(a0, psiplot)\n",
        "\n",
        "\n",
        "erro = Phi_plot0 - Phiplot\n",
        "\n",
        "plt.plot(rplot, Phiplot, rplot, Phi_plot0, \"--r\")   #(Verificado)\n",
        "plt.xlabel('r')\n",
        "plt.xlim(0,8)\n",
        "plt.show()\n",
        "\n"
      ]
    },
    {
      "cell_type": "code",
      "source": [
        "plt.plot(rplot, erro)\n",
        "plt.xlabel('r')\n",
        "plt.xlim(0,8)\n",
        "plt.ylabel(\"$|\\phi_N - \\phi_0|$\")\n",
        "plt.show()"
      ],
      "metadata": {
        "colab": {
          "base_uri": "https://localhost:8080/",
          "height": 290
        },
        "id": "RMLSnl3l2lkH",
        "outputId": "e8088087-3ca6-49d3-d281-185e2f3d28b5"
      },
      "execution_count": 11,
      "outputs": [
        {
          "output_type": "display_data",
          "data": {
            "text/plain": [
              "<Figure size 432x288 with 1 Axes>"
            ],
            "image/png": "[encoded data removed]"
          },
          "metadata": {
            "needs_background": "light"
          }
        }
      ]
    },
    {
      "cell_type": "code",
      "source": [
        "Pi_0 = np.zeros(N+1)\n",
        "b0 = np.dot(Pi_0, psi)\n",
        "Pi = np.dot(b0, psi)\n",
        "\n",
        "c0 = np.zeros([N+1])     # guess value\n",
        "for i in range(N+1):\n",
        "  c0[i]  =   0.001\n",
        "  \n",
        "Chi=np.dot(c0,psi)    \n",
        "rChi=np.dot(c0,rpsi)\n",
        "rrChi=np.dot(c0,rrpsi)     \n",
        "\n",
        "H0 = 4*rChi**2 + 4*rrChi + 8/r*rChi + 1/2*(rPhi)**2\n",
        "\n",
        "JH = 8*np.dot(c0,rpsi)*rpsi + 4*rrpsi + 8/r*rpsi     # Jacobian Matrix\n",
        "\n",
        "inv_JH = np.linalg.inv(JH)\n",
        "\n",
        "N_int = 10\n",
        "\n",
        "#tol = 1e-29     # tolerance\n",
        "#while min(abs(np.dot(H0, inv_JH))) >= tol:\n",
        "\n",
        "# Newton Raphson loop\n",
        "for i in range(N_int):\n",
        "  Chi=np.dot(c0,psi)\n",
        "  rChi=np.dot(c0,rpsi)\n",
        "  rrChi=np.dot(c0,rrpsi)\n",
        "  H0 = 4*rChi**2 + 4*rrChi + 8/r*rChi + 1/2*(rPhi)**2\n",
        "  JH = 8*np.dot(c0,rpsi)*rpsi + 4*rrpsi + 8/r*rpsi\n",
        "  cnew = c0 - np.dot(H0, inv_JH)\n",
        "  c0 = cnew\n",
        "\n",
        "#out_c = open('c0_30_L02.txt', 'a')\n",
        "#out_c.write(' ' +' '.join(str('%.18f'%n) for n in c0)+'\\n')\n",
        "#out_c.close()\n",
        "\n",
        "c0"
      ],
      "metadata": {
        "id": "N73F-WBYjYIN",
        "colab": {
          "base_uri": "https://localhost:8080/"
        },
        "outputId": "32009096-55a3-4c6d-d8c7-1dcab69e4f19"
      },
      "execution_count": 12,
      "outputs": [
        {
          "output_type": "execute_result",
          "data": {
            "text/plain": [
              "array([ 4.11904032e-05,  6.06266750e-06, -6.80978331e-07, -1.09604525e-06,\n",
              "       -1.13209130e-07,  2.43629777e-07,  4.23179850e-08, -7.21015691e-08,\n",
              "        2.36827839e-08,  7.52651989e-08, -4.09243138e-09, -6.94088817e-08,\n",
              "       -3.19070067e-08,  3.78081889e-08,  4.56721684e-08, -1.04024591e-09,\n",
              "       -2.95553288e-08, -1.35971825e-08,  7.92320600e-09,  7.34485391e-09,\n",
              "        9.43860031e-10,  4.50966516e-09,  4.77561913e-09, -6.82695947e-09,\n",
              "       -1.23271196e-08, -8.02638704e-11,  1.19470556e-08,  6.96398699e-09,\n",
              "       -4.36304632e-09, -6.33642581e-09, -2.10575937e-09])"
            ]
          },
          "metadata": {},
          "execution_count": 12
        }
      ]
    },
    {
      "cell_type": "markdown",
      "source": [
        "Field equations"
      ],
      "metadata": {
        "id": "q_B1C2AB5TiO"
      }
    },
    {
      "cell_type": "code",
      "source": [
        "# Equation for Krr: momentum constraint\n",
        "\n",
        "# Initial values of Krr: Base functions of Krr\n",
        "\n",
        "SB1 = 1/2*(SB[1:(N+2),:] + SB[0:(N+1),:])          # VERIFICADO\n",
        "rSB1 = 1/2*(rSB[1:(N+2),:] + rSB[0:(N+1),:])\n",
        "rrSB1 = 1/2*(rrSB[1:(N+2),:] + rrSB[0:(N+1),:])\n",
        "\n",
        "\n",
        "# Base functions for Beta\n",
        "\n",
        "SB2 = np.zeros([N+1,N+1])      \n",
        "rSB2 = np.zeros([N+1,N+1])\n",
        "rrSB2 = np.zeros([N+1,N+1])\n",
        "\n",
        "for i in range(N+1):                                                   # VERIFICADO\n",
        "  SB2[i,] = np.sin((2*(i+1/2)+1)*np.arctan(L0/r))                                                  \n",
        "\n",
        "for i in range(N+1):\n",
        "  rSB2[i,] = -np.cos((2*i+2)*np.arctan(L0/r))*(2*i+2)*L0/(r**2*(1+L0**2/r**2))\n",
        "\n",
        "for i in range(N+1):\n",
        "  rrSB2[i,] = -np.sin((2*i+2)*np.arctan(L0/r))*(2*i+2)**2*L0**2/(r**4*(1+L0**2/r**2)**2)+2*np.cos((2*i+2)*np.arctan(L0/r))*(2*i+2)*L0/(r**3*(1+L0**2/r**2))-2*np.cos((2*i+2)*np.arctan(L0/r))*(2*i+2)*L0**3/(r**5*(1+L0**2/r**2)**2)\n",
        "\n",
        "\n",
        "    "
      ],
      "metadata": {
        "id": "xUP2_j8OoEWy"
      },
      "execution_count": 13,
      "outputs": []
    },
    {
      "cell_type": "markdown",
      "source": [
        "Quadrature Integration"
      ],
      "metadata": {
        "id": "tbh3ulv0VeDU"
      }
    },
    {
      "cell_type": "code",
      "source": [
        "Nq = int(3/2*N)           # Quadrature truncation\n",
        "\n",
        "gauss_quadrature = np.polynomial.legendre.leggauss(Nq + 1) \n",
        "\n",
        "new_col = gauss_quadrature[0]            # Legendre quadrature points\n",
        "\n",
        "\n",
        "# Legendre Polinomials\n",
        "\n",
        "P = np.zeros([Nq+3,Nq+1])\n",
        "colP = np.zeros([Nq+3,Nq+1])\n",
        "\n",
        "P[0,] = 1\n",
        "P[1,] = new_col\n",
        "\n",
        "colP[0,] = 0\n",
        "colP[1,] = 1\n",
        "\n",
        "for i in range(2,Nq+3):\n",
        "  P[i,] = ((2*i-1)*new_col*P[i-1,] - (i-1)*P[i-2,])/(i)   \n",
        "\n",
        "for i in range(2,Nq+3):\n",
        "  colP[i,] = i*P[i-1] + new_col*colP[i-1]\n",
        "\n",
        "P_max = P[Nq+1]\n",
        "\n",
        "colP_max = colP[Nq+1]\n",
        "\n",
        "wq_col = 2/((1-new_col**2)*colP_max**2)    # Legendre weight (Verificado)\n",
        "\n",
        "rq = L0*(1+new_col)/(1-new_col)            # Physical quadrature domain\n",
        "\n",
        "qSB = np.zeros([Nq+3,Nq+1])                # Base function in quadrature points\n",
        "qrSB = np.zeros([Nq+3,Nq+1])\n",
        "qrrSB = np.zeros([Nq+3,Nq+1])\n",
        "\n",
        "\n",
        "\n",
        "\n",
        "for i in range(Nq+1+1+1):\n",
        "  qSB[i,] = np.sin((2*i+1)*np.arctan(L0/rq))                                                  \n",
        "\n",
        "for i in range(Nq+1+1+1):\n",
        "  qrSB[i,] = -np.cos((2*i+1)*np.arctan(L0/rq))*(2*i+1)*L0/(rq**2*(1+L0**2/rq**2))\n",
        "\n",
        "for i in range(Nq+1+1+1):\n",
        "  qrrSB[i,] = -np.sin((2*i+1)*np.arctan(L0/rq))*(2*i+1)**2*L0**2/(rq**4*(1+L0**2/rq**2)**2)+2*np.cos((2*i+1)*np.arctan(L0/rq))*(2*i+1)*L0/(rq**3*(1+L0**2/rq**2))-2*np.cos((2*i+1)*np.arctan(L0/rq))*(2*i+1)*L0**3/(rq**5*(1+L0**2/rq**2)**2)                                         \n",
        "\n",
        "\n",
        "qpsi = qSB[0:N+1,:]\n",
        "rqpsi = qrSB[0:N+1,:]\n",
        "rrqpsi = qrrSB[0:N+1,:]\n",
        "\n",
        "# Initial values of Krr:\n",
        "\n",
        "\n",
        "qSB1 = 1/2*(qSB[1:(N+2),:] + qSB[0:(N+1),:])          # VERIFICADO\n",
        "qrSB1 = 1/2*(qrSB[1:(N+2),:] + qrSB[0:(N+1),:])\n",
        "qrrSB1 = 1/2*(qrrSB[1:(N+2),:] + qrrSB[0:(N+1),:])\n",
        "\n",
        "\n",
        "#qKrr = np.dot(ck0, qSB1) \n",
        "\n",
        "# Alpha na origem\n",
        "\n",
        "psi_0 = np.zeros(N+1)\n",
        "\n",
        "for i in range(N+1):\n",
        "  psi_0[i,] = np.sin((2*i+1)*math.pi/2)     # arccot(0) = Pi/2  \n",
        "\n",
        "#Alpha_0 = 1 + np.dot(al0, psi_0) "
      ],
      "metadata": {
        "id": "fK3MiMX3CeQE"
      },
      "execution_count": 14,
      "outputs": []
    },
    {
      "cell_type": "code",
      "source": [
        "# Runge Kutta 4th order\n",
        "\n",
        "h = 0.001   # step size\n",
        "tf = 7\n",
        "\n",
        "It = int(tf/h)\n",
        "\n",
        "t = np.linspace(0, tf, It) \n",
        "\n",
        "phi_set = np.zeros([It,M])   \n",
        "chi_set = np.zeros([It,M])\n",
        "pi_set = np.zeros([It,M])\n",
        "L2HC = np.zeros([It])  \n",
        "#Alpha0_a005 = np.zeros([It])\n",
        "#Alpha0_a007 = np.zeros([It])\n",
        "#Alpha0_a0081 = np.zeros([It])\n",
        "#Alpha0_a002 = np.zeros([It])\n",
        "Alpha_origin = np.zeros([It])\n",
        "phi_origin = np.zeros([It])\n",
        "\n",
        "\n",
        "V = 0\n",
        "\n",
        "for i in range(It): \n",
        "\n",
        "  # First step\n",
        "  Phi = np.dot(a0, psi)      \n",
        "  rPhi = np.dot(a0, rpsi)\n",
        "  rrPhi = np.dot(a0, rrpsi)      \n",
        "  Pi = np.dot(b0, psi) \n",
        "  rPi= np.dot(b0, rpsi)\n",
        "  Chi = np.dot(c0, psi) \n",
        "  rChi = np.dot(c0, rpsi)\n",
        "  rrChi = np.dot(c0, rrpsi)   \n",
        "  Matrix_Krr = 2*rChi*SB1 + rSB1 + 3/r*SB1 \n",
        "  inv_matrix_krr = np.linalg.inv(Matrix_Krr)\n",
        "  rhsk = - Pi*rPhi*np.exp(4*Chi)\n",
        "  ck0 = np.dot(rhsk, inv_matrix_krr)\n",
        "  Krr = np.dot(ck0, SB1) \n",
        "  rKrr = np.dot(ck0, rSB1)\n",
        "  Matrix_Alpha = rrpsi + 2*(1/r + rChi)*rpsi - 3/2*np.exp(-4*Chi)*Krr**2*psi - np.exp(4*Chi)*(Pi**2 - V)*psi \n",
        "  inv_matrix_alpha = np.linalg.inv(Matrix_Alpha)\n",
        "  rhsal = 3/2*np.exp(-4*Chi)*Krr**2 + np.exp(4*Chi)*(Pi**2-V)\n",
        "  al0 = np.dot(rhsal, inv_matrix_alpha)\n",
        "  Alpha = 1 + np.dot(al0, psi)\n",
        "  rAlpha = np.dot(al0, rpsi)\n",
        "  rrAlpha = np.dot(al0, rrpsi)\n",
        "  Matrix_Beta = rSB2/r - SB2/r**2\n",
        "  inv_matrix_beta = np.linalg.inv(Matrix_Beta)\n",
        "  rhsbe = 3/2*Alpha*np.exp(-4*Chi)*Krr/r\n",
        "  be0 = np.dot(rhsbe , inv_matrix_beta)\n",
        "  Beta = np.dot(be0, SB2)\n",
        "  rBeta = np.dot(be0, rSB2)\n",
        "  db = np.dot(Beta*rPi + np.exp(-4*Chi)*(2*Alpha/r + rAlpha + 2*rChi*Alpha)*rPhi + np.exp(-4*Chi)*Alpha*rrPhi - Alpha* V, inv_psi)\n",
        "  dc = np.dot(Beta*rChi + Beta/2/r + Alpha/4*np.exp(-4*Chi)*Krr, inv_psi)   \n",
        "  da = np.dot(Alpha*Pi + Beta*rPhi, inv_psi)   \n",
        "  K1 = h*(dc)\n",
        "  L1 = h*(da)\n",
        "  N1 = h*(db)\n",
        "  \n",
        "  # L2-error associated to the Hamiltonian constraint\n",
        "  qPhi = np.dot(a0, qpsi)      \n",
        "  rqPhi= np.dot(a0, rqpsi)\n",
        "  qPi = np.dot(b0, qpsi) \n",
        "  qChi = np.dot(c0, qpsi)\n",
        "  rqChi = np.dot(c0, rqpsi)\n",
        "  rrqChi = np.dot(c0, rrqpsi) \n",
        "  qKrr = np.dot(ck0, qSB1)\n",
        "  H = 4*rqChi**2 + 4*rrqChi + 8*rqChi/rq + 3/4*np.exp(-4*qChi)*qKrr**2 + np.exp(4*qChi)*(1/2*qPi**2 + np.exp(-4*qChi)/2*rqPhi**2)   # Hamiltonian constraint (HC)\n",
        "  L2HC[i,] = (1/2*np.dot(H**2,wq_col))**(1/2)     # L2 error of HC \n",
        "  \n",
        "  # Alpha in r=0\n",
        "  Alpha_origin[i] = 1 + np.dot(al0, psi_0)\n",
        "\n",
        "  #Phi origin:\n",
        "  phi_origin[i] = np.dot(a0, psi_0)\n",
        "\n",
        "  # Second step\n",
        "  Phi = np.dot(a0 + L1/2, psi)     \n",
        "  rPhi= np.dot(a0 + L1/2 , rpsi)\n",
        "  rrPhi = np.dot(a0 + L1/2, rrpsi) \n",
        "  Pi = np.dot(b0 + N1/2, psi)\n",
        "  rPi= np.dot(b0 + N1/2, rpsi)\n",
        "  Chi = np.dot(c0 + K1/2, psi)\n",
        "  rChi = np.dot(c0 + K1/2, rpsi)\n",
        "  rrChi = np.dot(c0 + K1/2, rrpsi)\n",
        "  Matrix_Krr = 2*rChi*SB1 + rSB1 + 3/r*SB1 \n",
        "  inv_matrix_krr = np.linalg.inv(Matrix_Krr)\n",
        "  rhsk = - Pi*rPhi*np.exp(4*Chi)\n",
        "  ck0 = np.dot(rhsk, inv_matrix_krr)\n",
        "  Krr = np.dot(ck0, SB1) \n",
        "  rKrr = np.dot(ck0, rSB1)\n",
        "  Matrix_Alpha = rrpsi + 2*(1/r + rChi)*rpsi - 3/2*np.exp(-4*Chi)*Krr**2*psi - np.exp(4*Chi)*(Pi**2 - V)*psi \n",
        "  inv_matrix_alpha = np.linalg.inv(Matrix_Alpha)\n",
        "  rhsal = 3/2*np.exp(-4*Chi)*Krr**2 + np.exp(4*Chi)*(Pi**2-V)\n",
        "  al0 = np.dot(rhsal, inv_matrix_alpha)\n",
        "  Alpha = 1 + np.dot(al0, psi)\n",
        "  rAlpha = np.dot(al0, rpsi)\n",
        "  rrAlpha = np.dot(al0, rrpsi)\n",
        "  Matrix_Beta = rSB2/r - SB2/r**2\n",
        "  inv_matrix_beta = np.linalg.inv(Matrix_Beta)\n",
        "  rhsbe = 3/2*Alpha*np.exp(-4*Chi)*Krr/r\n",
        "  be0 = np.dot(rhsbe , inv_matrix_beta)\n",
        "  Beta = np.dot(be0, SB2)\n",
        "  rBeta = np.dot(be0, rSB2)\n",
        "  db = np.dot(Beta*rPi + np.exp(-4*Chi)*(2*Alpha/r + rAlpha + 2*rChi*Alpha)*rPhi + np.exp(-4*Chi)*Alpha*rrPhi - Alpha* V, inv_psi)   \n",
        "  dc = np.dot(Beta*rChi + Beta/2/r + Alpha/4*np.exp(-4*Chi)*Krr, inv_psi)    \n",
        "  da = np.dot(Alpha*Pi + Beta*rPhi, inv_psi)   \n",
        "  K2 = h*(dc)\n",
        "  L2 = h*(da)\n",
        "  N2 = h*(db)\n",
        "\n",
        "  # Third step\n",
        "  Phi = np.dot(a0 + L2/2, psi)     \n",
        "  rPhi = np.dot(a0 + L2/2 , rpsi)\n",
        "  rrPhi = np.dot(a0 + L2/2, rrpsi) \n",
        "  Pi = np.dot(b0 + N2/2, psi)\n",
        "  rPi= np.dot(b0 + N2/2, rpsi)\n",
        "  Chi = np.dot(c0 + K2/2, psi)\n",
        "  rChi = np.dot(c0 + K2/2, rpsi)\n",
        "  rrChi = np.dot(c0 + K2/2, rrpsi)\n",
        "  Matrix_Krr = 2*rChi*SB1 + rSB1 + 3/r*SB1\n",
        "  inv_matrix_krr = np.linalg.inv(Matrix_Krr)\n",
        "  rhsk = - Pi*rPhi*np.exp(4*Chi)\n",
        "  ck0 = np.dot(rhsk, inv_matrix_krr)\n",
        "  Krr = np.dot(ck0, SB1) \n",
        "  rKrr = np.dot(ck0, rSB1)\n",
        "  Matrix_Alpha = rrpsi + 2*(1/r + rChi)*rpsi - 3/2*np.exp(-4*Chi)*Krr**2*psi - np.exp(4*Chi)*(Pi**2 - V)*psi \n",
        "  inv_matrix_alpha = np.linalg.inv(Matrix_Alpha)\n",
        "  rhsal = 3/2*np.exp(-4*Chi)*Krr**2 + np.exp(4*Chi)*(Pi**2-V)\n",
        "  al0 = np.dot(rhsal, inv_matrix_alpha)\n",
        "  Alpha = 1 + np.dot(al0, psi)\n",
        "  rAlpha = np.dot(al0, rpsi)\n",
        "  rrAlpha = np.dot(al0, rrpsi)\n",
        "  Matrix_Beta = rSB2/r - SB2/r**2\n",
        "  inv_matrix_beta = np.linalg.inv(Matrix_Beta)\n",
        "  rhsbe = 3/2*Alpha*np.exp(-4*Chi)*Krr/r\n",
        "  be0 = np.dot(rhsbe , inv_matrix_beta)\n",
        "  Beta = np.dot(be0, SB2)\n",
        "  rBeta = np.dot(be0, rSB2)\n",
        "  db = np.dot(Beta*rPi + np.exp(-4*Chi)*(2*Alpha/r + rAlpha + 2*rChi*Alpha)*rPhi + np.exp(-4*Chi)*Alpha*rrPhi - Alpha* V, inv_psi)   \n",
        "  dc = np.dot(Beta*rChi + Beta/2/r + Alpha/4*np.exp(-4*Chi)*Krr, inv_psi)    \n",
        "  da = np.dot(Alpha*Pi + Beta*rPhi, inv_psi)   \n",
        "  K3 = h*(dc)\n",
        "  L3 = h*(da)\n",
        "  N3 = h*(db) \n",
        "\n",
        "  # Forth step\n",
        "  Phi = np.dot(a0 + L3, psi)     \n",
        "  rPhi= np.dot(a0 + L3 , rpsi)\n",
        "  rrPhi = np.dot(a0 + L3, rrpsi) \n",
        "  Pi = np.dot(b0 + N3, psi)\n",
        "  rPi= np.dot(b0 + N3, rpsi)\n",
        "  Chi = np.dot(c0 + K3, psi)\n",
        "  rChi = np.dot(c0 + K3, rpsi)\n",
        "  rrChi = np.dot(c0 + K3, rrpsi)\n",
        "  Matrix_Krr = 2*rChi*SB1 + rSB1 + 3/r*SB1 \n",
        "  inv_matrix_krr = np.linalg.inv(Matrix_Krr)\n",
        "  rhsk = - Pi*rPhi*np.exp(4*Chi)\n",
        "  ck0 = np.dot(rhsk, inv_matrix_krr)\n",
        "  Krr = np.dot(ck0, SB1) \n",
        "  rKrr = np.dot(ck0, rSB1)\n",
        "  Matrix_Alpha = rrpsi + 2*(1/r + rChi)*rpsi - 3/2*np.exp(-4*Chi)*Krr**2*psi - np.exp(4*Chi)*(Pi**2 - V)*psi \n",
        "  inv_matrix_alpha = np.linalg.inv(Matrix_Alpha)\n",
        "  rhsal = 3/2*np.exp(-4*Chi)*Krr**2 + np.exp(4*Chi)*(Pi**2-V)\n",
        "  al0 = np.dot(rhsal, inv_matrix_alpha)\n",
        "  Alpha = 1 + np.dot(al0, psi)\n",
        "  rAlpha = np.dot(al0, rpsi)\n",
        "  rrAlpha = np.dot(al0, rrpsi)\n",
        "  Matrix_Beta = rSB2/r - SB2/r**2\n",
        "  inv_matrix_beta = np.linalg.inv(Matrix_Beta)\n",
        "  rhsbe = 3/2*Alpha*np.exp(-4*Chi)*Krr/r\n",
        "  be0 = np.dot(rhsbe , inv_matrix_beta)\n",
        "  Beta = np.dot(be0, SB2)\n",
        "  rBeta = np.dot(be0, rSB2)\n",
        "  db = np.dot(Beta*rPi + np.exp(-4*Chi)*(2*Alpha/r + rAlpha + 2*rChi*Alpha)*rPhi + np.exp(-4*Chi)*Alpha*rrPhi - Alpha* V, inv_psi)   \n",
        "  dc = np.dot(Beta*rChi + Beta/2/r + Alpha/4*np.exp(-4*Chi)*Krr, inv_psi)    \n",
        "  da = np.dot(Alpha*Pi + Beta*rPhi, inv_psi)   \n",
        "  K4 = h*(dc)\n",
        "  L4 = h*(da)\n",
        "  N4 = h*(db)  \n",
        "  \n",
        "  # Evolution functions\n",
        "  a0 = a0 + 1/6 * (L1 + 2*L2 + 2*L3 + L4)\n",
        "  b0 = b0 + 1/6 * (N1 + 2*N2 + 2*N3 + N4)\n",
        "  c0 = c0 + 1/6 * (K1 + 2*K2 + 2*K3 + K4)  \n",
        "  phi_set[i,:] = np.dot(a0, psiplot)\n",
        "  pi_set[i,:] = np.dot(b0, psiplot)\n",
        "  chi_set[i,:] = np.dot(c0, psiplot)\n",
        "  \n",
        "  \n",
        "\n",
        "\n",
        "\n"
      ],
      "metadata": {
        "id": "J9Xlw9Pagaak"
      },
      "execution_count": 15,
      "outputs": []
    },
    {
      "cell_type": "code",
      "source": [
        "for i in range(It):\n",
        "  plt.plot(rplot, phi_set[i])"
      ],
      "metadata": {
        "id": "D3ygvbqXRBBV",
        "outputId": "5c4e1727-41c2-433f-ff36-07a88635a943",
        "colab": {
          "base_uri": "https://localhost:8080/",
          "height": 265
        }
      },
      "execution_count": 16,
      "outputs": [
        {
          "output_type": "display_data",
          "data": {
            "text/plain": [
              "<Figure size 432x288 with 1 Axes>"
            ],
            "image/png": "[encoded data removed]"
          },
          "metadata": {
            "needs_background": "light"
          }
        }
      ]
    },
    {
      "cell_type": "code",
      "source": [
        "t1 = np.linspace(0, tf, len(Alpha_origin)) \n",
        "\n",
        "plt.plot(t1, Alpha_origin, color = \"g\", label = \"$A_0$ = {:}\".format(A0))\n",
        "plt.title(\"Alpha na origem para L0 = 2, N = {:}\".format(N))\n",
        "plt.ylabel(r\"$\\alpha(t,0)$\")\n",
        "plt.xlabel(\"t\")\n",
        "plt.legend()"
      ],
      "metadata": {
        "id": "viOlUHjgldXh",
        "outputId": "7dfa4241-43d1-4821-da1b-79b95b93f903",
        "colab": {
          "base_uri": "https://localhost:8080/",
          "height": 312
        }
      },
      "execution_count": 10,
      "outputs": [
        {
          "output_type": "execute_result",
          "data": {
            "text/plain": [
              "<matplotlib.legend.Legend at 0x7fd730312a30>"
            ]
          },
          "metadata": {},
          "execution_count": 10
        },
        {
          "output_type": "display_data",
          "data": {
            "text/plain": [
              "<Figure size 432x288 with 1 Axes>"
            ],
            "image/png": "[encoded data removed]"
          },
          "metadata": {
            "needs_background": "light"
          }
        }
      ]
    },
    {
      "cell_type": "code",
      "source": [
        "# Erro L2 of Hamiltonian constraint\n",
        "\n",
        "plt.plot(t,L2HC)\n",
        "plt.yscale(\"log\")\n",
        "plt.ylabel(\"log(Error RMS)\")\n",
        "plt.xlabel(\"t\")\n",
        "plt.title(\"log(L2Hc) para $N = 30$, $L_0 = 6$ e $A_0 = 0.05$\")"
      ],
      "metadata": {
        "colab": {
          "base_uri": "https://localhost:8080/",
          "height": 314
        },
        "id": "8OBiYkaKccJW",
        "outputId": "f6a180bb-c686-4f8c-8beb-df34dcd19eb5"
      },
      "execution_count": null,
      "outputs": [
        {
          "output_type": "execute_result",
          "data": {
            "text/plain": [
              "Text(0.5, 1.0, 'log(L2Hc) para $N = 30$, $L_0 = 6$ e $A_0 = 0.05$')"
            ]
          },
          "metadata": {},
          "execution_count": 74
        },
        {
          "output_type": "display_data",
          "data": {
            "text/plain": [
              "<Figure size 432x288 with 1 Axes>"
            ],
            "image/png": "[encoded data removed]"
          },
          "metadata": {
            "needs_background": "light"
          }
        }
      ]
    },
    {
      "cell_type": "code",
      "source": [
        "L2HC_30max_L04 = max(L2HC)\n",
        "\n",
        "\n",
        "L2HC_30max_L04"
      ],
      "metadata": {
        "colab": {
          "base_uri": "https://localhost:8080/"
        },
        "id": "mOYk-J4bRiCu",
        "outputId": "527dbd3d-9ccd-4014-d1e2-812bdc0fdf40"
      },
      "execution_count": null,
      "outputs": [
        {
          "output_type": "execute_result",
          "data": {
            "text/plain": [
              "0.002368045184613756"
            ]
          },
          "metadata": {},
          "execution_count": 75
        }
      ]
    },
    {
      "cell_type": "code",
      "source": [
        "L2HC_60max_L04 = max(L2HC)\n",
        "\n",
        "L2HC_60max_L04"
      ],
      "metadata": {
        "id": "KyXxZSEm4-GO",
        "outputId": "0517022e-d20e-4d81-e1c9-290da5014dc3",
        "colab": {
          "base_uri": "https://localhost:8080/"
        }
      },
      "execution_count": null,
      "outputs": [
        {
          "output_type": "execute_result",
          "data": {
            "text/plain": [
              "0.0003667988176506526"
            ]
          },
          "metadata": {},
          "execution_count": 81
        }
      ]
    },
    {
      "cell_type": "code",
      "source": [
        "L2HC_90max_L04 = max(L2HC)\n",
        "\n",
        "L2HC_90max_L04"
      ],
      "metadata": {
        "id": "LhcjVTF54-19",
        "outputId": "bace0a9a-f085-4f2f-8d23-13deb5a999ef",
        "colab": {
          "base_uri": "https://localhost:8080/"
        }
      },
      "execution_count": null,
      "outputs": [
        {
          "output_type": "execute_result",
          "data": {
            "text/plain": [
              "2.5370096280881504e-05"
            ]
          },
          "metadata": {},
          "execution_count": 87
        }
      ]
    },
    {
      "cell_type": "code",
      "source": [
        "L2HC_120max_L04 = max(L2HC)\n",
        "\n",
        "L2HC_120max_L04"
      ],
      "metadata": {
        "id": "8B2yS6Bm4-ue",
        "outputId": "a05dc35f-93a0-445d-e175-7d3357b87f6f",
        "colab": {
          "base_uri": "https://localhost:8080/"
        }
      },
      "execution_count": null,
      "outputs": [
        {
          "output_type": "execute_result",
          "data": {
            "text/plain": [
              "1.2717804336893407e-06"
            ]
          },
          "metadata": {},
          "execution_count": 93
        }
      ]
    },
    {
      "cell_type": "code",
      "source": [
        "L2HC_150max_L04 = max(L2HC)\n",
        "\n",
        "L2HC_150max_L04 "
      ],
      "metadata": {
        "id": "5ohPF2RQ4-ju",
        "outputId": "b19b384e-5699-409a-dae1-7854e4c2d365",
        "colab": {
          "base_uri": "https://localhost:8080/"
        }
      },
      "execution_count": null,
      "outputs": [
        {
          "output_type": "execute_result",
          "data": {
            "text/plain": [
              "8.011384241359008e-08"
            ]
          },
          "metadata": {},
          "execution_count": 99
        }
      ]
    },
    {
      "cell_type": "code",
      "source": [
        "L2HC_180max_L04 = max(L2HC)\n",
        "\n",
        "L2HC_180max_L04"
      ],
      "metadata": {
        "id": "OoGpGCVL4-e9",
        "outputId": "7ca6f931-4363-458f-bfd1-903231f808e1",
        "colab": {
          "base_uri": "https://localhost:8080/"
        }
      },
      "execution_count": null,
      "outputs": [
        {
          "output_type": "execute_result",
          "data": {
            "text/plain": [
              "2.3369171593076615e-08"
            ]
          },
          "metadata": {},
          "execution_count": 105
        }
      ]
    },
    {
      "cell_type": "code",
      "source": [
        "L2HC_210max_L04 = max(L2HC)\n",
        "\n",
        "L2HC_210max_L04"
      ],
      "metadata": {
        "id": "DONT3wwo5eYu",
        "outputId": "b842e21f-7836-40b7-a963-dcd1ac31cf3d",
        "colab": {
          "base_uri": "https://localhost:8080/"
        }
      },
      "execution_count": null,
      "outputs": [
        {
          "output_type": "execute_result",
          "data": {
            "text/plain": [
              "1.400122690314764e-05"
            ]
          },
          "metadata": {},
          "execution_count": 66
        }
      ]
    },
    {
      "cell_type": "code",
      "source": [
        "\n",
        "\n",
        "L2HC_L02 = [L2HC_30max_L02, L2HC_60max_L02,L2HC_90max_L02, L2HC_120max_L02,L2HC_150max_L02, L2HC_180max_L02,L2HC_210max_L02]\n",
        "\n",
        "\n",
        "\n",
        "L2HC_L04 = [L2HC_30max_L04, L2HC_60max_L04,L2HC_90max_L04, L2HC_120max_L04,L2HC_150max_L04, L2HC_180max_L04,L2HC_210max_L04]\n",
        "\n",
        "\n",
        "\n",
        "L2HC_L06 = [L2HC_30max_L06, L2HC_60max_L06,L2HC_90max_L06, L2HC_120max_L06,L2HC_150max_L06, L2HC_180max_L06,L2HC_210max_L06]\n",
        "\n",
        "N = [30,60,90,120,150,180,210]\n",
        "\n",
        "N_max = 210\n",
        "\n",
        "plt.plot(N, L2HC_L02, '-b^', label = \"L0 = 2\")\n",
        "plt.plot(N, L2HC_L04, '-rs',label = \"L0 = 4\")\n",
        "plt.plot(N, L2HC_L06, '-ko',label = \"L0 = 6\")\n",
        "plt.xticks(range(N_max), N)\n",
        "plt.xlabel('N')\n",
        "plt.ylabel('$log(L_2 H)max$')\n",
        "plt.yscale('log')\n",
        "plt.legend()\n",
        "plt.show()"
      ],
      "metadata": {
        "id": "x0PqsWlxSa4H",
        "outputId": "84afbac3-bd9c-4709-a2e1-f4b6caeacef0",
        "colab": {
          "base_uri": "https://localhost:8080/",
          "height": 279
        }
      },
      "execution_count": null,
      "outputs": [
        {
          "output_type": "display_data",
          "data": {
            "text/plain": [
              "<Figure size 432x288 with 1 Axes>"
            ],
            "image/png": "[encoded data removed]"
          },
          "metadata": {
            "needs_background": "light"
          }
        }
      ]
    }
  ]
}