{
  "nbformat": 4,
  "nbformat_minor": 0,
  "metadata": {
    "colab": {
      "provenance": [],
      "authorship_tag": "ABX9TyP7XmL59krzSvBMV2iMAxzc",
      "include_colab_link": true
    },
    "kernelspec": {
      "name": "python3",
      "display_name": "Python 3"
    },
    "language_info": {
      "name": "python"
    }
  },
  "cells": [
    {
      "cell_type": "markdown",
      "metadata": {
        "id": "view-in-github",
        "colab_type": "text"
      },
      "source": [
        "<a href=\"https://colab.research.google.com/github/phmouras/Projeto_Pos/blob/main/NEW_MSSC_L02_Critical_Initial_2_Colab.ipynb\" target=\"_parent\"><img src=\"https://colab.research.google.com/assets/colab-badge.svg\" alt=\"Open In Colab\"/></a>"
      ]
    },
    {
      "cell_type": "code",
      "execution_count": 1,
      "metadata": {
        "id": "j7rIsvD9ekja",
        "colab": {
          "base_uri": "https://localhost:8080/",
          "height": 279
        },
        "outputId": "4be928d0-c0ee-4084-f164-3982402d4c3c"
      },
      "outputs": [
        {
          "output_type": "display_data",
          "data": {
            "text/plain": [
              "<Figure size 432x288 with 1 Axes>"
            ],
            "image/png": "[encoded data removed]"
          },
          "metadata": {
            "needs_background": "light"
          }
        }
      ],
      "source": [
        "import numpy as np\n",
        "import pandas as pd\n",
        "import matplotlib.pyplot as plt\n",
        "import math\n",
        "\n",
        "N = 30                                                   # Truncation ordem\n",
        "\n",
        "L0 = 2                                               # Map parameter \n",
        "\n",
        "col = np.cos(np.arange(2*N + 4)*math.pi /(2*N + 3))      # collocation points (Verificado)\n",
        "\n",
        "colr = col[1:N+1]\n",
        "\n",
        "r1 = L0 * colr/(np.sqrt(1-colr**2))                       # physical domain (Verificado)             \n",
        "\n",
        "r = np.hstack((0, np.flip(r1)))\n",
        "\n",
        "#out_r = open('r_30_L02.txt', 'a')\n",
        "#out_r.write(' ' +' '.join(str('%.18f'%n) for n in r)+'\\n')\n",
        "#out_r.close()\n",
        "\n",
        "\n",
        "# Base Matrix (Tchebyshev Polinomials): \n",
        "\n",
        "SB = np.zeros([N+1,N])\n",
        "rSB = np.zeros([N+1,N])\n",
        "rrSB = np.zeros([N+1,N])\n",
        "psi_origin = np.zeros([N+1])\n",
        "rpsi_origin = np.zeros([N+1])\n",
        "rrpsi_origin = np.zeros([N+1])\n",
        "\n",
        "for i in range(N+1):\n",
        "  psi_origin[i,] = np.sin((2*i+1)*math.pi/2)     # psi(r = 0)\n",
        "\n",
        "for i in range(N+1):\n",
        "  SB[i,] = np.sin((2*i+1)*np.arctan(L0/r[1:N+1]))                                                  \n",
        "\n",
        "for i in range(N+1):\n",
        "  rpsi_origin[i,] = -np.cos((2*i+1)*math.pi/2)*(2*i+1)/L0      # d psi(r = 0)/ dr\n",
        "\n",
        "for i in range(N+1):\n",
        "  rSB[i,] = -np.cos((2*i+1)*np.arctan(L0/r[1:N+1]))*(2*i+1)*L0/(r[1:N+1]**2*+L0**2)\n",
        "\n",
        "for i in range(N+1):\n",
        "  rrpsi_origin[i,] = -np.sin((2*i+1)*math.pi/2)*(2*i+1)**2/L0**2          # d^2 psi(r = 0)/ dr^2\n",
        "\n",
        "for i in range(N+1):\n",
        "  rrSB[i,] = -np.sin((2*i+1)*np.arctan(L0/r[1:N+1]))*(2*i+1)**2*L0**2/(r[1:N+1]**4*(1+L0**2/r[1:N+1]**2)**2)+2*np.cos((2*i+1)*np.arctan(L0/r[1:N+1]))*(2*i+1)*L0/(r[1:N+1]**3*(1+L0**2/r[1:N+1]**2))-2*np.cos((2*i+1)*np.arctan(L0/r[1:N+1]))*(2*i+1)*L0**3/(r[1:N+1]**5*(1+L0**2/r[1:N+1]**2)**2)                     \n",
        "\n",
        "# Base function\n",
        "\n",
        "psi_0 = psi_origin[0:N+1]   \n",
        "rpsi_0 = rpsi_origin[0:N+1]   \n",
        "rrpsi_0 = rrpsi_origin[0:N+1]\n",
        "\n",
        "psi_int = SB[0:N+1,:]        # fora da origem   \n",
        "rpsi_int = rSB[0:N+1,:]\n",
        "rrpsi_int = rrSB[0:N+1,:]\n",
        "\n",
        "psi = np.column_stack((psi_0, psi_int))     # na origem\n",
        "rpsi = np.column_stack((rpsi_0, rpsi_int))\n",
        "rrpsi = np.column_stack((rrpsi_0, rrpsi_int))\n",
        "\n",
        "# Initial conditions of Phi (Scalar field)                                    \n",
        "\n",
        "r0 = 0\n",
        "\n",
        "\n",
        "A0 = 0.05  # 0.935155201739-> disperse ; 0.9351552017139; # 0.935155201714  -> colapse       \n",
        "\n",
        "sigma = 1\n",
        "\n",
        "\n",
        "Phi_init = A0*r**2*(np.exp(-(r-r0)**2/sigma**2)+np.exp(-(r+r0)**2/sigma**2))          # Phi initial data out of origin (Verificado)\n",
        "\n",
        "inv_psi = np.linalg.inv(psi)\n",
        "  \n",
        "a0 = np.dot(Phi_init, inv_psi)  # coeficients a(0)  (Verificado)\n",
        "\n",
        "#out_a = open('a0_30_L02.txt', 'a')\n",
        "#out_a.write(' ' +' '.join(str('%.18f'%n) for n in a0)+'\\n')\n",
        "#out_a.close()\n",
        "\n",
        "\n",
        "Phi = np.dot(a0, psi)        # approximative solution in t = 0\n",
        "rPhi= np.dot(a0, rpsi)\n",
        "\n",
        "########################### Plot: Initial Conditions of Phi\n",
        "\n",
        "M = 3000       # plot truncation\n",
        "\n",
        "rplot = np.linspace(0.00000000000000001,15,M)\n",
        "\n",
        "colplot = rplot/np.sqrt(L0**2 + rplot**2)\n",
        "\n",
        "SBplot = np.zeros([N+1,M])\n",
        "rSBplot = np.zeros([N+1,M])\n",
        "rrSBplot = np.zeros([N+1,M])\n",
        "\n",
        "for i in range(N+1):\n",
        "  SBplot[i,] = np.sin((2*i+1)*np.arctan(L0/rplot))\n",
        "\n",
        "for i in range(N+1):\n",
        "  rSBplot[i,] = -np.cos((2*i+1)*np.arctan(L0/rplot))*(2*i+1)*L0/(rplot**2*(1+L0**2/rplot**2)) \n",
        "\n",
        "for i in range(N+1):\n",
        "  rrSBplot[i,] = -np.sin((2*i+1)*np.arctan(L0/rplot))*(2*i+1)**2*L0**2/(rplot**4*(1+L0**2/rplot**2)**2)+2*np.cos((2*i+1)*np.arctan(L0/rplot))*(2*i+1)*L0/(rplot**3*(1+L0**2/rplot**2))-2*np.cos((2*i+1)*np.arctan(L0/rplot))*(2*i+1)*L0**3/(rplot**5*(1+L0**2/rplot**2)**2)                     \n",
        "\n",
        "psiplot = SBplot[0:(N+1),:] \n",
        "rpsiplot = rSBplot[0:(N+1),:]\n",
        "rrpsiplot = rrSBplot[0:(N+1),:]\n",
        "\n",
        "Phiplot_init = A0*rplot**2*(np.exp(-(rplot-r0)**2/sigma**2)+np.exp(-(rplot+r0)**2/sigma**2))     \n",
        "\n",
        "#Phiplot_init = np.hstack((0, Phiplot_int))\n",
        "\n",
        "Phiplot = np.dot(a0, psiplot)\n",
        "\n",
        "plt.plot(rplot, Phiplot)   #(Verificado)\n",
        "plt.xlabel('r')\n",
        "plt.xlim(0,8)\n",
        "plt.show()"
      ]
    },
    {
      "cell_type": "code",
      "source": [
        "col"
      ],
      "metadata": {
        "id": "5XDJ7agcsztr",
        "outputId": "3f46283a-1365-4473-bb34-258ce7097f6d",
        "colab": {
          "base_uri": "https://localhost:8080/"
        }
      },
      "execution_count": 23,
      "outputs": [
        {
          "output_type": "execute_result",
          "data": {
            "text/plain": [
              "array([ 1.        ,  0.99875692,  0.99503078,  0.98883083,  0.98017249,\n",
              "        0.96907729,  0.95557281,  0.93969262,  0.92147621,  0.90096887,\n",
              "        0.87822157,  0.85329088,  0.82623877,  0.79713251,  0.76604444,\n",
              "        0.73305187,  0.69823682,  0.66168584,  0.6234898 ,  0.58374367,\n",
              "        0.54254626,  0.5       ,  0.45621066,  0.4112871 ,  0.36534102,\n",
              "        0.31848665,  0.27084047,  0.22252093,  0.17364818,  0.1243437 ,\n",
              "        0.07473009,  0.02493069, -0.02493069, -0.07473009, -0.1243437 ,\n",
              "       -0.17364818, -0.22252093, -0.27084047, -0.31848665, -0.36534102,\n",
              "       -0.4112871 , -0.45621066, -0.5       , -0.54254626, -0.58374367,\n",
              "       -0.6234898 , -0.66168584, -0.69823682, -0.73305187, -0.76604444,\n",
              "       -0.79713251, -0.82623877, -0.85329088, -0.87822157, -0.90096887,\n",
              "       -0.92147621, -0.93969262, -0.95557281, -0.96907729, -0.98017249,\n",
              "       -0.98883083, -0.99503078, -0.99875692, -1.        ])"
            ]
          },
          "metadata": {},
          "execution_count": 23
        }
      ]
    },
    {
      "cell_type": "code",
      "source": [
        "r"
      ],
      "metadata": {
        "id": "0g96y-SSnyc8",
        "outputId": "41c49d7c-955d-4f5d-f024-80c3c4753b45",
        "colab": {
          "base_uri": "https://localhost:8080/"
        }
      },
      "execution_count": 2,
      "outputs": [
        {
          "output_type": "execute_result",
          "data": {
            "text/plain": [
              "array([ 0.        ,  0.14987928,  0.25063252,  0.35265396,  0.45648695,\n",
              "        0.56271275,  0.67196426,  0.78494216,  0.90243437,  1.02534017,\n",
              "        1.15470054,  1.29173695,  1.43790208,  1.59494678,  1.76501047,\n",
              "        1.95074494,  2.15548737,  2.38350719,  2.64036663,  2.93346123,\n",
              "        3.27285491,  3.67261586,  4.15304279,  4.74456058,  5.49495484,\n",
              "        6.48384075,  7.8544943 ,  9.89342989, 13.269133  , 19.98698996,\n",
              "       40.07379578])"
            ]
          },
          "metadata": {},
          "execution_count": 2
        }
      ]
    },
    {
      "cell_type": "code",
      "source": [
        "a0"
      ],
      "metadata": {
        "id": "dI9nO4ivc9aM",
        "outputId": "6f0ac151-1bc3-406b-c9b8-eda799e510ca",
        "colab": {
          "base_uri": "https://localhost:8080/"
        }
      },
      "execution_count": 3,
      "outputs": [
        {
          "output_type": "execute_result",
          "data": {
            "text/plain": [
              "array([ 1.88270588e-02, -3.33223270e-03, -1.00634100e-02,  1.01625180e-02,\n",
              "       -3.19295077e-03, -8.44479548e-04,  6.37619265e-04,  1.62704186e-04,\n",
              "       -1.14245362e-04, -5.29979470e-05,  1.42130929e-05,  1.63766485e-05,\n",
              "        1.69812283e-06, -3.57321768e-06, -1.86750408e-06,  1.66191492e-07,\n",
              "        5.99677346e-07,  2.48036179e-07, -4.71731203e-08, -1.00296733e-07,\n",
              "       -4.27087575e-08,  6.05870375e-09,  1.73144646e-08,  9.01467412e-09,\n",
              "        1.82074707e-10, -2.89365790e-09, -2.06223695e-09, -4.57867442e-10,\n",
              "        4.05460672e-10,  5.03424967e-10,  2.74199876e-10])"
            ]
          },
          "metadata": {},
          "execution_count": 3
        }
      ]
    },
    {
      "cell_type": "code",
      "source": [
        "erro = Phiplot_init - Phiplot\n",
        "\n",
        "plt.plot(rplot, erro)\n",
        "plt.xlabel('r')\n",
        "plt.xlim(0,8)\n",
        "plt.show()"
      ],
      "metadata": {
        "id": "aDwwuNEucKFB",
        "outputId": "5bc846ae-5a05-4907-d39f-37b33635cc2b",
        "colab": {
          "base_uri": "https://localhost:8080/",
          "height": 290
        }
      },
      "execution_count": 4,
      "outputs": [
        {
          "output_type": "display_data",
          "data": {
            "text/plain": [
              "<Figure size 432x288 with 1 Axes>"
            ],
            "image/png": "[encoded data removed]"
          },
          "metadata": {
            "needs_background": "light"
          }
        }
      ]
    },
    {
      "cell_type": "code",
      "source": [
        "\n",
        "Pi_0 = np.zeros(N+1)\n",
        "b0 = np.dot(Pi_0, psi)\n",
        "Pi = np.dot(b0, psi)\n",
        "\n",
        "c0 = np.zeros([N+1])     # guess value\n",
        "for i in range(N+1):\n",
        "  c0[i]  =   0.001\n",
        "\n",
        "coeforigin = 1/L0**2*(-(-1)**(np.arange(N+1))*(2*np.arange(1,N+2)-1)**2)    # 1/r * d\\phi/dr\n",
        "\n",
        "\n",
        "\n",
        "Chi=np.dot(c0,psi)\n",
        "rChi=np.dot(c0,rpsi)\n",
        "rrChi=np.dot(c0,rrpsi)\n",
        "H0_0 = 4*rrChi[0] + 8*np.dot(coeforigin,c0) + 1/2*(rPhi[0])**2\n",
        "H0_int = 4*rChi[1:N+1]**2 + 4*rrChi[1:N+1] + 8/r[1:N+1]*rChi[1:N+1] + 1/2*(rPhi[1:N+1])**2\n",
        "H0 = np.hstack((H0_0, H0_int))\n",
        "JH_0 = 8*rChi[0]*rpsi_0 + 4*rrpsi_0 + 8*coeforigin\n",
        "JH_int = rChi[1:N+1]*rpsi_int + 4*rrpsi_int + 8/r[1:N+1]*rpsi_int  \n",
        "JH = np.column_stack((JH_0, JH_int))\n",
        "\n",
        "\n"
      ],
      "metadata": {
        "id": "AX9676QSocnG"
      },
      "execution_count": 12,
      "outputs": []
    },
    {
      "cell_type": "code",
      "source": [
        "r"
      ],
      "metadata": {
        "id": "6QxKazd-stDB",
        "outputId": "7b6f88fd-47d0-49d6-e282-a77493338303",
        "colab": {
          "base_uri": "https://localhost:8080/"
        }
      },
      "execution_count": 22,
      "outputs": [
        {
          "output_type": "execute_result",
          "data": {
            "text/plain": [
              "array([ 0.        ,  0.14987928,  0.25063252,  0.35265396,  0.45648695,\n",
              "        0.56271275,  0.67196426,  0.78494216,  0.90243437,  1.02534017,\n",
              "        1.15470054,  1.29173695,  1.43790208,  1.59494678,  1.76501047,\n",
              "        1.95074494,  2.15548737,  2.38350719,  2.64036663,  2.93346123,\n",
              "        3.27285491,  3.67261586,  4.15304279,  4.74456058,  5.49495484,\n",
              "        6.48384075,  7.8544943 ,  9.89342989, 13.269133  , 19.98698996,\n",
              "       40.07379578])"
            ]
          },
          "metadata": {},
          "execution_count": 22
        }
      ]
    },
    {
      "cell_type": "code",
      "source": [
        "a0"
      ],
      "metadata": {
        "id": "9pdVr7ERo5N8",
        "outputId": "717ae3fe-3058-4bda-f06e-9dd7dda2d7e1",
        "colab": {
          "base_uri": "https://localhost:8080/"
        }
      },
      "execution_count": 21,
      "outputs": [
        {
          "output_type": "execute_result",
          "data": {
            "text/plain": [
              "array([ 1.88270588e-02, -3.33223270e-03, -1.00634100e-02,  1.01625180e-02,\n",
              "       -3.19295077e-03, -8.44479548e-04,  6.37619265e-04,  1.62704186e-04,\n",
              "       -1.14245362e-04, -5.29979470e-05,  1.42130929e-05,  1.63766485e-05,\n",
              "        1.69812283e-06, -3.57321768e-06, -1.86750408e-06,  1.66191492e-07,\n",
              "        5.99677346e-07,  2.48036179e-07, -4.71731203e-08, -1.00296733e-07,\n",
              "       -4.27087575e-08,  6.05870375e-09,  1.73144646e-08,  9.01467412e-09,\n",
              "        1.82074707e-10, -2.89365790e-09, -2.06223695e-09, -4.57867442e-10,\n",
              "        4.05460672e-10,  5.03424967e-10,  2.74199876e-10])"
            ]
          },
          "metadata": {},
          "execution_count": 21
        }
      ]
    },
    {
      "cell_type": "code",
      "source": [
        "Pi_0 = np.zeros(N+1)\n",
        "b0 = np.dot(Pi_0, psi)\n",
        "Pi = np.dot(b0, psi)\n",
        "\n",
        "c0 = np.zeros([N+1])     # guess value\n",
        "for i in range(N+1):\n",
        "  c0[i]  =   0.001\n",
        "\n",
        "coeforigin = 1/L0**2*(-(-1)**(np.arange(N+1))*(2*np.arange(1,N+2)-1)**2)    # 1/r * d\\phi/dr\n",
        "\n",
        "tol = 1e-30    # tolerance\n",
        "\n",
        "cnew = c0\n",
        "\n",
        "# Newton Raphson loop\n",
        "if min(abs(cnew-c0)) < tol:\n",
        "  Chi=np.dot(c0,psi)\n",
        "  rChi=np.dot(c0,rpsi)\n",
        "  rrChi=np.dot(c0,rrpsi)\n",
        "  H0_0 = 4*rrChi[0] + 8*np.dot(coeforigin,c0) + 1/2*(rPhi[0])**2\n",
        "  H0_int = 4*rChi[1:N+1]**2 + 4*rrChi[1:N+1] + 8/r[1:N+1]*rChi[1:N+1] + 1/2*(rPhi[1:N+1])**2\n",
        "  H0 = np.hstack((H0_0, H0_int))\n",
        "  JH_0 = 8*rChi[0]*rpsi_0 + 4*rrpsi_0 + 8*coeforigin\n",
        "  JH_int = rChi[1:N+1]*rpsi_int + 4*rrpsi_int + 8/r[1:N+1]*rpsi_int  \n",
        "  JH = np.column_stack((JH_0, JH_int))\n",
        "  inv_JH = np.linalg.inv(JH)\n",
        "  cnew = c0 - np.dot(H0, inv_JH)\n",
        "  c0 = cnew\n",
        "\n",
        "\n",
        "#out_c = open('c0_30_L02.txt', 'a')\n",
        "#out_c.write(' ' +' '.join(str('%.18f'%n) for n in c0)+'\\n')\n",
        "#out_c.close()"
      ],
      "metadata": {
        "id": "snu3BXBgAOek"
      },
      "execution_count": 71,
      "outputs": []
    },
    {
      "cell_type": "code",
      "source": [],
      "metadata": {
        "id": "FA54NU48obtW"
      },
      "execution_count": null,
      "outputs": []
    },
    {
      "cell_type": "code",
      "source": [
        "c0"
      ],
      "metadata": {
        "id": "K9kvHZxhoSnX",
        "outputId": "27d9db16-9cef-446c-911f-e0cc5c3f2518",
        "colab": {
          "base_uri": "https://localhost:8080/"
        }
      },
      "execution_count": 72,
      "outputs": [
        {
          "output_type": "execute_result",
          "data": {
            "text/plain": [
              "array([6.03418847e-03, 1.51979038e-03, 1.01363230e-03, 5.54929432e-04,\n",
              "       4.85308047e-04, 3.18452796e-04, 2.84699833e-04, 2.13055438e-04,\n",
              "       1.88412804e-04, 1.49670606e-04, 1.33507980e-04, 1.09340387e-04,\n",
              "       9.76964851e-05, 8.18274032e-05, 7.28231894e-05, 6.20341597e-05,\n",
              "       5.46665996e-05, 4.72517600e-05, 4.08951310e-05, 3.59219950e-05,\n",
              "       3.01062471e-05, 2.70612427e-05, 2.14579053e-05, 1.99649722e-05,\n",
              "       1.44739120e-05, 1.40709595e-05, 8.90451693e-06, 8.93320606e-06,\n",
              "       4.58901243e-06, 4.26459959e-06, 1.32237694e-06])"
            ]
          },
          "metadata": {},
          "execution_count": 72
        }
      ]
    },
    {
      "cell_type": "code",
      "source": [
        "# Equation for Krr: momentum constraint\n",
        "\n",
        "\n",
        "\n",
        "\n",
        "\n",
        "# Initial values of Krr: Base functions of Krr\n",
        "\n",
        "# In r = 0: \n",
        "\n",
        "Krr = np.zeros(N+1)\n",
        "\n",
        "\n",
        "SB1 = 1/2*(psi[1:(N+1),:] + psi[0:(N),:])          # Com a origem  (30, 31)\n",
        "rSB1 = 1/2*(rpsi[1:(N+1),:] + rpsi[0:(N),:])\n",
        "rrSB1 = 1/2*(rrpsi[1:(N+1),:] + rrpsi[0:(N),:])\n",
        "\n",
        "SB1_int = 1/2*(psi_int[1:(N+1),:] + psi_int[0:(N),:])     # Fora da origem   (30, 30)\n",
        "rSB1_int = 1/2*(rpsi_int[1:(N+1),:] + rpsi_int[0:(N),:]) \n",
        "rrSB1_int = 1/2*(rrpsi_int[1:(N+1),:] + rrpsi_int[0:(N),:]) \n",
        "\n",
        "# Base functions for Beta\n",
        "\n",
        "SB2 = np.zeros([N,N])      \n",
        "rSB2 = np.zeros([N,N])\n",
        "rrSB2 = np.zeros([N,N])\n",
        "SB2_origin = np.zeros([N])\n",
        "rSB2_origin = np.zeros([N])\n",
        "rrSB2_origin = np.zeros([N])\n",
        "\n",
        "for i in range(N):\n",
        "  SB2_origin[i,] = np.sin((2*(i+1/2)+1)*math.pi/2)       # psi(r = 0)\n",
        "\n",
        "for i in range(N):                                                   # VERIFICADO\n",
        "  SB2[i,] = np.sin((2*(i+1/2)+1)*np.arctan(L0/r[1:N+1]))                                                  \n",
        "\n",
        "for i in range(N):\n",
        "  SB2_origin[i,] = -np.cos((2*i+2)*math.pi/2)*(2*i+2)/L0      # d psi(r = 0)/ dr\n",
        "\n",
        "for i in range(N):\n",
        "  rSB2[i,] = -np.cos((2*i+2)*np.arctan(L0/r[1:N+1]))*(2*i+2)*L0/(r[1:N+1]**2*(1+L0**2/r[1:N+1]**2))\n",
        "\n",
        "for i in range(N):\n",
        "  rrSB2_origin[i,] = -np.sin((2*i+2)*math.pi/2)*(2*i+2)**2/L0**2 \n",
        "\n",
        "for i in range(N):\n",
        "  rrSB2[i,] = -np.sin((2*i+2)*np.arctan(L0/r[1:N+1]))*(2*i+2)**2*L0**2/(r[1:N+1]**4*(1+L0**2/r[1:N+1]**2)**2)+2*np.cos((2*i+2)*np.arctan(L0/r[1:N+1]))*(2*i+2)*L0/(r[1:N+1]**3*(1+L0**2/r[1:N+1]**2))-2*np.cos((2*i+2)*np.arctan(L0/r[1:N+1]))*(2*i+2)*L0**3/(r[1:N+1]**5*(1+L0**2/r[1:N+1]**2)**2)\n",
        "\n",
        "\n",
        "\n",
        "SB2 = np.column_stack((SB2_origin, SB2))\n",
        "rSB2 = np.column_stack((rSB2_origin, rSB2))\n",
        "rrSB2 = np.column_stack((SB2_origin, rrSB2))\n",
        "\n",
        "\n",
        "SB2_int = SB2[:, 1:N+1]\n",
        "rSB2_int = SB2[:, 1:N+1]\n",
        "rrSB2_int = SB2[:, 1:N+1]\n",
        "\n",
        "\n",
        "\n"
      ],
      "metadata": {
        "id": "gY4tUs-TezEo"
      },
      "execution_count": null,
      "outputs": []
    },
    {
      "cell_type": "code",
      "source": [
        "Nq = int(3/2*N)           # Quadrature truncation\n",
        "\n",
        "gauss_quadrature = np.polynomial.legendre.leggauss(Nq + 1) \n",
        "\n",
        "new_col = gauss_quadrature[0]            # Legendre quadrature points\n",
        "\n",
        "\n",
        "# Legendre Polinomials\n",
        "\n",
        "P = np.zeros([Nq+3,Nq+1])\n",
        "colP = np.zeros([Nq+3,Nq+1])\n",
        "\n",
        "P[0,] = 1\n",
        "P[1,] = new_col\n",
        "\n",
        "colP[0,] = 0\n",
        "colP[1,] = 1\n",
        "\n",
        "for i in range(2,Nq+3):\n",
        "  P[i,] = ((2*i-1)*new_col*P[i-1,] - (i-1)*P[i-2,])/(i)   \n",
        "\n",
        "for i in range(2,Nq+3):\n",
        "  colP[i,] = i*P[i-1] + new_col*colP[i-1]\n",
        "\n",
        "P_max = P[Nq+1]\n",
        "\n",
        "colP_max = colP[Nq+1]\n",
        "\n",
        "wq_col = 2/((1-new_col**2)*colP_max**2)    # Legendre weight (Verificado)\n",
        "\n",
        "rq = L0*(1+new_col)/(1-new_col)            # Physical quadrature domain\n",
        "\n",
        "qSB = np.zeros([Nq+1,Nq+1])\n",
        "qrSB = np.zeros([Nq+1,Nq+1])\n",
        "qrrSB = np.zeros([Nq+1,Nq+1])\n",
        "\n",
        "\n",
        "for i in range(Nq+1):\n",
        "  qSB[i,] = np.sin((2*i+1)*np.arctan(L0/rq))                                                  \n",
        "\n",
        "for i in range(Nq+1):\n",
        "  qrSB[i,] = -np.cos((2*i+1)*np.arctan(L0/rq))*(2*i+1)*L0/(rq**2*+L0**2)\n",
        "\n",
        "for i in range(Nq+1):\n",
        "  qrrSB[i,] = -np.sin((2*i+1)*np.arctan(L0/rq))*(2*i+1)**2*L0**2/(rq**4*(1+L0**2/rq**2)**2)+2*np.cos((2*i+1)*np.arctan(L0/rq))*(2*i+1)*L0/(rq**3*(1+L0**2/rq**2))-2*np.cos((2*i+1)*np.arctan(L0/rq))*(2*i+1)*L0**3/(rq**5*(1+L0**2/rq**2)**2)                     \n",
        "\n",
        "qpsi = qSB[0:N+1,:]\n",
        "rqpsi = qrSB[0:N+1,:]\n",
        "rrqpsi = qrrSB[0:N+1,:]\n",
        "\n",
        "#qpsiK = np.column_stack((psi_origin, qSB))\n",
        "#rqpsiK = np.column_stack((rpsi_origin, qrSB))\n",
        "#rrqpsiK = np.column_stack((rrpsi_origin, qrrSB))\n",
        "\n",
        "\n",
        "qSB1 = 1/2*(qSB[1:(N+1),:] + qSB[0:(N),:])          # VERIFICADO\n",
        "rqSB1 = 1/2*(qrSB[1:(N+1),:] + qrSB[0:(N),:])\n",
        "rrqSB1 = 1/2*(qSB[1:(N+1),:] + qrrSB[0:(N),:])\n",
        "\n",
        "qSB1_I = qSB[:, 1:N+1]\n",
        "rqSB1_I = qSB[:, 1:N+1]\n",
        "rrqSB1_1 = qSB[:, 1:N+1]\n",
        "\n",
        "# Initial Phi in quadrature points\n",
        "\n",
        "#qPhi = np.dot(a0, qpsi)      \n",
        "#rqPhi= np.dot(a0, rqpsi)\n",
        "\n",
        "# Initial Pi for quadrature points\n",
        "\n",
        "#qPi = np.dot(b0, qpsi) \n",
        "\n",
        "\n",
        "# Initial Chi for quadrature points:\n",
        "\n",
        "#qChi = np.dot(c0, qpsi)   # Verificado todos\n",
        "#rqChi = np.dot(c0, rqpsi)\n",
        "#rrqChi = np.dot(c0, rrqpsi)\n",
        "\n",
        "# Initial values of Krr:\n",
        "\n",
        "#qKrr = np.dot(ck0, qSB1) \n",
        "\n",
        "# Alpha na origem\n",
        "\n",
        "#Alphacenter = (-1)**(np.arange(N+1))\n"
      ],
      "metadata": {
        "id": "HjxtRx4se2W-"
      },
      "execution_count": null,
      "outputs": []
    },
    {
      "cell_type": "code",
      "source": [
        "rrpsi_0"
      ],
      "metadata": {
        "id": "NiMlzNsvfYrr",
        "outputId": "6f41243e-55fb-45dd-e573-f860e5318b82",
        "colab": {
          "base_uri": "https://localhost:8080/"
        }
      },
      "execution_count": null,
      "outputs": [
        {
          "output_type": "execute_result",
          "data": {
            "text/plain": [
              "array([-2.5000e-01,  2.2500e+00, -6.2500e+00,  1.2250e+01, -2.0250e+01,\n",
              "        3.0250e+01, -4.2250e+01,  5.6250e+01, -7.2250e+01,  9.0250e+01,\n",
              "       -1.1025e+02,  1.3225e+02, -1.5625e+02,  1.8225e+02, -2.1025e+02,\n",
              "        2.4025e+02, -2.7225e+02,  3.0625e+02, -3.4225e+02,  3.8025e+02,\n",
              "       -4.2025e+02,  4.6225e+02, -5.0625e+02,  5.5225e+02, -6.0025e+02,\n",
              "        6.5025e+02, -7.0225e+02,  7.5625e+02, -8.1225e+02,  8.7025e+02,\n",
              "       -9.3025e+02])"
            ]
          },
          "metadata": {},
          "execution_count": 41
        }
      ]
    },
    {
      "cell_type": "code",
      "source": [
        "psi_0"
      ],
      "metadata": {
        "id": "08uY9mH3hAR4",
        "outputId": "6930b777-329b-4752-8d8f-7a1fb950d135",
        "colab": {
          "base_uri": "https://localhost:8080/"
        }
      },
      "execution_count": null,
      "outputs": [
        {
          "output_type": "execute_result",
          "data": {
            "text/plain": [
              "array([ 1., -1.,  1., -1.,  1., -1.,  1., -1.,  1., -1.,  1., -1.,  1.,\n",
              "       -1.,  1., -1.,  1., -1.,  1., -1.,  1., -1.,  1., -1.,  1., -1.,\n",
              "        1., -1.,  1., -1.,  1.])"
            ]
          },
          "metadata": {},
          "execution_count": 43
        }
      ]
    },
    {
      "cell_type": "code",
      "source": [
        "# Runge Kutta 4th order\n",
        "\n",
        "h = 0.001   # step size\n",
        "tf = 4\n",
        "\n",
        "It = int(tf/h)\n",
        "\n",
        "#t1 = np.linspace(0, tf, It) \n",
        "\n",
        "t = 0\n",
        "\n",
        "Alpha_origin = []\n",
        "phi_origin = []\n",
        "L2HC = []\n",
        "phi_set = []\n",
        "\n",
        "V = 0\n",
        "\n",
        "#matriz = np.concatenate((array1, array2))\n",
        "\n",
        "while t <= tf:\n",
        "   \n",
        "  # First step\n",
        "  Phi = np.dot(a0, psi)      \n",
        "  rPhi = np.dot(a0, rpsi)\n",
        "  rrPhi = np.dot(a0, rrpsi)      \n",
        "  Pi = np.dot(b0, psi) \n",
        "  rPi= np.dot(b0, rpsi)\n",
        "  Chi = np.dot(c0, psi) \n",
        "  rChi = np.dot(c0, rpsi)\n",
        "  rrChi = np.dot(c0, rrpsi)   \n",
        "  Matrix_Krr = 2*rChi[1:N+1]*SB1_int + rSB1_int + 3/r[1:N+1]*SB1_int   # (p, p)\n",
        "  inv_matrix_krr = np.linalg.inv(Matrix_Krr)\n",
        "  rhsk = - Pi[1:N+1]*rPhi[1:N+1]*np.exp(4*Chi[1:N+1]) # (p,)\n",
        "  ck0 = np.dot(rhsk, inv_matrix_krr)  # (p,)\n",
        "  Krr = np.dot(ck0, SB1)              # (p+1,)     \n",
        "  rKrr = np.dot(ck0, rSB1)\n",
        "  Matrix_Alpha_0 = rrpsi_0 + 2*coeforigin - np.exp(4*Chi[0]) * Pi[0]**2*psi_0\n",
        "  Matrix_Alpha_int = rrpsi_int + 2*(1/r[1:N+1] + rChi[1:N+1])*rpsi_int - 3/2*np.exp(-4*Chi[1:N+1])*Krr[1:N+1]**2*psi_int - np.exp(4*Chi[1:N+1])*(Pi[1:N+1]**2 - V)*psi_int \n",
        "  Matrix_Alpha = np.column_stack((Matrix_Alpha_0, Matrix_Alpha_int))\n",
        "  inv_matrix_alpha = np.linalg.inv(Matrix_Alpha)\n",
        "  rhsal = 3/2*np.exp(-4*Chi)*Krr**2 + np.exp(4*Chi)*(Pi**2-V)\n",
        "  al0 = np.dot(rhsal, inv_matrix_alpha)\n",
        "  Alpha = 1 + np.dot(al0, psi)\n",
        "  rAlpha = np.dot(al0, rpsi)\n",
        "  rrAlpha = np.dot(al0, rrpsi)\n",
        "  Matrix_Beta = rSB2_int - SB2_int/r[1:N+1]\n",
        "  inv_matrix_beta = np.linalg.inv(Matrix_Beta)\n",
        "  rhsbe = 3/2*Alpha[1:N+1]*np.exp(-4*Chi[1:N+1])*Krr[1:N+1]\n",
        "  be0 = np.dot(rhsbe , inv_matrix_beta)\n",
        "  Beta = np.dot(be0, SB2)\n",
        "  rBeta = np.dot(be0, rSB2)\n",
        "  db_origin = 2*np.exp(-4*Chi[0])*Alpha[0]*np.dot(a0, coeforigin) + np.exp(-4*Chi[0])*Alpha[0]*rrPhi[0]\n",
        "  db_int = Beta[1:N+1]*rPi[1:N+1] + np.exp(-4*Chi[1:N+1])*(2*Alpha[1:N+1]/r[1:N+1] + rAlpha[1:N+1] + 2*rChi[1:N+1]*Alpha[1:N+1])*rPhi[1:N+1] + np.exp(-4*Chi[1:N+1])*Alpha[1:N+1]*rrPhi[1:N+1] - Alpha[1:N+1]* V\n",
        "  db = np.dot(np.hstack((db_origin, db_int)), inv_psi)\n",
        "  dc = np.dot(Beta*rChi + rBeta/2 - Alpha/2*np.exp(-4*Chi)*Krr, inv_psi)   \n",
        "  da = np.dot(Alpha*Pi + Beta*rPhi, inv_psi)   \n",
        "  K1 = h*(dc)\n",
        "  L1 = h*(da)\n",
        "  N1 = h*(db)\n",
        "  \n",
        "  # L2-error associated to the Hamiltonian constraint\n",
        "  qPhi = np.dot(a0, qpsi)      \n",
        "  rqPhi= np.dot(a0, rqpsi)\n",
        "  qPi = np.dot(b0, qpsi) \n",
        "  qChi = np.dot(c0, qpsi)\n",
        "  rqChi = np.dot(c0, rqpsi)\n",
        "  rrqChi = np.dot(c0, rrqpsi) \n",
        "  qKrr = np.dot(ck0, qSB1)\n",
        "  H = 4*rqChi**2 + 4*rrqChi + 8*rqChi/rq + 3/4*np.exp(-4*qChi)*qKrr**2 + np.exp(4*qChi)*(1/2*qPi**2 + np.exp(-4*qChi)/2*rqPhi**2)   # Hamiltonian constraint (HC)\n",
        "  L2HC.append((1/2*np.dot(H**2,wq_col))**1/2)    # L2 error of HC \n",
        "  \n",
        "  # Alpha origin\n",
        "  Alpha_origin.append(1 + np.dot(al0, psi_0))  # = Alphacenter in matlab\n",
        "#  print(Alpha_origin)\n",
        "  \n",
        "  # Phi origin:  \n",
        "  phi_origin.append(np.dot(a0, psi_0))\n",
        "#  print(phi_origin)\n",
        "    \n",
        "  # Second step\n",
        "  Phi = np.dot(a0 + L1/2, psi)     \n",
        "  rPhi= np.dot(a0 + L1/2 , rpsi)\n",
        "  rrPhi = np.dot(a0 + L1/2, rrpsi) \n",
        "  Pi = np.dot(b0 + N1/2, psi)\n",
        "  rPi= np.dot(b0 + N1/2, rpsi)\n",
        "  Chi = np.dot(c0 + K1/2, psi)\n",
        "  rChi = np.dot(c0 + K1/2, rpsi)\n",
        "  rrChi = np.dot(c0 + K1/2, rrpsi)\n",
        "  Matrix_Krr = 2*rChi[1:N+1]*SB1_int + rSB1_int + 3/r[1:N+1]*SB1_int   # (p, p)\n",
        "  inv_matrix_krr = np.linalg.inv(Matrix_Krr)\n",
        "  rhsk = - Pi[1:N+1]*rPhi[1:N+1]*np.exp(4*Chi[1:N+1]) # (p,)\n",
        "  ck0 = np.dot(rhsk, inv_matrix_krr)  \n",
        "  Krr = np.dot(ck0, SB1)                 \n",
        "  rKrr = np.dot(ck0, rSB1)\n",
        "  Matrix_Alpha_0 = rrpsi_0 + 2*coeforigin - np.exp(4*Chi[0]) * Pi[0]**2*psi_0\n",
        "  Matrix_Alpha_int = rrpsi_int + 2*(1/r[1:N+1] + rChi[1:N+1])*rpsi_int - 3/2*np.exp(-4*Chi[1:N+1])*Krr[1:N+1]**2*psi_int - np.exp(4*Chi[1:N+1])*(Pi[1:N+1]**2 - V)*psi_int \n",
        "  Matrix_Alpha = np.column_stack((Matrix_Alpha_0, Matrix_Alpha_int))\n",
        "  inv_matrix_alpha = np.linalg.inv(Matrix_Alpha)\n",
        "  rhsal = 3/2*np.exp(-4*Chi)*Krr**2 + np.exp(4*Chi)*(Pi**2-V)\n",
        "  al0 = np.dot(rhsal, inv_matrix_alpha)\n",
        "  Alpha = 1 + np.dot(al0, psi)\n",
        "  rAlpha = np.dot(al0, rpsi)\n",
        "  rrAlpha = np.dot(al0, rrpsi)\n",
        "  Matrix_Beta = rSB2_int - SB2_int/r[1:N+1]\n",
        "  inv_matrix_beta = np.linalg.inv(Matrix_Beta)\n",
        "  rhsbe = 3/2*Alpha[1:N+1]*np.exp(-4*Chi[1:N+1])*Krr[1:N+1]\n",
        "  be0 = np.dot(rhsbe , inv_matrix_beta)\n",
        "  Beta = np.dot(be0, SB2)\n",
        "  rBeta = np.dot(be0, rSB2)\n",
        "  db_origin = 2*np.exp(-4*Chi[0])*Alpha[0]*np.dot(a0, coeforigin) + np.exp(-4*Chi[0])*Alpha[0]*rrPhi[0]\n",
        "  db_int = Beta[1:N+1]*rPi[1:N+1] + np.exp(-4*Chi[1:N+1])*(2*Alpha[1:N+1]/r[1:N+1] + rAlpha[1:N+1] + 2*rChi[1:N+1]*Alpha[1:N+1])*rPhi[1:N+1] + np.exp(-4*Chi[1:N+1])*Alpha[1:N+1]*rrPhi[1:N+1] - Alpha[1:N+1]* V\n",
        "  db = np.dot(np.hstack((db_origin, db_int)), inv_psi) \n",
        "  dc = np.dot(Beta*rChi + rBeta/2 - Alpha/2*np.exp(-4*Chi)*Krr, inv_psi)     \n",
        "  da = np.dot(Alpha*Pi + Beta*rPhi, inv_psi)   \n",
        "  K2 = h*(dc)\n",
        "  L2 = h*(da)\n",
        "  N2 = h*(db)\n",
        "\n",
        "  # Third step\n",
        "  Phi = np.dot(a0 + L2/2, psi)     \n",
        "  rPhi = np.dot(a0 + L2/2 , rpsi)\n",
        "  rrPhi = np.dot(a0 + L2/2, rrpsi) \n",
        "  Pi = np.dot(b0 + N2/2, psi)\n",
        "  rPi= np.dot(b0 + N2/2, rpsi)\n",
        "  Chi = np.dot(c0 + K2/2, psi)\n",
        "  rChi = np.dot(c0 + K2/2, rpsi)\n",
        "  rrChi = np.dot(c0 + K2/2, rrpsi)\n",
        "  Matrix_Krr = 2*rChi[1:N+1]*SB1_int + rSB1_int + 3/r[1:N+1]*SB1_int   # (p, p)\n",
        "  inv_matrix_krr = np.linalg.inv(Matrix_Krr)\n",
        "  rhsk = - Pi[1:N+1]*rPhi[1:N+1]*np.exp(4*Chi[1:N+1]) # (30,)\n",
        "  ck0 = np.dot(rhsk, inv_matrix_krr)  \n",
        "  Krr = np.dot(ck0, SB1)             # shapes (30,) and (31,31) not aligned: 30 (dim 0) != 31 (dim 0)         \n",
        "  rKrr = np.dot(ck0, rSB1)\n",
        "  Matrix_Alpha_0 = rrpsi_0 + 2*coeforigin - np.exp(4*Chi[0]) * Pi[0]**2*psi_0\n",
        "  Matrix_Alpha_int = rrpsi_int + 2*(1/r[1:N+1] + rChi[1:N+1])*rpsi_int - 3/2*np.exp(-4*Chi[1:N+1])*Krr[1:N+1]**2*psi_int - np.exp(4*Chi[1:N+1])*(Pi[1:N+1]**2 - V)*psi_int \n",
        "  Matrix_Alpha = np.column_stack((Matrix_Alpha_0, Matrix_Alpha_int))\n",
        "  inv_matrix_alpha = np.linalg.inv(Matrix_Alpha)\n",
        "  rhsal = 3/2*np.exp(-4*Chi)*Krr**2 + np.exp(4*Chi)*(Pi**2-V)\n",
        "  al0 = np.dot(rhsal, inv_matrix_alpha)\n",
        "  Alpha = 1 + np.dot(al0, psi)\n",
        "  rAlpha = np.dot(al0, rpsi)\n",
        "  rrAlpha = np.dot(al0, rrpsi)\n",
        "  Matrix_Beta = rSB2_int - SB2_int/r[1:N+1]\n",
        "  inv_matrix_beta = np.linalg.inv(Matrix_Beta)\n",
        "  rhsbe = 3/2*Alpha[1:N+1]*np.exp(-4*Chi[1:N+1])*Krr[1:N+1]\n",
        "  be0 = np.dot(rhsbe , inv_matrix_beta)\n",
        "  Beta = np.dot(be0, SB2)\n",
        "  rBeta = np.dot(be0, rSB2)\n",
        "  db_origin = 2*np.exp(-4*Chi[0])*Alpha[0]*np.dot(a0, coeforigin) + np.exp(-4*Chi[0])*Alpha[0]*rrPhi[0]\n",
        "  db_int = Beta[1:N+1]*rPi[1:N+1] + np.exp(-4*Chi[1:N+1])*(2*Alpha[1:N+1]/r[1:N+1] + rAlpha[1:N+1] + 2*rChi[1:N+1]*Alpha[1:N+1])*rPhi[1:N+1] + np.exp(-4*Chi[1:N+1])*Alpha[1:N+1]*rrPhi[1:N+1] - Alpha[1:N+1]* V\n",
        "  db = np.dot(np.hstack((db_origin, db_int)), inv_psi) \n",
        "  dc = np.dot(Beta*rChi + rBeta/2 - Alpha/2*np.exp(-4*Chi)*Krr, inv_psi)    \n",
        "  da = np.dot(Alpha*Pi + Beta*rPhi, inv_psi)   \n",
        "  K3 = h*(dc)\n",
        "  L3 = h*(da)\n",
        "  N3 = h*(db) \n",
        "\n",
        "  # Forth step\n",
        "  Phi = np.dot(a0 + L3, psi)     \n",
        "  rPhi= np.dot(a0 + L3 , rpsi)\n",
        "  rrPhi = np.dot(a0 + L3, rrpsi) \n",
        "  Pi = np.dot(b0 + N3, psi)\n",
        "  rPi= np.dot(b0 + N3, rpsi)\n",
        "  Chi = np.dot(c0 + K3, psi)\n",
        "  rChi = np.dot(c0 + K3, rpsi)\n",
        "  rrChi = np.dot(c0 + K3, rrpsi)\n",
        "  Matrix_Krr = 2*rChi[1:N+1]*SB1_int + rSB1_int + 3/r[1:N+1]*SB1_int  # (p, p)\n",
        "  inv_matrix_krr = np.linalg.inv(Matrix_Krr)\n",
        "  rhsk = - Pi[1:N+1]*rPhi[1:N+1]*np.exp(4*Chi[1:N+1]) # (30,)\n",
        "  ck0 = np.dot(rhsk, inv_matrix_krr)  \n",
        "  Krr = np.dot(ck0, SB1)             # shapes (30,) and (31,31) not aligned: 30 (dim 0) != 31 (dim 0)         \n",
        "  rKrr = np.dot(ck0, rSB1)\n",
        "  Matrix_Alpha_0 = rrpsi_0 + 2*coeforigin - np.exp(4*Chi[0]) * Pi[0]**2*psi_0\n",
        "  Matrix_Alpha_int = rrpsi_int + 2*(1/r[1:N+1] + rChi[1:N+1])*rpsi_int - 3/2*np.exp(-4*Chi[1:N+1])*Krr[1:N+1]**2*psi_int - np.exp(4*Chi[1:N+1])*(Pi[1:N+1]**2 - V)*psi_int \n",
        "  Matrix_Alpha = np.column_stack((Matrix_Alpha_0, Matrix_Alpha_int))\n",
        "  inv_matrix_alpha = np.linalg.inv(Matrix_Alpha)\n",
        "  rhsal = 3/2*np.exp(-4*Chi)*Krr**2 + np.exp(4*Chi)*(Pi**2-V)\n",
        "  al0 = np.dot(rhsal, inv_matrix_alpha)\n",
        "  Alpha = 1 + np.dot(al0, psi)\n",
        "  rAlpha = np.dot(al0, rpsi)\n",
        "  rrAlpha = np.dot(al0, rrpsi)\n",
        "  Matrix_Beta = rSB2_int - SB2_int/r[1:N+1]\n",
        "  inv_matrix_beta = np.linalg.inv(Matrix_Beta)\n",
        "  rhsbe = 3/2*Alpha[1:N+1]*np.exp(-4*Chi[1:N+1])*Krr[1:N+1]\n",
        "  be0 = np.dot(rhsbe , inv_matrix_beta)\n",
        "  Beta = np.dot(be0, SB2)\n",
        "  rBeta = np.dot(be0, rSB2)\n",
        "  db_origin = 2*np.exp(-4*Chi[0])*Alpha[0]*np.dot(a0, coeforigin) + np.exp(-4*Chi[0])*Alpha[0]*rrPhi[0]\n",
        "  db_int = Beta[1:N+1]*rPi[1:N+1] + np.exp(-4*Chi[1:N+1])*(2*Alpha[1:N+1]/r[1:N+1] + rAlpha[1:N+1] + 2*rChi[1:N+1]*Alpha[1:N+1])*rPhi[1:N+1] + np.exp(-4*Chi[1:N+1])*Alpha[1:N+1]*rrPhi[1:N+1] - Alpha[1:N+1]* V\n",
        "  db = np.dot(np.hstack((db_origin, db_int)), inv_psi)  \n",
        "  dc = np.dot(Beta*rChi + rBeta/2 - Alpha/2*np.exp(-4*Chi)*Krr, inv_psi)    \n",
        "  da = np.dot(Alpha*Pi + Beta*rPhi, inv_psi)   \n",
        "  K4 = h*(dc)\n",
        "  L4 = h*(da)\n",
        "  N4 = h*(db)  \n",
        "  \n",
        "  t = t + h\n",
        "  #print(t) \n",
        "#  if t > 9:\n",
        "#    h=0.0001\n",
        "\n",
        "    \n",
        "  # Evolution functions\n",
        "  a0 = a0 + 1/6 * (L1 + 2*L2 + 2*L3 + L4)\n",
        "  b0 = b0 + 1/6 * (N1 + 2*N2 + 2*N3 + N4)\n",
        "  c0 = c0 + 1/6 * (K1 + 2*K2 + 2*K3 + K4)  \n",
        "  phi_set.append(np.dot(a0, psiplot))\n",
        "\n",
        "#  pi_set[i,:] = np.dot(b0, psiplot)\n",
        "#  chi_set[i,:] = np.dot(c0, psiplot)\n",
        "  \n",
        "  \n",
        "t1 = np.linspace(0, tf, len(Alpha_origin)) "
      ],
      "metadata": {
        "id": "AR_S1qu7e5_i"
      },
      "execution_count": null,
      "outputs": []
    },
    {
      "cell_type": "code",
      "source": [
        "for i in range(It):\n",
        "  plt.plot(rplot, phi_set[i])"
      ],
      "metadata": {
        "id": "CgyOJHeYY_fJ",
        "outputId": "4943b5c2-a11e-4e55-9c5f-59be7588beb8",
        "colab": {
          "base_uri": "https://localhost:8080/",
          "height": 265
        }
      },
      "execution_count": null,
      "outputs": [
        {
          "output_type": "display_data",
          "data": {
            "text/plain": [
              "<Figure size 432x288 with 1 Axes>"
            ],
            "image/png": "[encoded data removed]"
          },
          "metadata": {
            "needs_background": "light"
          }
        }
      ]
    },
    {
      "cell_type": "code",
      "source": [
        "# Searching for critical amplitude:\n",
        "\n",
        "plt.plot(t1, Alpha_origin, color = \"g\", label = \"$A_0$ = {:}\".format(A0))\n",
        "plt.title(\"Alpha na origem para L0 = 2, N = {:}\".format(N))\n",
        "plt.ylabel(r\"$\\alpha(t,0)$\")\n",
        "plt.xlabel(\"t\")\n",
        "plt.legend()"
      ],
      "metadata": {
        "id": "wY3AMFffe8--",
        "colab": {
          "base_uri": "https://localhost:8080/",
          "height": 312
        },
        "outputId": "657fa891-2eb2-4186-c83c-012c68f9fd17"
      },
      "execution_count": null,
      "outputs": [
        {
          "output_type": "execute_result",
          "data": {
            "text/plain": [
              "<matplotlib.legend.Legend at 0x7f8249828c10>"
            ]
          },
          "metadata": {},
          "execution_count": 46
        },
        {
          "output_type": "display_data",
          "data": {
            "text/plain": [
              "<Figure size 432x288 with 1 Axes>"
            ],
            "image/png": "[encoded data removed]"
          },
          "metadata": {
            "needs_background": "light"
          }
        }
      ]
    },
    {
      "cell_type": "code",
      "source": [
        "plt.plot(t1, phi_origin, color = \"b\", label = \" = {:}\".format(A0))\n",
        "plt.title(\"Phi na origem para L0 = 2 e N = {:}\".format(N) )\n",
        "plt.ylabel(\"$\\phi$(t,0)\")\n",
        "plt.xlabel(\"t\")  \n",
        "#plt.xlim(7.2,8.2)\n",
        "plt.legend() "
      ],
      "metadata": {
        "id": "Gfp8WqZoe-hG",
        "colab": {
          "base_uri": "https://localhost:8080/",
          "height": 312
        },
        "outputId": "5e0ba1fa-93fb-41c1-ac87-a0cb18f96ae4"
      },
      "execution_count": null,
      "outputs": [
        {
          "output_type": "execute_result",
          "data": {
            "text/plain": [
              "<matplotlib.legend.Legend at 0x7f824c476700>"
            ]
          },
          "metadata": {},
          "execution_count": 47
        },
        {
          "output_type": "display_data",
          "data": {
            "text/plain": [
              "<Figure size 432x288 with 1 Axes>"
            ],
            "image/png": "[encoded data removed]"
          },
          "metadata": {
            "needs_background": "light"
          }
        }
      ]
    },
    {
      "cell_type": "code",
      "source": [
        "# Erro L2 of Hamiltonian constraint\n",
        "\n",
        "plt.plot(t1,L2HC)\n",
        "plt.yscale(\"log\")\n",
        "plt.ylabel(\"log(L2HC)\")\n",
        "plt.xlabel(\"t\")\n",
        "plt.title(\"log(L2HC) para $N = 600$, $L_0 = 2$ e A_0 = {:}\".format(A0))"
      ],
      "metadata": {
        "id": "fhOyxEJKfAFe"
      },
      "execution_count": null,
      "outputs": []
    }
  ]
}