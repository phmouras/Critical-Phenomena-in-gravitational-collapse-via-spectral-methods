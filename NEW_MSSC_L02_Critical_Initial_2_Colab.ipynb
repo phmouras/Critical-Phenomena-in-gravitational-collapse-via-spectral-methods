{
  "nbformat": 4,
  "nbformat_minor": 0,
  "metadata": {
    "colab": {
      "provenance": [],
      "authorship_tag": "ABX9TyPTqUETGfyBAh3mS/ZKgjC1",
      "include_colab_link": true
    },
    "kernelspec": {
      "name": "python3",
      "display_name": "Python 3"
    },
    "language_info": {
      "name": "python"
    }
  },
  "cells": [
    {
      "cell_type": "markdown",
      "metadata": {
        "id": "view-in-github",
        "colab_type": "text"
      },
      "source": [
        "<a href=\"https://colab.research.google.com/github/phmouras/Projeto_Pos/blob/main/NEW_MSSC_L02_Critical_Initial_2_Colab.ipynb\" target=\"_parent\"><img src=\"https://colab.research.google.com/assets/colab-badge.svg\" alt=\"Open In Colab\"/></a>"
      ]
    },
    {
      "cell_type": "code",
      "execution_count": 12,
      "metadata": {
        "id": "j7rIsvD9ekja"
      },
      "outputs": [],
      "source": [
        "import numpy as np\n",
        "import pandas as pd\n",
        "import matplotlib.pyplot as plt\n",
        "import math\n",
        "\n",
        "N = 30                                                   # Truncation ordem\n",
        "\n",
        "L0 = 2                                               # Map parameter \n",
        "\n",
        "col = np.cos(np.arange(2*N + 4)*math.pi /(2*N + 3))      # collocation points (Verificado)\n",
        "\n",
        "colr = col[1:N+1]\n",
        "\n",
        "r1 = L0 * colr/(np.sqrt(1-colr**2))                       # physical domain (Verificado)             \n",
        "\n",
        "\n",
        "r = np.hstack((0, np.flip(r1)))\n",
        "\n",
        "#out_r = open('r_30_L02.txt', 'a')\n",
        "#out_r.write(' ' +' '.join(str('%.18f'%n) for n in r)+'\\n')\n",
        "#out_r.close()\n",
        "\n",
        "\n",
        "# Base Matrix (Tchebyshev Polinomials): \n",
        "\n",
        "SB = np.zeros([N+2,N])\n",
        "rSB = np.zeros([N+2,N])\n",
        "rrSB = np.zeros([N+2,N])\n",
        "psi_origin = np.zeros([N+2])\n",
        "rpsi_origin = np.zeros([N+2])\n",
        "rrpsi_origin = np.zeros([N+2])\n",
        "\n",
        "for i in range(N+1+1):\n",
        "  psi_origin[i,] = np.sin((2*i+1)*math.pi/2)     # psi(r = 0)\n",
        "\n",
        "for i in range(N+1+1):\n",
        "  SB[i,] = np.sin((2*i+1)*np.arctan(L0/r[1:N+1]))                                                  \n",
        "\n",
        "for i in range(N+1+1):\n",
        "  rpsi_origin[i,] = -np.cos((2*i+1)*math.pi/2)*(2*i+1)/L0      # d psi(r = 0)/ dr\n",
        "\n",
        "for i in range(N+1+1):\n",
        "  rSB[i,] = -np.cos((2*i+1)*np.arctan(L0/r[1:N+1]))*(2*i+1)*L0/(r[1:N+1]**2*+L0**2)\n",
        "\n",
        "for i in range(N+1+1):\n",
        "  rrpsi_origin[i,] = -np.sin((2*i+1)*math.pi/2)*(2*i+1)**2/L0**2          # d^2 psi(r = 0)/ dr^2\n",
        "\n",
        "for i in range(N+1+1):\n",
        "  rrSB[i,] = -np.sin((2*i+1)*np.arctan(L0/r[1:N+1]))*(2*i+1)**2*L0**2/(r[1:N+1]**4*(1+L0**2/r[1:N+1]**2)**2)+2*np.cos((2*i+1)*np.arctan(L0/r[1:N+1]))*(2*i+1)*L0/(r[1:N+1]**3*(1+L0**2/r[1:N+1]**2))-2*np.cos((2*i+1)*np.arctan(L0/r[1:N+1]))*(2*i+1)*L0**3/(r[1:N+1]**5*(1+L0**2/r[1:N+1]**2)**2)                     \n",
        "\n",
        "# Base function\n",
        "\n",
        "psi_0 = psi_origin[0:N+1]   \n",
        "rpsi_0 = rpsi_origin[0:N+1]   \n",
        "rrpsi_0 = rpsi_origin[0:N+1]\n",
        "\n",
        "psi_int = SB[0:N+1,:]        \n",
        "rpsi_int = rSB[0:N+1,:]\n",
        "rrpsi_int = rrSB[0:N+1,:]\n",
        "\n",
        "psi = np.column_stack((psi_0, psi_int))\n",
        "rpsi = np.column_stack((rpsi_0, rpsi_int))\n",
        "rrpsi = np.column_stack((rrpsi_0, rrpsi_int))\n",
        "\n",
        "# Initial conditions of Phi (Scalar field)                                    \n",
        "\n",
        "r0 = 0\n",
        "\n",
        "\n",
        "A0 = 0.8  # 0.935155201739-> disperse ; 0.9351552017139; # 0.935155201714  -> colapse       \n",
        "\n",
        "sigma = 1\n",
        "\n",
        "\n",
        "Phi_init_int = A0*r[1:N+1]**2*(np.exp(-(r[1:N+1]-r0)**2/sigma**2)+np.exp(-(r[1:N+1]+r0)**2/sigma**2))          # Phi initial data out of origin (Verificado)\n",
        "\n",
        "Phi_init = np.hstack((0, Phi_init_int))\n",
        "\n",
        "inv_psi = np.linalg.inv(psi)\n",
        "  \n",
        "a0 = np.dot(Phi_init, inv_psi)  # coeficients a(0)  (Verificado)\n",
        "\n",
        "#out_a = open('a0_30_L02.txt', 'a')\n",
        "#out_a.write(' ' +' '.join(str('%.18f'%n) for n in a0)+'\\n')\n",
        "#out_a.close()\n",
        "\n",
        "\n",
        "Phi = np.dot(a0, psi)        # approximative solution in t = 0\n",
        "rPhi= np.dot(a0, rpsi)\n",
        "\n",
        "########################### Plot: Initial Conditions of Phi\n",
        "\n",
        "M = 3000       # plot truncation\n",
        "\n",
        "rplot = np.linspace(0.000001,15,M)\n",
        "\n",
        "colplot = rplot/np.sqrt(L0**2 + rplot**2)\n",
        "\n",
        "SBplot = np.zeros([N+1,M])\n",
        "rSBplot = np.zeros([N+1,M])\n",
        "rrSBplot = np.zeros([N+1,M])\n",
        "\n",
        "for i in range(N+1):\n",
        "  SBplot[i,] = np.sin((2*i+1)*np.arctan(L0/rplot))\n",
        "\n",
        "for i in range(N+1):\n",
        "  rSBplot[i,] = -np.cos((2*i+1)*np.arctan(L0/rplot))*(2*i+1)*L0/(rplot**2*(1+L0**2/rplot**2)) \n",
        "\n",
        "for i in range(N+1):\n",
        "  rrSBplot[i,] = -np.sin((2*i+1)*np.arctan(L0/rplot))*(2*i+1)**2*L0**2/(rplot**4*(1+L0**2/rplot**2)**2)+2*np.cos((2*i+1)*np.arctan(L0/rplot))*(2*i+1)*L0/(rplot**3*(1+L0**2/rplot**2))-2*np.cos((2*i+1)*np.arctan(L0/rplot))*(2*i+1)*L0**3/(rplot**5*(1+L0**2/rplot**2)**2)                     \n",
        "\n",
        "psiplot = SBplot[0:(N+1),:] \n",
        "rpsiplot = rSBplot[0:(N+1),:]\n",
        "rrpsiplot = rrSBplot[0:(N+1),:]\n",
        "\n",
        "Phiplot_int = A0*rplot**2*(np.exp(-(rplot-r0)**2/sigma**2)+np.exp(-(rplot+r0)**2/sigma**2))     \n",
        "\n",
        "#Phiplot_init = np.hstack((0, Phiplot_int))\n",
        "\n",
        "Phiplot = np.dot(a0, psiplot)\n",
        "\n"
      ]
    },
    {
      "cell_type": "code",
      "source": [
        "Phi"
      ],
      "metadata": {
        "id": "K5tFfQ1-Sits",
        "outputId": "2fdd1bcf-d1d0-45c0-c6e1-ded59c663ca3",
        "colab": {
          "base_uri": "https://localhost:8080/"
        }
      },
      "execution_count": 13,
      "outputs": [
        {
          "output_type": "execute_result",
          "data": {
            "text/plain": [
              "array([-1.83060584e-16,  3.51436832e-02,  9.43873697e-02,  1.75714080e-01,\n",
              "        2.70693785e-01,  3.69127192e-01,  4.59952258e-01,  5.32367596e-01,\n",
              "        5.77121312e-01,  5.87857931e-01,  5.62340561e-01,  5.03281737e-01,\n",
              "        4.18453949e-01,  3.19764382e-01,  2.21143141e-01,  1.35473455e-01,\n",
              "        7.13549578e-02,  3.09941484e-02,  1.04652322e-02,  2.52169225e-03,\n",
              "        3.81938760e-04,  2.99405961e-05,  8.91751550e-07,  6.02798004e-09,\n",
              "        3.72167827e-12,  1.88455846e-16,  1.58833400e-16,  4.35208498e-17,\n",
              "        1.06543777e-16,  8.65308483e-17, -5.90334179e-18])"
            ]
          },
          "metadata": {},
          "execution_count": 13
        }
      ]
    },
    {
      "cell_type": "code",
      "source": [
        "Pi_0 = np.zeros(N+1)\n",
        "b0 = np.dot(Pi_0, psi)\n",
        "Pi = np.dot(b0, psi)\n",
        "\n",
        "c0 = np.zeros([N+1])     # guess value\n",
        "for i in range(N+1):\n",
        "  c0[i]  =   0.001\n",
        "  \n",
        "Chi=np.dot(c0,psi)   \n",
        "rChi=np.dot(c0,rpsi)\n",
        "rrChi=np.dot(c0,rrpsi)    \n",
        "\n",
        "coeforigin = 1/L0**2*(-(-1)**(np.arange(N+1))*(2*np.arange(1,N+2)-1)**2)    # 1/r * d\\phi/dr\n",
        "\n",
        "H0_0 = 4*rrChi[0] + 8*np.dot(coeforigin,c0) + 1/2*(rPhi[0])**2\n",
        "\n",
        "H0_int = 4*rChi[1:N+1]**2 + 4*rrChi[1:N+1] + 8/r[1:N+1]*rChi[1:N+1] + 1/2*(rPhi[1:N+1])**2\n",
        "\n",
        "H0 = np.hstack((H0_0, H0_int))\n",
        "\n",
        "JH_0 = 8*rChi[0]*rpsi_0 + 4*rrpsi_0 + 8*coeforigin\n",
        "\n",
        "JH_int = 8*rChi[1:N+1]*rpsi_int + 4*rrpsi_int + 8/r[1:N+1]*rpsi_int  \n",
        "\n",
        "JH = np.column_stack((JH_0, JH_int))\n",
        "\n",
        "inv_JH = np.linalg.inv(JH)\n",
        "\n",
        "N_int = 8\n",
        "\n",
        "tol = 1e-30    # tolerance\n",
        "\n",
        "cnew = c0\n",
        "\n",
        "# Newton Raphson loop\n",
        "if min(abs(cnew-c0)) < tol:\n",
        "  Chi=np.dot(c0,psi)\n",
        "  rChi=np.dot(c0,rpsi)\n",
        "  rrChi=np.dot(c0,rrpsi)\n",
        "  H0_0 = 4*rrChi[0] + 8*np.dot(coeforigin,c0) + 1/2*(rPhi[0])**2\n",
        "  H0_int = 4*rChi[1:N+1]**2 + 4*rrChi[1:N+1] + 8/r[1:N+1]*rChi[1:N+1] + 1/2*(rPhi[1:N+1])**2\n",
        "  H0 = np.hstack((H0_0, H0_int))\n",
        "  JH_0 = 8*rChi[0]*rpsi_0 + 4*rrpsi_0 + 8*coeforigin\n",
        "  JH_int = rChi[1:N+1]*rpsi_int + 4*rrpsi_int + 8/r[1:N+1]*rpsi_int  \n",
        "  JH = np.column_stack((JH_0, JH_int))\n",
        "  cnew = c0 - np.dot(H0, inv_JH)\n",
        "  c0 = cnew\n",
        "\n",
        "#out_c = open('c0_30_L02.txt', 'a')\n",
        "#out_c.write(' ' +' '.join(str('%.18f'%n) for n in c0)+'\\n')\n",
        "#out_c.close()"
      ],
      "metadata": {
        "id": "snu3BXBgAOek"
      },
      "execution_count": 6,
      "outputs": []
    },
    {
      "cell_type": "code",
      "source": [
        "c0"
      ],
      "metadata": {
        "colab": {
          "base_uri": "https://localhost:8080/"
        },
        "id": "3Rfl8QkT1ocS",
        "outputId": "befe2968-b437-4cfe-bcc8-a2403c053e8f"
      },
      "execution_count": 7,
      "outputs": [
        {
          "output_type": "execute_result",
          "data": {
            "text/plain": [
              "array([8.46079316e-01, 2.07784185e-01, 1.43332508e-01, 7.53318682e-02,\n",
              "       6.81839753e-02, 4.42002863e-02, 3.88358864e-02, 3.02712646e-02,\n",
              "       2.53656008e-02, 2.12782228e-02, 1.79709195e-02, 1.54967279e-02,\n",
              "       1.31620697e-02, 1.15527438e-02, 9.82730443e-03, 8.72535614e-03,\n",
              "       7.38924238e-03, 6.62013768e-03, 5.54335540e-03, 5.00204434e-03,\n",
              "       4.11045649e-03, 3.72224693e-03, 2.97968295e-03, 2.68380741e-03,\n",
              "       2.07598377e-03, 1.82493002e-03, 1.34237851e-03, 1.10848015e-03,\n",
              "       7.33990654e-04, 5.08772926e-04, 2.21648302e-04])"
            ]
          },
          "metadata": {},
          "execution_count": 7
        }
      ]
    },
    {
      "cell_type": "code",
      "source": [
        "psi[0,:]"
      ],
      "metadata": {
        "id": "opRrxKHaTP_G",
        "outputId": "3fe385e6-5e05-4da6-f59f-6c84550a0c19",
        "colab": {
          "base_uri": "https://localhost:8080/"
        }
      },
      "execution_count": 8,
      "outputs": [
        {
          "output_type": "execute_result",
          "data": {
            "text/plain": [
              "array([1.        , 0.9972038 , 0.99223921, 0.98480775, 0.97492791,\n",
              "       0.96262425, 0.94792735, 0.93087375, 0.91150585, 0.88987181,\n",
              "       0.8660254 , 0.84002592, 0.81193801, 0.78183148, 0.7497812 ,\n",
              "       0.71586685, 0.68017274, 0.64278761, 0.60380441, 0.56332006,\n",
              "       0.5214352 , 0.47825398, 0.43388374, 0.3884348 , 0.34202014,\n",
              "       0.29475517, 0.2467574 , 0.19814614, 0.14904227, 0.09956785,\n",
              "       0.04984589])"
            ]
          },
          "metadata": {},
          "execution_count": 8
        }
      ]
    },
    {
      "cell_type": "code",
      "source": [
        "# Equation for Krr: momentum constraint\n",
        "\n",
        "\n",
        "\n",
        "\n",
        "\n",
        "# Initial values of Krr: Base functions of Krr\n",
        "\n",
        "# In r = 0: \n",
        "\n",
        "Krr = np.zeros(N+1)\n",
        "\n",
        "SB3 = np.zeros([N+2,N])\n",
        "rSB3 = np.zeros([N+2,N])\n",
        "rrSB3 = np.zeros([N+2,N])\n",
        "\n",
        "for i in range(N+1+1):\n",
        "  SB3[i,] = np.sin((2*i+1)*np.arctan(L0/r[1:N+1]))                                                  \n",
        "\n",
        "\n",
        "for i in range(N+1+1):\n",
        "  rSB3[i,] = -np.cos((2*i+1)*np.arctan(L0/r[1:N+1]))*(2*i+1)*L0/(r[1:N+1]**2*+L0**2)\n",
        "\n",
        "\n",
        "for i in range(N+1+1):\n",
        "  rrSB3[i,] = -np.sin((2*i+1)*np.arctan(L0/r[1:N+1]))*(2*i+1)**2*L0**2/(r[1:N+1]**4*(1+L0**2/r[1:N+1]**2)**2)+2*np.cos((2*i+1)*np.arctan(L0/r[1:N+1]))*(2*i+1)*L0/(r[1:N+1]**3*(1+L0**2/r[1:N+1]**2))-2*np.cos((2*i+1)*np.arctan(L0/r[1:N+1]))*(2*i+1)*L0**3/(r[1:N+1]**5*(1+L0**2/r[1:N+1]**2)**2)                     \n",
        "\n",
        "\n",
        "psiK = np.column_stack((psi_origin, SB3))\n",
        "rpsiK = np.column_stack((rpsi_origin, rSB3))\n",
        "rrpsiK = np.column_stack((rrpsi_origin, rrSB3))\n",
        "\n",
        "\n",
        "SB1 = 1/2*(psiK[1:(N+2),:] + psiK[0:(N+1),:])          # VERIFICADO\n",
        "rSB1 = 1/2*(rpsiK[1:(N+2),:] + rpsiK[0:(N+1),:])\n",
        "rrSB1 = 1/2*(rrpsiK[1:(N+2),:] + rrpsiK[0:(N+1),:])\n",
        "\n",
        "# Base functions for Beta\n",
        "\n",
        "SB2 = np.zeros([N+1,N])      \n",
        "rSB2 = np.zeros([N+1,N])\n",
        "rrSB2 = np.zeros([N+1,N])\n",
        "\n",
        "for i in range(N+1):                                                   # VERIFICADO\n",
        "  SB2[i,] = np.sin((2*(i+1/2)+1)*np.arctan(L0/r[1:N+1]))                                                  \n",
        "\n",
        "for i in range(N+1):\n",
        "  rSB2[i,] = -np.cos((2*i+2)*np.arctan(L0/r[1:N+1]))*(2*i+2)*L0/(r[1:N+1]**2*(1+L0**2/r[1:N+1]**2))\n",
        "\n",
        "for i in range(N+1):\n",
        "  rrSB2[i,] = -np.sin((2*i+2)*np.arctan(L0/r[1:N+1]))*(2*i+2)**2*L0**2/(r[1:N+1]**4*(1+L0**2/r[1:N+1]**2)**2)+2*np.cos((2*i+2)*np.arctan(L0/r[1:N+1]))*(2*i+2)*L0/(r[1:N+1]**3*(1+L0**2/r[1:N+1]**2))-2*np.cos((2*i+2)*np.arctan(L0/r[1:N+1]))*(2*i+2)*L0**3/(r[1:N+1]**5*(1+L0**2/r[1:N+1]**2)**2)\n",
        "\n",
        "\n",
        "SB2 = np.column_stack((np.zeros(N+1), SB2))\n",
        "rSB2 = np.column_stack((np.zeros(N+1), rSB2))\n",
        "rrSB2 = np.column_stack((np.zeros(N+1), rrSB2))\n",
        "\n",
        "\n",
        "Beta = np.zeros(N+1)\n",
        "\n",
        "\n",
        "\n"
      ],
      "metadata": {
        "id": "gY4tUs-TezEo"
      },
      "execution_count": 9,
      "outputs": []
    },
    {
      "cell_type": "code",
      "source": [
        "Nq = int(3/2*N)           # Quadrature truncation\n",
        "\n",
        "gauss_quadrature = np.polynomial.legendre.leggauss(Nq + 1) \n",
        "\n",
        "new_col = gauss_quadrature[0]            # Legendre quadrature points\n",
        "\n",
        "\n",
        "# Legendre Polinomials\n",
        "\n",
        "P = np.zeros([Nq+3,Nq+1])\n",
        "colP = np.zeros([Nq+3,Nq+1])\n",
        "\n",
        "P[0,] = 1\n",
        "P[1,] = new_col\n",
        "\n",
        "colP[0,] = 0\n",
        "colP[1,] = 1\n",
        "\n",
        "for i in range(2,Nq+3):\n",
        "  P[i,] = ((2*i-1)*new_col*P[i-1,] - (i-1)*P[i-2,])/(i)   \n",
        "\n",
        "for i in range(2,Nq+3):\n",
        "  colP[i,] = i*P[i-1] + new_col*colP[i-1]\n",
        "\n",
        "P_max = P[Nq+1]\n",
        "\n",
        "colP_max = colP[Nq+1]\n",
        "\n",
        "wq_col = 2/((1-new_col**2)*colP_max**2)    # Legendre weight (Verificado)\n",
        "\n",
        "rq = L0*(1+new_col)/(1-new_col)            # Physical quadrature domain\n",
        "\n",
        "qSB = np.zeros([Nq+3,Nq+1])                # Base function in quadrature points\n",
        "qrSB = np.zeros([Nq+3,Nq+1])\n",
        "qrrSB = np.zeros([Nq+3,Nq+1])\n",
        "\n",
        "\n",
        "\n",
        "\n",
        "for i in range(Nq+1+1+1):\n",
        "  qSB[i,] = np.sin((2*i+1)*np.arctan(L0/rq))                                                  \n",
        "\n",
        "for i in range(Nq+1+1+1):\n",
        "  qrSB[i,] = -np.cos((2*i+1)*np.arctan(L0/rq))*(2*i+1)*L0/(rq**2*(1+L0**2/rq**2))\n",
        "\n",
        "for i in range(Nq+1+1+1):\n",
        "  qrrSB[i,] = -np.sin((2*i+1)*np.arctan(L0/rq))*(2*i+1)**2*L0**2/(rq**4*(1+L0**2/rq**2)**2)+2*np.cos((2*i+1)*np.arctan(L0/rq))*(2*i+1)*L0/(rq**3*(1+L0**2/rq**2))-2*np.cos((2*i+1)*np.arctan(L0/rq))*(2*i+1)*L0**3/(rq**5*(1+L0**2/rq**2)**2)                                         \n",
        "\n",
        "\n",
        "qpsi = qSB[0:N+1,:]\n",
        "rqpsi = qrSB[0:N+1,:]\n",
        "rrqpsi = qrrSB[0:N+1,:]\n",
        "\n",
        "\n",
        "# Initial Phi in quadrature points\n",
        "\n",
        "#qPhi = np.dot(a0, qpsi)      \n",
        "#rqPhi= np.dot(a0, rqpsi)\n",
        "\n",
        "# Initial Pi for quadrature points\n",
        "\n",
        "#qPi = np.dot(b0, qpsi) \n",
        "\n",
        "\n",
        "# Initial Chi for quadrature points:\n",
        "\n",
        "#qChi = np.dot(c0, qpsi)   # Verificado todos\n",
        "#rqChi = np.dot(c0, rqpsi)\n",
        "#rrqChi = np.dot(c0, rrqpsi)\n",
        "\n",
        "# Initial values of Krr:\n",
        "\n",
        "\n",
        "qSB1 = 1/2*(qSB[1:(N+2),:] + qSB[0:(N+1),:])          # VERIFICADO\n",
        "qrSB1 = 1/2*(qrSB[1:(N+2),:] + qrSB[0:(N+1),:])\n",
        "qrrSB1 = 1/2*(qrrSB[1:(N+2),:] + qrrSB[0:(N+1),:])\n",
        "\n",
        "\n",
        "#qKrr = np.dot(ck0, qSB1) \n",
        "\n",
        "# Alpha na origem\n",
        "\n",
        "Alphacenter = (-1)**(np.arange(N+1))\n"
      ],
      "metadata": {
        "id": "HjxtRx4se2W-"
      },
      "execution_count": 11,
      "outputs": []
    },
    {
      "cell_type": "code",
      "source": [
        "Alphacenter"
      ],
      "metadata": {
        "colab": {
          "base_uri": "https://localhost:8080/"
        },
        "id": "_5ZVywqWudUA",
        "outputId": "ffbab8b2-3d1e-42dd-cace-9d49f6886679"
      },
      "execution_count": null,
      "outputs": [
        {
          "output_type": "execute_result",
          "data": {
            "text/plain": [
              "array([ 1, -1,  1, -1,  1, -1,  1, -1,  1, -1,  1, -1,  1, -1,  1, -1,  1,\n",
              "       -1,  1, -1,  1, -1,  1, -1,  1, -1,  1, -1,  1, -1,  1])"
            ]
          },
          "metadata": {},
          "execution_count": 68
        }
      ]
    },
    {
      "cell_type": "code",
      "source": [
        "np.shape(2*rChi[1:N+1]*psi_int + rpsi_int + 3/r[1:N+1]*psi_int)"
      ],
      "metadata": {
        "id": "6nGCV834nmvx",
        "outputId": "979e4783-fe7c-422e-d3b8-9b412fa269eb",
        "colab": {
          "base_uri": "https://localhost:8080/"
        }
      },
      "execution_count": 16,
      "outputs": [
        {
          "output_type": "execute_result",
          "data": {
            "text/plain": [
              "(31, 30)"
            ]
          },
          "metadata": {},
          "execution_count": 16
        }
      ]
    },
    {
      "cell_type": "code",
      "source": [
        "np.shape(ck0)"
      ],
      "metadata": {
        "id": "5q2zr0iZ_8Q6",
        "outputId": "b934c2f9-a580-47c0-cde9-f4680bb0085b",
        "colab": {
          "base_uri": "https://localhost:8080/"
        }
      },
      "execution_count": 27,
      "outputs": [
        {
          "output_type": "execute_result",
          "data": {
            "text/plain": [
              "(30,)"
            ]
          },
          "metadata": {},
          "execution_count": 27
        }
      ]
    },
    {
      "cell_type": "code",
      "source": [
        "# Runge Kutta 4th order\n",
        "\n",
        "h = 0.001   # step size\n",
        "tf = 4\n",
        "\n",
        "It = int(tf/h)\n",
        "\n",
        "#t1 = np.linspace(0, tf, It) \n",
        "\n",
        "t = 0\n",
        "\n",
        "\n",
        "Alpha_origin = []\n",
        "phi_origin = []\n",
        "L2HC = []\n",
        "phi_set = []\n",
        "\n",
        "\n",
        "V = 0\n",
        "\n",
        "\n",
        "#matriz = np.concatenate((array1, array2))\n",
        "\n",
        "while t <= tf:\n",
        " \n",
        "  # First step\n",
        "  Phi = np.dot(a0, psi)      \n",
        "  rPhi = np.dot(a0, rpsi)\n",
        "  rrPhi = np.dot(a0, rrpsi)      \n",
        "  Pi = np.dot(b0, psi) \n",
        "  rPi= np.dot(b0, rpsi)\n",
        "  Chi = np.dot(c0, psi) \n",
        "  rChi = np.dot(c0, rpsi)\n",
        "  rrChi = np.dot(c0, rrpsi)   \n",
        "  Matrix_Krr = 2*rChi[1:N+1]*psi_int[1:N+1,:] + rpsi_int[1:N+1] + 3/r[1:N+1]*psi_int[1:N+1,:]\n",
        "  inv_matrix_krr = np.linalg.inv(Matrix_Krr)\n",
        "  rhsk = - Pi[1:N+1]*rPhi[1:N+1]*np.exp(4*Chi[1:N+1])\n",
        "  ck0 = np.dot(rhsk, inv_matrix_krr)\n",
        "  Krr = np.dot(ck0, SB1) \n",
        "  rKrr = np.dot(ck0, rSB1)\n",
        "  Matrix_Alpha_0 = rrpsi[0] + 2*coeforigin - np.exp(4*Chi[0]) * Pi[0]**2*psi_0\n",
        "  Matrix_Alpha_int = rrpsi[1:N+1,:] + 2*(1/r[1:N+1] + rChi[1:N+1])*rpsi[1:N+1,:] - 3/2*np.exp(-4*Chi[1:N+1])*Krr[1:N+1]**2*psi[1:N+1,:] - np.exp(4*Chi[1:N+1])*(Pi[1:N+1]**2 - V)*psi[1:N+1,:] \n",
        "  Matrix_Alpha = np.concatenate(Matrix_Alpha_0, Matrix_Alpha_int)\n",
        "  inv_matrix_alpha = np.linalg.inv(Matrix_Alpha)\n",
        "  rhsal = 3/2*np.exp(-4*Chi)*Krr**2 + np.exp(4*Chi)*(Pi**2-V)\n",
        "  al0 = np.dot(rhsal, inv_matrix_alpha)\n",
        "  Alphac = 1 + np.dot(al0,Alphacenter)\n",
        "  Alpha = 1 + np.dot(al0, psi)\n",
        "  rAlpha = np.dot(al0, rpsi)\n",
        "  rrAlpha = np.dot(al0, rrpsi)\n",
        "  Matrix_Beta = rSB2[1:N+1,:] - SB2[1:N+1,:]/r[1:N+1]\n",
        "  inv_matrix_beta = np.linalg.inv(Matrix_Beta)\n",
        "  rhsbe = 3/2*Alpha[1:N+1]*np.exp(-4*Chi[1:N+1])*Krr[1:N+1]\n",
        "  be0 = np.dot(rhsbe , inv_matrix_beta)\n",
        "  Beta = np.dot(be0, SB2)\n",
        "  rBeta = np.dot(be0, rSB2)\n",
        "  db_origin = 2*np.exp(-4*Chi[0])*Alpha[0]*coeforigin*a0 + np.exp(-4*Chi[0])*Alpha[0]*rrPhi[0]\n",
        "  db_int = Beta[1:N+1]*rPi[1:N+1] + np.exp(-4*Chi[1:N+1])*(2*Alpha[1:N+1]/r[1:N+1] + rAlpha[1:N+1] + 2*rChi[1:N+1]*Alpha[1:N+1])*rPhi[1:N+1] + np.exp(-4*Chi[1:N+1])*Alpha[1:N+1]*rrPhi[1:N+1] - Alpha[1:N+1]* V\n",
        "  db = np.dot(np.concatenate(db_origin, db_int), inv_psi)\n",
        "  dc = np.dot(Beta*rChi + Beta/2/r + Alpha/4*np.exp(-4*Chi)*Krr, inv_psi)   \n",
        "  da = np.dot(Alpha*Pi + Beta*rPhi, inv_psi)   \n",
        "  K1 = h*(dc)\n",
        "  L1 = h*(da)\n",
        "  N1 = h*(db)\n",
        "  \n",
        "  # L2-error associated to the Hamiltonian constraint\n",
        "  qPhi = np.dot(a0, qpsi)      \n",
        "  rqPhi= np.dot(a0, rqpsi)\n",
        "  qPi = np.dot(b0, qpsi) \n",
        "  qChi = np.dot(c0, qpsi)\n",
        "  rqChi = np.dot(c0, rqpsi)\n",
        "  rrqChi = np.dot(c0, rrqpsi) \n",
        "  qKrr = np.dot(ck0, qSB1)\n",
        "  H = 4*rqChi**2 + 4*rrqChi + 8*rqChi/rq + 3/4*np.exp(-4*qChi)*qKrr**2 + np.exp(4*qChi)*(1/2*qPi**2 + np.exp(-4*qChi)/2*rqPhi**2)   # Hamiltonian constraint (HC)\n",
        "  L2HC.append((1/2*np.dot(H**2,wq_col))**1/2)    # L2 error of HC \n",
        "  \n",
        "  # Alpha origin\n",
        "  Alpha_origin.append(1 + np.dot(al0, psi_0))\n",
        "#  print(Alpha_origin)\n",
        "  \n",
        "  # Phi origin:  \n",
        "  phi_origin.append(np.dot(a0, psi_0))\n",
        "#  print(phi_origin)\n",
        "    \n",
        "  # Second step\n",
        "  Phi = np.dot(a0 + L1/2, psi)     \n",
        "  rPhi= np.dot(a0 + L1/2 , rpsi)\n",
        "  rrPhi = np.dot(a0 + L1/2, rrpsi) \n",
        "  Pi = np.dot(b0 + N1/2, psi)\n",
        "  rPi= np.dot(b0 + N1/2, rpsi)\n",
        "  Chi = np.dot(c0 + K1/2, psi)\n",
        "  rChi = np.dot(c0 + K1/2, rpsi)\n",
        "  rrChi = np.dot(c0 + K1/2, rrpsi)\n",
        "  Matrix_Krr = 2*rChi*SB1 + rSB1 + 3/r*SB1 \n",
        "  inv_matrix_krr = np.linalg.inv(Matrix_Krr)\n",
        "  rhsk = - Pi*rPhi*np.exp(4*Chi)\n",
        "  ck0 = np.dot(rhsk, inv_matrix_krr)\n",
        "  Krr = np.dot(ck0, SB1) \n",
        "  rKrr = np.dot(ck0, rSB1)\n",
        "  Matrix_Alpha = rrpsi + 2*(1/r + rChi)*rpsi - 3/2*np.exp(-4*Chi)*Krr**2*psi - np.exp(4*Chi)*(Pi**2 - V)*psi \n",
        "  inv_matrix_alpha = np.linalg.inv(Matrix_Alpha)\n",
        "  rhsal = 3/2*np.exp(-4*Chi)*Krr**2 + np.exp(4*Chi)*(Pi**2-V)\n",
        "  al0 = np.dot(rhsal, inv_matrix_alpha)\n",
        "  Alpha = 1 + np.dot(al0, psi)\n",
        "  rAlpha = np.dot(al0, rpsi)\n",
        "  rrAlpha = np.dot(al0, rrpsi)\n",
        "  Matrix_Beta = rSB2/r - SB2/r**2\n",
        "  inv_matrix_beta = np.linalg.inv(Matrix_Beta)\n",
        "  rhsbe = 3/2*Alpha*np.exp(-4*Chi)*Krr/r\n",
        "  be0 = np.dot(rhsbe , inv_matrix_beta)\n",
        "  Beta = np.dot(be0, SB2)\n",
        "  rBeta = np.dot(be0, rSB2)\n",
        "  db = np.dot(Beta*rPi + np.exp(-4*Chi)*(2*Alpha/r + rAlpha + 2*rChi*Alpha)*rPhi + np.exp(-4*Chi)*Alpha*rrPhi - Alpha* V, inv_psi)   \n",
        "  dc = np.dot(Beta*rChi + Beta/2/r + Alpha/4*np.exp(-4*Chi)*Krr, inv_psi)    \n",
        "  da = np.dot(Alpha*Pi + Beta*rPhi, inv_psi)   \n",
        "  K2 = h*(dc)\n",
        "  L2 = h*(da)\n",
        "  N2 = h*(db)\n",
        "\n",
        "  # Third step\n",
        "  Phi = np.dot(a0 + L2/2, psi)     \n",
        "  rPhi = np.dot(a0 + L2/2 , rpsi)\n",
        "  rrPhi = np.dot(a0 + L2/2, rrpsi) \n",
        "  Pi = np.dot(b0 + N2/2, psi)\n",
        "  rPi= np.dot(b0 + N2/2, rpsi)\n",
        "  Chi = np.dot(c0 + K2/2, psi)\n",
        "  rChi = np.dot(c0 + K2/2, rpsi)\n",
        "  rrChi = np.dot(c0 + K2/2, rrpsi)\n",
        "  Matrix_Krr = 2*rChi*SB1 + rSB1 + 3/r*SB1\n",
        "  inv_matrix_krr = np.linalg.inv(Matrix_Krr)\n",
        "  rhsk = - Pi*rPhi*np.exp(4*Chi)\n",
        "  ck0 = np.dot(rhsk, inv_matrix_krr)\n",
        "  Krr = np.dot(ck0, SB1) \n",
        "  rKrr = np.dot(ck0, rSB1)\n",
        "  Matrix_Alpha = rrpsi + 2*(1/r + rChi)*rpsi - 3/2*np.exp(-4*Chi)*Krr**2*psi - np.exp(4*Chi)*(Pi**2 - V)*psi \n",
        "  inv_matrix_alpha = np.linalg.inv(Matrix_Alpha)\n",
        "  rhsal = 3/2*np.exp(-4*Chi)*Krr**2 + np.exp(4*Chi)*(Pi**2-V)\n",
        "  al0 = np.dot(rhsal, inv_matrix_alpha)\n",
        "  Alpha = 1 + np.dot(al0, psi)\n",
        "  rAlpha = np.dot(al0, rpsi)\n",
        "  rrAlpha = np.dot(al0, rrpsi)\n",
        "  Matrix_Beta = rSB2/r - SB2/r**2\n",
        "  inv_matrix_beta = np.linalg.inv(Matrix_Beta)\n",
        "  rhsbe = 3/2*Alpha*np.exp(-4*Chi)*Krr/r\n",
        "  be0 = np.dot(rhsbe , inv_matrix_beta)\n",
        "  Beta = np.dot(be0, SB2)\n",
        "  rBeta = np.dot(be0, rSB2)\n",
        "  db = np.dot(Beta*rPi + np.exp(-4*Chi)*(2*Alpha/r + rAlpha + 2*rChi*Alpha)*rPhi + np.exp(-4*Chi)*Alpha*rrPhi - Alpha* V, inv_psi)   \n",
        "  dc = np.dot(Beta*rChi + Beta/2/r + Alpha/4*np.exp(-4*Chi)*Krr, inv_psi)    \n",
        "  da = np.dot(Alpha*Pi + Beta*rPhi, inv_psi)   \n",
        "  K3 = h*(dc)\n",
        "  L3 = h*(da)\n",
        "  N3 = h*(db) \n",
        "\n",
        "  # Forth step\n",
        "  Phi = np.dot(a0 + L3, psi)     \n",
        "  rPhi= np.dot(a0 + L3 , rpsi)\n",
        "  rrPhi = np.dot(a0 + L3, rrpsi) \n",
        "  Pi = np.dot(b0 + N3, psi)\n",
        "  rPi= np.dot(b0 + N3, rpsi)\n",
        "  Chi = np.dot(c0 + K3, psi)\n",
        "  rChi = np.dot(c0 + K3, rpsi)\n",
        "  rrChi = np.dot(c0 + K3, rrpsi)\n",
        "  Matrix_Krr = 2*rChi*SB1 + rSB1 + 3/r*SB1 \n",
        "  inv_matrix_krr = np.linalg.inv(Matrix_Krr)\n",
        "  rhsk = - Pi*rPhi*np.exp(4*Chi)\n",
        "  ck0 = np.dot(rhsk, inv_matrix_krr)\n",
        "  Krr = np.dot(ck0, SB1) \n",
        "  rKrr = np.dot(ck0, rSB1)\n",
        "  Matrix_Alpha = rrpsi + 2*(1/r + rChi)*rpsi - 3/2*np.exp(-4*Chi)*Krr**2*psi - np.exp(4*Chi)*(Pi**2 - V)*psi \n",
        "  inv_matrix_alpha = np.linalg.inv(Matrix_Alpha)\n",
        "  rhsal = 3/2*np.exp(-4*Chi)*Krr**2 + np.exp(4*Chi)*(Pi**2-V)\n",
        "  al0 = np.dot(rhsal, inv_matrix_alpha)\n",
        "  Alpha = 1 + np.dot(al0, psi)\n",
        "  rAlpha = np.dot(al0, rpsi)\n",
        "  rrAlpha = np.dot(al0, rrpsi)\n",
        "  Matrix_Beta = rSB2/r - SB2/r**2\n",
        "  inv_matrix_beta = np.linalg.inv(Matrix_Beta)\n",
        "  rhsbe = 3/2*Alpha*np.exp(-4*Chi)*Krr/r\n",
        "  be0 = np.dot(rhsbe , inv_matrix_beta)\n",
        "  Beta = np.dot(be0, SB2)\n",
        "  rBeta = np.dot(be0, rSB2)\n",
        "  db = np.dot(Beta*rPi + np.exp(-4*Chi)*(2*Alpha/r + rAlpha + 2*rChi*Alpha)*rPhi + np.exp(-4*Chi)*Alpha*rrPhi - Alpha* V, inv_psi)   \n",
        "  dc = np.dot(Beta*rChi + Beta/2/r + Alpha/4*np.exp(-4*Chi)*Krr, inv_psi)    \n",
        "  da = np.dot(Alpha*Pi + Beta*rPhi, inv_psi)   \n",
        "  K4 = h*(dc)\n",
        "  L4 = h*(da)\n",
        "  N4 = h*(db)  \n",
        "  \n",
        "  t = t + h\n",
        "  print(t)\n",
        "    \n",
        "#  if t > 9:\n",
        "#    h=0.0001\n",
        "\n",
        "    \n",
        "  # Evolution functions\n",
        "  a0 = a0 + 1/6 * (L1 + 2*L2 + 2*L3 + L4)\n",
        "  b0 = b0 + 1/6 * (N1 + 2*N2 + 2*N3 + N4)\n",
        "  c0 = c0 + 1/6 * (K1 + 2*K2 + 2*K3 + K4)  \n",
        "  phi_set.append(np.dot(a0, psiplot))\n",
        "\n",
        "#  pi_set[i,:] = np.dot(b0, psiplot)\n",
        "#  chi_set[i,:] = np.dot(c0, psiplot)\n",
        "  \n",
        "  \n",
        "t1 = np.linspace(0, tf, len(Alpha_origin)) "
      ],
      "metadata": {
        "id": "AR_S1qu7e5_i",
        "colab": {
          "base_uri": "https://localhost:8080/",
          "height": 270
        },
        "outputId": "c7607710-3c53-46c9-fe89-28222a9c7771"
      },
      "execution_count": 25,
      "outputs": [
        {
          "output_type": "error",
          "ename": "ValueError",
          "evalue": "ignored",
          "traceback": [
            "\u001b[0;31m---------------------------------------------------------------------------\u001b[0m",
            "\u001b[0;31mValueError\u001b[0m                                Traceback (most recent call last)",
            "\u001b[0;32m<ipython-input-25-309c52d258f4>\u001b[0m in \u001b[0;36m<module>\u001b[0;34m\u001b[0m\n\u001b[1;32m     37\u001b[0m   \u001b[0mrhsk\u001b[0m \u001b[0;34m=\u001b[0m \u001b[0;34m-\u001b[0m \u001b[0mPi\u001b[0m\u001b[0;34m[\u001b[0m\u001b[0;36m1\u001b[0m\u001b[0;34m:\u001b[0m\u001b[0mN\u001b[0m\u001b[0;34m+\u001b[0m\u001b[0;36m1\u001b[0m\u001b[0;34m]\u001b[0m\u001b[0;34m*\u001b[0m\u001b[0mrPhi\u001b[0m\u001b[0;34m[\u001b[0m\u001b[0;36m1\u001b[0m\u001b[0;34m:\u001b[0m\u001b[0mN\u001b[0m\u001b[0;34m+\u001b[0m\u001b[0;36m1\u001b[0m\u001b[0;34m]\u001b[0m\u001b[0;34m*\u001b[0m\u001b[0mnp\u001b[0m\u001b[0;34m.\u001b[0m\u001b[0mexp\u001b[0m\u001b[0;34m(\u001b[0m\u001b[0;36m4\u001b[0m\u001b[0;34m*\u001b[0m\u001b[0mChi\u001b[0m\u001b[0;34m[\u001b[0m\u001b[0;36m1\u001b[0m\u001b[0;34m:\u001b[0m\u001b[0mN\u001b[0m\u001b[0;34m+\u001b[0m\u001b[0;36m1\u001b[0m\u001b[0;34m]\u001b[0m\u001b[0;34m)\u001b[0m\u001b[0;34m\u001b[0m\u001b[0;34m\u001b[0m\u001b[0m\n\u001b[1;32m     38\u001b[0m   \u001b[0mck0\u001b[0m \u001b[0;34m=\u001b[0m \u001b[0mnp\u001b[0m\u001b[0;34m.\u001b[0m\u001b[0mdot\u001b[0m\u001b[0;34m(\u001b[0m\u001b[0mrhsk\u001b[0m\u001b[0;34m,\u001b[0m \u001b[0minv_matrix_krr\u001b[0m\u001b[0;34m)\u001b[0m\u001b[0;34m\u001b[0m\u001b[0;34m\u001b[0m\u001b[0m\n\u001b[0;32m---> 39\u001b[0;31m   \u001b[0mKrr\u001b[0m \u001b[0;34m=\u001b[0m \u001b[0mnp\u001b[0m\u001b[0;34m.\u001b[0m\u001b[0mdot\u001b[0m\u001b[0;34m(\u001b[0m\u001b[0mck0\u001b[0m\u001b[0;34m,\u001b[0m \u001b[0mSB1\u001b[0m\u001b[0;34m)\u001b[0m\u001b[0;34m\u001b[0m\u001b[0;34m\u001b[0m\u001b[0m\n\u001b[0m\u001b[1;32m     40\u001b[0m   \u001b[0mrKrr\u001b[0m \u001b[0;34m=\u001b[0m \u001b[0mnp\u001b[0m\u001b[0;34m.\u001b[0m\u001b[0mdot\u001b[0m\u001b[0;34m(\u001b[0m\u001b[0mck0\u001b[0m\u001b[0;34m,\u001b[0m \u001b[0mrSB1\u001b[0m\u001b[0;34m)\u001b[0m\u001b[0;34m\u001b[0m\u001b[0;34m\u001b[0m\u001b[0m\n\u001b[1;32m     41\u001b[0m   \u001b[0mMatrix_Alpha_0\u001b[0m \u001b[0;34m=\u001b[0m \u001b[0mrrpsi\u001b[0m\u001b[0;34m[\u001b[0m\u001b[0;36m0\u001b[0m\u001b[0;34m]\u001b[0m \u001b[0;34m+\u001b[0m \u001b[0;36m2\u001b[0m\u001b[0;34m*\u001b[0m\u001b[0mcoeforigin\u001b[0m \u001b[0;34m-\u001b[0m \u001b[0mnp\u001b[0m\u001b[0;34m.\u001b[0m\u001b[0mexp\u001b[0m\u001b[0;34m(\u001b[0m\u001b[0;36m4\u001b[0m\u001b[0;34m*\u001b[0m\u001b[0mChi\u001b[0m\u001b[0;34m[\u001b[0m\u001b[0;36m0\u001b[0m\u001b[0;34m]\u001b[0m\u001b[0;34m)\u001b[0m \u001b[0;34m*\u001b[0m \u001b[0mPi\u001b[0m\u001b[0;34m[\u001b[0m\u001b[0;36m0\u001b[0m\u001b[0;34m]\u001b[0m\u001b[0;34m**\u001b[0m\u001b[0;36m2\u001b[0m\u001b[0;34m*\u001b[0m\u001b[0mpsi_0\u001b[0m\u001b[0;34m\u001b[0m\u001b[0;34m\u001b[0m\u001b[0m\n",
            "\u001b[0;32m<__array_function__ internals>\u001b[0m in \u001b[0;36mdot\u001b[0;34m(*args, **kwargs)\u001b[0m\n",
            "\u001b[0;31mValueError\u001b[0m: shapes (30,) and (31,31) not aligned: 30 (dim 0) != 31 (dim 0)"
          ]
        }
      ]
    },
    {
      "cell_type": "code",
      "source": [
        "# Phi origin\n",
        "\n",
        "plt.plot(t1, phi_origin, color = \"b\", label = \" = {:}\".format(A0))\n",
        "plt.title(\"Phi na origem para L0 = 2 e N = {:}\".format(N) )\n",
        "plt.ylabel(\"$\\phi$(t,0)\")\n",
        "plt.xlabel(\"t\")   \n",
        "plt.legend() "
      ],
      "metadata": {
        "id": "wY3AMFffe8--"
      },
      "execution_count": null,
      "outputs": []
    },
    {
      "cell_type": "code",
      "source": [
        "plt.plot(t1, phi_origin, color = \"b\", label = \" = {:}\".format(A0))\n",
        "plt.title(\"Phi na origem para L0 = 2 e N = {:}\".format(N) )\n",
        "plt.ylabel(\"$\\phi$(t,0)\")\n",
        "plt.xlabel(\"t\")  \n",
        "plt.xlim(7.2,8.2)\n",
        "plt.legend() "
      ],
      "metadata": {
        "id": "Gfp8WqZoe-hG"
      },
      "execution_count": null,
      "outputs": []
    },
    {
      "cell_type": "code",
      "source": [
        "# Erro L2 of Hamiltonian constraint\n",
        "\n",
        "plt.plot(t1,L2HC)\n",
        "plt.yscale(\"log\")\n",
        "plt.ylabel(\"log(L2HC)\")\n",
        "plt.xlabel(\"t\")\n",
        "plt.title(\"log(L2HC) para $N = 600$, $L_0 = 2$ e A_0 = {:}\".format(A0))"
      ],
      "metadata": {
        "id": "fhOyxEJKfAFe"
      },
      "execution_count": null,
      "outputs": []
    }
  ]
}