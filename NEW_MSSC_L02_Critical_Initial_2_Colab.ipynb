{
  "nbformat": 4,
  "nbformat_minor": 0,
  "metadata": {
    "colab": {
      "provenance": [],
      "authorship_tag": "ABX9TyMNjst+JCUQiU50cCoZwJjd",
      "include_colab_link": true
    },
    "kernelspec": {
      "name": "python3",
      "display_name": "Python 3"
    },
    "language_info": {
      "name": "python"
    }
  },
  "cells": [
    {
      "cell_type": "markdown",
      "metadata": {
        "id": "view-in-github",
        "colab_type": "text"
      },
      "source": [
        "<a href=\"https://colab.research.google.com/github/phmouras/Projeto_Pos/blob/main/NEW_MSSC_L02_Critical_Initial_2_Colab.ipynb\" target=\"_parent\"><img src=\"https://colab.research.google.com/assets/colab-badge.svg\" alt=\"Open In Colab\"/></a>"
      ]
    },
    {
      "cell_type": "code",
      "execution_count": 41,
      "metadata": {
        "id": "j7rIsvD9ekja",
        "colab": {
          "base_uri": "https://localhost:8080/",
          "height": 279
        },
        "outputId": "6c0e04fa-5fa7-4e88-b460-ec86b1576798"
      },
      "outputs": [
        {
          "output_type": "display_data",
          "data": {
            "text/plain": [
              "<Figure size 432x288 with 1 Axes>"
            ],
            "image/png": "[encoded data removed]"
          },
          "metadata": {
            "needs_background": "light"
          }
        }
      ],
      "source": [
        "import numpy as np\n",
        "import pandas as pd\n",
        "import matplotlib.pyplot as plt\n",
        "import math\n",
        "\n",
        "N = 30                                                   # Truncation ordem\n",
        "\n",
        "L0 = 5                                             # Map parameter \n",
        "\n",
        "col = np.cos(np.arange(2*N + 3)*math.pi /(2*N + 2))      # collocation points (Verificado)\n",
        "                               \n",
        "colr = col[1:N+2]                                                         # physical domain (Verificado)             \n",
        "\n",
        "r1 = L0 * colr/(np.sqrt(1-colr**2)) \n",
        "r = np.flip(r1)                                           # physical domain (Verificado)  \n",
        "\n",
        "#out_r = open('r_30_L02.txt', 'a')\n",
        "#out_r.write(' ' +' '.join(str('%.18f'%n) for n in r)+'\\n')\n",
        "#out_r.close()\n",
        "\n",
        "\n",
        "# Base Matrix (Tchebyshev Polinomials): \n",
        "\n",
        "SB = np.zeros([N+2,N+1])\n",
        "rSB = np.zeros([N+2,N+1])\n",
        "rrSB = np.zeros([N+2,N+1])\n",
        "\n",
        "\n",
        "for i in range(N+1+1):                                    # SB[:,0] = function in origin\n",
        "  SB[i,] = np.sin((2*i+1)*np.arctan(L0/r))                                                  \n",
        "\n",
        "for i in range(N+1+1):\n",
        "  rSB[i,] = -np.cos((2*i+1)*np.arctan(L0/r))*(2*i+1)*L0/(r**2*(1+L0**2/r**2)) \n",
        "\n",
        "for i in range(N+1+1):\n",
        "  rrSB[i,] = -np.sin((2*i+1)*np.arctan(L0/r))*(2*i+1)**2*L0**2/(r**4*(1+L0**2/r**2)**2)+2*np.cos((2*i+1)*np.arctan(L0/r))*(2*i+1)*L0/(r**3*(1+L0**2/r**2))-2*np.cos((2*i+1)*np.arctan(L0/r))*(2*i+1)*L0**3/(r**5*(1+L0**2/r**2)**2)                     \n",
        "\n",
        "# Base function\n",
        "\n",
        "\n",
        "\n",
        "psi = SB[0:N+1,:]        # origin included in psi[:,0]\n",
        "rpsi = rSB[0:N+1,:]\n",
        "rrpsi = rrSB[0:N+1,:]\n",
        "\n",
        "\n",
        "\n",
        "# Initial conditions of Phi (Scalar field)                                    \n",
        "\n",
        "r0 = 0\n",
        "\n",
        "\n",
        "A0 = 0.05  # . -> disperse ;  # . -> colapse       \n",
        "\n",
        "sigma = 1\n",
        "\n",
        "\n",
        "Phi_init = A0*r**2*(np.exp(-(r-r0)**2/sigma**2) + np.exp(-(r+r0)**2/sigma**2))          # Phi initial data out of origin (Verificado)\n",
        "\n",
        "inv_psi = np.linalg.inv(psi)\n",
        "  \n",
        "a0 = np.dot(Phi_init, inv_psi)  # coeficients a(0)  (Verificado)\n",
        "\n",
        "#out_a = open('a0_30_L02.txt', 'a')\n",
        "#out_a.write(' ' +' '.join(str('%.18f'%n) for n in a0)+'\\n')\n",
        "#out_a.close()\n",
        "\n",
        "\n",
        "Phi = np.dot(a0, psi)        # approximative solution in t = 0\n",
        "rPhi= np.dot(a0, rpsi)\n",
        "\n",
        "########################### Plot: Initial Conditions of Phi\n",
        "\n",
        "M = 3000       # plot truncation\n",
        "\n",
        "rplot = np.linspace(0.00000000000000001,15,M)\n",
        "\n",
        "colplot = rplot/np.sqrt(L0**2 + rplot**2)\n",
        "\n",
        "SBplot = np.zeros([N+1,M])\n",
        "rSBplot = np.zeros([N+1,M])\n",
        "rrSBplot = np.zeros([N+1,M])\n",
        "\n",
        "for i in range(N+1):\n",
        "  SBplot[i,] = np.sin((2*i+1)*np.arctan(L0/rplot))\n",
        "\n",
        "for i in range(N+1):\n",
        "  rSBplot[i,] = -np.cos((2*i+1)*np.arctan(L0/rplot))*(2*i+1)*L0/(rplot**2*(1+L0**2/rplot**2)) \n",
        "\n",
        "for i in range(N+1):\n",
        "  rrSBplot[i,] = -np.sin((2*i+1)*np.arctan(L0/rplot))*(2*i+1)**2*L0**2/(rplot**4*(1+L0**2/rplot**2)**2)+2*np.cos((2*i+1)*np.arctan(L0/rplot))*(2*i+1)*L0/(rplot**3*(1+L0**2/rplot**2))-2*np.cos((2*i+1)*np.arctan(L0/rplot))*(2*i+1)*L0**3/(rplot**5*(1+L0**2/rplot**2)**2)                     \n",
        "\n",
        "psiplot = SBplot[0:(N+1),:] \n",
        "rpsiplot = rSBplot[0:(N+1),:]\n",
        "rrpsiplot = rrSBplot[0:(N+1),:]\n",
        "\n",
        "Phiplot_init = A0*rplot**2*(np.exp(-(rplot-r0)**2/sigma**2)+np.exp(-(rplot+r0)**2/sigma**2))     \n",
        "\n",
        "#Phiplot_init = np.hstack((0, Phiplot_int))\n",
        "\n",
        "Phiplot = np.dot(a0, psiplot)\n",
        "\n",
        "plt.plot(rplot, Phiplot, rplot, Phiplot_init, \"--r\")   #(Verificado)\n",
        "plt.xlabel('r')\n",
        "plt.xlim(0,8)\n",
        "plt.show()\n"
      ]
    },
    {
      "cell_type": "code",
      "source": [
        "r"
      ],
      "metadata": {
        "colab": {
          "base_uri": "https://localhost:8080/"
        },
        "id": "eeTBn1ZyK7H0",
        "outputId": "f9f9eb87-8050-42e1-f92b-114b4bcf81d2"
      },
      "execution_count": 35,
      "outputs": [
        {
          "output_type": "execute_result",
          "data": {
            "text/plain": [
              "array([6.12323400e-17, 5.07142602e-02, 1.01690061e-01, 1.53194365e-01,\n",
              "       2.05505224e-01, 2.58917939e-01, 3.13752024e-01, 3.70359332e-01,\n",
              "       4.29133797e-01, 4.90523418e-01, 5.55045280e-01, 6.23304766e-01,\n",
              "       6.96020542e-01, 7.74057617e-01, 8.58471841e-01, 9.50570882e-01,\n",
              "       1.05199940e+00, 1.16486057e+00, 1.29189349e+00, 1.43673921e+00,\n",
              "       1.60435160e+00, 1.80165481e+00, 2.03863865e+00, 2.33027556e+00,\n",
              "       2.70008048e+00, 3.18723043e+00, 3.86222756e+00, 4.86605635e+00,\n",
              "       6.52765523e+00, 9.83380275e+00, 1.97183198e+01])"
            ]
          },
          "metadata": {},
          "execution_count": 35
        }
      ]
    },
    {
      "cell_type": "code",
      "source": [
        "erro = Phiplot_init - Phiplot\n",
        "\n",
        "plt.plot(rplot, erro)\n",
        "plt.xlabel('r')\n",
        "plt.xlim(0,8)\n",
        "plt.ylabel(\"$|\\phi_N - \\phi_0|$\")\n",
        "plt.show()"
      ],
      "metadata": {
        "id": "Qx0ycuiGO66Z",
        "outputId": "d0142b66-5ccd-4750-da47-bde1e0829bd6",
        "colab": {
          "base_uri": "https://localhost:8080/",
          "height": 290
        }
      },
      "execution_count": 8,
      "outputs": [
        {
          "output_type": "display_data",
          "data": {
            "text/plain": [
              "<Figure size 432x288 with 1 Axes>"
            ],
            "image/png": "[encoded data removed]"
          },
          "metadata": {
            "needs_background": "light"
          }
        }
      ]
    },
    {
      "cell_type": "code",
      "source": [
        "\n",
        "Pi_0 = np.zeros(N+1)\n",
        "b0 = np.dot(Pi_0, psi)\n",
        "Pi = np.dot(b0, psi)\n",
        "\n",
        "c0 = np.zeros([N+1])     # guess value\n",
        "for i in range(N+1):\n",
        "  c0[i] = 0.0001\n",
        "\n",
        "coeforigin = 1/L0**2*(-(-1)**(np.arange(N+1))*(2*np.arange(1,N+2)-1)**2)    # 1/r * d\\phi/dr\n",
        "\n",
        "rChi = np.dot(c0 ,rpsi)\n",
        "rrChi = np.dot(c0, rrpsi)\n",
        "H0_0 = 4*rrChi[0] + 8*np.dot(coeforigin,c0) + 1/2*(rPhi[0])**2\n",
        "H0_int = 4*rChi[1:N+1]**2 + 4*rrChi[1:N+1] + 8/r[1:N+1]*rChi[1:N+1] + 1/2*rPhi[1:N+1]**2\n",
        "H0 = np.hstack((H0_0, H0_int))\n",
        "J1 = rChi*rpsi\n",
        "JH_0 = 8*J1[:,0]+ 4*rrpsi[:,0] + 8*coeforigin   \n",
        "JH_int = 8*J1[:,1:N+1] + 4*rrpsi[:,1:N+1] + 8/r[1:N+1]*rpsi[:,1:N+1]  # problema aqui\n",
        "JH = np.column_stack((JH_0, JH_int))"
      ],
      "metadata": {
        "id": "zlsDoeMo71lC"
      },
      "execution_count": 42,
      "outputs": []
    },
    {
      "cell_type": "code",
      "source": [
        "Pi_0 = np.zeros(N+1)\n",
        "b0 = np.dot(Pi_0, psi)\n",
        "Pi = np.dot(b0, psi)\n",
        "\n",
        "c0 = np.zeros([N+1])     # guess value\n",
        "for i in range(N+1):\n",
        "  c0[i] = 0.0001\n",
        "\n",
        "coeforigin = 1/L0**2*(-(-1)**(np.arange(N+1))*(2*np.arange(1,N+2)-1)**2)    # 1/r * d\\phi/dr\n",
        "\n",
        "tol = 1e-19\n",
        "#cnew = 0 \n",
        "#err = abs(c0 - cnew)\n",
        "\n",
        "n = 0\n",
        "nf = 100\n",
        "\n",
        "# Newton Raphson loop\n",
        "#while max(err) >= tol:\n",
        "while n <= nf:\n",
        "  rChi = np.dot(c0 ,rpsi)\n",
        "  rrChi = np.dot(c0, rrpsi)\n",
        "  H0_0 = 4*rrChi[0] + 8*np.dot(coeforigin,c0) + 1/2*(rPhi[0])**2\n",
        "  H0_int = 4*rChi[1:N+1]**2 + 4*rrChi[1:N+1] + 8/r[1:N+1]*rChi[1:N+1] + 1/2*rPhi[1:N+1]**2\n",
        "  H0 = np.hstack((H0_0, H0_int))\n",
        "  J1 = rChi*rpsi\n",
        "  JH_0 = 8*J1[:,0]+ 4*rrpsi[:,0] + 8*coeforigin\n",
        "  JH_int = 8*J1[:,1:N+1] + 4*rrpsi[:,1:N+1] + 8/r[1:N+1]*rpsi[:,1:N+1]  \n",
        "  JH = np.column_stack((JH_0, JH_int))\n",
        "  inv_JH = np.linalg.inv(JH)\n",
        "  cnew = c0\n",
        "  c0 = c0 - np.dot(H0, inv_JH)\n",
        "  err = abs(c0 - cnew)\n",
        "  print(max(err))\n",
        "  if  max(err) <= tol:\n",
        "    print(c0)\n",
        "    break\n",
        "  n = n + 1\n",
        "Chi = np.dot(c0, psi)"
      ],
      "metadata": {
        "colab": {
          "base_uri": "https://localhost:8080/"
        },
        "id": "TjXLJ2BkU35g",
        "outputId": "895417f6-1371-4fe1-cc5a-ef0a1a7a8830"
      },
      "execution_count": 46,
      "outputs": [
        {
          "output_type": "stream",
          "name": "stdout",
          "text": [
            "0.00017260709323990708\n",
            "5.245380115524636e-06\n",
            "4.325006254827721e-12\n",
            "2.710505431213761e-20\n",
            "[ 2.01503234e-04 -7.08850075e-05  2.82126936e-05 -9.19983082e-06\n",
            "  1.49739269e-06  5.16349179e-07 -9.06637885e-08 -8.99103794e-07\n",
            "  1.54192770e-06 -1.58442065e-06  1.15031312e-06 -5.05377862e-07\n",
            " -1.03553432e-07  5.27173240e-07 -7.24156866e-07  7.31048123e-07\n",
            " -6.19587553e-07  4.61265778e-07 -3.07555693e-07  1.85160538e-07\n",
            " -1.00793015e-07  4.94048637e-08 -2.15751665e-08  8.22074643e-09\n",
            " -2.61864576e-09  6.25866561e-10 -6.63570881e-11 -3.02655462e-11\n",
            "  2.12770507e-11 -6.13872632e-12 -1.96555548e-13]\n"
          ]
        }
      ]
    },
    {
      "cell_type": "code",
      "source": [
        "H0"
      ],
      "metadata": {
        "colab": {
          "base_uri": "https://localhost:8080/"
        },
        "id": "fMLUTLKyYx7F",
        "outputId": "60337673-5ea5-46c3-d0c2-3fe58ae0bf10"
      },
      "execution_count": 15,
      "outputs": [
        {
          "output_type": "execute_result",
          "data": {
            "text/plain": [
              "array([8.11850587e-15, 3.11563432e-08, 1.50493516e-09, 6.29313212e-08,\n",
              "       1.21664281e-08, 1.80909402e-07, 5.65671951e-08, 1.78005139e-07,\n",
              "       1.94996861e-07, 2.36933653e-07, 3.07491470e-07, 3.40870724e-07,\n",
              "       4.26526907e-07, 4.56868891e-07, 5.54634244e-07, 5.79140691e-07,\n",
              "       6.86515077e-07, 7.02672115e-07, 8.16536741e-07, 8.22398494e-07,\n",
              "       9.38928372e-07, 9.33407386e-07, 1.04771647e-06, 1.03113601e-06,\n",
              "       1.13601200e-06, 1.11154849e-06, 1.19229042e-06, 1.17127179e-06,\n",
              "       1.17414871e-06, 1.20765294e-06, 4.86598268e-07])"
            ]
          },
          "metadata": {},
          "execution_count": 15
        }
      ]
    },
    {
      "cell_type": "code",
      "source": [
        "\n",
        "Chiplot = np.dot(c0, psiplot)\n",
        "\n",
        "rrChiplot = np.dot(c0, rrpsiplot)\n",
        "\n",
        "plt.plot(rplot,Chiplot)\n",
        "plt.xlim(0,5)\n",
        "plt.show()\n",
        "     "
      ],
      "metadata": {
        "colab": {
          "base_uri": "https://localhost:8080/",
          "height": 265
        },
        "id": "tciocSpOAAvF",
        "outputId": "b320ad48-842a-43d5-82f7-9a736e683504"
      },
      "execution_count": 47,
      "outputs": [
        {
          "output_type": "display_data",
          "data": {
            "text/plain": [
              "<Figure size 432x288 with 1 Axes>"
            ],
            "image/png": "[encoded data removed]"
          },
          "metadata": {
            "needs_background": "light"
          }
        }
      ]
    },
    {
      "cell_type": "code",
      "source": [
        "# Equation for Krr: momentum constraint\n",
        "\n",
        "# Initial values of Krr: Base functions of Krr\n",
        "\n",
        "# In r = 0: \n",
        "\n",
        "SB1 = 1/2*(SB[1:(N+1),:] + SB[0:(N),:])          # VERIFICADO\n",
        "rSB1 = 1/2*(rSB[1:(N+1),:] + rSB[0:(N),:])\n",
        "rrSB1 = 1/2*(rrSB[1:(N+1),:] + rrSB[0:(N),:])\n",
        "\n",
        "# Base functions for Beta\n",
        "\n",
        "SB2 = np.zeros([N,N+1])      \n",
        "rSB2 = np.zeros([N,N+1])\n",
        "rrSB2 = np.zeros([N,N+1])\n",
        "\n",
        "\n",
        "\n",
        "for i in range(N):                                                   # VERIFICADO\n",
        "  SB2[i,] = np.sin((2*(i+1/2)+1)*np.arctan(L0/r))                                                  \n",
        "\n",
        "\n",
        "for i in range(N):\n",
        "  rSB2[i,] = -np.cos((2*i+2)*np.arctan(L0/r))*(2*i+2)*L0/(r**2*(1+L0**2/r**2))\n",
        "\n",
        "\n",
        "for i in range(N):\n",
        "  rrSB2[i,] = -np.sin((2*i+2)*np.arctan(L0/r))*(2*i+2)**2*L0**2/(r**4*(1+L0**2/r**2)**2)+2*np.cos((2*i+2)*np.arctan(L0/r))*(2*i+2)*L0/(r**3*(1+L0**2/r**2))-2*np.cos((2*i+2)*np.arctan(L0/r))*(2*i+2)*L0**3/(r**5*(1+L0**2/r**2)**2)\n",
        "\n",
        "\n",
        "\n",
        "\n"
      ],
      "metadata": {
        "id": "gY4tUs-TezEo"
      },
      "execution_count": 48,
      "outputs": []
    },
    {
      "cell_type": "code",
      "source": [
        "np.shape(SB2)"
      ],
      "metadata": {
        "colab": {
          "base_uri": "https://localhost:8080/"
        },
        "id": "QHL4r2jsOD-X",
        "outputId": "59961afa-67cf-4ceb-b88c-463ac5980130"
      },
      "execution_count": 49,
      "outputs": [
        {
          "output_type": "execute_result",
          "data": {
            "text/plain": [
              "(30, 31)"
            ]
          },
          "metadata": {},
          "execution_count": 49
        }
      ]
    },
    {
      "cell_type": "code",
      "source": [
        "np.shape(SB1)"
      ],
      "metadata": {
        "colab": {
          "base_uri": "https://localhost:8080/"
        },
        "id": "f13mjxa-40UE",
        "outputId": "97424337-c867-4cc1-8ea6-54949f757aeb"
      },
      "execution_count": 50,
      "outputs": [
        {
          "output_type": "execute_result",
          "data": {
            "text/plain": [
              "(30, 31)"
            ]
          },
          "metadata": {},
          "execution_count": 50
        }
      ]
    },
    {
      "cell_type": "code",
      "source": [
        "Nq = int(3/2*N)           # Quadrature truncation\n",
        "\n",
        "gauss_quadrature = np.polynomial.legendre.leggauss(Nq + 1) \n",
        "\n",
        "new_col = gauss_quadrature[0]            # Legendre quadrature points\n",
        "\n",
        "\n",
        "# Legendre Polinomials\n",
        "\n",
        "P = np.zeros([Nq+3,Nq+1])\n",
        "colP = np.zeros([Nq+3,Nq+1])\n",
        "\n",
        "P[0,] = 1\n",
        "P[1,] = new_col\n",
        "\n",
        "colP[0,] = 0\n",
        "colP[1,] = 1\n",
        "\n",
        "for i in range(2,Nq+3):\n",
        "  P[i,] = ((2*i-1)*new_col*P[i-1,] - (i-1)*P[i-2,])/(i)   \n",
        "\n",
        "for i in range(2,Nq+3):\n",
        "  colP[i,] = i*P[i-1] + new_col*colP[i-1]\n",
        "\n",
        "P_max = P[Nq+1]\n",
        "\n",
        "colP_max = colP[Nq+1]\n",
        "\n",
        "wq_col = 2/((1-new_col**2)*colP_max**2)    # Legendre weight (Verificado)\n",
        "\n",
        "rq = L0*(1+new_col)/(1-new_col)            # Physical quadrature domain\n",
        "\n",
        "qSB = np.zeros([Nq+1,Nq+1])\n",
        "qrSB = np.zeros([Nq+1,Nq+1])\n",
        "qrrSB = np.zeros([Nq+1,Nq+1])\n",
        "\n",
        "\n",
        "for i in range(Nq+1):\n",
        "  qSB[i,] = np.sin((2*i+1)*np.arctan(L0/rq))                                                  \n",
        "\n",
        "for i in range(Nq+1):\n",
        "  qrSB[i,] = -np.cos((2*i+1)*np.arctan(L0/rq))*(2*i+1)*L0/(rq**2*+L0**2)\n",
        "\n",
        "for i in range(Nq+1):\n",
        "  qrrSB[i,] = -np.sin((2*i+1)*np.arctan(L0/rq))*(2*i+1)**2*L0**2/(rq**4*(1+L0**2/rq**2)**2)+2*np.cos((2*i+1)*np.arctan(L0/rq))*(2*i+1)*L0/(rq**3*(1+L0**2/rq**2))-2*np.cos((2*i+1)*np.arctan(L0/rq))*(2*i+1)*L0**3/(rq**5*(1+L0**2/rq**2)**2)                     \n",
        "\n",
        "qpsi = qSB[0:N+1,:]\n",
        "rqpsi = qrSB[0:N+1,:]\n",
        "rrqpsi = qrrSB[0:N+1,:]\n",
        "\n",
        "\n",
        "qSB1 = 1/2*(qSB[1:(N+1),:] + qSB[0:(N),:])          # VERIFICADO\n",
        "rqSB1 = 1/2*(qrSB[1:(N+1),:] + qrSB[0:(N),:])\n",
        "rrqSB1 = 1/2*(qSB[1:(N+1),:] + qrrSB[0:(N),:])\n",
        "\n",
        "\n",
        "\n",
        "# Initial Phi in quadrature points\n",
        "\n",
        "#qPhi = np.dot(a0, qpsi)      \n",
        "#rqPhi= np.dot(a0, rqpsi)\n",
        "\n",
        "# Initial Pi for quadrature points\n",
        "\n",
        "#qPi = np.dot(b0, qpsi) \n",
        "\n",
        "\n",
        "# Initial Chi for quadrature points:\n",
        "\n",
        "#qChi = np.dot(c0, qpsi)   # Verificado todos\n",
        "#rqChi = np.dot(c0, rqpsi)\n",
        "#rrqChi = np.dot(c0, rrqpsi)\n",
        "\n",
        "# Initial values of Krr:\n",
        "\n",
        "#qKrr = np.dot(ck0, qSB1) \n",
        "\n",
        "# Alpha na origem\n",
        "\n",
        "#Alphacenter = (-1)**(np.arange(N+1))\n"
      ],
      "metadata": {
        "id": "HjxtRx4se2W-"
      },
      "execution_count": 51,
      "outputs": []
    },
    {
      "cell_type": "code",
      "source": [
        "np.shape(qSB1)"
      ],
      "metadata": {
        "id": "U1kubDTOGY23",
        "colab": {
          "base_uri": "https://localhost:8080/"
        },
        "outputId": "be37a670-c4c4-4724-d079-5f4bbe282e96"
      },
      "execution_count": 52,
      "outputs": [
        {
          "output_type": "execute_result",
          "data": {
            "text/plain": [
              "(30, 46)"
            ]
          },
          "metadata": {},
          "execution_count": 52
        }
      ]
    },
    {
      "cell_type": "code",
      "source": [
        "# Runge Kutta 4th order\n",
        "\n",
        "h = 0.001   # step size\n",
        "tf = 4\n",
        "\n",
        "It = int(tf/h)\n",
        "\n",
        "#t1 = np.linspace(0, tf, It) \n",
        "\n",
        "t = 0\n",
        "\n",
        "Alpha_origin = []\n",
        "phi_origin = []\n",
        "L2HC = []\n",
        "phi_set = []\n",
        "\n",
        "V = 0\n",
        "\n",
        "#matriz = np.concatenate((array1, array2))\n",
        "\n",
        "while t <= tf:\n",
        "   \n",
        "  # First step\n",
        "  Phi = np.dot(a0, psi)      \n",
        "  rPhi = np.dot(a0, rpsi)\n",
        "  rrPhi = np.dot(a0, rrpsi)      \n",
        "  Pi = np.dot(b0, psi) \n",
        "  rPi= np.dot(b0, rpsi)\n",
        "  Chi = np.dot(c0, psi) \n",
        "  rChi = np.dot(c0, rpsi)\n",
        "  rrChi = np.dot(c0, rrpsi)   \n",
        "  Matrix_Krr = 2*rChi[1:N+1]*SB1[:,1:N+1] + rSB1[:,1:N+1] + 3/r[1:N+1]*SB1[:,1:N+1]   # (p, p)\n",
        "  inv_matrix_krr = np.linalg.inv(Matrix_Krr)\n",
        "  rhsk = - Pi[1:N+1]*rPhi[1:N+1]*np.exp(4*Chi[1:N+1]) # (p,)\n",
        "  ck0 = np.dot(rhsk, inv_matrix_krr)  # (p,)\n",
        "  Krr = np.dot(ck0, SB1)              # (p+1,)     \n",
        "  rKrr = np.dot(ck0, rSB1)\n",
        "  Matrix_Alpha_0 = rrpsi[:,0] + 2*coeforigin - np.exp(4*Chi[0])*Pi[0]**2*psi[:,0]\n",
        "  Matrix_Alpha_int = rrpsi[:,1:N+1] + 2*(1/r[1:N+1] + rChi[1:N+1])*rpsi[:,1:N+1] - 3/2*np.exp(-4*Chi[1:N+1])*Krr[1:N+1]**2*psi[:,1:N+1] - np.exp(4*Chi[1:N+1])*(Pi[1:N+1]**2 - V)*psi[:,1:N+1] \n",
        "  Matrix_Alpha = np.column_stack((Matrix_Alpha_0, Matrix_Alpha_int))\n",
        "  inv_matrix_alpha = np.linalg.inv(Matrix_Alpha)\n",
        "  rhsal = 3/2*np.exp(-4*Chi)*Krr**2 + np.exp(4*Chi)*(Pi**2-V)\n",
        "  al0 = np.dot(rhsal, inv_matrix_alpha)\n",
        "  Alpha = 1 + np.dot(al0, psi)\n",
        "  rAlpha = np.dot(al0, rpsi)\n",
        "  rrAlpha = np.dot(al0, rrpsi)\n",
        "  Matrix_Beta = rSB2[:,1:N+1] - SB2[:,1:N+1]/r[1:N+1]\n",
        "  inv_matrix_beta = np.linalg.inv(Matrix_Beta)\n",
        "  rhsbe = 3/2*Alpha[1:N+1]*np.exp(-4*Chi[1:N+1])*Krr[1:N+1]\n",
        "  be0 = np.dot(rhsbe , inv_matrix_beta)\n",
        "  Beta = np.dot(be0, SB2)\n",
        "  rBeta = np.dot(be0, rSB2)\n",
        "  db_origin = 2*np.exp(-4*Chi[0])*Alpha[0]*np.dot(a0, coeforigin) + np.exp(-4*Chi[0])*Alpha[0]*rrPhi[0]\n",
        "  db_int = Beta[1:N+1]*rPi[1:N+1] + np.exp(-4*Chi[1:N+1])*(2*Alpha[1:N+1]/r[1:N+1] + rAlpha[1:N+1] + 2*rChi[1:N+1]*Alpha[1:N+1])*rPhi[1:N+1] + np.exp(-4*Chi[1:N+1])*Alpha[1:N+1]*rrPhi[1:N+1] - Alpha[1:N+1]* V\n",
        "  db = np.dot(np.hstack((db_origin, db_int)), inv_psi)\n",
        "  dc = np.dot(Beta*rChi + rBeta/2 - Alpha/2*np.exp(-4*Chi)*Krr, inv_psi)   \n",
        "  da = np.dot(Alpha*Pi + Beta*rPhi, inv_psi)   \n",
        "  K1 = h*(dc)\n",
        "  L1 = h*(da)\n",
        "  N1 = h*(db)\n",
        "  \n",
        "  # L2-error associated to the Hamiltonian constraint\n",
        "  qPhi = np.dot(a0, qpsi)      \n",
        "  rqPhi= np.dot(a0, rqpsi)\n",
        "  qPi = np.dot(b0, qpsi) \n",
        "  qChi = np.dot(c0, qpsi)\n",
        "  rqChi = np.dot(c0, rqpsi)\n",
        "  rrqChi = np.dot(c0, rrqpsi) \n",
        "  qKrr = np.dot(ck0, qSB1)\n",
        "  H = 4*rqChi**2 + 4*rrqChi + 8*rqChi/rq + 3/4*np.exp(-4*qChi)*qKrr**2 + np.exp(4*qChi)*(1/2*qPi**2 + np.exp(-4*qChi)/2*rqPhi**2)   # Hamiltonian constraint (HC)\n",
        "  L2HC.append((1/2*np.dot(H**2,wq_col))**1/2)    # L2 error of HC \n",
        "  \n",
        "  # Alpha origin\n",
        "  Alpha_origin.append(1 + np.dot(al0, psi[:,0]))  # = Alphacenter in matlab\n",
        "  #print(Alpha_origin)\n",
        "  \n",
        "  # Phi origin:  \n",
        "  phi_origin.append(np.dot(a0, psi[:,0]))\n",
        "#  print(phi_origin)\n",
        "    \n",
        "  # Second step\n",
        "  Phi = np.dot(a0 + L1/2, psi)     \n",
        "  rPhi= np.dot(a0 + L1/2 , rpsi)\n",
        "  rrPhi = np.dot(a0 + L1/2, rrpsi) \n",
        "  Pi = np.dot(b0 + N1/2, psi)\n",
        "  rPi= np.dot(b0 + N1/2, rpsi)\n",
        "  Chi = np.dot(c0 + K1/2, psi)\n",
        "  rChi = np.dot(c0 + K1/2, rpsi)\n",
        "  rrChi = np.dot(c0 + K1/2, rrpsi)\n",
        "  Matrix_Krr = 2*rChi[1:N+1]*SB1[:,1:N+1] + rSB1[:,1:N+1] + 3/r[1:N+1]*SB1[:,1:N+1]   # (p, p)\n",
        "  inv_matrix_krr = np.linalg.inv(Matrix_Krr)\n",
        "  rhsk = - Pi[1:N+1]*rPhi[1:N+1]*np.exp(4*Chi[1:N+1]) # (p,)\n",
        "  ck0 = np.dot(rhsk, inv_matrix_krr)  # (p,)\n",
        "  Krr = np.dot(ck0, SB1)              # (p+1,)     \n",
        "  rKrr = np.dot(ck0, rSB1)\n",
        "  Matrix_Alpha_0 = rrpsi[:,0] + 2*coeforigin - np.exp(4*Chi[0])*Pi[0]**2*psi[:,0]\n",
        "  Matrix_Alpha_int = rrpsi[:,1:N+1] + 2*(1/r[1:N+1] + rChi[1:N+1])*rpsi[:,1:N+1] - 3/2*np.exp(-4*Chi[1:N+1])*Krr[1:N+1]**2*psi[:,1:N+1] - np.exp(4*Chi[1:N+1])*(Pi[1:N+1]**2 - V)*psi[:,1:N+1] \n",
        "  Matrix_Alpha = np.column_stack((Matrix_Alpha_0, Matrix_Alpha_int))\n",
        "  inv_matrix_alpha = np.linalg.inv(Matrix_Alpha)\n",
        "  rhsal = 3/2*np.exp(-4*Chi)*Krr**2 + np.exp(4*Chi)*(Pi**2-V)\n",
        "  al0 = np.dot(rhsal, inv_matrix_alpha)\n",
        "  Alpha = 1 + np.dot(al0, psi)\n",
        "  rAlpha = np.dot(al0, rpsi)\n",
        "  rrAlpha = np.dot(al0, rrpsi)\n",
        "  Matrix_Beta = rSB2[:,1:N+1] - SB2[:,1:N+1]/r[1:N+1]\n",
        "  inv_matrix_beta = np.linalg.inv(Matrix_Beta)\n",
        "  rhsbe = 3/2*Alpha[1:N+1]*np.exp(-4*Chi[1:N+1])*Krr[1:N+1]\n",
        "  be0 = np.dot(rhsbe , inv_matrix_beta)\n",
        "  Beta = np.dot(be0, SB2)\n",
        "  rBeta = np.dot(be0, rSB2)\n",
        "  db_origin = 2*np.exp(-4*Chi[0])*Alpha[0]*np.dot(a0, coeforigin) + np.exp(-4*Chi[0])*Alpha[0]*rrPhi[0]\n",
        "  db_int = Beta[1:N+1]*rPi[1:N+1] + np.exp(-4*Chi[1:N+1])*(2*Alpha[1:N+1]/r[1:N+1] + rAlpha[1:N+1] + 2*rChi[1:N+1]*Alpha[1:N+1])*rPhi[1:N+1] + np.exp(-4*Chi[1:N+1])*Alpha[1:N+1]*rrPhi[1:N+1] - Alpha[1:N+1]* V\n",
        "  db = np.dot(np.hstack((db_origin, db_int)), inv_psi)\n",
        "  dc = np.dot(Beta*rChi + rBeta/2 - Alpha/2*np.exp(-4*Chi)*Krr, inv_psi)   \n",
        "  da = np.dot(Alpha*Pi + Beta*rPhi, inv_psi)   \n",
        "  K2 = h*(dc)\n",
        "  L2 = h*(da)\n",
        "  N2 = h*(db)\n",
        "\n",
        "  # Third step\n",
        "  Phi = np.dot(a0 + L2/2, psi)     \n",
        "  rPhi = np.dot(a0 + L2/2 , rpsi)\n",
        "  rrPhi = np.dot(a0 + L2/2, rrpsi) \n",
        "  Pi = np.dot(b0 + N2/2, psi)\n",
        "  rPi= np.dot(b0 + N2/2, rpsi)\n",
        "  Chi = np.dot(c0 + K2/2, psi)\n",
        "  rChi = np.dot(c0 + K2/2, rpsi)\n",
        "  rrChi = np.dot(c0 + K2/2, rrpsi)\n",
        "  Matrix_Krr = 2*rChi[1:N+1]*SB1[:,1:N+1] + rSB1[:,1:N+1] + 3/r[1:N+1]*SB1[:,1:N+1]   # (p, p)\n",
        "  inv_matrix_krr = np.linalg.inv(Matrix_Krr)\n",
        "  rhsk = - Pi[1:N+1]*rPhi[1:N+1]*np.exp(4*Chi[1:N+1]) # (p,)\n",
        "  ck0 = np.dot(rhsk, inv_matrix_krr)  # (p,)\n",
        "  Krr = np.dot(ck0, SB1)              # (p+1,)     \n",
        "  rKrr = np.dot(ck0, rSB1)\n",
        "  Matrix_Alpha_0 = rrpsi[:,0] + 2*coeforigin - np.exp(4*Chi[0])*Pi[0]**2*psi[:,0]\n",
        "  Matrix_Alpha_int = rrpsi[:,1:N+1] + 2*(1/r[1:N+1] + rChi[1:N+1])*rpsi[:,1:N+1] - 3/2*np.exp(-4*Chi[1:N+1])*Krr[1:N+1]**2*psi[:,1:N+1] - np.exp(4*Chi[1:N+1])*(Pi[1:N+1]**2 - V)*psi[:,1:N+1] \n",
        "  Matrix_Alpha = np.column_stack((Matrix_Alpha_0, Matrix_Alpha_int))\n",
        "  inv_matrix_alpha = np.linalg.inv(Matrix_Alpha)\n",
        "  rhsal = 3/2*np.exp(-4*Chi)*Krr**2 + np.exp(4*Chi)*(Pi**2-V)\n",
        "  al0 = np.dot(rhsal, inv_matrix_alpha)\n",
        "  Alpha = 1 + np.dot(al0, psi)\n",
        "  rAlpha = np.dot(al0, rpsi)\n",
        "  rrAlpha = np.dot(al0, rrpsi)\n",
        "  Matrix_Beta = rSB2[:,1:N+1] - SB2[:,1:N+1]/r[1:N+1]\n",
        "  inv_matrix_beta = np.linalg.inv(Matrix_Beta)\n",
        "  rhsbe = 3/2*Alpha[1:N+1]*np.exp(-4*Chi[1:N+1])*Krr[1:N+1]\n",
        "  be0 = np.dot(rhsbe , inv_matrix_beta)\n",
        "  Beta = np.dot(be0, SB2)\n",
        "  rBeta = np.dot(be0, rSB2)\n",
        "  db_origin = 2*np.exp(-4*Chi[0])*Alpha[0]*np.dot(a0, coeforigin) + np.exp(-4*Chi[0])*Alpha[0]*rrPhi[0]\n",
        "  db_int = Beta[1:N+1]*rPi[1:N+1] + np.exp(-4*Chi[1:N+1])*(2*Alpha[1:N+1]/r[1:N+1] + rAlpha[1:N+1] + 2*rChi[1:N+1]*Alpha[1:N+1])*rPhi[1:N+1] + np.exp(-4*Chi[1:N+1])*Alpha[1:N+1]*rrPhi[1:N+1] - Alpha[1:N+1]* V\n",
        "  db = np.dot(np.hstack((db_origin, db_int)), inv_psi)\n",
        "  dc = np.dot(Beta*rChi + rBeta/2 - Alpha/2*np.exp(-4*Chi)*Krr, inv_psi)   \n",
        "  da = np.dot(Alpha*Pi + Beta*rPhi, inv_psi)   \n",
        "  K3 = h*(dc)\n",
        "  L3 = h*(da)\n",
        "  N3 = h*(db) \n",
        "\n",
        "  # Forth step\n",
        "  Phi = np.dot(a0 + L3, psi)     \n",
        "  rPhi= np.dot(a0 + L3 , rpsi)\n",
        "  rrPhi = np.dot(a0 + L3, rrpsi) \n",
        "  Pi = np.dot(b0 + N3, psi)\n",
        "  rPi= np.dot(b0 + N3, rpsi)\n",
        "  Chi = np.dot(c0 + K3, psi)\n",
        "  rChi = np.dot(c0 + K3, rpsi)\n",
        "  rrChi = np.dot(c0 + K3, rrpsi)\n",
        "  Matrix_Krr = 2*rChi[1:N+1]*SB1[:,1:N+1] + rSB1[:,1:N+1] + 3/r[1:N+1]*SB1[:,1:N+1]   # (p, p)\n",
        "  inv_matrix_krr = np.linalg.inv(Matrix_Krr)\n",
        "  rhsk = - Pi[1:N+1]*rPhi[1:N+1]*np.exp(4*Chi[1:N+1]) # (p,)\n",
        "  ck0 = np.dot(rhsk, inv_matrix_krr)  # (p,)\n",
        "  Krr = np.dot(ck0, SB1)              # (p+1,)     \n",
        "  rKrr = np.dot(ck0, rSB1)\n",
        "  Matrix_Alpha_0 = rrpsi[:,0] + 2*coeforigin - np.exp(4*Chi[0])*Pi[0]**2*psi[:,0]\n",
        "  Matrix_Alpha_int = rrpsi[:,1:N+1] + 2*(1/r[1:N+1] + rChi[1:N+1])*rpsi[:,1:N+1] - 3/2*np.exp(-4*Chi[1:N+1])*Krr[1:N+1]**2*psi[:,1:N+1] - np.exp(4*Chi[1:N+1])*(Pi[1:N+1]**2 - V)*psi[:,1:N+1] \n",
        "  Matrix_Alpha = np.column_stack((Matrix_Alpha_0, Matrix_Alpha_int))\n",
        "  inv_matrix_alpha = np.linalg.inv(Matrix_Alpha)\n",
        "  rhsal = 3/2*np.exp(-4*Chi)*Krr**2 + np.exp(4*Chi)*(Pi**2-V)\n",
        "  al0 = np.dot(rhsal, inv_matrix_alpha)\n",
        "  Alpha = 1 + np.dot(al0, psi)\n",
        "  rAlpha = np.dot(al0, rpsi)\n",
        "  rrAlpha = np.dot(al0, rrpsi)\n",
        "  Matrix_Beta = rSB2[:,1:N+1] - SB2[:,1:N+1]/r[1:N+1]\n",
        "  inv_matrix_beta = np.linalg.inv(Matrix_Beta)\n",
        "  rhsbe = 3/2*Alpha[1:N+1]*np.exp(-4*Chi[1:N+1])*Krr[1:N+1]\n",
        "  be0 = np.dot(rhsbe , inv_matrix_beta)\n",
        "  Beta = np.dot(be0, SB2)\n",
        "  rBeta = np.dot(be0, rSB2)\n",
        "  db_origin = 2*np.exp(-4*Chi[0])*Alpha[0]*np.dot(a0, coeforigin) + np.exp(-4*Chi[0])*Alpha[0]*rrPhi[0]\n",
        "  db_int = Beta[1:N+1]*rPi[1:N+1] + np.exp(-4*Chi[1:N+1])*(2*Alpha[1:N+1]/r[1:N+1] + rAlpha[1:N+1] + 2*rChi[1:N+1]*Alpha[1:N+1])*rPhi[1:N+1] + np.exp(-4*Chi[1:N+1])*Alpha[1:N+1]*rrPhi[1:N+1] - Alpha[1:N+1]* V\n",
        "  db = np.dot(np.hstack((db_origin, db_int)), inv_psi)\n",
        "  dc = np.dot(Beta*rChi + rBeta/2 - Alpha/2*np.exp(-4*Chi)*Krr, inv_psi)   \n",
        "  da = np.dot(Alpha*Pi + Beta*rPhi, inv_psi)   \n",
        "  K4 = h*(dc)\n",
        "  L4 = h*(da)\n",
        "  N4 = h*(db)  \n",
        "  \n",
        "  t = t + h\n",
        "#print(t) \n",
        "#  if t > 9:\n",
        "#    h=0.0001\n",
        "\n",
        "    \n",
        "  # Evolution functions\n",
        "  a0 = a0 + 1/6 * (L1 + 2*L2 + 2*L3 + L4)\n",
        "  b0 = b0 + 1/6 * (N1 + 2*N2 + 2*N3 + N4)\n",
        "  c0 = c0 + 1/6 * (K1 + 2*K2 + 2*K3 + K4)  \n",
        "  phi_set.append(np.dot(a0, psiplot))\n",
        "\n",
        "#  pi_set[i,:] = np.dot(b0, psiplot)\n",
        "#  chi_set[i,:] = np.dot(c0, psiplot)\n",
        "  \n",
        "  \n",
        "t1 = np.linspace(0, tf, len(Alpha_origin)) "
      ],
      "metadata": {
        "id": "AR_S1qu7e5_i"
      },
      "execution_count": 53,
      "outputs": []
    },
    {
      "cell_type": "code",
      "source": [
        "for i in range(It):\n",
        "  plt.plot(rplot, phi_set[i])"
      ],
      "metadata": {
        "id": "CgyOJHeYY_fJ",
        "outputId": "8fbba816-cf5c-47ab-b621-dc92e4afd109",
        "colab": {
          "base_uri": "https://localhost:8080/",
          "height": 265
        }
      },
      "execution_count": 55,
      "outputs": [
        {
          "output_type": "display_data",
          "data": {
            "text/plain": [
              "<Figure size 432x288 with 1 Axes>"
            ],
            "image/png": "[encoded data removed]"
          },
          "metadata": {
            "needs_background": "light"
          }
        }
      ]
    },
    {
      "cell_type": "code",
      "source": [
        "# Searching for critical amplitude:\n",
        "\n",
        "plt.plot(t1, Alpha_origin, color = \"g\", label = \"$A_0$ = {:}\".format(A0))\n",
        "plt.title(\"Alpha na origem para L0 = 2, N = {:}\".format(N))\n",
        "plt.ylabel(r\"$\\alpha(t,0)$\")\n",
        "plt.xlabel(\"t\")\n",
        "plt.legend()"
      ],
      "metadata": {
        "id": "wY3AMFffe8--",
        "colab": {
          "base_uri": "https://localhost:8080/",
          "height": 312
        },
        "outputId": "4d4982a0-6cab-49a8-82b0-ba544fe790a5"
      },
      "execution_count": 54,
      "outputs": [
        {
          "output_type": "execute_result",
          "data": {
            "text/plain": [
              "<matplotlib.legend.Legend at 0x7f754fc6b7c0>"
            ]
          },
          "metadata": {},
          "execution_count": 54
        },
        {
          "output_type": "display_data",
          "data": {
            "text/plain": [
              "<Figure size 432x288 with 1 Axes>"
            ],
            "image/png": "[encoded data removed]"
          },
          "metadata": {
            "needs_background": "light"
          }
        }
      ]
    },
    {
      "cell_type": "code",
      "source": [
        "plt.plot(t1, phi_origin, color = \"b\", label = \" = {:}\".format(A0))\n",
        "plt.title(\"Phi na origem para L0 = 2 e N = {:}\".format(N) )\n",
        "plt.ylabel(\"$\\phi$(t,0)\")\n",
        "plt.xlabel(\"t\")  \n",
        "#plt.xlim(7.2,8.2)\n",
        "plt.legend() "
      ],
      "metadata": {
        "id": "Gfp8WqZoe-hG",
        "colab": {
          "base_uri": "https://localhost:8080/",
          "height": 312
        },
        "outputId": "9bc0101f-2ba2-4107-8267-757be1b7429e"
      },
      "execution_count": 56,
      "outputs": [
        {
          "output_type": "execute_result",
          "data": {
            "text/plain": [
              "<matplotlib.legend.Legend at 0x7f754cef0d60>"
            ]
          },
          "metadata": {},
          "execution_count": 56
        },
        {
          "output_type": "display_data",
          "data": {
            "text/plain": [
              "<Figure size 432x288 with 1 Axes>"
            ],
            "image/png": "[encoded data removed]"
          },
          "metadata": {
            "needs_background": "light"
          }
        }
      ]
    },
    {
      "cell_type": "code",
      "source": [
        "# Erro L2 of Hamiltonian constraint\n",
        "\n",
        "plt.plot(t1,L2HC)\n",
        "plt.yscale(\"log\")\n",
        "plt.ylabel(\"log(L2HC)\")\n",
        "plt.xlabel(\"t\")\n",
        "plt.title(\"log(L2HC) para $N = 600$, $L_0 = 2$ e A_0 = {:}\".format(A0))"
      ],
      "metadata": {
        "id": "fhOyxEJKfAFe",
        "colab": {
          "base_uri": "https://localhost:8080/",
          "height": 314
        },
        "outputId": "f15adbb1-b94d-4428-b52b-c7814cad3ecc"
      },
      "execution_count": 57,
      "outputs": [
        {
          "output_type": "execute_result",
          "data": {
            "text/plain": [
              "Text(0.5, 1.0, 'log(L2HC) para $N = 600$, $L_0 = 2$ e A_0 = 0.05')"
            ]
          },
          "metadata": {},
          "execution_count": 57
        },
        {
          "output_type": "display_data",
          "data": {
            "text/plain": [
              "<Figure size 432x288 with 1 Axes>"
            ],
            "image/png": "[encoded data removed]"
          },
          "metadata": {
            "needs_background": "light"
          }
        }
      ]
    },
    {
      "cell_type": "code",
      "source": [],
      "metadata": {
        "id": "cclq1zXlR5k8"
      },
      "execution_count": null,
      "outputs": []
    }
  ]
}