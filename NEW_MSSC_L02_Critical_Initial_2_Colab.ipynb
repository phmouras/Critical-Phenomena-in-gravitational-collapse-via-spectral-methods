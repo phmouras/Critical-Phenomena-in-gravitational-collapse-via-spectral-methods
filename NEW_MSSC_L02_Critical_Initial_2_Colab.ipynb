{
  "nbformat": 4,
  "nbformat_minor": 0,
  "metadata": {
    "colab": {
      "provenance": [],
      "authorship_tag": "ABX9TyO1YV5a1Y+phcYFa3fGY/V6",
      "include_colab_link": true
    },
    "kernelspec": {
      "name": "python3",
      "display_name": "Python 3"
    },
    "language_info": {
      "name": "python"
    }
  },
  "cells": [
    {
      "cell_type": "markdown",
      "metadata": {
        "id": "view-in-github",
        "colab_type": "text"
      },
      "source": [
        "<a href=\"https://colab.research.google.com/github/phmouras/Projeto_Pos/blob/main/NEW_MSSC_L02_Critical_Initial_2_Colab.ipynb\" target=\"_parent\"><img src=\"https://colab.research.google.com/assets/colab-badge.svg\" alt=\"Open In Colab\"/></a>"
      ]
    },
    {
      "cell_type": "code",
      "execution_count": 18,
      "metadata": {
        "colab": {
          "base_uri": "https://localhost:8080/",
          "height": 279
        },
        "id": "j7rIsvD9ekja",
        "outputId": "3c44a66e-2231-49aa-fc21-7bedb6a45f34"
      },
      "outputs": [
        {
          "output_type": "display_data",
          "data": {
            "text/plain": [
              "<Figure size 432x288 with 1 Axes>"
            ],
            "image/png": "[encoded data removed]"
          },
          "metadata": {
            "needs_background": "light"
          }
        }
      ],
      "source": [
        "import numpy as np\n",
        "import pandas as pd\n",
        "import matplotlib.pyplot as plt\n",
        "import math\n",
        "\n",
        "N = 30                                                   # Truncation ordem\n",
        "\n",
        "L0 = 2                                               # Map parameter \n",
        "\n",
        "col = np.cos(np.arange(2*N + 4)*math.pi /(2*N + 3))      # collocation points (Verificado)\n",
        "\n",
        "colr = col[1:N+2]\n",
        "\n",
        "r = L0 * colr/(np.sqrt(1-colr**2))                       # physical domain (Verificado)             \n",
        "\n",
        "#out_r = open('r_30_L02.txt', 'a')\n",
        "#out_r.write(' ' +' '.join(str('%.18f'%n) for n in r)+'\\n')\n",
        "#out_r.close()\n",
        "\n",
        "\n",
        "# Base Matrix (Tchebyshev Polinomials): \n",
        "\n",
        "SB = np.zeros([N+2,N+1])\n",
        "rSB = np.zeros([N+2,N+1])\n",
        "rrSB = np.zeros([N+2,N+1])\n",
        "psi_0 = np.zeros([N+1])\n",
        "rpsi_0 = np.zeros([N+1])\n",
        "rrpsi_0 = np.zeros([N+1])\n",
        "\n",
        "for i in range(N+1):\n",
        "  psi_0[i,] = np.sin((2*i+1)*math.pi/2)     # psi(r = 0)\n",
        "\n",
        "for i in range(N+1+1):\n",
        "  SB[i,] = np.sin((2*i+1)*np.arctan(L0/r))                                                  \n",
        "\n",
        "for i in range(N+1):\n",
        "  rpsi_0[i,] = -np.cos((2*i+1)*math.pi/2)*(2*i+1)/L0      # d psi(r = 0)/ dr\n",
        "\n",
        "for i in range(N+1+1):\n",
        "  rSB[i,] = -np.cos((2*i+1)*np.arctan(L0/r))*(2*i+1)*L0/(r**2*+L0**2)\n",
        "\n",
        "for i in range(N+1):\n",
        "  rrpsi_0[i,] = -np.sin((2*i+1)*math.pi/2)*(2*i+1)**2/L0**2          # d^2 psi(r = 0)/ dr^2\n",
        "\n",
        "for i in range(N+1+1):\n",
        "  rrSB[i,] = -np.sin((2*i+1)*np.arctan(L0/r))*(2*i+1)**2*L0**2/(r**4*(1+L0**2/r**2)**2)+2*np.cos((2*i+1)*np.arctan(L0/r))*(2*i+1)*L0/(r**3*(1+L0**2/r**2))-2*np.cos((2*i+1)*np.arctan(L0/r))*(2*i+1)*L0**3/(r**5*(1+L0**2/r**2)**2)                     \n",
        "\n",
        "# Base function\n",
        "\n",
        "psi_int = SB[1:N+1,:]        \n",
        "rpsi_int = rSB[1:N+1,:]\n",
        "rrpsi_int = rrSB[1:N+1,:]\n",
        "\n",
        "psi = np.vstack((psi_0, psi_int))\n",
        "rpsi = np.vstack((rpsi_0, rpsi_int))\n",
        "rrpsi = np.vstack((rrpsi_0, rrpsi_int))\n",
        "# Initial conditions of Phi (Scalar field)                                    \n",
        "\n",
        "r0 = 0\n",
        "\n",
        "\n",
        "A0 = 0.9  # 0.935155201739-> disperse ; 0.9351552017139; # 0.935155201714  -> colapse       \n",
        "\n",
        "sigma = 1\n",
        "\n",
        "Phi_0 = A0*r**2*(np.exp(-(r-r0)**2/sigma**2)+np.exp(-(r+r0)**2/sigma**2))          # Phi initial data (Verificado)\n",
        "\n",
        "inv_psi = np.linalg.inv(psi)\n",
        "  \n",
        "a0 = np.dot(Phi_0, inv_psi)  # coeficients a(0)  (Verificado)\n",
        "\n",
        "#out_a = open('a0_30_L02.txt', 'a')\n",
        "#out_a.write(' ' +' '.join(str('%.18f'%n) for n in a0)+'\\n')\n",
        "#out_a.close()\n",
        "\n",
        "\n",
        "Phi = np.dot(a0, psi)        # approximative solution in t = 0\n",
        "rPhi= np.dot(a0, rpsi)\n",
        "\n",
        "########################### Plot: Initial Conditions of Phi\n",
        "\n",
        "M = 3000       # plot truncation\n",
        "\n",
        "rplot = np.linspace(0.000001,15,M)\n",
        "\n",
        "colplot = rplot/np.sqrt(L0**2 + rplot**2)\n",
        "\n",
        "SBplot = np.zeros([N+1,M])\n",
        "rSBplot = np.zeros([N+1,M])\n",
        "rrSBplot = np.zeros([N+1,M])\n",
        "\n",
        "for i in range(N+1):\n",
        "  SBplot[i,] = np.sin((2*i+1)*np.arctan(L0/rplot))\n",
        "\n",
        "for i in range(N+1):\n",
        "  rSBplot[i,] = -np.cos((2*i+1)*np.arctan(L0/rplot))*(2*i+1)*L0/(rplot**2*(1+L0**2/rplot**2)) \n",
        "\n",
        "for i in range(N+1):\n",
        "  rrSBplot[i,] = -np.sin((2*i+1)*np.arctan(L0/rplot))*(2*i+1)**2*L0**2/(rplot**4*(1+L0**2/rplot**2)**2)+2*np.cos((2*i+1)*np.arctan(L0/rplot))*(2*i+1)*L0/(rplot**3*(1+L0**2/rplot**2))-2*np.cos((2*i+1)*np.arctan(L0/rplot))*(2*i+1)*L0**3/(rplot**5*(1+L0**2/rplot**2)**2)                     \n",
        "\n",
        "psiplot = SBplot[0:(N+1),:] \n",
        "rpsiplot = rSBplot[0:(N+1),:]\n",
        "rrpsiplot = rrSBplot[0:(N+1),:]\n",
        "\n",
        "Phi_plot0 = A0*np.exp((-rplot**2)/(sigma**2))       \n",
        "\n",
        "\n",
        "Phiplot = np.dot(a0, psiplot)\n",
        "\n",
        "\n",
        "erro = Phi_plot0 - Phiplot\n",
        "\n",
        "plt.plot(rplot, Phi_plot0, rplot, Phiplot, \"--r\")   #(Verificado)\n",
        "plt.xlabel('r')\n",
        "plt.xlim(0,8)\n",
        "plt.show()"
      ]
    },
    {
      "cell_type": "code",
      "source": [
        "np.shape(a0)"
      ],
      "metadata": {
        "id": "ygLXkdQpVsH4",
        "outputId": "7d593181-d712-4531-d042-04df23de3098",
        "colab": {
          "base_uri": "https://localhost:8080/"
        }
      },
      "execution_count": 20,
      "outputs": [
        {
          "output_type": "execute_result",
          "data": {
            "text/plain": [
              "(31,)"
            ]
          },
          "metadata": {},
          "execution_count": 20
        }
      ]
    },
    {
      "cell_type": "code",
      "source": [
        "rrpsi_0"
      ],
      "metadata": {
        "id": "Ga_cXmE7WdSq",
        "outputId": "6a09cd62-7c57-43d3-99ed-635d5fe893aa",
        "colab": {
          "base_uri": "https://localhost:8080/"
        }
      },
      "execution_count": 15,
      "outputs": [
        {
          "output_type": "execute_result",
          "data": {
            "text/plain": [
              "array([-2.5000e-01,  2.2500e+00, -6.2500e+00,  1.2250e+01, -2.0250e+01,\n",
              "        3.0250e+01, -4.2250e+01,  5.6250e+01, -7.2250e+01,  9.0250e+01,\n",
              "       -1.1025e+02,  1.3225e+02, -1.5625e+02,  1.8225e+02, -2.1025e+02,\n",
              "        2.4025e+02, -2.7225e+02,  3.0625e+02, -3.4225e+02,  3.8025e+02,\n",
              "       -4.2025e+02,  4.6225e+02, -5.0625e+02,  5.5225e+02, -6.0025e+02,\n",
              "        6.5025e+02, -7.0225e+02,  7.5625e+02, -8.1225e+02,  8.7025e+02,\n",
              "       -9.3025e+02])"
            ]
          },
          "metadata": {},
          "execution_count": 15
        }
      ]
    },
    {
      "cell_type": "code",
      "source": [
        "Pi_0 = np.zeros(N+1)\n",
        "b0 = np.dot(Pi_0, psi)\n",
        "Pi = np.dot(b0, psi)\n",
        "\n",
        "c0 = np.zeros([N+1])     # guess value\n",
        "for i in range(N+1):\n",
        "  c0[i]  =   0.001\n",
        "  \n",
        "Chi=np.dot(c0,psi)    \n",
        "rChi=np.dot(c0,rpsi)\n",
        "rrChi=np.dot(c0,rrpsi)     \n",
        "\n",
        "H0 = 4*rChi**2 + 4*rrChi + 8/r*rChi + 1/2*(rPhi)**2\n",
        "\n",
        "JH = 8*np.dot(c0,rpsi)*rpsi + 4*rrpsi + 8/r*rpsi     # Jacobian Matrix\n",
        "\n",
        "inv_JH = np.linalg.inv(JH)\n",
        "\n",
        "N_int = 50\n",
        "\n",
        "tol = 1e-40    # tolerance\n",
        "\n",
        "# Newton Raphson loop\n",
        "for i in range(N_int):\n",
        "  Chi=np.dot(c0,psi)\n",
        "  rChi=np.dot(c0,rpsi)\n",
        "  rrChi=np.dot(c0,rrpsi)\n",
        "  H0 = 4*rChi**2 + 4*rrChi + 8/r*rChi + 1/2*(rPhi)**2\n",
        "  JH = 8*np.dot(c0,rpsi)*rpsi + 4*rrpsi + 8/r*rpsi\n",
        "  cnew = c0 - np.dot(H0, inv_JH)\n",
        "  if min(abs(cnew-c0)) < tol:\n",
        "    break\n",
        "#  print(min(abs(cnew-c0)), end=' ')\n",
        "  c0 = cnew\n",
        "\n",
        "#out_c = open('c0_30_L02.txt', 'a')\n",
        "#out_c.write(' ' +' '.join(str('%.18f'%n) for n in c0)+'\\n')\n",
        "#out_c.close()"
      ],
      "metadata": {
        "id": "8pqxkWLAes4e"
      },
      "execution_count": null,
      "outputs": []
    },
    {
      "cell_type": "code",
      "source": [
        "# Equation for Krr: momentum constraint\n",
        "\n",
        "# Initial values of Krr: Base functions of Krr\n",
        "\n",
        "SB1 = 1/2*(SB[1:(N+2),:] + SB[0:(N+1),:])          # VERIFICADO\n",
        "rSB1 = 1/2*(rSB[1:(N+2),:] + rSB[0:(N+1),:])\n",
        "rrSB1 = 1/2*(rrSB[1:(N+2),:] + rrSB[0:(N+1),:])\n",
        "\n",
        "\n",
        "# Base functions for Beta\n",
        "\n",
        "SB2 = np.zeros([N+2,N+1])      \n",
        "rSB2 = np.zeros([N+2,N+1])\n",
        "rrSB2 = np.zeros([N+2,N+1])\n",
        "\n",
        "for i in range(N+1+1):                                                   # VERIFICADO\n",
        "  SB2[i,] = np.sin((2*(i+1/2)+1)*np.arctan(L0/r))                                                  \n",
        "\n",
        "for i in range(N+1+1):\n",
        "  rSB2[i,] = -np.cos((2*i+2)*np.arctan(L0/r))*(2*i+2)*L0/(r**2*(1+L0**2/r**2))\n",
        "\n",
        "for i in range(N+1+1):\n",
        "  rrSB2[i,] = -np.sin((2*i+2)*np.arctan(L0/r))*(2*i+2)**2*L0**2/(r**4*(1+L0**2/r**2)**2)+2*np.cos((2*i+2)*np.arctan(L0/r))*(2*i+2)*L0/(r**3*(1+L0**2/r**2))-2*np.cos((2*i+2)*np.arctan(L0/r))*(2*i+2)*L0**3/(r**5*(1+L0**2/r**2)**2)\n",
        "\n",
        "    "
      ],
      "metadata": {
        "id": "gY4tUs-TezEo",
        "colab": {
          "base_uri": "https://localhost:8080/",
          "height": 235
        },
        "outputId": "d4b6cb1f-eb97-411f-ff1f-c3ae6610b4cf"
      },
      "execution_count": 1,
      "outputs": [
        {
          "output_type": "error",
          "ename": "NameError",
          "evalue": "ignored",
          "traceback": [
            "\u001b[0;31m---------------------------------------------------------------------------\u001b[0m",
            "\u001b[0;31mNameError\u001b[0m                                 Traceback (most recent call last)",
            "\u001b[0;32m<ipython-input-1-536812c8a4e8>\u001b[0m in \u001b[0;36m<module>\u001b[0;34m\u001b[0m\n\u001b[1;32m      3\u001b[0m \u001b[0;31m# Initial values of Krr: Base functions of Krr\u001b[0m\u001b[0;34m\u001b[0m\u001b[0;34m\u001b[0m\u001b[0;34m\u001b[0m\u001b[0m\n\u001b[1;32m      4\u001b[0m \u001b[0;34m\u001b[0m\u001b[0m\n\u001b[0;32m----> 5\u001b[0;31m \u001b[0mSB1\u001b[0m \u001b[0;34m=\u001b[0m \u001b[0;36m1\u001b[0m\u001b[0;34m/\u001b[0m\u001b[0;36m2\u001b[0m\u001b[0;34m*\u001b[0m\u001b[0;34m(\u001b[0m\u001b[0mSB\u001b[0m\u001b[0;34m[\u001b[0m\u001b[0;36m1\u001b[0m\u001b[0;34m:\u001b[0m\u001b[0;34m(\u001b[0m\u001b[0mN\u001b[0m\u001b[0;34m+\u001b[0m\u001b[0;36m2\u001b[0m\u001b[0;34m)\u001b[0m\u001b[0;34m,\u001b[0m\u001b[0;34m:\u001b[0m\u001b[0;34m]\u001b[0m \u001b[0;34m+\u001b[0m \u001b[0mSB\u001b[0m\u001b[0;34m[\u001b[0m\u001b[0;36m0\u001b[0m\u001b[0;34m:\u001b[0m\u001b[0;34m(\u001b[0m\u001b[0mN\u001b[0m\u001b[0;34m+\u001b[0m\u001b[0;36m1\u001b[0m\u001b[0;34m)\u001b[0m\u001b[0;34m,\u001b[0m\u001b[0;34m:\u001b[0m\u001b[0;34m]\u001b[0m\u001b[0;34m)\u001b[0m          \u001b[0;31m# VERIFICADO\u001b[0m\u001b[0;34m\u001b[0m\u001b[0;34m\u001b[0m\u001b[0m\n\u001b[0m\u001b[1;32m      6\u001b[0m \u001b[0mrSB1\u001b[0m \u001b[0;34m=\u001b[0m \u001b[0;36m1\u001b[0m\u001b[0;34m/\u001b[0m\u001b[0;36m2\u001b[0m\u001b[0;34m*\u001b[0m\u001b[0;34m(\u001b[0m\u001b[0mrSB\u001b[0m\u001b[0;34m[\u001b[0m\u001b[0;36m1\u001b[0m\u001b[0;34m:\u001b[0m\u001b[0;34m(\u001b[0m\u001b[0mN\u001b[0m\u001b[0;34m+\u001b[0m\u001b[0;36m2\u001b[0m\u001b[0;34m)\u001b[0m\u001b[0;34m,\u001b[0m\u001b[0;34m:\u001b[0m\u001b[0;34m]\u001b[0m \u001b[0;34m+\u001b[0m \u001b[0mrSB\u001b[0m\u001b[0;34m[\u001b[0m\u001b[0;36m0\u001b[0m\u001b[0;34m:\u001b[0m\u001b[0;34m(\u001b[0m\u001b[0mN\u001b[0m\u001b[0;34m+\u001b[0m\u001b[0;36m1\u001b[0m\u001b[0;34m)\u001b[0m\u001b[0;34m,\u001b[0m\u001b[0;34m:\u001b[0m\u001b[0;34m]\u001b[0m\u001b[0;34m)\u001b[0m\u001b[0;34m\u001b[0m\u001b[0;34m\u001b[0m\u001b[0m\n\u001b[1;32m      7\u001b[0m \u001b[0mrrSB1\u001b[0m \u001b[0;34m=\u001b[0m \u001b[0;36m1\u001b[0m\u001b[0;34m/\u001b[0m\u001b[0;36m2\u001b[0m\u001b[0;34m*\u001b[0m\u001b[0;34m(\u001b[0m\u001b[0mrrSB\u001b[0m\u001b[0;34m[\u001b[0m\u001b[0;36m1\u001b[0m\u001b[0;34m:\u001b[0m\u001b[0;34m(\u001b[0m\u001b[0mN\u001b[0m\u001b[0;34m+\u001b[0m\u001b[0;36m2\u001b[0m\u001b[0;34m)\u001b[0m\u001b[0;34m,\u001b[0m\u001b[0;34m:\u001b[0m\u001b[0;34m]\u001b[0m \u001b[0;34m+\u001b[0m \u001b[0mrrSB\u001b[0m\u001b[0;34m[\u001b[0m\u001b[0;36m0\u001b[0m\u001b[0;34m:\u001b[0m\u001b[0;34m(\u001b[0m\u001b[0mN\u001b[0m\u001b[0;34m+\u001b[0m\u001b[0;36m1\u001b[0m\u001b[0;34m)\u001b[0m\u001b[0;34m,\u001b[0m\u001b[0;34m:\u001b[0m\u001b[0;34m]\u001b[0m\u001b[0;34m)\u001b[0m\u001b[0;34m\u001b[0m\u001b[0;34m\u001b[0m\u001b[0m\n",
            "\u001b[0;31mNameError\u001b[0m: name 'SB' is not defined"
          ]
        }
      ]
    },
    {
      "cell_type": "code",
      "source": [
        "Nq = int(3/2*N)           # Quadrature truncation\n",
        "\n",
        "gauss_quadrature = np.polynomial.legendre.leggauss(Nq + 1) \n",
        "\n",
        "new_col = gauss_quadrature[0]            # Legendre quadrature points\n",
        "\n",
        "\n",
        "# Legendre Polinomials\n",
        "\n",
        "P = np.zeros([Nq+3,Nq+1])\n",
        "colP = np.zeros([Nq+3,Nq+1])\n",
        "\n",
        "P[0,] = 1\n",
        "P[1,] = new_col\n",
        "\n",
        "colP[0,] = 0\n",
        "colP[1,] = 1\n",
        "\n",
        "for i in range(2,Nq+3):\n",
        "  P[i,] = ((2*i-1)*new_col*P[i-1,] - (i-1)*P[i-2,])/(i)   \n",
        "\n",
        "for i in range(2,Nq+3):\n",
        "  colP[i,] = i*P[i-1] + new_col*colP[i-1]\n",
        "\n",
        "P_max = P[Nq+1]\n",
        "\n",
        "colP_max = colP[Nq+1]\n",
        "\n",
        "wq_col = 2/((1-new_col**2)*colP_max**2)    # Legendre weight (Verificado)\n",
        "\n",
        "rq = L0*(1+new_col)/(1-new_col)            # Physical quadrature domain\n",
        "\n",
        "qSB = np.zeros([Nq+3,Nq+1])                # Base function in quadrature points\n",
        "qrSB = np.zeros([Nq+3,Nq+1])\n",
        "qrrSB = np.zeros([Nq+3,Nq+1])\n",
        "\n",
        "\n",
        "\n",
        "\n",
        "for i in range(Nq+1+1+1):\n",
        "  qSB[i,] = np.sin((2*i+1)*np.arctan(L0/rq))                                                  \n",
        "\n",
        "for i in range(Nq+1+1+1):\n",
        "  qrSB[i,] = -np.cos((2*i+1)*np.arctan(L0/rq))*(2*i+1)*L0/(rq**2*(1+L0**2/rq**2))\n",
        "\n",
        "for i in range(Nq+1+1+1):\n",
        "  qrrSB[i,] = -np.sin((2*i+1)*np.arctan(L0/rq))*(2*i+1)**2*L0**2/(rq**4*(1+L0**2/rq**2)**2)+2*np.cos((2*i+1)*np.arctan(L0/rq))*(2*i+1)*L0/(rq**3*(1+L0**2/rq**2))-2*np.cos((2*i+1)*np.arctan(L0/rq))*(2*i+1)*L0**3/(rq**5*(1+L0**2/rq**2)**2)                                         \n",
        "\n",
        "\n",
        "qpsi = qSB[0:N+1,:]\n",
        "rqpsi = qrSB[0:N+1,:]\n",
        "rrqpsi = qrrSB[0:N+1,:]\n",
        "\n",
        "\n",
        "# Initial Phi in quadrature points\n",
        "\n",
        "#qPhi = np.dot(a0, qpsi)      \n",
        "#rqPhi= np.dot(a0, rqpsi)\n",
        "\n",
        "# Initial Pi for quadrature points\n",
        "\n",
        "#qPi = np.dot(b0, qpsi) \n",
        "\n",
        "\n",
        "# Initial Chi for quadrature points:\n",
        "\n",
        "#qChi = np.dot(c0, qpsi)   # Verificado todos\n",
        "#rqChi = np.dot(c0, rqpsi)\n",
        "#rrqChi = np.dot(c0, rrqpsi)\n",
        "\n",
        "# Initial values of Krr:\n",
        "\n",
        "\n",
        "qSB1 = 1/2*(qSB[1:(N+2),:] + qSB[0:(N+1),:])          # VERIFICADO\n",
        "qrSB1 = 1/2*(qrSB[1:(N+2),:] + qrSB[0:(N+1),:])\n",
        "qrrSB1 = 1/2*(qrrSB[1:(N+2),:] + qrrSB[0:(N+1),:])\n",
        "\n",
        "\n",
        "#qKrr = np.dot(ck0, qSB1) \n",
        "\n",
        "# Alpha na origem\n",
        "\n",
        "psi_0 = np.zeros(N+1)\n",
        "rpsi_0 = np.zeros(N+1)\n",
        "\n",
        "Alphacenter = (-1)**(np.arange(N+1))\n",
        "\n",
        "coeforigin = 1/L0**2*(-(-1)**(np.arange(N+1))*(2*np.arange(1,N+2)-1)**2)"
      ],
      "metadata": {
        "id": "HjxtRx4se2W-"
      },
      "execution_count": null,
      "outputs": []
    },
    {
      "cell_type": "code",
      "source": [
        "Alphacenter"
      ],
      "metadata": {
        "colab": {
          "base_uri": "https://localhost:8080/"
        },
        "id": "_5ZVywqWudUA",
        "outputId": "ffbab8b2-3d1e-42dd-cace-9d49f6886679"
      },
      "execution_count": null,
      "outputs": [
        {
          "output_type": "execute_result",
          "data": {
            "text/plain": [
              "array([ 1, -1,  1, -1,  1, -1,  1, -1,  1, -1,  1, -1,  1, -1,  1, -1,  1,\n",
              "       -1,  1, -1,  1, -1,  1, -1,  1, -1,  1, -1,  1, -1,  1])"
            ]
          },
          "metadata": {},
          "execution_count": 68
        }
      ]
    },
    {
      "cell_type": "code",
      "source": [
        "2*rChi[1:N+1]*SB1[1:N+1,:] + rSB1[1:N+1,:] + 3/r[1:N+1]*SB1[1:N+1,:]"
      ],
      "metadata": {
        "id": "zQYgPwzplzMm",
        "outputId": "48b7f490-b673-44bb-c390-25889e17f333",
        "colab": {
          "base_uri": "https://localhost:8080/",
          "height": 166
        }
      },
      "execution_count": null,
      "outputs": [
        {
          "output_type": "error",
          "ename": "ValueError",
          "evalue": "ignored",
          "traceback": [
            "\u001b[0;31m---------------------------------------------------------------------------\u001b[0m",
            "\u001b[0;31mValueError\u001b[0m                                Traceback (most recent call last)",
            "\u001b[0;32m<ipython-input-49-7d88c5b2c780>\u001b[0m in \u001b[0;36m<module>\u001b[0;34m\u001b[0m\n\u001b[0;32m----> 1\u001b[0;31m \u001b[0;36m2\u001b[0m\u001b[0;34m*\u001b[0m\u001b[0mrChi\u001b[0m\u001b[0;34m[\u001b[0m\u001b[0;36m1\u001b[0m\u001b[0;34m:\u001b[0m\u001b[0mN\u001b[0m\u001b[0;34m+\u001b[0m\u001b[0;36m1\u001b[0m\u001b[0;34m]\u001b[0m\u001b[0;34m*\u001b[0m\u001b[0mSB1\u001b[0m\u001b[0;34m[\u001b[0m\u001b[0;36m1\u001b[0m\u001b[0;34m:\u001b[0m\u001b[0mN\u001b[0m\u001b[0;34m+\u001b[0m\u001b[0;36m1\u001b[0m\u001b[0;34m]\u001b[0m \u001b[0;34m+\u001b[0m \u001b[0mrSB1\u001b[0m\u001b[0;34m[\u001b[0m\u001b[0;36m1\u001b[0m\u001b[0;34m:\u001b[0m\u001b[0mN\u001b[0m\u001b[0;34m+\u001b[0m\u001b[0;36m1\u001b[0m\u001b[0;34m,\u001b[0m\u001b[0;34m:\u001b[0m\u001b[0;34m]\u001b[0m \u001b[0;34m+\u001b[0m \u001b[0;36m3\u001b[0m\u001b[0;34m/\u001b[0m\u001b[0mr\u001b[0m\u001b[0;34m[\u001b[0m\u001b[0;36m1\u001b[0m\u001b[0;34m:\u001b[0m\u001b[0mN\u001b[0m\u001b[0;34m+\u001b[0m\u001b[0;36m1\u001b[0m\u001b[0;34m]\u001b[0m\u001b[0;34m*\u001b[0m\u001b[0mSB1\u001b[0m\u001b[0;34m[\u001b[0m\u001b[0;36m1\u001b[0m\u001b[0;34m:\u001b[0m\u001b[0mN\u001b[0m\u001b[0;34m+\u001b[0m\u001b[0;36m1\u001b[0m\u001b[0;34m,\u001b[0m\u001b[0;34m:\u001b[0m\u001b[0;34m]\u001b[0m\u001b[0;34m\u001b[0m\u001b[0;34m\u001b[0m\u001b[0m\n\u001b[0m",
            "\u001b[0;31mValueError\u001b[0m: operands could not be broadcast together with shapes (30,) (30,31) "
          ]
        }
      ]
    },
    {
      "cell_type": "code",
      "source": [
        "np.shape(SB1)"
      ],
      "metadata": {
        "id": "6nGCV834nmvx",
        "outputId": "6a42da48-0e1c-4f8a-8afb-fda191025f88",
        "colab": {
          "base_uri": "https://localhost:8080/"
        }
      },
      "execution_count": null,
      "outputs": [
        {
          "output_type": "execute_result",
          "data": {
            "text/plain": [
              "(31, 31)"
            ]
          },
          "metadata": {},
          "execution_count": 72
        }
      ]
    },
    {
      "cell_type": "code",
      "source": [
        "# Runge Kutta 4th order\n",
        "\n",
        "h = 0.001   # step size\n",
        "tf = 4\n",
        "\n",
        "It = int(tf/h)\n",
        "\n",
        "#t1 = np.linspace(0, tf, It) \n",
        "\n",
        "t = 0\n",
        "\n",
        "\n",
        "Alpha_origin = []\n",
        "phi_origin = []\n",
        "L2HC = []\n",
        "phi_set = []\n",
        "\n",
        "\n",
        "V = 0\n",
        "\n",
        "\n",
        "\n",
        "#matriz = np.concatenate((array1, array2))\n",
        "\n",
        "while t <= tf:\n",
        " \n",
        "  # First step\n",
        "  Phi = np.dot(a0, psi)      \n",
        "  rPhi = np.dot(a0, rpsi)\n",
        "  rrPhi = np.dot(a0, rrpsi)      \n",
        "  Pi = np.dot(b0, psi) \n",
        "  rPi= np.dot(b0, rpsi)\n",
        "  Chi = np.dot(c0, psi) \n",
        "  rChi = np.dot(c0, rpsi)\n",
        "  rrChi = np.dot(c0, rrpsi)   \n",
        "  Matrix_Krr = 2*rChi[1:N+1]*SB1[1:N+1,:] + rSB1[1:N+1,:] + 3/r[1:N+1]*SB1[1:N+1,:] \n",
        "  inv_matrix_krr = np.linalg.inv(Matrix_Krr)\n",
        "  rhsk = - Pi[1:N+1]*rPhi[1:N+1]*np.exp(4*Chi[1:N+1])\n",
        "  ck0 = np.dot(rhsk, inv_matrix_krr)\n",
        "  Krr = np.dot(ck0, SB1) \n",
        "  rKrr = np.dot(ck0, rSB1)\n",
        "  Matrix_Alpha_0 = rrpsi[0] + 2*coeforigin - np.exp(4*Chi[0]) * Pi[0]**2*psi_0\n",
        "  Matrix_Alpha_int = rrpsi[1:N+1,:] + 2*(1/r[1:N+1] + rChi[1:N+1])*rpsi[1:N+1,:] - 3/2*np.exp(-4*Chi[1:N+1])*Krr[1:N+1]**2*psi[1:N+1,:] - np.exp(4*Chi[1:N+1])*(Pi[1:N+1]**2 - V)*psi[1:N+1,:] \n",
        "  Matrix_Alpha = np.concatenate(Matrix_Alpha_0, Matrix_Alpha_int)\n",
        "  inv_matrix_alpha = np.linalg.inv(Matrix_Alpha)\n",
        "  rhsal = 3/2*np.exp(-4*Chi)*Krr**2 + np.exp(4*Chi)*(Pi**2-V)\n",
        "  al0 = np.dot(rhsal, inv_matrix_alpha)\n",
        "  Alphac = 1 + np.dot(al0,Alphacenter)\n",
        "  Alpha = 1 + np.dot(al0, psi)\n",
        "  rAlpha = np.dot(al0, rpsi)\n",
        "  rrAlpha = np.dot(al0, rrpsi)\n",
        "  Matrix_Beta = rSB2[1:N+1,:] - SB2[1:N+1,:]/r[1:N+1]\n",
        "  inv_matrix_beta = np.linalg.inv(Matrix_Beta)\n",
        "  rhsbe = 3/2*Alpha[1:N+1]*np.exp(-4*Chi[1:N+1])*Krr[1:N+1]\n",
        "  be0 = np.dot(rhsbe , inv_matrix_beta)\n",
        "  Beta = np.dot(be0, SB2)\n",
        "  rBeta = np.dot(be0, rSB2)\n",
        "  db_origin = 2*np.exp(-4*Chi[0])*Alpha[0]*coeforigin*a0 + np.exp(-4*Chi[0])*Alpha[0]*rrPhi[0]\n",
        "  db_int = Beta[1:N+1]*rPi[1:N+1] + np.exp(-4*Chi[1:N+1])*(2*Alpha[1:N+1]/r[1:N+1] + rAlpha[1:N+1] + 2*rChi[1:N+1]*Alpha[1:N+1])*rPhi[1:N+1] + np.exp(-4*Chi[1:N+1])*Alpha[1:N+1]*rrPhi[1:N+1] - Alpha[1:N+1]* V\n",
        "  db = np.dot(np.concatenate(db_origin, db_int), inv_psi)\n",
        "  dc = np.dot(Beta*rChi + Beta/2/r + Alpha/4*np.exp(-4*Chi)*Krr, inv_psi)   \n",
        "  da = np.dot(Alpha*Pi + Beta*rPhi, inv_psi)   \n",
        "  K1 = h*(dc)\n",
        "  L1 = h*(da)\n",
        "  N1 = h*(db)\n",
        "  \n",
        "  # L2-error associated to the Hamiltonian constraint\n",
        "  qPhi = np.dot(a0, qpsi)      \n",
        "  rqPhi= np.dot(a0, rqpsi)\n",
        "  qPi = np.dot(b0, qpsi) \n",
        "  qChi = np.dot(c0, qpsi)\n",
        "  rqChi = np.dot(c0, rqpsi)\n",
        "  rrqChi = np.dot(c0, rrqpsi) \n",
        "  qKrr = np.dot(ck0, qSB1)\n",
        "  H = 4*rqChi**2 + 4*rrqChi + 8*rqChi/rq + 3/4*np.exp(-4*qChi)*qKrr**2 + np.exp(4*qChi)*(1/2*qPi**2 + np.exp(-4*qChi)/2*rqPhi**2)   # Hamiltonian constraint (HC)\n",
        "  L2HC.append((1/2*np.dot(H**2,wq_col))**1/2)    # L2 error of HC \n",
        "  \n",
        "  # Alpha origin\n",
        "  Alpha_origin.append(1 + np.dot(al0, psi_0))\n",
        "#  print(Alpha_origin)\n",
        "  \n",
        "  # Phi origin:  \n",
        "  phi_origin.append(np.dot(a0, psi_0))\n",
        "#  print(phi_origin)\n",
        "    \n",
        "  # Second step\n",
        "  Phi = np.dot(a0 + L1/2, psi)     \n",
        "  rPhi= np.dot(a0 + L1/2 , rpsi)\n",
        "  rrPhi = np.dot(a0 + L1/2, rrpsi) \n",
        "  Pi = np.dot(b0 + N1/2, psi)\n",
        "  rPi= np.dot(b0 + N1/2, rpsi)\n",
        "  Chi = np.dot(c0 + K1/2, psi)\n",
        "  rChi = np.dot(c0 + K1/2, rpsi)\n",
        "  rrChi = np.dot(c0 + K1/2, rrpsi)\n",
        "  Matrix_Krr = 2*rChi*SB1 + rSB1 + 3/r*SB1 \n",
        "  inv_matrix_krr = np.linalg.inv(Matrix_Krr)\n",
        "  rhsk = - Pi*rPhi*np.exp(4*Chi)\n",
        "  ck0 = np.dot(rhsk, inv_matrix_krr)\n",
        "  Krr = np.dot(ck0, SB1) \n",
        "  rKrr = np.dot(ck0, rSB1)\n",
        "  Matrix_Alpha = rrpsi + 2*(1/r + rChi)*rpsi - 3/2*np.exp(-4*Chi)*Krr**2*psi - np.exp(4*Chi)*(Pi**2 - V)*psi \n",
        "  inv_matrix_alpha = np.linalg.inv(Matrix_Alpha)\n",
        "  rhsal = 3/2*np.exp(-4*Chi)*Krr**2 + np.exp(4*Chi)*(Pi**2-V)\n",
        "  al0 = np.dot(rhsal, inv_matrix_alpha)\n",
        "  Alpha = 1 + np.dot(al0, psi)\n",
        "  rAlpha = np.dot(al0, rpsi)\n",
        "  rrAlpha = np.dot(al0, rrpsi)\n",
        "  Matrix_Beta = rSB2/r - SB2/r**2\n",
        "  inv_matrix_beta = np.linalg.inv(Matrix_Beta)\n",
        "  rhsbe = 3/2*Alpha*np.exp(-4*Chi)*Krr/r\n",
        "  be0 = np.dot(rhsbe , inv_matrix_beta)\n",
        "  Beta = np.dot(be0, SB2)\n",
        "  rBeta = np.dot(be0, rSB2)\n",
        "  db = np.dot(Beta*rPi + np.exp(-4*Chi)*(2*Alpha/r + rAlpha + 2*rChi*Alpha)*rPhi + np.exp(-4*Chi)*Alpha*rrPhi - Alpha* V, inv_psi)   \n",
        "  dc = np.dot(Beta*rChi + Beta/2/r + Alpha/4*np.exp(-4*Chi)*Krr, inv_psi)    \n",
        "  da = np.dot(Alpha*Pi + Beta*rPhi, inv_psi)   \n",
        "  K2 = h*(dc)\n",
        "  L2 = h*(da)\n",
        "  N2 = h*(db)\n",
        "\n",
        "  # Third step\n",
        "  Phi = np.dot(a0 + L2/2, psi)     \n",
        "  rPhi = np.dot(a0 + L2/2 , rpsi)\n",
        "  rrPhi = np.dot(a0 + L2/2, rrpsi) \n",
        "  Pi = np.dot(b0 + N2/2, psi)\n",
        "  rPi= np.dot(b0 + N2/2, rpsi)\n",
        "  Chi = np.dot(c0 + K2/2, psi)\n",
        "  rChi = np.dot(c0 + K2/2, rpsi)\n",
        "  rrChi = np.dot(c0 + K2/2, rrpsi)\n",
        "  Matrix_Krr = 2*rChi*SB1 + rSB1 + 3/r*SB1\n",
        "  inv_matrix_krr = np.linalg.inv(Matrix_Krr)\n",
        "  rhsk = - Pi*rPhi*np.exp(4*Chi)\n",
        "  ck0 = np.dot(rhsk, inv_matrix_krr)\n",
        "  Krr = np.dot(ck0, SB1) \n",
        "  rKrr = np.dot(ck0, rSB1)\n",
        "  Matrix_Alpha = rrpsi + 2*(1/r + rChi)*rpsi - 3/2*np.exp(-4*Chi)*Krr**2*psi - np.exp(4*Chi)*(Pi**2 - V)*psi \n",
        "  inv_matrix_alpha = np.linalg.inv(Matrix_Alpha)\n",
        "  rhsal = 3/2*np.exp(-4*Chi)*Krr**2 + np.exp(4*Chi)*(Pi**2-V)\n",
        "  al0 = np.dot(rhsal, inv_matrix_alpha)\n",
        "  Alpha = 1 + np.dot(al0, psi)\n",
        "  rAlpha = np.dot(al0, rpsi)\n",
        "  rrAlpha = np.dot(al0, rrpsi)\n",
        "  Matrix_Beta = rSB2/r - SB2/r**2\n",
        "  inv_matrix_beta = np.linalg.inv(Matrix_Beta)\n",
        "  rhsbe = 3/2*Alpha*np.exp(-4*Chi)*Krr/r\n",
        "  be0 = np.dot(rhsbe , inv_matrix_beta)\n",
        "  Beta = np.dot(be0, SB2)\n",
        "  rBeta = np.dot(be0, rSB2)\n",
        "  db = np.dot(Beta*rPi + np.exp(-4*Chi)*(2*Alpha/r + rAlpha + 2*rChi*Alpha)*rPhi + np.exp(-4*Chi)*Alpha*rrPhi - Alpha* V, inv_psi)   \n",
        "  dc = np.dot(Beta*rChi + Beta/2/r + Alpha/4*np.exp(-4*Chi)*Krr, inv_psi)    \n",
        "  da = np.dot(Alpha*Pi + Beta*rPhi, inv_psi)   \n",
        "  K3 = h*(dc)\n",
        "  L3 = h*(da)\n",
        "  N3 = h*(db) \n",
        "\n",
        "  # Forth step\n",
        "  Phi = np.dot(a0 + L3, psi)     \n",
        "  rPhi= np.dot(a0 + L3 , rpsi)\n",
        "  rrPhi = np.dot(a0 + L3, rrpsi) \n",
        "  Pi = np.dot(b0 + N3, psi)\n",
        "  rPi= np.dot(b0 + N3, rpsi)\n",
        "  Chi = np.dot(c0 + K3, psi)\n",
        "  rChi = np.dot(c0 + K3, rpsi)\n",
        "  rrChi = np.dot(c0 + K3, rrpsi)\n",
        "  Matrix_Krr = 2*rChi*SB1 + rSB1 + 3/r*SB1 \n",
        "  inv_matrix_krr = np.linalg.inv(Matrix_Krr)\n",
        "  rhsk = - Pi*rPhi*np.exp(4*Chi)\n",
        "  ck0 = np.dot(rhsk, inv_matrix_krr)\n",
        "  Krr = np.dot(ck0, SB1) \n",
        "  rKrr = np.dot(ck0, rSB1)\n",
        "  Matrix_Alpha = rrpsi + 2*(1/r + rChi)*rpsi - 3/2*np.exp(-4*Chi)*Krr**2*psi - np.exp(4*Chi)*(Pi**2 - V)*psi \n",
        "  inv_matrix_alpha = np.linalg.inv(Matrix_Alpha)\n",
        "  rhsal = 3/2*np.exp(-4*Chi)*Krr**2 + np.exp(4*Chi)*(Pi**2-V)\n",
        "  al0 = np.dot(rhsal, inv_matrix_alpha)\n",
        "  Alpha = 1 + np.dot(al0, psi)\n",
        "  rAlpha = np.dot(al0, rpsi)\n",
        "  rrAlpha = np.dot(al0, rrpsi)\n",
        "  Matrix_Beta = rSB2/r - SB2/r**2\n",
        "  inv_matrix_beta = np.linalg.inv(Matrix_Beta)\n",
        "  rhsbe = 3/2*Alpha*np.exp(-4*Chi)*Krr/r\n",
        "  be0 = np.dot(rhsbe , inv_matrix_beta)\n",
        "  Beta = np.dot(be0, SB2)\n",
        "  rBeta = np.dot(be0, rSB2)\n",
        "  db = np.dot(Beta*rPi + np.exp(-4*Chi)*(2*Alpha/r + rAlpha + 2*rChi*Alpha)*rPhi + np.exp(-4*Chi)*Alpha*rrPhi - Alpha* V, inv_psi)   \n",
        "  dc = np.dot(Beta*rChi + Beta/2/r + Alpha/4*np.exp(-4*Chi)*Krr, inv_psi)    \n",
        "  da = np.dot(Alpha*Pi + Beta*rPhi, inv_psi)   \n",
        "  K4 = h*(dc)\n",
        "  L4 = h*(da)\n",
        "  N4 = h*(db)  \n",
        "  \n",
        "  t = t + h\n",
        "  print(t)\n",
        "    \n",
        "#  if t > 9:\n",
        "#    h=0.0001\n",
        "\n",
        "    \n",
        "  # Evolution functions\n",
        "  a0 = a0 + 1/6 * (L1 + 2*L2 + 2*L3 + L4)\n",
        "  b0 = b0 + 1/6 * (N1 + 2*N2 + 2*N3 + N4)\n",
        "  c0 = c0 + 1/6 * (K1 + 2*K2 + 2*K3 + K4)  \n",
        "  phi_set.append(np.dot(a0, psiplot))\n",
        "\n",
        "#  pi_set[i,:] = np.dot(b0, psiplot)\n",
        "#  chi_set[i,:] = np.dot(c0, psiplot)\n",
        "  \n",
        "  \n",
        "t1 = np.linspace(0, tf, len(Alpha_origin)) "
      ],
      "metadata": {
        "id": "AR_S1qu7e5_i"
      },
      "execution_count": null,
      "outputs": []
    },
    {
      "cell_type": "code",
      "source": [
        "# Phi origin\n",
        "\n",
        "plt.plot(t1, phi_origin, color = \"b\", label = \" = {:}\".format(A0))\n",
        "plt.title(\"Phi na origem para L0 = 2 e N = {:}\".format(N) )\n",
        "plt.ylabel(\"$\\phi$(t,0)\")\n",
        "plt.xlabel(\"t\")   \n",
        "plt.legend() "
      ],
      "metadata": {
        "id": "wY3AMFffe8--"
      },
      "execution_count": null,
      "outputs": []
    },
    {
      "cell_type": "code",
      "source": [
        "plt.plot(t1, phi_origin, color = \"b\", label = \" = {:}\".format(A0))\n",
        "plt.title(\"Phi na origem para L0 = 2 e N = {:}\".format(N) )\n",
        "plt.ylabel(\"$\\phi$(t,0)\")\n",
        "plt.xlabel(\"t\")  \n",
        "plt.xlim(7.2,8.2)\n",
        "plt.legend() "
      ],
      "metadata": {
        "id": "Gfp8WqZoe-hG"
      },
      "execution_count": null,
      "outputs": []
    },
    {
      "cell_type": "code",
      "source": [
        "# Erro L2 of Hamiltonian constraint\n",
        "\n",
        "plt.plot(t1,L2HC)\n",
        "plt.yscale(\"log\")\n",
        "plt.ylabel(\"log(L2HC)\")\n",
        "plt.xlabel(\"t\")\n",
        "plt.title(\"log(L2HC) para $N = 600$, $L_0 = 2$ e A_0 = {:}\".format(A0))"
      ],
      "metadata": {
        "id": "fhOyxEJKfAFe"
      },
      "execution_count": null,
      "outputs": []
    }
  ]
}