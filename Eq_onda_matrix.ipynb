{
  "nbformat": 4,
  "nbformat_minor": 0,
  "metadata": {
    "colab": {
      "name": "Eq_onda_matrix.ipynb",
      "provenance": [],
      "authorship_tag": "ABX9TyOFAPEDlxkf18FFWdJ9GPPN",
      "include_colab_link": true
    },
    "kernelspec": {
      "name": "python3",
      "display_name": "Python 3"
    },
    "language_info": {
      "name": "python"
    }
  },
  "cells": [
    {
      "cell_type": "markdown",
      "metadata": {
        "id": "view-in-github",
        "colab_type": "text"
      },
      "source": [
        "<a href=\"https://colab.research.google.com/github/phmouras/Projeto_Pos/blob/main/Eq_onda_matrix.ipynb\" target=\"_parent\"><img src=\"https://colab.research.google.com/assets/colab-badge.svg\" alt=\"Open In Colab\"/></a>"
      ]
    },
    {
      "cell_type": "code",
      "execution_count": 118,
      "metadata": {
        "colab": {
          "base_uri": "https://localhost:8080/"
        },
        "id": "uwHk8h0y8ZBF",
        "outputId": "b66c53b0-5204-45ab-c6c2-ee8307dd17ea"
      },
      "outputs": [
        {
          "output_type": "stream",
          "name": "stderr",
          "text": [
            "/usr/local/lib/python3.7/dist-packages/ipykernel_launcher.py:17: RuntimeWarning: divide by zero encountered in arctanh\n"
          ]
        }
      ],
      "source": [
        "import numpy as np\n",
        "import matplotlib.pyplot as plt\n",
        "import math\n",
        "from numpy import exp\n",
        "\n",
        "# Método pseudoespectral a qeuação da onda em 1 dimensão\n",
        "\n",
        "\n",
        "# ttpsi - colpsi + dV/dpsi = 0;  unidimensional\n",
        "\n",
        "\n",
        "N = 22\n",
        "\n",
        "L0 = 1\n",
        "\n",
        "col = np.cos(np.arange(N)*math.pi / (N-1))     # pontos de colocação\n",
        "x = L0 * np.arctanh(col)                   # mapeamento   \n",
        "\n",
        "xcol = (1 - np.tanh(x/L0)**2)/L0              # dcol/dx\n",
        "\n",
        "\n",
        "# Matriz base (Polinômios de Tchebyshev):\n",
        "\n",
        "T = np.zeros([N+2,N])\n",
        "xT = np.zeros([N+2,N])\n",
        "colT = np.zeros([N+2,N])\n",
        "\n",
        "\n",
        "T[0,] = 1\n",
        "T[1,] = col\n",
        "\n",
        "for i in range(2,N+2):\n",
        "  T[i,] = 2*col*T[i-1,] - T[i-2,]\n",
        "\n",
        "# Derivada Matriz Base:\n",
        "\n",
        "colT[0,] = 0\n",
        "colT[1,] = 1\n",
        "\n",
        "xT[0,] = xcol*colT[0,]\n",
        "xT[1,] = xcol*colT[1,]\n",
        "\n",
        "for i in range(2, N+2):\n",
        "  colT[i,] = 2*col*colT[i-1,] + 2*T[i-1,] - colT[i-2,]\n",
        "\n",
        "xT[i,] = xcol*colT[i,]                                                    # colT[i,] = dT[i,]/dcol, xcol = dcol/dx\n",
        "\n",
        "\n",
        "psi = T[0:N,:]   \n",
        "xpsi = xT[0:N,:]\n",
        "\n",
        "\n",
        "# Condicoes iniciais\n",
        "\n",
        "u = (0.3)**(1/2)\n",
        "\n",
        "\n",
        "f_0 = np.exp(-((x)**2)/(u**2))              # dado inicial da  equação da onda\n",
        "\n",
        "\n",
        "\n",
        "inv_psi = np.linalg.inv(psi)\n",
        "  \n",
        "\n",
        "a0 = np.dot(f_0, inv_psi)  # coeficientes a(0)\n",
        "\n",
        "phi = np.dot(a0, psi)      # solução exata em t=0\n",
        "\n",
        "\n",
        "\n",
        "# Derivada temporal de psi para t = 0\n",
        "\n",
        "\n",
        "#dtf_0 = (2*(x))*(np.exp(-((x)**2)/u**2))/u**2 \n",
        "\n",
        "#da = np.dot(dtf_0, inv_psi)"
      ]
    },
    {
      "cell_type": "code",
      "source": [
        "# Plot: Condições Iniciais\n",
        "\n",
        "M = 3000\n",
        "\n",
        "xplot = np.linspace(-30,30,M)\n",
        "\n",
        "colplot = np.tanh(xplot/L0)\n",
        "\n",
        "Tplot = np.zeros([N+2,M])\n",
        "\n",
        "Tplot[0,] = 1\n",
        "Tplot[1,] = colplot\n",
        "\n",
        "\n",
        "for i in range(2,N+2):\n",
        "  Tplot[i,] = 2*colplot*Tplot[i-1,] - Tplot[i-2,]\n",
        "\n",
        "\n",
        "psiplot = Tplot[0:N,:] \n",
        "\n",
        "\n",
        "u = 0.3\n",
        "\n",
        "f_plot0 = np.exp(-((xplot)**2)/(u)**2)    \n",
        "\n",
        "#dtf_plot0 = (2*(xplot))*np.exp(-(xplot)**2/u**2)/u**2 \n",
        "\n",
        "phiplot = np.dot(a0, psiplot)\n",
        "\n",
        "erro = abs(phiplot - f_plot0)\n",
        "\n",
        "#dtphiplot = np.dot(da, psiplot)\n",
        "#da01 = np.dot(dtf_k0, inv_psi)\n",
        "\n",
        "#dtfplot = (1-np.tanh((xplot-x0)/np.sqrt(-u**2+1))**2)*u/np.sqrt(-u**2+1)\n",
        "\n",
        "#dtphiplot = np.dot(da01, psiplot)\n",
        "\n",
        "np.shape(f_plot0)"
      ],
      "metadata": {
        "colab": {
          "base_uri": "https://localhost:8080/"
        },
        "id": "vcZ-O7WOKfA8",
        "outputId": "12724caf-dee0-4e6b-f2ce-c9d947b70360"
      },
      "execution_count": 123,
      "outputs": [
        {
          "output_type": "execute_result",
          "data": {
            "text/plain": [
              "(3000,)"
            ]
          },
          "metadata": {},
          "execution_count": 123
        }
      ]
    },
    {
      "cell_type": "code",
      "source": [
        "plt.plot(colplot, phiplot, colplot, f_plot0, \"--r\")"
      ],
      "metadata": {
        "colab": {
          "base_uri": "https://localhost:8080/",
          "height": 302
        },
        "id": "tKKEdr_cLiHT",
        "outputId": "d1a569b5-81f7-435b-ecac-1c4c12e125ba"
      },
      "execution_count": 124,
      "outputs": [
        {
          "output_type": "execute_result",
          "data": {
            "text/plain": [
              "[<matplotlib.lines.Line2D at 0x7f366373e990>,\n",
              " <matplotlib.lines.Line2D at 0x7f366373eb90>]"
            ]
          },
          "metadata": {},
          "execution_count": 124
        },
        {
          "output_type": "display_data",
          "data": {
            "text/plain": [
              "<Figure size 432x288 with 1 Axes>"
            ],
            "image/png": "[encoded data removed]"
          },
          "metadata": {
            "needs_background": "light"
          }
        }
      ]
    },
    {
      "cell_type": "code",
      "source": [
        "plt.plot(colplot, erro)"
      ],
      "metadata": {
        "colab": {
          "base_uri": "https://localhost:8080/",
          "height": 283
        },
        "id": "sQa2LJ8CNXOC",
        "outputId": "d0520447-9311-4819-cf7c-9f910dd0ce81"
      },
      "execution_count": 125,
      "outputs": [
        {
          "output_type": "execute_result",
          "data": {
            "text/plain": [
              "[<matplotlib.lines.Line2D at 0x7f36636ace10>]"
            ]
          },
          "metadata": {},
          "execution_count": 125
        },
        {
          "output_type": "display_data",
          "data": {
            "text/plain": [
              "<Figure size 432x288 with 1 Axes>"
            ],
            "image/png": "[encoded data removed]"
          },
          "metadata": {
            "needs_background": "light"
          }
        }
      ]
    },
    {
      "cell_type": "code",
      "source": [
        "h = 0.01\n",
        "tf = 100\n",
        "\n",
        "It = int(tf/h)\n",
        "\n",
        "t = np.linspace(0, tf, It + 1)\n",
        "\n",
        "phi_set = np.zeros([It,M])\n",
        "\n",
        "phi0_set = np.zeros([0,It])\n",
        "\n",
        "#f_colisao = -1 + f_k - f_antik                   # solução da colisão do kink e antikink\n",
        "\n",
        "\n",
        "\n",
        "for i in range(It):  # Runge Kutta 4th order\n",
        "\n",
        "  phi = np.dot(a0, psi)\n",
        "  dda = np.dot(np.dot(a0, xxpsi), inv_psi) \n",
        "  L1 = h*(da)\n",
        "  K1 = h*(dda)\n",
        "\n",
        "  phi = np.dot(a0 + L1/2, psi)\n",
        "  dda = np.dot(np.dot(a0 + L1/2, xxpsi), inv_psi) \n",
        "  L2 = h*(da + K1/2)\n",
        "  K2 = h*(dda)\n",
        "\n",
        "  phi = np.dot(a0 + L2/2, psi)\n",
        "  dda = np.dot(np.dot(a0 + L2/2, xxpsi), inv_psi)  \n",
        "  L3 = h*(da + K2/2)\n",
        "  K3 = h*(dda)\n",
        "\n",
        "  phi = np.dot(a0 + L3, psi)\n",
        "  dda = np.dot(np.dot(a0 + L3, xxpsi), inv_psi) \n",
        "  L4 = h*(da + K3)\n",
        "  K4 = h*(dda) \n",
        "  \n",
        "  da = da + 1/6 * (K1 + 2*K2 + 2*K3 + K4)\n",
        "  a0 = a0 + 1/6 * (L1 + 2*L2 + 2*L3 + L4)\n",
        "  phi_set[i,:] = np.dot(a0, psiplot)"
      ],
      "metadata": {
        "colab": {
          "base_uri": "https://localhost:8080/",
          "height": 246
        },
        "id": "eI41xUXvNauB",
        "outputId": "5bc3528f-078a-46cb-d990-d26ed9a1a3cf"
      },
      "execution_count": 23,
      "outputs": [
        {
          "output_type": "error",
          "ename": "NameError",
          "evalue": "ignored",
          "traceback": [
            "\u001b[0;31m---------------------------------------------------------------------------\u001b[0m",
            "\u001b[0;31mNameError\u001b[0m                                 Traceback (most recent call last)",
            "\u001b[0;32m<ipython-input-23-13624ca2e5ff>\u001b[0m in \u001b[0;36m<module>\u001b[0;34m()\u001b[0m\n\u001b[1;32m     17\u001b[0m \u001b[0;34m\u001b[0m\u001b[0m\n\u001b[1;32m     18\u001b[0m   \u001b[0mphi\u001b[0m \u001b[0;34m=\u001b[0m \u001b[0mnp\u001b[0m\u001b[0;34m.\u001b[0m\u001b[0mdot\u001b[0m\u001b[0;34m(\u001b[0m\u001b[0ma0\u001b[0m\u001b[0;34m,\u001b[0m \u001b[0mpsi\u001b[0m\u001b[0;34m)\u001b[0m\u001b[0;34m\u001b[0m\u001b[0;34m\u001b[0m\u001b[0m\n\u001b[0;32m---> 19\u001b[0;31m   \u001b[0mdda\u001b[0m \u001b[0;34m=\u001b[0m \u001b[0mnp\u001b[0m\u001b[0;34m.\u001b[0m\u001b[0mdot\u001b[0m\u001b[0;34m(\u001b[0m\u001b[0mnp\u001b[0m\u001b[0;34m.\u001b[0m\u001b[0mdot\u001b[0m\u001b[0;34m(\u001b[0m\u001b[0ma0\u001b[0m\u001b[0;34m,\u001b[0m \u001b[0mxxpsi\u001b[0m\u001b[0;34m)\u001b[0m\u001b[0;34m,\u001b[0m \u001b[0minv_psi\u001b[0m\u001b[0;34m)\u001b[0m\u001b[0;34m\u001b[0m\u001b[0;34m\u001b[0m\u001b[0m\n\u001b[0m\u001b[1;32m     20\u001b[0m   \u001b[0mL1\u001b[0m \u001b[0;34m=\u001b[0m \u001b[0mh\u001b[0m\u001b[0;34m*\u001b[0m\u001b[0;34m(\u001b[0m\u001b[0mda\u001b[0m\u001b[0;34m)\u001b[0m\u001b[0;34m\u001b[0m\u001b[0;34m\u001b[0m\u001b[0m\n\u001b[1;32m     21\u001b[0m   \u001b[0mK1\u001b[0m \u001b[0;34m=\u001b[0m \u001b[0mh\u001b[0m\u001b[0;34m*\u001b[0m\u001b[0;34m(\u001b[0m\u001b[0mdda\u001b[0m\u001b[0;34m)\u001b[0m\u001b[0;34m\u001b[0m\u001b[0;34m\u001b[0m\u001b[0m\n",
            "\u001b[0;31mNameError\u001b[0m: name 'xxpsi' is not defined"
          ]
        }
      ]
    }
  ]
}