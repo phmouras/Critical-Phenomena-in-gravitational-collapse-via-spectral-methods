{
  "nbformat": 4,
  "nbformat_minor": 0,
  "metadata": {
    "colab": {
      "name": "Eq_onda_matrix.ipynb",
      "provenance": [],
      "authorship_tag": "ABX9TyMQ0Otg7sv08EEYAGt38E/6",
      "include_colab_link": true
    },
    "kernelspec": {
      "name": "python3",
      "display_name": "Python 3"
    },
    "language_info": {
      "name": "python"
    }
  },
  "cells": [
    {
      "cell_type": "markdown",
      "metadata": {
        "id": "view-in-github",
        "colab_type": "text"
      },
      "source": [
        "<a href=\"https://colab.research.google.com/github/phmouras/Projeto_Pos/blob/main/Eq_onda_matrix.ipynb\" target=\"_parent\"><img src=\"https://colab.research.google.com/assets/colab-badge.svg\" alt=\"Open In Colab\"/></a>"
      ]
    },
    {
      "cell_type": "code",
      "execution_count": 45,
      "metadata": {
        "colab": {
          "base_uri": "https://localhost:8080/"
        },
        "id": "uwHk8h0y8ZBF",
        "outputId": "f0df44b2-6db6-4a86-a5dd-d2666d22595c"
      },
      "outputs": [
        {
          "output_type": "stream",
          "name": "stderr",
          "text": [
            "/usr/local/lib/python3.7/dist-packages/ipykernel_launcher.py:17: RuntimeWarning: divide by zero encountered in arctanh\n"
          ]
        }
      ],
      "source": [
        "import numpy as np\n",
        "import matplotlib.pyplot as plt\n",
        "import math\n",
        "from numpy import exp\n",
        "\n",
        "# Método pseudoespectral a qeuação da onda em 1 dimensão\n",
        "\n",
        "\n",
        "# tpsi + colpsi = 0;  unidimensional\n",
        "\n",
        "\n",
        "N = 300\n",
        "\n",
        "L0 = 10\n",
        "\n",
        "col = np.cos(np.arange(N)*math.pi / (N-1))     # pontos de colocação\n",
        "x = L0 * np.arctanh(col)                   # mapeamento   \n",
        "\n",
        "xcol = (1 - np.tanh(x/L0)**2)/L0              # dcol/dx\n",
        "\n",
        "\n",
        "# Matriz base (Polinômios de Tchebyshev):\n",
        "\n",
        "T = np.zeros([N+2,N])\n",
        "xT = np.zeros([N+2,N])\n",
        "colT = np.zeros([N+2,N])\n",
        "\n",
        "\n",
        "T[0,] = 1\n",
        "T[1,] = col\n",
        "\n",
        "for i in range(2,N+2):\n",
        "  T[i,] = 2*col*T[i-1,] - T[i-2,]\n",
        "\n",
        "# Derivada Matriz Base:\n",
        "\n",
        "colT[0,] = 0\n",
        "colT[1,] = 1\n",
        "\n",
        "xT[0,] = xcol*colT[0,]\n",
        "xT[1,] = xcol*colT[1,]\n",
        "\n",
        "for i in range(2, N+2):\n",
        "  colT[i,] = 2*col*colT[i-1,] + 2*T[i-1,] - colT[i-2,]\n",
        "\n",
        "xT[i,] = xcol*colT[i,]                                                    # colT[i,] = dT[i,]/dcol, xcol = dcol/dx\n",
        "\n",
        "\n",
        "psi = T[0:N,:]   \n",
        "xpsi = xT[0:N,:]\n",
        "\n",
        "\n",
        "# Condicoes iniciais\n",
        "\n",
        "u = (0.3)**(1/2)\n",
        "\n",
        "\n",
        "f_0 = np.exp(-(x**2)/(u**2))              # dado inicial da  equação da onda\n",
        "\n",
        "\n",
        "\n",
        "inv_psi = np.linalg.inv(psi)\n",
        "  \n",
        "\n",
        "a0 = np.dot(f_0, inv_psi)  # coeficientes a(0)\n",
        "\n",
        "phi = np.dot(a0, psi)      # solução exata em t=0\n",
        "\n",
        "\n",
        "\n"
      ]
    },
    {
      "cell_type": "code",
      "source": [
        "# Plot: Condições Iniciais\n",
        "\n",
        "M = 3000\n",
        "\n",
        "xplot = np.linspace(-30,30,M)\n",
        "\n",
        "colplot = np.tanh(xplot/L0)\n",
        "\n",
        "Tplot = np.zeros([N+2,M])\n",
        "\n",
        "Tplot[0,] = 1\n",
        "Tplot[1,] = colplot\n",
        "\n",
        "\n",
        "for i in range(2,N+2):\n",
        "  Tplot[i,] = 2*colplot*Tplot[i-1,] - Tplot[i-2,]\n",
        "\n",
        "\n",
        "psiplot = Tplot[0:N,:] \n",
        "\n",
        "\n",
        "f_plot0 = np.exp(-((xplot)**2)/(u)**2)    \n",
        "\n",
        "#dtf_plot0 = (2*(xplot))*np.exp(-(xplot)**2/u**2)/u**2 \n",
        "\n",
        "phiplot = np.dot(a0, psiplot)\n",
        "\n",
        "erro = abs(phiplot - f_plot0)\n",
        "\n",
        "#dtphiplot = np.dot(da, psiplot)\n",
        "#da01 = np.dot(dtf_k0, inv_psi)\n",
        "\n",
        "#dtfplot = (1-np.tanh((xplot-x0)/np.sqrt(-u**2+1))**2)*u/np.sqrt(-u**2+1)\n",
        "\n",
        "#dtphiplot = np.dot(da01, psiplot)\n",
        "\n",
        "np.shape(f_plot0)"
      ],
      "metadata": {
        "colab": {
          "base_uri": "https://localhost:8080/"
        },
        "id": "vcZ-O7WOKfA8",
        "outputId": "228bf479-d8c4-4564-d384-aeb33590afb9"
      },
      "execution_count": 46,
      "outputs": [
        {
          "output_type": "execute_result",
          "data": {
            "text/plain": [
              "(3000,)"
            ]
          },
          "metadata": {},
          "execution_count": 46
        }
      ]
    },
    {
      "cell_type": "code",
      "source": [
        "plt.plot(colplot, phiplot, colplot, f_plot0, \"--r\")"
      ],
      "metadata": {
        "colab": {
          "base_uri": "https://localhost:8080/",
          "height": 300
        },
        "id": "tKKEdr_cLiHT",
        "outputId": "b76cecb6-b91b-424d-d692-93886a8d4af5"
      },
      "execution_count": 18,
      "outputs": [
        {
          "output_type": "execute_result",
          "data": {
            "text/plain": [
              "[<matplotlib.lines.Line2D at 0x7fd056bb69d0>,\n",
              " <matplotlib.lines.Line2D at 0x7fd056c5a110>]"
            ]
          },
          "metadata": {},
          "execution_count": 18
        },
        {
          "output_type": "display_data",
          "data": {
            "text/plain": [
              "<Figure size 432x288 with 1 Axes>"
            ],
            "image/png": "[encoded data removed]"
          },
          "metadata": {
            "needs_background": "light"
          }
        }
      ]
    },
    {
      "cell_type": "code",
      "source": [
        "plt.plot(colplot, erro)"
      ],
      "metadata": {
        "colab": {
          "base_uri": "https://localhost:8080/",
          "height": 293
        },
        "id": "sQa2LJ8CNXOC",
        "outputId": "2250b0be-283b-4e70-c52a-948e7d73ec77"
      },
      "execution_count": 19,
      "outputs": [
        {
          "output_type": "execute_result",
          "data": {
            "text/plain": [
              "[<matplotlib.lines.Line2D at 0x7fd0574ee990>]"
            ]
          },
          "metadata": {},
          "execution_count": 19
        },
        {
          "output_type": "display_data",
          "data": {
            "text/plain": [
              "<Figure size 432x288 with 1 Axes>"
            ],
            "image/png": "[encoded data removed]"
          },
          "metadata": {
            "needs_background": "light"
          }
        }
      ]
    },
    {
      "cell_type": "code",
      "source": [
        ""
      ],
      "metadata": {
        "id": "TaDV0Oxn_rMu"
      },
      "execution_count": null,
      "outputs": []
    },
    {
      "cell_type": "code",
      "source": [
        "h = 0.01\n",
        "tf = 100\n",
        "\n",
        "It = int(tf/h)\n",
        "\n",
        "t = np.linspace(0, tf, It + 1)\n",
        "\n",
        "phi_set = np.zeros([It,M])\n",
        "\n",
        "#phi0_set = np.zeros([0,It])\n",
        "\n",
        "#f_colisao = -1 + f_k - f_antik                   # solução da colisão do kink e antikink\n",
        "\n",
        "\n",
        "\n",
        "for i in range(It):  # Runge Kutta 4th order\n",
        "\n",
        "  da = np.dot(- np.dot(a0, xpsi), inv_psi) \n",
        "  K1 = h*(da)\n",
        "\n",
        "  da = np.dot(- np.dot(a0 + K1/2, xpsi), inv_psi) \n",
        "  K2 = h*(da)\n",
        "\n",
        "  da = np.dot(- np.dot(a0 + K2/2, xpsi), inv_psi)  \n",
        "  K3 = h*(da)\n",
        "\n",
        "  da = np.dot(- np.dot(a0 + K3, xpsi), inv_psi) \n",
        "  K4 = h*(da)\n",
        "  \n",
        "  a0 = a0 + 1/6 * (K1 + 2*K2 + 2*K3 + K4)\n",
        "  phi_set[i,:] = np.dot(a0, psiplot)"
      ],
      "metadata": {
        "id": "eI41xUXvNauB"
      },
      "execution_count": 47,
      "outputs": []
    },
    {
      "cell_type": "code",
      "source": [
        ""
      ],
      "metadata": {
        "id": "aeKHtX9i-tM_",
        "outputId": "91565451-6f38-4e47-ee66-a923d1b3a9ee",
        "colab": {
          "base_uri": "https://localhost:8080/"
        }
      },
      "execution_count": 50,
      "outputs": [
        {
          "output_type": "execute_result",
          "data": {
            "text/plain": [
              "array([-4.00464124e-19, -3.24451135e-35,  4.00464124e-19,  5.51894598e-36,\n",
              "        1.10834424e-34,  3.41642739e-35, -1.17580292e-34, -6.34678787e-35,\n",
              "        2.57127634e-34, -1.72705099e-34,  5.85690060e-35, -2.81560284e-35,\n",
              "       -7.90843212e-35, -8.10033157e-35,  1.42851951e-35, -8.49515074e-35,\n",
              "       -1.00122731e-34,  1.32745638e-34,  9.34224135e-36, -3.96597100e-35,\n",
              "       -1.24010246e-34,  2.10002066e-35, -2.55978589e-35,  8.20641994e-36,\n",
              "       -1.16741283e-36,  1.81094456e-34, -6.97751406e-35, -6.44222332e-35,\n",
              "       -2.43275903e-35, -8.95403434e-35,  1.33616973e-35,  4.35821877e-35,\n",
              "        5.37862134e-36, -7.02783991e-35, -6.40666462e-35, -4.18049872e-35,\n",
              "        1.24925662e-34, -1.90175884e-34, -1.30604769e-35, -1.72430328e-36,\n",
              "       -1.00365912e-34,  6.24848716e-36, -2.04543364e-35, -3.56149074e-35,\n",
              "        4.66965131e-36,  6.00060479e-35,  8.66765453e-35, -3.82351578e-35,\n",
              "       -7.11394487e-35,  1.06796601e-34,  4.51154732e-35,  5.05339511e-35,\n",
              "        1.20580006e-35, -2.70988182e-36, -1.72490939e-35, -1.74621523e-35,\n",
              "        5.20859710e-35,  3.85286641e-35,  4.39722131e-35, -1.90454880e-35,\n",
              "        1.87062477e-35, -4.01306425e-35,  1.65689602e-35,  7.60739536e-35,\n",
              "       -4.78128654e-35, -9.07184092e-35,  3.16777360e-35, -5.47240375e-35,\n",
              "        4.31626832e-36,  1.97012853e-35,  7.55214713e-35,  1.15955171e-35,\n",
              "        3.22144227e-35, -2.40069007e-35,  6.02492283e-35, -2.04580098e-35,\n",
              "       -6.27691943e-35, -6.93578401e-35, -1.60278655e-35,  1.71342995e-35,\n",
              "       -1.24293099e-34, -1.16080067e-37,  4.60646849e-36,  5.53363966e-36,\n",
              "        7.26528977e-35,  6.81801417e-35, -9.41056696e-36, -9.40248544e-36,\n",
              "       -2.43665285e-35,  6.46257407e-35,  1.70123420e-35, -5.04823396e-35,\n",
              "       -7.26484896e-35, -5.14073067e-35,  4.87955052e-35,  4.60742358e-35,\n",
              "       -2.09583296e-35, -5.10583318e-35, -6.71354211e-36, -2.14953836e-35,\n",
              "       -1.83810582e-35,  3.71955800e-35, -4.36549215e-36,  1.38289564e-35,\n",
              "        3.17927141e-35, -4.61396226e-35,  8.05992395e-35, -3.66768931e-35,\n",
              "        3.11138661e-36,  5.32697306e-35,  4.28107696e-35, -1.15455586e-35,\n",
              "       -3.59282501e-35, -9.39073050e-35,  1.24675870e-35,  3.54999294e-35,\n",
              "       -1.51506528e-35, -4.82084927e-35,  5.83860697e-35,  5.03816879e-35,\n",
              "       -3.44287602e-35, -3.76672471e-36,  3.32576739e-35, -3.16428386e-35,\n",
              "       -6.53824652e-35,  4.36931250e-35, -8.27033744e-36, -9.73162386e-36,\n",
              "       -7.25133078e-36,  1.50235525e-35,  1.50154710e-35, -4.12510355e-35,\n",
              "       -7.59075477e-36,  4.97292885e-35, -6.48270441e-35,  3.61464513e-36,\n",
              "       -9.01016420e-36,  4.15551947e-35,  9.33636388e-36, -2.86188793e-35,\n",
              "        2.86673685e-36,  8.05933621e-35, -6.73830096e-35,  9.61076834e-35,\n",
              "       -4.03095380e-35,  5.95645028e-36,  2.33996844e-37,  1.12340526e-34,\n",
              "       -5.24030316e-35, -2.71983571e-35,  1.39229959e-35,  3.68726864e-35,\n",
              "        2.95196019e-36, -2.59754864e-35,  2.84746976e-35,  1.16188433e-35,\n",
              "        1.73515823e-35, -8.68782161e-36,  1.88920309e-35, -1.51052861e-35,\n",
              "       -2.74790172e-35,  4.59537476e-35,  3.53371969e-35,  3.23764205e-35,\n",
              "       -3.03567743e-35, -1.97923861e-36,  1.30598892e-34, -3.46175739e-35,\n",
              "       -2.01344550e-34, -2.92698093e-36,  4.39969168e-35,  2.92731154e-35,\n",
              "        7.15303006e-35, -2.86706746e-35,  3.35556985e-34,  3.06517499e-35,\n",
              "        2.95272426e-34,  2.71054304e-35, -2.23564332e-34,  2.55923487e-35,\n",
              "       -3.97486068e-35,  2.73199581e-35,  1.35087811e-34, -2.35749065e-35,\n",
              "       -1.21700400e-35,  1.62732499e-37,  4.04770459e-35,  4.11217311e-35,\n",
              "       -2.16294634e-35, -7.58362834e-35, -4.37482263e-35,  8.18452635e-35,\n",
              "        3.10242347e-35,  3.93364491e-35, -1.93750856e-35,  3.49731610e-35,\n",
              "        6.03102070e-35,  4.27115872e-35, -6.68709349e-36,  3.26567024e-36,\n",
              "        3.33517135e-35, -2.89039367e-35,  2.15453421e-35, -4.49185779e-36,\n",
              "       -1.80541239e-35, -1.79997572e-35, -1.08762615e-35, -4.00189705e-35,\n",
              "       -2.14601187e-35,  6.91704957e-36, -2.61804632e-35,  2.11206947e-35,\n",
              "        6.14776199e-35,  3.40966830e-36,  3.71088873e-36, -3.25413571e-35,\n",
              "        3.54653992e-35,  2.31895648e-35,  2.38551885e-36, -7.36961490e-36,\n",
              "        2.06747416e-35,  4.80571478e-35,  5.16842826e-35, -3.33091018e-35,\n",
              "        6.07436706e-36,  6.84600563e-35,  1.47487807e-36, -5.50652982e-35,\n",
              "       -3.61762060e-35, -3.84922972e-35, -2.47562784e-35, -6.53060580e-36,\n",
              "       -2.37842915e-35,  2.44208951e-35, -1.26090136e-35,  1.68080998e-35,\n",
              "       -8.69241338e-36,  2.17499516e-35,  1.16227004e-36, -1.87785223e-36,\n",
              "        2.81303145e-35,  6.44670489e-35,  1.75725385e-35,  5.88243087e-36,\n",
              "       -2.90703426e-35, -7.87764886e-36, -1.81668978e-36,  2.48082573e-35,\n",
              "       -2.13056514e-35, -5.68232132e-35,  2.15013529e-35,  7.66183544e-36,\n",
              "       -3.03527335e-35,  7.62142783e-36, -9.15122352e-36, -1.18658808e-35,\n",
              "        1.03101875e-35, -1.52531412e-35,  2.29087319e-35,  6.77396987e-36,\n",
              "        1.04374715e-35,  3.79890387e-35, -1.65230425e-36, -1.24330568e-35,\n",
              "       -1.18012286e-35,  1.22593041e-35, -1.61072113e-35,  2.43643245e-35,\n",
              "        3.12512520e-35, -6.64521650e-36, -3.14132498e-35,  4.60297874e-35,\n",
              "       -2.75822403e-35, -4.46717241e-35,  6.33033095e-35,  1.32232094e-35,\n",
              "        2.48135837e-35, -3.04544872e-35, -1.54368122e-35,  1.99731184e-35,\n",
              "        1.92193326e-35, -1.98239775e-35, -3.20083438e-35,  1.53001610e-35,\n",
              "       -1.16958014e-35, -3.31272675e-35,  3.09985207e-35,  1.92663524e-35,\n",
              "        1.22743651e-35, -2.34893159e-35,  8.49360790e-35,  1.62996985e-35,\n",
              "       -1.14904573e-35, -3.58988628e-35,  2.99001682e-35,  4.45247873e-35,\n",
              "       -3.46359410e-35, -2.50732945e-35,  3.34924054e-36, -5.09181449e-35])"
            ]
          },
          "metadata": {},
          "execution_count": 50
        }
      ]
    },
    {
      "cell_type": "code",
      "source": [
        "plt.plot(phi_set[i,:])\n",
        "plt.ylim((0, 1))\n"
      ],
      "metadata": {
        "colab": {
          "base_uri": "https://localhost:8080/",
          "height": 286
        },
        "id": "BvqpgohqEHBi",
        "outputId": "0455faea-31f9-4c93-a09f-9a7cddc6e9c5"
      },
      "execution_count": 25,
      "outputs": [
        {
          "output_type": "execute_result",
          "data": {
            "text/plain": [
              "(0.0, 1.0)"
            ]
          },
          "metadata": {},
          "execution_count": 25
        },
        {
          "output_type": "display_data",
          "data": {
            "text/plain": [
              "<Figure size 432x288 with 1 Axes>"
            ],
            "image/png": "[encoded data removed]"
          },
          "metadata": {
            "needs_background": "light"
          }
        }
      ]
    },
    {
      "cell_type": "code",
      "source": [
        "tplot = np.arange(101)\n",
        "\n",
        "#plt.plot(tplot, phi_set[i])\n"
      ],
      "metadata": {
        "colab": {
          "base_uri": "https://localhost:8080/"
        },
        "id": "GamtE_TXr1pa",
        "outputId": "fb6d64f7-47d9-40c0-cbe0-db8aae5c82c5"
      },
      "execution_count": 15,
      "outputs": [
        {
          "output_type": "execute_result",
          "data": {
            "text/plain": [
              "array([ 0,  1,  2,  3,  4,  5,  6,  7,  8,  9, 10, 11, 12, 13, 14, 15, 16,\n",
              "       17, 18, 19, 20, 21, 22, 23, 24, 25, 26, 27, 28, 29, 30, 31, 32, 33,\n",
              "       34, 35, 36, 37, 38, 39, 40, 41, 42, 43, 44, 45, 46, 47, 48, 49, 50,\n",
              "       51, 52, 53, 54, 55, 56, 57, 58, 59, 60, 61, 62, 63, 64, 65, 66, 67,\n",
              "       68, 69, 70, 71, 72, 73, 74, 75, 76, 77, 78, 79, 80, 81, 82, 83, 84,\n",
              "       85, 86, 87, 88, 89, 90, 91, 92, 93, 94, 95, 96, 97, 98, 99])"
            ]
          },
          "metadata": {},
          "execution_count": 15
        }
      ]
    }
  ]
}