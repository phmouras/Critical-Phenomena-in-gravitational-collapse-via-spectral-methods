{
  "nbformat": 4,
  "nbformat_minor": 0,
  "metadata": {
    "colab": {
      "name": "Eq_onda_matrix.ipynb",
      "provenance": [],
      "authorship_tag": "ABX9TyPvv2wUUtdYYuck5cNvwP2T",
      "include_colab_link": true
    },
    "kernelspec": {
      "name": "python3",
      "display_name": "Python 3"
    },
    "language_info": {
      "name": "python"
    }
  },
  "cells": [
    {
      "cell_type": "markdown",
      "metadata": {
        "id": "view-in-github",
        "colab_type": "text"
      },
      "source": [
        "<a href=\"https://colab.research.google.com/github/phmouras/Projeto_Pos/blob/main/Eq_onda_matrix.ipynb\" target=\"_parent\"><img src=\"https://colab.research.google.com/assets/colab-badge.svg\" alt=\"Open In Colab\"/></a>"
      ]
    },
    {
      "cell_type": "code",
      "execution_count": 112,
      "metadata": {
        "colab": {
          "base_uri": "https://localhost:8080/"
        },
        "id": "uwHk8h0y8ZBF",
        "outputId": "31ff8b42-7000-4993-d58b-447944d0270d"
      },
      "outputs": [
        {
          "output_type": "stream",
          "name": "stderr",
          "text": [
            "/usr/local/lib/python3.7/dist-packages/ipykernel_launcher.py:18: RuntimeWarning: divide by zero encountered in true_divide\n"
          ]
        }
      ],
      "source": [
        "import numpy as np\n",
        "import matplotlib.pyplot as plt\n",
        "import math\n",
        "from numpy import exp\n",
        "\n",
        "# Método pseudoespectral a qeuação da onda em 1 dimensão\n",
        "\n",
        "\n",
        "# tpsi + colpsi = 0;  unidimensional\n",
        "\n",
        "\n",
        "N = 200\n",
        "\n",
        "L0 = 10\n",
        "\n",
        "col = np.cos(np.arange(N)*math.pi / (N-1))     # pontos de colocação\n",
        "\n",
        "x = L0 * (col/(np.sqrt(1-col**2)))                   # mapeamento   \n",
        "\n",
        "xcol = 2*L0**2/((L0**2/x**2-1)**2*x**3)             # dcol/dx\n",
        "\n",
        "\n",
        "# Matriz base (Polinômios de Tchebyshev):\n",
        "\n",
        "T = np.zeros([N+2,N])\n",
        "xT = np.zeros([N+2,N])\n",
        "colT = np.zeros([N+2,N])\n",
        "\n",
        "\n",
        "T[0,] = 1\n",
        "T[1,] = col\n",
        "\n",
        "for i in range(2,N+2):\n",
        "  T[i,] = 2*col*T[i-1,] - T[i-2,]\n",
        "\n",
        "# Derivada Matriz Base:\n",
        "\n",
        "colT[0,] = 0\n",
        "colT[1,] = 1\n",
        "\n",
        "xT[0,] = xcol*colT[0,]\n",
        "xT[1,] = xcol*colT[1,]\n",
        "\n",
        "for i in range(2, N+2):\n",
        "  colT[i,] = 2*col*colT[i-1,] + 2*T[i-1,] - colT[i-2,]\n",
        "  xT[i,] = xcol*colT[i,]                                                    # colT[i,] = dT[i,]/dcol, xcol = dcol/dx\n",
        "\n",
        "\n",
        "psi = T[0:N,:]   \n",
        "xpsi = xT[0:N,:]\n",
        "\n",
        "\n",
        "# Condicoes iniciais\n",
        "\n",
        "u = (0.3)**(1/2)\n",
        "\n",
        "\n",
        "f_0 = np.exp(-(x**2)/(u**2))              # dado inicial da  equação da onda\n",
        "\n",
        "\n",
        "\n",
        "inv_psi = np.linalg.inv(psi)\n",
        "  \n",
        "\n",
        "a0 = np.dot(f_0, inv_psi)  # coeficientes a(0)\n",
        "\n",
        "phi = np.dot(a0, psi)      # solução exata em t=0\n",
        "\n",
        "\n",
        "\n"
      ]
    },
    {
      "cell_type": "code",
      "source": [
        "f_0"
      ],
      "metadata": {
        "colab": {
          "base_uri": "https://localhost:8080/"
        },
        "id": "csL9JvFldsPn",
        "outputId": "004dbbce-d1f7-4d12-d21a-cab5e273a11a"
      },
      "execution_count": null,
      "outputs": [
        {
          "output_type": "execute_result",
          "data": {
            "text/plain": [
              "array([0.00000000e+00, 1.02776595e-52, 5.20858765e-13, 1.14024066e-05,\n",
              "       4.07709580e-03, 5.93205903e-02, 2.41035355e-01, 5.26579942e-01,\n",
              "       8.07543094e-01, 9.77372689e-01, 9.77372689e-01, 8.07543094e-01,\n",
              "       5.26579942e-01, 2.41035355e-01, 5.93205903e-02, 4.07709580e-03,\n",
              "       1.14024066e-05, 5.20858765e-13, 1.02776595e-52, 0.00000000e+00])"
            ]
          },
          "metadata": {},
          "execution_count": 54
        }
      ]
    },
    {
      "cell_type": "code",
      "source": [
        "# Plot: Condições Iniciais\n",
        "\n",
        "M = 3000\n",
        "\n",
        "xplot = np.linspace(-30,30,M)\n",
        "\n",
        "colplot = np.tanh(xplot/L0)\n",
        "\n",
        "Tplot = np.zeros([N+2,M])\n",
        "\n",
        "Tplot[0,] = 1\n",
        "Tplot[1,] = colplot\n",
        "\n",
        "\n",
        "for i in range(2,N+2):\n",
        "  Tplot[i,] = 2*colplot*Tplot[i-1,] - Tplot[i-2,]\n",
        "\n",
        "\n",
        "psiplot = Tplot[0:N,:] \n",
        "\n",
        "\n",
        "f_plot0 = np.exp(-((xplot)**2)/(u)**2)    \n",
        "\n",
        "#dtf_plot0 = (2*(xplot))*np.exp(-(xplot)**2/u**2)/u**2 \n",
        "\n",
        "phiplot = np.dot(a0, psiplot)\n",
        "\n",
        "erro = abs(phiplot - f_plot0)\n",
        "\n",
        "#dtphiplot = np.dot(da, psiplot)\n",
        "#da01 = np.dot(dtf_k0, inv_psi)\n",
        "\n",
        "#dtfplot = (1-np.tanh((xplot-x0)/np.sqrt(-u**2+1))**2)*u/np.sqrt(-u**2+1)\n",
        "\n",
        "#dtphiplot = np.dot(da01, psiplot)\n",
        "\n",
        "np.shape(f_plot0)"
      ],
      "metadata": {
        "colab": {
          "base_uri": "https://localhost:8080/"
        },
        "id": "vcZ-O7WOKfA8",
        "outputId": "db9c957d-8b15-42bd-9a6a-055a2b672e59"
      },
      "execution_count": 113,
      "outputs": [
        {
          "output_type": "execute_result",
          "data": {
            "text/plain": [
              "(3000,)"
            ]
          },
          "metadata": {},
          "execution_count": 113
        }
      ]
    },
    {
      "cell_type": "code",
      "source": [
        "plt.plot(colplot, phiplot, colplot, f_plot0, \"--r\")"
      ],
      "metadata": {
        "colab": {
          "base_uri": "https://localhost:8080/",
          "height": 302
        },
        "id": "tKKEdr_cLiHT",
        "outputId": "d3fa4b30-f59c-4de7-96dd-a30bc5fedc0e"
      },
      "execution_count": 114,
      "outputs": [
        {
          "output_type": "execute_result",
          "data": {
            "text/plain": [
              "[<matplotlib.lines.Line2D at 0x7fa06eb42890>,\n",
              " <matplotlib.lines.Line2D at 0x7fa06eb42ad0>]"
            ]
          },
          "metadata": {},
          "execution_count": 114
        },
        {
          "output_type": "display_data",
          "data": {
            "text/plain": [
              "<Figure size 432x288 with 1 Axes>"
            ],
            "image/png": "[encoded data removed]"
          },
          "metadata": {
            "needs_background": "light"
          }
        }
      ]
    },
    {
      "cell_type": "code",
      "source": [
        "plt.plot(colplot, erro)"
      ],
      "metadata": {
        "colab": {
          "base_uri": "https://localhost:8080/",
          "height": 283
        },
        "id": "sQa2LJ8CNXOC",
        "outputId": "c77fdffe-5ac6-462c-ab14-69b4df5b7bf6"
      },
      "execution_count": 115,
      "outputs": [
        {
          "output_type": "execute_result",
          "data": {
            "text/plain": [
              "[<matplotlib.lines.Line2D at 0x7fa06ee01dd0>]"
            ]
          },
          "metadata": {},
          "execution_count": 115
        },
        {
          "output_type": "display_data",
          "data": {
            "text/plain": [
              "<Figure size 432x288 with 1 Axes>"
            ],
            "image/png": "[encoded data removed]"
          },
          "metadata": {
            "needs_background": "light"
          }
        }
      ]
    },
    {
      "cell_type": "code",
      "source": [
        "h = 0.01\n",
        "tf = 100\n",
        "\n",
        "It = int(tf/h)\n",
        "\n",
        "t = np.linspace(0, tf, It)\n",
        "\n",
        "phi_set = np.zeros([It,M])\n",
        "\n",
        "#phi0_set = np.zeros([0,It])\n",
        "\n",
        "for i in range(It):  # Runge Kutta 4th order\n",
        "\n",
        "  da = np.dot(- np.dot(a0, xpsi), inv_psi) \n",
        "  K1 = h*(da)\n",
        "\n",
        "  da = np.dot(- np.dot(a0 + K1/2, xpsi), inv_psi) \n",
        "  K2 = h*(da)\n",
        "\n",
        "  da = np.dot(- np.dot(a0 + K2/2, xpsi), inv_psi)  \n",
        "  K3 = h*(da)\n",
        "\n",
        "  da = np.dot(- np.dot(a0 + K3, xpsi), inv_psi) \n",
        "  K4 = h*(da)\n",
        "  \n",
        "  a0 = a0 + 1/6 * (K1 + 2*K2 + 2*K3 + K4)\n",
        "  phi_set[i,:] = np.dot(a0, psiplot)\n",
        "\n",
        "\n"
      ],
      "metadata": {
        "id": "eI41xUXvNauB"
      },
      "execution_count": 116,
      "outputs": []
    },
    {
      "cell_type": "code",
      "source": [
        "psiplot"
      ],
      "metadata": {
        "id": "nPfodumQNoMo",
        "outputId": "d5f3d34d-af59-4de3-ffe6-337aae7e95d5",
        "colab": {
          "base_uri": "https://localhost:8080/"
        }
      },
      "execution_count": 117,
      "outputs": [
        {
          "output_type": "execute_result",
          "data": {
            "text/plain": [
              "array([[ 1.        ,  1.        ,  1.        , ...,  1.        ,\n",
              "         1.        ,  1.        ],\n",
              "       [-0.99505475, -0.99503498, -0.99501512, ...,  0.99501512,\n",
              "         0.99503498,  0.99505475],\n",
              "       [ 0.98026793,  0.98018921,  0.98011017, ...,  0.98011017,\n",
              "         0.98018921,  0.98026793],\n",
              "       ...,\n",
              "       [-0.73143985, -0.70416313, -0.67574764, ...,  0.67574764,\n",
              "         0.70416313,  0.73143985],\n",
              "       [ 0.66009039,  0.62999977,  0.59886913, ...,  0.59886913,\n",
              "         0.62999977,  0.66009039],\n",
              "       [-0.58221231, -0.54958049, -0.51602003, ...,  0.51602003,\n",
              "         0.54958049,  0.58221231]])"
            ]
          },
          "metadata": {},
          "execution_count": 117
        }
      ]
    },
    {
      "cell_type": "code",
      "source": [
        "for i in range(It):\n",
        "  plt.plot(phi_set[i,:])"
      ],
      "metadata": {
        "id": "rnX-0iP0fN3O",
        "outputId": "acf1d34a-4c24-4bb4-bbcd-fe6637557ee1",
        "colab": {
          "base_uri": "https://localhost:8080/",
          "height": 276
        }
      },
      "execution_count": 118,
      "outputs": [
        {
          "output_type": "display_data",
          "data": {
            "text/plain": [
              "<Figure size 432x288 with 1 Axes>"
            ],
            "image/png": "[encoded data removed]"
          },
          "metadata": {
            "needs_background": "light"
          }
        }
      ]
    },
    {
      "cell_type": "code",
      "source": [
        "# Animation plot\n",
        "\n",
        "from matplotlib.animation import FuncAnimation\n",
        "from IPython.display import HTML\n",
        "\n",
        "fig = plt.figure()\n",
        "ax = plt.axes(xlim=(-15, 15), ylim=(-2, 2))\n",
        "line, = ax.plot([], [], lw=2)\n",
        "\n",
        "x = xplot\n",
        "\n",
        "def init():\n",
        "    line.set_data([], [])\n",
        "    return line,\n",
        "\n",
        "def animate(i):\n",
        "  y = phi_set[i,:]\n",
        "  line.set_data(x, y)\n",
        "  return line,\n",
        "\n",
        "anim = FuncAnimation(fig, animate, init_func=init,\n",
        "                               frames=2000, interval=2, blit=True)\n",
        "\n",
        "HTML(anim.to_html5_video())"
      ],
      "metadata": {
        "id": "cfGgE5cNZzBu"
      },
      "execution_count": null,
      "outputs": []
    },
    {
      "cell_type": "code",
      "source": [
        "plt.plot(phi_set[:,M//2])"
      ],
      "metadata": {
        "id": "MxGT3wKsNYkJ",
        "outputId": "9e68e923-fc3a-4b6a-b7fb-36862ded1a8f",
        "colab": {
          "base_uri": "https://localhost:8080/",
          "height": 283
        }
      },
      "execution_count": 98,
      "outputs": [
        {
          "output_type": "execute_result",
          "data": {
            "text/plain": [
              "[<matplotlib.lines.Line2D at 0x7fa077e9ded0>]"
            ]
          },
          "metadata": {},
          "execution_count": 98
        },
        {
          "output_type": "display_data",
          "data": {
            "text/plain": [
              "<Figure size 432x288 with 1 Axes>"
            ],
            "image/png": "[encoded data removed]"
          },
          "metadata": {
            "needs_background": "light"
          }
        }
      ]
    }
  ]
}