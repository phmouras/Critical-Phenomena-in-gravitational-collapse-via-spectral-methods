{
  "nbformat": 4,
  "nbformat_minor": 0,
  "metadata": {
    "colab": {
      "name": "Eq_onda_matrix.ipynb",
      "provenance": [],
      "authorship_tag": "ABX9TyOFuC4gTW8VLdUBRDIYSFi9",
      "include_colab_link": true
    },
    "kernelspec": {
      "name": "python3",
      "display_name": "Python 3"
    },
    "language_info": {
      "name": "python"
    }
  },
  "cells": [
    {
      "cell_type": "markdown",
      "metadata": {
        "id": "view-in-github",
        "colab_type": "text"
      },
      "source": [
        "<a href=\"https://colab.research.google.com/github/phmouras/Projeto_Pos/blob/main/Eq_onda_matrix.ipynb\" target=\"_parent\"><img src=\"https://colab.research.google.com/assets/colab-badge.svg\" alt=\"Open In Colab\"/></a>"
      ]
    },
    {
      "cell_type": "code",
      "execution_count": 53,
      "metadata": {
        "colab": {
          "base_uri": "https://localhost:8080/"
        },
        "id": "uwHk8h0y8ZBF",
        "outputId": "cb7f27aa-6040-417e-a89f-87733c919a75"
      },
      "outputs": [
        {
          "output_type": "stream",
          "name": "stderr",
          "text": [
            "/usr/local/lib/python3.7/dist-packages/ipykernel_launcher.py:18: RuntimeWarning: divide by zero encountered in true_divide\n"
          ]
        }
      ],
      "source": [
        "import numpy as np\n",
        "import matplotlib.pyplot as plt\n",
        "import math\n",
        "from numpy import exp\n",
        "\n",
        "# Método pseudoespectral a qeuação da onda em 1 dimensão\n",
        "\n",
        "\n",
        "# tpsi + colpsi = 0;  unidimensional\n",
        "\n",
        "\n",
        "N = 20\n",
        "\n",
        "L0 = 1\n",
        "\n",
        "col = np.cos(np.arange(N)*math.pi / (N-1))     # pontos de colocação\n",
        "\n",
        "x = L0 * (col/(np.sqrt(1-col**2)))                   # mapeamento   \n",
        "\n",
        "xcol = 2*L0**2/((L0**2/x**2-1)**2*x**3)             # dcol/dx\n",
        "\n",
        "\n",
        "# Matriz base (Polinômios de Tchebyshev):\n",
        "\n",
        "T = np.zeros([N+2,N])\n",
        "xT = np.zeros([N+2,N])\n",
        "colT = np.zeros([N+2,N])\n",
        "\n",
        "\n",
        "T[0,] = 1\n",
        "T[1,] = col\n",
        "\n",
        "for i in range(2,N+2):\n",
        "  T[i,] = 2*col*T[i-1,] - T[i-2,]\n",
        "\n",
        "# Derivada Matriz Base:\n",
        "\n",
        "colT[0,] = 0\n",
        "colT[1,] = 1\n",
        "\n",
        "xT[0,] = xcol*colT[0,]\n",
        "xT[1,] = xcol*colT[1,]\n",
        "\n",
        "for i in range(2, N+2):\n",
        "  colT[i,] = 2*col*colT[i-1,] + 2*T[i-1,] - colT[i-2,]\n",
        "\n",
        "xT[i,] = xcol*colT[i,]                                                    # colT[i,] = dT[i,]/dcol, xcol = dcol/dx\n",
        "\n",
        "\n",
        "psi = T[0:N,:]   \n",
        "xpsi = xT[0:N,:]\n",
        "\n",
        "\n",
        "# Condicoes iniciais\n",
        "\n",
        "u = (0.3)**(1/2)\n",
        "\n",
        "\n",
        "f_0 = np.exp(-(x**2)/(u**2))              # dado inicial da  equação da onda\n",
        "\n",
        "\n",
        "\n",
        "inv_psi = np.linalg.inv(psi)\n",
        "  \n",
        "\n",
        "a0 = np.dot(f_0, inv_psi)  # coeficientes a(0)\n",
        "\n",
        "phi = np.dot(a0, psi)      # solução exata em t=0\n",
        "\n",
        "\n",
        "\n"
      ]
    },
    {
      "cell_type": "code",
      "source": [
        "f_0"
      ],
      "metadata": {
        "id": "csL9JvFldsPn",
        "outputId": "004dbbce-d1f7-4d12-d21a-cab5e273a11a",
        "colab": {
          "base_uri": "https://localhost:8080/"
        }
      },
      "execution_count": 54,
      "outputs": [
        {
          "output_type": "execute_result",
          "data": {
            "text/plain": [
              "array([0.00000000e+00, 1.02776595e-52, 5.20858765e-13, 1.14024066e-05,\n",
              "       4.07709580e-03, 5.93205903e-02, 2.41035355e-01, 5.26579942e-01,\n",
              "       8.07543094e-01, 9.77372689e-01, 9.77372689e-01, 8.07543094e-01,\n",
              "       5.26579942e-01, 2.41035355e-01, 5.93205903e-02, 4.07709580e-03,\n",
              "       1.14024066e-05, 5.20858765e-13, 1.02776595e-52, 0.00000000e+00])"
            ]
          },
          "metadata": {},
          "execution_count": 54
        }
      ]
    },
    {
      "cell_type": "code",
      "source": [
        "# Plot: Condições Iniciais\n",
        "\n",
        "M = 3000\n",
        "\n",
        "xplot = np.linspace(-30,30,M)\n",
        "\n",
        "colplot = np.tanh(xplot/L0)\n",
        "\n",
        "Tplot = np.zeros([N+2,M])\n",
        "\n",
        "Tplot[0,] = 1\n",
        "Tplot[1,] = colplot\n",
        "\n",
        "\n",
        "for i in range(2,N+2):\n",
        "  Tplot[i,] = 2*colplot*Tplot[i-1,] - Tplot[i-2,]\n",
        "\n",
        "\n",
        "psiplot = Tplot[0:N,:] \n",
        "\n",
        "\n",
        "f_plot0 = np.exp(-((xplot)**2)/(u)**2)    \n",
        "\n",
        "#dtf_plot0 = (2*(xplot))*np.exp(-(xplot)**2/u**2)/u**2 \n",
        "\n",
        "phiplot = np.dot(a0, psiplot)\n",
        "\n",
        "erro = abs(phiplot - f_plot0)\n",
        "\n",
        "#dtphiplot = np.dot(da, psiplot)\n",
        "#da01 = np.dot(dtf_k0, inv_psi)\n",
        "\n",
        "#dtfplot = (1-np.tanh((xplot-x0)/np.sqrt(-u**2+1))**2)*u/np.sqrt(-u**2+1)\n",
        "\n",
        "#dtphiplot = np.dot(da01, psiplot)\n",
        "\n",
        "np.shape(f_plot0)"
      ],
      "metadata": {
        "colab": {
          "base_uri": "https://localhost:8080/"
        },
        "id": "vcZ-O7WOKfA8",
        "outputId": "6d8865b6-e77b-4802-90e1-8c1b6e5a9a76"
      },
      "execution_count": 44,
      "outputs": [
        {
          "output_type": "execute_result",
          "data": {
            "text/plain": [
              "(3000,)"
            ]
          },
          "metadata": {},
          "execution_count": 44
        }
      ]
    },
    {
      "cell_type": "code",
      "source": [
        "plt.plot(colplot, phiplot, colplot, f_plot0, \"--r\")"
      ],
      "metadata": {
        "colab": {
          "base_uri": "https://localhost:8080/",
          "height": 302
        },
        "id": "tKKEdr_cLiHT",
        "outputId": "1939d822-29ca-4469-ffae-26900788141d"
      },
      "execution_count": 56,
      "outputs": [
        {
          "output_type": "execute_result",
          "data": {
            "text/plain": [
              "[<matplotlib.lines.Line2D at 0x7f043c920a50>,\n",
              " <matplotlib.lines.Line2D at 0x7f043c920c50>]"
            ]
          },
          "metadata": {},
          "execution_count": 56
        },
        {
          "output_type": "display_data",
          "data": {
            "text/plain": [
              "<Figure size 432x288 with 1 Axes>"
            ],
            "image/png": "[encoded data removed]"
          },
          "metadata": {
            "needs_background": "light"
          }
        }
      ]
    },
    {
      "cell_type": "code",
      "source": [
        "plt.plot(colplot, erro)"
      ],
      "metadata": {
        "colab": {
          "base_uri": "https://localhost:8080/",
          "height": 283
        },
        "id": "sQa2LJ8CNXOC",
        "outputId": "1045b4dd-0f06-4483-d48e-9c68b2e44b3e"
      },
      "execution_count": 52,
      "outputs": [
        {
          "output_type": "execute_result",
          "data": {
            "text/plain": [
              "[<matplotlib.lines.Line2D at 0x7f043d051190>]"
            ]
          },
          "metadata": {},
          "execution_count": 52
        },
        {
          "output_type": "display_data",
          "data": {
            "text/plain": [
              "<Figure size 432x288 with 1 Axes>"
            ],
            "image/png": "[encoded data removed]"
          },
          "metadata": {
            "needs_background": "light"
          }
        }
      ]
    },
    {
      "cell_type": "code",
      "source": [
        "h = 0.01\n",
        "tf = 100\n",
        "\n",
        "It = int(tf/h)\n",
        "\n",
        "t = np.linspace(0, tf, It)\n",
        "\n",
        "phi_set = np.zeros([It,M])\n",
        "\n",
        "#phi0_set = np.zeros([0,It])\n",
        "\n",
        "for i in range(It):  # Runge Kutta 4th order\n",
        "\n",
        "  da = np.dot(- np.dot(a0, xpsi), inv_psi) \n",
        "  K1 = h*(da)\n",
        "\n",
        "  da = np.dot(- np.dot(a0 + K1/2, xpsi), inv_psi) \n",
        "  K2 = h*(da)\n",
        "\n",
        "  da = np.dot(- np.dot(a0 + K2/2, xpsi), inv_psi)  \n",
        "  K3 = h*(da)\n",
        "\n",
        "  da = np.dot(- np.dot(a0 + K3, xpsi), inv_psi) \n",
        "  K4 = h*(da)\n",
        "  \n",
        "  a0 = a0 + 1/6 * (K1 + 2*K2 + 2*K3 + K4)\n",
        "  phi_set[i,:] = np.dot(a0, psiplot)\n",
        "\n",
        "\n"
      ],
      "metadata": {
        "id": "eI41xUXvNauB"
      },
      "execution_count": 47,
      "outputs": []
    },
    {
      "cell_type": "code",
      "source": [
        "plt.plot(xplot,phi_set[i,:])"
      ],
      "metadata": {
        "id": "5-P8LNyoeduO",
        "outputId": "2f502a77-f3f5-4114-d2bb-d47a26d9f8c1",
        "colab": {
          "base_uri": "https://localhost:8080/",
          "height": 283
        }
      },
      "execution_count": 50,
      "outputs": [
        {
          "output_type": "execute_result",
          "data": {
            "text/plain": [
              "[<matplotlib.lines.Line2D at 0x7f043d07b550>]"
            ]
          },
          "metadata": {},
          "execution_count": 50
        },
        {
          "output_type": "display_data",
          "data": {
            "text/plain": [
              "<Figure size 432x288 with 1 Axes>"
            ],
            "image/png": "[encoded data removed]"
          },
          "metadata": {
            "needs_background": "light"
          }
        }
      ]
    },
    {
      "cell_type": "code",
      "source": [
        "plt.plot(t, phi_set[:,M//2])"
      ],
      "metadata": {
        "id": "9NJLAncjQKkV",
        "outputId": "6a5079ae-c809-4071-b658-2a2f2101c0b5",
        "colab": {
          "base_uri": "https://localhost:8080/",
          "height": 283
        }
      },
      "execution_count": 48,
      "outputs": [
        {
          "output_type": "execute_result",
          "data": {
            "text/plain": [
              "[<matplotlib.lines.Line2D at 0x7f043cecaad0>]"
            ]
          },
          "metadata": {},
          "execution_count": 48
        },
        {
          "output_type": "display_data",
          "data": {
            "text/plain": [
              "<Figure size 432x288 with 1 Axes>"
            ],
            "image/png": "[encoded data removed]"
          },
          "metadata": {
            "needs_background": "light"
          }
        }
      ]
    },
    {
      "cell_type": "code",
      "source": [
        "\n",
        "for i in range(It):\n",
        "  plt.plot(xplot, phi_set[i,:])"
      ],
      "metadata": {
        "id": "BtKTH9Ym_edK",
        "outputId": "786eaf8f-0f83-4695-9a06-60ad88cd7e4d",
        "colab": {
          "base_uri": "https://localhost:8080/",
          "height": 265
        }
      },
      "execution_count": null,
      "outputs": [
        {
          "output_type": "display_data",
          "data": {
            "text/plain": [
              "<Figure size 432x288 with 1 Axes>"
            ],
            "image/png": "[encoded data removed]"
          },
          "metadata": {
            "needs_background": "light"
          }
        }
      ]
    },
    {
      "cell_type": "code",
      "source": [
        "from matplotlib import animation\n",
        "\n",
        "\n",
        "fig = plt.figure()\n",
        "ax = plt.axes(xlim=(-2, 2), ylim=(-2, 2))\n",
        "line, = ax.plot([], [], lw=2)\n",
        "\n",
        "def init():\n",
        "    line.set_data([], [])\n",
        "    return line,\n",
        "\n",
        "def animate(i):\n",
        "  x = np.linspace(-2, 2, 1000)\n",
        "  for i in range(It):\n",
        "    y = phi_set[i,:]\n",
        "    line.set_data(x, y)\n",
        "  \n",
        "  return line,\n",
        "\n",
        "anim = animation.FuncAnimation(fig, animate, init_func=init,\n",
        "                               frames=200, interval=20, blit=True)\n",
        "\n",
        "plt.show()"
      ],
      "metadata": {
        "id": "cfGgE5cNZzBu",
        "outputId": "6f180ad0-294f-4f32-cc50-3bd08d620c94",
        "colab": {
          "base_uri": "https://localhost:8080/",
          "height": 269
        }
      },
      "execution_count": 49,
      "outputs": [
        {
          "output_type": "display_data",
          "data": {
            "text/plain": [
              "<Figure size 432x288 with 1 Axes>"
            ],
            "image/png": "[encoded data removed]"
          },
          "metadata": {
            "needs_background": "light"
          }
        }
      ]
    }
  ]
}