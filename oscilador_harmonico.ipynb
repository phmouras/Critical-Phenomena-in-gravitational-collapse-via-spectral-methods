{
  "nbformat": 4,
  "nbformat_minor": 0,
  "metadata": {
    "colab": {
      "name": "RK4_1_domain.ipynb",
      "provenance": [],
      "authorship_tag": "ABX9TyNug0kUFCyu+udOAILaW+OW",
      "include_colab_link": true
    },
    "kernelspec": {
      "name": "python3",
      "display_name": "Python 3"
    },
    "language_info": {
      "name": "python"
    }
  },
  "cells": [
    {
      "cell_type": "markdown",
      "metadata": {
        "id": "view-in-github",
        "colab_type": "text"
      },
      "source": [
        "<a href=\"https://colab.research.google.com/github/phmouras/Projeto_Pos/blob/main/oscilador_harmonico.ipynb\" target=\"_parent\"><img src=\"https://colab.research.google.com/assets/colab-badge.svg\" alt=\"Open In Colab\"/></a>"
      ]
    },
    {
      "cell_type": "code",
      "execution_count": 4,
      "metadata": {
        "colab": {
          "base_uri": "https://localhost:8080/",
          "height": 245
        },
        "id": "8M5r8zd0269r",
        "outputId": "9fd433f2-256c-4155-d627-391a056f984f"
      },
      "outputs": [
        {
          "output_type": "error",
          "ename": "NameError",
          "evalue": "ignored",
          "traceback": [
            "\u001b[0;31m---------------------------------------------------------------------------\u001b[0m",
            "\u001b[0;31mNameError\u001b[0m                                 Traceback (most recent call last)",
            "\u001b[0;32m<ipython-input-4-63f337711a59>\u001b[0m in \u001b[0;36m<module>\u001b[0;34m()\u001b[0m\n\u001b[1;32m     28\u001b[0m   \u001b[0;32mreturn\u001b[0m \u001b[0my\u001b[0m\u001b[0;34m\u001b[0m\u001b[0;34m\u001b[0m\u001b[0m\n\u001b[1;32m     29\u001b[0m \u001b[0;34m\u001b[0m\u001b[0m\n\u001b[0;32m---> 30\u001b[0;31m \u001b[0msol\u001b[0m \u001b[0;34m=\u001b[0m \u001b[0mRK4\u001b[0m\u001b[0;34m(\u001b[0m\u001b[0meq_harmonic\u001b[0m\u001b[0;34m,\u001b[0m \u001b[0my\u001b[0m\u001b[0;34m[\u001b[0m\u001b[0;36m0\u001b[0m\u001b[0;34m]\u001b[0m\u001b[0;34m,\u001b[0m \u001b[0mt\u001b[0m\u001b[0;34m,\u001b[0m \u001b[0mw\u001b[0m\u001b[0;34m)\u001b[0m\u001b[0;34m\u001b[0m\u001b[0;34m\u001b[0m\u001b[0m\n\u001b[0m\u001b[1;32m     31\u001b[0m \u001b[0;34m\u001b[0m\u001b[0m\n\u001b[1;32m     32\u001b[0m \u001b[0;34m\u001b[0m\u001b[0m\n",
            "\u001b[0;31mNameError\u001b[0m: name 'y' is not defined"
          ]
        }
      ],
      "source": [
        "import math\n",
        "import numpy as np\n",
        "from scipy.integrate import solve_ivp\n",
        "import matplotlib.pyplot as plt\n",
        "\n",
        "t = np.linspace(0, 15, 1000)\n",
        "omega_sqr = 1\n",
        "#y = [0,2] # y[0] = x, y[1] = v\n",
        "\n",
        "def eq_harmonic(t,y):\n",
        "  solution = [y[1], -omega_sqr*y[0]]   #  dy/dt = [v, -w^2*x]\n",
        "  return solution\n",
        "\n",
        "#sol = solve_ivp(eq_harmonic, [0,1000], y0 = y, method = \"RK45\", t_eval = t)  # solve initial value problem\n",
        "\n",
        "\n",
        "def RK4(f, y0, t, *args):\n",
        "  n = len(t)\n",
        "  y = np.zeros((n, len(y0)))\n",
        "  y0 = y[0]\n",
        "  for i in range(n - 1):\n",
        "    h = t[i+1] - t[i]\n",
        "    k1 = f(y[i], t[i], *args)\n",
        "    k2 = f(y[i] + h/2 * k1, t[i] + h/2, *args)\n",
        "    k3 = f(y[i] + h/2 * k2, t[i] + h/2, *args)\n",
        "    k4 = f(y[i] + h * k3, t[i] + h, *args)\n",
        "    y[i+1] = y[i] + h/6 (k1 + 2*k2 + 2*k3 + k4)\n",
        "  return y\n",
        "\n",
        "sol = RK4(eq_harmonic, y0, t, w)\n",
        "\n",
        "\n",
        "\n",
        "\n",
        "\n",
        "\n",
        "\n",
        "\n",
        "#plt.plot(t, sol.y[0])\n",
        "#plt.title(\"Oscilador harmônico\")\n",
        "#plt.xlabel(\"Tempo (segundos)\")\n",
        "#plt.ylabel(\"Posição\")\n",
        "#plt.legend()\n",
        "#plt.show()\n",
        "\n"
      ]
    },
    {
      "cell_type": "code",
      "source": [
        "\n",
        "\n",
        "\n",
        "def f(t, y, b, c):\n",
        "  return array([y[1], -b*y[0] - c*np.sin(y[0])])\n",
        "\n",
        "\n",
        "\n"
      ],
      "metadata": {
        "id": "QLF6vSO6qBpz",
        "outputId": "3853d0db-cde7-436a-a531-82289f7a192f",
        "colab": {
          "base_uri": "https://localhost:8080/",
          "height": 35
        }
      },
      "execution_count": null,
      "outputs": [
        {
          "output_type": "display_data",
          "data": {
            "text/plain": [
              "<function __main__.f>"
            ]
          },
          "metadata": {}
        }
      ]
    }
  ]
}