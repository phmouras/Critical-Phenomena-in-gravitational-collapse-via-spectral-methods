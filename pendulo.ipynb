{
  "nbformat": 4,
  "nbformat_minor": 0,
  "metadata": {
    "colab": {
      "name": "pendulo.ipynb",
      "provenance": [],
      "authorship_tag": "ABX9TyMj1Tqas22/u0Cjtl6Nxc8M",
      "include_colab_link": true
    },
    "kernelspec": {
      "name": "python3",
      "display_name": "Python 3"
    },
    "language_info": {
      "name": "python"
    }
  },
  "cells": [
    {
      "cell_type": "markdown",
      "metadata": {
        "id": "view-in-github",
        "colab_type": "text"
      },
      "source": [
        "<a href=\"https://colab.research.google.com/github/phmouras/Projeto_Pos/blob/main/pendulo.ipynb\" target=\"_parent\"><img src=\"https://colab.research.google.com/assets/colab-badge.svg\" alt=\"Open In Colab\"/></a>"
      ]
    },
    {
      "cell_type": "code",
      "source": [
        "from sympy import symbols\n",
        "import numpy as np\n",
        "import matplotlib.pyplot as plt\n",
        "\n",
        "\n",
        "def pendulo(y, t, b, c):\n",
        "  return np.array([y[1], -b*y[0]])   \n",
        "\n",
        "b = 0.25\n",
        "y0 = np.array([np.pi - 0.1, 0.0]) #posição inicial\n",
        "\n",
        "\n",
        "\n",
        "t = np.linspace(0, 15, 101)"
      ],
      "metadata": {
        "id": "mZ5AqdTtpMKX"
      },
      "execution_count": 58,
      "outputs": []
    },
    {
      "cell_type": "code",
      "execution_count": 59,
      "metadata": {
        "id": "iPVwXwJ2npI0"
      },
      "outputs": [],
      "source": [
        "def RK4(f, y0, t, args=()):\n",
        "    n = len(t)\n",
        "    y = np.zeros((n, len(y0)))\n",
        "    y[0] = y0\n",
        "    h = 0.01 \n",
        "    for i in range(n - 1):\n",
        "        #h = t[i+1] - t[i]\n",
        "        k1 = f(y[i], t[i], *args)\n",
        "        k2 = f(y[i] + k1 * h / 2., t[i] + h / 2., *args)\n",
        "        k3 = f(y[i] + k2 * h / 2., t[i] + h / 2., *args)\n",
        "        k4 = f(y[i] + k3 * h, t[i] + h, *args)\n",
        "        y[i+1] = y[i] + (h / 6) * (k1 + 2*k2 + 2*k3 + k4)\n",
        "    return y\n"
      ]
    },
    {
      "cell_type": "code",
      "source": [
        "sol = RK4(pendulo, y0, t, args=(b,c))"
      ],
      "metadata": {
        "id": "0Cfj-sL6pi8G"
      },
      "execution_count": 60,
      "outputs": []
    },
    {
      "cell_type": "code",
      "source": [
        "plt.plot(t, sol[:,0], label = r\"$\\theta(t)$\")\n",
        "plt.title(\"Pêndulo\")\n",
        "plt.xlabel(\"Tempo (segundos)\")\n",
        "plt.legend()\n",
        "plt.show()"
      ],
      "metadata": {
        "colab": {
          "base_uri": "https://localhost:8080/",
          "height": 294
        },
        "id": "KvyautcQoQAw",
        "outputId": "af1dc90b-89fa-4c9e-fd84-facf7c6e7230"
      },
      "execution_count": 61,
      "outputs": [
        {
          "output_type": "display_data",
          "data": {
            "image/png": "[encoded data removed]",
            "text/plain": [
              "<Figure size 432x288 with 1 Axes>"
            ]
          },
          "metadata": {
            "needs_background": "light"
          }
        }
      ]
    }
  ]
}